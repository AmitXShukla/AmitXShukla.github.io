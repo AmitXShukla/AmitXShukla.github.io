{
 "cells": [
  {
   "cell_type": "markdown",
   "metadata": {},
   "source": [
    "## using Flutter webview with Angular, React, HTML, JavaScript - LOOM video messaging app\n",
    "---"
   ]
  },
  {
   "cell_type": "markdown",
   "metadata": {},
   "source": [
    "**Objective:** \n",
    "Angular, React, Vue and likewise JavaScript frameworks are no doubt most used technologies in building web, mobile, desktop and even native apps.\n",
    "Developers use Apache Cordova, PhoneGap, Ionic, React and NativeScript like approaches to build a mobile app for Android and iOS.\n",
    "\n",
    "In this tutorial, I will be using Flutter webview approach to connect and build multi-platform app.\n",
    "We will also discuss, how to create and sync Firebase transactions between Flutter and Angular apps.\n",
    "\n",
    "**Table of Contents:**\n",
    "- about this project, demo & source code\n",
    "- Flutter web-view\n",
    "- design considerations\n",
    "    + use CORS\n",
    "    + re-authenticate users\n",
    "    + auth tokens (JWT or Firebase auth tokens)\n",
    "- Angular app\n",
    "- Testing\n",
    "\n",
    "**Related Post:** How to publish Flutter app to Google Play Store\n",
    "\n",
    "---"
   ]
  },
  {
   "cell_type": "markdown",
   "metadata": {},
   "source": [
    "## about this project, demo & source code\n",
    "This HMS app is built in Flutter, Firebase.\n",
    "App allows a patient to update his/her personal data, take on-line appointments and view past OPD/IPD, Rx Prescriptions, vaccine records etc.\n",
    "\n",
    "This app also features a video messaging functionality, which is built using LOOM-SDK.\n",
    "Loom-SDK is npm package, Hence we build an Angular app to record and show patient video messages.\n",
    "\n",
    "Flutter webview, connects Angular App to main Flutter HMS application.\n",
    "\n",
    "[GitHub repository](https://github.com/AmitXShukla/Healthcare-Management-App-Flutter_Firebase)\n",
    "\n",
    "[demo video](https://github.com/AmitXShukla/Healthcare-Management-App-Flutter_Firebase)\n",
    "\n",
    "---"
   ]
  },
  {
   "cell_type": "markdown",
   "metadata": {},
   "source": [
    "## Flutter webview"
   ]
  },
  {
   "cell_type": "markdown",
   "metadata": {},
   "source": [
    "// update *pubspec.yaml* file, include webview_flutter package in your dependencies\n",
    "\n",
    "  ```\n",
    "  dependencies:\n",
    "  webview_flutter:\n",
    "  flutter:\n",
    "    sdk: flutter\n",
    "  ```"
   ]
  },
  {
   "cell_type": "markdown",
   "metadata": {},
   "source": [
    "// create a new dart file\n",
    " \n",
    "  ```\n",
    "  @override\n",
    "  void initState() {\n",
    "\n",
    "  // *AuthBloc is where you write your API/DB business logic*\n",
    "  AuthBloc authBloc = AuthBloc();\n",
    "  \n",
    "  // assuming you already have an Angular app running at localhost:4200\n",
    "  // UID is unique userID, passed as parameter\n",
    "  _url = \"http://localhost:4200/record/\" + authBloc.getUID();\n",
    "  \n",
    "  main();\n",
    "  super.initState();\n",
    "  }\n",
    "  ```"
   ]
  },
  {
   "cell_type": "markdown",
   "metadata": {},
   "source": [
    "// write a main function in same dart file\n",
    "```\n",
    "  void main() {\n",
    "    ui.platformViewRegistry.registerViewFactory(\n",
    "        'html-display',\n",
    "        (int viewId) => IFrameElement()\n",
    "          ..width = '640'\n",
    "          ..height = '600'\n",
    "          ..src = _url\n",
    "          ..style.border = 'none');\n",
    "  }\n",
    "  ```"
   ]
  },
  {
   "cell_type": "markdown",
   "metadata": {},
   "source": [
    "// include Column widget inside the widget where you wish to display Angular Webapp\n",
    "\n",
    "    ```\n",
    "    Column(\n",
    "        mainAxisSize: MainAxisSize.min,\n",
    "        children: <Widget>[\n",
    "                  Container(\n",
    "                    width: 600,\n",
    "                    height: 700,\n",
    "                    child: HtmlElementView(viewType: 'html-display'),\n",
    "                  )\n",
    "                ],\n",
    "        ),\n",
    "\n",
    "---"
   ]
  },
  {
   "cell_type": "markdown",
   "metadata": {},
   "source": [
    "## design considerations\n",
    "\n",
    "calling a webapp in Flutter using webview may seem intuitive at first,\n",
    "however, developers must use caution and follow best practices.\n",
    "\n",
    "+ CORS - cross origin requests\n",
    "    - make sure, web apps setup appropriate CORs to secure data access\n",
    "+ re-authenticate or pass auth tokens (JWT or Firebase auth tokens)\n",
    "    - make sure, developers pass appropriate auth tokens to validate user access.\n",
    "    - in above example, passing UID as parameters, is easily hackable"
   ]
  },
  {
   "cell_type": "markdown",
   "metadata": {},
   "source": []
  },
  {
   "cell_type": "markdown",
   "metadata": {},
   "source": [
    "## Angular App\n",
    "\n",
    "An Angular app with two routes is created to display content.const routes: \n",
    "\n",
    "[GitHub source code](https://github.com/AmitXShukla/Healthcare-Management-App-Flutter_Firebase/tree/master/loom-angular-app)\n",
    "\n",
    "```\n",
    "Routes = [\n",
    "  { path: '', redirectTo: '/record', pathMatch: 'full' },\n",
    "  { path: 'record/:id', component: RecordComponent },\n",
    "  { path: 'messages/:id', component: MessagesComponent },\n",
    "];\n",
    "```"
   ]
  },
  {
   "cell_type": "markdown",
   "metadata": {},
   "source": []
  }
 ],
 "metadata": {
  "kernelspec": {
   "display_name": "Julia 1.7.1",
   "language": "julia",
   "name": "julia-1.7"
  },
  "language_info": {
   "file_extension": ".jl",
   "mimetype": "application/julia",
   "name": "julia",
   "version": "1.7.1"
  }
 },
 "nbformat": 4,
 "nbformat_minor": 4
}
