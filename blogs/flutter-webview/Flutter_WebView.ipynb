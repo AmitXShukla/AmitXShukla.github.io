{
 "cells": [
  {
   "cell_type": "markdown",
   "metadata": {},
   "source": [
    "## using Flutter webview with Angular, React, HTML, JavaScript - LOOM video messaging app\n",
    "---"
   ]
  },
  {
   "cell_type": "markdown",
   "metadata": {},
   "source": [
    "**Objective:** \n",
    "Angular, React, Vue and likewise JaveScript frameworks are no doubt champion technoligies in building web, mobile, desktop and even native apps.\n",
    "Developers further use Apache Cordova, PhoneGap, Ionic, React and NativeScript like approaches to build a mobile app for Android and iOS.\n",
    "\n",
    "In this tutorial, I will be using Flutter webview approach to connect and build multiplatform app.\n",
    "We will also discuss, how to  create and sync Firebase transactions between Flutter and Angular apps.\n",
    "\n",
    "**Table of Contents:**\n",
    "- product demo & source code\n",
    "- Flutter web-view\n",
    "- design donsiderations\n",
    "    + use CORS\n",
    "    + re-authenticate users\n",
    "    + auth tokens (JWT or Firebase auth tokens)\n",
    "- Angular app\n",
    "- Testing\n",
    "---"
   ]
  },
  {
   "cell_type": "markdown",
   "metadata": {},
   "source": [
    "## product demo & source code\n",
    "[GitHub repository](https://github.com/AmitXShukla/Healthcare-Management-App-Flutter_Firebase)\n",
    "\n",
    "[demo video](https://github.com/AmitXShukla/Healthcare-Management-App-Flutter_Firebase)\n",
    "\n",
    "---\n",
    "## Flutter webview"
   ]
  },
  {
   "cell_type": "raw",
   "metadata": {},
   "source": [
    "// pubspec.yaml file\n",
    "\n",
    "  dependencies:\n",
    "  webview_flutter:\n",
    "  flutter:\n",
    "    sdk: flutter"
   ]
  }
 ],
 "metadata": {
  "kernelspec": {
   "display_name": "Julia nodeps 1.6.0",
   "language": "julia",
   "name": "julia-nodeps-1.6"
  },
  "language_info": {
   "file_extension": ".jl",
   "mimetype": "application/julia",
   "name": "julia",
   "version": "1.6.0"
  }
 },
 "nbformat": 4,
 "nbformat_minor": 4
}
