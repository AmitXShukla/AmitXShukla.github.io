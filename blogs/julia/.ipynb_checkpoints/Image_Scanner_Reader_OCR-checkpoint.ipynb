{
 "cells": [
  {
   "cell_type": "markdown",
   "id": "f8360888",
   "metadata": {},
   "source": [
    "# Using Julia to scan Image, PDF and Parse XML JSON"
   ]
  },
  {
   "cell_type": "markdown",
   "id": "96b28526",
   "metadata": {},
   "source": [
    "Most of the data providers offer data downloads in multiple formats such as csv, txt etc.\n",
    "likewise JSON and XML are preferred data structure choices in REST APIs.\n",
    "\n",
    "There are cases when user want to scrap data from websites, and/or download scanned images in PDF and read, store text from PDF documents.\n",
    "\n",
    "In this notebook, we will discuss, how to read text from PDF documents and parse XML, JSON data from Rest APIs.\n",
    "\n",
    "**Related blog:** [Web Scrapping data](https://amit-shukla.medium.com/web-scrapping-web-automation-using-julia-language-2c473db84fbc)\n",
    "\n",
    "before we look at sample JSON and XML objects, let's learn about ORM first.\n",
    "\n",
    "Object Relational Mapping, ORM is a technique which let user think in terms of object oriented terminology.\n",
    "\n",
    "When a developer is working on code, they often see data in terms of objects, and same objects are used to read/write these data in databases.\n",
    "ORM is more of concept than library for a programming language, which means, developer use ORM concepts to convert OOPs objects to database objects using relational mapping.\n",
    "\n",
    "We will learn ORM techniques, which are used to convert JSON/XML to Code OOPs Objects, where you can further apply classes, methods object oriented concepts directly and other way around."
   ]
  },
  {
   "cell_type": "code",
   "execution_count": 5,
   "id": "d943c944",
   "metadata": {},
   "outputs": [
    {
     "name": "stderr",
     "output_type": "stream",
     "text": [
      "\u001b[32m\u001b[1m    Updating\u001b[22m\u001b[39m registry at `~/.julia/registries/General`\n",
      "\u001b[32m\u001b[1m    Updating\u001b[22m\u001b[39m git-repo `https://github.com/JuliaRegistries/General.git`\n",
      "\u001b[32m\u001b[1m   Resolving\u001b[22m\u001b[39m package versions...\n",
      "\u001b[32m\u001b[1m  No Changes\u001b[22m\u001b[39m to `~/.julia/environments/v1.7/Project.toml`\n",
      "\u001b[32m\u001b[1m  No Changes\u001b[22m\u001b[39m to `~/.julia/environments/v1.7/Manifest.toml`\n",
      "\u001b[32m\u001b[1m   Resolving\u001b[22m\u001b[39m package versions...\n",
      "\u001b[32m\u001b[1m  No Changes\u001b[22m\u001b[39m to `~/.julia/environments/v1.7/Project.toml`\n",
      "\u001b[32m\u001b[1m  No Changes\u001b[22m\u001b[39m to `~/.julia/environments/v1.7/Manifest.toml`\n",
      "\u001b[32m\u001b[1m   Resolving\u001b[22m\u001b[39m package versions...\n",
      "\u001b[32m\u001b[1m   Installed\u001b[22m\u001b[39m RomanNumerals ── v0.3.3\n",
      "\u001b[32m\u001b[1m   Installed\u001b[22m\u001b[39m LabelNumerals ── v0.1.1\n",
      "\u001b[32m\u001b[1m   Installed\u001b[22m\u001b[39m Primes ───────── v0.5.1\n",
      "\u001b[32m\u001b[1m   Installed\u001b[22m\u001b[39m Rectangle ────── v0.1.2\n",
      "\u001b[32m\u001b[1m   Installed\u001b[22m\u001b[39m AdobeGlyphList ─ v0.1.2\n",
      "\u001b[32m\u001b[1m   Installed\u001b[22m\u001b[39m BinDeps ──────── v1.0.2\n",
      "\u001b[32m\u001b[1m   Installed\u001b[22m\u001b[39m OpenSSL_jll ──── v1.1.14+0\n",
      "\u001b[32m\u001b[1m   Installed\u001b[22m\u001b[39m PDFIO ────────── v0.1.13\n",
      "\u001b[32m\u001b[1m    Updating\u001b[22m\u001b[39m `~/.julia/environments/v1.7/Project.toml`\n",
      " \u001b[90m [4d0d745f] \u001b[39m\u001b[92m+ PDFIO v0.1.13\u001b[39m\n",
      "\u001b[32m\u001b[1m    Updating\u001b[22m\u001b[39m `~/.julia/environments/v1.7/Manifest.toml`\n",
      " \u001b[90m [715cd884] \u001b[39m\u001b[92m+ AdobeGlyphList v0.1.2\u001b[39m\n",
      " \u001b[90m [9e28174c] \u001b[39m\u001b[92m+ BinDeps v1.0.2\u001b[39m\n",
      " \u001b[90m [2e475f56] \u001b[39m\u001b[92m+ LabelNumerals v0.1.1\u001b[39m\n",
      " \u001b[90m [4d0d745f] \u001b[39m\u001b[92m+ PDFIO v0.1.13\u001b[39m\n",
      " \u001b[90m [27ebfcd6] \u001b[39m\u001b[92m+ Primes v0.5.1\u001b[39m\n",
      " \u001b[90m [9a9db56c] \u001b[39m\u001b[92m+ Rectangle v0.1.2\u001b[39m\n",
      " \u001b[90m [37834d88] \u001b[39m\u001b[92m+ RomanNumerals v0.3.3\u001b[39m\n",
      " \u001b[90m [30578b45] \u001b[39m\u001b[92m+ URIParser v0.4.1\u001b[39m\n",
      " \u001b[90m [458c3c95] \u001b[39m\u001b[92m+ OpenSSL_jll v1.1.14+0\u001b[39m\n",
      "\u001b[32m\u001b[1m    Building\u001b[22m\u001b[39m PDFIO → `~/.julia/scratchspaces/44cfe95a-1eb2-52ea-b672-e2afdf69b78f/27717ab65439d0577c0c4bdf8b5e8cee0c7519b7/build.log`\n",
      "\u001b[32m\u001b[1mPrecompiling\u001b[22m\u001b[39m project...\n",
      "\u001b[32m  ✓ \u001b[39m\u001b[90mAdobeGlyphList\u001b[39m\n",
      "\u001b[32m  ✓ \u001b[39m\u001b[90mPrimes\u001b[39m\n",
      "\u001b[32m  ✓ \u001b[39m\u001b[90mOpenSSL_jll\u001b[39m\n",
      "\u001b[32m  ✓ \u001b[39m\u001b[90mRomanNumerals\u001b[39m\n",
      "\u001b[32m  ✓ \u001b[39m\u001b[90mLabelNumerals\u001b[39m\n",
      "\u001b[32m  ✓ \u001b[39m\u001b[90mRectangle\u001b[39m\n",
      "\u001b[32m  ✓ \u001b[39mPDFIO\n",
      "  7 dependencies successfully precompiled in 9 seconds (79 already precompiled)\n",
      "\u001b[32m\u001b[1m   Resolving\u001b[22m\u001b[39m package versions...\n",
      "\u001b[32m\u001b[1m    Updating\u001b[22m\u001b[39m `~/.julia/environments/v1.7/Project.toml`\n",
      " \u001b[90m [8f5d6c58] \u001b[39m\u001b[92m+ EzXML v1.1.0\u001b[39m\n",
      "\u001b[32m\u001b[1m    Updating\u001b[22m\u001b[39m `~/.julia/environments/v1.7/Manifest.toml`\n",
      " \u001b[90m [8f5d6c58] \u001b[39m\u001b[92m+ EzXML v1.1.0\u001b[39m\n",
      " \u001b[90m [94ce4f54] \u001b[39m\u001b[92m+ Libiconv_jll v1.16.1+1\u001b[39m\n",
      " \u001b[90m [02c8fc9c] \u001b[39m\u001b[92m+ XML2_jll v2.9.12+0\u001b[39m\n"
     ]
    }
   ],
   "source": [
    "import Pkg\n",
    "Pkg.add(\"JSON3\")\n",
    "Pkg.add(\"JSONTables\")\n",
    "Pkg.add(\"PDFIO\")\n",
    "Pkg.add(\"EzXML\")"
   ]
  },
  {
   "cell_type": "raw",
   "id": "a3b5bc79",
   "metadata": {},
   "source": [
    "#########################\n",
    "## sample json example ##\n",
    "#########################\n",
    "        {\n",
    "          \"text\": \"WBE\",\n",
    "          \"confidence\": 0.6045232,\n",
    "          \"boundingPolygon\": {\n",
    "            \"normalizedVertices\": [\n",
    "              {\n",
    "                \"x\": 0.05408606395578366,\n",
    "                \"y\": 0.053783044667274384\n",
    "              }\n",
    "            ]\n",
    "          }\n",
    "        },"
   ]
  },
  {
   "cell_type": "code",
   "execution_count": 24,
   "id": "f158d69d",
   "metadata": {},
   "outputs": [
    {
     "data": {
      "text/plain": [
       "11357-element Vector{String}:\n",
       " \"{\"\n",
       " \"  \\\"documentMetadata\\\": {\"\n",
       " \"    \\\"pageCount\\\": 2,\"\n",
       " \"    \\\"mimeType\\\": \\\"application/pdf\\\"\"\n",
       " \"  },\"\n",
       " \"  \\\"pages\\\": [\"\n",
       " \"    {\"\n",
       " \"      \\\"pageNumber\\\": 1,\"\n",
       " \"      \\\"dimensions\\\": {\"\n",
       " \"        \\\"width\\\": 2533,\"\n",
       " \"        \\\"height\\\": 3291,\"\n",
       " \"        \\\"unit\\\": \\\"PIXEL\\\"\"\n",
       " \"      },\"\n",
       " ⋮\n",
       " \"  \\\"errors\\\": [\"\n",
       " \"    {\"\n",
       " \"      \\\"code\\\": \\\"FEATURE_NOT_SUPPORTED\\\",\"\n",
       " \"      \\\"message\\\": \\\"[Page 1] KeyV\" ⋯ 24 bytes ⋯ \"orted on non-receipt document.\\\"\"\n",
       " \"    },\"\n",
       " \"    {\"\n",
       " \"      \\\"code\\\": \\\"FEATURE_NOT_SUPPORTED\\\",\"\n",
       " \"      \\\"message\\\": \\\"[Page 2] KeyV\" ⋯ 24 bytes ⋯ \"orted on non-receipt document.\\\"\"\n",
       " \"    }\"\n",
       " \"  ],\"\n",
       " \"  \\\"searchablePdf\\\": \\\"...\\\"\"\n",
       " \"}\""
      ]
     },
     "execution_count": 24,
     "metadata": {},
     "output_type": "execute_result"
    }
   ],
   "source": [
    "js = readlines(\"./json_file.json\")\n",
    "# readdir()"
   ]
  },
  {
   "cell_type": "code",
   "execution_count": 25,
   "id": "d8362b3c",
   "metadata": {},
   "outputs": [],
   "source": [
    "using JSONTables, DataFrames, JSON3"
   ]
  },
  {
   "cell_type": "code",
   "execution_count": 19,
   "id": "3fc5aa88",
   "metadata": {},
   "outputs": [
    {
     "ename": "LoadError",
     "evalue": "MethodError: no method matching read(::Vector{String})\n\u001b[0mClosest candidates are:\n\u001b[0m  read(\u001b[91m::Union{Base.AbstractCmd, IO}\u001b[39m; kw...) at ~/.julia/packages/JSON3/jf4oo/src/read.jl:9\n\u001b[0m  read(\u001b[91m::IO\u001b[39m, \u001b[91m::Type{T}\u001b[39m; kw...) where T at ~/.julia/packages/JSON3/jf4oo/src/structs.jl:13\n\u001b[0m  read(\u001b[91m::AbstractVector{UInt8}\u001b[39m; kw...) at ~/.julia/packages/JSON3/jf4oo/src/read.jl:10\n\u001b[0m  ...",
     "output_type": "error",
     "traceback": [
      "MethodError: no method matching read(::Vector{String})\n\u001b[0mClosest candidates are:\n\u001b[0m  read(\u001b[91m::Union{Base.AbstractCmd, IO}\u001b[39m; kw...) at ~/.julia/packages/JSON3/jf4oo/src/read.jl:9\n\u001b[0m  read(\u001b[91m::IO\u001b[39m, \u001b[91m::Type{T}\u001b[39m; kw...) where T at ~/.julia/packages/JSON3/jf4oo/src/structs.jl:13\n\u001b[0m  read(\u001b[91m::AbstractVector{UInt8}\u001b[39m; kw...) at ~/.julia/packages/JSON3/jf4oo/src/read.jl:10\n\u001b[0m  ...",
      "",
      "Stacktrace:",
      " [1] jsontable(source::Vector{String})",
      "   @ JSONTables ~/.julia/packages/JSONTables/EZWPP/src/JSONTables.jl:15",
      " [2] top-level scope",
      "   @ In[19]:2",
      " [3] eval",
      "   @ ./boot.jl:373 [inlined]",
      " [4] include_string(mapexpr::typeof(REPL.softscope), mod::Module, code::String, filename::String)",
      "   @ Base ./loading.jl:1196"
     ]
    }
   ],
   "source": [
    "# js = read(\"json_file.json\", String)\n",
    "jtable = jsontable(js)\n",
    "df = DataFrame(jtable)\n",
    "df[:,[:1,:2]]"
   ]
  },
  {
   "cell_type": "code",
   "execution_count": 58,
   "id": "f41918f7",
   "metadata": {},
   "outputs": [
    {
     "data": {
      "text/plain": [
       "21-element Vector{String}:\n",
       " \"WBE\"\n",
       " \"W.\"\n",
       " \"Bradley\"\n",
       " \"Electric\"\n",
       " \"Inc.\"\n",
       " \"Date:\"\n",
       " \"11/16/21\"\n",
       " \"90\"\n",
       " \"Hill\"\n",
       " \"Road\"\n",
       " \"To\"\n",
       " \"us,\"\n",
       " \"It's\"\n",
       " \"About\"\n",
       " \"People\"\n",
       " \"Novato,\"\n",
       " \"CA\"\n",
       " \"94945\"\n",
       " \"Fax\"\n",
       " \"(415)\"\n",
       " \"898-5991\""
      ]
     },
     "execution_count": 58,
     "metadata": {},
     "output_type": "execute_result"
    }
   ],
   "source": [
    "collect(df[:,:1])"
   ]
  },
  {
   "cell_type": "code",
   "execution_count": null,
   "id": "1a608fc3",
   "metadata": {},
   "outputs": [],
   "source": []
  }
 ],
 "metadata": {
  "kernelspec": {
   "display_name": "Julia (4 threads) 1.7.0",
   "language": "julia",
   "name": "julia-(4-threads)-1.7"
  },
  "language_info": {
   "file_extension": ".jl",
   "mimetype": "application/julia",
   "name": "julia",
   "version": "1.7.0"
  },
  "toc": {
   "base_numbering": 1,
   "nav_menu": {},
   "number_sections": true,
   "sideBar": true,
   "skip_h1_title": false,
   "title_cell": "Table of Contents",
   "title_sidebar": "Contents",
   "toc_cell": false,
   "toc_position": {},
   "toc_section_display": true,
   "toc_window_display": false
  }
 },
 "nbformat": 4,
 "nbformat_minor": 5
}
