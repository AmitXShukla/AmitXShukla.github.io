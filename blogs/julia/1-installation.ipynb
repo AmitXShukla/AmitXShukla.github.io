{
 "cells": [
  {
   "cell_type": "markdown",
   "metadata": {},
   "source": [
    "# setup local machine, iPad, Android tablets for Julia Lang Data Science computing\n",
    "\n",
    "**Author:** Amit Shukla\n",
    "\n",
    "https://github.com/AmitXShukla"
   ]
  },
  {
   "cell_type": "markdown",
   "metadata": {},
   "source": [
    "iPad is next computer and Julia Lang is next big thing in high speed parallel, distributed & async numerical computing. \n",
    "\n",
    "In this blog, I'm sharing, how I setup my iPad as primary developer machine to run heavy data science numerical computing over cloud VMs.\n",
    "\n",
    "**how to install & access Julia, Jupyter, Pluto, VSCode on local & Cloud VMs.**\n",
    "\n",
    "*These hacks are for people like me, who wake up middle of night and expect a Julia notebook ready in less than 10 seconds on their mobile device.*\n",
    "\n",
    "**Topics**\n",
    "1. how to install Julia on local windows, mac, linux\n",
    "2. how to install Julia on Cloud Windows VM\n",
    "3. how to install Julia on Cloud Linux VM\n",
    "4. run Julia REPL on Cloud Windows, Linux VMs through SSH client\n",
    "5. run Pluto or Jupyter notebooks on VM servers and access from remote Browser, iPad or Android tablets\n",
    "6. use GitHub to sync your work\n",
    "7. run VS Code on iPad/Tablet devices\n",
    "8. Understanding Julia Project, Application, Environment, Package\n",
    "---"
   ]
  },
  {
   "cell_type": "markdown",
   "metadata": {},
   "source": [
    "\n",
    "## 1. how to install Julia on local windows, mac, linux\n",
    "\n",
    "it takes less than one minute to install and start with Julia.\n",
    "\n",
    "[click here to download Julia Language binaries](https://julialang.org/downloads/)\n",
    "\n",
    "\n",
    "Extract zip file contents to any folder on your local machine and change Windows/Mac/Linux environment variables/system Path to find Julia.exe on this folder.\n",
    "\n",
    "*for example*\n",
    "\n",
    "+ Windows\n",
    "\t$env:PATH\n",
    "\tC:\\amit\\julia-1.5.2\\bin\n",
    "\n",
    "+ Linux/mac\n",
    "\texport PATH=$PATH:/place/with/the/julia-1.5.2/bin\n",
    "    \n",
    "![Windows environment variable](https://raw.githubusercontent.com/AmitXShukla/AmitXShukla.github.io/master/blogs/julia/images/windows_env.png)\n",
    "\n",
    "+ now open a terminal window and type\n",
    "\tjulia\n",
    "\n",
    "if all is well, you should have a working Julia session as shown below\n",
    "\n",
    "![Julia Terminal window](https://raw.githubusercontent.com/AmitXShukla/AmitXShukla.github.io/master/blogs/julia/images/julia_prompt.png)\n",
    "\n",
    "---"
   ]
  },
  {
   "cell_type": "markdown",
   "metadata": {},
   "source": [
    "## 2. how to install Julia on Cloud Windows VM\n",
    "\n",
    "Before you begin\n",
    "\n",
    "Make sure that billing is enabled for your Google Cloud Platform project. open [Google Cloud](https://console.cloud.google.com).\n",
    "\n",
    "\tbrowse to Compute Engine -> VM Instances -> New VM Instance\n",
    "\n",
    "**Let's spin a moderate size windows compute Optimized VM in Google cloud**\n",
    "\n",
    "![Google cloud Windows VM](https://raw.githubusercontent.com/AmitXShukla/AmitXShukla.github.io/master/blogs/julia/images/windows_vm.png)\n",
    "\n",
    "\n",
    "**Once Google VM is installed, please start the machine and setup windows password**\n",
    "\n",
    "![Google cloud Windows VM](https://raw.githubusercontent.com/AmitXShukla/AmitXShukla.github.io/master/blogs/julia/images/windows_vm_start.png)\n",
    "\n",
    "**Connecting from local windows machine to this Cloud Windows VM**\n",
    "\n",
    "![Google cloud Windows VM](https://raw.githubusercontent.com/AmitXShukla/AmitXShukla.github.io/master/blogs/julia/images/windows_vm_connect.png)\n",
    "\n",
    "**Use your iPAD to connect to Google Cloud Windows VM**\n",
    "\n",
    "![Google cloud Windows VM](https://raw.githubusercontent.com/AmitXShukla/AmitXShukla.github.io/master/blogs/julia/images/windows_vm_ipad.png)\n",
    "\n",
    "<font color=green size=+1>Once your windows server is up and running, follow Section #1 (see above) for Julia Lang installation.</font>\n",
    "\n",
    "**Don't forget to STOP your windows VM when you finish.**\n",
    "\n",
    "![Google cloud Windows VM](https://raw.githubusercontent.com/AmitXShukla/AmitXShukla.github.io/master/blogs/julia/images/windows_vm_stop.png)\n",
    "\n",
    "---"
   ]
  },
  {
   "cell_type": "markdown",
   "metadata": {},
   "source": [
    "## 3. how to install Julia on Cloud Linux VM\n",
    "\n",
    "Before you begin\n",
    "\n",
    "Make sure that billing is enabled for your Google Cloud Platform project. open [Google Cloud](https://console.cloud.google.com).\n",
    "\n",
    "\tbrowse to Compute Engine -> VM Instances -> New VM Instance\n",
    "\n",
    "Let's spin a moderate size Linux compute Optimized VM in Google cloud\n",
    "\n",
    "![Google cloud Windows VM](https://raw.githubusercontent.com/AmitXShukla/AmitXShukla.github.io/master/blogs/julia/images/linux_vm.png)\n",
    "\n",
    "If you want a complete Linux desktop experience, please follow this blog.\n",
    "\n",
    "[Detail instuctions - How to Install Debian 10 (Buster) or Ubuntu 18/19 Desktop on Google Cloud and access through VNC](https://medium.com/@Amit_Shukla/how-to-install-debian-10-buster-or-ubuntu-18-19-desktop-on-google-cloud-and-access-through-vnc-687c05d0d263)\n",
    "\n",
    "<font color=green size=+1>Once your Linux VM server is up and running, follow Section #1 (see above) for Julia Lang installation.</font>\n",
    "\n",
    "---"
   ]
  },
  {
   "cell_type": "markdown",
   "metadata": {},
   "source": [
    "## 4. run Julia REPL on Cloud Windows, Linux VMs through SSH client\n",
    "\n",
    "download Julia binaries and setup system PATH as discussed in Section #1 above.\n",
    "\n",
    "- Linux/mac export PATH=$PATH:/place/with/the/julia-1.5.2/bin\n",
    "\n",
    "On **Windows cloud VM**, this is simple setup, open PORT:1234 for remote acceess.\n",
    "\n",
    "On **Linux cloud VM**, User will need set up an SSH tunnel.\n",
    "\n",
    "- local computer - download putty\n",
    "- Google Cloud- open [Google Cloud](https://console.cloud.google.com). click on SSH, this will open a SSH inside browser pop-up window.\n",
    "\n",
    "First, log in to your server using SSH and start a Pluto server. Then open a local terminal on your own computer and type:"
   ]
  },
  {
   "cell_type": "raw",
   "metadata": {},
   "source": [
    "ssh userid@vmipaddress -LN 1234:localhost:1234"
   ]
  },
  {
   "cell_type": "markdown",
   "metadata": {},
   "source": [
    "---\n",
    "\n",
    "## 5. How to run & access Jupyter & Pluto notebook through remote browser\n",
    "\n",
    "You can run Jupyter notebook or Pluto on a Windows/Linux VM and use the browser on your own computer or mobile device as user interface.\n",
    "\n",
    "I'll split this section in two part, Jupyter and Pluto, let's get started with Jupyter first.\n",
    "#### 5a. How to run & access Jupyter notebook through remote browser\n",
    "\n",
    "\n"
   ]
  },
  {
   "cell_type": "markdown",
   "metadata": {},
   "source": [
    "#### 5b. How to run & access Pluto notebook through remote browser"
   ]
  },
  {
   "cell_type": "markdown",
   "metadata": {},
   "source": [
    "---\n",
    "\n",
    "*SSH Tunnel create a pathway to access your remote cloud VM server*\n",
    "\n",
    "**SSH tunnel high level diagram**\n",
    "\n",
    "![high level SSH diagram](https://raw.githubusercontent.com/AmitXShukla/AmitXShukla.github.io/master/blogs/julia/images/ssh_tunnel.png)"
   ]
  },
  {
   "cell_type": "markdown",
   "metadata": {},
   "source": [
    "## 5a. How to run & access Jupyter notebook through remote browser\n",
    "\n",
    "on your server, first start Jupyter environment using this command"
   ]
  },
  {
   "cell_type": "raw",
   "metadata": {},
   "source": [
    "Julia > Using Pkg; \n",
    "        Pkg.add(\"IJulia\");\n",
    "        using IJulia;\n",
    "        installkernel(\"Julia (4 threads)\", env=Dict(\"JULIA_NUM_THREADS\"=>\"4\"))\n",
    "            # JULIA_NUM_THREADS should be cores available as per your machine\n",
    "        jupyterlab();\n",
    "or\n",
    "\n",
    "jupyter notebook --no-browser --port 1234\n",
    "\n",
    "# above command will start a notebook server with URL like http://localhost:8888/?token=abc123........"
   ]
  },
  {
   "cell_type": "markdown",
   "metadata": {},
   "source": [
    "- Access Jupyter notebook on Linux cloud VM\n",
    "\n",
    "on your SSH window, type one of following commands"
   ]
  },
  {
   "cell_type": "raw",
   "metadata": {},
   "source": [
    "ssh -L 1234:localhost:1234 username@xxx.xx.xx.xx\n",
    "ssh -L 1234:localhost:1234 -i /path/to/private_key"
   ]
  },
  {
   "cell_type": "markdown",
   "metadata": {},
   "source": [
    "- Access Jupyter notebook on Windows cloud VM\n",
    "\n",
    "**download and setup putty like this**\n",
    "\n",
    "![setup putty to access windows vm](https://raw.githubusercontent.com/AmitXShukla/AmitXShukla.github.io/master/blogs/julia/images/putty.png)"
   ]
  },
  {
   "cell_type": "markdown",
   "metadata": {},
   "source": [
    "## 5b. How to run & access Pluto notebook through remote browser\n",
    "\n",
    "on your server, type following commands"
   ]
  },
  {
   "cell_type": "raw",
   "metadata": {},
   "source": [
    "Julia > Using Pkg; \n",
    "        Pkg.add(\"Pluto\")\n",
    "        Pluto.CONFIG[\"PLUTO_RUN_NOTEBOOK_ON_LOAD\"] = \"false\" Pluto.ENV_DEFAULTS[\"PLUTO_RUN_NOTEBOOK_ON_LOAD\"] = \"false\"\n",
    "            # above command is optional and prevent notebook to auto-run on load\n",
    "        Pluto.run(; launch_browser: \"false\", host: \"0.0.0.0\", port: 1234)\n",
    "        \n",
    "# above commands will start Pluto on http://[cloudvmipaddress]:[port]/\n",
    "\n",
    "or\n",
    "        \n",
    "# alternate, like Jupyter, you can always access your Pluto notebook through SSH terminal as well\n",
    "ssh user@ipaddress -LN 1234:localhost:1234"
   ]
  },
  {
   "cell_type": "markdown",
   "metadata": {},
   "source": [
    "\n",
    "---\n",
    "\n",
    "\n",
    "## 6. use GitHub to sync your work\n",
    "\n",
    "This section is just to remind you that using GitHub repositories saves you tons of re-work.\n",
    "You can setup projects and sync your code across devices among teams.\n",
    "\n",
    "Please check out this video playlist if you are new to GitHub to learn more.\n",
    "\n",
    "[GitHub Video Tutorials](https://www.youtube.com/playlist?list=PLp0TENYyY8lFMOKZ9CSWto-BizmCyokib)\n",
    "\n",
    "---\n"
   ]
  },
  {
   "cell_type": "markdown",
   "metadata": {},
   "source": [
    "## 7. run VS Code on iPad/Tablet devices using coder-server\n",
    "\n",
    "\n",
    "- Step 1: You should already have a cloud Linux VM. (see Section #3 above)\n",
    "- Step 2: login into your cloud VM through SSH (see Section #4 above)\n",
    "- Step 3: type below commands one by one in SSH window\n"
   ]
  },
  {
   "cell_type": "raw",
   "metadata": {},
   "source": [
    "wget https://github.com/cdr/code-server/releases/download/v3.7.1/code-server-3.7.1-linux-arm64.tar.gz\n",
    "    # above command will download latest copy of code-server binaries, \n",
    "    # https://github.com/cdr/code-server/releases. change the binaries version to latest available release as per your machine configuration\n",
    "tar -xvf ./code-server-3.7.1-linux-arm64.tar.gz coder\n",
    "    # above command will unzip code binaries\n",
    "cd coder\n",
    "    # change directory to coder folder\n",
    "chmod +x ./coder\n",
    "    # change executable permission on this folder\n",
    "sudo ufw allow 80/tcp\n",
    "    # allow http access on port 80 to this folder\n",
    "./coder -p 80 --allow-http\n",
    "    # note down password"
   ]
  },
  {
   "cell_type": "markdown",
   "metadata": {},
   "source": [
    "open any browser window on your mobile/computer and access this URL\n",
    "\n",
    "http://yourcloudvmipaddress/\n",
    "\n",
    "you should now have vscode running on your browser window.\n",
    "\n",
    "---\n"
   ]
  },
  {
   "cell_type": "markdown",
   "metadata": {},
   "source": [
    "# 8. Understanding Julia Project, Application, Environment, Package\n",
    "Each of these terms above describes what are you trying to achieve.\n",
    "\n",
    "**A Julia language Project** is literally a project, reflects your objective you are trying to accomplish in your project.\n",
    "Like any other software project, your project has source code files typically placed under “src” directory, documentation under “docs” and test cases kept in “test” directory.\n",
    "\n",
    "**Application** is a kind of project trying to achieve a specific goal, for example, a micro services or web app or Research analysis or white paper. Applications unlike Package & Environment don't need UUID. It can be a simple notebook or Julia file. Applications can provide global configuration, whereas packages cannot.\n",
    "\n",
    "\n",
    "**Environment** is a Julia Lang environment, which completely describes all packages and related dependency. Julia environment typically keep required packages (specific UUID – universal unique identifier) in “project.toml” and “manifesto.toml” complete dependency graph of packages.\n",
    "\n",
    "Environments are helpful to complete re-produce a work environment in any other developer machine.\n",
    "\n",
    "**Package** is typically like a Julia Environment with a clear motive, that this package provide re-usable functionalities that can be used in other Julia language development environments/projects.\n",
    "\n",
    "**Modules** are individual components of your overall Julia package which implement a discrete functionality.\n",
    "\n",
    "learn more - \n",
    "\n",
    "https://julialang.github.io/Pkg.jl/dev/glossary/\n",
    "\n",
    "https://julialang.github.io/Pkg.jl/dev/getting-started/\n"
   ]
  }
 ],
 "metadata": {
  "kernelspec": {
   "display_name": "Julia (6 threads) 1.5.3",
   "language": "julia",
   "name": "julia-(6-threads)-1.5"
  },
  "language_info": {
   "file_extension": ".jl",
   "mimetype": "application/julia",
   "name": "julia",
   "version": "1.5.3"
  }
 },
 "nbformat": 4,
 "nbformat_minor": 4
}
