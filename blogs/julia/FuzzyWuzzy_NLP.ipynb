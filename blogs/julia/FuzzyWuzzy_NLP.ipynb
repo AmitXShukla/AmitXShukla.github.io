{
 "cells": [
  {
   "cell_type": "markdown",
   "id": "52171a99",
   "metadata": {},
   "source": [
    "# Natural Language Processing using Julia Language\n",
    "\n",
    "    - Text Analysis\n",
    "    - Tokenizer\n",
    "    - Fuzzy Wuzzy\n",
    "    - NLP TF-IDF\n",
    "    - LSA\n",
    "\n",
    "\n",
    "Natural Language processing is a technique to read and understand meaning of natural texts. NLP has tons of different use case and is meaningful to analyze human texts, literature etc. for various purposes."
   ]
  },
  {
   "cell_type": "markdown",
   "id": "b808ef98",
   "metadata": {},
   "source": [
    "## TF-IDF - Term frequency and Inverse document frequency\n",
    "\n",
    "**what is tf-idf and what does it mean in real world?**\n",
    "\n",
    "most interesting words in a document are, which appear in that document more than its regular frequency in corpus (collection of documents).\n",
    "\n",
    "For example, if you read your last 10 work emails and you happen to congratulate/wish happy holidays in your last email.\n",
    "\n",
    "And if you compare your last email with other emails, you will find that \"happy holidays\" word frequency is lot less than other regular words (assuming, punctuations, verb, nouns, pronouns are not considered).\n",
    "indicating that, this is particular email is about \"holidays\"\n",
    "\n",
    "other use cases are \n",
    "\n",
    "    Mae Ting's Coconut Cakes at China Town   - unique food at unique place\n",
    "    Tommy's chili hot dog at Beverly Hills   - common food at unique place\n",
    "    Pizza at California Pizza Kitchen        - common food at unique place\n",
    "    Zeppoli at Olive Garden                  - unique food at common place"
   ]
  },
  {
   "cell_type": "code",
   "execution_count": 1,
   "id": "619fbed6",
   "metadata": {},
   "outputs": [
    {
     "name": "stderr",
     "output_type": "stream",
     "text": [
      "\u001b[32m\u001b[1m    Updating\u001b[22m\u001b[39m registry at `~/.julia/registries/General`\n",
      "\u001b[32m\u001b[1m    Updating\u001b[22m\u001b[39m git-repo `https://github.com/JuliaRegistries/General.git`\n",
      "\u001b[32m\u001b[1m   Resolving\u001b[22m\u001b[39m package versions...\n",
      "\u001b[32m\u001b[1m   Installed\u001b[22m\u001b[39m StrTables ────── v1.0.1\n",
      "\u001b[32m\u001b[1m   Installed\u001b[22m\u001b[39m Snowball_jll ─── v2.0.0+0\n",
      "\u001b[32m\u001b[1m   Installed\u001b[22m\u001b[39m DataDeps ─────── v0.7.7\n",
      "\u001b[32m\u001b[1m   Installed\u001b[22m\u001b[39m HTML_Entities ── v1.0.1\n",
      "\u001b[32m\u001b[1m   Installed\u001b[22m\u001b[39m BinaryProvider ─ v0.5.10\n",
      "\u001b[32m\u001b[1m   Installed\u001b[22m\u001b[39m ChainRulesCore ─ v1.14.0\n",
      "\u001b[32m\u001b[1m   Installed\u001b[22m\u001b[39m Languages ────── v0.4.3\n",
      "\u001b[32m\u001b[1m   Installed\u001b[22m\u001b[39m WordTokenizers ─ v0.5.6\n",
      "\u001b[32m\u001b[1m   Installed\u001b[22m\u001b[39m Snowball ─────── v0.1.0\n",
      "\u001b[32m\u001b[1m   Installed\u001b[22m\u001b[39m TextAnalysis ─── v0.7.3\n",
      "\u001b[32m\u001b[1m    Updating\u001b[22m\u001b[39m `~/.julia/environments/v1.7/Project.toml`\n",
      " \u001b[90m [a2db99b7] \u001b[39m\u001b[92m+ TextAnalysis v0.7.3\u001b[39m\n",
      "\u001b[32m\u001b[1m    Updating\u001b[22m\u001b[39m `~/.julia/environments/v1.7/Manifest.toml`\n",
      " \u001b[90m [b99e7846] \u001b[39m\u001b[92m+ BinaryProvider v0.5.10\u001b[39m\n",
      " \u001b[90m [d360d2e6] \u001b[39m\u001b[92m+ ChainRulesCore v1.14.0\u001b[39m\n",
      " \u001b[90m [9e997f8a] \u001b[39m\u001b[92m+ ChangesOfVariables v0.1.2\u001b[39m\n",
      " \u001b[90m [124859b0] \u001b[39m\u001b[92m+ DataDeps v0.7.7\u001b[39m\n",
      " \u001b[90m [ffbed154] \u001b[39m\u001b[92m+ DocStringExtensions v0.8.6\u001b[39m\n",
      " \u001b[90m [7693890a] \u001b[39m\u001b[92m+ HTML_Entities v1.0.1\u001b[39m\n",
      " \u001b[90m [3587e190] \u001b[39m\u001b[92m+ InverseFunctions v0.1.3\u001b[39m\n",
      " \u001b[90m [92d709cd] \u001b[39m\u001b[92m+ IrrationalConstants v0.1.1\u001b[39m\n",
      " \u001b[90m [8ef0a80b] \u001b[39m\u001b[92m+ Languages v0.4.3\u001b[39m\n",
      " \u001b[90m [2ab3a3ac] \u001b[39m\u001b[92m+ LogExpFunctions v0.3.10\u001b[39m\n",
      " \u001b[90m [92933f4c] \u001b[39m\u001b[92m+ ProgressMeter v1.7.1\u001b[39m\n",
      " \u001b[90m [fb8f903a] \u001b[39m\u001b[92m+ Snowball v0.1.0\u001b[39m\n",
      " \u001b[90m [82ae8749] \u001b[39m\u001b[92m+ StatsAPI v1.2.1\u001b[39m\n",
      " \u001b[90m [2913bbd2] \u001b[39m\u001b[92m+ StatsBase v0.33.16\u001b[39m\n",
      " \u001b[90m [9700d1a9] \u001b[39m\u001b[92m+ StrTables v1.0.1\u001b[39m\n",
      " \u001b[90m [a2db99b7] \u001b[39m\u001b[92m+ TextAnalysis v0.7.3\u001b[39m\n",
      " \u001b[90m [796a5d58] \u001b[39m\u001b[92m+ WordTokenizers v0.5.6\u001b[39m\n",
      " \u001b[90m [88f46535] \u001b[39m\u001b[92m+ Snowball_jll v2.0.0+0\u001b[39m\n",
      "\u001b[32m\u001b[1m    Building\u001b[22m\u001b[39m DataDeps ─────→ `~/.julia/scratchspaces/44cfe95a-1eb2-52ea-b672-e2afdf69b78f/4f0e41ff461d42cfc62ff0de4f1cd44c6e6b3771/build.log`\n",
      "\u001b[32m\u001b[1m    Building\u001b[22m\u001b[39m HTML_Entities → `~/.julia/scratchspaces/44cfe95a-1eb2-52ea-b672-e2afdf69b78f/c4144ed3bc5f67f595622ad03c0e39fa6c70ccc7/build.log`\n",
      "\u001b[32m\u001b[1mPrecompiling\u001b[22m\u001b[39m project...\n",
      "\u001b[32m  ✓ \u001b[39m\u001b[90mHTML_Entities\u001b[39m\n",
      "\u001b[32m  ✓ \u001b[39m\u001b[90mSnowball_jll\u001b[39m\n",
      "\u001b[32m  ✓ \u001b[39m\u001b[90mLanguages\u001b[39m\n",
      "\u001b[32m  ✓ \u001b[39m\u001b[90mChainRulesCore\u001b[39m\n",
      "\u001b[32m  ✓ \u001b[39m\u001b[90mChangesOfVariables\u001b[39m\n",
      "\u001b[32m  ✓ \u001b[39m\u001b[90mBinaryProvider\u001b[39m\n",
      "\u001b[32m  ✓ \u001b[39m\u001b[90mLogExpFunctions\u001b[39m\n",
      "\u001b[32m  ✓ \u001b[39m\u001b[90mDataDeps\u001b[39m\n",
      "\u001b[32m  ✓ \u001b[39m\u001b[90mWordTokenizers\u001b[39m\n",
      "\u001b[32m  ✓ \u001b[39m\u001b[90mStatsBase\u001b[39m\n",
      "\u001b[32m  ✓ \u001b[39m\u001b[90mSnowball\u001b[39m\n",
      "\u001b[32m  ✓ \u001b[39mTextAnalysis\n",
      "  12 dependencies successfully precompiled in 12 seconds (58 already precompiled)\n",
      "\u001b[32m\u001b[1m   Resolving\u001b[22m\u001b[39m package versions...\n",
      "\u001b[32m\u001b[1m   Installed\u001b[22m\u001b[39m Distances ─────── v0.10.7\n",
      "\u001b[32m\u001b[1m   Installed\u001b[22m\u001b[39m StringDistances ─ v0.11.2\n",
      "\u001b[32m\u001b[1m    Updating\u001b[22m\u001b[39m `~/.julia/environments/v1.7/Project.toml`\n",
      " \u001b[90m [88034a9c] \u001b[39m\u001b[92m+ StringDistances v0.11.2\u001b[39m\n",
      "\u001b[32m\u001b[1m    Updating\u001b[22m\u001b[39m `~/.julia/environments/v1.7/Manifest.toml`\n",
      " \u001b[90m [b4f34e82] \u001b[39m\u001b[92m+ Distances v0.10.7\u001b[39m\n",
      " \u001b[90m [88034a9c] \u001b[39m\u001b[92m+ StringDistances v0.11.2\u001b[39m\n",
      "\u001b[32m\u001b[1mPrecompiling\u001b[22m\u001b[39m project...\n",
      "\u001b[32m  ✓ \u001b[39m\u001b[90mDistances\u001b[39m\n",
      "\u001b[32m  ✓ \u001b[39mStringDistances\n",
      "  2 dependencies successfully precompiled in 1 seconds (70 already precompiled)\n"
     ]
    }
   ],
   "source": [
    "import Pkg\n",
    "Pkg.add(\"TextAnalysis\")\n",
    "Pkg.add(\"StringDistances\")"
   ]
  },
  {
   "cell_type": "code",
   "execution_count": null,
   "id": "ac9b0107",
   "metadata": {},
   "outputs": [],
   "source": []
  }
 ],
 "metadata": {
  "kernelspec": {
   "display_name": "Julia (4 threads) 1.7.0",
   "language": "julia",
   "name": "julia-(4-threads)-1.7"
  },
  "language_info": {
   "file_extension": ".jl",
   "mimetype": "application/julia",
   "name": "julia",
   "version": "1.7.0"
  }
 },
 "nbformat": 4,
 "nbformat_minor": 5
}
