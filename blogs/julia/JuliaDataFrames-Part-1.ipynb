{
 "cells": [
  {
   "cell_type": "markdown",
   "metadata": {},
   "source": [
    "# Everything you need to know about Julia DataFrames to support ERP Data Science for Finance Data Model Analysis\n",
    "---"
   ]
  },
  {
   "cell_type": "markdown",
   "metadata": {},
   "source": [
    "This is **Part - 1** of 3 ERP Data analysis notebooks.\n",
    "- Part 1 - General Ledger, Data Science Basics\n",
    "- Part 2 - General Ledger Data Analysis & Visualization\n",
    "- Part 3 - P2P (Procure to Pay) Data Analysis & Visualization\n",
    "\n",
    "\n",
    "**Target Audience:** This notebook, is meant for ERP consultants, IT Developers, Finance, Supply chain, HR & CRM managers, executive leaders or anyone curious to implement data science concepts in ERP space.\n",
    "\n",
    "+ **Author:** Amit Shukla\n",
    "+ **Contact:** info@elishconsulting.com\n",
    "\n",
    "**Background:** Most of Enterprise ERP providers like SAP, Oracle, Microsoft build HCM, Finance, Supply Chain, CRM like systems, which store data in highly structured RDBMS tables.\n",
    "Recent advancements in ERP systems also support authoring non-structured data like digital invoices, receipt or hand-held OCR readers.\n",
    "\n",
    "All of these ERP systems are great OLTP systems, but depend on Analytic systems for creating dashboards, ad-hoc analysis, operational reporting or live predictive analytics.\n",
    "\n",
    "Further, ERP systems depend on ELT/ELT or 3rd party tools for data mining, analysis and visualizations.\n",
    "\n",
    "While data engineers use Java, Scala, SPARK based big data solutions to move data, they depend on 3rd party BI Reporting tools for creating dashboards, use Data Mining tools for data cleansing and AI Languages for advance predictive analytics.\n",
    "\n",
    "When I started learning more about Julia Language, I thought of using Julia Language to solve ERP Analytics multiple languages problem.\n",
    "Why not just use Julia Language to move, clean massive data set as Big data reporting solution, as Julia support multi-threading, distributing parallel computing.\n",
    "Julia language and associated packages has first class support for large arrays, which can be used for data analysis.\n",
    "\n",
    "and Julia has great visualization packages to publish interactive dashboards, live data reporting.\n",
    "\n",
    "best of all, Julia is great in numerical computing, advance data science machine learning.\n",
    "\n",
    "This blog, I am sharing my notes specific to perform typical ERP data analysis using Julia Language.\n",
    "\n",
    "-----\n",
    "\n",
    "# - About ERP Systems, General Ledger & Supply chain\n",
    "A typical ERP system consists of many modules based on business domain, functions and operations.\n",
    "GL is core of Finance and Supply chain domains and Buy to Pay, Order to Cash deal with different aspects of business operations in an Organization.\n",
    "Many organization, use ERPs in different ways and may chose to implement all or some of the modules.\n",
    "You can find examples of module specific business operations/processes diagram here.\n",
    "- [General Ledger process flow](https://github.com/AmitXShukla/AmitXShukla.github.io/raw/master/blogs/PlutoCon/gl.png)\n",
    "- [Account Payable process flow](https://github.com/AmitXShukla/AmitXShukla.github.io/raw/master/blogs/PlutoCon/ap.png)\n",
    "- [Tax Analytics](https://github.com/AmitXShukla/AmitXShukla.github.io/raw/master/blogs/PlutoCon/tax.png)\n",
    "- [Sample GL ERD - Entity Relaton Diagram](https://github.com/AmitXShukla/AmitXShukla.github.io/raw/master/blogs/PlutoCon/gl_erd.png)\n",
    "\n",
    "A typical ERP modules list looks like below diagram.\n",
    "\n",
    "![ERP Modules](https://github.com/AmitXShukla/AmitXShukla.github.io/raw/master/blogs/PlutoCon/ERP_modules.png)\n",
    "\n",
    "A typical ERP business process flow looks like below diagram.\n",
    "\n",
    "![ERP Processes](https://github.com/AmitXShukla/P2P.ai/blob/main/docs/assets/images/ERD_logical.png?raw=true)\n",
    "\n",
    "A typical GL Balance sheet, Cash-flow or Income Statement looks like this \n",
    "\n",
    "[click here](https://s2.q4cdn.com/470004039/files/doc_financials/2020/q4/FY20_Q4_Consolidated_Financial_Statements.pdf)\n",
    "\n",
    "In this notebook, I will do my best to cite examples from real world data like above mentioned GL Financial statement.\n",
    "\n",
    "---\n",
    "\n",
    "# start with Julia \n",
    "It literally takes < 1 min to install Julia environments on almost any machine.\n",
    "\n",
    "Here is [link to my tutorial](https://amit-shukla.medium.com/setup-local-machine-ipad-android-tablets-for-julia-lang-data-science-computing-823d84f2cb28), which discuss Julia installation on different machines (including remote and mobile tablets).\n",
    "\n",
    "\n",
    "## adding Packages"
   ]
  },
  {
   "cell_type": "code",
   "execution_count": 1,
   "metadata": {},
   "outputs": [
    {
     "name": "stdout",
     "output_type": "stream",
     "text": [
      "\u001b[32m\u001b[1m      Status\u001b[22m\u001b[39m `~/.julia/environments/v1.7/Project.toml`\n",
      " \u001b[90m [54eefc05] \u001b[39mCascadia v1.0.1\n",
      " \u001b[90m [324d7699] \u001b[39mCategoricalArrays v0.10.5\n",
      " \u001b[90m [a93c6f00] \u001b[39mDataFrames v1.3.2\n",
      " \u001b[90m [8f5d6c58] \u001b[39mEzXML v1.1.0\n",
      " \u001b[90m [708ec375] \u001b[39mGumbo v0.8.0\n",
      " \u001b[90m [cd3eb016] \u001b[39mHTTP v0.9.17\n",
      " \u001b[90m [7073ff75] \u001b[39mIJulia v1.23.2\n",
      " \u001b[90m [c601a237] \u001b[39mInteract v0.10.4\n",
      " \u001b[90m [0f8b85d8] \u001b[39mJSON3 v1.9.4\n",
      " \u001b[90m [b9914132] \u001b[39mJSONTables v1.0.3\n",
      " \u001b[90m [4d0d745f] \u001b[39mPDFIO v0.1.13\n",
      " \u001b[90m [c3e4b0f8] \u001b[39mPluto v0.18.4\n",
      " \u001b[90m [2dfb63ee] \u001b[39mPooledArrays v1.4.0\n",
      " \u001b[90m [88034a9c] \u001b[39mStringDistances v0.11.2\n",
      " \u001b[90m [a2db99b7] \u001b[39mTextAnalysis v0.7.3\n",
      " \u001b[90m [05625dda] \u001b[39mWebDriver v0.1.2\n",
      " \u001b[90m [0f1e0344] \u001b[39mWebIO v0.8.17\n",
      " \u001b[90m [ade2ca70] \u001b[39mDates\n"
     ]
    },
    {
     "name": "stderr",
     "output_type": "stream",
     "text": [
      "\u001b[32m\u001b[1m    Updating\u001b[22m\u001b[39m registry at `~/.julia/registries/General`\n",
      "\u001b[32m\u001b[1m    Updating\u001b[22m\u001b[39m git-repo `https://github.com/JuliaRegistries/General.git`\n",
      "\u001b[32m\u001b[1m   Resolving\u001b[22m\u001b[39m package versions...\n",
      "\u001b[32m\u001b[1m  No Changes\u001b[22m\u001b[39m to `~/.julia/environments/v1.7/Project.toml`\n",
      "\u001b[32m\u001b[1m  No Changes\u001b[22m\u001b[39m to `~/.julia/environments/v1.7/Manifest.toml`\n",
      "\u001b[32m\u001b[1m   Resolving\u001b[22m\u001b[39m package versions...\n",
      "\u001b[32m\u001b[1m  No Changes\u001b[22m\u001b[39m to `~/.julia/environments/v1.7/Project.toml`\n",
      "\u001b[32m\u001b[1m  No Changes\u001b[22m\u001b[39m to `~/.julia/environments/v1.7/Manifest.toml`\n"
     ]
    }
   ],
   "source": [
    "using Pkg\n",
    "Pkg.add(\"DataFrames\")\n",
    "Pkg.add(\"Dates\")\n",
    "using DataFrames, Dates\n",
    "Pkg.status()"
   ]
  },
  {
   "cell_type": "markdown",
   "metadata": {},
   "source": [
    "*rest of this blog, I will assume, you have added all packages and imported in current namespace/notebook scope.*"
   ]
  },
  {
   "cell_type": "markdown",
   "metadata": {},
   "source": [
    "## helper functions"
   ]
  },
  {
   "cell_type": "code",
   "execution_count": 2,
   "metadata": {},
   "outputs": [
    {
     "data": {
      "text/plain": [
       "0.1215354890767833"
      ]
     },
     "execution_count": 2,
     "metadata": {},
     "output_type": "execute_result"
    }
   ],
   "source": [
    "# run one command at a time\n",
    "repeat([\"AMIT\",\"SHUKLA\"], inner=5) # repeat list/string number of times\n",
    "fill(\"34\", 4) # repeat list/string number of times\n",
    "range(1.0, stop=9.0, length=100) # generate n number of equal values between start and stop values\n",
    "11000:1000:45000 # genarate a range of # from start to finish with set intervals\n",
    "collect(1:4) # collect funtion collect all values in list\n",
    "rand([1,2,3,4]) # random value from a list of values\n",
    "rand(11000:1000:45000) # random value from a list of values\n",
    "randn() # random # from a list of float values (+ or -)\n",
    "\n",
    "# more helper string functions - replace etc... \n",
    "# fill these in from Pluto notebooks"
   ]
  },
  {
   "cell_type": "code",
   "execution_count": 3,
   "metadata": {},
   "outputs": [
    {
     "data": {
      "text/html": [
       "<div class=\"data-frame\"><p>2 rows × 5 columns</p><table class=\"data-frame\"><thead><tr><th></th><th>Entity</th><th>FiscalYear</th><th>AccountingPeriod</th><th>Actuals</th><th>Budget</th></tr><tr><th></th><th title=\"String\">String</th><th title=\"CategoricalValue{Int64, UInt32}\">Cat…</th><th title=\"CategoricalValue{Int64, UInt32}\">Cat…</th><th title=\"Float64\">Float64</th><th title=\"Int64\">Int64</th></tr></thead><tbody><tr><th>1</th><td>Apple Inc</td><td>2022</td><td>1</td><td>98.4</td><td>100</td></tr><tr><th>2</th><td>Apple Inc</td><td>2022</td><td>2</td><td>98.4</td><td>100</td></tr></tbody></table></div>"
      ],
      "text/latex": [
       "\\begin{tabular}{r|ccccc}\n",
       "\t& Entity & FiscalYear & AccountingPeriod & Actuals & Budget\\\\\n",
       "\t\\hline\n",
       "\t& String & Cat… & Cat… & Float64 & Int64\\\\\n",
       "\t\\hline\n",
       "\t1 & Apple Inc & 2022 & 1 & 98.4 & 100 \\\\\n",
       "\t2 & Apple Inc & 2022 & 2 & 98.4 & 100 \\\\\n",
       "\\end{tabular}\n"
      ],
      "text/plain": [
       "\u001b[1m2×5 DataFrame\u001b[0m\n",
       "\u001b[1m Row \u001b[0m│\u001b[1m Entity    \u001b[0m\u001b[1m FiscalYear \u001b[0m\u001b[1m AccountingPeriod \u001b[0m\u001b[1m Actuals \u001b[0m\u001b[1m Budget \u001b[0m\n",
       "\u001b[1m     \u001b[0m│\u001b[90m String    \u001b[0m\u001b[90m Cat…       \u001b[0m\u001b[90m Cat…             \u001b[0m\u001b[90m Float64 \u001b[0m\u001b[90m Int64  \u001b[0m\n",
       "─────┼──────────────────────────────────────────────────────────\n",
       "   1 │ Apple Inc  2022        1                    98.4     100\n",
       "   2 │ Apple Inc  2022        2                    98.4     100"
      ]
     },
     "execution_count": 3,
     "metadata": {},
     "output_type": "execute_result"
    }
   ],
   "source": [
    "# run one command at a time\n",
    "# basic dataframe is constructed by passing column vectors (think of adding one excel column at a time)\n",
    "org = \"Apple Inc\" # is a simple string\n",
    "_ap = [1,2] # this is a vector\n",
    "\n",
    "using CategoricalArrays\n",
    "ap = categorical(_ap) # this is a vector\n",
    "fy = categorical(repeat([2022], inner=2)) # this is a vector\n",
    "\n",
    "actuals, budget = (98.40, 100) # this is a tuple\n",
    "amount = (actuals = 98.54, budget = 100) # this is a named tuple\n",
    "df_Ledger = DataFrame(Entity=fill(org), FiscalYear=fy, AccountingPeriod = ap, Actuals = actuals, Budget = budget)\n",
    "# fill(org) or org will produce same results"
   ]
  },
  {
   "cell_type": "code",
   "execution_count": 4,
   "metadata": {},
   "outputs": [
    {
     "data": {
      "text/html": [
       "<div class=\"data-frame\"><p>4 rows × 5 columns</p><table class=\"data-frame\"><thead><tr><th></th><th>Entity</th><th>FiscalYear</th><th>AccountingPeriod</th><th>Actuals</th><th>Budget</th></tr><tr><th></th><th title=\"String\">String</th><th title=\"CategoricalValue{Int64, UInt32}\">Cat…</th><th title=\"CategoricalValue{Int64, UInt32}\">Cat…</th><th title=\"Float64\">Float64</th><th title=\"Int64\">Int64</th></tr></thead><tbody><tr><th>1</th><td>Apple Inc</td><td>2022</td><td>1</td><td>98.4</td><td>100</td></tr><tr><th>2</th><td>Apple Inc</td><td>2022</td><td>2</td><td>98.4</td><td>100</td></tr><tr><th>3</th><td>Google</td><td>2022</td><td>1</td><td>95.42</td><td>101</td></tr><tr><th>4</th><td>Google</td><td>2022</td><td>2</td><td>91.42</td><td>99</td></tr></tbody></table></div>"
      ],
      "text/latex": [
       "\\begin{tabular}{r|ccccc}\n",
       "\t& Entity & FiscalYear & AccountingPeriod & Actuals & Budget\\\\\n",
       "\t\\hline\n",
       "\t& String & Cat… & Cat… & Float64 & Int64\\\\\n",
       "\t\\hline\n",
       "\t1 & Apple Inc & 2022 & 1 & 98.4 & 100 \\\\\n",
       "\t2 & Apple Inc & 2022 & 2 & 98.4 & 100 \\\\\n",
       "\t3 & Google & 2022 & 1 & 95.42 & 101 \\\\\n",
       "\t4 & Google & 2022 & 2 & 91.42 & 99 \\\\\n",
       "\\end{tabular}\n"
      ],
      "text/plain": [
       "\u001b[1m4×5 DataFrame\u001b[0m\n",
       "\u001b[1m Row \u001b[0m│\u001b[1m Entity    \u001b[0m\u001b[1m FiscalYear \u001b[0m\u001b[1m AccountingPeriod \u001b[0m\u001b[1m Actuals \u001b[0m\u001b[1m Budget \u001b[0m\n",
       "\u001b[1m     \u001b[0m│\u001b[90m String    \u001b[0m\u001b[90m Cat…       \u001b[0m\u001b[90m Cat…             \u001b[0m\u001b[90m Float64 \u001b[0m\u001b[90m Int64  \u001b[0m\n",
       "─────┼──────────────────────────────────────────────────────────\n",
       "   1 │ Apple Inc  2022        1                   98.4      100\n",
       "   2 │ Apple Inc  2022        2                   98.4      100\n",
       "   3 │ Google     2022        1                   95.42     101\n",
       "   4 │ Google     2022        2                   91.42      99"
      ]
     },
     "execution_count": 4,
     "metadata": {},
     "output_type": "execute_result"
    }
   ],
   "source": [
    "# run one command at a time\n",
    "# adding one row at a time, can be done, but is not very efficient\n",
    "push!(df_Ledger, Dict(:Entity => \"Google\", :FiscalYear => 2022, \n",
    "        :AccountingPeriod => 1, :Actuals => 95.42, :Budget => 101))\n",
    "push!(df_Ledger, Dict(:Entity => \"Google\", :FiscalYear => 2022, \n",
    "        :AccountingPeriod => 2, :Actuals => 91.42, :Budget => 99))"
   ]
  },
  {
   "cell_type": "markdown",
   "metadata": {},
   "source": [
    "## create DataFrame\n",
    "\n",
    "Chart of accounts (organized hierarchy of account groups in tree form), Location/Department or Product based hierarchy allows businesses to group and report organization activities based on business processes.\n",
    "\n",
    "These hierarchical grouping help capture monetary and statistical values of organization in finance statements.\n",
    "\n",
    "---\n",
    "\n",
    "To create Finance Data model and \n",
    "[Ledger Cash-flow or Balance Sheet like statements](https://s2.q4cdn.com/470004039/files/doc_financials/2020/q4/FY20_Q4_Consolidated_Financial_Statements.pdf),\n",
    "We need associated dimensions (chartfields like chart of accounts).\n",
    "\n",
    "We will discuss how to load actual data from CSV or RDBMS later. We will also learn how to group and create chartfield hierarchies later.\n",
    "\n",
    "But for now, first Let's start with creating fake ACCOUNT, department and location chartfields."
   ]
  },
  {
   "cell_type": "code",
   "execution_count": 5,
   "metadata": {},
   "outputs": [
    {
     "name": "stdout",
     "output_type": "stream",
     "text": [
      "\"Accounts DIM size is: \"(35, 8)\"Accounts Dim sample: \""
     ]
    },
    {
     "data": {
      "text/plain": [
       "(nothing, nothing, nothing, \u001b[1m7×8 DataFrame\u001b[0m\n",
       "\u001b[1m Row \u001b[0m│\u001b[1m ENTITY     \u001b[0m\u001b[1m AS_OF_DATE \u001b[0m\u001b[1m ID    \u001b[0m\u001b[1m CLASSIFICATION         \u001b[0m\u001b[1m CATEGORY     \u001b[0m\u001b[1m ST\u001b[0m ⋯\n",
       "\u001b[1m     \u001b[0m│\u001b[90m String     \u001b[0m\u001b[90m Date       \u001b[0m\u001b[90m Int64 \u001b[0m\u001b[90m String                 \u001b[0m\u001b[90m String       \u001b[0m\u001b[90m St\u001b[0m ⋯\n",
       "─────┼──────────────────────────────────────────────────────────────────────────\n",
       "   1 │ Apple Inc.  1900-01-01  11000  OPERATING_EXPENSES      Travel        A  ⋯\n",
       "   2 │ Apple Inc.  1900-01-01  16000  NON-OPERATING_EXPENSES  Facility      A\n",
       "   3 │ Apple Inc.  1900-01-01  21000  ASSETS                  Depreciation  A\n",
       "   4 │ Apple Inc.  1900-01-01  26000  LIABILITIES             Receipt       A\n",
       "   5 │ Apple Inc.  1900-01-01  31000  NET_WORTH               Cash          A  ⋯\n",
       "   6 │ Apple Inc.  1900-01-01  36000  STATISTICS              FTE           A\n",
       "   7 │ Apple Inc.  1900-01-01  41000  REVENUE                 Sales         A\n",
       "\u001b[36m                                                               3 columns omitted\u001b[0m)"
      ]
     },
     "execution_count": 5,
     "metadata": {},
     "output_type": "execute_result"
    }
   ],
   "source": [
    "# create dummy data\n",
    "accountsDF = DataFrame(\n",
    "    ENTITY = \"Apple Inc.\",\n",
    "    AS_OF_DATE=Date(\"1900-01-01\", dateformat\"y-m-d\"),\n",
    "    ID = 11000:1000:45000,\n",
    "    CLASSIFICATION=repeat([\n",
    "        \"OPERATING_EXPENSES\",\"NON-OPERATING_EXPENSES\", \"ASSETS\",\"LIABILITIES\",\"NET_WORTH\",\"STATISTICS\",\"REVENUE\"\n",
    "                ], inner=5),\n",
    "    CATEGORY=[\n",
    "        \"Travel\",\"Payroll\",\"non-Payroll\",\"Allowance\",\"Cash\",\n",
    "        \"Facility\",\"Supply\",\"Services\",\"Investment\",\"Misc.\",\n",
    "        \"Depreciation\",\"Gain\",\"Service\",\"Retired\",\"Fault.\",\n",
    "        \"Receipt\",\"Accrual\",\"Return\",\"Credit\",\"ROI\",\n",
    "        \"Cash\",\"Funds\",\"Invest\",\"Transfer\",\"Roll-over\",\n",
    "        \"FTE\",\"Members\",\"Non_Members\",\"Temp\",\"Contractors\",\n",
    "        \"Sales\",\"Merchant\",\"Service\",\"Consulting\",\"Subscriptions\"],\n",
    "    STATUS=\"A\",\n",
    "    DESCR=repeat([\n",
    "    \"operating expenses\",\"non-operating expenses\",\"assets\",\"liability\",\"net-worth\",\"stats\",\"revenue\"], inner=5),\n",
    "    ACCOUNT_TYPE=repeat([\"E\",\"E\",\"A\",\"L\",\"N\",\"S\",\"R\"],inner=5));\n",
    "\n",
    "show(\"Accounts DIM size is: \"), show(size(accountsDF)), show(\"Accounts Dim sample: \"), accountsDF[collect(1:5:35),:]"
   ]
  },
  {
   "cell_type": "markdown",
   "metadata": {},
   "source": [
    "There is lot to unpack here in above Julia code and lot is wrong (not best practice for sure).\n",
    "\n",
    "First, **what is a dataframe anyway**, think of Julia DataFrame as tabular representation of data arranged in rows and columns. Unlike SQL, you should get into habit of reading and writing one column at a time (not because of reason, you can't read/write rows) for faster performance. Each column is an Array or a list of values, referred as vector.\n",
    "\n",
    "Above Julia code creates accounts dataframe with columns name as AS_OF_DATE, DESCR, CATEGORY, ACCOUNT_TYPE, CLASSIFICATION, STATUS.\n",
    "\n",
    "There are 35 rows, with same AS_OF_DATE, IDs starting from 11000-45000 in 1000 incremental values, all with STATUS = A (Active), 7 distinct Descriptions and account types (E=Expense, L=Liability, A= Assets, N=Net worth, S=Stats, R=Revenue) repeating 5 times per category.\n",
    "\n",
    "For 35 rows, it's fine to store data like this, but now is a good time to learn about Categorical and Pooled Arrays, in case when dataframe has millions of rows."
   ]
  },
  {
   "cell_type": "code",
   "execution_count": 6,
   "metadata": {},
   "outputs": [
    {
     "name": "stdout",
     "output_type": "stream",
     "text": [
      "\u001b[32m\u001b[1m      Status\u001b[22m\u001b[39m `~/.julia/environments/v1.7/Project.toml`\n",
      " \u001b[90m [54eefc05] \u001b[39mCascadia v1.0.1\n",
      " \u001b[90m [324d7699] \u001b[39mCategoricalArrays v0.10.5\n",
      " \u001b[90m [a93c6f00] \u001b[39mDataFrames v1.3.2\n",
      " \u001b[90m [8f5d6c58] \u001b[39mEzXML v1.1.0\n",
      " \u001b[90m [708ec375] \u001b[39mGumbo v0.8.0\n",
      " \u001b[90m [cd3eb016] \u001b[39mHTTP v0.9.17\n",
      " \u001b[90m [7073ff75] \u001b[39mIJulia v1.23.2\n",
      " \u001b[90m [c601a237] \u001b[39mInteract v0.10.4\n",
      " \u001b[90m [0f8b85d8] \u001b[39mJSON3 v1.9.4\n",
      " \u001b[90m [b9914132] \u001b[39mJSONTables v1.0.3\n",
      " \u001b[90m [4d0d745f] \u001b[39mPDFIO v0.1.13\n",
      " \u001b[90m [c3e4b0f8] \u001b[39mPluto v0.18.4\n",
      " \u001b[90m [2dfb63ee] \u001b[39mPooledArrays v1.4.0\n",
      " \u001b[90m [88034a9c] \u001b[39mStringDistances v0.11.2\n",
      " \u001b[90m [a2db99b7] \u001b[39mTextAnalysis v0.7.3\n",
      " \u001b[90m [05625dda] \u001b[39mWebDriver v0.1.2\n",
      " \u001b[90m [0f1e0344] \u001b[39mWebIO v0.8.17\n",
      " \u001b[90m [ade2ca70] \u001b[39mDates\n"
     ]
    },
    {
     "name": "stderr",
     "output_type": "stream",
     "text": [
      "\u001b[32m\u001b[1m   Resolving\u001b[22m\u001b[39m package versions...\n",
      "\u001b[32m\u001b[1m  No Changes\u001b[22m\u001b[39m to `~/.julia/environments/v1.7/Project.toml`\n",
      "\u001b[32m\u001b[1m  No Changes\u001b[22m\u001b[39m to `~/.julia/environments/v1.7/Manifest.toml`\n",
      "\u001b[32m\u001b[1m   Resolving\u001b[22m\u001b[39m package versions...\n",
      "\u001b[32m\u001b[1m  No Changes\u001b[22m\u001b[39m to `~/.julia/environments/v1.7/Project.toml`\n",
      "\u001b[32m\u001b[1m  No Changes\u001b[22m\u001b[39m to `~/.julia/environments/v1.7/Manifest.toml`\n"
     ]
    }
   ],
   "source": [
    "using Pkg\n",
    "Pkg.add(\"CategoricalArrays\")\n",
    "Pkg.add(\"PooledArrays\")\n",
    "Pkg.status()"
   ]
  },
  {
   "cell_type": "code",
   "execution_count": 7,
   "metadata": {},
   "outputs": [
    {
     "data": {
      "text/html": [
       "<div class=\"data-frame\"><p>12 rows × 2 columns</p><table class=\"data-frame\"><thead><tr><th></th><th>Descr</th><th>Value</th></tr><tr><th></th><th title=\"String\">String</th><th title=\"Int64\">Int64</th></tr></thead><tbody><tr><th>1</th><td>CLASSIFICATION...ARR...</td><td>3500</td></tr><tr><th>2</th><td>CAT...ARR...</td><td>3500</td></tr><tr><th>3</th><td>CAT...ARR..COMPRESS.</td><td>3500</td></tr><tr><th>4</th><td>POOL...ARR...</td><td>3500</td></tr><tr><th>5</th><td>POOL...ARR..COMPRESS.</td><td>3500</td></tr><tr><th>6</th><td>CAT...LEVELs...</td><td>7</td></tr><tr><th>7</th><td>POOL...LEVELs...</td><td>7</td></tr><tr><th>8</th><td>CLASSIFICATION...MEMSIZE</td><td>28179</td></tr><tr><th>9</th><td>CAT...ARR...MEMSIZE</td><td>14739</td></tr><tr><th>10</th><td>POOL...ARR...MEMSIZE</td><td>14739</td></tr><tr><th>11</th><td>CAT...ARR..COMPRESS...MEMSIZE</td><td>4191</td></tr><tr><th>12</th><td>POOL...ARR..COMPRESS...MEMSIZE</td><td>4191</td></tr></tbody></table></div>"
      ],
      "text/latex": [
       "\\begin{tabular}{r|cc}\n",
       "\t& Descr & Value\\\\\n",
       "\t\\hline\n",
       "\t& String & Int64\\\\\n",
       "\t\\hline\n",
       "\t1 & CLASSIFICATION...ARR... & 3500 \\\\\n",
       "\t2 & CAT...ARR... & 3500 \\\\\n",
       "\t3 & CAT...ARR..COMPRESS. & 3500 \\\\\n",
       "\t4 & POOL...ARR... & 3500 \\\\\n",
       "\t5 & POOL...ARR..COMPRESS. & 3500 \\\\\n",
       "\t6 & CAT...LEVELs... & 7 \\\\\n",
       "\t7 & POOL...LEVELs... & 7 \\\\\n",
       "\t8 & CLASSIFICATION...MEMSIZE & 28179 \\\\\n",
       "\t9 & CAT...ARR...MEMSIZE & 14739 \\\\\n",
       "\t10 & POOL...ARR...MEMSIZE & 14739 \\\\\n",
       "\t11 & CAT...ARR..COMPRESS...MEMSIZE & 4191 \\\\\n",
       "\t12 & POOL...ARR..COMPRESS...MEMSIZE & 4191 \\\\\n",
       "\\end{tabular}\n"
      ],
      "text/plain": [
       "\u001b[1m12×2 DataFrame\u001b[0m\n",
       "\u001b[1m Row \u001b[0m│\u001b[1m Descr                          \u001b[0m\u001b[1m Value \u001b[0m\n",
       "\u001b[1m     \u001b[0m│\u001b[90m String                         \u001b[0m\u001b[90m Int64 \u001b[0m\n",
       "─────┼───────────────────────────────────────\n",
       "   1 │ CLASSIFICATION...ARR...          3500\n",
       "   2 │ CAT...ARR...                     3500\n",
       "   3 │ CAT...ARR..COMPRESS.             3500\n",
       "   4 │ POOL...ARR...                    3500\n",
       "   5 │ POOL...ARR..COMPRESS.            3500\n",
       "   6 │ CAT...LEVELs...                     7\n",
       "   7 │ POOL...LEVELs...                    7\n",
       "   8 │ CLASSIFICATION...MEMSIZE        28179\n",
       "   9 │ CAT...ARR...MEMSIZE             14739\n",
       "  10 │ POOL...ARR...MEMSIZE            14739\n",
       "  11 │ CAT...ARR..COMPRESS...MEMSIZE    4191\n",
       "  12 │ POOL...ARR..COMPRESS...MEMSIZE   4191"
      ]
     },
     "execution_count": 7,
     "metadata": {},
     "output_type": "execute_result"
    }
   ],
   "source": [
    "# here CLASSIFICATION column vector stores 3500 distinct values in an array\n",
    "CLASSIFICATION=repeat([\"OPERATING_EXPENSES\",\"NON-OPERATING_EXPENSES\", \"ASSETS\",\"LIABILITIES\",\"NET_WORTH\",\"STATISTICS\",\"REVENUE\"\n",
    "                ], inner=500)\n",
    "\n",
    "using CategoricalArrays\n",
    "cl = categorical(CLASSIFICATION)\n",
    "levels(cl)\n",
    "\n",
    "using PooledArrays\n",
    "pl = categorical(CLASSIFICATION)\n",
    "levels(pl)\n",
    "\n",
    "# show values in tabular format\n",
    "# run one command at a time\n",
    "df = DataFrame(Dict(\"Descr\" => \"CLASSIFICATION...ARR...\", \"Value\" => size(CLASSIFICATION)[1]))\n",
    "push!(df,(\"CAT...ARR...\",size(cl)[1]))\n",
    "push!(df,(\"CAT...ARR..COMPRESS.\",size(compress(cl))[1]))\n",
    "push!(df,(\"POOL...ARR...\",size(pl)[1]))\n",
    "push!(df,(\"POOL...ARR..COMPRESS.\",size(compress(pl))[1]))\n",
    "push!(df,(\"CAT...LEVELs...\",size(levels(cl))[1]))\n",
    "push!(df,(\"POOL...LEVELs...\",size(levels(pl))[1]))\n",
    "push!(df,(\"CLASSIFICATION...MEMSIZE\", Base.summarysize(CLASSIFICATION)))\n",
    "push!(df,(\"CAT...ARR...MEMSIZE\", Base.summarysize(cl)))\n",
    "push!(df,(\"POOL...ARR...MEMSIZE\", Base.summarysize(pl)))\n",
    "push!(df,(\"CAT...ARR..COMPRESS...MEMSIZE\", Base.summarysize(compress(cl))))\n",
    "push!(df,(\"POOL...ARR..COMPRESS...MEMSIZE\", Base.summarysize(compress(pl))))"
   ]
  },
  {
   "cell_type": "markdown",
   "metadata": {},
   "source": [
    "**Categorical and Pooled Arrays** as name suggests, are data structure to store voluminous data efficiently,specially when a column in a data frame has small number of distinct values (aka levels), repeated across entire column vector.\n",
    "\n",
    "as an example, Finance Ledger may have millions of transactions and every row has one of these seven type of accounts. It's not recommended to store repeating value of entire string in every row. Instead, using a Categorical or PooledArray data type, memory/data size can be significantly reduced with out losing any data quality. (size(..) stays same for original, Categorical and PooledArray data type.\n",
    "\n",
    "as you can see in above example, size of categorical / pooled array data type matches with original column vector but significantly reduces size/memory of data. (Base.summarysize(...)) is reduced 50% and is further reduced by 85% if used with compress(...))\n",
    "\n",
    "Using Categorical Array type over PooledArray is recommended when there are fewer unique values, user need meaningful ordering and grouping. On the other hand, PoolArray is preferred when small memory usage is needed."
   ]
  },
  {
   "cell_type": "markdown",
   "metadata": {},
   "source": [
    "## ways of creating dataframe\n",
    "\n",
    "There are different ways of creating dataframe, and it all depends on how user want to see data, which is almost always tabular anyway.\n",
    "\n",
    "There are few things to keep in mind when working DataFrames.\n",
    "\n",
    "- Think in terms of columns, and pay attention to column datatypes. for example, as mentioned earlier, using Categorical or PooledArray can significantly improve data analysis performance and save on memory\n",
    "- Think, how do you want to filter dataset, and in that case, row index become very important.\n",
    "- Pay attention to column names (column names with spaces, or special characters, can cause inconvenience). Julia has class support for variable names, which means it can store any type of literal string and not break. But one should follow standard guidelines for naming conventions.\n",
    "- Pay attention to read dataframe columns efficiently, reading/mutating original version can harm data quality and analysis but unnecessary making copies of data add clutter to your temp space.\n",
    "- Often DataFrames is good enough to support any query and transformations, but just in case, if you need, there are more data query frameworks like DataFramesMeta.jl & Query.jl to support advance use.\n",
    "\n"
   ]
  },
  {
   "cell_type": "markdown",
   "metadata": {},
   "source": [
    "## creating data frame from CSV, JSON, ODBC/ORM, XML, PDF or web.\n",
    "We will cover all IO topics and reading from different data sources in other tutorials. Please visit these links for \n",
    "Related blogs: \n",
    "    \n",
    "[Web-scrapping, Web automation using Julia Language](https://amit-shukla.medium.com/web-scrapping-web-automation-using-julia-language-2c473db84fbc)\n",
    "\n",
    "Working with ODBC, ORM, XML, JSON, PDF, TXT, CSV, XLS\n",
    "\n",
    "Working with PDF documents, Image Scanner, OCR Reader\n",
    "\n",
    "## reading data from dataframe"
   ]
  },
  {
   "cell_type": "code",
   "execution_count": 8,
   "metadata": {},
   "outputs": [
    {
     "data": {
      "text/html": [
       "<div class=\"data-frame\"><p>8 rows × 7 columns</p><table class=\"data-frame\"><thead><tr><th></th><th>variable</th><th>mean</th><th>min</th><th>median</th><th>max</th><th>nmissing</th><th>eltype</th></tr><tr><th></th><th title=\"Symbol\">Symbol</th><th title=\"Union{Nothing, Float64}\">Union…</th><th title=\"Any\">Any</th><th title=\"Any\">Any</th><th title=\"Any\">Any</th><th title=\"Int64\">Int64</th><th title=\"DataType\">DataType</th></tr></thead><tbody><tr><th>1</th><td>ENTITY</td><td></td><td>Apple Inc.</td><td></td><td>Apple Inc.</td><td>0</td><td>String</td></tr><tr><th>2</th><td>AS_OF_DATE</td><td></td><td>1900-01-01</td><td>1900-01-01</td><td>1900-01-01</td><td>0</td><td>Date</td></tr><tr><th>3</th><td>ID</td><td>28000.0</td><td>11000</td><td>28000.0</td><td>45000</td><td>0</td><td>Int64</td></tr><tr><th>4</th><td>CLASSIFICATION</td><td></td><td>ASSETS</td><td></td><td>STATISTICS</td><td>0</td><td>String</td></tr><tr><th>5</th><td>CATEGORY</td><td></td><td>Accrual</td><td></td><td>non-Payroll</td><td>0</td><td>String</td></tr><tr><th>6</th><td>STATUS</td><td></td><td>A</td><td></td><td>A</td><td>0</td><td>String</td></tr><tr><th>7</th><td>DESCR</td><td></td><td>assets</td><td></td><td>stats</td><td>0</td><td>String</td></tr><tr><th>8</th><td>ACCOUNT_TYPE</td><td></td><td>A</td><td></td><td>S</td><td>0</td><td>String</td></tr></tbody></table></div>"
      ],
      "text/latex": [
       "\\begin{tabular}{r|ccccccc}\n",
       "\t& variable & mean & min & median & max & nmissing & eltype\\\\\n",
       "\t\\hline\n",
       "\t& Symbol & Union… & Any & Any & Any & Int64 & DataType\\\\\n",
       "\t\\hline\n",
       "\t1 & ENTITY &  & Apple Inc. &  & Apple Inc. & 0 & String \\\\\n",
       "\t2 & AS\\_OF\\_DATE &  & 1900-01-01 & 1900-01-01 & 1900-01-01 & 0 & Date \\\\\n",
       "\t3 & ID & 28000.0 & 11000 & 28000.0 & 45000 & 0 & Int64 \\\\\n",
       "\t4 & CLASSIFICATION &  & ASSETS &  & STATISTICS & 0 & String \\\\\n",
       "\t5 & CATEGORY &  & Accrual &  & non-Payroll & 0 & String \\\\\n",
       "\t6 & STATUS &  & A &  & A & 0 & String \\\\\n",
       "\t7 & DESCR &  & assets &  & stats & 0 & String \\\\\n",
       "\t8 & ACCOUNT\\_TYPE &  & A &  & S & 0 & String \\\\\n",
       "\\end{tabular}\n"
      ],
      "text/plain": [
       "\u001b[1m8×7 DataFrame\u001b[0m\n",
       "\u001b[1m Row \u001b[0m│\u001b[1m variable       \u001b[0m\u001b[1m mean    \u001b[0m\u001b[1m min        \u001b[0m\u001b[1m median     \u001b[0m\u001b[1m max         \u001b[0m\u001b[1m nmissing \u001b[0m\u001b[1m\u001b[0m ⋯\n",
       "\u001b[1m     \u001b[0m│\u001b[90m Symbol         \u001b[0m\u001b[90m Union…  \u001b[0m\u001b[90m Any        \u001b[0m\u001b[90m Any        \u001b[0m\u001b[90m Any         \u001b[0m\u001b[90m Int64    \u001b[0m\u001b[90m\u001b[0m ⋯\n",
       "─────┼──────────────────────────────────────────────────────────────────────────\n",
       "   1 │ ENTITY         \u001b[90m         \u001b[0m Apple Inc. \u001b[90m            \u001b[0m Apple Inc.          0  ⋯\n",
       "   2 │ AS_OF_DATE     \u001b[90m         \u001b[0m 1900-01-01  1900-01-01  1900-01-01          0\n",
       "   3 │ ID              28000.0  11000       28000.0     45000               0\n",
       "   4 │ CLASSIFICATION \u001b[90m         \u001b[0m ASSETS     \u001b[90m            \u001b[0m STATISTICS          0\n",
       "   5 │ CATEGORY       \u001b[90m         \u001b[0m Accrual    \u001b[90m            \u001b[0m non-Payroll         0  ⋯\n",
       "   6 │ STATUS         \u001b[90m         \u001b[0m A          \u001b[90m            \u001b[0m A                   0\n",
       "   7 │ DESCR          \u001b[90m         \u001b[0m assets     \u001b[90m            \u001b[0m stats               0\n",
       "   8 │ ACCOUNT_TYPE   \u001b[90m         \u001b[0m A          \u001b[90m            \u001b[0m S                   0\n",
       "\u001b[36m                                                                1 column omitted\u001b[0m"
      ]
     },
     "execution_count": 8,
     "metadata": {},
     "output_type": "execute_result"
    }
   ],
   "source": [
    "# run one command at a time\n",
    "accountsDF.ENTITY # read all values from a column\n",
    "accountsDF[:,\"ENTITY\"] # read all values from a column\n",
    "accountsDF[:,:ENTITY] # read all values from a column using column symbol is efficient\n",
    "accountsDF[!,:ENTITY] # read all values from a column without making a copy\n",
    "# learn to make use of ! properly, it's faster, memory efficient and accesses data directly without making a copy\n",
    "# but accidently assigned values will overwrite original data\n",
    "accountsDF[:,:ENTITY] # returns a vector\n",
    "accountsDF[:,[:ENTITY]] # returns another DataFrame\n",
    "accountsDF[:,[:ENTITY, :ID, :STATUS]] # returns another DataFrame with selective columns\n",
    "accountsDF[:,1:3] # returns another DataFrame with selective columns (same as above)\n",
    "accountsDF[:, All()] # same as [:,:]\n",
    "accountsDF[:, Between(:ENTITY, :ID)]\n",
    "accountsDF[:, Cols(x -> startswith(x, \"ENTITY\"))]\n",
    "accountsDF[:, Cols(r\"ENTITY\", :)]\n",
    "accountsDF[:, Cols(Not(r\"ENTITY\"), :)]\n",
    "accountsDF[:, Cols(Not([:ENTITY, :ID, :STATUS]))] # returns another DataFrame without selective columns\n",
    "size(accountsDF) # displays size of dataframe\n",
    "nrow(accountsDF) # displays # of rows of dataframe\n",
    "ncol(accountsDF) # displays # of columns of dataframe\n",
    "names(accountsDF) # displays names of columns of dataframe\n",
    "propertynames(accountsDF) # displays symbol names of columns of dataframe\n",
    "accountsDF[:,[:ENTITY, :ID, :CLASSIFICATION]] # returns specific columns of DataFrame\n",
    "first(accountsDF, 2) # print first 2 rows of dataframe\n",
    "last(accountsDF, 2) # print last 2 rows of \n",
    "# show(accountsDF[1:2, :], allcols=true) # show all columns between rows 1 & 2\n",
    "# show(accountsDF[:, 1:2], allrows=true)# show all rows between columns 1 & 2\n",
    "eltype.(eachcol(accountsDF)) # displays type of each column\n",
    "describe(accountsDF) # describe column stats"
   ]
  },
  {
   "cell_type": "markdown",
   "metadata": {},
   "source": [
    "## view, copy, deepcopy, subdataframe\n",
    "\n",
    "reading a dataframe seems intuitive at first but be aware, ERP Data Science analysis often deals with billions of rows and data read can be very slow and expensive operations if performed poorly.\n",
    "\n",
    "df[:,:] is not same as df[!,:]\n",
    "as one creates a copy and other reads directly from memory location.\n",
    "\n",
    "Julia lang offers built in algorthims for multithread parallel, distributed computing and learning simple concepts adds up to even bigger savings and faster performances.\n",
    "\n",
    "here is a awesome explaination I found on discourse.julialang.org"
   ]
  },
  {
   "cell_type": "raw",
   "metadata": {},
   "source": [
    "I assume you know the difference between copying by value and copying by reference. Let ‘a’ be a mutable object of some type.\n",
    "\n",
    "b = a copies ‘a’ by reference, so ‘b’ and ‘a’ refer to the same object. Therefore b.field1 = 2 makes a.field1 == 2 true.\n",
    "\n",
    "b = copy(a) makes a new object of the same type as the object which ‘a’ refers to, and makes ‘b’ refer to it. So there are now 2 different objects, one for ‘a’ and one for ‘b’. Then for each ‘field’ of the new object, b.field = a.field is called. Therefore, if the field type is immutable it will be copied by value. If it is mutable, it will be copied by reference. Notice that this is a shallow copy, as b.field1.field11 = 2 still makes a.field1.field11 == 2 true, where field1 is a mutable object of some type.\n",
    "\n",
    "b = deepcopy(a) keeps unwrapping any mutables inside of ‘a’ until it reaches all the immutables at all the levels, and copies all the data and structure of the old object to a new object. So ‘b’ and ‘a’ become completely independent, and changing one at any level does not change the other. For example b.field1.field11.field111 = 2 does not change a.field1.field11.field111. This however comes at the cost of using more memory when dealing with deep structures, e.g. a root node in a deep tree.\n"
   ]
  },
  {
   "cell_type": "code",
   "execution_count": 78,
   "metadata": {},
   "outputs": [
    {
     "name": "stdout",
     "output_type": "stream",
     "text": [
      "(a, b, c) = ([[11, 2, 3], [4, 5, 6]], [[11, 2, 3], [4, 5, 6]], [[1, 2, 3], [4, 5, 6]])\n"
     ]
    },
    {
     "data": {
      "text/plain": [
       "([[11, 2, 3], [4, 5, 6]], [[11, 2, 3], [4, 5, 6]], [[1, 2, 3], [4, 5, 6]])"
      ]
     },
     "execution_count": 78,
     "metadata": {},
     "output_type": "execute_result"
    }
   ],
   "source": [
    "a = [[1,2,3],[4,5,6]]\n",
    "b = copy(a)\n",
    "c = deepcopy(a)\n",
    "a[1][1] = 11\n",
    "@show a, b, c"
   ]
  },
  {
   "cell_type": "markdown",
   "metadata": {},
   "source": [
    "--- \n",
    "## complete Finance Data Model\n",
    "now since we got a handle of dataframe basics, let's create other chartfields/dimensions and create a complete Ledger DataFrame"
   ]
  },
  {
   "cell_type": "code",
   "execution_count": 9,
   "metadata": {},
   "outputs": [
    {
     "data": {
      "text/plain": [
       "(35, 8)"
      ]
     },
     "execution_count": 9,
     "metadata": {},
     "output_type": "execute_result"
    }
   ],
   "source": [
    "# we already have created accounts dimension (35 rows, 8 columns) above\n",
    "size(accountsDF)"
   ]
  },
  {
   "cell_type": "code",
   "execution_count": 10,
   "metadata": {},
   "outputs": [
    {
     "data": {
      "text/plain": [
       "((5, 7), \u001b[1m5×7 DataFrame\u001b[0m\n",
       "\u001b[1m Row \u001b[0m│\u001b[1m AS_OF_DATE \u001b[0m\u001b[1m ID    \u001b[0m\u001b[1m CLASSIFICATION \u001b[0m\u001b[1m CATEGORY       \u001b[0m\u001b[1m STATUS \u001b[0m\u001b[1m DESCR       \u001b[0m ⋯\n",
       "\u001b[1m     \u001b[0m│\u001b[90m Date       \u001b[0m\u001b[90m Int64 \u001b[0m\u001b[90m String         \u001b[0m\u001b[90m String         \u001b[0m\u001b[90m String \u001b[0m\u001b[90m String      \u001b[0m ⋯\n",
       "─────┼──────────────────────────────────────────────────────────────────────────\n",
       "   1 │ 2000-01-01   1100  SALES           sales           A       Sales & Mark ⋯\n",
       "   2 │ 2000-01-01   1200  HR              human_resource  A       Human Resour\n",
       "   3 │ 2000-01-01   1300  IT              IT_Staff        A       Infomration\n",
       "   4 │ 2000-01-01   1400  BUSINESS        business        A       Business lea\n",
       "   5 │ 2000-01-01   1500  OTHERS          others          A       other temp   ⋯\n",
       "\u001b[36m                                                               2 columns omitted\u001b[0m)"
      ]
     },
     "execution_count": 10,
     "metadata": {},
     "output_type": "execute_result"
    }
   ],
   "source": [
    "# DEPARTMENT Chartfield\n",
    "deptDF = DataFrame(\n",
    "    AS_OF_DATE=Date(\"2000-01-01\", dateformat\"y-m-d\"), \n",
    "    ID = 1100:100:1500,\n",
    "    CLASSIFICATION=[\"SALES\",\"HR\", \"IT\",\"BUSINESS\",\"OTHERS\"],\n",
    "    CATEGORY=[\"sales\",\"human_resource\",\"IT_Staff\",\"business\",\"others\"],\n",
    "    STATUS=\"A\",\n",
    "    DESCR=[\n",
    "    \"Sales & Marketing\",\"Human Resource\",\"Infomration Technology\",\"Business leaders\",\"other temp\"\n",
    "        ],\n",
    "    DEPT_TYPE=[\"S\",\"H\",\"I\",\"B\",\"O\"]);\n",
    "size(deptDF),deptDF[collect(1:5),:]"
   ]
  },
  {
   "cell_type": "code",
   "execution_count": 11,
   "metadata": {},
   "outputs": [
    {
     "data": {
      "text/html": [
       "<div class=\"data-frame\"><p>12 rows × 7 columns</p><table class=\"data-frame\"><thead><tr><th></th><th>AS_OF_DATE</th><th>ID</th><th>CLASSIFICATION</th><th>CATEGORY</th><th>STATUS</th><th>DESCR</th><th>LOC_TYPE</th></tr><tr><th></th><th title=\"Date\">Date</th><th title=\"Int64\">Int64</th><th title=\"String\">String</th><th title=\"String\">String</th><th title=\"String\">String</th><th title=\"String\">String</th><th title=\"String\">String</th></tr></thead><tbody><tr><th>1</th><td>2000-01-01</td><td>11</td><td>Region A</td><td>Region A</td><td>A</td><td>Boston</td><td>Physical</td></tr><tr><th>2</th><td>2000-01-01</td><td>12</td><td>Region A</td><td>Region A</td><td>A</td><td>New York</td><td>Physical</td></tr><tr><th>3</th><td>2000-01-01</td><td>13</td><td>Region A</td><td>Region A</td><td>A</td><td>Philadelphia</td><td>Physical</td></tr><tr><th>4</th><td>2000-01-01</td><td>14</td><td>Region A</td><td>Region A</td><td>A</td><td>Cleveland</td><td>Physical</td></tr><tr><th>5</th><td>2000-01-01</td><td>15</td><td>Region B</td><td>Region B</td><td>A</td><td>Richmond</td><td>Physical</td></tr><tr><th>6</th><td>2000-01-01</td><td>16</td><td>Region B</td><td>Region B</td><td>A</td><td>Atlanta</td><td>Physical</td></tr><tr><th>7</th><td>2000-01-01</td><td>17</td><td>Region B</td><td>Region B</td><td>A</td><td>Chicago</td><td>Physical</td></tr><tr><th>8</th><td>2000-01-01</td><td>18</td><td>Region B</td><td>Region B</td><td>A</td><td>St. Louis</td><td>Physical</td></tr><tr><th>9</th><td>2000-01-01</td><td>19</td><td>Region C</td><td>Region C</td><td>A</td><td>Minneapolis</td><td>Physical</td></tr><tr><th>10</th><td>2000-01-01</td><td>20</td><td>Region C</td><td>Region C</td><td>A</td><td>Kansas City</td><td>Physical</td></tr><tr><th>11</th><td>2000-01-01</td><td>21</td><td>Region C</td><td>Region C</td><td>A</td><td>Dallas</td><td>Physical</td></tr><tr><th>12</th><td>2000-01-01</td><td>22</td><td>Region C</td><td>Region C</td><td>A</td><td>San Francisco</td><td>Physical</td></tr></tbody></table></div>"
      ],
      "text/latex": [
       "\\begin{tabular}{r|ccccccc}\n",
       "\t& AS\\_OF\\_DATE & ID & CLASSIFICATION & CATEGORY & STATUS & DESCR & LOC\\_TYPE\\\\\n",
       "\t\\hline\n",
       "\t& Date & Int64 & String & String & String & String & String\\\\\n",
       "\t\\hline\n",
       "\t1 & 2000-01-01 & 11 & Region A & Region A & A & Boston & Physical \\\\\n",
       "\t2 & 2000-01-01 & 12 & Region A & Region A & A & New York & Physical \\\\\n",
       "\t3 & 2000-01-01 & 13 & Region A & Region A & A & Philadelphia & Physical \\\\\n",
       "\t4 & 2000-01-01 & 14 & Region A & Region A & A & Cleveland & Physical \\\\\n",
       "\t5 & 2000-01-01 & 15 & Region B & Region B & A & Richmond & Physical \\\\\n",
       "\t6 & 2000-01-01 & 16 & Region B & Region B & A & Atlanta & Physical \\\\\n",
       "\t7 & 2000-01-01 & 17 & Region B & Region B & A & Chicago & Physical \\\\\n",
       "\t8 & 2000-01-01 & 18 & Region B & Region B & A & St. Louis & Physical \\\\\n",
       "\t9 & 2000-01-01 & 19 & Region C & Region C & A & Minneapolis & Physical \\\\\n",
       "\t10 & 2000-01-01 & 20 & Region C & Region C & A & Kansas City & Physical \\\\\n",
       "\t11 & 2000-01-01 & 21 & Region C & Region C & A & Dallas & Physical \\\\\n",
       "\t12 & 2000-01-01 & 22 & Region C & Region C & A & San Francisco & Physical \\\\\n",
       "\\end{tabular}\n"
      ],
      "text/plain": [
       "\u001b[1m12×7 DataFrame\u001b[0m\n",
       "\u001b[1m Row \u001b[0m│\u001b[1m AS_OF_DATE \u001b[0m\u001b[1m ID    \u001b[0m\u001b[1m CLASSIFICATION \u001b[0m\u001b[1m CATEGORY \u001b[0m\u001b[1m STATUS \u001b[0m\u001b[1m DESCR         \u001b[0m\u001b[1m LOC\u001b[0m ⋯\n",
       "\u001b[1m     \u001b[0m│\u001b[90m Date       \u001b[0m\u001b[90m Int64 \u001b[0m\u001b[90m String         \u001b[0m\u001b[90m String   \u001b[0m\u001b[90m String \u001b[0m\u001b[90m String        \u001b[0m\u001b[90m Str\u001b[0m ⋯\n",
       "─────┼──────────────────────────────────────────────────────────────────────────\n",
       "   1 │ 2000-01-01     11  Region A        Region A  A       Boston         Phy ⋯\n",
       "   2 │ 2000-01-01     12  Region A        Region A  A       New York       Phy\n",
       "   3 │ 2000-01-01     13  Region A        Region A  A       Philadelphia   Phy\n",
       "   4 │ 2000-01-01     14  Region A        Region A  A       Cleveland      Phy\n",
       "   5 │ 2000-01-01     15  Region B        Region B  A       Richmond       Phy ⋯\n",
       "   6 │ 2000-01-01     16  Region B        Region B  A       Atlanta        Phy\n",
       "   7 │ 2000-01-01     17  Region B        Region B  A       Chicago        Phy\n",
       "   8 │ 2000-01-01     18  Region B        Region B  A       St. Louis      Phy\n",
       "   9 │ 2000-01-01     19  Region C        Region C  A       Minneapolis    Phy ⋯\n",
       "  10 │ 2000-01-01     20  Region C        Region C  A       Kansas City    Phy\n",
       "  11 │ 2000-01-01     21  Region C        Region C  A       Dallas         Phy\n",
       "  12 │ 2000-01-01     22  Region C        Region C  A       San Francisco  Phy\n",
       "\u001b[36m                                                                1 column omitted\u001b[0m"
      ]
     },
     "execution_count": 11,
     "metadata": {},
     "output_type": "execute_result"
    }
   ],
   "source": [
    "# LOCATION Chartfield\n",
    "locationDF = DataFrame(\n",
    "    AS_OF_DATE=Date(\"2000-01-01\", dateformat\"y-m-d\"), \n",
    "    ID = 11:1:22,\n",
    "    CLASSIFICATION=repeat([\n",
    "        \"Region A\",\"Region B\", \"Region C\"], inner=4),\n",
    "    CATEGORY=repeat([\n",
    "        \"Region A\",\"Region B\", \"Region C\"], inner=4),\n",
    "    STATUS=\"A\",\n",
    "    DESCR=[\n",
    "\"Boston\",\"New York\",\"Philadelphia\",\"Cleveland\",\"Richmond\",\n",
    "\"Atlanta\",\"Chicago\",\"St. Louis\",\"Minneapolis\",\"Kansas City\",\n",
    "\"Dallas\",\"San Francisco\"],\n",
    "    LOC_TYPE=\"Physical\");\n",
    "locationDF[:,:]"
   ]
  },
  {
   "cell_type": "code",
   "execution_count": 12,
   "metadata": {},
   "outputs": [
    {
     "data": {
      "text/plain": [
       "(2800000, 9)"
      ]
     },
     "execution_count": 12,
     "metadata": {},
     "output_type": "execute_result"
    }
   ],
   "source": [
    "# creating Ledger\n",
    "ledgerDF = DataFrame(\n",
    "            LEDGER = String[], FISCAL_YEAR = Int[], PERIOD = Int[], ORGID = String[],\n",
    "            OPER_UNIT = String[], ACCOUNT = Int[], DEPT = Int[], LOCATION = Int[],\n",
    "            POSTED_TOTAL = Float64[]\n",
    "            );\n",
    "\n",
    "# create 2020 Period 1-12 Actuals Ledger \n",
    "l = \"Actuals\";\n",
    "fy = 2020;\n",
    "for p = 1:12\n",
    "    for i = 1:10^5\n",
    "        push!(ledgerDF, (l, fy, p, \"ABC Inc.\", rand(locationDF.CATEGORY),\n",
    "            rand(accountsDF.ID), rand(deptDF.ID), rand(locationDF.ID), rand()*10^8))\n",
    "    end\n",
    "end\n",
    "\n",
    "# create 2021 Period 1-4 Actuals Ledger \n",
    "l = \"Actuals\";\n",
    "fy = 2021;\n",
    "for p = 1:4\n",
    "    for i = 1:10^5\n",
    "        push!(ledgerDF, (l, fy, p, \"ABC Inc.\", rand(locationDF.CATEGORY),\n",
    "            rand(accountsDF.ID), rand(deptDF.ID), rand(locationDF.ID), rand()*10^8))\n",
    "    end\n",
    "end\n",
    "\n",
    "# create 2021 Period 1-4 Budget Ledger \n",
    "l = \"Budget\";\n",
    "fy = 2021;\n",
    "for p = 1:12\n",
    "    for i = 1:10^5\n",
    "        push!(ledgerDF, (l, fy, p, \"ABC Inc.\", rand(locationDF.CATEGORY),\n",
    "            rand(accountsDF.ID), rand(deptDF.ID), rand(locationDF.ID), rand()*10^8))\n",
    "    end\n",
    "end\n",
    "\n",
    "# here is ~3 million rows ledger dataframe\n",
    "size(ledgerDF)"
   ]
  },
  {
   "cell_type": "markdown",
   "metadata": {},
   "source": [
    "## using joins"
   ]
  },
  {
   "cell_type": "code",
   "execution_count": 13,
   "metadata": {},
   "outputs": [
    {
     "data": {
      "text/plain": [
       "((35, 8), (5, 7), (12, 7), (2800000, 9), (2800000, 28))"
      ]
     },
     "execution_count": 13,
     "metadata": {},
     "output_type": "execute_result"
    }
   ],
   "source": [
    "# rename dimensions columns for innerjoin\n",
    "df_accounts = rename(accountsDF, :ID => :ACCOUNTS_ID, :CLASSIFICATION => :ACCOUNTS_CLASSIFICATION, \n",
    "    :CATEGORY => :ACCOUNTS_CATEGORY, :DESCR => :ACCOUNTS_DESCR);\n",
    "df_dept = rename(deptDF, :ID => :DEPT_ID, :CLASSIFICATION => :DEPT_CLASSIFICATION, \n",
    "    :CATEGORY => :DEPT_CATEGORY, :DESCR => :DEPT_DESCR);\n",
    "df_location = rename(locationDF, :ID => :LOCATION_ID, :CLASSIFICATION => :LOCATION_CLASSIFICATION,\n",
    "    :CATEGORY => :LOCATION_CATEGORY, :DESCR => :LOCATION_DESCR);\n",
    "\n",
    "# join Ledger accounts chartfield with accounts chartfield dataframe to pull all accounts fields\n",
    "# join Ledger dept chartfield with dept chartfield dataframe to pull all dept fields\n",
    "# join Ledger location chartfield with location chartfield dataframe to pull all location fields\n",
    "df_ledger = innerjoin(\n",
    "                innerjoin(\n",
    "                    innerjoin(ledgerDF, df_accounts, on = [:ACCOUNT => :ACCOUNTS_ID], makeunique=true),\n",
    "                    df_dept, on = [:DEPT => :DEPT_ID], makeunique=true), df_location,\n",
    "                on = [:LOCATION => :LOCATION_ID], makeunique=true);\n",
    "\n",
    "# note, how ledger DF has 28 columns now (inclusive of all chartfields join)\n",
    "size(df_accounts),size(df_dept),size(df_location), size(ledgerDF), size(df_ledger)"
   ]
  },
  {
   "cell_type": "markdown",
   "metadata": {},
   "source": [
    "## data transformation\n",
    "often, user needs to add, update or transform an existing column in a dataset.\n",
    "\n",
    "use the select/select! and transform/transform! functions to select, rename and transform columns in a data frame.\n",
    "\n",
    "transform and transform! functions work identically to select and select!, with the only difference that they retain all columns that are present in the source data frame."
   ]
  },
  {
   "cell_type": "code",
   "execution_count": 14,
   "metadata": {},
   "outputs": [
    {
     "data": {
      "text/plain": [
       "(\"df_ledger_size after transformation is: \", (2800000, 30))"
      ]
     },
     "execution_count": 14,
     "metadata": {},
     "output_type": "execute_result"
    }
   ],
   "source": [
    "# run one command at a time\n",
    "names(df_ledger) # displays all 28 columns available in dataframes\n",
    "unique(df_ledger.PERIOD) # displays unique values of accounting periods\n",
    "\n",
    "# in this example, user wants to add a new fiels \"QUARTER\" which disp[lays Qtr # ( 1 -4) based on month/period\n",
    "# we can use select, but because we want to retain all existing columns\n",
    "# let's use transform function instead to create this column\n",
    "# also, we will use transform! (tranform bang) to update original ledger DF\n",
    "\n",
    "# let's first create a function, which takes month/period and shows Qtr #\n",
    "function periodToQtr(x)\n",
    "    if x ∈ 1:3\n",
    "        return 1\n",
    "    elseif x ∈ 4:6\n",
    "        return 2\n",
    "    elseif x ∈ 7:9\n",
    "        return 3\n",
    "    else return 4\n",
    "    end\n",
    "end\n",
    "\n",
    "# now we will use this function to transform a new column\n",
    "transform!(df_ledger, :PERIOD => ByRow(periodToQtr) => :QTR)\n",
    "\n",
    "# let's create one more generic function, which converts a number to USD currency\n",
    "function numToCurrency(x)\n",
    "        return string(\"USD \",round(x/10^6; digits = 2), \" million\")\n",
    "end\n",
    "\n",
    "transform!(df_ledger, :POSTED_TOTAL => ByRow(numToCurrency) => :TOTAL)\n",
    "df_ledger[1:5,[\"POSTED_TOTAL\",\"TOTAL\"]]\n",
    "\"df_ledger_size after transformation is: \", size(df_ledger)"
   ]
  },
  {
   "cell_type": "markdown",
   "metadata": {},
   "source": [
    "## using split-apply-combine for data grouping\n",
    "[Ref](https://dataframes.juliadata.org/stable/man/split_apply_combine/) The DataFrames package supports the split-apply-combine strategy through the groupby function that creates a GroupedDataFrame, followed by combine, select/select! or transform/transform!.\n",
    "\n",
    "    splitting a data set into groups,\n",
    "    applying some functions to each of the groups,\n",
    "    combining the results."
   ]
  },
  {
   "cell_type": "code",
   "execution_count": 25,
   "metadata": {},
   "outputs": [
    {
     "data": {
      "text/html": [
       "<div class=\"data-frame\"><p>5 rows × 8 columns (omitted printing of 2 columns)</p><table class=\"data-frame\"><thead><tr><th></th><th>LEDGER</th><th>FISCAL_YEAR</th><th>QTR</th><th>OPER_UNIT</th><th>ACCOUNTS_CLASSIFICATION</th><th>DEPT_CLASSIFICATION</th></tr><tr><th></th><th title=\"String\">String</th><th title=\"Int64\">Int64</th><th title=\"Int64\">Int64</th><th title=\"String\">String</th><th title=\"String\">String</th><th title=\"String\">String</th></tr></thead><tbody><tr><th>1</th><td>Actuals</td><td>2020</td><td>1</td><td>Region A</td><td>STATISTICS</td><td>HR</td></tr><tr><th>2</th><td>Actuals</td><td>2020</td><td>1</td><td>Region B</td><td>NON-OPERATING_EXPENSES</td><td>BUSINESS</td></tr><tr><th>3</th><td>Actuals</td><td>2020</td><td>1</td><td>Region C</td><td>OPERATING_EXPENSES</td><td>IT</td></tr><tr><th>4</th><td>Actuals</td><td>2020</td><td>1</td><td>Region A</td><td>NET_WORTH</td><td>HR</td></tr><tr><th>5</th><td>Actuals</td><td>2020</td><td>1</td><td>Region C</td><td>NET_WORTH</td><td>OTHERS</td></tr></tbody></table></div>"
      ],
      "text/latex": [
       "\\begin{tabular}{r|ccccccc}\n",
       "\t& LEDGER & FISCAL\\_YEAR & QTR & OPER\\_UNIT & ACCOUNTS\\_CLASSIFICATION & DEPT\\_CLASSIFICATION & \\\\\n",
       "\t\\hline\n",
       "\t& String & Int64 & Int64 & String & String & String & \\\\\n",
       "\t\\hline\n",
       "\t1 & Actuals & 2020 & 1 & Region A & STATISTICS & HR & $\\dots$ \\\\\n",
       "\t2 & Actuals & 2020 & 1 & Region B & NON-OPERATING\\_EXPENSES & BUSINESS & $\\dots$ \\\\\n",
       "\t3 & Actuals & 2020 & 1 & Region C & OPERATING\\_EXPENSES & IT & $\\dots$ \\\\\n",
       "\t4 & Actuals & 2020 & 1 & Region A & NET\\_WORTH & HR & $\\dots$ \\\\\n",
       "\t5 & Actuals & 2020 & 1 & Region C & NET\\_WORTH & OTHERS & $\\dots$ \\\\\n",
       "\\end{tabular}\n"
      ],
      "text/plain": [
       "\u001b[1m5×8 DataFrame\u001b[0m\n",
       "\u001b[1m Row \u001b[0m│\u001b[1m LEDGER  \u001b[0m\u001b[1m FISCAL_YEAR \u001b[0m\u001b[1m QTR   \u001b[0m\u001b[1m OPER_UNIT \u001b[0m\u001b[1m ACCOUNTS_CLASSIFICATION \u001b[0m\u001b[1m DEPT_C\u001b[0m ⋯\n",
       "\u001b[1m     \u001b[0m│\u001b[90m String  \u001b[0m\u001b[90m Int64       \u001b[0m\u001b[90m Int64 \u001b[0m\u001b[90m String    \u001b[0m\u001b[90m String                  \u001b[0m\u001b[90m String\u001b[0m ⋯\n",
       "─────┼──────────────────────────────────────────────────────────────────────────\n",
       "   1 │ Actuals         2020      1  Region A   STATISTICS               HR     ⋯\n",
       "   2 │ Actuals         2020      1  Region B   NON-OPERATING_EXPENSES   BUSINE\n",
       "   3 │ Actuals         2020      1  Region C   OPERATING_EXPENSES       IT\n",
       "   4 │ Actuals         2020      1  Region A   NET_WORTH                HR\n",
       "   5 │ Actuals         2020      1  Region C   NET_WORTH                OTHERS ⋯\n",
       "\u001b[36m                                                               3 columns omitted\u001b[0m"
      ]
     },
     "execution_count": 25,
     "metadata": {},
     "output_type": "execute_result"
    }
   ],
   "source": [
    "# group by all Chartfields\n",
    "gdf = groupby(df_ledger, [:LEDGER, :FISCAL_YEAR, :QTR, :OPER_UNIT, :ACCOUNTS_CLASSIFICATION, :DEPT_CLASSIFICATION, \n",
    "    # :LOCATION_CLASSIFICATION,\n",
    "    :LOCATION_DESCR])\n",
    "# group by all Ledger, FY, Period & Entity\n",
    "# gdf = groupby(df_ledger, [:LEDGER, :FISCAL_YEAR, :QTR, :OPER_UNIT]) # create a GroupedDataFrame\n",
    "gdf_plot = combine(gdf, :POSTED_TOTAL => sum => :TOTAL)\n",
    "gdf_plot = transform(gdf_plot, :TOTAL => ByRow.(numToCurrency) => :TOTAL)\n",
    "gdf_plot[1:5,:]"
   ]
  },
  {
   "cell_type": "markdown",
   "metadata": {},
   "source": [
    "## GL BalanceSheet, IncomeStatement & CashFlow\n",
    "\n",
    "### Balance Sheet (Interactive)"
   ]
  },
  {
   "cell_type": "code",
   "execution_count": 16,
   "metadata": {},
   "outputs": [
    {
     "data": {
      "application/vnd.webio.node+json": {
       "children": [],
       "instanceArgs": {
        "namespace": "html",
        "tag": "div"
       },
       "nodeType": "DOM",
       "props": {},
       "type": "node"
      },
      "text/html": [
       "<div style=\"padding: 1em; background-color: #f8d6da; border: 1px solid #f5c6cb; font-weight: bold;\">\n",
       "<p>The WebIO Jupyter extension was not detected. See the\n",
       "<a href=\"https://juliagizmos.github.io/WebIO.jl/latest/providers/ijulia/\" target=\"_blank\">\n",
       "    WebIO Jupyter integration documentation\n",
       "</a>\n",
       "for more information.\n",
       "</div>\n"
      ],
      "text/plain": [
       "WebIO._IJuliaInit()"
      ]
     },
     "metadata": {
      "application/vnd.webio.node+json": {
       "kernelId": "e2edb929-a595-4295-908e-4c215e475d45"
      }
     },
     "output_type": "display_data"
    },
    {
     "name": "stderr",
     "output_type": "stream",
     "text": [
      "\u001b[32m\u001b[1m   Resolving\u001b[22m\u001b[39m package versions...\n",
      "\u001b[32m\u001b[1m  No Changes\u001b[22m\u001b[39m to `~/.julia/environments/v1.7/Project.toml`\n",
      "\u001b[32m\u001b[1m  No Changes\u001b[22m\u001b[39m to `~/.julia/environments/v1.7/Manifest.toml`\n",
      "\u001b[32m\u001b[1m   Resolving\u001b[22m\u001b[39m package versions...\n",
      "\u001b[32m\u001b[1m  No Changes\u001b[22m\u001b[39m to `~/.julia/environments/v1.7/Project.toml`\n",
      "\u001b[32m\u001b[1m  No Changes\u001b[22m\u001b[39m to `~/.julia/environments/v1.7/Manifest.toml`\n",
      "\u001b[32m\u001b[1m    Building\u001b[22m\u001b[39m WebIO → `~/.julia/scratchspaces/44cfe95a-1eb2-52ea-b672-e2afdf69b78f/c9529be473e97fa0b3b2642cdafcd0896b4c9494/build.log`\n"
     ]
    }
   ],
   "source": [
    "Pkg.add(\"Interact\")\n",
    "Pkg.add(\"WebIO\")\n",
    "using Interact\n",
    "using WebIO\n",
    "Pkg.build(\"WebIO\")"
   ]
  },
  {
   "cell_type": "code",
   "execution_count": 70,
   "metadata": {},
   "outputs": [
    {
     "name": "stdout",
     "output_type": "stream",
     "text": [
      "(ld, rg, yr, qtr) = (\"Actuals\", \"Region B\", 2021, 2)\n"
     ]
    },
    {
     "data": {
      "application/vnd.webio.node+json": {
       "children": [
        {
         "children": [
          {
           "children": [
            {
             "children": [
              {
               "children": [
                {
                 "children": [
                  "ld"
                 ],
                 "instanceArgs": {
                  "namespace": "html",
                  "tag": "label"
                 },
                 "nodeType": "DOM",
                 "props": {
                  "className": "interact ",
                  "style": {
                   "padding": "5px 10px 0px 10px"
                  }
                 },
                 "type": "node"
                }
               ],
               "instanceArgs": {
                "namespace": "html",
                "tag": "div"
               },
               "nodeType": "DOM",
               "props": {
                "className": "interact-flex-row-left"
               },
               "type": "node"
              },
              {
               "children": [
                {
                 "children": [
                  {
                   "children": [
                    {
                     "children": [],
                     "instanceArgs": {
                      "namespace": "html",
                      "tag": "label"
                     },
                     "nodeType": "DOM",
                     "props": {
                      "attributes": {
                       "data-bind": "text : key"
                      }
                     },
                     "type": "node"
                    }
                   ],
                   "instanceArgs": {
                    "namespace": "html",
                    "tag": "span"
                   },
                   "nodeType": "DOM",
                   "props": {
                    "attributes": {
                     "data-bind": "click: function (){$root.update(val)}, css: {'is-primary is-selected' : $root.index() == val, 'interact-widget is-medium button ' : true}"
                    }
                   },
                   "type": "node"
                  }
                 ],
                 "instanceArgs": {
                  "namespace": "html",
                  "tag": "div"
                 },
                 "nodeType": "DOM",
                 "props": {
                  "attributes": {
                   "data-bind": "foreach : options_js"
                  },
                  "className": "buttons has-addons is-centered"
                 },
                 "type": "node"
                }
               ],
               "instanceArgs": {
                "namespace": "html",
                "tag": "div"
               },
               "nodeType": "DOM",
               "props": {
                "className": "interact-flex-row-center"
               },
               "type": "node"
              },
              {
               "children": [
                {
                 "children": [],
                 "instanceArgs": {
                  "namespace": "html",
                  "tag": "div"
                 },
                 "nodeType": "DOM",
                 "props": {},
                 "type": "node"
                }
               ],
               "instanceArgs": {
                "namespace": "html",
                "tag": "div"
               },
               "nodeType": "DOM",
               "props": {
                "className": "interact-flex-row-right"
               },
               "type": "node"
              }
             ],
             "instanceArgs": {
              "namespace": "html",
              "tag": "div"
             },
             "nodeType": "DOM",
             "props": {
              "className": "interact-flex-row interact-widget"
             },
             "type": "node"
            }
           ],
           "instanceArgs": {
            "handlers": {
             "index": [
              "(function (val){return (val!=this.model[\"index\"]()) ? (this.valueFromJulia[\"index\"]=true, this.model[\"index\"](val)) : undefined})"
             ],
             "options_js": [
              "(function (val){return (val!=this.model[\"options_js\"]()) ? (this.valueFromJulia[\"options_js\"]=true, this.model[\"options_js\"](val)) : undefined})"
             ]
            },
            "id": "4553191827914530016",
            "imports": {
             "data": [
              {
               "name": "knockout",
               "type": "js",
               "url": "/assetserver/7adbe83fac1553325d6e718d595ab555e1cabbe4-knockout.js"
              },
              {
               "name": "knockout_punches",
               "type": "js",
               "url": "/assetserver/cec8c4de011abc05b545afbaaea4bb4465a1f168-knockout_punches.js"
              },
              {
               "name": null,
               "type": "js",
               "url": "/assetserver/5ddeec2b33e792dac4326b9b8929eb841863a558-all.js"
              },
              {
               "name": null,
               "type": "css",
               "url": "/assetserver/a04b7b754438af5b294cd7f1d762c01dae6fade5-style.css"
              },
              {
               "name": null,
               "type": "css",
               "url": "/assetserver/50b13cf07303023836f4115fe93a8fe3eca4721a-bulma_confined.min.css"
              }
             ],
             "type": "async_block"
            },
            "mount_callbacks": [
             "function () {\n    var handler = (function (ko, koPunches) {\n    ko.punches.enableAll();\n    ko.bindingHandlers.numericValue = {\n        init: function(element, valueAccessor, allBindings, data, context) {\n            var stringified = ko.observable(ko.unwrap(valueAccessor()));\n            stringified.subscribe(function(value) {\n                var val = parseFloat(value);\n                if (!isNaN(val)) {\n                    valueAccessor()(val);\n                }\n            });\n            valueAccessor().subscribe(function(value) {\n                var str = JSON.stringify(value);\n                if ((str == \"0\") && ([\"-0\", \"-0.\"].indexOf(stringified()) >= 0))\n                     return;\n                 if ([\"null\", \"\"].indexOf(str) >= 0)\n                     return;\n                stringified(str);\n            });\n            ko.applyBindingsToNode(\n                element,\n                {\n                    value: stringified,\n                    valueUpdate: allBindings.get('valueUpdate'),\n                },\n                context,\n            );\n        }\n    };\n    var json_data = {\"options_js\":WebIO.getval({\"name\":\"options_js\",\"scope\":\"4553191827914530016\",\"id\":\"1675532653302250141\",\"type\":\"observable\"}),\"index\":WebIO.getval({\"name\":\"index\",\"scope\":\"4553191827914530016\",\"id\":\"5616952524097154523\",\"type\":\"observable\"})};\n    var self = this;\n    function AppViewModel() {\n        for (var key in json_data) {\n            var el = json_data[key];\n            this[key] = Array.isArray(el) ? ko.observableArray(el) : ko.observable(el);\n        }\n        [this[\"update\"]=function (val) {this.index(val)}]\n        \n        [this[\"options_js\"].subscribe((function (val){!(this.valueFromJulia[\"options_js\"]) ? (WebIO.setval({\"name\":\"options_js\",\"scope\":\"4553191827914530016\",\"id\":\"1675532653302250141\",\"type\":\"observable\"},val)) : undefined; return this.valueFromJulia[\"options_js\"]=false}),self),this[\"index\"].subscribe((function (val){!(this.valueFromJulia[\"index\"]) ? (WebIO.setval({\"name\":\"index\",\"scope\":\"4553191827914530016\",\"id\":\"5616952524097154523\",\"type\":\"observable\"},val)) : undefined; return this.valueFromJulia[\"index\"]=false}),self)]\n        \n    }\n    self.model = new AppViewModel();\n    self.valueFromJulia = {};\n    for (var key in json_data) {\n        self.valueFromJulia[key] = false;\n    }\n    ko.applyBindings(self.model, self.dom);\n}\n);\n    (WebIO.importBlock({\"data\":[{\"name\":\"knockout\",\"type\":\"js\",\"url\":\"/assetserver/7adbe83fac1553325d6e718d595ab555e1cabbe4-knockout.js\"},{\"name\":\"knockout_punches\",\"type\":\"js\",\"url\":\"/assetserver/cec8c4de011abc05b545afbaaea4bb4465a1f168-knockout_punches.js\"}],\"type\":\"async_block\"})).then((imports) => handler.apply(this, imports));\n}\n"
            ],
            "observables": {
             "index": {
              "id": "5616952524097154523",
              "sync": true,
              "value": 1
             },
             "options_js": {
              "id": "1675532653302250141",
              "sync": false,
              "value": [
               {
                "id": "idu5VuDNuy",
                "key": "Actuals",
                "val": 1
               },
               {
                "id": "idO8qLZwak",
                "key": "Budget",
                "val": 2
               }
              ]
             }
            },
            "systemjs_options": null
           },
           "nodeType": "Scope",
           "props": {},
           "type": "node"
          }
         ],
         "instanceArgs": {
          "namespace": "html",
          "tag": "div"
         },
         "nodeType": "DOM",
         "props": {
          "className": "interact-widget"
         },
         "type": "node"
        },
        {
         "children": [
          {
           "children": [
            {
             "children": [
              {
               "children": [
                {
                 "children": [
                  "rg"
                 ],
                 "instanceArgs": {
                  "namespace": "html",
                  "tag": "label"
                 },
                 "nodeType": "DOM",
                 "props": {
                  "className": "interact ",
                  "style": {
                   "padding": "5px 10px 0px 10px"
                  }
                 },
                 "type": "node"
                }
               ],
               "instanceArgs": {
                "namespace": "html",
                "tag": "div"
               },
               "nodeType": "DOM",
               "props": {
                "className": "interact-flex-row-left"
               },
               "type": "node"
              },
              {
               "children": [
                {
                 "children": [
                  {
                   "children": [
                    {
                     "children": [],
                     "instanceArgs": {
                      "namespace": "html",
                      "tag": "label"
                     },
                     "nodeType": "DOM",
                     "props": {
                      "attributes": {
                       "data-bind": "text : key"
                      }
                     },
                     "type": "node"
                    }
                   ],
                   "instanceArgs": {
                    "namespace": "html",
                    "tag": "span"
                   },
                   "nodeType": "DOM",
                   "props": {
                    "attributes": {
                     "data-bind": "click: function (){$root.update(val)}, css: {'is-primary is-selected' : $root.index() == val, 'interact-widget is-medium button ' : true}"
                    }
                   },
                   "type": "node"
                  }
                 ],
                 "instanceArgs": {
                  "namespace": "html",
                  "tag": "div"
                 },
                 "nodeType": "DOM",
                 "props": {
                  "attributes": {
                   "data-bind": "foreach : options_js"
                  },
                  "className": "buttons has-addons is-centered"
                 },
                 "type": "node"
                }
               ],
               "instanceArgs": {
                "namespace": "html",
                "tag": "div"
               },
               "nodeType": "DOM",
               "props": {
                "className": "interact-flex-row-center"
               },
               "type": "node"
              },
              {
               "children": [
                {
                 "children": [],
                 "instanceArgs": {
                  "namespace": "html",
                  "tag": "div"
                 },
                 "nodeType": "DOM",
                 "props": {},
                 "type": "node"
                }
               ],
               "instanceArgs": {
                "namespace": "html",
                "tag": "div"
               },
               "nodeType": "DOM",
               "props": {
                "className": "interact-flex-row-right"
               },
               "type": "node"
              }
             ],
             "instanceArgs": {
              "namespace": "html",
              "tag": "div"
             },
             "nodeType": "DOM",
             "props": {
              "className": "interact-flex-row interact-widget"
             },
             "type": "node"
            }
           ],
           "instanceArgs": {
            "handlers": {
             "index": [
              "(function (val){return (val!=this.model[\"index\"]()) ? (this.valueFromJulia[\"index\"]=true, this.model[\"index\"](val)) : undefined})"
             ],
             "options_js": [
              "(function (val){return (val!=this.model[\"options_js\"]()) ? (this.valueFromJulia[\"options_js\"]=true, this.model[\"options_js\"](val)) : undefined})"
             ]
            },
            "id": "12974444920475097718",
            "imports": {
             "data": [
              {
               "name": "knockout",
               "type": "js",
               "url": "/assetserver/7adbe83fac1553325d6e718d595ab555e1cabbe4-knockout.js"
              },
              {
               "name": "knockout_punches",
               "type": "js",
               "url": "/assetserver/cec8c4de011abc05b545afbaaea4bb4465a1f168-knockout_punches.js"
              },
              {
               "name": null,
               "type": "js",
               "url": "/assetserver/5ddeec2b33e792dac4326b9b8929eb841863a558-all.js"
              },
              {
               "name": null,
               "type": "css",
               "url": "/assetserver/a04b7b754438af5b294cd7f1d762c01dae6fade5-style.css"
              },
              {
               "name": null,
               "type": "css",
               "url": "/assetserver/50b13cf07303023836f4115fe93a8fe3eca4721a-bulma_confined.min.css"
              }
             ],
             "type": "async_block"
            },
            "mount_callbacks": [
             "function () {\n    var handler = (function (ko, koPunches) {\n    ko.punches.enableAll();\n    ko.bindingHandlers.numericValue = {\n        init: function(element, valueAccessor, allBindings, data, context) {\n            var stringified = ko.observable(ko.unwrap(valueAccessor()));\n            stringified.subscribe(function(value) {\n                var val = parseFloat(value);\n                if (!isNaN(val)) {\n                    valueAccessor()(val);\n                }\n            });\n            valueAccessor().subscribe(function(value) {\n                var str = JSON.stringify(value);\n                if ((str == \"0\") && ([\"-0\", \"-0.\"].indexOf(stringified()) >= 0))\n                     return;\n                 if ([\"null\", \"\"].indexOf(str) >= 0)\n                     return;\n                stringified(str);\n            });\n            ko.applyBindingsToNode(\n                element,\n                {\n                    value: stringified,\n                    valueUpdate: allBindings.get('valueUpdate'),\n                },\n                context,\n            );\n        }\n    };\n    var json_data = {\"options_js\":WebIO.getval({\"name\":\"options_js\",\"scope\":\"12974444920475097718\",\"id\":\"9778487130305084804\",\"type\":\"observable\"}),\"index\":WebIO.getval({\"name\":\"index\",\"scope\":\"12974444920475097718\",\"id\":\"3431689064991355076\",\"type\":\"observable\"})};\n    var self = this;\n    function AppViewModel() {\n        for (var key in json_data) {\n            var el = json_data[key];\n            this[key] = Array.isArray(el) ? ko.observableArray(el) : ko.observable(el);\n        }\n        [this[\"update\"]=function (val) {this.index(val)}]\n        \n        [this[\"options_js\"].subscribe((function (val){!(this.valueFromJulia[\"options_js\"]) ? (WebIO.setval({\"name\":\"options_js\",\"scope\":\"12974444920475097718\",\"id\":\"9778487130305084804\",\"type\":\"observable\"},val)) : undefined; return this.valueFromJulia[\"options_js\"]=false}),self),this[\"index\"].subscribe((function (val){!(this.valueFromJulia[\"index\"]) ? (WebIO.setval({\"name\":\"index\",\"scope\":\"12974444920475097718\",\"id\":\"3431689064991355076\",\"type\":\"observable\"},val)) : undefined; return this.valueFromJulia[\"index\"]=false}),self)]\n        \n    }\n    self.model = new AppViewModel();\n    self.valueFromJulia = {};\n    for (var key in json_data) {\n        self.valueFromJulia[key] = false;\n    }\n    ko.applyBindings(self.model, self.dom);\n}\n);\n    (WebIO.importBlock({\"data\":[{\"name\":\"knockout\",\"type\":\"js\",\"url\":\"/assetserver/7adbe83fac1553325d6e718d595ab555e1cabbe4-knockout.js\"},{\"name\":\"knockout_punches\",\"type\":\"js\",\"url\":\"/assetserver/cec8c4de011abc05b545afbaaea4bb4465a1f168-knockout_punches.js\"}],\"type\":\"async_block\"})).then((imports) => handler.apply(this, imports));\n}\n"
            ],
            "observables": {
             "index": {
              "id": "3431689064991355076",
              "sync": true,
              "value": 1
             },
             "options_js": {
              "id": "9778487130305084804",
              "sync": false,
              "value": [
               {
                "id": "idBDyhl3gI",
                "key": "Region B",
                "val": 1
               },
               {
                "id": "idUIE3vSku",
                "key": "Region C",
                "val": 2
               },
               {
                "id": "idbcFYBjID",
                "key": "Region A",
                "val": 3
               }
              ]
             }
            },
            "systemjs_options": null
           },
           "nodeType": "Scope",
           "props": {},
           "type": "node"
          }
         ],
         "instanceArgs": {
          "namespace": "html",
          "tag": "div"
         },
         "nodeType": "DOM",
         "props": {
          "className": "interact-widget"
         },
         "type": "node"
        },
        {
         "children": [
          {
           "children": [
            {
             "children": [
              {
               "children": [
                {
                 "children": [
                  ""
                 ],
                 "instanceArgs": {
                  "namespace": "html",
                  "tag": "label"
                 },
                 "nodeType": "DOM",
                 "props": {
                  "className": "interact ",
                  "style": {
                   "padding": "5px 10px 0px 10px"
                  }
                 },
                 "type": "node"
                }
               ],
               "instanceArgs": {
                "namespace": "html",
                "tag": "div"
               },
               "nodeType": "DOM",
               "props": {
                "className": "interact-flex-row-left"
               },
               "type": "node"
              },
              {
               "children": [
                {
                 "children": [],
                 "instanceArgs": {
                  "namespace": "html",
                  "tag": "input"
                 },
                 "nodeType": "DOM",
                 "props": {
                  "attributes": {
                   "data-bind": "numericValue: index, valueUpdate: 'input', event: {change: function (){this.changes(this.changes()+1)}}",
                   "orient": "horizontal",
                   "type": "range"
                  },
                  "className": "slider slider is-fullwidth",
                  "max": 3,
                  "min": 1,
                  "step": 1,
                  "style": {}
                 },
                 "type": "node"
                }
               ],
               "instanceArgs": {
                "namespace": "html",
                "tag": "div"
               },
               "nodeType": "DOM",
               "props": {
                "className": "interact-flex-row-center"
               },
               "type": "node"
              },
              {
               "children": [
                {
                 "children": [],
                 "instanceArgs": {
                  "namespace": "html",
                  "tag": "p"
                 },
                 "nodeType": "DOM",
                 "props": {
                  "attributes": {
                   "data-bind": "text: formatted_val"
                  }
                 },
                 "type": "node"
                }
               ],
               "instanceArgs": {
                "namespace": "html",
                "tag": "div"
               },
               "nodeType": "DOM",
               "props": {
                "className": "interact-flex-row-right"
               },
               "type": "node"
              }
             ],
             "instanceArgs": {
              "namespace": "html",
              "tag": "div"
             },
             "nodeType": "DOM",
             "props": {
              "className": "interact-flex-row interact-widget"
             },
             "type": "node"
            }
           ],
           "instanceArgs": {
            "handlers": {
             "changes": [
              "(function (val){return (val!=this.model[\"changes\"]()) ? (this.valueFromJulia[\"changes\"]=true, this.model[\"changes\"](val)) : undefined})"
             ],
             "index": [
              "(function (val){return (val!=this.model[\"index\"]()) ? (this.valueFromJulia[\"index\"]=true, this.model[\"index\"](val)) : undefined})"
             ]
            },
            "id": "5722521323612265778",
            "imports": {
             "data": [
              {
               "name": "knockout",
               "type": "js",
               "url": "/assetserver/7adbe83fac1553325d6e718d595ab555e1cabbe4-knockout.js"
              },
              {
               "name": "knockout_punches",
               "type": "js",
               "url": "/assetserver/cec8c4de011abc05b545afbaaea4bb4465a1f168-knockout_punches.js"
              },
              {
               "name": null,
               "type": "js",
               "url": "/assetserver/5ddeec2b33e792dac4326b9b8929eb841863a558-all.js"
              },
              {
               "name": null,
               "type": "css",
               "url": "/assetserver/a04b7b754438af5b294cd7f1d762c01dae6fade5-style.css"
              },
              {
               "name": null,
               "type": "css",
               "url": "/assetserver/50b13cf07303023836f4115fe93a8fe3eca4721a-bulma_confined.min.css"
              }
             ],
             "type": "async_block"
            },
            "mount_callbacks": [
             "function () {\n    var handler = (function (ko, koPunches) {\n    ko.punches.enableAll();\n    ko.bindingHandlers.numericValue = {\n        init: function(element, valueAccessor, allBindings, data, context) {\n            var stringified = ko.observable(ko.unwrap(valueAccessor()));\n            stringified.subscribe(function(value) {\n                var val = parseFloat(value);\n                if (!isNaN(val)) {\n                    valueAccessor()(val);\n                }\n            });\n            valueAccessor().subscribe(function(value) {\n                var str = JSON.stringify(value);\n                if ((str == \"0\") && ([\"-0\", \"-0.\"].indexOf(stringified()) >= 0))\n                     return;\n                 if ([\"null\", \"\"].indexOf(str) >= 0)\n                     return;\n                stringified(str);\n            });\n            ko.applyBindingsToNode(\n                element,\n                {\n                    value: stringified,\n                    valueUpdate: allBindings.get('valueUpdate'),\n                },\n                context,\n            );\n        }\n    };\n    var json_data = {\"formatted_vals\":[\"2020\",\"2021\",\"2022\"],\"changes\":WebIO.getval({\"name\":\"changes\",\"scope\":\"5722521323612265778\",\"id\":\"12401784872387149051\",\"type\":\"observable\"}),\"index\":WebIO.getval({\"name\":\"index\",\"scope\":\"5722521323612265778\",\"id\":\"5179928563461159415\",\"type\":\"observable\"})};\n    var self = this;\n    function AppViewModel() {\n        for (var key in json_data) {\n            var el = json_data[key];\n            this[key] = Array.isArray(el) ? ko.observableArray(el) : ko.observable(el);\n        }\n        \n        [this[\"formatted_val\"]=ko.computed(    function(){\n        return this.formatted_vals()[parseInt(this.index())-(1)];\n    }\n,this)]\n        [this[\"changes\"].subscribe((function (val){!(this.valueFromJulia[\"changes\"]) ? (WebIO.setval({\"name\":\"changes\",\"scope\":\"5722521323612265778\",\"id\":\"12401784872387149051\",\"type\":\"observable\"},val)) : undefined; return this.valueFromJulia[\"changes\"]=false}),self),this[\"index\"].subscribe((function (val){!(this.valueFromJulia[\"index\"]) ? (WebIO.setval({\"name\":\"index\",\"scope\":\"5722521323612265778\",\"id\":\"5179928563461159415\",\"type\":\"observable\"},val)) : undefined; return this.valueFromJulia[\"index\"]=false}),self)]\n        \n    }\n    self.model = new AppViewModel();\n    self.valueFromJulia = {};\n    for (var key in json_data) {\n        self.valueFromJulia[key] = false;\n    }\n    ko.applyBindings(self.model, self.dom);\n}\n);\n    (WebIO.importBlock({\"data\":[{\"name\":\"knockout\",\"type\":\"js\",\"url\":\"/assetserver/7adbe83fac1553325d6e718d595ab555e1cabbe4-knockout.js\"},{\"name\":\"knockout_punches\",\"type\":\"js\",\"url\":\"/assetserver/cec8c4de011abc05b545afbaaea4bb4465a1f168-knockout_punches.js\"}],\"type\":\"async_block\"})).then((imports) => handler.apply(this, imports));\n}\n"
            ],
            "observables": {
             "changes": {
              "id": "12401784872387149051",
              "sync": false,
              "value": 0
             },
             "index": {
              "id": "5179928563461159415",
              "sync": true,
              "value": 2
             }
            },
            "systemjs_options": null
           },
           "nodeType": "Scope",
           "props": {},
           "type": "node"
          }
         ],
         "instanceArgs": {
          "namespace": "html",
          "tag": "div"
         },
         "nodeType": "DOM",
         "props": {
          "className": "field interact-widget"
         },
         "type": "node"
        },
        {
         "children": [
          {
           "children": [
            {
             "children": [
              {
               "children": [
                {
                 "children": [
                  "qtr"
                 ],
                 "instanceArgs": {
                  "namespace": "html",
                  "tag": "label"
                 },
                 "nodeType": "DOM",
                 "props": {
                  "className": "interact ",
                  "style": {
                   "padding": "5px 10px 0px 10px"
                  }
                 },
                 "type": "node"
                }
               ],
               "instanceArgs": {
                "namespace": "html",
                "tag": "div"
               },
               "nodeType": "DOM",
               "props": {
                "className": "interact-flex-row-left"
               },
               "type": "node"
              },
              {
               "children": [
                {
                 "children": [],
                 "instanceArgs": {
                  "namespace": "html",
                  "tag": "input"
                 },
                 "nodeType": "DOM",
                 "props": {
                  "attributes": {
                   "data-bind": "numericValue: index, valueUpdate: 'input', event: {change: function (){this.changes(this.changes()+1)}}",
                   "orient": "horizontal",
                   "type": "range"
                  },
                  "className": "slider slider is-fullwidth",
                  "max": 4,
                  "min": 1,
                  "step": 1,
                  "style": {}
                 },
                 "type": "node"
                }
               ],
               "instanceArgs": {
                "namespace": "html",
                "tag": "div"
               },
               "nodeType": "DOM",
               "props": {
                "className": "interact-flex-row-center"
               },
               "type": "node"
              },
              {
               "children": [
                {
                 "children": [],
                 "instanceArgs": {
                  "namespace": "html",
                  "tag": "p"
                 },
                 "nodeType": "DOM",
                 "props": {
                  "attributes": {
                   "data-bind": "text: formatted_val"
                  }
                 },
                 "type": "node"
                }
               ],
               "instanceArgs": {
                "namespace": "html",
                "tag": "div"
               },
               "nodeType": "DOM",
               "props": {
                "className": "interact-flex-row-right"
               },
               "type": "node"
              }
             ],
             "instanceArgs": {
              "namespace": "html",
              "tag": "div"
             },
             "nodeType": "DOM",
             "props": {
              "className": "interact-flex-row interact-widget"
             },
             "type": "node"
            }
           ],
           "instanceArgs": {
            "handlers": {
             "changes": [
              "(function (val){return (val!=this.model[\"changes\"]()) ? (this.valueFromJulia[\"changes\"]=true, this.model[\"changes\"](val)) : undefined})"
             ],
             "index": [
              "(function (val){return (val!=this.model[\"index\"]()) ? (this.valueFromJulia[\"index\"]=true, this.model[\"index\"](val)) : undefined})"
             ]
            },
            "id": "1743783497720574001",
            "imports": {
             "data": [
              {
               "name": "knockout",
               "type": "js",
               "url": "/assetserver/7adbe83fac1553325d6e718d595ab555e1cabbe4-knockout.js"
              },
              {
               "name": "knockout_punches",
               "type": "js",
               "url": "/assetserver/cec8c4de011abc05b545afbaaea4bb4465a1f168-knockout_punches.js"
              },
              {
               "name": null,
               "type": "js",
               "url": "/assetserver/5ddeec2b33e792dac4326b9b8929eb841863a558-all.js"
              },
              {
               "name": null,
               "type": "css",
               "url": "/assetserver/a04b7b754438af5b294cd7f1d762c01dae6fade5-style.css"
              },
              {
               "name": null,
               "type": "css",
               "url": "/assetserver/50b13cf07303023836f4115fe93a8fe3eca4721a-bulma_confined.min.css"
              }
             ],
             "type": "async_block"
            },
            "mount_callbacks": [
             "function () {\n    var handler = (function (ko, koPunches) {\n    ko.punches.enableAll();\n    ko.bindingHandlers.numericValue = {\n        init: function(element, valueAccessor, allBindings, data, context) {\n            var stringified = ko.observable(ko.unwrap(valueAccessor()));\n            stringified.subscribe(function(value) {\n                var val = parseFloat(value);\n                if (!isNaN(val)) {\n                    valueAccessor()(val);\n                }\n            });\n            valueAccessor().subscribe(function(value) {\n                var str = JSON.stringify(value);\n                if ((str == \"0\") && ([\"-0\", \"-0.\"].indexOf(stringified()) >= 0))\n                     return;\n                 if ([\"null\", \"\"].indexOf(str) >= 0)\n                     return;\n                stringified(str);\n            });\n            ko.applyBindingsToNode(\n                element,\n                {\n                    value: stringified,\n                    valueUpdate: allBindings.get('valueUpdate'),\n                },\n                context,\n            );\n        }\n    };\n    var json_data = {\"formatted_vals\":[\"1\",\"2\",\"3\",\"4\"],\"changes\":WebIO.getval({\"name\":\"changes\",\"scope\":\"1743783497720574001\",\"id\":\"7060980730091061168\",\"type\":\"observable\"}),\"index\":WebIO.getval({\"name\":\"index\",\"scope\":\"1743783497720574001\",\"id\":\"17928733378406303326\",\"type\":\"observable\"})};\n    var self = this;\n    function AppViewModel() {\n        for (var key in json_data) {\n            var el = json_data[key];\n            this[key] = Array.isArray(el) ? ko.observableArray(el) : ko.observable(el);\n        }\n        \n        [this[\"formatted_val\"]=ko.computed(    function(){\n        return this.formatted_vals()[parseInt(this.index())-(1)];\n    }\n,this)]\n        [this[\"changes\"].subscribe((function (val){!(this.valueFromJulia[\"changes\"]) ? (WebIO.setval({\"name\":\"changes\",\"scope\":\"1743783497720574001\",\"id\":\"7060980730091061168\",\"type\":\"observable\"},val)) : undefined; return this.valueFromJulia[\"changes\"]=false}),self),this[\"index\"].subscribe((function (val){!(this.valueFromJulia[\"index\"]) ? (WebIO.setval({\"name\":\"index\",\"scope\":\"1743783497720574001\",\"id\":\"17928733378406303326\",\"type\":\"observable\"},val)) : undefined; return this.valueFromJulia[\"index\"]=false}),self)]\n        \n    }\n    self.model = new AppViewModel();\n    self.valueFromJulia = {};\n    for (var key in json_data) {\n        self.valueFromJulia[key] = false;\n    }\n    ko.applyBindings(self.model, self.dom);\n}\n);\n    (WebIO.importBlock({\"data\":[{\"name\":\"knockout\",\"type\":\"js\",\"url\":\"/assetserver/7adbe83fac1553325d6e718d595ab555e1cabbe4-knockout.js\"},{\"name\":\"knockout_punches\",\"type\":\"js\",\"url\":\"/assetserver/cec8c4de011abc05b545afbaaea4bb4465a1f168-knockout_punches.js\"}],\"type\":\"async_block\"})).then((imports) => handler.apply(this, imports));\n}\n"
            ],
            "observables": {
             "changes": {
              "id": "7060980730091061168",
              "sync": false,
              "value": 0
             },
             "index": {
              "id": "17928733378406303326",
              "sync": true,
              "value": 2
             }
            },
            "systemjs_options": null
           },
           "nodeType": "Scope",
           "props": {},
           "type": "node"
          }
         ],
         "instanceArgs": {
          "namespace": "html",
          "tag": "div"
         },
         "nodeType": "DOM",
         "props": {
          "className": "field interact-widget"
         },
         "type": "node"
        },
        {
         "children": [
          {
           "children": [],
           "instanceArgs": {
            "id": "17508478249709794716",
            "name": "obs-node"
           },
           "nodeType": "ObservableNode",
           "props": {},
           "type": "node"
          }
         ],
         "instanceArgs": {
          "handlers": {},
          "id": "2432137320274527728",
          "imports": {
           "data": [],
           "type": "async_block"
          },
          "mount_callbacks": [],
          "observables": {
           "obs-node": {
            "id": "17508478249709794716",
            "sync": false,
            "value": {
             "children": [
              {
               "children": [],
               "instanceArgs": {
                "namespace": "html",
                "tag": "div"
               },
               "nodeType": "DOM",
               "props": {
                "setInnerHtml": "<div class=\"data-frame\"><p>420 rows × 7 columns</p><table class=\"data-frame\"><thead><tr><th></th><th>Org</th><th>FY</th><th>Qtr</th><th>Accounts</th><th>Dept</th><th>Loc</th><th>TOTAL</th></tr><tr><th></th><th title=\"String\">String</th><th title=\"Int64\">Int64</th><th title=\"Int64\">Int64</th><th title=\"String\">String</th><th title=\"String\">String</th><th title=\"String\">String</th><th title=\"String\">String</th></tr></thead><tbody><tr><th>1</th><td>Region B</td><td>2021</td><td>2</td><td>ASSETS</td><td>BUSINESS</td><td>Chicago</td><td>USD 2927.75 million</td></tr><tr><th>2</th><td>Region B</td><td>2021</td><td>2</td><td>ASSETS</td><td>IT</td><td>Kansas City</td><td>USD 3679.04 million</td></tr><tr><th>3</th><td>Region B</td><td>2021</td><td>2</td><td>LIABILITIES</td><td>HR</td><td>Boston</td><td>USD 3366.97 million</td></tr><tr><th>4</th><td>Region B</td><td>2021</td><td>2</td><td>LIABILITIES</td><td>HR</td><td>Kansas City</td><td>USD 4426.61 million</td></tr><tr><th>5</th><td>Region B</td><td>2021</td><td>2</td><td>ASSETS</td><td>IT</td><td>Boston</td><td>USD 3718.08 million</td></tr><tr><th>6</th><td>Region B</td><td>2021</td><td>2</td><td>NET_WORTH</td><td>BUSINESS</td><td>Richmond</td><td>USD 4920.64 million</td></tr><tr><th>7</th><td>Region B</td><td>2021</td><td>2</td><td>NET_WORTH</td><td>BUSINESS</td><td>Dallas</td><td>USD 4340.47 million</td></tr><tr><th>8</th><td>Region B</td><td>2021</td><td>2</td><td>ASSETS</td><td>HR</td><td>Minneapolis</td><td>USD 4236.49 million</td></tr><tr><th>9</th><td>Region B</td><td>2021</td><td>2</td><td>LIABILITIES</td><td>OTHERS</td><td>Atlanta</td><td>USD 4722.91 million</td></tr><tr><th>10</th><td>Region B</td><td>2021</td><td>2</td><td>STATISTICS</td><td>OTHERS</td><td>Minneapolis</td><td>USD 4006.18 million</td></tr><tr><th>11</th><td>Region B</td><td>2021</td><td>2</td><td>ASSETS</td><td>IT</td><td>New York</td><td>USD 2814.95 million</td></tr><tr><th>12</th><td>Region B</td><td>2021</td><td>2</td><td>NON-OPERATING_EXPENSES</td><td>IT</td><td>San Francisco</td><td>USD 4098.45 million</td></tr><tr><th>13</th><td>Region B</td><td>2021</td><td>2</td><td>REVENUE</td><td>IT</td><td>Kansas City</td><td>USD 4229.35 million</td></tr><tr><th>14</th><td>Region B</td><td>2021</td><td>2</td><td>OPERATING_EXPENSES</td><td>OTHERS</td><td>Philadelphia</td><td>USD 3240.95 million</td></tr><tr><th>15</th><td>Region B</td><td>2021</td><td>2</td><td>ASSETS</td><td>IT</td><td>Minneapolis</td><td>USD 3701.1 million</td></tr><tr><th>16</th><td>Region B</td><td>2021</td><td>2</td><td>REVENUE</td><td>SALES</td><td>Dallas</td><td>USD 4293.15 million</td></tr><tr><th>17</th><td>Region B</td><td>2021</td><td>2</td><td>STATISTICS</td><td>OTHERS</td><td>New York</td><td>USD 3925.28 million</td></tr><tr><th>18</th><td>Region B</td><td>2021</td><td>2</td><td>OPERATING_EXPENSES</td><td>SALES</td><td>Boston</td><td>USD 3734.55 million</td></tr><tr><th>19</th><td>Region B</td><td>2021</td><td>2</td><td>NON-OPERATING_EXPENSES</td><td>IT</td><td>Atlanta</td><td>USD 4193.49 million</td></tr><tr><th>20</th><td>Region B</td><td>2021</td><td>2</td><td>STATISTICS</td><td>BUSINESS</td><td>St. Louis</td><td>USD 4062.65 million</td></tr><tr><th>21</th><td>Region B</td><td>2021</td><td>2</td><td>STATISTICS</td><td>SALES</td><td>Philadelphia</td><td>USD 3704.39 million</td></tr><tr><th>22</th><td>Region B</td><td>2021</td><td>2</td><td>REVENUE</td><td>SALES</td><td>Atlanta</td><td>USD 4514.03 million</td></tr><tr><th>23</th><td>Region B</td><td>2021</td><td>2</td><td>ASSETS</td><td>IT</td><td>St. Louis</td><td>USD 4379.15 million</td></tr><tr><th>24</th><td>Region B</td><td>2021</td><td>2</td><td>REVENUE</td><td>HR</td><td>Kansas City</td><td>USD 3930.82 million</td></tr><tr><th>25</th><td>Region B</td><td>2021</td><td>2</td><td>REVENUE</td><td>HR</td><td>Minneapolis</td><td>USD 3704.31 million</td></tr><tr><th>26</th><td>Region B</td><td>2021</td><td>2</td><td>ASSETS</td><td>OTHERS</td><td>Atlanta</td><td>USD 3886.59 million</td></tr><tr><th>27</th><td>Region B</td><td>2021</td><td>2</td><td>LIABILITIES</td><td>SALES</td><td>Kansas City</td><td>USD 3989.38 million</td></tr><tr><th>28</th><td>Region B</td><td>2021</td><td>2</td><td>LIABILITIES</td><td>BUSINESS</td><td>Chicago</td><td>USD 4094.48 million</td></tr><tr><th>29</th><td>Region B</td><td>2021</td><td>2</td><td>REVENUE</td><td>HR</td><td>Dallas</td><td>USD 4035.68 million</td></tr><tr><th>30</th><td>Region B</td><td>2021</td><td>2</td><td>STATISTICS</td><td>BUSINESS</td><td>Kansas City</td><td>USD 3172.05 million</td></tr><tr><th>31</th><td>Region B</td><td>2021</td><td>2</td><td>NET_WORTH</td><td>IT</td><td>Kansas City</td><td>USD 4517.92 million</td></tr><tr><th>32</th><td>Region B</td><td>2021</td><td>2</td><td>LIABILITIES</td><td>BUSINESS</td><td>Philadelphia</td><td>USD 4014.79 million</td></tr><tr><th>33</th><td>Region B</td><td>2021</td><td>2</td><td>REVENUE</td><td>IT</td><td>Minneapolis</td><td>USD 4380.33 million</td></tr><tr><th>34</th><td>Region B</td><td>2021</td><td>2</td><td>NET_WORTH</td><td>SALES</td><td>St. Louis</td><td>USD 4159.4 million</td></tr><tr><th>35</th><td>Region B</td><td>2021</td><td>2</td><td>NON-OPERATING_EXPENSES</td><td>SALES</td><td>Philadelphia</td><td>USD 3618.04 million</td></tr><tr><th>36</th><td>Region B</td><td>2021</td><td>2</td><td>NET_WORTH</td><td>IT</td><td>New York</td><td>USD 3188.83 million</td></tr><tr><th>37</th><td>Region B</td><td>2021</td><td>2</td><td>NON-OPERATING_EXPENSES</td><td>BUSINESS</td><td>Richmond</td><td>USD 3192.46 million</td></tr><tr><th>38</th><td>Region B</td><td>2021</td><td>2</td><td>OPERATING_EXPENSES</td><td>BUSINESS</td><td>Atlanta</td><td>USD 4143.11 million</td></tr><tr><th>39</th><td>Region B</td><td>2021</td><td>2</td><td>REVENUE</td><td>BUSINESS</td><td>Cleveland</td><td>USD 4254.26 million</td></tr><tr><th>40</th><td>Region B</td><td>2021</td><td>2</td><td>LIABILITIES</td><td>HR</td><td>Dallas</td><td>USD 4102.33 million</td></tr><tr><th>41</th><td>Region B</td><td>2021</td><td>2</td><td>ASSETS</td><td>HR</td><td>Philadelphia</td><td>USD 3531.2 million</td></tr><tr><th>42</th><td>Region B</td><td>2021</td><td>2</td><td>NON-OPERATING_EXPENSES</td><td>BUSINESS</td><td>Chicago</td><td>USD 3963.0 million</td></tr><tr><th>43</th><td>Region B</td><td>2021</td><td>2</td><td>REVENUE</td><td>BUSINESS</td><td>Kansas City</td><td>USD 4124.16 million</td></tr><tr><th>44</th><td>Region B</td><td>2021</td><td>2</td><td>NON-OPERATING_EXPENSES</td><td>SALES</td><td>Dallas</td><td>USD 4416.59 million</td></tr><tr><th>45</th><td>Region B</td><td>2021</td><td>2</td><td>LIABILITIES</td><td>IT</td><td>San Francisco</td><td>USD 4360.83 million</td></tr><tr><th>46</th><td>Region B</td><td>2021</td><td>2</td><td>ASSETS</td><td>HR</td><td>San Francisco</td><td>USD 3434.48 million</td></tr><tr><th>47</th><td>Region B</td><td>2021</td><td>2</td><td>STATISTICS</td><td>BUSINESS</td><td>Chicago</td><td>USD 3537.84 million</td></tr><tr><th>48</th><td>Region B</td><td>2021</td><td>2</td><td>LIABILITIES</td><td>OTHERS</td><td>Richmond</td><td>USD 3276.13 million</td></tr><tr><th>49</th><td>Region B</td><td>2021</td><td>2</td><td>OPERATING_EXPENSES</td><td>BUSINESS</td><td>Cleveland</td><td>USD 3474.11 million</td></tr><tr><th>50</th><td>Region B</td><td>2021</td><td>2</td><td>LIABILITIES</td><td>SALES</td><td>Dallas</td><td>USD 4967.3 million</td></tr><tr><th>51</th><td>Region B</td><td>2021</td><td>2</td><td>NON-OPERATING_EXPENSES</td><td>OTHERS</td><td>Kansas City</td><td>USD 3356.74 million</td></tr><tr><th>52</th><td>Region B</td><td>2021</td><td>2</td><td>LIABILITIES</td><td>OTHERS</td><td>New York</td><td>USD 4319.92 million</td></tr><tr><th>53</th><td>Region B</td><td>2021</td><td>2</td><td>REVENUE</td><td>SALES</td><td>Boston</td><td>USD 3360.4 million</td></tr><tr><th>54</th><td>Region B</td><td>2021</td><td>2</td><td>NON-OPERATING_EXPENSES</td><td>SALES</td><td>Richmond</td><td>USD 3591.01 million</td></tr><tr><th>55</th><td>Region B</td><td>2021</td><td>2</td><td>REVENUE</td><td>HR</td><td>Chicago</td><td>USD 3432.36 million</td></tr><tr><th>56</th><td>Region B</td><td>2021</td><td>2</td><td>ASSETS</td><td>IT</td><td>Richmond</td><td>USD 5079.14 million</td></tr><tr><th>57</th><td>Region B</td><td>2021</td><td>2</td><td>OPERATING_EXPENSES</td><td>IT</td><td>San Francisco</td><td>USD 3240.61 million</td></tr><tr><th>58</th><td>Region B</td><td>2021</td><td>2</td><td>STATISTICS</td><td>BUSINESS</td><td>Boston</td><td>USD 3690.42 million</td></tr><tr><th>59</th><td>Region B</td><td>2021</td><td>2</td><td>OPERATING_EXPENSES</td><td>HR</td><td>Atlanta</td><td>USD 3766.31 million</td></tr><tr><th>60</th><td>Region B</td><td>2021</td><td>2</td><td>NON-OPERATING_EXPENSES</td><td>OTHERS</td><td>Boston</td><td>USD 4688.84 million</td></tr><tr><th>61</th><td>Region B</td><td>2021</td><td>2</td><td>LIABILITIES</td><td>IT</td><td>Kansas City</td><td>USD 4333.98 million</td></tr><tr><th>62</th><td>Region B</td><td>2021</td><td>2</td><td>LIABILITIES</td><td>HR</td><td>Atlanta</td><td>USD 4060.7 million</td></tr><tr><th>63</th><td>Region B</td><td>2021</td><td>2</td><td>NON-OPERATING_EXPENSES</td><td>SALES</td><td>Chicago</td><td>USD 4404.04 million</td></tr><tr><th>64</th><td>Region B</td><td>2021</td><td>2</td><td>LIABILITIES</td><td>SALES</td><td>St. Louis</td><td>USD 3610.67 million</td></tr><tr><th>65</th><td>Region B</td><td>2021</td><td>2</td><td>OPERATING_EXPENSES</td><td>BUSINESS</td><td>Kansas City</td><td>USD 3840.14 million</td></tr><tr><th>66</th><td>Region B</td><td>2021</td><td>2</td><td>OPERATING_EXPENSES</td><td>IT</td><td>Kansas City</td><td>USD 3355.3 million</td></tr><tr><th>67</th><td>Region B</td><td>2021</td><td>2</td><td>OPERATING_EXPENSES</td><td>OTHERS</td><td>St. Louis</td><td>USD 5139.69 million</td></tr><tr><th>68</th><td>Region B</td><td>2021</td><td>2</td><td>LIABILITIES</td><td>BUSINESS</td><td>New York</td><td>USD 3946.96 million</td></tr><tr><th>69</th><td>Region B</td><td>2021</td><td>2</td><td>OPERATING_EXPENSES</td><td>SALES</td><td>Philadelphia</td><td>USD 3656.95 million</td></tr><tr><th>70</th><td>Region B</td><td>2021</td><td>2</td><td>REVENUE</td><td>SALES</td><td>Richmond</td><td>USD 3989.12 million</td></tr><tr><th>71</th><td>Region B</td><td>2021</td><td>2</td><td>NON-OPERATING_EXPENSES</td><td>HR</td><td>Chicago</td><td>USD 3165.89 million</td></tr><tr><th>72</th><td>Region B</td><td>2021</td><td>2</td><td>NET_WORTH</td><td>OTHERS</td><td>Minneapolis</td><td>USD 3946.48 million</td></tr><tr><th>73</th><td>Region B</td><td>2021</td><td>2</td><td>STATISTICS</td><td>BUSINESS</td><td>Dallas</td><td>USD 2846.83 million</td></tr><tr><th>74</th><td>Region B</td><td>2021</td><td>2</td><td>OPERATING_EXPENSES</td><td>OTHERS</td><td>Chicago</td><td>USD 4933.75 million</td></tr><tr><th>75</th><td>Region B</td><td>2021</td><td>2</td><td>REVENUE</td><td>BUSINESS</td><td>Philadelphia</td><td>USD 4336.77 million</td></tr><tr><th>76</th><td>Region B</td><td>2021</td><td>2</td><td>NON-OPERATING_EXPENSES</td><td>HR</td><td>Minneapolis</td><td>USD 3559.91 million</td></tr><tr><th>77</th><td>Region B</td><td>2021</td><td>2</td><td>NET_WORTH</td><td>HR</td><td>Boston</td><td>USD 4441.45 million</td></tr><tr><th>78</th><td>Region B</td><td>2021</td><td>2</td><td>ASSETS</td><td>HR</td><td>Boston</td><td>USD 3936.15 million</td></tr><tr><th>79</th><td>Region B</td><td>2021</td><td>2</td><td>NON-OPERATING_EXPENSES</td><td>OTHERS</td><td>Dallas</td><td>USD 4380.7 million</td></tr><tr><th>80</th><td>Region B</td><td>2021</td><td>2</td><td>NON-OPERATING_EXPENSES</td><td>OTHERS</td><td>Atlanta</td><td>USD 3031.31 million</td></tr><tr><th>81</th><td>Region B</td><td>2021</td><td>2</td><td>NET_WORTH</td><td>SALES</td><td>New York</td><td>USD 4387.21 million</td></tr><tr><th>82</th><td>Region B</td><td>2021</td><td>2</td><td>LIABILITIES</td><td>OTHERS</td><td>Philadelphia</td><td>USD 3716.0 million</td></tr><tr><th>83</th><td>Region B</td><td>2021</td><td>2</td><td>REVENUE</td><td>IT</td><td>San Francisco</td><td>USD 3595.44 million</td></tr><tr><th>84</th><td>Region B</td><td>2021</td><td>2</td><td>LIABILITIES</td><td>IT</td><td>Atlanta</td><td>USD 4550.14 million</td></tr><tr><th>85</th><td>Region B</td><td>2021</td><td>2</td><td>OPERATING_EXPENSES</td><td>SALES</td><td>Kansas City</td><td>USD 3904.91 million</td></tr><tr><th>86</th><td>Region B</td><td>2021</td><td>2</td><td>STATISTICS</td><td>SALES</td><td>Cleveland</td><td>USD 3811.12 million</td></tr><tr><th>87</th><td>Region B</td><td>2021</td><td>2</td><td>ASSETS</td><td>BUSINESS</td><td>San Francisco</td><td>USD 3551.8 million</td></tr><tr><th>88</th><td>Region B</td><td>2021</td><td>2</td><td>LIABILITIES</td><td>BUSINESS</td><td>Cleveland</td><td>USD 4128.36 million</td></tr><tr><th>89</th><td>Region B</td><td>2021</td><td>2</td><td>LIABILITIES</td><td>SALES</td><td>Minneapolis</td><td>USD 3977.95 million</td></tr><tr><th>90</th><td>Region B</td><td>2021</td><td>2</td><td>LIABILITIES</td><td>BUSINESS</td><td>Dallas</td><td>USD 4372.22 million</td></tr><tr><th>91</th><td>Region B</td><td>2021</td><td>2</td><td>NON-OPERATING_EXPENSES</td><td>SALES</td><td>St. Louis</td><td>USD 4446.03 million</td></tr><tr><th>92</th><td>Region B</td><td>2021</td><td>2</td><td>STATISTICS</td><td>OTHERS</td><td>St. Louis</td><td>USD 3688.64 million</td></tr><tr><th>93</th><td>Region B</td><td>2021</td><td>2</td><td>ASSETS</td><td>BUSINESS</td><td>Minneapolis</td><td>USD 3389.76 million</td></tr><tr><th>94</th><td>Region B</td><td>2021</td><td>2</td><td>STATISTICS</td><td>OTHERS</td><td>Chicago</td><td>USD 3580.85 million</td></tr><tr><th>95</th><td>Region B</td><td>2021</td><td>2</td><td>ASSETS</td><td>OTHERS</td><td>Dallas</td><td>USD 3479.14 million</td></tr><tr><th>96</th><td>Region B</td><td>2021</td><td>2</td><td>REVENUE</td><td>IT</td><td>St. Louis</td><td>USD 3169.37 million</td></tr><tr><th>97</th><td>Region B</td><td>2021</td><td>2</td><td>OPERATING_EXPENSES</td><td>OTHERS</td><td>Minneapolis</td><td>USD 3189.43 million</td></tr><tr><th>98</th><td>Region B</td><td>2021</td><td>2</td><td>NON-OPERATING_EXPENSES</td><td>HR</td><td>San Francisco</td><td>USD 4562.48 million</td></tr><tr><th>99</th><td>Region B</td><td>2021</td><td>2</td><td>NON-OPERATING_EXPENSES</td><td>IT</td><td>Cleveland</td><td>USD 3821.77 million</td></tr><tr><th>100</th><td>Region B</td><td>2021</td><td>2</td><td>ASSETS</td><td>SALES</td><td>Chicago</td><td>USD 5198.92 million</td></tr><tr><th>101</th><td>Region B</td><td>2021</td><td>2</td><td>LIABILITIES</td><td>SALES</td><td>Philadelphia</td><td>USD 4950.36 million</td></tr><tr><th>102</th><td>Region B</td><td>2021</td><td>2</td><td>OPERATING_EXPENSES</td><td>BUSINESS</td><td>St. Louis</td><td>USD 3782.8 million</td></tr><tr><th>103</th><td>Region B</td><td>2021</td><td>2</td><td>OPERATING_EXPENSES</td><td>OTHERS</td><td>New York</td><td>USD 3924.49 million</td></tr><tr><th>104</th><td>Region B</td><td>2021</td><td>2</td><td>NON-OPERATING_EXPENSES</td><td>BUSINESS</td><td>Cleveland</td><td>USD 5229.43 million</td></tr><tr><th>105</th><td>Region B</td><td>2021</td><td>2</td><td>NON-OPERATING_EXPENSES</td><td>OTHERS</td><td>Cleveland</td><td>USD 4697.11 million</td></tr><tr><th>106</th><td>Region B</td><td>2021</td><td>2</td><td>LIABILITIES</td><td>SALES</td><td>San Francisco</td><td>USD 2795.71 million</td></tr><tr><th>107</th><td>Region B</td><td>2021</td><td>2</td><td>OPERATING_EXPENSES</td><td>BUSINESS</td><td>Chicago</td><td>USD 3353.08 million</td></tr><tr><th>108</th><td>Region B</td><td>2021</td><td>2</td><td>OPERATING_EXPENSES</td><td>OTHERS</td><td>Dallas</td><td>USD 4196.53 million</td></tr><tr><th>109</th><td>Region B</td><td>2021</td><td>2</td><td>NET_WORTH</td><td>BUSINESS</td><td>Boston</td><td>USD 3265.08 million</td></tr><tr><th>110</th><td>Region B</td><td>2021</td><td>2</td><td>LIABILITIES</td><td>IT</td><td>Minneapolis</td><td>USD 4052.36 million</td></tr><tr><th>111</th><td>Region B</td><td>2021</td><td>2</td><td>REVENUE</td><td>OTHERS</td><td>Minneapolis</td><td>USD 4447.38 million</td></tr><tr><th>112</th><td>Region B</td><td>2021</td><td>2</td><td>STATISTICS</td><td>HR</td><td>Dallas</td><td>USD 4568.95 million</td></tr><tr><th>113</th><td>Region B</td><td>2021</td><td>2</td><td>OPERATING_EXPENSES</td><td>HR</td><td>Kansas City</td><td>USD 3371.96 million</td></tr><tr><th>114</th><td>Region B</td><td>2021</td><td>2</td><td>NON-OPERATING_EXPENSES</td><td>IT</td><td>St. Louis</td><td>USD 4229.76 million</td></tr><tr><th>115</th><td>Region B</td><td>2021</td><td>2</td><td>STATISTICS</td><td>OTHERS</td><td>San Francisco</td><td>USD 4397.53 million</td></tr><tr><th>116</th><td>Region B</td><td>2021</td><td>2</td><td>REVENUE</td><td>IT</td><td>Atlanta</td><td>USD 3115.91 million</td></tr><tr><th>117</th><td>Region B</td><td>2021</td><td>2</td><td>NET_WORTH</td><td>SALES</td><td>Atlanta</td><td>USD 3413.11 million</td></tr><tr><th>118</th><td>Region B</td><td>2021</td><td>2</td><td>NET_WORTH</td><td>IT</td><td>Dallas</td><td>USD 3816.01 million</td></tr><tr><th>119</th><td>Region B</td><td>2021</td><td>2</td><td>NON-OPERATING_EXPENSES</td><td>HR</td><td>Boston</td><td>USD 4194.8 million</td></tr><tr><th>120</th><td>Region B</td><td>2021</td><td>2</td><td>STATISTICS</td><td>SALES</td><td>San Francisco</td><td>USD 4673.52 million</td></tr><tr><th>121</th><td>Region B</td><td>2021</td><td>2</td><td>NON-OPERATING_EXPENSES</td><td>OTHERS</td><td>New York</td><td>USD 4134.68 million</td></tr><tr><th>122</th><td>Region B</td><td>2021</td><td>2</td><td>REVENUE</td><td>BUSINESS</td><td>Dallas</td><td>USD 4967.77 million</td></tr><tr><th>123</th><td>Region B</td><td>2021</td><td>2</td><td>ASSETS</td><td>IT</td><td>Philadelphia</td><td>USD 4418.53 million</td></tr><tr><th>124</th><td>Region B</td><td>2021</td><td>2</td><td>ASSETS</td><td>SALES</td><td>Cleveland</td><td>USD 3870.36 million</td></tr><tr><th>125</th><td>Region B</td><td>2021</td><td>2</td><td>NON-OPERATING_EXPENSES</td><td>OTHERS</td><td>San Francisco</td><td>USD 3652.64 million</td></tr><tr><th>126</th><td>Region B</td><td>2021</td><td>2</td><td>REVENUE</td><td>SALES</td><td>Chicago</td><td>USD 4357.64 million</td></tr><tr><th>127</th><td>Region B</td><td>2021</td><td>2</td><td>NON-OPERATING_EXPENSES</td><td>BUSINESS</td><td>Dallas</td><td>USD 4433.52 million</td></tr><tr><th>128</th><td>Region B</td><td>2021</td><td>2</td><td>NET_WORTH</td><td>BUSINESS</td><td>Cleveland</td><td>USD 4409.45 million</td></tr><tr><th>129</th><td>Region B</td><td>2021</td><td>2</td><td>OPERATING_EXPENSES</td><td>HR</td><td>St. Louis</td><td>USD 2940.35 million</td></tr><tr><th>130</th><td>Region B</td><td>2021</td><td>2</td><td>OPERATING_EXPENSES</td><td>BUSINESS</td><td>Richmond</td><td>USD 3208.9 million</td></tr><tr><th>131</th><td>Region B</td><td>2021</td><td>2</td><td>NET_WORTH</td><td>IT</td><td>Philadelphia</td><td>USD 4453.4 million</td></tr><tr><th>132</th><td>Region B</td><td>2021</td><td>2</td><td>OPERATING_EXPENSES</td><td>HR</td><td>Minneapolis</td><td>USD 4088.17 million</td></tr><tr><th>133</th><td>Region B</td><td>2021</td><td>2</td><td>OPERATING_EXPENSES</td><td>BUSINESS</td><td>Minneapolis</td><td>USD 3509.06 million</td></tr><tr><th>134</th><td>Region B</td><td>2021</td><td>2</td><td>STATISTICS</td><td>HR</td><td>Atlanta</td><td>USD 3599.58 million</td></tr><tr><th>135</th><td>Region B</td><td>2021</td><td>2</td><td>NON-OPERATING_EXPENSES</td><td>OTHERS</td><td>Chicago</td><td>USD 3174.83 million</td></tr><tr><th>136</th><td>Region B</td><td>2021</td><td>2</td><td>ASSETS</td><td>BUSINESS</td><td>Cleveland</td><td>USD 3311.77 million</td></tr><tr><th>137</th><td>Region B</td><td>2021</td><td>2</td><td>OPERATING_EXPENSES</td><td>IT</td><td>St. Louis</td><td>USD 3753.62 million</td></tr><tr><th>138</th><td>Region B</td><td>2021</td><td>2</td><td>NET_WORTH</td><td>HR</td><td>Minneapolis</td><td>USD 4014.41 million</td></tr><tr><th>139</th><td>Region B</td><td>2021</td><td>2</td><td>NET_WORTH</td><td>HR</td><td>New York</td><td>USD 3894.27 million</td></tr><tr><th>140</th><td>Region B</td><td>2021</td><td>2</td><td>STATISTICS</td><td>IT</td><td>Minneapolis</td><td>USD 3748.03 million</td></tr><tr><th>141</th><td>Region B</td><td>2021</td><td>2</td><td>NON-OPERATING_EXPENSES</td><td>HR</td><td>Cleveland</td><td>USD 4906.33 million</td></tr><tr><th>142</th><td>Region B</td><td>2021</td><td>2</td><td>NET_WORTH</td><td>OTHERS</td><td>Chicago</td><td>USD 4884.47 million</td></tr><tr><th>143</th><td>Region B</td><td>2021</td><td>2</td><td>OPERATING_EXPENSES</td><td>HR</td><td>Chicago</td><td>USD 3402.68 million</td></tr><tr><th>144</th><td>Region B</td><td>2021</td><td>2</td><td>REVENUE</td><td>HR</td><td>Boston</td><td>USD 4325.35 million</td></tr><tr><th>145</th><td>Region B</td><td>2021</td><td>2</td><td>NET_WORTH</td><td>HR</td><td>Philadelphia</td><td>USD 4389.43 million</td></tr><tr><th>146</th><td>Region B</td><td>2021</td><td>2</td><td>NET_WORTH</td><td>OTHERS</td><td>San Francisco</td><td>USD 4509.67 million</td></tr><tr><th>147</th><td>Region B</td><td>2021</td><td>2</td><td>REVENUE</td><td>SALES</td><td>Cleveland</td><td>USD 4025.75 million</td></tr><tr><th>148</th><td>Region B</td><td>2021</td><td>2</td><td>NET_WORTH</td><td>SALES</td><td>Kansas City</td><td>USD 3843.43 million</td></tr><tr><th>149</th><td>Region B</td><td>2021</td><td>2</td><td>OPERATING_EXPENSES</td><td>OTHERS</td><td>Kansas City</td><td>USD 5084.04 million</td></tr><tr><th>150</th><td>Region B</td><td>2021</td><td>2</td><td>NET_WORTH</td><td>BUSINESS</td><td>Chicago</td><td>USD 4303.44 million</td></tr><tr><th>151</th><td>Region B</td><td>2021</td><td>2</td><td>NON-OPERATING_EXPENSES</td><td>SALES</td><td>Boston</td><td>USD 3873.67 million</td></tr><tr><th>152</th><td>Region B</td><td>2021</td><td>2</td><td>STATISTICS</td><td>IT</td><td>Kansas City</td><td>USD 3725.74 million</td></tr><tr><th>153</th><td>Region B</td><td>2021</td><td>2</td><td>ASSETS</td><td>SALES</td><td>Kansas City</td><td>USD 3904.23 million</td></tr><tr><th>154</th><td>Region B</td><td>2021</td><td>2</td><td>REVENUE</td><td>BUSINESS</td><td>St. Louis</td><td>USD 4021.63 million</td></tr><tr><th>155</th><td>Region B</td><td>2021</td><td>2</td><td>OPERATING_EXPENSES</td><td>HR</td><td>Philadelphia</td><td>USD 4052.49 million</td></tr><tr><th>156</th><td>Region B</td><td>2021</td><td>2</td><td>NON-OPERATING_EXPENSES</td><td>BUSINESS</td><td>St. Louis</td><td>USD 4156.68 million</td></tr><tr><th>157</th><td>Region B</td><td>2021</td><td>2</td><td>NON-OPERATING_EXPENSES</td><td>BUSINESS</td><td>Boston</td><td>USD 2852.89 million</td></tr><tr><th>158</th><td>Region B</td><td>2021</td><td>2</td><td>ASSETS</td><td>SALES</td><td>Richmond</td><td>USD 3532.09 million</td></tr><tr><th>159</th><td>Region B</td><td>2021</td><td>2</td><td>REVENUE</td><td>IT</td><td>Philadelphia</td><td>USD 3778.69 million</td></tr><tr><th>160</th><td>Region B</td><td>2021</td><td>2</td><td>ASSETS</td><td>OTHERS</td><td>Kansas City</td><td>USD 4350.03 million</td></tr><tr><th>161</th><td>Region B</td><td>2021</td><td>2</td><td>NET_WORTH</td><td>IT</td><td>St. Louis</td><td>USD 3808.57 million</td></tr><tr><th>162</th><td>Region B</td><td>2021</td><td>2</td><td>OPERATING_EXPENSES</td><td>IT</td><td>Boston</td><td>USD 4182.93 million</td></tr><tr><th>163</th><td>Region B</td><td>2021</td><td>2</td><td>STATISTICS</td><td>IT</td><td>Boston</td><td>USD 3667.47 million</td></tr><tr><th>164</th><td>Region B</td><td>2021</td><td>2</td><td>ASSETS</td><td>BUSINESS</td><td>New York</td><td>USD 3660.31 million</td></tr><tr><th>165</th><td>Region B</td><td>2021</td><td>2</td><td>STATISTICS</td><td>IT</td><td>Cleveland</td><td>USD 4314.03 million</td></tr><tr><th>166</th><td>Region B</td><td>2021</td><td>2</td><td>NET_WORTH</td><td>IT</td><td>Chicago</td><td>USD 3828.41 million</td></tr><tr><th>167</th><td>Region B</td><td>2021</td><td>2</td><td>STATISTICS</td><td>IT</td><td>Richmond</td><td>USD 4502.21 million</td></tr><tr><th>168</th><td>Region B</td><td>2021</td><td>2</td><td>STATISTICS</td><td>HR</td><td>Kansas City</td><td>USD 3313.57 million</td></tr><tr><th>169</th><td>Region B</td><td>2021</td><td>2</td><td>NON-OPERATING_EXPENSES</td><td>IT</td><td>Dallas</td><td>USD 3785.25 million</td></tr><tr><th>170</th><td>Region B</td><td>2021</td><td>2</td><td>NON-OPERATING_EXPENSES</td><td>BUSINESS</td><td>Philadelphia</td><td>USD 3786.29 million</td></tr><tr><th>171</th><td>Region B</td><td>2021</td><td>2</td><td>LIABILITIES</td><td>HR</td><td>Cleveland</td><td>USD 4264.54 million</td></tr><tr><th>172</th><td>Region B</td><td>2021</td><td>2</td><td>LIABILITIES</td><td>IT</td><td>Dallas</td><td>USD 3955.2 million</td></tr><tr><th>173</th><td>Region B</td><td>2021</td><td>2</td><td>ASSETS</td><td>BUSINESS</td><td>Dallas</td><td>USD 3490.1 million</td></tr><tr><th>174</th><td>Region B</td><td>2021</td><td>2</td><td>NON-OPERATING_EXPENSES</td><td>SALES</td><td>Kansas City</td><td>USD 4299.75 million</td></tr><tr><th>175</th><td>Region B</td><td>2021</td><td>2</td><td>LIABILITIES</td><td>SALES</td><td>Chicago</td><td>USD 3707.97 million</td></tr><tr><th>176</th><td>Region B</td><td>2021</td><td>2</td><td>NET_WORTH</td><td>IT</td><td>Minneapolis</td><td>USD 4193.11 million</td></tr><tr><th>177</th><td>Region B</td><td>2021</td><td>2</td><td>REVENUE</td><td>OTHERS</td><td>Richmond</td><td>USD 3603.43 million</td></tr><tr><th>178</th><td>Region B</td><td>2021</td><td>2</td><td>NET_WORTH</td><td>HR</td><td>St. Louis</td><td>USD 3695.22 million</td></tr><tr><th>179</th><td>Region B</td><td>2021</td><td>2</td><td>STATISTICS</td><td>SALES</td><td>New York</td><td>USD 4399.99 million</td></tr><tr><th>180</th><td>Region B</td><td>2021</td><td>2</td><td>REVENUE</td><td>OTHERS</td><td>St. Louis</td><td>USD 4403.11 million</td></tr><tr><th>181</th><td>Region B</td><td>2021</td><td>2</td><td>LIABILITIES</td><td>BUSINESS</td><td>Kansas City</td><td>USD 4180.52 million</td></tr><tr><th>182</th><td>Region B</td><td>2021</td><td>2</td><td>NON-OPERATING_EXPENSES</td><td>IT</td><td>Richmond</td><td>USD 3872.1 million</td></tr><tr><th>183</th><td>Region B</td><td>2021</td><td>2</td><td>ASSETS</td><td>OTHERS</td><td>Philadelphia</td><td>USD 4340.48 million</td></tr><tr><th>184</th><td>Region B</td><td>2021</td><td>2</td><td>STATISTICS</td><td>BUSINESS</td><td>New York</td><td>USD 4746.51 million</td></tr><tr><th>185</th><td>Region B</td><td>2021</td><td>2</td><td>NET_WORTH</td><td>OTHERS</td><td>Richmond</td><td>USD 3637.72 million</td></tr><tr><th>186</th><td>Region B</td><td>2021</td><td>2</td><td>NON-OPERATING_EXPENSES</td><td>SALES</td><td>Atlanta</td><td>USD 4327.87 million</td></tr><tr><th>187</th><td>Region B</td><td>2021</td><td>2</td><td>NET_WORTH</td><td>BUSINESS</td><td>Atlanta</td><td>USD 3819.95 million</td></tr><tr><th>188</th><td>Region B</td><td>2021</td><td>2</td><td>NON-OPERATING_EXPENSES</td><td>IT</td><td>Boston</td><td>USD 4085.18 million</td></tr><tr><th>189</th><td>Region B</td><td>2021</td><td>2</td><td>LIABILITIES</td><td>IT</td><td>St. Louis</td><td>USD 4330.74 million</td></tr><tr><th>190</th><td>Region B</td><td>2021</td><td>2</td><td>LIABILITIES</td><td>HR</td><td>Chicago</td><td>USD 4462.25 million</td></tr><tr><th>191</th><td>Region B</td><td>2021</td><td>2</td><td>LIABILITIES</td><td>IT</td><td>Richmond</td><td>USD 3847.22 million</td></tr><tr><th>192</th><td>Region B</td><td>2021</td><td>2</td><td>ASSETS</td><td>IT</td><td>Chicago</td><td>USD 4822.65 million</td></tr><tr><th>193</th><td>Region B</td><td>2021</td><td>2</td><td>STATISTICS</td><td>BUSINESS</td><td>Cleveland</td><td>USD 3548.43 million</td></tr><tr><th>194</th><td>Region B</td><td>2021</td><td>2</td><td>NET_WORTH</td><td>HR</td><td>San Francisco</td><td>USD 3416.2 million</td></tr><tr><th>195</th><td>Region B</td><td>2021</td><td>2</td><td>REVENUE</td><td>HR</td><td>San Francisco</td><td>USD 4190.61 million</td></tr><tr><th>196</th><td>Region B</td><td>2021</td><td>2</td><td>REVENUE</td><td>HR</td><td>St. Louis</td><td>USD 3361.44 million</td></tr><tr><th>197</th><td>Region B</td><td>2021</td><td>2</td><td>LIABILITIES</td><td>OTHERS</td><td>Chicago</td><td>USD 3493.54 million</td></tr><tr><th>198</th><td>Region B</td><td>2021</td><td>2</td><td>NET_WORTH</td><td>OTHERS</td><td>Philadelphia</td><td>USD 4183.27 million</td></tr><tr><th>199</th><td>Region B</td><td>2021</td><td>2</td><td>STATISTICS</td><td>IT</td><td>Philadelphia</td><td>USD 3653.57 million</td></tr><tr><th>200</th><td>Region B</td><td>2021</td><td>2</td><td>LIABILITIES</td><td>IT</td><td>Chicago</td><td>USD 3485.87 million</td></tr><tr><th>201</th><td>Region B</td><td>2021</td><td>2</td><td>LIABILITIES</td><td>HR</td><td>Philadelphia</td><td>USD 3707.13 million</td></tr><tr><th>202</th><td>Region B</td><td>2021</td><td>2</td><td>NON-OPERATING_EXPENSES</td><td>OTHERS</td><td>Philadelphia</td><td>USD 3549.56 million</td></tr><tr><th>203</th><td>Region B</td><td>2021</td><td>2</td><td>REVENUE</td><td>OTHERS</td><td>Kansas City</td><td>USD 3214.86 million</td></tr><tr><th>204</th><td>Region B</td><td>2021</td><td>2</td><td>ASSETS</td><td>SALES</td><td>Boston</td><td>USD 3922.61 million</td></tr><tr><th>205</th><td>Region B</td><td>2021</td><td>2</td><td>OPERATING_EXPENSES</td><td>OTHERS</td><td>Richmond</td><td>USD 4196.52 million</td></tr><tr><th>206</th><td>Region B</td><td>2021</td><td>2</td><td>REVENUE</td><td>OTHERS</td><td>San Francisco</td><td>USD 3555.88 million</td></tr><tr><th>207</th><td>Region B</td><td>2021</td><td>2</td><td>NET_WORTH</td><td>OTHERS</td><td>Boston</td><td>USD 4289.68 million</td></tr><tr><th>208</th><td>Region B</td><td>2021</td><td>2</td><td>REVENUE</td><td>HR</td><td>New York</td><td>USD 4009.5 million</td></tr><tr><th>209</th><td>Region B</td><td>2021</td><td>2</td><td>LIABILITIES</td><td>HR</td><td>St. Louis</td><td>USD 3378.73 million</td></tr><tr><th>210</th><td>Region B</td><td>2021</td><td>2</td><td>OPERATING_EXPENSES</td><td>SALES</td><td>San Francisco</td><td>USD 3952.66 million</td></tr><tr><th>211</th><td>Region B</td><td>2021</td><td>2</td><td>LIABILITIES</td><td>IT</td><td>Philadelphia</td><td>USD 4527.18 million</td></tr><tr><th>212</th><td>Region B</td><td>2021</td><td>2</td><td>REVENUE</td><td>BUSINESS</td><td>Minneapolis</td><td>USD 4334.13 million</td></tr><tr><th>213</th><td>Region B</td><td>2021</td><td>2</td><td>NON-OPERATING_EXPENSES</td><td>IT</td><td>Minneapolis</td><td>USD 4103.66 million</td></tr><tr><th>214</th><td>Region B</td><td>2021</td><td>2</td><td>LIABILITIES</td><td>HR</td><td>Richmond</td><td>USD 3778.13 million</td></tr><tr><th>215</th><td>Region B</td><td>2021</td><td>2</td><td>OPERATING_EXPENSES</td><td>BUSINESS</td><td>Philadelphia</td><td>USD 3931.35 million</td></tr><tr><th>216</th><td>Region B</td><td>2021</td><td>2</td><td>STATISTICS</td><td>HR</td><td>Minneapolis</td><td>USD 4311.11 million</td></tr><tr><th>217</th><td>Region B</td><td>2021</td><td>2</td><td>STATISTICS</td><td>HR</td><td>Philadelphia</td><td>USD 3391.45 million</td></tr><tr><th>218</th><td>Region B</td><td>2021</td><td>2</td><td>STATISTICS</td><td>IT</td><td>Atlanta</td><td>USD 4583.94 million</td></tr><tr><th>219</th><td>Region B</td><td>2021</td><td>2</td><td>NON-OPERATING_EXPENSES</td><td>HR</td><td>Dallas</td><td>USD 3940.19 million</td></tr><tr><th>220</th><td>Region B</td><td>2021</td><td>2</td><td>ASSETS</td><td>HR</td><td>Cleveland</td><td>USD 3856.62 million</td></tr><tr><th>221</th><td>Region B</td><td>2021</td><td>2</td><td>ASSETS</td><td>HR</td><td>Chicago</td><td>USD 4201.79 million</td></tr><tr><th>222</th><td>Region B</td><td>2021</td><td>2</td><td>NON-OPERATING_EXPENSES</td><td>BUSINESS</td><td>San Francisco</td><td>USD 3968.44 million</td></tr><tr><th>223</th><td>Region B</td><td>2021</td><td>2</td><td>NON-OPERATING_EXPENSES</td><td>SALES</td><td>New York</td><td>USD 3646.47 million</td></tr><tr><th>224</th><td>Region B</td><td>2021</td><td>2</td><td>NON-OPERATING_EXPENSES</td><td>HR</td><td>Philadelphia</td><td>USD 4291.44 million</td></tr><tr><th>225</th><td>Region B</td><td>2021</td><td>2</td><td>STATISTICS</td><td>OTHERS</td><td>Atlanta</td><td>USD 3853.49 million</td></tr><tr><th>226</th><td>Region B</td><td>2021</td><td>2</td><td>NET_WORTH</td><td>IT</td><td>San Francisco</td><td>USD 4081.03 million</td></tr><tr><th>227</th><td>Region B</td><td>2021</td><td>2</td><td>LIABILITIES</td><td>BUSINESS</td><td>Minneapolis</td><td>USD 4606.12 million</td></tr><tr><th>228</th><td>Region B</td><td>2021</td><td>2</td><td>STATISTICS</td><td>BUSINESS</td><td>Atlanta</td><td>USD 3942.55 million</td></tr><tr><th>229</th><td>Region B</td><td>2021</td><td>2</td><td>NET_WORTH</td><td>SALES</td><td>Dallas</td><td>USD 4755.48 million</td></tr><tr><th>230</th><td>Region B</td><td>2021</td><td>2</td><td>STATISTICS</td><td>SALES</td><td>Dallas</td><td>USD 3441.78 million</td></tr><tr><th>231</th><td>Region B</td><td>2021</td><td>2</td><td>LIABILITIES</td><td>OTHERS</td><td>Boston</td><td>USD 4478.02 million</td></tr><tr><th>232</th><td>Region B</td><td>2021</td><td>2</td><td>LIABILITIES</td><td>BUSINESS</td><td>San Francisco</td><td>USD 3061.28 million</td></tr><tr><th>233</th><td>Region B</td><td>2021</td><td>2</td><td>OPERATING_EXPENSES</td><td>BUSINESS</td><td>Boston</td><td>USD 3640.12 million</td></tr><tr><th>234</th><td>Region B</td><td>2021</td><td>2</td><td>LIABILITIES</td><td>BUSINESS</td><td>Richmond</td><td>USD 4323.81 million</td></tr><tr><th>235</th><td>Region B</td><td>2021</td><td>2</td><td>NET_WORTH</td><td>HR</td><td>Cleveland</td><td>USD 3443.24 million</td></tr><tr><th>236</th><td>Region B</td><td>2021</td><td>2</td><td>ASSETS</td><td>OTHERS</td><td>Minneapolis</td><td>USD 3868.44 million</td></tr><tr><th>237</th><td>Region B</td><td>2021</td><td>2</td><td>STATISTICS</td><td>HR</td><td>Chicago</td><td>USD 4186.45 million</td></tr><tr><th>238</th><td>Region B</td><td>2021</td><td>2</td><td>NON-OPERATING_EXPENSES</td><td>OTHERS</td><td>Richmond</td><td>USD 4087.34 million</td></tr><tr><th>239</th><td>Region B</td><td>2021</td><td>2</td><td>NET_WORTH</td><td>SALES</td><td>San Francisco</td><td>USD 3124.19 million</td></tr><tr><th>240</th><td>Region B</td><td>2021</td><td>2</td><td>ASSETS</td><td>OTHERS</td><td>St. Louis</td><td>USD 3942.33 million</td></tr><tr><th>241</th><td>Region B</td><td>2021</td><td>2</td><td>ASSETS</td><td>SALES</td><td>Dallas</td><td>USD 3754.68 million</td></tr><tr><th>242</th><td>Region B</td><td>2021</td><td>2</td><td>ASSETS</td><td>SALES</td><td>Minneapolis</td><td>USD 2638.33 million</td></tr><tr><th>243</th><td>Region B</td><td>2021</td><td>2</td><td>NON-OPERATING_EXPENSES</td><td>BUSINESS</td><td>New York</td><td>USD 3435.19 million</td></tr><tr><th>244</th><td>Region B</td><td>2021</td><td>2</td><td>ASSETS</td><td>OTHERS</td><td>Cleveland</td><td>USD 4146.61 million</td></tr><tr><th>245</th><td>Region B</td><td>2021</td><td>2</td><td>ASSETS</td><td>OTHERS</td><td>Chicago</td><td>USD 3917.89 million</td></tr><tr><th>246</th><td>Region B</td><td>2021</td><td>2</td><td>NET_WORTH</td><td>IT</td><td>Atlanta</td><td>USD 3295.98 million</td></tr><tr><th>247</th><td>Region B</td><td>2021</td><td>2</td><td>REVENUE</td><td>IT</td><td>Dallas</td><td>USD 3887.11 million</td></tr><tr><th>248</th><td>Region B</td><td>2021</td><td>2</td><td>REVENUE</td><td>HR</td><td>Atlanta</td><td>USD 3989.15 million</td></tr><tr><th>249</th><td>Region B</td><td>2021</td><td>2</td><td>STATISTICS</td><td>OTHERS</td><td>Richmond</td><td>USD 3601.22 million</td></tr><tr><th>250</th><td>Region B</td><td>2021</td><td>2</td><td>STATISTICS</td><td>OTHERS</td><td>Kansas City</td><td>USD 3634.45 million</td></tr><tr><th>251</th><td>Region B</td><td>2021</td><td>2</td><td>STATISTICS</td><td>IT</td><td>San Francisco</td><td>USD 3443.8 million</td></tr><tr><th>252</th><td>Region B</td><td>2021</td><td>2</td><td>OPERATING_EXPENSES</td><td>OTHERS</td><td>Cleveland</td><td>USD 3904.54 million</td></tr><tr><th>253</th><td>Region B</td><td>2021</td><td>2</td><td>REVENUE</td><td>HR</td><td>Cleveland</td><td>USD 3983.46 million</td></tr><tr><th>254</th><td>Region B</td><td>2021</td><td>2</td><td>NET_WORTH</td><td>SALES</td><td>Chicago</td><td>USD 4376.57 million</td></tr><tr><th>255</th><td>Region B</td><td>2021</td><td>2</td><td>ASSETS</td><td>OTHERS</td><td>Boston</td><td>USD 3927.45 million</td></tr><tr><th>256</th><td>Region B</td><td>2021</td><td>2</td><td>REVENUE</td><td>OTHERS</td><td>New York</td><td>USD 3263.27 million</td></tr><tr><th>257</th><td>Region B</td><td>2021</td><td>2</td><td>STATISTICS</td><td>HR</td><td>St. Louis</td><td>USD 4538.98 million</td></tr><tr><th>258</th><td>Region B</td><td>2021</td><td>2</td><td>NET_WORTH</td><td>BUSINESS</td><td>Philadelphia</td><td>USD 3411.73 million</td></tr><tr><th>259</th><td>Region B</td><td>2021</td><td>2</td><td>LIABILITIES</td><td>SALES</td><td>Boston</td><td>USD 3520.68 million</td></tr><tr><th>260</th><td>Region B</td><td>2021</td><td>2</td><td>REVENUE</td><td>SALES</td><td>New York</td><td>USD 4735.84 million</td></tr><tr><th>261</th><td>Region B</td><td>2021</td><td>2</td><td>LIABILITIES</td><td>BUSINESS</td><td>St. Louis</td><td>USD 3669.81 million</td></tr><tr><th>262</th><td>Region B</td><td>2021</td><td>2</td><td>STATISTICS</td><td>OTHERS</td><td>Cleveland</td><td>USD 3961.69 million</td></tr><tr><th>263</th><td>Region B</td><td>2021</td><td>2</td><td>NON-OPERATING_EXPENSES</td><td>OTHERS</td><td>Minneapolis</td><td>USD 3202.41 million</td></tr><tr><th>264</th><td>Region B</td><td>2021</td><td>2</td><td>NET_WORTH</td><td>SALES</td><td>Minneapolis</td><td>USD 4296.49 million</td></tr><tr><th>265</th><td>Region B</td><td>2021</td><td>2</td><td>NON-OPERATING_EXPENSES</td><td>IT</td><td>Philadelphia</td><td>USD 4750.94 million</td></tr><tr><th>266</th><td>Region B</td><td>2021</td><td>2</td><td>ASSETS</td><td>BUSINESS</td><td>Richmond</td><td>USD 3916.94 million</td></tr><tr><th>267</th><td>Region B</td><td>2021</td><td>2</td><td>NET_WORTH</td><td>HR</td><td>Kansas City</td><td>USD 4378.44 million</td></tr><tr><th>268</th><td>Region B</td><td>2021</td><td>2</td><td>OPERATING_EXPENSES</td><td>SALES</td><td>Cleveland</td><td>USD 3913.3 million</td></tr><tr><th>269</th><td>Region B</td><td>2021</td><td>2</td><td>ASSETS</td><td>HR</td><td>New York</td><td>USD 4182.17 million</td></tr><tr><th>270</th><td>Region B</td><td>2021</td><td>2</td><td>OPERATING_EXPENSES</td><td>BUSINESS</td><td>New York</td><td>USD 3859.61 million</td></tr><tr><th>271</th><td>Region B</td><td>2021</td><td>2</td><td>NET_WORTH</td><td>SALES</td><td>Philadelphia</td><td>USD 4345.23 million</td></tr><tr><th>272</th><td>Region B</td><td>2021</td><td>2</td><td>NON-OPERATING_EXPENSES</td><td>SALES</td><td>San Francisco</td><td>USD 3354.34 million</td></tr><tr><th>273</th><td>Region B</td><td>2021</td><td>2</td><td>NET_WORTH</td><td>IT</td><td>Cleveland</td><td>USD 3787.16 million</td></tr><tr><th>274</th><td>Region B</td><td>2021</td><td>2</td><td>ASSETS</td><td>OTHERS</td><td>Richmond</td><td>USD 3765.26 million</td></tr><tr><th>275</th><td>Region B</td><td>2021</td><td>2</td><td>OPERATING_EXPENSES</td><td>IT</td><td>Richmond</td><td>USD 3910.95 million</td></tr><tr><th>276</th><td>Region B</td><td>2021</td><td>2</td><td>ASSETS</td><td>HR</td><td>St. Louis</td><td>USD 4655.51 million</td></tr><tr><th>277</th><td>Region B</td><td>2021</td><td>2</td><td>OPERATING_EXPENSES</td><td>IT</td><td>Dallas</td><td>USD 3638.51 million</td></tr><tr><th>278</th><td>Region B</td><td>2021</td><td>2</td><td>STATISTICS</td><td>IT</td><td>New York</td><td>USD 3779.41 million</td></tr><tr><th>279</th><td>Region B</td><td>2021</td><td>2</td><td>ASSETS</td><td>IT</td><td>Cleveland</td><td>USD 5150.0 million</td></tr><tr><th>280</th><td>Region B</td><td>2021</td><td>2</td><td>LIABILITIES</td><td>IT</td><td>New York</td><td>USD 3921.97 million</td></tr><tr><th>281</th><td>Region B</td><td>2021</td><td>2</td><td>LIABILITIES</td><td>HR</td><td>Minneapolis</td><td>USD 4332.34 million</td></tr><tr><th>282</th><td>Region B</td><td>2021</td><td>2</td><td>REVENUE</td><td>OTHERS</td><td>Boston</td><td>USD 4221.1 million</td></tr><tr><th>283</th><td>Region B</td><td>2021</td><td>2</td><td>NON-OPERATING_EXPENSES</td><td>IT</td><td>New York</td><td>USD 3756.12 million</td></tr><tr><th>284</th><td>Region B</td><td>2021</td><td>2</td><td>OPERATING_EXPENSES</td><td>IT</td><td>New York</td><td>USD 3754.5 million</td></tr><tr><th>285</th><td>Region B</td><td>2021</td><td>2</td><td>OPERATING_EXPENSES</td><td>SALES</td><td>Chicago</td><td>USD 3874.19 million</td></tr><tr><th>286</th><td>Region B</td><td>2021</td><td>2</td><td>REVENUE</td><td>SALES</td><td>Philadelphia</td><td>USD 4518.49 million</td></tr><tr><th>287</th><td>Region B</td><td>2021</td><td>2</td><td>ASSETS</td><td>IT</td><td>San Francisco</td><td>USD 3803.69 million</td></tr><tr><th>288</th><td>Region B</td><td>2021</td><td>2</td><td>ASSETS</td><td>IT</td><td>Atlanta</td><td>USD 3630.48 million</td></tr><tr><th>289</th><td>Region B</td><td>2021</td><td>2</td><td>STATISTICS</td><td>BUSINESS</td><td>Richmond</td><td>USD 4188.5 million</td></tr><tr><th>290</th><td>Region B</td><td>2021</td><td>2</td><td>STATISTICS</td><td>OTHERS</td><td>Dallas</td><td>USD 4998.09 million</td></tr><tr><th>291</th><td>Region B</td><td>2021</td><td>2</td><td>OPERATING_EXPENSES</td><td>HR</td><td>Boston</td><td>USD 3864.05 million</td></tr><tr><th>292</th><td>Region B</td><td>2021</td><td>2</td><td>REVENUE</td><td>IT</td><td>New York</td><td>USD 4389.13 million</td></tr><tr><th>293</th><td>Region B</td><td>2021</td><td>2</td><td>OPERATING_EXPENSES</td><td>HR</td><td>Dallas</td><td>USD 3840.72 million</td></tr><tr><th>294</th><td>Region B</td><td>2021</td><td>2</td><td>NET_WORTH</td><td>HR</td><td>Richmond</td><td>USD 4715.37 million</td></tr><tr><th>295</th><td>Region B</td><td>2021</td><td>2</td><td>STATISTICS</td><td>BUSINESS</td><td>Philadelphia</td><td>USD 4319.95 million</td></tr><tr><th>296</th><td>Region B</td><td>2021</td><td>2</td><td>REVENUE</td><td>IT</td><td>Richmond</td><td>USD 3878.62 million</td></tr><tr><th>297</th><td>Region B</td><td>2021</td><td>2</td><td>REVENUE</td><td>SALES</td><td>Minneapolis</td><td>USD 3874.8 million</td></tr><tr><th>298</th><td>Region B</td><td>2021</td><td>2</td><td>REVENUE</td><td>BUSINESS</td><td>Boston</td><td>USD 4498.18 million</td></tr><tr><th>299</th><td>Region B</td><td>2021</td><td>2</td><td>LIABILITIES</td><td>SALES</td><td>Cleveland</td><td>USD 3943.81 million</td></tr><tr><th>300</th><td>Region B</td><td>2021</td><td>2</td><td>NET_WORTH</td><td>OTHERS</td><td>Dallas</td><td>USD 4998.53 million</td></tr><tr><th>301</th><td>Region B</td><td>2021</td><td>2</td><td>ASSETS</td><td>SALES</td><td>St. Louis</td><td>USD 4250.38 million</td></tr><tr><th>302</th><td>Region B</td><td>2021</td><td>2</td><td>LIABILITIES</td><td>OTHERS</td><td>Cleveland</td><td>USD 4440.21 million</td></tr><tr><th>303</th><td>Region B</td><td>2021</td><td>2</td><td>NON-OPERATING_EXPENSES</td><td>IT</td><td>Kansas City</td><td>USD 4006.44 million</td></tr><tr><th>304</th><td>Region B</td><td>2021</td><td>2</td><td>OPERATING_EXPENSES</td><td>BUSINESS</td><td>Dallas</td><td>USD 3458.77 million</td></tr><tr><th>305</th><td>Region B</td><td>2021</td><td>2</td><td>OPERATING_EXPENSES</td><td>IT</td><td>Minneapolis</td><td>USD 4582.68 million</td></tr><tr><th>306</th><td>Region B</td><td>2021</td><td>2</td><td>STATISTICS</td><td>HR</td><td>San Francisco</td><td>USD 3812.89 million</td></tr><tr><th>307</th><td>Region B</td><td>2021</td><td>2</td><td>OPERATING_EXPENSES</td><td>HR</td><td>Cleveland</td><td>USD 3614.93 million</td></tr><tr><th>308</th><td>Region B</td><td>2021</td><td>2</td><td>LIABILITIES</td><td>OTHERS</td><td>St. Louis</td><td>USD 4461.69 million</td></tr><tr><th>309</th><td>Region B</td><td>2021</td><td>2</td><td>OPERATING_EXPENSES</td><td>OTHERS</td><td>Atlanta</td><td>USD 3828.67 million</td></tr><tr><th>310</th><td>Region B</td><td>2021</td><td>2</td><td>OPERATING_EXPENSES</td><td>BUSINESS</td><td>San Francisco</td><td>USD 3644.08 million</td></tr><tr><th>311</th><td>Region B</td><td>2021</td><td>2</td><td>NON-OPERATING_EXPENSES</td><td>OTHERS</td><td>St. Louis</td><td>USD 3616.26 million</td></tr><tr><th>312</th><td>Region B</td><td>2021</td><td>2</td><td>NET_WORTH</td><td>IT</td><td>Boston</td><td>USD 4448.35 million</td></tr><tr><th>313</th><td>Region B</td><td>2021</td><td>2</td><td>STATISTICS</td><td>BUSINESS</td><td>San Francisco</td><td>USD 4297.2 million</td></tr><tr><th>314</th><td>Region B</td><td>2021</td><td>2</td><td>NET_WORTH</td><td>BUSINESS</td><td>Minneapolis</td><td>USD 4480.38 million</td></tr><tr><th>315</th><td>Region B</td><td>2021</td><td>2</td><td>STATISTICS</td><td>SALES</td><td>Chicago</td><td>USD 4373.44 million</td></tr><tr><th>316</th><td>Region B</td><td>2021</td><td>2</td><td>ASSETS</td><td>BUSINESS</td><td>St. Louis</td><td>USD 3544.04 million</td></tr><tr><th>317</th><td>Region B</td><td>2021</td><td>2</td><td>LIABILITIES</td><td>HR</td><td>New York</td><td>USD 3549.84 million</td></tr><tr><th>318</th><td>Region B</td><td>2021</td><td>2</td><td>LIABILITIES</td><td>SALES</td><td>New York</td><td>USD 4387.0 million</td></tr><tr><th>319</th><td>Region B</td><td>2021</td><td>2</td><td>REVENUE</td><td>OTHERS</td><td>Dallas</td><td>USD 3616.4 million</td></tr><tr><th>320</th><td>Region B</td><td>2021</td><td>2</td><td>REVENUE</td><td>IT</td><td>Chicago</td><td>USD 3961.33 million</td></tr><tr><th>321</th><td>Region B</td><td>2021</td><td>2</td><td>REVENUE</td><td>BUSINESS</td><td>New York</td><td>USD 3625.01 million</td></tr><tr><th>322</th><td>Region B</td><td>2021</td><td>2</td><td>LIABILITIES</td><td>BUSINESS</td><td>Boston</td><td>USD 4627.67 million</td></tr><tr><th>323</th><td>Region B</td><td>2021</td><td>2</td><td>LIABILITIES</td><td>HR</td><td>San Francisco</td><td>USD 4498.27 million</td></tr><tr><th>324</th><td>Region B</td><td>2021</td><td>2</td><td>STATISTICS</td><td>BUSINESS</td><td>Minneapolis</td><td>USD 4315.26 million</td></tr><tr><th>325</th><td>Region B</td><td>2021</td><td>2</td><td>ASSETS</td><td>HR</td><td>Kansas City</td><td>USD 3924.74 million</td></tr><tr><th>326</th><td>Region B</td><td>2021</td><td>2</td><td>STATISTICS</td><td>OTHERS</td><td>Philadelphia</td><td>USD 4196.58 million</td></tr><tr><th>327</th><td>Region B</td><td>2021</td><td>2</td><td>OPERATING_EXPENSES</td><td>HR</td><td>New York</td><td>USD 4176.41 million</td></tr><tr><th>328</th><td>Region B</td><td>2021</td><td>2</td><td>REVENUE</td><td>SALES</td><td>San Francisco</td><td>USD 3641.69 million</td></tr><tr><th>329</th><td>Region B</td><td>2021</td><td>2</td><td>REVENUE</td><td>OTHERS</td><td>Chicago</td><td>USD 3815.97 million</td></tr><tr><th>330</th><td>Region B</td><td>2021</td><td>2</td><td>OPERATING_EXPENSES</td><td>SALES</td><td>St. Louis</td><td>USD 3355.44 million</td></tr><tr><th>331</th><td>Region B</td><td>2021</td><td>2</td><td>OPERATING_EXPENSES</td><td>SALES</td><td>New York</td><td>USD 3358.87 million</td></tr><tr><th>332</th><td>Region B</td><td>2021</td><td>2</td><td>NON-OPERATING_EXPENSES</td><td>HR</td><td>St. Louis</td><td>USD 4208.25 million</td></tr><tr><th>333</th><td>Region B</td><td>2021</td><td>2</td><td>NET_WORTH</td><td>OTHERS</td><td>St. Louis</td><td>USD 4463.89 million</td></tr><tr><th>334</th><td>Region B</td><td>2021</td><td>2</td><td>ASSETS</td><td>BUSINESS</td><td>Philadelphia</td><td>USD 3579.11 million</td></tr><tr><th>335</th><td>Region B</td><td>2021</td><td>2</td><td>REVENUE</td><td>BUSINESS</td><td>San Francisco</td><td>USD 3290.47 million</td></tr><tr><th>336</th><td>Region B</td><td>2021</td><td>2</td><td>LIABILITIES</td><td>OTHERS</td><td>Minneapolis</td><td>USD 3416.22 million</td></tr><tr><th>337</th><td>Region B</td><td>2021</td><td>2</td><td>OPERATING_EXPENSES</td><td>IT</td><td>Atlanta</td><td>USD 4744.26 million</td></tr><tr><th>338</th><td>Region B</td><td>2021</td><td>2</td><td>STATISTICS</td><td>HR</td><td>New York</td><td>USD 3740.18 million</td></tr><tr><th>339</th><td>Region B</td><td>2021</td><td>2</td><td>STATISTICS</td><td>IT</td><td>Chicago</td><td>USD 4877.71 million</td></tr><tr><th>340</th><td>Region B</td><td>2021</td><td>2</td><td>STATISTICS</td><td>IT</td><td>Dallas</td><td>USD 2708.41 million</td></tr><tr><th>341</th><td>Region B</td><td>2021</td><td>2</td><td>ASSETS</td><td>IT</td><td>Dallas</td><td>USD 3506.32 million</td></tr><tr><th>342</th><td>Region B</td><td>2021</td><td>2</td><td>NET_WORTH</td><td>BUSINESS</td><td>St. Louis</td><td>USD 4947.56 million</td></tr><tr><th>343</th><td>Region B</td><td>2021</td><td>2</td><td>OPERATING_EXPENSES</td><td>SALES</td><td>Richmond</td><td>USD 3400.41 million</td></tr><tr><th>344</th><td>Region B</td><td>2021</td><td>2</td><td>STATISTICS</td><td>SALES</td><td>St. Louis</td><td>USD 3503.3 million</td></tr><tr><th>345</th><td>Region B</td><td>2021</td><td>2</td><td>NET_WORTH</td><td>BUSINESS</td><td>San Francisco</td><td>USD 4297.84 million</td></tr><tr><th>346</th><td>Region B</td><td>2021</td><td>2</td><td>REVENUE</td><td>HR</td><td>Richmond</td><td>USD 3994.18 million</td></tr><tr><th>347</th><td>Region B</td><td>2021</td><td>2</td><td>REVENUE</td><td>SALES</td><td>Kansas City</td><td>USD 3945.2 million</td></tr><tr><th>348</th><td>Region B</td><td>2021</td><td>2</td><td>STATISTICS</td><td>IT</td><td>St. Louis</td><td>USD 3900.92 million</td></tr><tr><th>349</th><td>Region B</td><td>2021</td><td>2</td><td>STATISTICS</td><td>SALES</td><td>Minneapolis</td><td>USD 4518.63 million</td></tr><tr><th>350</th><td>Region B</td><td>2021</td><td>2</td><td>ASSETS</td><td>OTHERS</td><td>New York</td><td>USD 4133.53 million</td></tr><tr><th>351</th><td>Region B</td><td>2021</td><td>2</td><td>OPERATING_EXPENSES</td><td>IT</td><td>Cleveland</td><td>USD 3533.37 million</td></tr><tr><th>352</th><td>Region B</td><td>2021</td><td>2</td><td>NON-OPERATING_EXPENSES</td><td>SALES</td><td>Minneapolis</td><td>USD 3847.42 million</td></tr><tr><th>353</th><td>Region B</td><td>2021</td><td>2</td><td>NON-OPERATING_EXPENSES</td><td>IT</td><td>Chicago</td><td>USD 3302.56 million</td></tr><tr><th>354</th><td>Region B</td><td>2021</td><td>2</td><td>REVENUE</td><td>OTHERS</td><td>Cleveland</td><td>USD 3156.42 million</td></tr><tr><th>355</th><td>Region B</td><td>2021</td><td>2</td><td>REVENUE</td><td>BUSINESS</td><td>Chicago</td><td>USD 3495.35 million</td></tr><tr><th>356</th><td>Region B</td><td>2021</td><td>2</td><td>STATISTICS</td><td>HR</td><td>Richmond</td><td>USD 3360.18 million</td></tr><tr><th>357</th><td>Region B</td><td>2021</td><td>2</td><td>NET_WORTH</td><td>IT</td><td>Richmond</td><td>USD 4037.96 million</td></tr><tr><th>358</th><td>Region B</td><td>2021</td><td>2</td><td>OPERATING_EXPENSES</td><td>OTHERS</td><td>Boston</td><td>USD 3400.47 million</td></tr><tr><th>359</th><td>Region B</td><td>2021</td><td>2</td><td>STATISTICS</td><td>HR</td><td>Cleveland</td><td>USD 5120.77 million</td></tr><tr><th>360</th><td>Region B</td><td>2021</td><td>2</td><td>NON-OPERATING_EXPENSES</td><td>HR</td><td>New York</td><td>USD 3341.5 million</td></tr><tr><th>361</th><td>Region B</td><td>2021</td><td>2</td><td>NET_WORTH</td><td>OTHERS</td><td>Cleveland</td><td>USD 3950.75 million</td></tr><tr><th>362</th><td>Region B</td><td>2021</td><td>2</td><td>LIABILITIES</td><td>BUSINESS</td><td>Atlanta</td><td>USD 3909.57 million</td></tr><tr><th>363</th><td>Region B</td><td>2021</td><td>2</td><td>ASSETS</td><td>SALES</td><td>Philadelphia</td><td>USD 3477.24 million</td></tr><tr><th>364</th><td>Region B</td><td>2021</td><td>2</td><td>NET_WORTH</td><td>HR</td><td>Atlanta</td><td>USD 3750.61 million</td></tr><tr><th>365</th><td>Region B</td><td>2021</td><td>2</td><td>NON-OPERATING_EXPENSES</td><td>HR</td><td>Richmond</td><td>USD 3762.4 million</td></tr><tr><th>366</th><td>Region B</td><td>2021</td><td>2</td><td>REVENUE</td><td>BUSINESS</td><td>Atlanta</td><td>USD 3524.35 million</td></tr><tr><th>367</th><td>Region B</td><td>2021</td><td>2</td><td>NON-OPERATING_EXPENSES</td><td>BUSINESS</td><td>Minneapolis</td><td>USD 3918.28 million</td></tr><tr><th>368</th><td>Region B</td><td>2021</td><td>2</td><td>ASSETS</td><td>HR</td><td>Atlanta</td><td>USD 3877.97 million</td></tr><tr><th>369</th><td>Region B</td><td>2021</td><td>2</td><td>NON-OPERATING_EXPENSES</td><td>HR</td><td>Kansas City</td><td>USD 3928.57 million</td></tr><tr><th>370</th><td>Region B</td><td>2021</td><td>2</td><td>REVENUE</td><td>IT</td><td>Boston</td><td>USD 3771.93 million</td></tr><tr><th>371</th><td>Region B</td><td>2021</td><td>2</td><td>REVENUE</td><td>OTHERS</td><td>Philadelphia</td><td>USD 3863.22 million</td></tr><tr><th>372</th><td>Region B</td><td>2021</td><td>2</td><td>NET_WORTH</td><td>OTHERS</td><td>New York</td><td>USD 3363.16 million</td></tr><tr><th>373</th><td>Region B</td><td>2021</td><td>2</td><td>STATISTICS</td><td>SALES</td><td>Richmond</td><td>USD 3897.3 million</td></tr><tr><th>374</th><td>Region B</td><td>2021</td><td>2</td><td>NET_WORTH</td><td>SALES</td><td>Richmond</td><td>USD 3768.73 million</td></tr><tr><th>375</th><td>Region B</td><td>2021</td><td>2</td><td>STATISTICS</td><td>SALES</td><td>Boston</td><td>USD 4744.92 million</td></tr><tr><th>376</th><td>Region B</td><td>2021</td><td>2</td><td>NON-OPERATING_EXPENSES</td><td>BUSINESS</td><td>Kansas City</td><td>USD 4498.11 million</td></tr><tr><th>377</th><td>Region B</td><td>2021</td><td>2</td><td>REVENUE</td><td>HR</td><td>Philadelphia</td><td>USD 3751.32 million</td></tr><tr><th>378</th><td>Region B</td><td>2021</td><td>2</td><td>OPERATING_EXPENSES</td><td>IT</td><td>Chicago</td><td>USD 4065.66 million</td></tr><tr><th>379</th><td>Region B</td><td>2021</td><td>2</td><td>NET_WORTH</td><td>BUSINESS</td><td>New York</td><td>USD 3786.22 million</td></tr><tr><th>380</th><td>Region B</td><td>2021</td><td>2</td><td>OPERATING_EXPENSES</td><td>IT</td><td>Philadelphia</td><td>USD 3674.19 million</td></tr><tr><th>381</th><td>Region B</td><td>2021</td><td>2</td><td>NET_WORTH</td><td>BUSINESS</td><td>Kansas City</td><td>USD 3168.14 million</td></tr><tr><th>382</th><td>Region B</td><td>2021</td><td>2</td><td>OPERATING_EXPENSES</td><td>HR</td><td>San Francisco</td><td>USD 3337.98 million</td></tr><tr><th>383</th><td>Region B</td><td>2021</td><td>2</td><td>NET_WORTH</td><td>OTHERS</td><td>Kansas City</td><td>USD 3765.9 million</td></tr><tr><th>384</th><td>Region B</td><td>2021</td><td>2</td><td>OPERATING_EXPENSES</td><td>HR</td><td>Richmond</td><td>USD 3776.64 million</td></tr><tr><th>385</th><td>Region B</td><td>2021</td><td>2</td><td>ASSETS</td><td>HR</td><td>Dallas</td><td>USD 3211.58 million</td></tr><tr><th>386</th><td>Region B</td><td>2021</td><td>2</td><td>STATISTICS</td><td>SALES</td><td>Atlanta</td><td>USD 3402.09 million</td></tr><tr><th>387</th><td>Region B</td><td>2021</td><td>2</td><td>NET_WORTH</td><td>HR</td><td>Dallas</td><td>USD 5013.63 million</td></tr><tr><th>388</th><td>Region B</td><td>2021</td><td>2</td><td>LIABILITIES</td><td>IT</td><td>Boston</td><td>USD 3499.94 million</td></tr><tr><th>389</th><td>Region B</td><td>2021</td><td>2</td><td>NET_WORTH</td><td>OTHERS</td><td>Atlanta</td><td>USD 4442.08 million</td></tr><tr><th>390</th><td>Region B</td><td>2021</td><td>2</td><td>ASSETS</td><td>OTHERS</td><td>San Francisco</td><td>USD 3914.48 million</td></tr><tr><th>391</th><td>Region B</td><td>2021</td><td>2</td><td>LIABILITIES</td><td>SALES</td><td>Richmond</td><td>USD 3139.59 million</td></tr><tr><th>392</th><td>Region B</td><td>2021</td><td>2</td><td>ASSETS</td><td>SALES</td><td>New York</td><td>USD 3224.55 million</td></tr><tr><th>393</th><td>Region B</td><td>2021</td><td>2</td><td>NON-OPERATING_EXPENSES</td><td>BUSINESS</td><td>Atlanta</td><td>USD 4508.29 million</td></tr><tr><th>394</th><td>Region B</td><td>2021</td><td>2</td><td>LIABILITIES</td><td>SALES</td><td>Atlanta</td><td>USD 4241.26 million</td></tr><tr><th>395</th><td>Region B</td><td>2021</td><td>2</td><td>OPERATING_EXPENSES</td><td>SALES</td><td>Atlanta</td><td>USD 3592.17 million</td></tr><tr><th>396</th><td>Region B</td><td>2021</td><td>2</td><td>LIABILITIES</td><td>OTHERS</td><td>Dallas</td><td>USD 3695.96 million</td></tr><tr><th>397</th><td>Region B</td><td>2021</td><td>2</td><td>OPERATING_EXPENSES</td><td>OTHERS</td><td>San Francisco</td><td>USD 3089.01 million</td></tr><tr><th>398</th><td>Region B</td><td>2021</td><td>2</td><td>STATISTICS</td><td>SALES</td><td>Kansas City</td><td>USD 3948.26 million</td></tr><tr><th>399</th><td>Region B</td><td>2021</td><td>2</td><td>ASSETS</td><td>BUSINESS</td><td>Kansas City</td><td>USD 3119.45 million</td></tr><tr><th>400</th><td>Region B</td><td>2021</td><td>2</td><td>REVENUE</td><td>SALES</td><td>St. Louis</td><td>USD 4053.0 million</td></tr><tr><th>401</th><td>Region B</td><td>2021</td><td>2</td><td>REVENUE</td><td>OTHERS</td><td>Atlanta</td><td>USD 3683.48 million</td></tr><tr><th>402</th><td>Region B</td><td>2021</td><td>2</td><td>NON-OPERATING_EXPENSES</td><td>HR</td><td>Atlanta</td><td>USD 3858.73 million</td></tr><tr><th>403</th><td>Region B</td><td>2021</td><td>2</td><td>ASSETS</td><td>SALES</td><td>San Francisco</td><td>USD 3291.86 million</td></tr><tr><th>404</th><td>Region B</td><td>2021</td><td>2</td><td>NET_WORTH</td><td>HR</td><td>Chicago</td><td>USD 3804.4 million</td></tr><tr><th>405</th><td>Region B</td><td>2021</td><td>2</td><td>ASSETS</td><td>SALES</td><td>Atlanta</td><td>USD 3943.89 million</td></tr><tr><th>406</th><td>Region B</td><td>2021</td><td>2</td><td>ASSETS</td><td>BUSINESS</td><td>Boston</td><td>USD 3909.51 million</td></tr><tr><th>407</th><td>Region B</td><td>2021</td><td>2</td><td>ASSETS</td><td>HR</td><td>Richmond</td><td>USD 3539.07 million</td></tr><tr><th>408</th><td>Region B</td><td>2021</td><td>2</td><td>REVENUE</td><td>IT</td><td>Cleveland</td><td>USD 3763.62 million</td></tr><tr><th>409</th><td>Region B</td><td>2021</td><td>2</td><td>OPERATING_EXPENSES</td><td>SALES</td><td>Minneapolis</td><td>USD 4179.07 million</td></tr><tr><th>410</th><td>Region B</td><td>2021</td><td>2</td><td>STATISTICS</td><td>OTHERS</td><td>Boston</td><td>USD 3585.53 million</td></tr><tr><th>411</th><td>Region B</td><td>2021</td><td>2</td><td>LIABILITIES</td><td>IT</td><td>Cleveland</td><td>USD 5007.31 million</td></tr><tr><th>412</th><td>Region B</td><td>2021</td><td>2</td><td>OPERATING_EXPENSES</td><td>SALES</td><td>Dallas</td><td>USD 3356.67 million</td></tr><tr><th>413</th><td>Region B</td><td>2021</td><td>2</td><td>LIABILITIES</td><td>OTHERS</td><td>Kansas City</td><td>USD 4477.97 million</td></tr><tr><th>414</th><td>Region B</td><td>2021</td><td>2</td><td>NET_WORTH</td><td>SALES</td><td>Cleveland</td><td>USD 3637.36 million</td></tr><tr><th>415</th><td>Region B</td><td>2021</td><td>2</td><td>STATISTICS</td><td>HR</td><td>Boston</td><td>USD 3105.55 million</td></tr><tr><th>416</th><td>Region B</td><td>2021</td><td>2</td><td>NON-OPERATING_EXPENSES</td><td>SALES</td><td>Cleveland</td><td>USD 4432.2 million</td></tr><tr><th>417</th><td>Region B</td><td>2021</td><td>2</td><td>ASSETS</td><td>BUSINESS</td><td>Atlanta</td><td>USD 3405.35 million</td></tr><tr><th>418</th><td>Region B</td><td>2021</td><td>2</td><td>LIABILITIES</td><td>OTHERS</td><td>San Francisco</td><td>USD 3571.54 million</td></tr><tr><th>419</th><td>Region B</td><td>2021</td><td>2</td><td>REVENUE</td><td>BUSINESS</td><td>Richmond</td><td>USD 3325.6 million</td></tr><tr><th>420</th><td>Region B</td><td>2021</td><td>2</td><td>NET_WORTH</td><td>SALES</td><td>Boston</td><td>USD 2699.08 million</td></tr></tbody></table></div>"
               },
               "type": "node"
              }
             ],
             "instanceArgs": {
              "namespace": "html",
              "tag": "div"
             },
             "nodeType": "DOM",
             "props": {
              "className": "interact-flex-row interact-widget"
             },
             "type": "node"
            }
           }
          },
          "systemjs_options": null
         },
         "nodeType": "Scope",
         "props": {},
         "type": "node"
        }
       ],
       "instanceArgs": {
        "namespace": "html",
        "tag": "div"
       },
       "nodeType": "DOM",
       "props": {},
       "type": "node"
      },
      "text/html": [
       "<div\n",
       "    class=\"webio-mountpoint\"\n",
       "    data-webio-mountpoint=\"11660015782342108746\"\n",
       ">\n",
       "    <script>\n",
       "    (function(){\n",
       "    // Some integrations (namely, IJulia/Jupyter) use an alternate render pathway than\n",
       "    // just putting the html on the page. If WebIO isn't defined, then it's pretty likely\n",
       "    // that we're in one of those situations and the integration just isn't installed\n",
       "    // correctly.\n",
       "    if (typeof window.WebIO === \"undefined\") {\n",
       "        document\n",
       "            .querySelector('[data-webio-mountpoint=\"11660015782342108746\"]')\n",
       "            .innerHTML = (\n",
       "                '<div style=\"padding: 1em; background-color: #f8d6da; border: 1px solid #f5c6cb; font-weight: bold;\">' +\n",
       "                '<p><strong>WebIO not detected.</strong></p>' +\n",
       "                '<p>Please read ' +\n",
       "                '<a href=\"https://juliagizmos.github.io/WebIO.jl/latest/troubleshooting/not-detected/\" target=\"_blank\">the troubleshooting guide</a> ' +\n",
       "                'for more information on how to resolve this issue.</p>' +\n",
       "                '<p><a href=\"https://juliagizmos.github.io/WebIO.jl/latest/troubleshooting/not-detected/\" target=\"_blank\">https://juliagizmos.github.io/WebIO.jl/latest/troubleshooting/not-detected/</a></p>' +\n",
       "                '</div>'\n",
       "            );\n",
       "        return;\n",
       "    }\n",
       "    WebIO.mount(\n",
       "        document.querySelector('[data-webio-mountpoint=\"11660015782342108746\"]'),\n",
       "        {\"props\":{},\"nodeType\":\"DOM\",\"type\":\"node\",\"instanceArgs\":{\"namespace\":\"html\",\"tag\":\"div\"},\"children\":[{\"props\":{\"className\":\"interact-widget\"},\"nodeType\":\"DOM\",\"type\":\"node\",\"instanceArgs\":{\"namespace\":\"html\",\"tag\":\"div\"},\"children\":[{\"props\":{},\"nodeType\":\"Scope\",\"type\":\"node\",\"instanceArgs\":{\"imports\":{\"data\":[{\"name\":\"knockout\",\"type\":\"js\",\"url\":\"\\/assetserver\\/7adbe83fac1553325d6e718d595ab555e1cabbe4-knockout.js\"},{\"name\":\"knockout_punches\",\"type\":\"js\",\"url\":\"\\/assetserver\\/cec8c4de011abc05b545afbaaea4bb4465a1f168-knockout_punches.js\"},{\"name\":null,\"type\":\"js\",\"url\":\"\\/assetserver\\/5ddeec2b33e792dac4326b9b8929eb841863a558-all.js\"},{\"name\":null,\"type\":\"css\",\"url\":\"\\/assetserver\\/a04b7b754438af5b294cd7f1d762c01dae6fade5-style.css\"},{\"name\":null,\"type\":\"css\",\"url\":\"\\/assetserver\\/50b13cf07303023836f4115fe93a8fe3eca4721a-bulma_confined.min.css\"}],\"type\":\"async_block\"},\"id\":\"4553191827914530016\",\"handlers\":{\"options_js\":[\"(function (val){return (val!=this.model[\\\"options_js\\\"]()) ? (this.valueFromJulia[\\\"options_js\\\"]=true, this.model[\\\"options_js\\\"](val)) : undefined})\"],\"index\":[\"(function (val){return (val!=this.model[\\\"index\\\"]()) ? (this.valueFromJulia[\\\"index\\\"]=true, this.model[\\\"index\\\"](val)) : undefined})\"]},\"systemjs_options\":null,\"mount_callbacks\":[\"function () {\\n    var handler = (function (ko, koPunches) {\\n    ko.punches.enableAll();\\n    ko.bindingHandlers.numericValue = {\\n        init: function(element, valueAccessor, allBindings, data, context) {\\n            var stringified = ko.observable(ko.unwrap(valueAccessor()));\\n            stringified.subscribe(function(value) {\\n                var val = parseFloat(value);\\n                if (!isNaN(val)) {\\n                    valueAccessor()(val);\\n                }\\n            });\\n            valueAccessor().subscribe(function(value) {\\n                var str = JSON.stringify(value);\\n                if ((str == \\\"0\\\") && ([\\\"-0\\\", \\\"-0.\\\"].indexOf(stringified()) >= 0))\\n                     return;\\n                 if ([\\\"null\\\", \\\"\\\"].indexOf(str) >= 0)\\n                     return;\\n                stringified(str);\\n            });\\n            ko.applyBindingsToNode(\\n                element,\\n                {\\n                    value: stringified,\\n                    valueUpdate: allBindings.get('valueUpdate'),\\n                },\\n                context,\\n            );\\n        }\\n    };\\n    var json_data = {\\\"options_js\\\":WebIO.getval({\\\"name\\\":\\\"options_js\\\",\\\"scope\\\":\\\"4553191827914530016\\\",\\\"id\\\":\\\"1675532653302250141\\\",\\\"type\\\":\\\"observable\\\"}),\\\"index\\\":WebIO.getval({\\\"name\\\":\\\"index\\\",\\\"scope\\\":\\\"4553191827914530016\\\",\\\"id\\\":\\\"5616952524097154523\\\",\\\"type\\\":\\\"observable\\\"})};\\n    var self = this;\\n    function AppViewModel() {\\n        for (var key in json_data) {\\n            var el = json_data[key];\\n            this[key] = Array.isArray(el) ? ko.observableArray(el) : ko.observable(el);\\n        }\\n        [this[\\\"update\\\"]=function (val) {this.index(val)}]\\n        \\n        [this[\\\"options_js\\\"].subscribe((function (val){!(this.valueFromJulia[\\\"options_js\\\"]) ? (WebIO.setval({\\\"name\\\":\\\"options_js\\\",\\\"scope\\\":\\\"4553191827914530016\\\",\\\"id\\\":\\\"1675532653302250141\\\",\\\"type\\\":\\\"observable\\\"},val)) : undefined; return this.valueFromJulia[\\\"options_js\\\"]=false}),self),this[\\\"index\\\"].subscribe((function (val){!(this.valueFromJulia[\\\"index\\\"]) ? (WebIO.setval({\\\"name\\\":\\\"index\\\",\\\"scope\\\":\\\"4553191827914530016\\\",\\\"id\\\":\\\"5616952524097154523\\\",\\\"type\\\":\\\"observable\\\"},val)) : undefined; return this.valueFromJulia[\\\"index\\\"]=false}),self)]\\n        \\n    }\\n    self.model = new AppViewModel();\\n    self.valueFromJulia = {};\\n    for (var key in json_data) {\\n        self.valueFromJulia[key] = false;\\n    }\\n    ko.applyBindings(self.model, self.dom);\\n}\\n);\\n    (WebIO.importBlock({\\\"data\\\":[{\\\"name\\\":\\\"knockout\\\",\\\"type\\\":\\\"js\\\",\\\"url\\\":\\\"\\/assetserver\\/7adbe83fac1553325d6e718d595ab555e1cabbe4-knockout.js\\\"},{\\\"name\\\":\\\"knockout_punches\\\",\\\"type\\\":\\\"js\\\",\\\"url\\\":\\\"\\/assetserver\\/cec8c4de011abc05b545afbaaea4bb4465a1f168-knockout_punches.js\\\"}],\\\"type\\\":\\\"async_block\\\"})).then((imports) => handler.apply(this, imports));\\n}\\n\"],\"observables\":{\"options_js\":{\"sync\":false,\"id\":\"1675532653302250141\",\"value\":[{\"key\":\"Actuals\",\"val\":1,\"id\":\"idu5VuDNuy\"},{\"key\":\"Budget\",\"val\":2,\"id\":\"idO8qLZwak\"}]},\"index\":{\"sync\":true,\"id\":\"5616952524097154523\",\"value\":1}}},\"children\":[{\"props\":{\"className\":\"interact-flex-row interact-widget\"},\"nodeType\":\"DOM\",\"type\":\"node\",\"instanceArgs\":{\"namespace\":\"html\",\"tag\":\"div\"},\"children\":[{\"props\":{\"className\":\"interact-flex-row-left\"},\"nodeType\":\"DOM\",\"type\":\"node\",\"instanceArgs\":{\"namespace\":\"html\",\"tag\":\"div\"},\"children\":[{\"props\":{\"className\":\"interact \",\"style\":{\"padding\":\"5px 10px 0px 10px\"}},\"nodeType\":\"DOM\",\"type\":\"node\",\"instanceArgs\":{\"namespace\":\"html\",\"tag\":\"label\"},\"children\":[\"ld\"]}]},{\"props\":{\"className\":\"interact-flex-row-center\"},\"nodeType\":\"DOM\",\"type\":\"node\",\"instanceArgs\":{\"namespace\":\"html\",\"tag\":\"div\"},\"children\":[{\"props\":{\"attributes\":{\"data-bind\":\"foreach : options_js\"},\"className\":\"buttons has-addons is-centered\"},\"nodeType\":\"DOM\",\"type\":\"node\",\"instanceArgs\":{\"namespace\":\"html\",\"tag\":\"div\"},\"children\":[{\"props\":{\"attributes\":{\"data-bind\":\"click: function (){$root.update(val)}, css: {'is-primary is-selected' : $root.index() == val, 'interact-widget is-medium button ' : true}\"}},\"nodeType\":\"DOM\",\"type\":\"node\",\"instanceArgs\":{\"namespace\":\"html\",\"tag\":\"span\"},\"children\":[{\"props\":{\"attributes\":{\"data-bind\":\"text : key\"}},\"nodeType\":\"DOM\",\"type\":\"node\",\"instanceArgs\":{\"namespace\":\"html\",\"tag\":\"label\"},\"children\":[]}]}]}]},{\"props\":{\"className\":\"interact-flex-row-right\"},\"nodeType\":\"DOM\",\"type\":\"node\",\"instanceArgs\":{\"namespace\":\"html\",\"tag\":\"div\"},\"children\":[{\"props\":{},\"nodeType\":\"DOM\",\"type\":\"node\",\"instanceArgs\":{\"namespace\":\"html\",\"tag\":\"div\"},\"children\":[]}]}]}]}]},{\"props\":{\"className\":\"interact-widget\"},\"nodeType\":\"DOM\",\"type\":\"node\",\"instanceArgs\":{\"namespace\":\"html\",\"tag\":\"div\"},\"children\":[{\"props\":{},\"nodeType\":\"Scope\",\"type\":\"node\",\"instanceArgs\":{\"imports\":{\"data\":[{\"name\":\"knockout\",\"type\":\"js\",\"url\":\"\\/assetserver\\/7adbe83fac1553325d6e718d595ab555e1cabbe4-knockout.js\"},{\"name\":\"knockout_punches\",\"type\":\"js\",\"url\":\"\\/assetserver\\/cec8c4de011abc05b545afbaaea4bb4465a1f168-knockout_punches.js\"},{\"name\":null,\"type\":\"js\",\"url\":\"\\/assetserver\\/5ddeec2b33e792dac4326b9b8929eb841863a558-all.js\"},{\"name\":null,\"type\":\"css\",\"url\":\"\\/assetserver\\/a04b7b754438af5b294cd7f1d762c01dae6fade5-style.css\"},{\"name\":null,\"type\":\"css\",\"url\":\"\\/assetserver\\/50b13cf07303023836f4115fe93a8fe3eca4721a-bulma_confined.min.css\"}],\"type\":\"async_block\"},\"id\":\"12974444920475097718\",\"handlers\":{\"options_js\":[\"(function (val){return (val!=this.model[\\\"options_js\\\"]()) ? (this.valueFromJulia[\\\"options_js\\\"]=true, this.model[\\\"options_js\\\"](val)) : undefined})\"],\"index\":[\"(function (val){return (val!=this.model[\\\"index\\\"]()) ? (this.valueFromJulia[\\\"index\\\"]=true, this.model[\\\"index\\\"](val)) : undefined})\"]},\"systemjs_options\":null,\"mount_callbacks\":[\"function () {\\n    var handler = (function (ko, koPunches) {\\n    ko.punches.enableAll();\\n    ko.bindingHandlers.numericValue = {\\n        init: function(element, valueAccessor, allBindings, data, context) {\\n            var stringified = ko.observable(ko.unwrap(valueAccessor()));\\n            stringified.subscribe(function(value) {\\n                var val = parseFloat(value);\\n                if (!isNaN(val)) {\\n                    valueAccessor()(val);\\n                }\\n            });\\n            valueAccessor().subscribe(function(value) {\\n                var str = JSON.stringify(value);\\n                if ((str == \\\"0\\\") && ([\\\"-0\\\", \\\"-0.\\\"].indexOf(stringified()) >= 0))\\n                     return;\\n                 if ([\\\"null\\\", \\\"\\\"].indexOf(str) >= 0)\\n                     return;\\n                stringified(str);\\n            });\\n            ko.applyBindingsToNode(\\n                element,\\n                {\\n                    value: stringified,\\n                    valueUpdate: allBindings.get('valueUpdate'),\\n                },\\n                context,\\n            );\\n        }\\n    };\\n    var json_data = {\\\"options_js\\\":WebIO.getval({\\\"name\\\":\\\"options_js\\\",\\\"scope\\\":\\\"12974444920475097718\\\",\\\"id\\\":\\\"9778487130305084804\\\",\\\"type\\\":\\\"observable\\\"}),\\\"index\\\":WebIO.getval({\\\"name\\\":\\\"index\\\",\\\"scope\\\":\\\"12974444920475097718\\\",\\\"id\\\":\\\"3431689064991355076\\\",\\\"type\\\":\\\"observable\\\"})};\\n    var self = this;\\n    function AppViewModel() {\\n        for (var key in json_data) {\\n            var el = json_data[key];\\n            this[key] = Array.isArray(el) ? ko.observableArray(el) : ko.observable(el);\\n        }\\n        [this[\\\"update\\\"]=function (val) {this.index(val)}]\\n        \\n        [this[\\\"options_js\\\"].subscribe((function (val){!(this.valueFromJulia[\\\"options_js\\\"]) ? (WebIO.setval({\\\"name\\\":\\\"options_js\\\",\\\"scope\\\":\\\"12974444920475097718\\\",\\\"id\\\":\\\"9778487130305084804\\\",\\\"type\\\":\\\"observable\\\"},val)) : undefined; return this.valueFromJulia[\\\"options_js\\\"]=false}),self),this[\\\"index\\\"].subscribe((function (val){!(this.valueFromJulia[\\\"index\\\"]) ? (WebIO.setval({\\\"name\\\":\\\"index\\\",\\\"scope\\\":\\\"12974444920475097718\\\",\\\"id\\\":\\\"3431689064991355076\\\",\\\"type\\\":\\\"observable\\\"},val)) : undefined; return this.valueFromJulia[\\\"index\\\"]=false}),self)]\\n        \\n    }\\n    self.model = new AppViewModel();\\n    self.valueFromJulia = {};\\n    for (var key in json_data) {\\n        self.valueFromJulia[key] = false;\\n    }\\n    ko.applyBindings(self.model, self.dom);\\n}\\n);\\n    (WebIO.importBlock({\\\"data\\\":[{\\\"name\\\":\\\"knockout\\\",\\\"type\\\":\\\"js\\\",\\\"url\\\":\\\"\\/assetserver\\/7adbe83fac1553325d6e718d595ab555e1cabbe4-knockout.js\\\"},{\\\"name\\\":\\\"knockout_punches\\\",\\\"type\\\":\\\"js\\\",\\\"url\\\":\\\"\\/assetserver\\/cec8c4de011abc05b545afbaaea4bb4465a1f168-knockout_punches.js\\\"}],\\\"type\\\":\\\"async_block\\\"})).then((imports) => handler.apply(this, imports));\\n}\\n\"],\"observables\":{\"options_js\":{\"sync\":false,\"id\":\"9778487130305084804\",\"value\":[{\"key\":\"Region B\",\"val\":1,\"id\":\"idBDyhl3gI\"},{\"key\":\"Region C\",\"val\":2,\"id\":\"idUIE3vSku\"},{\"key\":\"Region A\",\"val\":3,\"id\":\"idbcFYBjID\"}]},\"index\":{\"sync\":true,\"id\":\"3431689064991355076\",\"value\":1}}},\"children\":[{\"props\":{\"className\":\"interact-flex-row interact-widget\"},\"nodeType\":\"DOM\",\"type\":\"node\",\"instanceArgs\":{\"namespace\":\"html\",\"tag\":\"div\"},\"children\":[{\"props\":{\"className\":\"interact-flex-row-left\"},\"nodeType\":\"DOM\",\"type\":\"node\",\"instanceArgs\":{\"namespace\":\"html\",\"tag\":\"div\"},\"children\":[{\"props\":{\"className\":\"interact \",\"style\":{\"padding\":\"5px 10px 0px 10px\"}},\"nodeType\":\"DOM\",\"type\":\"node\",\"instanceArgs\":{\"namespace\":\"html\",\"tag\":\"label\"},\"children\":[\"rg\"]}]},{\"props\":{\"className\":\"interact-flex-row-center\"},\"nodeType\":\"DOM\",\"type\":\"node\",\"instanceArgs\":{\"namespace\":\"html\",\"tag\":\"div\"},\"children\":[{\"props\":{\"attributes\":{\"data-bind\":\"foreach : options_js\"},\"className\":\"buttons has-addons is-centered\"},\"nodeType\":\"DOM\",\"type\":\"node\",\"instanceArgs\":{\"namespace\":\"html\",\"tag\":\"div\"},\"children\":[{\"props\":{\"attributes\":{\"data-bind\":\"click: function (){$root.update(val)}, css: {'is-primary is-selected' : $root.index() == val, 'interact-widget is-medium button ' : true}\"}},\"nodeType\":\"DOM\",\"type\":\"node\",\"instanceArgs\":{\"namespace\":\"html\",\"tag\":\"span\"},\"children\":[{\"props\":{\"attributes\":{\"data-bind\":\"text : key\"}},\"nodeType\":\"DOM\",\"type\":\"node\",\"instanceArgs\":{\"namespace\":\"html\",\"tag\":\"label\"},\"children\":[]}]}]}]},{\"props\":{\"className\":\"interact-flex-row-right\"},\"nodeType\":\"DOM\",\"type\":\"node\",\"instanceArgs\":{\"namespace\":\"html\",\"tag\":\"div\"},\"children\":[{\"props\":{},\"nodeType\":\"DOM\",\"type\":\"node\",\"instanceArgs\":{\"namespace\":\"html\",\"tag\":\"div\"},\"children\":[]}]}]}]}]},{\"props\":{\"className\":\"field interact-widget\"},\"nodeType\":\"DOM\",\"type\":\"node\",\"instanceArgs\":{\"namespace\":\"html\",\"tag\":\"div\"},\"children\":[{\"props\":{},\"nodeType\":\"Scope\",\"type\":\"node\",\"instanceArgs\":{\"imports\":{\"data\":[{\"name\":\"knockout\",\"type\":\"js\",\"url\":\"\\/assetserver\\/7adbe83fac1553325d6e718d595ab555e1cabbe4-knockout.js\"},{\"name\":\"knockout_punches\",\"type\":\"js\",\"url\":\"\\/assetserver\\/cec8c4de011abc05b545afbaaea4bb4465a1f168-knockout_punches.js\"},{\"name\":null,\"type\":\"js\",\"url\":\"\\/assetserver\\/5ddeec2b33e792dac4326b9b8929eb841863a558-all.js\"},{\"name\":null,\"type\":\"css\",\"url\":\"\\/assetserver\\/a04b7b754438af5b294cd7f1d762c01dae6fade5-style.css\"},{\"name\":null,\"type\":\"css\",\"url\":\"\\/assetserver\\/50b13cf07303023836f4115fe93a8fe3eca4721a-bulma_confined.min.css\"}],\"type\":\"async_block\"},\"id\":\"5722521323612265778\",\"handlers\":{\"changes\":[\"(function (val){return (val!=this.model[\\\"changes\\\"]()) ? (this.valueFromJulia[\\\"changes\\\"]=true, this.model[\\\"changes\\\"](val)) : undefined})\"],\"index\":[\"(function (val){return (val!=this.model[\\\"index\\\"]()) ? (this.valueFromJulia[\\\"index\\\"]=true, this.model[\\\"index\\\"](val)) : undefined})\"]},\"systemjs_options\":null,\"mount_callbacks\":[\"function () {\\n    var handler = (function (ko, koPunches) {\\n    ko.punches.enableAll();\\n    ko.bindingHandlers.numericValue = {\\n        init: function(element, valueAccessor, allBindings, data, context) {\\n            var stringified = ko.observable(ko.unwrap(valueAccessor()));\\n            stringified.subscribe(function(value) {\\n                var val = parseFloat(value);\\n                if (!isNaN(val)) {\\n                    valueAccessor()(val);\\n                }\\n            });\\n            valueAccessor().subscribe(function(value) {\\n                var str = JSON.stringify(value);\\n                if ((str == \\\"0\\\") && ([\\\"-0\\\", \\\"-0.\\\"].indexOf(stringified()) >= 0))\\n                     return;\\n                 if ([\\\"null\\\", \\\"\\\"].indexOf(str) >= 0)\\n                     return;\\n                stringified(str);\\n            });\\n            ko.applyBindingsToNode(\\n                element,\\n                {\\n                    value: stringified,\\n                    valueUpdate: allBindings.get('valueUpdate'),\\n                },\\n                context,\\n            );\\n        }\\n    };\\n    var json_data = {\\\"formatted_vals\\\":[\\\"2020\\\",\\\"2021\\\",\\\"2022\\\"],\\\"changes\\\":WebIO.getval({\\\"name\\\":\\\"changes\\\",\\\"scope\\\":\\\"5722521323612265778\\\",\\\"id\\\":\\\"12401784872387149051\\\",\\\"type\\\":\\\"observable\\\"}),\\\"index\\\":WebIO.getval({\\\"name\\\":\\\"index\\\",\\\"scope\\\":\\\"5722521323612265778\\\",\\\"id\\\":\\\"5179928563461159415\\\",\\\"type\\\":\\\"observable\\\"})};\\n    var self = this;\\n    function AppViewModel() {\\n        for (var key in json_data) {\\n            var el = json_data[key];\\n            this[key] = Array.isArray(el) ? ko.observableArray(el) : ko.observable(el);\\n        }\\n        \\n        [this[\\\"formatted_val\\\"]=ko.computed(    function(){\\n        return this.formatted_vals()[parseInt(this.index())-(1)];\\n    }\\n,this)]\\n        [this[\\\"changes\\\"].subscribe((function (val){!(this.valueFromJulia[\\\"changes\\\"]) ? (WebIO.setval({\\\"name\\\":\\\"changes\\\",\\\"scope\\\":\\\"5722521323612265778\\\",\\\"id\\\":\\\"12401784872387149051\\\",\\\"type\\\":\\\"observable\\\"},val)) : undefined; return this.valueFromJulia[\\\"changes\\\"]=false}),self),this[\\\"index\\\"].subscribe((function (val){!(this.valueFromJulia[\\\"index\\\"]) ? (WebIO.setval({\\\"name\\\":\\\"index\\\",\\\"scope\\\":\\\"5722521323612265778\\\",\\\"id\\\":\\\"5179928563461159415\\\",\\\"type\\\":\\\"observable\\\"},val)) : undefined; return this.valueFromJulia[\\\"index\\\"]=false}),self)]\\n        \\n    }\\n    self.model = new AppViewModel();\\n    self.valueFromJulia = {};\\n    for (var key in json_data) {\\n        self.valueFromJulia[key] = false;\\n    }\\n    ko.applyBindings(self.model, self.dom);\\n}\\n);\\n    (WebIO.importBlock({\\\"data\\\":[{\\\"name\\\":\\\"knockout\\\",\\\"type\\\":\\\"js\\\",\\\"url\\\":\\\"\\/assetserver\\/7adbe83fac1553325d6e718d595ab555e1cabbe4-knockout.js\\\"},{\\\"name\\\":\\\"knockout_punches\\\",\\\"type\\\":\\\"js\\\",\\\"url\\\":\\\"\\/assetserver\\/cec8c4de011abc05b545afbaaea4bb4465a1f168-knockout_punches.js\\\"}],\\\"type\\\":\\\"async_block\\\"})).then((imports) => handler.apply(this, imports));\\n}\\n\"],\"observables\":{\"changes\":{\"sync\":false,\"id\":\"12401784872387149051\",\"value\":0},\"index\":{\"sync\":true,\"id\":\"5179928563461159415\",\"value\":2}}},\"children\":[{\"props\":{\"className\":\"interact-flex-row interact-widget\"},\"nodeType\":\"DOM\",\"type\":\"node\",\"instanceArgs\":{\"namespace\":\"html\",\"tag\":\"div\"},\"children\":[{\"props\":{\"className\":\"interact-flex-row-left\"},\"nodeType\":\"DOM\",\"type\":\"node\",\"instanceArgs\":{\"namespace\":\"html\",\"tag\":\"div\"},\"children\":[{\"props\":{\"className\":\"interact \",\"style\":{\"padding\":\"5px 10px 0px 10px\"}},\"nodeType\":\"DOM\",\"type\":\"node\",\"instanceArgs\":{\"namespace\":\"html\",\"tag\":\"label\"},\"children\":[\"\"]}]},{\"props\":{\"className\":\"interact-flex-row-center\"},\"nodeType\":\"DOM\",\"type\":\"node\",\"instanceArgs\":{\"namespace\":\"html\",\"tag\":\"div\"},\"children\":[{\"props\":{\"max\":3,\"min\":1,\"attributes\":{\"type\":\"range\",\"data-bind\":\"numericValue: index, valueUpdate: 'input', event: {change: function (){this.changes(this.changes()+1)}}\",\"orient\":\"horizontal\"},\"step\":1,\"className\":\"slider slider is-fullwidth\",\"style\":{}},\"nodeType\":\"DOM\",\"type\":\"node\",\"instanceArgs\":{\"namespace\":\"html\",\"tag\":\"input\"},\"children\":[]}]},{\"props\":{\"className\":\"interact-flex-row-right\"},\"nodeType\":\"DOM\",\"type\":\"node\",\"instanceArgs\":{\"namespace\":\"html\",\"tag\":\"div\"},\"children\":[{\"props\":{\"attributes\":{\"data-bind\":\"text: formatted_val\"}},\"nodeType\":\"DOM\",\"type\":\"node\",\"instanceArgs\":{\"namespace\":\"html\",\"tag\":\"p\"},\"children\":[]}]}]}]}]},{\"props\":{\"className\":\"field interact-widget\"},\"nodeType\":\"DOM\",\"type\":\"node\",\"instanceArgs\":{\"namespace\":\"html\",\"tag\":\"div\"},\"children\":[{\"props\":{},\"nodeType\":\"Scope\",\"type\":\"node\",\"instanceArgs\":{\"imports\":{\"data\":[{\"name\":\"knockout\",\"type\":\"js\",\"url\":\"\\/assetserver\\/7adbe83fac1553325d6e718d595ab555e1cabbe4-knockout.js\"},{\"name\":\"knockout_punches\",\"type\":\"js\",\"url\":\"\\/assetserver\\/cec8c4de011abc05b545afbaaea4bb4465a1f168-knockout_punches.js\"},{\"name\":null,\"type\":\"js\",\"url\":\"\\/assetserver\\/5ddeec2b33e792dac4326b9b8929eb841863a558-all.js\"},{\"name\":null,\"type\":\"css\",\"url\":\"\\/assetserver\\/a04b7b754438af5b294cd7f1d762c01dae6fade5-style.css\"},{\"name\":null,\"type\":\"css\",\"url\":\"\\/assetserver\\/50b13cf07303023836f4115fe93a8fe3eca4721a-bulma_confined.min.css\"}],\"type\":\"async_block\"},\"id\":\"1743783497720574001\",\"handlers\":{\"changes\":[\"(function (val){return (val!=this.model[\\\"changes\\\"]()) ? (this.valueFromJulia[\\\"changes\\\"]=true, this.model[\\\"changes\\\"](val)) : undefined})\"],\"index\":[\"(function (val){return (val!=this.model[\\\"index\\\"]()) ? (this.valueFromJulia[\\\"index\\\"]=true, this.model[\\\"index\\\"](val)) : undefined})\"]},\"systemjs_options\":null,\"mount_callbacks\":[\"function () {\\n    var handler = (function (ko, koPunches) {\\n    ko.punches.enableAll();\\n    ko.bindingHandlers.numericValue = {\\n        init: function(element, valueAccessor, allBindings, data, context) {\\n            var stringified = ko.observable(ko.unwrap(valueAccessor()));\\n            stringified.subscribe(function(value) {\\n                var val = parseFloat(value);\\n                if (!isNaN(val)) {\\n                    valueAccessor()(val);\\n                }\\n            });\\n            valueAccessor().subscribe(function(value) {\\n                var str = JSON.stringify(value);\\n                if ((str == \\\"0\\\") && ([\\\"-0\\\", \\\"-0.\\\"].indexOf(stringified()) >= 0))\\n                     return;\\n                 if ([\\\"null\\\", \\\"\\\"].indexOf(str) >= 0)\\n                     return;\\n                stringified(str);\\n            });\\n            ko.applyBindingsToNode(\\n                element,\\n                {\\n                    value: stringified,\\n                    valueUpdate: allBindings.get('valueUpdate'),\\n                },\\n                context,\\n            );\\n        }\\n    };\\n    var json_data = {\\\"formatted_vals\\\":[\\\"1\\\",\\\"2\\\",\\\"3\\\",\\\"4\\\"],\\\"changes\\\":WebIO.getval({\\\"name\\\":\\\"changes\\\",\\\"scope\\\":\\\"1743783497720574001\\\",\\\"id\\\":\\\"7060980730091061168\\\",\\\"type\\\":\\\"observable\\\"}),\\\"index\\\":WebIO.getval({\\\"name\\\":\\\"index\\\",\\\"scope\\\":\\\"1743783497720574001\\\",\\\"id\\\":\\\"17928733378406303326\\\",\\\"type\\\":\\\"observable\\\"})};\\n    var self = this;\\n    function AppViewModel() {\\n        for (var key in json_data) {\\n            var el = json_data[key];\\n            this[key] = Array.isArray(el) ? ko.observableArray(el) : ko.observable(el);\\n        }\\n        \\n        [this[\\\"formatted_val\\\"]=ko.computed(    function(){\\n        return this.formatted_vals()[parseInt(this.index())-(1)];\\n    }\\n,this)]\\n        [this[\\\"changes\\\"].subscribe((function (val){!(this.valueFromJulia[\\\"changes\\\"]) ? (WebIO.setval({\\\"name\\\":\\\"changes\\\",\\\"scope\\\":\\\"1743783497720574001\\\",\\\"id\\\":\\\"7060980730091061168\\\",\\\"type\\\":\\\"observable\\\"},val)) : undefined; return this.valueFromJulia[\\\"changes\\\"]=false}),self),this[\\\"index\\\"].subscribe((function (val){!(this.valueFromJulia[\\\"index\\\"]) ? (WebIO.setval({\\\"name\\\":\\\"index\\\",\\\"scope\\\":\\\"1743783497720574001\\\",\\\"id\\\":\\\"17928733378406303326\\\",\\\"type\\\":\\\"observable\\\"},val)) : undefined; return this.valueFromJulia[\\\"index\\\"]=false}),self)]\\n        \\n    }\\n    self.model = new AppViewModel();\\n    self.valueFromJulia = {};\\n    for (var key in json_data) {\\n        self.valueFromJulia[key] = false;\\n    }\\n    ko.applyBindings(self.model, self.dom);\\n}\\n);\\n    (WebIO.importBlock({\\\"data\\\":[{\\\"name\\\":\\\"knockout\\\",\\\"type\\\":\\\"js\\\",\\\"url\\\":\\\"\\/assetserver\\/7adbe83fac1553325d6e718d595ab555e1cabbe4-knockout.js\\\"},{\\\"name\\\":\\\"knockout_punches\\\",\\\"type\\\":\\\"js\\\",\\\"url\\\":\\\"\\/assetserver\\/cec8c4de011abc05b545afbaaea4bb4465a1f168-knockout_punches.js\\\"}],\\\"type\\\":\\\"async_block\\\"})).then((imports) => handler.apply(this, imports));\\n}\\n\"],\"observables\":{\"changes\":{\"sync\":false,\"id\":\"7060980730091061168\",\"value\":0},\"index\":{\"sync\":true,\"id\":\"17928733378406303326\",\"value\":2}}},\"children\":[{\"props\":{\"className\":\"interact-flex-row interact-widget\"},\"nodeType\":\"DOM\",\"type\":\"node\",\"instanceArgs\":{\"namespace\":\"html\",\"tag\":\"div\"},\"children\":[{\"props\":{\"className\":\"interact-flex-row-left\"},\"nodeType\":\"DOM\",\"type\":\"node\",\"instanceArgs\":{\"namespace\":\"html\",\"tag\":\"div\"},\"children\":[{\"props\":{\"className\":\"interact \",\"style\":{\"padding\":\"5px 10px 0px 10px\"}},\"nodeType\":\"DOM\",\"type\":\"node\",\"instanceArgs\":{\"namespace\":\"html\",\"tag\":\"label\"},\"children\":[\"qtr\"]}]},{\"props\":{\"className\":\"interact-flex-row-center\"},\"nodeType\":\"DOM\",\"type\":\"node\",\"instanceArgs\":{\"namespace\":\"html\",\"tag\":\"div\"},\"children\":[{\"props\":{\"max\":4,\"min\":1,\"attributes\":{\"type\":\"range\",\"data-bind\":\"numericValue: index, valueUpdate: 'input', event: {change: function (){this.changes(this.changes()+1)}}\",\"orient\":\"horizontal\"},\"step\":1,\"className\":\"slider slider is-fullwidth\",\"style\":{}},\"nodeType\":\"DOM\",\"type\":\"node\",\"instanceArgs\":{\"namespace\":\"html\",\"tag\":\"input\"},\"children\":[]}]},{\"props\":{\"className\":\"interact-flex-row-right\"},\"nodeType\":\"DOM\",\"type\":\"node\",\"instanceArgs\":{\"namespace\":\"html\",\"tag\":\"div\"},\"children\":[{\"props\":{\"attributes\":{\"data-bind\":\"text: formatted_val\"}},\"nodeType\":\"DOM\",\"type\":\"node\",\"instanceArgs\":{\"namespace\":\"html\",\"tag\":\"p\"},\"children\":[]}]}]}]}]},{\"props\":{},\"nodeType\":\"Scope\",\"type\":\"node\",\"instanceArgs\":{\"imports\":{\"data\":[],\"type\":\"async_block\"},\"id\":\"5229470113688477281\",\"handlers\":{},\"systemjs_options\":null,\"mount_callbacks\":[],\"observables\":{\"obs-node\":{\"sync\":false,\"id\":\"8661479117068582769\",\"value\":{\"props\":{\"className\":\"interact-flex-row interact-widget\"},\"nodeType\":\"DOM\",\"type\":\"node\",\"instanceArgs\":{\"namespace\":\"html\",\"tag\":\"div\"},\"children\":[{\"props\":{\"setInnerHtml\":\"<div class=\\\"data-frame\\\"><p>420 rows × 7 columns<\\/p><table class=\\\"data-frame\\\"><thead><tr><th><\\/th><th>Org<\\/th><th>FY<\\/th><th>Qtr<\\/th><th>Accounts<\\/th><th>Dept<\\/th><th>Loc<\\/th><th>TOTAL<\\/th><\\/tr><tr><th><\\/th><th title=\\\"String\\\">String<\\/th><th title=\\\"Int64\\\">Int64<\\/th><th title=\\\"Int64\\\">Int64<\\/th><th title=\\\"String\\\">String<\\/th><th title=\\\"String\\\">String<\\/th><th title=\\\"String\\\">String<\\/th><th title=\\\"String\\\">String<\\/th><\\/tr><\\/thead><tbody><tr><th>1<\\/th><td>Region B<\\/td><td>2021<\\/td><td>2<\\/td><td>ASSETS<\\/td><td>BUSINESS<\\/td><td>Chicago<\\/td><td>USD 2927.75 million<\\/td><\\/tr><tr><th>2<\\/th><td>Region B<\\/td><td>2021<\\/td><td>2<\\/td><td>ASSETS<\\/td><td>IT<\\/td><td>Kansas City<\\/td><td>USD 3679.04 million<\\/td><\\/tr><tr><th>3<\\/th><td>Region B<\\/td><td>2021<\\/td><td>2<\\/td><td>LIABILITIES<\\/td><td>HR<\\/td><td>Boston<\\/td><td>USD 3366.97 million<\\/td><\\/tr><tr><th>4<\\/th><td>Region B<\\/td><td>2021<\\/td><td>2<\\/td><td>LIABILITIES<\\/td><td>HR<\\/td><td>Kansas City<\\/td><td>USD 4426.61 million<\\/td><\\/tr><tr><th>5<\\/th><td>Region B<\\/td><td>2021<\\/td><td>2<\\/td><td>ASSETS<\\/td><td>IT<\\/td><td>Boston<\\/td><td>USD 3718.08 million<\\/td><\\/tr><tr><th>6<\\/th><td>Region B<\\/td><td>2021<\\/td><td>2<\\/td><td>NET_WORTH<\\/td><td>BUSINESS<\\/td><td>Richmond<\\/td><td>USD 4920.64 million<\\/td><\\/tr><tr><th>7<\\/th><td>Region B<\\/td><td>2021<\\/td><td>2<\\/td><td>NET_WORTH<\\/td><td>BUSINESS<\\/td><td>Dallas<\\/td><td>USD 4340.47 million<\\/td><\\/tr><tr><th>8<\\/th><td>Region B<\\/td><td>2021<\\/td><td>2<\\/td><td>ASSETS<\\/td><td>HR<\\/td><td>Minneapolis<\\/td><td>USD 4236.49 million<\\/td><\\/tr><tr><th>9<\\/th><td>Region B<\\/td><td>2021<\\/td><td>2<\\/td><td>LIABILITIES<\\/td><td>OTHERS<\\/td><td>Atlanta<\\/td><td>USD 4722.91 million<\\/td><\\/tr><tr><th>10<\\/th><td>Region B<\\/td><td>2021<\\/td><td>2<\\/td><td>STATISTICS<\\/td><td>OTHERS<\\/td><td>Minneapolis<\\/td><td>USD 4006.18 million<\\/td><\\/tr><tr><th>11<\\/th><td>Region B<\\/td><td>2021<\\/td><td>2<\\/td><td>ASSETS<\\/td><td>IT<\\/td><td>New York<\\/td><td>USD 2814.95 million<\\/td><\\/tr><tr><th>12<\\/th><td>Region B<\\/td><td>2021<\\/td><td>2<\\/td><td>NON-OPERATING_EXPENSES<\\/td><td>IT<\\/td><td>San Francisco<\\/td><td>USD 4098.45 million<\\/td><\\/tr><tr><th>13<\\/th><td>Region B<\\/td><td>2021<\\/td><td>2<\\/td><td>REVENUE<\\/td><td>IT<\\/td><td>Kansas City<\\/td><td>USD 4229.35 million<\\/td><\\/tr><tr><th>14<\\/th><td>Region B<\\/td><td>2021<\\/td><td>2<\\/td><td>OPERATING_EXPENSES<\\/td><td>OTHERS<\\/td><td>Philadelphia<\\/td><td>USD 3240.95 million<\\/td><\\/tr><tr><th>15<\\/th><td>Region B<\\/td><td>2021<\\/td><td>2<\\/td><td>ASSETS<\\/td><td>IT<\\/td><td>Minneapolis<\\/td><td>USD 3701.1 million<\\/td><\\/tr><tr><th>16<\\/th><td>Region B<\\/td><td>2021<\\/td><td>2<\\/td><td>REVENUE<\\/td><td>SALES<\\/td><td>Dallas<\\/td><td>USD 4293.15 million<\\/td><\\/tr><tr><th>17<\\/th><td>Region B<\\/td><td>2021<\\/td><td>2<\\/td><td>STATISTICS<\\/td><td>OTHERS<\\/td><td>New York<\\/td><td>USD 3925.28 million<\\/td><\\/tr><tr><th>18<\\/th><td>Region B<\\/td><td>2021<\\/td><td>2<\\/td><td>OPERATING_EXPENSES<\\/td><td>SALES<\\/td><td>Boston<\\/td><td>USD 3734.55 million<\\/td><\\/tr><tr><th>19<\\/th><td>Region B<\\/td><td>2021<\\/td><td>2<\\/td><td>NON-OPERATING_EXPENSES<\\/td><td>IT<\\/td><td>Atlanta<\\/td><td>USD 4193.49 million<\\/td><\\/tr><tr><th>20<\\/th><td>Region B<\\/td><td>2021<\\/td><td>2<\\/td><td>STATISTICS<\\/td><td>BUSINESS<\\/td><td>St. Louis<\\/td><td>USD 4062.65 million<\\/td><\\/tr><tr><th>21<\\/th><td>Region B<\\/td><td>2021<\\/td><td>2<\\/td><td>STATISTICS<\\/td><td>SALES<\\/td><td>Philadelphia<\\/td><td>USD 3704.39 million<\\/td><\\/tr><tr><th>22<\\/th><td>Region B<\\/td><td>2021<\\/td><td>2<\\/td><td>REVENUE<\\/td><td>SALES<\\/td><td>Atlanta<\\/td><td>USD 4514.03 million<\\/td><\\/tr><tr><th>23<\\/th><td>Region B<\\/td><td>2021<\\/td><td>2<\\/td><td>ASSETS<\\/td><td>IT<\\/td><td>St. Louis<\\/td><td>USD 4379.15 million<\\/td><\\/tr><tr><th>24<\\/th><td>Region B<\\/td><td>2021<\\/td><td>2<\\/td><td>REVENUE<\\/td><td>HR<\\/td><td>Kansas City<\\/td><td>USD 3930.82 million<\\/td><\\/tr><tr><th>25<\\/th><td>Region B<\\/td><td>2021<\\/td><td>2<\\/td><td>REVENUE<\\/td><td>HR<\\/td><td>Minneapolis<\\/td><td>USD 3704.31 million<\\/td><\\/tr><tr><th>26<\\/th><td>Region B<\\/td><td>2021<\\/td><td>2<\\/td><td>ASSETS<\\/td><td>OTHERS<\\/td><td>Atlanta<\\/td><td>USD 3886.59 million<\\/td><\\/tr><tr><th>27<\\/th><td>Region B<\\/td><td>2021<\\/td><td>2<\\/td><td>LIABILITIES<\\/td><td>SALES<\\/td><td>Kansas City<\\/td><td>USD 3989.38 million<\\/td><\\/tr><tr><th>28<\\/th><td>Region B<\\/td><td>2021<\\/td><td>2<\\/td><td>LIABILITIES<\\/td><td>BUSINESS<\\/td><td>Chicago<\\/td><td>USD 4094.48 million<\\/td><\\/tr><tr><th>29<\\/th><td>Region B<\\/td><td>2021<\\/td><td>2<\\/td><td>REVENUE<\\/td><td>HR<\\/td><td>Dallas<\\/td><td>USD 4035.68 million<\\/td><\\/tr><tr><th>30<\\/th><td>Region B<\\/td><td>2021<\\/td><td>2<\\/td><td>STATISTICS<\\/td><td>BUSINESS<\\/td><td>Kansas City<\\/td><td>USD 3172.05 million<\\/td><\\/tr><tr><th>31<\\/th><td>Region B<\\/td><td>2021<\\/td><td>2<\\/td><td>NET_WORTH<\\/td><td>IT<\\/td><td>Kansas City<\\/td><td>USD 4517.92 million<\\/td><\\/tr><tr><th>32<\\/th><td>Region B<\\/td><td>2021<\\/td><td>2<\\/td><td>LIABILITIES<\\/td><td>BUSINESS<\\/td><td>Philadelphia<\\/td><td>USD 4014.79 million<\\/td><\\/tr><tr><th>33<\\/th><td>Region B<\\/td><td>2021<\\/td><td>2<\\/td><td>REVENUE<\\/td><td>IT<\\/td><td>Minneapolis<\\/td><td>USD 4380.33 million<\\/td><\\/tr><tr><th>34<\\/th><td>Region B<\\/td><td>2021<\\/td><td>2<\\/td><td>NET_WORTH<\\/td><td>SALES<\\/td><td>St. Louis<\\/td><td>USD 4159.4 million<\\/td><\\/tr><tr><th>35<\\/th><td>Region B<\\/td><td>2021<\\/td><td>2<\\/td><td>NON-OPERATING_EXPENSES<\\/td><td>SALES<\\/td><td>Philadelphia<\\/td><td>USD 3618.04 million<\\/td><\\/tr><tr><th>36<\\/th><td>Region B<\\/td><td>2021<\\/td><td>2<\\/td><td>NET_WORTH<\\/td><td>IT<\\/td><td>New York<\\/td><td>USD 3188.83 million<\\/td><\\/tr><tr><th>37<\\/th><td>Region B<\\/td><td>2021<\\/td><td>2<\\/td><td>NON-OPERATING_EXPENSES<\\/td><td>BUSINESS<\\/td><td>Richmond<\\/td><td>USD 3192.46 million<\\/td><\\/tr><tr><th>38<\\/th><td>Region B<\\/td><td>2021<\\/td><td>2<\\/td><td>OPERATING_EXPENSES<\\/td><td>BUSINESS<\\/td><td>Atlanta<\\/td><td>USD 4143.11 million<\\/td><\\/tr><tr><th>39<\\/th><td>Region B<\\/td><td>2021<\\/td><td>2<\\/td><td>REVENUE<\\/td><td>BUSINESS<\\/td><td>Cleveland<\\/td><td>USD 4254.26 million<\\/td><\\/tr><tr><th>40<\\/th><td>Region B<\\/td><td>2021<\\/td><td>2<\\/td><td>LIABILITIES<\\/td><td>HR<\\/td><td>Dallas<\\/td><td>USD 4102.33 million<\\/td><\\/tr><tr><th>41<\\/th><td>Region B<\\/td><td>2021<\\/td><td>2<\\/td><td>ASSETS<\\/td><td>HR<\\/td><td>Philadelphia<\\/td><td>USD 3531.2 million<\\/td><\\/tr><tr><th>42<\\/th><td>Region B<\\/td><td>2021<\\/td><td>2<\\/td><td>NON-OPERATING_EXPENSES<\\/td><td>BUSINESS<\\/td><td>Chicago<\\/td><td>USD 3963.0 million<\\/td><\\/tr><tr><th>43<\\/th><td>Region B<\\/td><td>2021<\\/td><td>2<\\/td><td>REVENUE<\\/td><td>BUSINESS<\\/td><td>Kansas City<\\/td><td>USD 4124.16 million<\\/td><\\/tr><tr><th>44<\\/th><td>Region B<\\/td><td>2021<\\/td><td>2<\\/td><td>NON-OPERATING_EXPENSES<\\/td><td>SALES<\\/td><td>Dallas<\\/td><td>USD 4416.59 million<\\/td><\\/tr><tr><th>45<\\/th><td>Region B<\\/td><td>2021<\\/td><td>2<\\/td><td>LIABILITIES<\\/td><td>IT<\\/td><td>San Francisco<\\/td><td>USD 4360.83 million<\\/td><\\/tr><tr><th>46<\\/th><td>Region B<\\/td><td>2021<\\/td><td>2<\\/td><td>ASSETS<\\/td><td>HR<\\/td><td>San Francisco<\\/td><td>USD 3434.48 million<\\/td><\\/tr><tr><th>47<\\/th><td>Region B<\\/td><td>2021<\\/td><td>2<\\/td><td>STATISTICS<\\/td><td>BUSINESS<\\/td><td>Chicago<\\/td><td>USD 3537.84 million<\\/td><\\/tr><tr><th>48<\\/th><td>Region B<\\/td><td>2021<\\/td><td>2<\\/td><td>LIABILITIES<\\/td><td>OTHERS<\\/td><td>Richmond<\\/td><td>USD 3276.13 million<\\/td><\\/tr><tr><th>49<\\/th><td>Region B<\\/td><td>2021<\\/td><td>2<\\/td><td>OPERATING_EXPENSES<\\/td><td>BUSINESS<\\/td><td>Cleveland<\\/td><td>USD 3474.11 million<\\/td><\\/tr><tr><th>50<\\/th><td>Region B<\\/td><td>2021<\\/td><td>2<\\/td><td>LIABILITIES<\\/td><td>SALES<\\/td><td>Dallas<\\/td><td>USD 4967.3 million<\\/td><\\/tr><tr><th>51<\\/th><td>Region B<\\/td><td>2021<\\/td><td>2<\\/td><td>NON-OPERATING_EXPENSES<\\/td><td>OTHERS<\\/td><td>Kansas City<\\/td><td>USD 3356.74 million<\\/td><\\/tr><tr><th>52<\\/th><td>Region B<\\/td><td>2021<\\/td><td>2<\\/td><td>LIABILITIES<\\/td><td>OTHERS<\\/td><td>New York<\\/td><td>USD 4319.92 million<\\/td><\\/tr><tr><th>53<\\/th><td>Region B<\\/td><td>2021<\\/td><td>2<\\/td><td>REVENUE<\\/td><td>SALES<\\/td><td>Boston<\\/td><td>USD 3360.4 million<\\/td><\\/tr><tr><th>54<\\/th><td>Region B<\\/td><td>2021<\\/td><td>2<\\/td><td>NON-OPERATING_EXPENSES<\\/td><td>SALES<\\/td><td>Richmond<\\/td><td>USD 3591.01 million<\\/td><\\/tr><tr><th>55<\\/th><td>Region B<\\/td><td>2021<\\/td><td>2<\\/td><td>REVENUE<\\/td><td>HR<\\/td><td>Chicago<\\/td><td>USD 3432.36 million<\\/td><\\/tr><tr><th>56<\\/th><td>Region B<\\/td><td>2021<\\/td><td>2<\\/td><td>ASSETS<\\/td><td>IT<\\/td><td>Richmond<\\/td><td>USD 5079.14 million<\\/td><\\/tr><tr><th>57<\\/th><td>Region B<\\/td><td>2021<\\/td><td>2<\\/td><td>OPERATING_EXPENSES<\\/td><td>IT<\\/td><td>San Francisco<\\/td><td>USD 3240.61 million<\\/td><\\/tr><tr><th>58<\\/th><td>Region B<\\/td><td>2021<\\/td><td>2<\\/td><td>STATISTICS<\\/td><td>BUSINESS<\\/td><td>Boston<\\/td><td>USD 3690.42 million<\\/td><\\/tr><tr><th>59<\\/th><td>Region B<\\/td><td>2021<\\/td><td>2<\\/td><td>OPERATING_EXPENSES<\\/td><td>HR<\\/td><td>Atlanta<\\/td><td>USD 3766.31 million<\\/td><\\/tr><tr><th>60<\\/th><td>Region B<\\/td><td>2021<\\/td><td>2<\\/td><td>NON-OPERATING_EXPENSES<\\/td><td>OTHERS<\\/td><td>Boston<\\/td><td>USD 4688.84 million<\\/td><\\/tr><tr><th>61<\\/th><td>Region B<\\/td><td>2021<\\/td><td>2<\\/td><td>LIABILITIES<\\/td><td>IT<\\/td><td>Kansas City<\\/td><td>USD 4333.98 million<\\/td><\\/tr><tr><th>62<\\/th><td>Region B<\\/td><td>2021<\\/td><td>2<\\/td><td>LIABILITIES<\\/td><td>HR<\\/td><td>Atlanta<\\/td><td>USD 4060.7 million<\\/td><\\/tr><tr><th>63<\\/th><td>Region B<\\/td><td>2021<\\/td><td>2<\\/td><td>NON-OPERATING_EXPENSES<\\/td><td>SALES<\\/td><td>Chicago<\\/td><td>USD 4404.04 million<\\/td><\\/tr><tr><th>64<\\/th><td>Region B<\\/td><td>2021<\\/td><td>2<\\/td><td>LIABILITIES<\\/td><td>SALES<\\/td><td>St. Louis<\\/td><td>USD 3610.67 million<\\/td><\\/tr><tr><th>65<\\/th><td>Region B<\\/td><td>2021<\\/td><td>2<\\/td><td>OPERATING_EXPENSES<\\/td><td>BUSINESS<\\/td><td>Kansas City<\\/td><td>USD 3840.14 million<\\/td><\\/tr><tr><th>66<\\/th><td>Region B<\\/td><td>2021<\\/td><td>2<\\/td><td>OPERATING_EXPENSES<\\/td><td>IT<\\/td><td>Kansas City<\\/td><td>USD 3355.3 million<\\/td><\\/tr><tr><th>67<\\/th><td>Region B<\\/td><td>2021<\\/td><td>2<\\/td><td>OPERATING_EXPENSES<\\/td><td>OTHERS<\\/td><td>St. Louis<\\/td><td>USD 5139.69 million<\\/td><\\/tr><tr><th>68<\\/th><td>Region B<\\/td><td>2021<\\/td><td>2<\\/td><td>LIABILITIES<\\/td><td>BUSINESS<\\/td><td>New York<\\/td><td>USD 3946.96 million<\\/td><\\/tr><tr><th>69<\\/th><td>Region B<\\/td><td>2021<\\/td><td>2<\\/td><td>OPERATING_EXPENSES<\\/td><td>SALES<\\/td><td>Philadelphia<\\/td><td>USD 3656.95 million<\\/td><\\/tr><tr><th>70<\\/th><td>Region B<\\/td><td>2021<\\/td><td>2<\\/td><td>REVENUE<\\/td><td>SALES<\\/td><td>Richmond<\\/td><td>USD 3989.12 million<\\/td><\\/tr><tr><th>71<\\/th><td>Region B<\\/td><td>2021<\\/td><td>2<\\/td><td>NON-OPERATING_EXPENSES<\\/td><td>HR<\\/td><td>Chicago<\\/td><td>USD 3165.89 million<\\/td><\\/tr><tr><th>72<\\/th><td>Region B<\\/td><td>2021<\\/td><td>2<\\/td><td>NET_WORTH<\\/td><td>OTHERS<\\/td><td>Minneapolis<\\/td><td>USD 3946.48 million<\\/td><\\/tr><tr><th>73<\\/th><td>Region B<\\/td><td>2021<\\/td><td>2<\\/td><td>STATISTICS<\\/td><td>BUSINESS<\\/td><td>Dallas<\\/td><td>USD 2846.83 million<\\/td><\\/tr><tr><th>74<\\/th><td>Region B<\\/td><td>2021<\\/td><td>2<\\/td><td>OPERATING_EXPENSES<\\/td><td>OTHERS<\\/td><td>Chicago<\\/td><td>USD 4933.75 million<\\/td><\\/tr><tr><th>75<\\/th><td>Region B<\\/td><td>2021<\\/td><td>2<\\/td><td>REVENUE<\\/td><td>BUSINESS<\\/td><td>Philadelphia<\\/td><td>USD 4336.77 million<\\/td><\\/tr><tr><th>76<\\/th><td>Region B<\\/td><td>2021<\\/td><td>2<\\/td><td>NON-OPERATING_EXPENSES<\\/td><td>HR<\\/td><td>Minneapolis<\\/td><td>USD 3559.91 million<\\/td><\\/tr><tr><th>77<\\/th><td>Region B<\\/td><td>2021<\\/td><td>2<\\/td><td>NET_WORTH<\\/td><td>HR<\\/td><td>Boston<\\/td><td>USD 4441.45 million<\\/td><\\/tr><tr><th>78<\\/th><td>Region B<\\/td><td>2021<\\/td><td>2<\\/td><td>ASSETS<\\/td><td>HR<\\/td><td>Boston<\\/td><td>USD 3936.15 million<\\/td><\\/tr><tr><th>79<\\/th><td>Region B<\\/td><td>2021<\\/td><td>2<\\/td><td>NON-OPERATING_EXPENSES<\\/td><td>OTHERS<\\/td><td>Dallas<\\/td><td>USD 4380.7 million<\\/td><\\/tr><tr><th>80<\\/th><td>Region B<\\/td><td>2021<\\/td><td>2<\\/td><td>NON-OPERATING_EXPENSES<\\/td><td>OTHERS<\\/td><td>Atlanta<\\/td><td>USD 3031.31 million<\\/td><\\/tr><tr><th>81<\\/th><td>Region B<\\/td><td>2021<\\/td><td>2<\\/td><td>NET_WORTH<\\/td><td>SALES<\\/td><td>New York<\\/td><td>USD 4387.21 million<\\/td><\\/tr><tr><th>82<\\/th><td>Region B<\\/td><td>2021<\\/td><td>2<\\/td><td>LIABILITIES<\\/td><td>OTHERS<\\/td><td>Philadelphia<\\/td><td>USD 3716.0 million<\\/td><\\/tr><tr><th>83<\\/th><td>Region B<\\/td><td>2021<\\/td><td>2<\\/td><td>REVENUE<\\/td><td>IT<\\/td><td>San Francisco<\\/td><td>USD 3595.44 million<\\/td><\\/tr><tr><th>84<\\/th><td>Region B<\\/td><td>2021<\\/td><td>2<\\/td><td>LIABILITIES<\\/td><td>IT<\\/td><td>Atlanta<\\/td><td>USD 4550.14 million<\\/td><\\/tr><tr><th>85<\\/th><td>Region B<\\/td><td>2021<\\/td><td>2<\\/td><td>OPERATING_EXPENSES<\\/td><td>SALES<\\/td><td>Kansas City<\\/td><td>USD 3904.91 million<\\/td><\\/tr><tr><th>86<\\/th><td>Region B<\\/td><td>2021<\\/td><td>2<\\/td><td>STATISTICS<\\/td><td>SALES<\\/td><td>Cleveland<\\/td><td>USD 3811.12 million<\\/td><\\/tr><tr><th>87<\\/th><td>Region B<\\/td><td>2021<\\/td><td>2<\\/td><td>ASSETS<\\/td><td>BUSINESS<\\/td><td>San Francisco<\\/td><td>USD 3551.8 million<\\/td><\\/tr><tr><th>88<\\/th><td>Region B<\\/td><td>2021<\\/td><td>2<\\/td><td>LIABILITIES<\\/td><td>BUSINESS<\\/td><td>Cleveland<\\/td><td>USD 4128.36 million<\\/td><\\/tr><tr><th>89<\\/th><td>Region B<\\/td><td>2021<\\/td><td>2<\\/td><td>LIABILITIES<\\/td><td>SALES<\\/td><td>Minneapolis<\\/td><td>USD 3977.95 million<\\/td><\\/tr><tr><th>90<\\/th><td>Region B<\\/td><td>2021<\\/td><td>2<\\/td><td>LIABILITIES<\\/td><td>BUSINESS<\\/td><td>Dallas<\\/td><td>USD 4372.22 million<\\/td><\\/tr><tr><th>91<\\/th><td>Region B<\\/td><td>2021<\\/td><td>2<\\/td><td>NON-OPERATING_EXPENSES<\\/td><td>SALES<\\/td><td>St. Louis<\\/td><td>USD 4446.03 million<\\/td><\\/tr><tr><th>92<\\/th><td>Region B<\\/td><td>2021<\\/td><td>2<\\/td><td>STATISTICS<\\/td><td>OTHERS<\\/td><td>St. Louis<\\/td><td>USD 3688.64 million<\\/td><\\/tr><tr><th>93<\\/th><td>Region B<\\/td><td>2021<\\/td><td>2<\\/td><td>ASSETS<\\/td><td>BUSINESS<\\/td><td>Minneapolis<\\/td><td>USD 3389.76 million<\\/td><\\/tr><tr><th>94<\\/th><td>Region B<\\/td><td>2021<\\/td><td>2<\\/td><td>STATISTICS<\\/td><td>OTHERS<\\/td><td>Chicago<\\/td><td>USD 3580.85 million<\\/td><\\/tr><tr><th>95<\\/th><td>Region B<\\/td><td>2021<\\/td><td>2<\\/td><td>ASSETS<\\/td><td>OTHERS<\\/td><td>Dallas<\\/td><td>USD 3479.14 million<\\/td><\\/tr><tr><th>96<\\/th><td>Region B<\\/td><td>2021<\\/td><td>2<\\/td><td>REVENUE<\\/td><td>IT<\\/td><td>St. Louis<\\/td><td>USD 3169.37 million<\\/td><\\/tr><tr><th>97<\\/th><td>Region B<\\/td><td>2021<\\/td><td>2<\\/td><td>OPERATING_EXPENSES<\\/td><td>OTHERS<\\/td><td>Minneapolis<\\/td><td>USD 3189.43 million<\\/td><\\/tr><tr><th>98<\\/th><td>Region B<\\/td><td>2021<\\/td><td>2<\\/td><td>NON-OPERATING_EXPENSES<\\/td><td>HR<\\/td><td>San Francisco<\\/td><td>USD 4562.48 million<\\/td><\\/tr><tr><th>99<\\/th><td>Region B<\\/td><td>2021<\\/td><td>2<\\/td><td>NON-OPERATING_EXPENSES<\\/td><td>IT<\\/td><td>Cleveland<\\/td><td>USD 3821.77 million<\\/td><\\/tr><tr><th>100<\\/th><td>Region B<\\/td><td>2021<\\/td><td>2<\\/td><td>ASSETS<\\/td><td>SALES<\\/td><td>Chicago<\\/td><td>USD 5198.92 million<\\/td><\\/tr><tr><th>101<\\/th><td>Region B<\\/td><td>2021<\\/td><td>2<\\/td><td>LIABILITIES<\\/td><td>SALES<\\/td><td>Philadelphia<\\/td><td>USD 4950.36 million<\\/td><\\/tr><tr><th>102<\\/th><td>Region B<\\/td><td>2021<\\/td><td>2<\\/td><td>OPERATING_EXPENSES<\\/td><td>BUSINESS<\\/td><td>St. Louis<\\/td><td>USD 3782.8 million<\\/td><\\/tr><tr><th>103<\\/th><td>Region B<\\/td><td>2021<\\/td><td>2<\\/td><td>OPERATING_EXPENSES<\\/td><td>OTHERS<\\/td><td>New York<\\/td><td>USD 3924.49 million<\\/td><\\/tr><tr><th>104<\\/th><td>Region B<\\/td><td>2021<\\/td><td>2<\\/td><td>NON-OPERATING_EXPENSES<\\/td><td>BUSINESS<\\/td><td>Cleveland<\\/td><td>USD 5229.43 million<\\/td><\\/tr><tr><th>105<\\/th><td>Region B<\\/td><td>2021<\\/td><td>2<\\/td><td>NON-OPERATING_EXPENSES<\\/td><td>OTHERS<\\/td><td>Cleveland<\\/td><td>USD 4697.11 million<\\/td><\\/tr><tr><th>106<\\/th><td>Region B<\\/td><td>2021<\\/td><td>2<\\/td><td>LIABILITIES<\\/td><td>SALES<\\/td><td>San Francisco<\\/td><td>USD 2795.71 million<\\/td><\\/tr><tr><th>107<\\/th><td>Region B<\\/td><td>2021<\\/td><td>2<\\/td><td>OPERATING_EXPENSES<\\/td><td>BUSINESS<\\/td><td>Chicago<\\/td><td>USD 3353.08 million<\\/td><\\/tr><tr><th>108<\\/th><td>Region B<\\/td><td>2021<\\/td><td>2<\\/td><td>OPERATING_EXPENSES<\\/td><td>OTHERS<\\/td><td>Dallas<\\/td><td>USD 4196.53 million<\\/td><\\/tr><tr><th>109<\\/th><td>Region B<\\/td><td>2021<\\/td><td>2<\\/td><td>NET_WORTH<\\/td><td>BUSINESS<\\/td><td>Boston<\\/td><td>USD 3265.08 million<\\/td><\\/tr><tr><th>110<\\/th><td>Region B<\\/td><td>2021<\\/td><td>2<\\/td><td>LIABILITIES<\\/td><td>IT<\\/td><td>Minneapolis<\\/td><td>USD 4052.36 million<\\/td><\\/tr><tr><th>111<\\/th><td>Region B<\\/td><td>2021<\\/td><td>2<\\/td><td>REVENUE<\\/td><td>OTHERS<\\/td><td>Minneapolis<\\/td><td>USD 4447.38 million<\\/td><\\/tr><tr><th>112<\\/th><td>Region B<\\/td><td>2021<\\/td><td>2<\\/td><td>STATISTICS<\\/td><td>HR<\\/td><td>Dallas<\\/td><td>USD 4568.95 million<\\/td><\\/tr><tr><th>113<\\/th><td>Region B<\\/td><td>2021<\\/td><td>2<\\/td><td>OPERATING_EXPENSES<\\/td><td>HR<\\/td><td>Kansas City<\\/td><td>USD 3371.96 million<\\/td><\\/tr><tr><th>114<\\/th><td>Region B<\\/td><td>2021<\\/td><td>2<\\/td><td>NON-OPERATING_EXPENSES<\\/td><td>IT<\\/td><td>St. Louis<\\/td><td>USD 4229.76 million<\\/td><\\/tr><tr><th>115<\\/th><td>Region B<\\/td><td>2021<\\/td><td>2<\\/td><td>STATISTICS<\\/td><td>OTHERS<\\/td><td>San Francisco<\\/td><td>USD 4397.53 million<\\/td><\\/tr><tr><th>116<\\/th><td>Region B<\\/td><td>2021<\\/td><td>2<\\/td><td>REVENUE<\\/td><td>IT<\\/td><td>Atlanta<\\/td><td>USD 3115.91 million<\\/td><\\/tr><tr><th>117<\\/th><td>Region B<\\/td><td>2021<\\/td><td>2<\\/td><td>NET_WORTH<\\/td><td>SALES<\\/td><td>Atlanta<\\/td><td>USD 3413.11 million<\\/td><\\/tr><tr><th>118<\\/th><td>Region B<\\/td><td>2021<\\/td><td>2<\\/td><td>NET_WORTH<\\/td><td>IT<\\/td><td>Dallas<\\/td><td>USD 3816.01 million<\\/td><\\/tr><tr><th>119<\\/th><td>Region B<\\/td><td>2021<\\/td><td>2<\\/td><td>NON-OPERATING_EXPENSES<\\/td><td>HR<\\/td><td>Boston<\\/td><td>USD 4194.8 million<\\/td><\\/tr><tr><th>120<\\/th><td>Region B<\\/td><td>2021<\\/td><td>2<\\/td><td>STATISTICS<\\/td><td>SALES<\\/td><td>San Francisco<\\/td><td>USD 4673.52 million<\\/td><\\/tr><tr><th>121<\\/th><td>Region B<\\/td><td>2021<\\/td><td>2<\\/td><td>NON-OPERATING_EXPENSES<\\/td><td>OTHERS<\\/td><td>New York<\\/td><td>USD 4134.68 million<\\/td><\\/tr><tr><th>122<\\/th><td>Region B<\\/td><td>2021<\\/td><td>2<\\/td><td>REVENUE<\\/td><td>BUSINESS<\\/td><td>Dallas<\\/td><td>USD 4967.77 million<\\/td><\\/tr><tr><th>123<\\/th><td>Region B<\\/td><td>2021<\\/td><td>2<\\/td><td>ASSETS<\\/td><td>IT<\\/td><td>Philadelphia<\\/td><td>USD 4418.53 million<\\/td><\\/tr><tr><th>124<\\/th><td>Region B<\\/td><td>2021<\\/td><td>2<\\/td><td>ASSETS<\\/td><td>SALES<\\/td><td>Cleveland<\\/td><td>USD 3870.36 million<\\/td><\\/tr><tr><th>125<\\/th><td>Region B<\\/td><td>2021<\\/td><td>2<\\/td><td>NON-OPERATING_EXPENSES<\\/td><td>OTHERS<\\/td><td>San Francisco<\\/td><td>USD 3652.64 million<\\/td><\\/tr><tr><th>126<\\/th><td>Region B<\\/td><td>2021<\\/td><td>2<\\/td><td>REVENUE<\\/td><td>SALES<\\/td><td>Chicago<\\/td><td>USD 4357.64 million<\\/td><\\/tr><tr><th>127<\\/th><td>Region B<\\/td><td>2021<\\/td><td>2<\\/td><td>NON-OPERATING_EXPENSES<\\/td><td>BUSINESS<\\/td><td>Dallas<\\/td><td>USD 4433.52 million<\\/td><\\/tr><tr><th>128<\\/th><td>Region B<\\/td><td>2021<\\/td><td>2<\\/td><td>NET_WORTH<\\/td><td>BUSINESS<\\/td><td>Cleveland<\\/td><td>USD 4409.45 million<\\/td><\\/tr><tr><th>129<\\/th><td>Region B<\\/td><td>2021<\\/td><td>2<\\/td><td>OPERATING_EXPENSES<\\/td><td>HR<\\/td><td>St. Louis<\\/td><td>USD 2940.35 million<\\/td><\\/tr><tr><th>130<\\/th><td>Region B<\\/td><td>2021<\\/td><td>2<\\/td><td>OPERATING_EXPENSES<\\/td><td>BUSINESS<\\/td><td>Richmond<\\/td><td>USD 3208.9 million<\\/td><\\/tr><tr><th>131<\\/th><td>Region B<\\/td><td>2021<\\/td><td>2<\\/td><td>NET_WORTH<\\/td><td>IT<\\/td><td>Philadelphia<\\/td><td>USD 4453.4 million<\\/td><\\/tr><tr><th>132<\\/th><td>Region B<\\/td><td>2021<\\/td><td>2<\\/td><td>OPERATING_EXPENSES<\\/td><td>HR<\\/td><td>Minneapolis<\\/td><td>USD 4088.17 million<\\/td><\\/tr><tr><th>133<\\/th><td>Region B<\\/td><td>2021<\\/td><td>2<\\/td><td>OPERATING_EXPENSES<\\/td><td>BUSINESS<\\/td><td>Minneapolis<\\/td><td>USD 3509.06 million<\\/td><\\/tr><tr><th>134<\\/th><td>Region B<\\/td><td>2021<\\/td><td>2<\\/td><td>STATISTICS<\\/td><td>HR<\\/td><td>Atlanta<\\/td><td>USD 3599.58 million<\\/td><\\/tr><tr><th>135<\\/th><td>Region B<\\/td><td>2021<\\/td><td>2<\\/td><td>NON-OPERATING_EXPENSES<\\/td><td>OTHERS<\\/td><td>Chicago<\\/td><td>USD 3174.83 million<\\/td><\\/tr><tr><th>136<\\/th><td>Region B<\\/td><td>2021<\\/td><td>2<\\/td><td>ASSETS<\\/td><td>BUSINESS<\\/td><td>Cleveland<\\/td><td>USD 3311.77 million<\\/td><\\/tr><tr><th>137<\\/th><td>Region B<\\/td><td>2021<\\/td><td>2<\\/td><td>OPERATING_EXPENSES<\\/td><td>IT<\\/td><td>St. Louis<\\/td><td>USD 3753.62 million<\\/td><\\/tr><tr><th>138<\\/th><td>Region B<\\/td><td>2021<\\/td><td>2<\\/td><td>NET_WORTH<\\/td><td>HR<\\/td><td>Minneapolis<\\/td><td>USD 4014.41 million<\\/td><\\/tr><tr><th>139<\\/th><td>Region B<\\/td><td>2021<\\/td><td>2<\\/td><td>NET_WORTH<\\/td><td>HR<\\/td><td>New York<\\/td><td>USD 3894.27 million<\\/td><\\/tr><tr><th>140<\\/th><td>Region B<\\/td><td>2021<\\/td><td>2<\\/td><td>STATISTICS<\\/td><td>IT<\\/td><td>Minneapolis<\\/td><td>USD 3748.03 million<\\/td><\\/tr><tr><th>141<\\/th><td>Region B<\\/td><td>2021<\\/td><td>2<\\/td><td>NON-OPERATING_EXPENSES<\\/td><td>HR<\\/td><td>Cleveland<\\/td><td>USD 4906.33 million<\\/td><\\/tr><tr><th>142<\\/th><td>Region B<\\/td><td>2021<\\/td><td>2<\\/td><td>NET_WORTH<\\/td><td>OTHERS<\\/td><td>Chicago<\\/td><td>USD 4884.47 million<\\/td><\\/tr><tr><th>143<\\/th><td>Region B<\\/td><td>2021<\\/td><td>2<\\/td><td>OPERATING_EXPENSES<\\/td><td>HR<\\/td><td>Chicago<\\/td><td>USD 3402.68 million<\\/td><\\/tr><tr><th>144<\\/th><td>Region B<\\/td><td>2021<\\/td><td>2<\\/td><td>REVENUE<\\/td><td>HR<\\/td><td>Boston<\\/td><td>USD 4325.35 million<\\/td><\\/tr><tr><th>145<\\/th><td>Region B<\\/td><td>2021<\\/td><td>2<\\/td><td>NET_WORTH<\\/td><td>HR<\\/td><td>Philadelphia<\\/td><td>USD 4389.43 million<\\/td><\\/tr><tr><th>146<\\/th><td>Region B<\\/td><td>2021<\\/td><td>2<\\/td><td>NET_WORTH<\\/td><td>OTHERS<\\/td><td>San Francisco<\\/td><td>USD 4509.67 million<\\/td><\\/tr><tr><th>147<\\/th><td>Region B<\\/td><td>2021<\\/td><td>2<\\/td><td>REVENUE<\\/td><td>SALES<\\/td><td>Cleveland<\\/td><td>USD 4025.75 million<\\/td><\\/tr><tr><th>148<\\/th><td>Region B<\\/td><td>2021<\\/td><td>2<\\/td><td>NET_WORTH<\\/td><td>SALES<\\/td><td>Kansas City<\\/td><td>USD 3843.43 million<\\/td><\\/tr><tr><th>149<\\/th><td>Region B<\\/td><td>2021<\\/td><td>2<\\/td><td>OPERATING_EXPENSES<\\/td><td>OTHERS<\\/td><td>Kansas City<\\/td><td>USD 5084.04 million<\\/td><\\/tr><tr><th>150<\\/th><td>Region B<\\/td><td>2021<\\/td><td>2<\\/td><td>NET_WORTH<\\/td><td>BUSINESS<\\/td><td>Chicago<\\/td><td>USD 4303.44 million<\\/td><\\/tr><tr><th>151<\\/th><td>Region B<\\/td><td>2021<\\/td><td>2<\\/td><td>NON-OPERATING_EXPENSES<\\/td><td>SALES<\\/td><td>Boston<\\/td><td>USD 3873.67 million<\\/td><\\/tr><tr><th>152<\\/th><td>Region B<\\/td><td>2021<\\/td><td>2<\\/td><td>STATISTICS<\\/td><td>IT<\\/td><td>Kansas City<\\/td><td>USD 3725.74 million<\\/td><\\/tr><tr><th>153<\\/th><td>Region B<\\/td><td>2021<\\/td><td>2<\\/td><td>ASSETS<\\/td><td>SALES<\\/td><td>Kansas City<\\/td><td>USD 3904.23 million<\\/td><\\/tr><tr><th>154<\\/th><td>Region B<\\/td><td>2021<\\/td><td>2<\\/td><td>REVENUE<\\/td><td>BUSINESS<\\/td><td>St. Louis<\\/td><td>USD 4021.63 million<\\/td><\\/tr><tr><th>155<\\/th><td>Region B<\\/td><td>2021<\\/td><td>2<\\/td><td>OPERATING_EXPENSES<\\/td><td>HR<\\/td><td>Philadelphia<\\/td><td>USD 4052.49 million<\\/td><\\/tr><tr><th>156<\\/th><td>Region B<\\/td><td>2021<\\/td><td>2<\\/td><td>NON-OPERATING_EXPENSES<\\/td><td>BUSINESS<\\/td><td>St. Louis<\\/td><td>USD 4156.68 million<\\/td><\\/tr><tr><th>157<\\/th><td>Region B<\\/td><td>2021<\\/td><td>2<\\/td><td>NON-OPERATING_EXPENSES<\\/td><td>BUSINESS<\\/td><td>Boston<\\/td><td>USD 2852.89 million<\\/td><\\/tr><tr><th>158<\\/th><td>Region B<\\/td><td>2021<\\/td><td>2<\\/td><td>ASSETS<\\/td><td>SALES<\\/td><td>Richmond<\\/td><td>USD 3532.09 million<\\/td><\\/tr><tr><th>159<\\/th><td>Region B<\\/td><td>2021<\\/td><td>2<\\/td><td>REVENUE<\\/td><td>IT<\\/td><td>Philadelphia<\\/td><td>USD 3778.69 million<\\/td><\\/tr><tr><th>160<\\/th><td>Region B<\\/td><td>2021<\\/td><td>2<\\/td><td>ASSETS<\\/td><td>OTHERS<\\/td><td>Kansas City<\\/td><td>USD 4350.03 million<\\/td><\\/tr><tr><th>161<\\/th><td>Region B<\\/td><td>2021<\\/td><td>2<\\/td><td>NET_WORTH<\\/td><td>IT<\\/td><td>St. Louis<\\/td><td>USD 3808.57 million<\\/td><\\/tr><tr><th>162<\\/th><td>Region B<\\/td><td>2021<\\/td><td>2<\\/td><td>OPERATING_EXPENSES<\\/td><td>IT<\\/td><td>Boston<\\/td><td>USD 4182.93 million<\\/td><\\/tr><tr><th>163<\\/th><td>Region B<\\/td><td>2021<\\/td><td>2<\\/td><td>STATISTICS<\\/td><td>IT<\\/td><td>Boston<\\/td><td>USD 3667.47 million<\\/td><\\/tr><tr><th>164<\\/th><td>Region B<\\/td><td>2021<\\/td><td>2<\\/td><td>ASSETS<\\/td><td>BUSINESS<\\/td><td>New York<\\/td><td>USD 3660.31 million<\\/td><\\/tr><tr><th>165<\\/th><td>Region B<\\/td><td>2021<\\/td><td>2<\\/td><td>STATISTICS<\\/td><td>IT<\\/td><td>Cleveland<\\/td><td>USD 4314.03 million<\\/td><\\/tr><tr><th>166<\\/th><td>Region B<\\/td><td>2021<\\/td><td>2<\\/td><td>NET_WORTH<\\/td><td>IT<\\/td><td>Chicago<\\/td><td>USD 3828.41 million<\\/td><\\/tr><tr><th>167<\\/th><td>Region B<\\/td><td>2021<\\/td><td>2<\\/td><td>STATISTICS<\\/td><td>IT<\\/td><td>Richmond<\\/td><td>USD 4502.21 million<\\/td><\\/tr><tr><th>168<\\/th><td>Region B<\\/td><td>2021<\\/td><td>2<\\/td><td>STATISTICS<\\/td><td>HR<\\/td><td>Kansas City<\\/td><td>USD 3313.57 million<\\/td><\\/tr><tr><th>169<\\/th><td>Region B<\\/td><td>2021<\\/td><td>2<\\/td><td>NON-OPERATING_EXPENSES<\\/td><td>IT<\\/td><td>Dallas<\\/td><td>USD 3785.25 million<\\/td><\\/tr><tr><th>170<\\/th><td>Region B<\\/td><td>2021<\\/td><td>2<\\/td><td>NON-OPERATING_EXPENSES<\\/td><td>BUSINESS<\\/td><td>Philadelphia<\\/td><td>USD 3786.29 million<\\/td><\\/tr><tr><th>171<\\/th><td>Region B<\\/td><td>2021<\\/td><td>2<\\/td><td>LIABILITIES<\\/td><td>HR<\\/td><td>Cleveland<\\/td><td>USD 4264.54 million<\\/td><\\/tr><tr><th>172<\\/th><td>Region B<\\/td><td>2021<\\/td><td>2<\\/td><td>LIABILITIES<\\/td><td>IT<\\/td><td>Dallas<\\/td><td>USD 3955.2 million<\\/td><\\/tr><tr><th>173<\\/th><td>Region B<\\/td><td>2021<\\/td><td>2<\\/td><td>ASSETS<\\/td><td>BUSINESS<\\/td><td>Dallas<\\/td><td>USD 3490.1 million<\\/td><\\/tr><tr><th>174<\\/th><td>Region B<\\/td><td>2021<\\/td><td>2<\\/td><td>NON-OPERATING_EXPENSES<\\/td><td>SALES<\\/td><td>Kansas City<\\/td><td>USD 4299.75 million<\\/td><\\/tr><tr><th>175<\\/th><td>Region B<\\/td><td>2021<\\/td><td>2<\\/td><td>LIABILITIES<\\/td><td>SALES<\\/td><td>Chicago<\\/td><td>USD 3707.97 million<\\/td><\\/tr><tr><th>176<\\/th><td>Region B<\\/td><td>2021<\\/td><td>2<\\/td><td>NET_WORTH<\\/td><td>IT<\\/td><td>Minneapolis<\\/td><td>USD 4193.11 million<\\/td><\\/tr><tr><th>177<\\/th><td>Region B<\\/td><td>2021<\\/td><td>2<\\/td><td>REVENUE<\\/td><td>OTHERS<\\/td><td>Richmond<\\/td><td>USD 3603.43 million<\\/td><\\/tr><tr><th>178<\\/th><td>Region B<\\/td><td>2021<\\/td><td>2<\\/td><td>NET_WORTH<\\/td><td>HR<\\/td><td>St. Louis<\\/td><td>USD 3695.22 million<\\/td><\\/tr><tr><th>179<\\/th><td>Region B<\\/td><td>2021<\\/td><td>2<\\/td><td>STATISTICS<\\/td><td>SALES<\\/td><td>New York<\\/td><td>USD 4399.99 million<\\/td><\\/tr><tr><th>180<\\/th><td>Region B<\\/td><td>2021<\\/td><td>2<\\/td><td>REVENUE<\\/td><td>OTHERS<\\/td><td>St. Louis<\\/td><td>USD 4403.11 million<\\/td><\\/tr><tr><th>181<\\/th><td>Region B<\\/td><td>2021<\\/td><td>2<\\/td><td>LIABILITIES<\\/td><td>BUSINESS<\\/td><td>Kansas City<\\/td><td>USD 4180.52 million<\\/td><\\/tr><tr><th>182<\\/th><td>Region B<\\/td><td>2021<\\/td><td>2<\\/td><td>NON-OPERATING_EXPENSES<\\/td><td>IT<\\/td><td>Richmond<\\/td><td>USD 3872.1 million<\\/td><\\/tr><tr><th>183<\\/th><td>Region B<\\/td><td>2021<\\/td><td>2<\\/td><td>ASSETS<\\/td><td>OTHERS<\\/td><td>Philadelphia<\\/td><td>USD 4340.48 million<\\/td><\\/tr><tr><th>184<\\/th><td>Region B<\\/td><td>2021<\\/td><td>2<\\/td><td>STATISTICS<\\/td><td>BUSINESS<\\/td><td>New York<\\/td><td>USD 4746.51 million<\\/td><\\/tr><tr><th>185<\\/th><td>Region B<\\/td><td>2021<\\/td><td>2<\\/td><td>NET_WORTH<\\/td><td>OTHERS<\\/td><td>Richmond<\\/td><td>USD 3637.72 million<\\/td><\\/tr><tr><th>186<\\/th><td>Region B<\\/td><td>2021<\\/td><td>2<\\/td><td>NON-OPERATING_EXPENSES<\\/td><td>SALES<\\/td><td>Atlanta<\\/td><td>USD 4327.87 million<\\/td><\\/tr><tr><th>187<\\/th><td>Region B<\\/td><td>2021<\\/td><td>2<\\/td><td>NET_WORTH<\\/td><td>BUSINESS<\\/td><td>Atlanta<\\/td><td>USD 3819.95 million<\\/td><\\/tr><tr><th>188<\\/th><td>Region B<\\/td><td>2021<\\/td><td>2<\\/td><td>NON-OPERATING_EXPENSES<\\/td><td>IT<\\/td><td>Boston<\\/td><td>USD 4085.18 million<\\/td><\\/tr><tr><th>189<\\/th><td>Region B<\\/td><td>2021<\\/td><td>2<\\/td><td>LIABILITIES<\\/td><td>IT<\\/td><td>St. Louis<\\/td><td>USD 4330.74 million<\\/td><\\/tr><tr><th>190<\\/th><td>Region B<\\/td><td>2021<\\/td><td>2<\\/td><td>LIABILITIES<\\/td><td>HR<\\/td><td>Chicago<\\/td><td>USD 4462.25 million<\\/td><\\/tr><tr><th>191<\\/th><td>Region B<\\/td><td>2021<\\/td><td>2<\\/td><td>LIABILITIES<\\/td><td>IT<\\/td><td>Richmond<\\/td><td>USD 3847.22 million<\\/td><\\/tr><tr><th>192<\\/th><td>Region B<\\/td><td>2021<\\/td><td>2<\\/td><td>ASSETS<\\/td><td>IT<\\/td><td>Chicago<\\/td><td>USD 4822.65 million<\\/td><\\/tr><tr><th>193<\\/th><td>Region B<\\/td><td>2021<\\/td><td>2<\\/td><td>STATISTICS<\\/td><td>BUSINESS<\\/td><td>Cleveland<\\/td><td>USD 3548.43 million<\\/td><\\/tr><tr><th>194<\\/th><td>Region B<\\/td><td>2021<\\/td><td>2<\\/td><td>NET_WORTH<\\/td><td>HR<\\/td><td>San Francisco<\\/td><td>USD 3416.2 million<\\/td><\\/tr><tr><th>195<\\/th><td>Region B<\\/td><td>2021<\\/td><td>2<\\/td><td>REVENUE<\\/td><td>HR<\\/td><td>San Francisco<\\/td><td>USD 4190.61 million<\\/td><\\/tr><tr><th>196<\\/th><td>Region B<\\/td><td>2021<\\/td><td>2<\\/td><td>REVENUE<\\/td><td>HR<\\/td><td>St. Louis<\\/td><td>USD 3361.44 million<\\/td><\\/tr><tr><th>197<\\/th><td>Region B<\\/td><td>2021<\\/td><td>2<\\/td><td>LIABILITIES<\\/td><td>OTHERS<\\/td><td>Chicago<\\/td><td>USD 3493.54 million<\\/td><\\/tr><tr><th>198<\\/th><td>Region B<\\/td><td>2021<\\/td><td>2<\\/td><td>NET_WORTH<\\/td><td>OTHERS<\\/td><td>Philadelphia<\\/td><td>USD 4183.27 million<\\/td><\\/tr><tr><th>199<\\/th><td>Region B<\\/td><td>2021<\\/td><td>2<\\/td><td>STATISTICS<\\/td><td>IT<\\/td><td>Philadelphia<\\/td><td>USD 3653.57 million<\\/td><\\/tr><tr><th>200<\\/th><td>Region B<\\/td><td>2021<\\/td><td>2<\\/td><td>LIABILITIES<\\/td><td>IT<\\/td><td>Chicago<\\/td><td>USD 3485.87 million<\\/td><\\/tr><tr><th>201<\\/th><td>Region B<\\/td><td>2021<\\/td><td>2<\\/td><td>LIABILITIES<\\/td><td>HR<\\/td><td>Philadelphia<\\/td><td>USD 3707.13 million<\\/td><\\/tr><tr><th>202<\\/th><td>Region B<\\/td><td>2021<\\/td><td>2<\\/td><td>NON-OPERATING_EXPENSES<\\/td><td>OTHERS<\\/td><td>Philadelphia<\\/td><td>USD 3549.56 million<\\/td><\\/tr><tr><th>203<\\/th><td>Region B<\\/td><td>2021<\\/td><td>2<\\/td><td>REVENUE<\\/td><td>OTHERS<\\/td><td>Kansas City<\\/td><td>USD 3214.86 million<\\/td><\\/tr><tr><th>204<\\/th><td>Region B<\\/td><td>2021<\\/td><td>2<\\/td><td>ASSETS<\\/td><td>SALES<\\/td><td>Boston<\\/td><td>USD 3922.61 million<\\/td><\\/tr><tr><th>205<\\/th><td>Region B<\\/td><td>2021<\\/td><td>2<\\/td><td>OPERATING_EXPENSES<\\/td><td>OTHERS<\\/td><td>Richmond<\\/td><td>USD 4196.52 million<\\/td><\\/tr><tr><th>206<\\/th><td>Region B<\\/td><td>2021<\\/td><td>2<\\/td><td>REVENUE<\\/td><td>OTHERS<\\/td><td>San Francisco<\\/td><td>USD 3555.88 million<\\/td><\\/tr><tr><th>207<\\/th><td>Region B<\\/td><td>2021<\\/td><td>2<\\/td><td>NET_WORTH<\\/td><td>OTHERS<\\/td><td>Boston<\\/td><td>USD 4289.68 million<\\/td><\\/tr><tr><th>208<\\/th><td>Region B<\\/td><td>2021<\\/td><td>2<\\/td><td>REVENUE<\\/td><td>HR<\\/td><td>New York<\\/td><td>USD 4009.5 million<\\/td><\\/tr><tr><th>209<\\/th><td>Region B<\\/td><td>2021<\\/td><td>2<\\/td><td>LIABILITIES<\\/td><td>HR<\\/td><td>St. Louis<\\/td><td>USD 3378.73 million<\\/td><\\/tr><tr><th>210<\\/th><td>Region B<\\/td><td>2021<\\/td><td>2<\\/td><td>OPERATING_EXPENSES<\\/td><td>SALES<\\/td><td>San Francisco<\\/td><td>USD 3952.66 million<\\/td><\\/tr><tr><th>211<\\/th><td>Region B<\\/td><td>2021<\\/td><td>2<\\/td><td>LIABILITIES<\\/td><td>IT<\\/td><td>Philadelphia<\\/td><td>USD 4527.18 million<\\/td><\\/tr><tr><th>212<\\/th><td>Region B<\\/td><td>2021<\\/td><td>2<\\/td><td>REVENUE<\\/td><td>BUSINESS<\\/td><td>Minneapolis<\\/td><td>USD 4334.13 million<\\/td><\\/tr><tr><th>213<\\/th><td>Region B<\\/td><td>2021<\\/td><td>2<\\/td><td>NON-OPERATING_EXPENSES<\\/td><td>IT<\\/td><td>Minneapolis<\\/td><td>USD 4103.66 million<\\/td><\\/tr><tr><th>214<\\/th><td>Region B<\\/td><td>2021<\\/td><td>2<\\/td><td>LIABILITIES<\\/td><td>HR<\\/td><td>Richmond<\\/td><td>USD 3778.13 million<\\/td><\\/tr><tr><th>215<\\/th><td>Region B<\\/td><td>2021<\\/td><td>2<\\/td><td>OPERATING_EXPENSES<\\/td><td>BUSINESS<\\/td><td>Philadelphia<\\/td><td>USD 3931.35 million<\\/td><\\/tr><tr><th>216<\\/th><td>Region B<\\/td><td>2021<\\/td><td>2<\\/td><td>STATISTICS<\\/td><td>HR<\\/td><td>Minneapolis<\\/td><td>USD 4311.11 million<\\/td><\\/tr><tr><th>217<\\/th><td>Region B<\\/td><td>2021<\\/td><td>2<\\/td><td>STATISTICS<\\/td><td>HR<\\/td><td>Philadelphia<\\/td><td>USD 3391.45 million<\\/td><\\/tr><tr><th>218<\\/th><td>Region B<\\/td><td>2021<\\/td><td>2<\\/td><td>STATISTICS<\\/td><td>IT<\\/td><td>Atlanta<\\/td><td>USD 4583.94 million<\\/td><\\/tr><tr><th>219<\\/th><td>Region B<\\/td><td>2021<\\/td><td>2<\\/td><td>NON-OPERATING_EXPENSES<\\/td><td>HR<\\/td><td>Dallas<\\/td><td>USD 3940.19 million<\\/td><\\/tr><tr><th>220<\\/th><td>Region B<\\/td><td>2021<\\/td><td>2<\\/td><td>ASSETS<\\/td><td>HR<\\/td><td>Cleveland<\\/td><td>USD 3856.62 million<\\/td><\\/tr><tr><th>221<\\/th><td>Region B<\\/td><td>2021<\\/td><td>2<\\/td><td>ASSETS<\\/td><td>HR<\\/td><td>Chicago<\\/td><td>USD 4201.79 million<\\/td><\\/tr><tr><th>222<\\/th><td>Region B<\\/td><td>2021<\\/td><td>2<\\/td><td>NON-OPERATING_EXPENSES<\\/td><td>BUSINESS<\\/td><td>San Francisco<\\/td><td>USD 3968.44 million<\\/td><\\/tr><tr><th>223<\\/th><td>Region B<\\/td><td>2021<\\/td><td>2<\\/td><td>NON-OPERATING_EXPENSES<\\/td><td>SALES<\\/td><td>New York<\\/td><td>USD 3646.47 million<\\/td><\\/tr><tr><th>224<\\/th><td>Region B<\\/td><td>2021<\\/td><td>2<\\/td><td>NON-OPERATING_EXPENSES<\\/td><td>HR<\\/td><td>Philadelphia<\\/td><td>USD 4291.44 million<\\/td><\\/tr><tr><th>225<\\/th><td>Region B<\\/td><td>2021<\\/td><td>2<\\/td><td>STATISTICS<\\/td><td>OTHERS<\\/td><td>Atlanta<\\/td><td>USD 3853.49 million<\\/td><\\/tr><tr><th>226<\\/th><td>Region B<\\/td><td>2021<\\/td><td>2<\\/td><td>NET_WORTH<\\/td><td>IT<\\/td><td>San Francisco<\\/td><td>USD 4081.03 million<\\/td><\\/tr><tr><th>227<\\/th><td>Region B<\\/td><td>2021<\\/td><td>2<\\/td><td>LIABILITIES<\\/td><td>BUSINESS<\\/td><td>Minneapolis<\\/td><td>USD 4606.12 million<\\/td><\\/tr><tr><th>228<\\/th><td>Region B<\\/td><td>2021<\\/td><td>2<\\/td><td>STATISTICS<\\/td><td>BUSINESS<\\/td><td>Atlanta<\\/td><td>USD 3942.55 million<\\/td><\\/tr><tr><th>229<\\/th><td>Region B<\\/td><td>2021<\\/td><td>2<\\/td><td>NET_WORTH<\\/td><td>SALES<\\/td><td>Dallas<\\/td><td>USD 4755.48 million<\\/td><\\/tr><tr><th>230<\\/th><td>Region B<\\/td><td>2021<\\/td><td>2<\\/td><td>STATISTICS<\\/td><td>SALES<\\/td><td>Dallas<\\/td><td>USD 3441.78 million<\\/td><\\/tr><tr><th>231<\\/th><td>Region B<\\/td><td>2021<\\/td><td>2<\\/td><td>LIABILITIES<\\/td><td>OTHERS<\\/td><td>Boston<\\/td><td>USD 4478.02 million<\\/td><\\/tr><tr><th>232<\\/th><td>Region B<\\/td><td>2021<\\/td><td>2<\\/td><td>LIABILITIES<\\/td><td>BUSINESS<\\/td><td>San Francisco<\\/td><td>USD 3061.28 million<\\/td><\\/tr><tr><th>233<\\/th><td>Region B<\\/td><td>2021<\\/td><td>2<\\/td><td>OPERATING_EXPENSES<\\/td><td>BUSINESS<\\/td><td>Boston<\\/td><td>USD 3640.12 million<\\/td><\\/tr><tr><th>234<\\/th><td>Region B<\\/td><td>2021<\\/td><td>2<\\/td><td>LIABILITIES<\\/td><td>BUSINESS<\\/td><td>Richmond<\\/td><td>USD 4323.81 million<\\/td><\\/tr><tr><th>235<\\/th><td>Region B<\\/td><td>2021<\\/td><td>2<\\/td><td>NET_WORTH<\\/td><td>HR<\\/td><td>Cleveland<\\/td><td>USD 3443.24 million<\\/td><\\/tr><tr><th>236<\\/th><td>Region B<\\/td><td>2021<\\/td><td>2<\\/td><td>ASSETS<\\/td><td>OTHERS<\\/td><td>Minneapolis<\\/td><td>USD 3868.44 million<\\/td><\\/tr><tr><th>237<\\/th><td>Region B<\\/td><td>2021<\\/td><td>2<\\/td><td>STATISTICS<\\/td><td>HR<\\/td><td>Chicago<\\/td><td>USD 4186.45 million<\\/td><\\/tr><tr><th>238<\\/th><td>Region B<\\/td><td>2021<\\/td><td>2<\\/td><td>NON-OPERATING_EXPENSES<\\/td><td>OTHERS<\\/td><td>Richmond<\\/td><td>USD 4087.34 million<\\/td><\\/tr><tr><th>239<\\/th><td>Region B<\\/td><td>2021<\\/td><td>2<\\/td><td>NET_WORTH<\\/td><td>SALES<\\/td><td>San Francisco<\\/td><td>USD 3124.19 million<\\/td><\\/tr><tr><th>240<\\/th><td>Region B<\\/td><td>2021<\\/td><td>2<\\/td><td>ASSETS<\\/td><td>OTHERS<\\/td><td>St. Louis<\\/td><td>USD 3942.33 million<\\/td><\\/tr><tr><th>241<\\/th><td>Region B<\\/td><td>2021<\\/td><td>2<\\/td><td>ASSETS<\\/td><td>SALES<\\/td><td>Dallas<\\/td><td>USD 3754.68 million<\\/td><\\/tr><tr><th>242<\\/th><td>Region B<\\/td><td>2021<\\/td><td>2<\\/td><td>ASSETS<\\/td><td>SALES<\\/td><td>Minneapolis<\\/td><td>USD 2638.33 million<\\/td><\\/tr><tr><th>243<\\/th><td>Region B<\\/td><td>2021<\\/td><td>2<\\/td><td>NON-OPERATING_EXPENSES<\\/td><td>BUSINESS<\\/td><td>New York<\\/td><td>USD 3435.19 million<\\/td><\\/tr><tr><th>244<\\/th><td>Region B<\\/td><td>2021<\\/td><td>2<\\/td><td>ASSETS<\\/td><td>OTHERS<\\/td><td>Cleveland<\\/td><td>USD 4146.61 million<\\/td><\\/tr><tr><th>245<\\/th><td>Region B<\\/td><td>2021<\\/td><td>2<\\/td><td>ASSETS<\\/td><td>OTHERS<\\/td><td>Chicago<\\/td><td>USD 3917.89 million<\\/td><\\/tr><tr><th>246<\\/th><td>Region B<\\/td><td>2021<\\/td><td>2<\\/td><td>NET_WORTH<\\/td><td>IT<\\/td><td>Atlanta<\\/td><td>USD 3295.98 million<\\/td><\\/tr><tr><th>247<\\/th><td>Region B<\\/td><td>2021<\\/td><td>2<\\/td><td>REVENUE<\\/td><td>IT<\\/td><td>Dallas<\\/td><td>USD 3887.11 million<\\/td><\\/tr><tr><th>248<\\/th><td>Region B<\\/td><td>2021<\\/td><td>2<\\/td><td>REVENUE<\\/td><td>HR<\\/td><td>Atlanta<\\/td><td>USD 3989.15 million<\\/td><\\/tr><tr><th>249<\\/th><td>Region B<\\/td><td>2021<\\/td><td>2<\\/td><td>STATISTICS<\\/td><td>OTHERS<\\/td><td>Richmond<\\/td><td>USD 3601.22 million<\\/td><\\/tr><tr><th>250<\\/th><td>Region B<\\/td><td>2021<\\/td><td>2<\\/td><td>STATISTICS<\\/td><td>OTHERS<\\/td><td>Kansas City<\\/td><td>USD 3634.45 million<\\/td><\\/tr><tr><th>251<\\/th><td>Region B<\\/td><td>2021<\\/td><td>2<\\/td><td>STATISTICS<\\/td><td>IT<\\/td><td>San Francisco<\\/td><td>USD 3443.8 million<\\/td><\\/tr><tr><th>252<\\/th><td>Region B<\\/td><td>2021<\\/td><td>2<\\/td><td>OPERATING_EXPENSES<\\/td><td>OTHERS<\\/td><td>Cleveland<\\/td><td>USD 3904.54 million<\\/td><\\/tr><tr><th>253<\\/th><td>Region B<\\/td><td>2021<\\/td><td>2<\\/td><td>REVENUE<\\/td><td>HR<\\/td><td>Cleveland<\\/td><td>USD 3983.46 million<\\/td><\\/tr><tr><th>254<\\/th><td>Region B<\\/td><td>2021<\\/td><td>2<\\/td><td>NET_WORTH<\\/td><td>SALES<\\/td><td>Chicago<\\/td><td>USD 4376.57 million<\\/td><\\/tr><tr><th>255<\\/th><td>Region B<\\/td><td>2021<\\/td><td>2<\\/td><td>ASSETS<\\/td><td>OTHERS<\\/td><td>Boston<\\/td><td>USD 3927.45 million<\\/td><\\/tr><tr><th>256<\\/th><td>Region B<\\/td><td>2021<\\/td><td>2<\\/td><td>REVENUE<\\/td><td>OTHERS<\\/td><td>New York<\\/td><td>USD 3263.27 million<\\/td><\\/tr><tr><th>257<\\/th><td>Region B<\\/td><td>2021<\\/td><td>2<\\/td><td>STATISTICS<\\/td><td>HR<\\/td><td>St. Louis<\\/td><td>USD 4538.98 million<\\/td><\\/tr><tr><th>258<\\/th><td>Region B<\\/td><td>2021<\\/td><td>2<\\/td><td>NET_WORTH<\\/td><td>BUSINESS<\\/td><td>Philadelphia<\\/td><td>USD 3411.73 million<\\/td><\\/tr><tr><th>259<\\/th><td>Region B<\\/td><td>2021<\\/td><td>2<\\/td><td>LIABILITIES<\\/td><td>SALES<\\/td><td>Boston<\\/td><td>USD 3520.68 million<\\/td><\\/tr><tr><th>260<\\/th><td>Region B<\\/td><td>2021<\\/td><td>2<\\/td><td>REVENUE<\\/td><td>SALES<\\/td><td>New York<\\/td><td>USD 4735.84 million<\\/td><\\/tr><tr><th>261<\\/th><td>Region B<\\/td><td>2021<\\/td><td>2<\\/td><td>LIABILITIES<\\/td><td>BUSINESS<\\/td><td>St. Louis<\\/td><td>USD 3669.81 million<\\/td><\\/tr><tr><th>262<\\/th><td>Region B<\\/td><td>2021<\\/td><td>2<\\/td><td>STATISTICS<\\/td><td>OTHERS<\\/td><td>Cleveland<\\/td><td>USD 3961.69 million<\\/td><\\/tr><tr><th>263<\\/th><td>Region B<\\/td><td>2021<\\/td><td>2<\\/td><td>NON-OPERATING_EXPENSES<\\/td><td>OTHERS<\\/td><td>Minneapolis<\\/td><td>USD 3202.41 million<\\/td><\\/tr><tr><th>264<\\/th><td>Region B<\\/td><td>2021<\\/td><td>2<\\/td><td>NET_WORTH<\\/td><td>SALES<\\/td><td>Minneapolis<\\/td><td>USD 4296.49 million<\\/td><\\/tr><tr><th>265<\\/th><td>Region B<\\/td><td>2021<\\/td><td>2<\\/td><td>NON-OPERATING_EXPENSES<\\/td><td>IT<\\/td><td>Philadelphia<\\/td><td>USD 4750.94 million<\\/td><\\/tr><tr><th>266<\\/th><td>Region B<\\/td><td>2021<\\/td><td>2<\\/td><td>ASSETS<\\/td><td>BUSINESS<\\/td><td>Richmond<\\/td><td>USD 3916.94 million<\\/td><\\/tr><tr><th>267<\\/th><td>Region B<\\/td><td>2021<\\/td><td>2<\\/td><td>NET_WORTH<\\/td><td>HR<\\/td><td>Kansas City<\\/td><td>USD 4378.44 million<\\/td><\\/tr><tr><th>268<\\/th><td>Region B<\\/td><td>2021<\\/td><td>2<\\/td><td>OPERATING_EXPENSES<\\/td><td>SALES<\\/td><td>Cleveland<\\/td><td>USD 3913.3 million<\\/td><\\/tr><tr><th>269<\\/th><td>Region B<\\/td><td>2021<\\/td><td>2<\\/td><td>ASSETS<\\/td><td>HR<\\/td><td>New York<\\/td><td>USD 4182.17 million<\\/td><\\/tr><tr><th>270<\\/th><td>Region B<\\/td><td>2021<\\/td><td>2<\\/td><td>OPERATING_EXPENSES<\\/td><td>BUSINESS<\\/td><td>New York<\\/td><td>USD 3859.61 million<\\/td><\\/tr><tr><th>271<\\/th><td>Region B<\\/td><td>2021<\\/td><td>2<\\/td><td>NET_WORTH<\\/td><td>SALES<\\/td><td>Philadelphia<\\/td><td>USD 4345.23 million<\\/td><\\/tr><tr><th>272<\\/th><td>Region B<\\/td><td>2021<\\/td><td>2<\\/td><td>NON-OPERATING_EXPENSES<\\/td><td>SALES<\\/td><td>San Francisco<\\/td><td>USD 3354.34 million<\\/td><\\/tr><tr><th>273<\\/th><td>Region B<\\/td><td>2021<\\/td><td>2<\\/td><td>NET_WORTH<\\/td><td>IT<\\/td><td>Cleveland<\\/td><td>USD 3787.16 million<\\/td><\\/tr><tr><th>274<\\/th><td>Region B<\\/td><td>2021<\\/td><td>2<\\/td><td>ASSETS<\\/td><td>OTHERS<\\/td><td>Richmond<\\/td><td>USD 3765.26 million<\\/td><\\/tr><tr><th>275<\\/th><td>Region B<\\/td><td>2021<\\/td><td>2<\\/td><td>OPERATING_EXPENSES<\\/td><td>IT<\\/td><td>Richmond<\\/td><td>USD 3910.95 million<\\/td><\\/tr><tr><th>276<\\/th><td>Region B<\\/td><td>2021<\\/td><td>2<\\/td><td>ASSETS<\\/td><td>HR<\\/td><td>St. Louis<\\/td><td>USD 4655.51 million<\\/td><\\/tr><tr><th>277<\\/th><td>Region B<\\/td><td>2021<\\/td><td>2<\\/td><td>OPERATING_EXPENSES<\\/td><td>IT<\\/td><td>Dallas<\\/td><td>USD 3638.51 million<\\/td><\\/tr><tr><th>278<\\/th><td>Region B<\\/td><td>2021<\\/td><td>2<\\/td><td>STATISTICS<\\/td><td>IT<\\/td><td>New York<\\/td><td>USD 3779.41 million<\\/td><\\/tr><tr><th>279<\\/th><td>Region B<\\/td><td>2021<\\/td><td>2<\\/td><td>ASSETS<\\/td><td>IT<\\/td><td>Cleveland<\\/td><td>USD 5150.0 million<\\/td><\\/tr><tr><th>280<\\/th><td>Region B<\\/td><td>2021<\\/td><td>2<\\/td><td>LIABILITIES<\\/td><td>IT<\\/td><td>New York<\\/td><td>USD 3921.97 million<\\/td><\\/tr><tr><th>281<\\/th><td>Region B<\\/td><td>2021<\\/td><td>2<\\/td><td>LIABILITIES<\\/td><td>HR<\\/td><td>Minneapolis<\\/td><td>USD 4332.34 million<\\/td><\\/tr><tr><th>282<\\/th><td>Region B<\\/td><td>2021<\\/td><td>2<\\/td><td>REVENUE<\\/td><td>OTHERS<\\/td><td>Boston<\\/td><td>USD 4221.1 million<\\/td><\\/tr><tr><th>283<\\/th><td>Region B<\\/td><td>2021<\\/td><td>2<\\/td><td>NON-OPERATING_EXPENSES<\\/td><td>IT<\\/td><td>New York<\\/td><td>USD 3756.12 million<\\/td><\\/tr><tr><th>284<\\/th><td>Region B<\\/td><td>2021<\\/td><td>2<\\/td><td>OPERATING_EXPENSES<\\/td><td>IT<\\/td><td>New York<\\/td><td>USD 3754.5 million<\\/td><\\/tr><tr><th>285<\\/th><td>Region B<\\/td><td>2021<\\/td><td>2<\\/td><td>OPERATING_EXPENSES<\\/td><td>SALES<\\/td><td>Chicago<\\/td><td>USD 3874.19 million<\\/td><\\/tr><tr><th>286<\\/th><td>Region B<\\/td><td>2021<\\/td><td>2<\\/td><td>REVENUE<\\/td><td>SALES<\\/td><td>Philadelphia<\\/td><td>USD 4518.49 million<\\/td><\\/tr><tr><th>287<\\/th><td>Region B<\\/td><td>2021<\\/td><td>2<\\/td><td>ASSETS<\\/td><td>IT<\\/td><td>San Francisco<\\/td><td>USD 3803.69 million<\\/td><\\/tr><tr><th>288<\\/th><td>Region B<\\/td><td>2021<\\/td><td>2<\\/td><td>ASSETS<\\/td><td>IT<\\/td><td>Atlanta<\\/td><td>USD 3630.48 million<\\/td><\\/tr><tr><th>289<\\/th><td>Region B<\\/td><td>2021<\\/td><td>2<\\/td><td>STATISTICS<\\/td><td>BUSINESS<\\/td><td>Richmond<\\/td><td>USD 4188.5 million<\\/td><\\/tr><tr><th>290<\\/th><td>Region B<\\/td><td>2021<\\/td><td>2<\\/td><td>STATISTICS<\\/td><td>OTHERS<\\/td><td>Dallas<\\/td><td>USD 4998.09 million<\\/td><\\/tr><tr><th>291<\\/th><td>Region B<\\/td><td>2021<\\/td><td>2<\\/td><td>OPERATING_EXPENSES<\\/td><td>HR<\\/td><td>Boston<\\/td><td>USD 3864.05 million<\\/td><\\/tr><tr><th>292<\\/th><td>Region B<\\/td><td>2021<\\/td><td>2<\\/td><td>REVENUE<\\/td><td>IT<\\/td><td>New York<\\/td><td>USD 4389.13 million<\\/td><\\/tr><tr><th>293<\\/th><td>Region B<\\/td><td>2021<\\/td><td>2<\\/td><td>OPERATING_EXPENSES<\\/td><td>HR<\\/td><td>Dallas<\\/td><td>USD 3840.72 million<\\/td><\\/tr><tr><th>294<\\/th><td>Region B<\\/td><td>2021<\\/td><td>2<\\/td><td>NET_WORTH<\\/td><td>HR<\\/td><td>Richmond<\\/td><td>USD 4715.37 million<\\/td><\\/tr><tr><th>295<\\/th><td>Region B<\\/td><td>2021<\\/td><td>2<\\/td><td>STATISTICS<\\/td><td>BUSINESS<\\/td><td>Philadelphia<\\/td><td>USD 4319.95 million<\\/td><\\/tr><tr><th>296<\\/th><td>Region B<\\/td><td>2021<\\/td><td>2<\\/td><td>REVENUE<\\/td><td>IT<\\/td><td>Richmond<\\/td><td>USD 3878.62 million<\\/td><\\/tr><tr><th>297<\\/th><td>Region B<\\/td><td>2021<\\/td><td>2<\\/td><td>REVENUE<\\/td><td>SALES<\\/td><td>Minneapolis<\\/td><td>USD 3874.8 million<\\/td><\\/tr><tr><th>298<\\/th><td>Region B<\\/td><td>2021<\\/td><td>2<\\/td><td>REVENUE<\\/td><td>BUSINESS<\\/td><td>Boston<\\/td><td>USD 4498.18 million<\\/td><\\/tr><tr><th>299<\\/th><td>Region B<\\/td><td>2021<\\/td><td>2<\\/td><td>LIABILITIES<\\/td><td>SALES<\\/td><td>Cleveland<\\/td><td>USD 3943.81 million<\\/td><\\/tr><tr><th>300<\\/th><td>Region B<\\/td><td>2021<\\/td><td>2<\\/td><td>NET_WORTH<\\/td><td>OTHERS<\\/td><td>Dallas<\\/td><td>USD 4998.53 million<\\/td><\\/tr><tr><th>301<\\/th><td>Region B<\\/td><td>2021<\\/td><td>2<\\/td><td>ASSETS<\\/td><td>SALES<\\/td><td>St. Louis<\\/td><td>USD 4250.38 million<\\/td><\\/tr><tr><th>302<\\/th><td>Region B<\\/td><td>2021<\\/td><td>2<\\/td><td>LIABILITIES<\\/td><td>OTHERS<\\/td><td>Cleveland<\\/td><td>USD 4440.21 million<\\/td><\\/tr><tr><th>303<\\/th><td>Region B<\\/td><td>2021<\\/td><td>2<\\/td><td>NON-OPERATING_EXPENSES<\\/td><td>IT<\\/td><td>Kansas City<\\/td><td>USD 4006.44 million<\\/td><\\/tr><tr><th>304<\\/th><td>Region B<\\/td><td>2021<\\/td><td>2<\\/td><td>OPERATING_EXPENSES<\\/td><td>BUSINESS<\\/td><td>Dallas<\\/td><td>USD 3458.77 million<\\/td><\\/tr><tr><th>305<\\/th><td>Region B<\\/td><td>2021<\\/td><td>2<\\/td><td>OPERATING_EXPENSES<\\/td><td>IT<\\/td><td>Minneapolis<\\/td><td>USD 4582.68 million<\\/td><\\/tr><tr><th>306<\\/th><td>Region B<\\/td><td>2021<\\/td><td>2<\\/td><td>STATISTICS<\\/td><td>HR<\\/td><td>San Francisco<\\/td><td>USD 3812.89 million<\\/td><\\/tr><tr><th>307<\\/th><td>Region B<\\/td><td>2021<\\/td><td>2<\\/td><td>OPERATING_EXPENSES<\\/td><td>HR<\\/td><td>Cleveland<\\/td><td>USD 3614.93 million<\\/td><\\/tr><tr><th>308<\\/th><td>Region B<\\/td><td>2021<\\/td><td>2<\\/td><td>LIABILITIES<\\/td><td>OTHERS<\\/td><td>St. Louis<\\/td><td>USD 4461.69 million<\\/td><\\/tr><tr><th>309<\\/th><td>Region B<\\/td><td>2021<\\/td><td>2<\\/td><td>OPERATING_EXPENSES<\\/td><td>OTHERS<\\/td><td>Atlanta<\\/td><td>USD 3828.67 million<\\/td><\\/tr><tr><th>310<\\/th><td>Region B<\\/td><td>2021<\\/td><td>2<\\/td><td>OPERATING_EXPENSES<\\/td><td>BUSINESS<\\/td><td>San Francisco<\\/td><td>USD 3644.08 million<\\/td><\\/tr><tr><th>311<\\/th><td>Region B<\\/td><td>2021<\\/td><td>2<\\/td><td>NON-OPERATING_EXPENSES<\\/td><td>OTHERS<\\/td><td>St. Louis<\\/td><td>USD 3616.26 million<\\/td><\\/tr><tr><th>312<\\/th><td>Region B<\\/td><td>2021<\\/td><td>2<\\/td><td>NET_WORTH<\\/td><td>IT<\\/td><td>Boston<\\/td><td>USD 4448.35 million<\\/td><\\/tr><tr><th>313<\\/th><td>Region B<\\/td><td>2021<\\/td><td>2<\\/td><td>STATISTICS<\\/td><td>BUSINESS<\\/td><td>San Francisco<\\/td><td>USD 4297.2 million<\\/td><\\/tr><tr><th>314<\\/th><td>Region B<\\/td><td>2021<\\/td><td>2<\\/td><td>NET_WORTH<\\/td><td>BUSINESS<\\/td><td>Minneapolis<\\/td><td>USD 4480.38 million<\\/td><\\/tr><tr><th>315<\\/th><td>Region B<\\/td><td>2021<\\/td><td>2<\\/td><td>STATISTICS<\\/td><td>SALES<\\/td><td>Chicago<\\/td><td>USD 4373.44 million<\\/td><\\/tr><tr><th>316<\\/th><td>Region B<\\/td><td>2021<\\/td><td>2<\\/td><td>ASSETS<\\/td><td>BUSINESS<\\/td><td>St. Louis<\\/td><td>USD 3544.04 million<\\/td><\\/tr><tr><th>317<\\/th><td>Region B<\\/td><td>2021<\\/td><td>2<\\/td><td>LIABILITIES<\\/td><td>HR<\\/td><td>New York<\\/td><td>USD 3549.84 million<\\/td><\\/tr><tr><th>318<\\/th><td>Region B<\\/td><td>2021<\\/td><td>2<\\/td><td>LIABILITIES<\\/td><td>SALES<\\/td><td>New York<\\/td><td>USD 4387.0 million<\\/td><\\/tr><tr><th>319<\\/th><td>Region B<\\/td><td>2021<\\/td><td>2<\\/td><td>REVENUE<\\/td><td>OTHERS<\\/td><td>Dallas<\\/td><td>USD 3616.4 million<\\/td><\\/tr><tr><th>320<\\/th><td>Region B<\\/td><td>2021<\\/td><td>2<\\/td><td>REVENUE<\\/td><td>IT<\\/td><td>Chicago<\\/td><td>USD 3961.33 million<\\/td><\\/tr><tr><th>321<\\/th><td>Region B<\\/td><td>2021<\\/td><td>2<\\/td><td>REVENUE<\\/td><td>BUSINESS<\\/td><td>New York<\\/td><td>USD 3625.01 million<\\/td><\\/tr><tr><th>322<\\/th><td>Region B<\\/td><td>2021<\\/td><td>2<\\/td><td>LIABILITIES<\\/td><td>BUSINESS<\\/td><td>Boston<\\/td><td>USD 4627.67 million<\\/td><\\/tr><tr><th>323<\\/th><td>Region B<\\/td><td>2021<\\/td><td>2<\\/td><td>LIABILITIES<\\/td><td>HR<\\/td><td>San Francisco<\\/td><td>USD 4498.27 million<\\/td><\\/tr><tr><th>324<\\/th><td>Region B<\\/td><td>2021<\\/td><td>2<\\/td><td>STATISTICS<\\/td><td>BUSINESS<\\/td><td>Minneapolis<\\/td><td>USD 4315.26 million<\\/td><\\/tr><tr><th>325<\\/th><td>Region B<\\/td><td>2021<\\/td><td>2<\\/td><td>ASSETS<\\/td><td>HR<\\/td><td>Kansas City<\\/td><td>USD 3924.74 million<\\/td><\\/tr><tr><th>326<\\/th><td>Region B<\\/td><td>2021<\\/td><td>2<\\/td><td>STATISTICS<\\/td><td>OTHERS<\\/td><td>Philadelphia<\\/td><td>USD 4196.58 million<\\/td><\\/tr><tr><th>327<\\/th><td>Region B<\\/td><td>2021<\\/td><td>2<\\/td><td>OPERATING_EXPENSES<\\/td><td>HR<\\/td><td>New York<\\/td><td>USD 4176.41 million<\\/td><\\/tr><tr><th>328<\\/th><td>Region B<\\/td><td>2021<\\/td><td>2<\\/td><td>REVENUE<\\/td><td>SALES<\\/td><td>San Francisco<\\/td><td>USD 3641.69 million<\\/td><\\/tr><tr><th>329<\\/th><td>Region B<\\/td><td>2021<\\/td><td>2<\\/td><td>REVENUE<\\/td><td>OTHERS<\\/td><td>Chicago<\\/td><td>USD 3815.97 million<\\/td><\\/tr><tr><th>330<\\/th><td>Region B<\\/td><td>2021<\\/td><td>2<\\/td><td>OPERATING_EXPENSES<\\/td><td>SALES<\\/td><td>St. Louis<\\/td><td>USD 3355.44 million<\\/td><\\/tr><tr><th>331<\\/th><td>Region B<\\/td><td>2021<\\/td><td>2<\\/td><td>OPERATING_EXPENSES<\\/td><td>SALES<\\/td><td>New York<\\/td><td>USD 3358.87 million<\\/td><\\/tr><tr><th>332<\\/th><td>Region B<\\/td><td>2021<\\/td><td>2<\\/td><td>NON-OPERATING_EXPENSES<\\/td><td>HR<\\/td><td>St. Louis<\\/td><td>USD 4208.25 million<\\/td><\\/tr><tr><th>333<\\/th><td>Region B<\\/td><td>2021<\\/td><td>2<\\/td><td>NET_WORTH<\\/td><td>OTHERS<\\/td><td>St. Louis<\\/td><td>USD 4463.89 million<\\/td><\\/tr><tr><th>334<\\/th><td>Region B<\\/td><td>2021<\\/td><td>2<\\/td><td>ASSETS<\\/td><td>BUSINESS<\\/td><td>Philadelphia<\\/td><td>USD 3579.11 million<\\/td><\\/tr><tr><th>335<\\/th><td>Region B<\\/td><td>2021<\\/td><td>2<\\/td><td>REVENUE<\\/td><td>BUSINESS<\\/td><td>San Francisco<\\/td><td>USD 3290.47 million<\\/td><\\/tr><tr><th>336<\\/th><td>Region B<\\/td><td>2021<\\/td><td>2<\\/td><td>LIABILITIES<\\/td><td>OTHERS<\\/td><td>Minneapolis<\\/td><td>USD 3416.22 million<\\/td><\\/tr><tr><th>337<\\/th><td>Region B<\\/td><td>2021<\\/td><td>2<\\/td><td>OPERATING_EXPENSES<\\/td><td>IT<\\/td><td>Atlanta<\\/td><td>USD 4744.26 million<\\/td><\\/tr><tr><th>338<\\/th><td>Region B<\\/td><td>2021<\\/td><td>2<\\/td><td>STATISTICS<\\/td><td>HR<\\/td><td>New York<\\/td><td>USD 3740.18 million<\\/td><\\/tr><tr><th>339<\\/th><td>Region B<\\/td><td>2021<\\/td><td>2<\\/td><td>STATISTICS<\\/td><td>IT<\\/td><td>Chicago<\\/td><td>USD 4877.71 million<\\/td><\\/tr><tr><th>340<\\/th><td>Region B<\\/td><td>2021<\\/td><td>2<\\/td><td>STATISTICS<\\/td><td>IT<\\/td><td>Dallas<\\/td><td>USD 2708.41 million<\\/td><\\/tr><tr><th>341<\\/th><td>Region B<\\/td><td>2021<\\/td><td>2<\\/td><td>ASSETS<\\/td><td>IT<\\/td><td>Dallas<\\/td><td>USD 3506.32 million<\\/td><\\/tr><tr><th>342<\\/th><td>Region B<\\/td><td>2021<\\/td><td>2<\\/td><td>NET_WORTH<\\/td><td>BUSINESS<\\/td><td>St. Louis<\\/td><td>USD 4947.56 million<\\/td><\\/tr><tr><th>343<\\/th><td>Region B<\\/td><td>2021<\\/td><td>2<\\/td><td>OPERATING_EXPENSES<\\/td><td>SALES<\\/td><td>Richmond<\\/td><td>USD 3400.41 million<\\/td><\\/tr><tr><th>344<\\/th><td>Region B<\\/td><td>2021<\\/td><td>2<\\/td><td>STATISTICS<\\/td><td>SALES<\\/td><td>St. Louis<\\/td><td>USD 3503.3 million<\\/td><\\/tr><tr><th>345<\\/th><td>Region B<\\/td><td>2021<\\/td><td>2<\\/td><td>NET_WORTH<\\/td><td>BUSINESS<\\/td><td>San Francisco<\\/td><td>USD 4297.84 million<\\/td><\\/tr><tr><th>346<\\/th><td>Region B<\\/td><td>2021<\\/td><td>2<\\/td><td>REVENUE<\\/td><td>HR<\\/td><td>Richmond<\\/td><td>USD 3994.18 million<\\/td><\\/tr><tr><th>347<\\/th><td>Region B<\\/td><td>2021<\\/td><td>2<\\/td><td>REVENUE<\\/td><td>SALES<\\/td><td>Kansas City<\\/td><td>USD 3945.2 million<\\/td><\\/tr><tr><th>348<\\/th><td>Region B<\\/td><td>2021<\\/td><td>2<\\/td><td>STATISTICS<\\/td><td>IT<\\/td><td>St. Louis<\\/td><td>USD 3900.92 million<\\/td><\\/tr><tr><th>349<\\/th><td>Region B<\\/td><td>2021<\\/td><td>2<\\/td><td>STATISTICS<\\/td><td>SALES<\\/td><td>Minneapolis<\\/td><td>USD 4518.63 million<\\/td><\\/tr><tr><th>350<\\/th><td>Region B<\\/td><td>2021<\\/td><td>2<\\/td><td>ASSETS<\\/td><td>OTHERS<\\/td><td>New York<\\/td><td>USD 4133.53 million<\\/td><\\/tr><tr><th>351<\\/th><td>Region B<\\/td><td>2021<\\/td><td>2<\\/td><td>OPERATING_EXPENSES<\\/td><td>IT<\\/td><td>Cleveland<\\/td><td>USD 3533.37 million<\\/td><\\/tr><tr><th>352<\\/th><td>Region B<\\/td><td>2021<\\/td><td>2<\\/td><td>NON-OPERATING_EXPENSES<\\/td><td>SALES<\\/td><td>Minneapolis<\\/td><td>USD 3847.42 million<\\/td><\\/tr><tr><th>353<\\/th><td>Region B<\\/td><td>2021<\\/td><td>2<\\/td><td>NON-OPERATING_EXPENSES<\\/td><td>IT<\\/td><td>Chicago<\\/td><td>USD 3302.56 million<\\/td><\\/tr><tr><th>354<\\/th><td>Region B<\\/td><td>2021<\\/td><td>2<\\/td><td>REVENUE<\\/td><td>OTHERS<\\/td><td>Cleveland<\\/td><td>USD 3156.42 million<\\/td><\\/tr><tr><th>355<\\/th><td>Region B<\\/td><td>2021<\\/td><td>2<\\/td><td>REVENUE<\\/td><td>BUSINESS<\\/td><td>Chicago<\\/td><td>USD 3495.35 million<\\/td><\\/tr><tr><th>356<\\/th><td>Region B<\\/td><td>2021<\\/td><td>2<\\/td><td>STATISTICS<\\/td><td>HR<\\/td><td>Richmond<\\/td><td>USD 3360.18 million<\\/td><\\/tr><tr><th>357<\\/th><td>Region B<\\/td><td>2021<\\/td><td>2<\\/td><td>NET_WORTH<\\/td><td>IT<\\/td><td>Richmond<\\/td><td>USD 4037.96 million<\\/td><\\/tr><tr><th>358<\\/th><td>Region B<\\/td><td>2021<\\/td><td>2<\\/td><td>OPERATING_EXPENSES<\\/td><td>OTHERS<\\/td><td>Boston<\\/td><td>USD 3400.47 million<\\/td><\\/tr><tr><th>359<\\/th><td>Region B<\\/td><td>2021<\\/td><td>2<\\/td><td>STATISTICS<\\/td><td>HR<\\/td><td>Cleveland<\\/td><td>USD 5120.77 million<\\/td><\\/tr><tr><th>360<\\/th><td>Region B<\\/td><td>2021<\\/td><td>2<\\/td><td>NON-OPERATING_EXPENSES<\\/td><td>HR<\\/td><td>New York<\\/td><td>USD 3341.5 million<\\/td><\\/tr><tr><th>361<\\/th><td>Region B<\\/td><td>2021<\\/td><td>2<\\/td><td>NET_WORTH<\\/td><td>OTHERS<\\/td><td>Cleveland<\\/td><td>USD 3950.75 million<\\/td><\\/tr><tr><th>362<\\/th><td>Region B<\\/td><td>2021<\\/td><td>2<\\/td><td>LIABILITIES<\\/td><td>BUSINESS<\\/td><td>Atlanta<\\/td><td>USD 3909.57 million<\\/td><\\/tr><tr><th>363<\\/th><td>Region B<\\/td><td>2021<\\/td><td>2<\\/td><td>ASSETS<\\/td><td>SALES<\\/td><td>Philadelphia<\\/td><td>USD 3477.24 million<\\/td><\\/tr><tr><th>364<\\/th><td>Region B<\\/td><td>2021<\\/td><td>2<\\/td><td>NET_WORTH<\\/td><td>HR<\\/td><td>Atlanta<\\/td><td>USD 3750.61 million<\\/td><\\/tr><tr><th>365<\\/th><td>Region B<\\/td><td>2021<\\/td><td>2<\\/td><td>NON-OPERATING_EXPENSES<\\/td><td>HR<\\/td><td>Richmond<\\/td><td>USD 3762.4 million<\\/td><\\/tr><tr><th>366<\\/th><td>Region B<\\/td><td>2021<\\/td><td>2<\\/td><td>REVENUE<\\/td><td>BUSINESS<\\/td><td>Atlanta<\\/td><td>USD 3524.35 million<\\/td><\\/tr><tr><th>367<\\/th><td>Region B<\\/td><td>2021<\\/td><td>2<\\/td><td>NON-OPERATING_EXPENSES<\\/td><td>BUSINESS<\\/td><td>Minneapolis<\\/td><td>USD 3918.28 million<\\/td><\\/tr><tr><th>368<\\/th><td>Region B<\\/td><td>2021<\\/td><td>2<\\/td><td>ASSETS<\\/td><td>HR<\\/td><td>Atlanta<\\/td><td>USD 3877.97 million<\\/td><\\/tr><tr><th>369<\\/th><td>Region B<\\/td><td>2021<\\/td><td>2<\\/td><td>NON-OPERATING_EXPENSES<\\/td><td>HR<\\/td><td>Kansas City<\\/td><td>USD 3928.57 million<\\/td><\\/tr><tr><th>370<\\/th><td>Region B<\\/td><td>2021<\\/td><td>2<\\/td><td>REVENUE<\\/td><td>IT<\\/td><td>Boston<\\/td><td>USD 3771.93 million<\\/td><\\/tr><tr><th>371<\\/th><td>Region B<\\/td><td>2021<\\/td><td>2<\\/td><td>REVENUE<\\/td><td>OTHERS<\\/td><td>Philadelphia<\\/td><td>USD 3863.22 million<\\/td><\\/tr><tr><th>372<\\/th><td>Region B<\\/td><td>2021<\\/td><td>2<\\/td><td>NET_WORTH<\\/td><td>OTHERS<\\/td><td>New York<\\/td><td>USD 3363.16 million<\\/td><\\/tr><tr><th>373<\\/th><td>Region B<\\/td><td>2021<\\/td><td>2<\\/td><td>STATISTICS<\\/td><td>SALES<\\/td><td>Richmond<\\/td><td>USD 3897.3 million<\\/td><\\/tr><tr><th>374<\\/th><td>Region B<\\/td><td>2021<\\/td><td>2<\\/td><td>NET_WORTH<\\/td><td>SALES<\\/td><td>Richmond<\\/td><td>USD 3768.73 million<\\/td><\\/tr><tr><th>375<\\/th><td>Region B<\\/td><td>2021<\\/td><td>2<\\/td><td>STATISTICS<\\/td><td>SALES<\\/td><td>Boston<\\/td><td>USD 4744.92 million<\\/td><\\/tr><tr><th>376<\\/th><td>Region B<\\/td><td>2021<\\/td><td>2<\\/td><td>NON-OPERATING_EXPENSES<\\/td><td>BUSINESS<\\/td><td>Kansas City<\\/td><td>USD 4498.11 million<\\/td><\\/tr><tr><th>377<\\/th><td>Region B<\\/td><td>2021<\\/td><td>2<\\/td><td>REVENUE<\\/td><td>HR<\\/td><td>Philadelphia<\\/td><td>USD 3751.32 million<\\/td><\\/tr><tr><th>378<\\/th><td>Region B<\\/td><td>2021<\\/td><td>2<\\/td><td>OPERATING_EXPENSES<\\/td><td>IT<\\/td><td>Chicago<\\/td><td>USD 4065.66 million<\\/td><\\/tr><tr><th>379<\\/th><td>Region B<\\/td><td>2021<\\/td><td>2<\\/td><td>NET_WORTH<\\/td><td>BUSINESS<\\/td><td>New York<\\/td><td>USD 3786.22 million<\\/td><\\/tr><tr><th>380<\\/th><td>Region B<\\/td><td>2021<\\/td><td>2<\\/td><td>OPERATING_EXPENSES<\\/td><td>IT<\\/td><td>Philadelphia<\\/td><td>USD 3674.19 million<\\/td><\\/tr><tr><th>381<\\/th><td>Region B<\\/td><td>2021<\\/td><td>2<\\/td><td>NET_WORTH<\\/td><td>BUSINESS<\\/td><td>Kansas City<\\/td><td>USD 3168.14 million<\\/td><\\/tr><tr><th>382<\\/th><td>Region B<\\/td><td>2021<\\/td><td>2<\\/td><td>OPERATING_EXPENSES<\\/td><td>HR<\\/td><td>San Francisco<\\/td><td>USD 3337.98 million<\\/td><\\/tr><tr><th>383<\\/th><td>Region B<\\/td><td>2021<\\/td><td>2<\\/td><td>NET_WORTH<\\/td><td>OTHERS<\\/td><td>Kansas City<\\/td><td>USD 3765.9 million<\\/td><\\/tr><tr><th>384<\\/th><td>Region B<\\/td><td>2021<\\/td><td>2<\\/td><td>OPERATING_EXPENSES<\\/td><td>HR<\\/td><td>Richmond<\\/td><td>USD 3776.64 million<\\/td><\\/tr><tr><th>385<\\/th><td>Region B<\\/td><td>2021<\\/td><td>2<\\/td><td>ASSETS<\\/td><td>HR<\\/td><td>Dallas<\\/td><td>USD 3211.58 million<\\/td><\\/tr><tr><th>386<\\/th><td>Region B<\\/td><td>2021<\\/td><td>2<\\/td><td>STATISTICS<\\/td><td>SALES<\\/td><td>Atlanta<\\/td><td>USD 3402.09 million<\\/td><\\/tr><tr><th>387<\\/th><td>Region B<\\/td><td>2021<\\/td><td>2<\\/td><td>NET_WORTH<\\/td><td>HR<\\/td><td>Dallas<\\/td><td>USD 5013.63 million<\\/td><\\/tr><tr><th>388<\\/th><td>Region B<\\/td><td>2021<\\/td><td>2<\\/td><td>LIABILITIES<\\/td><td>IT<\\/td><td>Boston<\\/td><td>USD 3499.94 million<\\/td><\\/tr><tr><th>389<\\/th><td>Region B<\\/td><td>2021<\\/td><td>2<\\/td><td>NET_WORTH<\\/td><td>OTHERS<\\/td><td>Atlanta<\\/td><td>USD 4442.08 million<\\/td><\\/tr><tr><th>390<\\/th><td>Region B<\\/td><td>2021<\\/td><td>2<\\/td><td>ASSETS<\\/td><td>OTHERS<\\/td><td>San Francisco<\\/td><td>USD 3914.48 million<\\/td><\\/tr><tr><th>391<\\/th><td>Region B<\\/td><td>2021<\\/td><td>2<\\/td><td>LIABILITIES<\\/td><td>SALES<\\/td><td>Richmond<\\/td><td>USD 3139.59 million<\\/td><\\/tr><tr><th>392<\\/th><td>Region B<\\/td><td>2021<\\/td><td>2<\\/td><td>ASSETS<\\/td><td>SALES<\\/td><td>New York<\\/td><td>USD 3224.55 million<\\/td><\\/tr><tr><th>393<\\/th><td>Region B<\\/td><td>2021<\\/td><td>2<\\/td><td>NON-OPERATING_EXPENSES<\\/td><td>BUSINESS<\\/td><td>Atlanta<\\/td><td>USD 4508.29 million<\\/td><\\/tr><tr><th>394<\\/th><td>Region B<\\/td><td>2021<\\/td><td>2<\\/td><td>LIABILITIES<\\/td><td>SALES<\\/td><td>Atlanta<\\/td><td>USD 4241.26 million<\\/td><\\/tr><tr><th>395<\\/th><td>Region B<\\/td><td>2021<\\/td><td>2<\\/td><td>OPERATING_EXPENSES<\\/td><td>SALES<\\/td><td>Atlanta<\\/td><td>USD 3592.17 million<\\/td><\\/tr><tr><th>396<\\/th><td>Region B<\\/td><td>2021<\\/td><td>2<\\/td><td>LIABILITIES<\\/td><td>OTHERS<\\/td><td>Dallas<\\/td><td>USD 3695.96 million<\\/td><\\/tr><tr><th>397<\\/th><td>Region B<\\/td><td>2021<\\/td><td>2<\\/td><td>OPERATING_EXPENSES<\\/td><td>OTHERS<\\/td><td>San Francisco<\\/td><td>USD 3089.01 million<\\/td><\\/tr><tr><th>398<\\/th><td>Region B<\\/td><td>2021<\\/td><td>2<\\/td><td>STATISTICS<\\/td><td>SALES<\\/td><td>Kansas City<\\/td><td>USD 3948.26 million<\\/td><\\/tr><tr><th>399<\\/th><td>Region B<\\/td><td>2021<\\/td><td>2<\\/td><td>ASSETS<\\/td><td>BUSINESS<\\/td><td>Kansas City<\\/td><td>USD 3119.45 million<\\/td><\\/tr><tr><th>400<\\/th><td>Region B<\\/td><td>2021<\\/td><td>2<\\/td><td>REVENUE<\\/td><td>SALES<\\/td><td>St. Louis<\\/td><td>USD 4053.0 million<\\/td><\\/tr><tr><th>401<\\/th><td>Region B<\\/td><td>2021<\\/td><td>2<\\/td><td>REVENUE<\\/td><td>OTHERS<\\/td><td>Atlanta<\\/td><td>USD 3683.48 million<\\/td><\\/tr><tr><th>402<\\/th><td>Region B<\\/td><td>2021<\\/td><td>2<\\/td><td>NON-OPERATING_EXPENSES<\\/td><td>HR<\\/td><td>Atlanta<\\/td><td>USD 3858.73 million<\\/td><\\/tr><tr><th>403<\\/th><td>Region B<\\/td><td>2021<\\/td><td>2<\\/td><td>ASSETS<\\/td><td>SALES<\\/td><td>San Francisco<\\/td><td>USD 3291.86 million<\\/td><\\/tr><tr><th>404<\\/th><td>Region B<\\/td><td>2021<\\/td><td>2<\\/td><td>NET_WORTH<\\/td><td>HR<\\/td><td>Chicago<\\/td><td>USD 3804.4 million<\\/td><\\/tr><tr><th>405<\\/th><td>Region B<\\/td><td>2021<\\/td><td>2<\\/td><td>ASSETS<\\/td><td>SALES<\\/td><td>Atlanta<\\/td><td>USD 3943.89 million<\\/td><\\/tr><tr><th>406<\\/th><td>Region B<\\/td><td>2021<\\/td><td>2<\\/td><td>ASSETS<\\/td><td>BUSINESS<\\/td><td>Boston<\\/td><td>USD 3909.51 million<\\/td><\\/tr><tr><th>407<\\/th><td>Region B<\\/td><td>2021<\\/td><td>2<\\/td><td>ASSETS<\\/td><td>HR<\\/td><td>Richmond<\\/td><td>USD 3539.07 million<\\/td><\\/tr><tr><th>408<\\/th><td>Region B<\\/td><td>2021<\\/td><td>2<\\/td><td>REVENUE<\\/td><td>IT<\\/td><td>Cleveland<\\/td><td>USD 3763.62 million<\\/td><\\/tr><tr><th>409<\\/th><td>Region B<\\/td><td>2021<\\/td><td>2<\\/td><td>OPERATING_EXPENSES<\\/td><td>SALES<\\/td><td>Minneapolis<\\/td><td>USD 4179.07 million<\\/td><\\/tr><tr><th>410<\\/th><td>Region B<\\/td><td>2021<\\/td><td>2<\\/td><td>STATISTICS<\\/td><td>OTHERS<\\/td><td>Boston<\\/td><td>USD 3585.53 million<\\/td><\\/tr><tr><th>411<\\/th><td>Region B<\\/td><td>2021<\\/td><td>2<\\/td><td>LIABILITIES<\\/td><td>IT<\\/td><td>Cleveland<\\/td><td>USD 5007.31 million<\\/td><\\/tr><tr><th>412<\\/th><td>Region B<\\/td><td>2021<\\/td><td>2<\\/td><td>OPERATING_EXPENSES<\\/td><td>SALES<\\/td><td>Dallas<\\/td><td>USD 3356.67 million<\\/td><\\/tr><tr><th>413<\\/th><td>Region B<\\/td><td>2021<\\/td><td>2<\\/td><td>LIABILITIES<\\/td><td>OTHERS<\\/td><td>Kansas City<\\/td><td>USD 4477.97 million<\\/td><\\/tr><tr><th>414<\\/th><td>Region B<\\/td><td>2021<\\/td><td>2<\\/td><td>NET_WORTH<\\/td><td>SALES<\\/td><td>Cleveland<\\/td><td>USD 3637.36 million<\\/td><\\/tr><tr><th>415<\\/th><td>Region B<\\/td><td>2021<\\/td><td>2<\\/td><td>STATISTICS<\\/td><td>HR<\\/td><td>Boston<\\/td><td>USD 3105.55 million<\\/td><\\/tr><tr><th>416<\\/th><td>Region B<\\/td><td>2021<\\/td><td>2<\\/td><td>NON-OPERATING_EXPENSES<\\/td><td>SALES<\\/td><td>Cleveland<\\/td><td>USD 4432.2 million<\\/td><\\/tr><tr><th>417<\\/th><td>Region B<\\/td><td>2021<\\/td><td>2<\\/td><td>ASSETS<\\/td><td>BUSINESS<\\/td><td>Atlanta<\\/td><td>USD 3405.35 million<\\/td><\\/tr><tr><th>418<\\/th><td>Region B<\\/td><td>2021<\\/td><td>2<\\/td><td>LIABILITIES<\\/td><td>OTHERS<\\/td><td>San Francisco<\\/td><td>USD 3571.54 million<\\/td><\\/tr><tr><th>419<\\/th><td>Region B<\\/td><td>2021<\\/td><td>2<\\/td><td>REVENUE<\\/td><td>BUSINESS<\\/td><td>Richmond<\\/td><td>USD 3325.6 million<\\/td><\\/tr><tr><th>420<\\/th><td>Region B<\\/td><td>2021<\\/td><td>2<\\/td><td>NET_WORTH<\\/td><td>SALES<\\/td><td>Boston<\\/td><td>USD 2699.08 million<\\/td><\\/tr><\\/tbody><\\/table><\\/div>\"},\"nodeType\":\"DOM\",\"type\":\"node\",\"instanceArgs\":{\"namespace\":\"html\",\"tag\":\"div\"},\"children\":[]}]}}}},\"children\":[{\"props\":{},\"nodeType\":\"ObservableNode\",\"type\":\"node\",\"instanceArgs\":{\"id\":\"8661479117068582769\",\"name\":\"obs-node\"},\"children\":[]}]}]},\n",
       "        window,\n",
       "    );\n",
       "    })()\n",
       "    </script>\n",
       "</div>\n"
      ],
      "text/plain": [
       "Node{WebIO.DOM}(WebIO.DOM(:html, :div), Any[Node{WebIO.DOM}(WebIO.DOM(:html, :div), Any[Scope(Node{WebIO.DOM}(WebIO.DOM(:html, :div), Any[Node{WebIO.DOM}(WebIO.DOM(:html, :div), Any[Node{WebIO.DOM}(WebIO.DOM(:html, :label), Any[\"ld\"], Dict{Symbol, Any}(:className => \"interact \", :style => Dict{Any, Any}(:padding => \"5px 10px 0px 10px\")))], Dict{Symbol, Any}(:className => \"interact-flex-row-left\")), Node{WebIO.DOM}(WebIO.DOM(:html, :div), Any[Node{WebIO.DOM}(WebIO.DOM(:html, :div), Any[Node{WebIO.DOM}(WebIO.DOM(:html, :span), Any[Node{WebIO.DOM}(WebIO.DOM(:html, :label), Any[], Dict{Symbol, Any}(:attributes => Dict(\"data-bind\" => \"text : key\")))], Dict{Symbol, Any}(:attributes => Dict(\"data-bind\" => \"click: function (){\\$root.update(val)}, css: {'is-primary is-selected' : \\$root.index() == val, 'interact-widget is-medium button ' : true}\")))], Dict{Symbol, Any}(:attributes => (\"data-bind\" => \"foreach : options_js\"), :className => \"buttons has-addons is-centered\"))], Dict{Symbol, Any}(:className => \"interact-flex-row-center\")), Node{WebIO.DOM}(WebIO.DOM(:html, :div), Any[Node{WebIO.DOM}(WebIO.DOM(:html, :div), Any[], Dict{Symbol, Any}())], Dict{Symbol, Any}(:className => \"interact-flex-row-right\"))], Dict{Symbol, Any}(:className => \"interact-flex-row interact-widget\")), Dict{String, Tuple{Observables.AbstractObservable, Union{Nothing, Bool}}}(\"options_js\" => (Observable{Vector{OrderedDict}} with 1 listeners. Value:\n",
       "OrderedDict[OrderedDict{String, Any}(\"key\" => \"Actuals\", \"val\" => 1, \"id\" => \"idu5VuDNuy\"), OrderedDict{String, Any}(\"key\" => \"Budget\", \"val\" => 2, \"id\" => \"idO8qLZwak\")], nothing), \"index\" => (Observable{Any} with 2 listeners. Value:\n",
       "1, nothing)), Set{String}(), nothing, Asset[Asset(\"js\", \"knockout\", \"/home/ubuntu/.julia/packages/Knockout/3gjS1/src/../assets/knockout.js\"), Asset(\"js\", \"knockout_punches\", \"/home/ubuntu/.julia/packages/Knockout/3gjS1/src/../assets/knockout_punches.js\"), Asset(\"js\", nothing, \"/home/ubuntu/.julia/packages/InteractBase/h8Fwe/src/../assets/all.js\"), Asset(\"css\", nothing, \"/home/ubuntu/.julia/packages/InteractBase/h8Fwe/src/../assets/style.css\"), Asset(\"css\", nothing, \"/home/ubuntu/.julia/packages/Interact/pVyN2/src/../assets/bulma_confined.min.css\")], Dict{Any, Any}(\"options_js\" => Any[WebIO.JSString(\"(function (val){return (val!=this.model[\\\"options_js\\\"]()) ? (this.valueFromJulia[\\\"options_js\\\"]=true, this.model[\\\"options_js\\\"](val)) : undefined})\")], \"index\" => Any[WebIO.JSString(\"(function (val){return (val!=this.model[\\\"index\\\"]()) ? (this.valueFromJulia[\\\"index\\\"]=true, this.model[\\\"index\\\"](val)) : undefined})\")]), WebIO.ConnectionPool(Channel{Any}(32), Set{AbstractConnection}(), Condition(Base.InvasiveLinkedList{Task}(Task (runnable) @0x00007f6e1f8619f0, Task (runnable) @0x00007f6e1f8619f0), Base.AlwaysLockedST(1))), WebIO.JSString[WebIO.JSString(\"function () {\\n    var handler = (function (ko, koPunches) {\\n    ko.punches.enableAll();\\n    ko.bindingHandlers.numericValue = {\\n        init: function(element, valueAccessor, allBindings, data, context) {\\n            var stringified = ko.observable(ko.unwrap(valueAccessor()));\\n            stringified.subscribe(function(value) {\\n                var val = parseFloat(value);\\n                if (!isNaN(val)) {\\n                    valueAccessor()(val);\\n                }\\n            });\\n            valueAccessor().subscribe(function(value) {\\n                var str = JSON.stringify(value);\\n                if ((str == \\\"0\\\") && ([\\\"-0\\\", \\\"-0.\\\"].indexOf(stringified()) >= 0))\\n                     return;\\n                 if ([\\\"null\\\", \\\"\\\"].indexOf(str) >= 0)\\n                     return;\\n                stringified(str);\\n            });\\n            ko.applyBindingsToNode(\\n                element,\\n                {\\n                    value: stringified,\\n                    valueUpdate: allBindings.get('valueUpdate'),\\n                },\\n                context,\\n            );\\n        }\\n    };\\n    var json_data = {\\\"options_js\\\":WebIO.getval({\\\"name\\\":\\\"options_js\\\",\\\"scope\\\":\\\"4553191827914530016\\\",\\\"id\\\":\\\"1675532653302250141\\\",\\\"type\\\":\\\"observable\\\"}),\\\"index\\\":WebIO.getval({\\\"name\\\":\\\"index\\\",\\\"scope\\\":\\\"4553191827914530016\\\",\\\"id\\\":\\\"5616952524097154523\\\",\\\"type\\\":\\\"observable\\\"})};\\n    var self = this;\\n    function AppViewModel() {\\n        for (var key in json_data) {\\n            var el = json_data[key];\\n            this[key] = Array.isArray(el) ? ko.observableArray(el) : ko.observable(el);\\n        }\\n        [this[\\\"update\\\"]=function (val) {this.index(val)}]\\n        \\n        [this[\\\"options_js\\\"].subscribe((function (val){!(this.valueFromJulia[\\\"options_js\\\"]) ? (WebIO.setval({\\\"name\\\":\\\"options_js\\\",\\\"scope\\\":\\\"4553191827914530016\\\",\\\"id\\\":\\\"1675532653302250141\\\",\\\"type\\\":\\\"observable\\\"},val)) : undefined; return this.valueFromJulia[\\\"options_js\\\"]=false}),self),this[\\\"index\\\"].subscribe((function (val){!(this.valueFromJulia[\\\"index\\\"]) ? (WebIO.setval({\\\"name\\\":\\\"index\\\",\\\"scope\\\":\\\"4553191827914530016\\\",\\\"id\\\":\\\"5616952524097154523\\\",\\\"type\\\":\\\"observable\\\"},val)) : undefined; return this.valueFromJulia[\\\"index\\\"]=false}),self)]\\n        \\n    }\\n    self.model = new AppViewModel();\\n    self.valueFromJulia = {};\\n    for (var key in json_data) {\\n        self.valueFromJulia[key] = false;\\n    }\\n    ko.applyBindings(self.model, self.dom);\\n}\\n);\\n    (WebIO.importBlock({\\\"data\\\":[{\\\"name\\\":\\\"knockout\\\",\\\"type\\\":\\\"js\\\",\\\"url\\\":\\\"/assetserver/7adbe83fac1553325d6e718d595ab555e1cabbe4-knockout.js\\\"},{\\\"name\\\":\\\"knockout_punches\\\",\\\"type\\\":\\\"js\\\",\\\"url\\\":\\\"/assetserver/cec8c4de011abc05b545afbaaea4bb4465a1f168-knockout_punches.js\\\"}],\\\"type\\\":\\\"async_block\\\"})).then((imports) => handler.apply(this, imports));\\n}\\n\")])], Dict{Symbol, Any}(:className => \"interact-widget\")), Node{WebIO.DOM}(WebIO.DOM(:html, :div), Any[Scope(Node{WebIO.DOM}(WebIO.DOM(:html, :div), Any[Node{WebIO.DOM}(WebIO.DOM(:html, :div), Any[Node{WebIO.DOM}(WebIO.DOM(:html, :label), Any[\"rg\"], Dict{Symbol, Any}(:className => \"interact \", :style => Dict{Any, Any}(:padding => \"5px 10px 0px 10px\")))], Dict{Symbol, Any}(:className => \"interact-flex-row-left\")), Node{WebIO.DOM}(WebIO.DOM(:html, :div), Any[Node{WebIO.DOM}(WebIO.DOM(:html, :div), Any[Node{WebIO.DOM}(WebIO.DOM(:html, :span), Any[Node{WebIO.DOM}(WebIO.DOM(:html, :label), Any[], Dict{Symbol, Any}(:attributes => Dict(\"data-bind\" => \"text : key\")))], Dict{Symbol, Any}(:attributes => Dict(\"data-bind\" => \"click: function (){\\$root.update(val)}, css: {'is-primary is-selected' : \\$root.index() == val, 'interact-widget is-medium button ' : true}\")))], Dict{Symbol, Any}(:attributes => (\"data-bind\" => \"foreach : options_js\"), :className => \"buttons has-addons is-centered\"))], Dict{Symbol, Any}(:className => \"interact-flex-row-center\")), Node{WebIO.DOM}(WebIO.DOM(:html, :div), Any[Node{WebIO.DOM}(WebIO.DOM(:html, :div), Any[], Dict{Symbol, Any}())], Dict{Symbol, Any}(:className => \"interact-flex-row-right\"))], Dict{Symbol, Any}(:className => \"interact-flex-row interact-widget\")), Dict{String, Tuple{Observables.AbstractObservable, Union{Nothing, Bool}}}(\"options_js\" => (Observable{Vector{OrderedDict}} with 1 listeners. Value:\n",
       "OrderedDict[OrderedDict{String, Any}(\"key\" => \"Region B\", \"val\" => 1, \"id\" => \"idBDyhl3gI\"), OrderedDict{String, Any}(\"key\" => \"Region C\", \"val\" => 2, \"id\" => \"idUIE3vSku\"), OrderedDict{String, Any}(\"key\" => \"Region A\", \"val\" => 3, \"id\" => \"idbcFYBjID\")], nothing), \"index\" => (Observable{Any} with 2 listeners. Value:\n",
       "1, nothing)), Set{String}(), nothing, Asset[Asset(\"js\", \"knockout\", \"/home/ubuntu/.julia/packages/Knockout/3gjS1/src/../assets/knockout.js\"), Asset(\"js\", \"knockout_punches\", \"/home/ubuntu/.julia/packages/Knockout/3gjS1/src/../assets/knockout_punches.js\"), Asset(\"js\", nothing, \"/home/ubuntu/.julia/packages/InteractBase/h8Fwe/src/../assets/all.js\"), Asset(\"css\", nothing, \"/home/ubuntu/.julia/packages/InteractBase/h8Fwe/src/../assets/style.css\"), Asset(\"css\", nothing, \"/home/ubuntu/.julia/packages/Interact/pVyN2/src/../assets/bulma_confined.min.css\")], Dict{Any, Any}(\"options_js\" => Any[WebIO.JSString(\"(function (val){return (val!=this.model[\\\"options_js\\\"]()) ? (this.valueFromJulia[\\\"options_js\\\"]=true, this.model[\\\"options_js\\\"](val)) : undefined})\")], \"index\" => Any[WebIO.JSString(\"(function (val){return (val!=this.model[\\\"index\\\"]()) ? (this.valueFromJulia[\\\"index\\\"]=true, this.model[\\\"index\\\"](val)) : undefined})\")]), WebIO.ConnectionPool(Channel{Any}(32), Set{AbstractConnection}(), Condition(Base.InvasiveLinkedList{Task}(Task (runnable) @0x00007f6e1f861cd0, Task (runnable) @0x00007f6e1f861cd0), Base.AlwaysLockedST(1))), WebIO.JSString[WebIO.JSString(\"function () {\\n    var handler = (function (ko, koPunches) {\\n    ko.punches.enableAll();\\n    ko.bindingHandlers.numericValue = {\\n        init: function(element, valueAccessor, allBindings, data, context) {\\n            var stringified = ko.observable(ko.unwrap(valueAccessor()));\\n            stringified.subscribe(function(value) {\\n                var val = parseFloat(value);\\n                if (!isNaN(val)) {\\n                    valueAccessor()(val);\\n                }\\n            });\\n            valueAccessor().subscribe(function(value) {\\n                var str = JSON.stringify(value);\\n                if ((str == \\\"0\\\") && ([\\\"-0\\\", \\\"-0.\\\"].indexOf(stringified()) >= 0))\\n                     return;\\n                 if ([\\\"null\\\", \\\"\\\"].indexOf(str) >= 0)\\n                     return;\\n                stringified(str);\\n            });\\n            ko.applyBindingsToNode(\\n                element,\\n                {\\n                    value: stringified,\\n                    valueUpdate: allBindings.get('valueUpdate'),\\n                },\\n                context,\\n            );\\n        }\\n    };\\n    var json_data = {\\\"options_js\\\":WebIO.getval({\\\"name\\\":\\\"options_js\\\",\\\"scope\\\":\\\"12974444920475097718\\\",\\\"id\\\":\\\"9778487130305084804\\\",\\\"type\\\":\\\"observable\\\"}),\\\"index\\\":WebIO.getval({\\\"name\\\":\\\"index\\\",\\\"scope\\\":\\\"12974444920475097718\\\",\\\"id\\\":\\\"3431689064991355076\\\",\\\"type\\\":\\\"observable\\\"})};\\n    var self = this;\\n    function AppViewModel() {\\n        for (var key in json_data) {\\n            var el = json_data[key];\\n            this[key] = Array.isArray(el) ? ko.observableArray(el) : ko.observable(el);\\n        }\\n        [this[\\\"update\\\"]=function (val) {this.index(val)}]\\n        \\n        [this[\\\"options_js\\\"].subscribe((function (val){!(this.valueFromJulia[\\\"options_js\\\"]) ? (WebIO.setval({\\\"name\\\":\\\"options_js\\\",\\\"scope\\\":\\\"12974444920475097718\\\",\\\"id\\\":\\\"9778487130305084804\\\",\\\"type\\\":\\\"observable\\\"},val)) : undefined; return this.valueFromJulia[\\\"options_js\\\"]=false}),self),this[\\\"index\\\"].subscribe((function (val){!(this.valueFromJulia[\\\"index\\\"]) ? (WebIO.setval({\\\"name\\\":\\\"index\\\",\\\"scope\\\":\\\"12974444920475097718\\\",\\\"id\\\":\\\"3431689064991355076\\\",\\\"type\\\":\\\"observable\\\"},val)) : undefined; return this.valueFromJulia[\\\"index\\\"]=false}),self)]\\n        \\n    }\\n    self.model = new AppViewModel();\\n    self.valueFromJulia = {};\\n    for (var key in json_data) {\\n        self.valueFromJulia[key] = false;\\n    }\\n    ko.applyBindings(self.model, self.dom);\\n}\\n);\\n    (WebIO.importBlock({\\\"data\\\":[{\\\"name\\\":\\\"knockout\\\",\\\"type\\\":\\\"js\\\",\\\"url\\\":\\\"/assetserver/7adbe83fac1553325d6e718d595ab555e1cabbe4-knockout.js\\\"},{\\\"name\\\":\\\"knockout_punches\\\",\\\"type\\\":\\\"js\\\",\\\"url\\\":\\\"/assetserver/cec8c4de011abc05b545afbaaea4bb4465a1f168-knockout_punches.js\\\"}],\\\"type\\\":\\\"async_block\\\"})).then((imports) => handler.apply(this, imports));\\n}\\n\")])], Dict{Symbol, Any}(:className => \"interact-widget\")), Node{WebIO.DOM}(WebIO.DOM(:html, :div), Any[Scope(Node{WebIO.DOM}(WebIO.DOM(:html, :div), Any[Node{WebIO.DOM}(WebIO.DOM(:html, :div), Any[Node{WebIO.DOM}(WebIO.DOM(:html, :label), Any[nothing], Dict{Symbol, Any}(:className => \"interact \", :style => Dict{Any, Any}(:padding => \"5px 10px 0px 10px\")))], Dict{Symbol, Any}(:className => \"interact-flex-row-left\")), Node{WebIO.DOM}(WebIO.DOM(:html, :div), Any[Node{WebIO.DOM}(WebIO.DOM(:html, :input), Any[], Dict{Symbol, Any}(:max => 3, :min => 1, :attributes => Dict{Any, Any}(:type => \"range\", Symbol(\"data-bind\") => \"numericValue: index, valueUpdate: 'input', event: {change: function (){this.changes(this.changes()+1)}}\", \"orient\" => \"horizontal\"), :step => 1, :className => \"slider slider is-fullwidth\", :style => Dict{Any, Any}()))], Dict{Symbol, Any}(:className => \"interact-flex-row-center\")), Node{WebIO.DOM}(WebIO.DOM(:html, :div), Any[Node{WebIO.DOM}(WebIO.DOM(:html, :p), Any[], Dict{Symbol, Any}(:attributes => Dict(\"data-bind\" => \"text: formatted_val\")))], Dict{Symbol, Any}(:className => \"interact-flex-row-right\"))], Dict{Symbol, Any}(:className => \"interact-flex-row interact-widget\")), Dict{String, Tuple{Observables.AbstractObservable, Union{Nothing, Bool}}}(\"changes\" => (Observable{Int64} with 1 listeners. Value:\n",
       "0, nothing), \"index\" => (Observable{Any} with 2 listeners. Value:\n",
       "2, nothing)), Set{String}(), nothing, Asset[Asset(\"js\", \"knockout\", \"/home/ubuntu/.julia/packages/Knockout/3gjS1/src/../assets/knockout.js\"), Asset(\"js\", \"knockout_punches\", \"/home/ubuntu/.julia/packages/Knockout/3gjS1/src/../assets/knockout_punches.js\"), Asset(\"js\", nothing, \"/home/ubuntu/.julia/packages/InteractBase/h8Fwe/src/../assets/all.js\"), Asset(\"css\", nothing, \"/home/ubuntu/.julia/packages/InteractBase/h8Fwe/src/../assets/style.css\"), Asset(\"css\", nothing, \"/home/ubuntu/.julia/packages/Interact/pVyN2/src/../assets/bulma_confined.min.css\")], Dict{Any, Any}(\"changes\" => Any[WebIO.JSString(\"(function (val){return (val!=this.model[\\\"changes\\\"]()) ? (this.valueFromJulia[\\\"changes\\\"]=true, this.model[\\\"changes\\\"](val)) : undefined})\")], \"index\" => Any[WebIO.JSString(\"(function (val){return (val!=this.model[\\\"index\\\"]()) ? (this.valueFromJulia[\\\"index\\\"]=true, this.model[\\\"index\\\"](val)) : undefined})\")]), WebIO.ConnectionPool(Channel{Any}(32), Set{AbstractConnection}(), Condition(Base.InvasiveLinkedList{Task}(Task (runnable) @0x00007f6e1f862120, Task (runnable) @0x00007f6e1f862120), Base.AlwaysLockedST(1))), WebIO.JSString[WebIO.JSString(\"function () {\\n    var handler = (function (ko, koPunches) {\\n    ko.punches.enableAll();\\n    ko.bindingHandlers.numericValue = {\\n        init: function(element, valueAccessor, allBindings, data, context) {\\n            var stringified = ko.observable(ko.unwrap(valueAccessor()));\\n            stringified.subscribe(function(value) {\\n                var val = parseFloat(value);\\n                if (!isNaN(val)) {\\n                    valueAccessor()(val);\\n                }\\n            });\\n            valueAccessor().subscribe(function(value) {\\n                var str = JSON.stringify(value);\\n                if ((str == \\\"0\\\") && ([\\\"-0\\\", \\\"-0.\\\"].indexOf(stringified()) >= 0))\\n                     return;\\n                 if ([\\\"null\\\", \\\"\\\"].indexOf(str) >= 0)\\n                     return;\\n                stringified(str);\\n            });\\n            ko.applyBindingsToNode(\\n                element,\\n                {\\n                    value: stringified,\\n                    valueUpdate: allBindings.get('valueUpdate'),\\n                },\\n                context,\\n            );\\n        }\\n    };\\n    var json_data = {\\\"formatted_vals\\\":[\\\"2020\\\",\\\"2021\\\",\\\"2022\\\"],\\\"changes\\\":WebIO.getval({\\\"name\\\":\\\"changes\\\",\\\"scope\\\":\\\"5722521323612265778\\\",\\\"id\\\":\\\"12401784872387149051\\\",\\\"type\\\":\\\"observable\\\"}),\\\"index\\\":WebIO.getval({\\\"name\\\":\\\"index\\\",\\\"scope\\\":\\\"5722521323612265778\\\",\\\"id\\\":\\\"5179928563461159415\\\",\\\"type\\\":\\\"observable\\\"})};\\n    var self = this;\\n    function AppViewModel() {\\n        for (var key in json_data) {\\n            var el = json_data[key];\\n            this[key] = Array.isArray(el) ? ko.observableArray(el) : ko.observable(el);\\n        }\\n        \\n        [this[\\\"formatted_val\\\"]=ko.computed(    function(){\\n        return this.formatted_vals()[parseInt(this.index())-(1)];\\n    }\\n,this)]\\n        [this[\\\"changes\\\"].subscribe((function (val){!(this.valueFromJulia[\\\"changes\\\"]) ? (WebIO.setval({\\\"name\\\":\\\"changes\\\",\\\"scope\\\":\\\"5722521323612265778\\\",\\\"id\\\":\\\"12401784872387149051\\\",\\\"type\\\":\\\"observable\\\"},val)) : undefined; return this.valueFromJulia[\\\"changes\\\"]=false}),self),this[\\\"index\\\"].subscribe((function (val){!(this.valueFromJulia[\\\"index\\\"]) ? (WebIO.setval({\\\"name\\\":\\\"index\\\",\\\"scope\\\":\\\"5722521323612265778\\\",\\\"id\\\":\\\"5179928563461159415\\\",\\\"type\\\":\\\"observable\\\"},val)) : undefined; return this.valueFromJulia[\\\"index\\\"]=false}),self)]\\n        \\n    }\\n    self.model = new AppViewModel();\\n    self.valueFromJulia = {};\\n    for (var key in json_data) {\\n        self.valueFromJulia[key] = false;\\n    }\\n    ko.applyBindings(self.model, self.dom);\\n}\\n);\\n    (WebIO.importBlock({\\\"data\\\":[{\\\"name\\\":\\\"knockout\\\",\\\"type\\\":\\\"js\\\",\\\"url\\\":\\\"/assetserver/7adbe83fac1553325d6e718d595ab555e1cabbe4-knockout.js\\\"},{\\\"name\\\":\\\"knockout_punches\\\",\\\"type\\\":\\\"js\\\",\\\"url\\\":\\\"/assetserver/cec8c4de011abc05b545afbaaea4bb4465a1f168-knockout_punches.js\\\"}],\\\"type\\\":\\\"async_block\\\"})).then((imports) => handler.apply(this, imports));\\n}\\n\")])], Dict{Symbol, Any}(:className => \"field interact-widget\")), Node{WebIO.DOM}(WebIO.DOM(:html, :div), Any[Scope(Node{WebIO.DOM}(WebIO.DOM(:html, :div), Any[Node{WebIO.DOM}(WebIO.DOM(:html, :div), Any[Node{WebIO.DOM}(WebIO.DOM(:html, :label), Any[\"qtr\"], Dict{Symbol, Any}(:className => \"interact \", :style => Dict{Any, Any}(:padding => \"5px 10px 0px 10px\")))], Dict{Symbol, Any}(:className => \"interact-flex-row-left\")), Node{WebIO.DOM}(WebIO.DOM(:html, :div), Any[Node{WebIO.DOM}(WebIO.DOM(:html, :input), Any[], Dict{Symbol, Any}(:max => 4, :min => 1, :attributes => Dict{Any, Any}(:type => \"range\", Symbol(\"data-bind\") => \"numericValue: index, valueUpdate: 'input', event: {change: function (){this.changes(this.changes()+1)}}\", \"orient\" => \"horizontal\"), :step => 1, :className => \"slider slider is-fullwidth\", :style => Dict{Any, Any}()))], Dict{Symbol, Any}(:className => \"interact-flex-row-center\")), Node{WebIO.DOM}(WebIO.DOM(:html, :div), Any[Node{WebIO.DOM}(WebIO.DOM(:html, :p), Any[], Dict{Symbol, Any}(:attributes => Dict(\"data-bind\" => \"text: formatted_val\")))], Dict{Symbol, Any}(:className => \"interact-flex-row-right\"))], Dict{Symbol, Any}(:className => \"interact-flex-row interact-widget\")), Dict{String, Tuple{Observables.AbstractObservable, Union{Nothing, Bool}}}(\"changes\" => (Observable{Int64} with 1 listeners. Value:\n",
       "0, nothing), \"index\" => (Observable{Any} with 2 listeners. Value:\n",
       "2, nothing)), Set{String}(), nothing, Asset[Asset(\"js\", \"knockout\", \"/home/ubuntu/.julia/packages/Knockout/3gjS1/src/../assets/knockout.js\"), Asset(\"js\", \"knockout_punches\", \"/home/ubuntu/.julia/packages/Knockout/3gjS1/src/../assets/knockout_punches.js\"), Asset(\"js\", nothing, \"/home/ubuntu/.julia/packages/InteractBase/h8Fwe/src/../assets/all.js\"), Asset(\"css\", nothing, \"/home/ubuntu/.julia/packages/InteractBase/h8Fwe/src/../assets/style.css\"), Asset(\"css\", nothing, \"/home/ubuntu/.julia/packages/Interact/pVyN2/src/../assets/bulma_confined.min.css\")], Dict{Any, Any}(\"changes\" => Any[WebIO.JSString(\"(function (val){return (val!=this.model[\\\"changes\\\"]()) ? (this.valueFromJulia[\\\"changes\\\"]=true, this.model[\\\"changes\\\"](val)) : undefined})\")], \"index\" => Any[WebIO.JSString(\"(function (val){return (val!=this.model[\\\"index\\\"]()) ? (this.valueFromJulia[\\\"index\\\"]=true, this.model[\\\"index\\\"](val)) : undefined})\")]), WebIO.ConnectionPool(Channel{Any}(32), Set{AbstractConnection}(), Condition(Base.InvasiveLinkedList{Task}(Task (runnable) @0x00007f6e1f862570, Task (runnable) @0x00007f6e1f862570), Base.AlwaysLockedST(1))), WebIO.JSString[WebIO.JSString(\"function () {\\n    var handler = (function (ko, koPunches) {\\n    ko.punches.enableAll();\\n    ko.bindingHandlers.numericValue = {\\n        init: function(element, valueAccessor, allBindings, data, context) {\\n            var stringified = ko.observable(ko.unwrap(valueAccessor()));\\n            stringified.subscribe(function(value) {\\n                var val = parseFloat(value);\\n                if (!isNaN(val)) {\\n                    valueAccessor()(val);\\n                }\\n            });\\n            valueAccessor().subscribe(function(value) {\\n                var str = JSON.stringify(value);\\n                if ((str == \\\"0\\\") && ([\\\"-0\\\", \\\"-0.\\\"].indexOf(stringified()) >= 0))\\n                     return;\\n                 if ([\\\"null\\\", \\\"\\\"].indexOf(str) >= 0)\\n                     return;\\n                stringified(str);\\n            });\\n            ko.applyBindingsToNode(\\n                element,\\n                {\\n                    value: stringified,\\n                    valueUpdate: allBindings.get('valueUpdate'),\\n                },\\n                context,\\n            );\\n        }\\n    };\\n    var json_data = {\\\"formatted_vals\\\":[\\\"1\\\",\\\"2\\\",\\\"3\\\",\\\"4\\\"],\\\"changes\\\":WebIO.getval({\\\"name\\\":\\\"changes\\\",\\\"scope\\\":\\\"1743783497720574001\\\",\\\"id\\\":\\\"7060980730091061168\\\",\\\"type\\\":\\\"observable\\\"}),\\\"index\\\":WebIO.getval({\\\"name\\\":\\\"index\\\",\\\"scope\\\":\\\"1743783497720574001\\\",\\\"id\\\":\\\"17928733378406303326\\\",\\\"type\\\":\\\"observable\\\"})};\\n    var self = this;\\n    function AppViewModel() {\\n        for (var key in json_data) {\\n            var el = json_data[key];\\n            this[key] = Array.isArray(el) ? ko.observableArray(el) : ko.observable(el);\\n        }\\n        \\n        [this[\\\"formatted_val\\\"]=ko.computed(    function(){\\n        return this.formatted_vals()[parseInt(this.index())-(1)];\\n    }\\n,this)]\\n        [this[\\\"changes\\\"].subscribe((function (val){!(this.valueFromJulia[\\\"changes\\\"]) ? (WebIO.setval({\\\"name\\\":\\\"changes\\\",\\\"scope\\\":\\\"1743783497720574001\\\",\\\"id\\\":\\\"7060980730091061168\\\",\\\"type\\\":\\\"observable\\\"},val)) : undefined; return this.valueFromJulia[\\\"changes\\\"]=false}),self),this[\\\"index\\\"].subscribe((function (val){!(this.valueFromJulia[\\\"index\\\"]) ? (WebIO.setval({\\\"name\\\":\\\"index\\\",\\\"scope\\\":\\\"1743783497720574001\\\",\\\"id\\\":\\\"17928733378406303326\\\",\\\"type\\\":\\\"observable\\\"},val)) : undefined; return this.valueFromJulia[\\\"index\\\"]=false}),self)]\\n        \\n    }\\n    self.model = new AppViewModel();\\n    self.valueFromJulia = {};\\n    for (var key in json_data) {\\n        self.valueFromJulia[key] = false;\\n    }\\n    ko.applyBindings(self.model, self.dom);\\n}\\n);\\n    (WebIO.importBlock({\\\"data\\\":[{\\\"name\\\":\\\"knockout\\\",\\\"type\\\":\\\"js\\\",\\\"url\\\":\\\"/assetserver/7adbe83fac1553325d6e718d595ab555e1cabbe4-knockout.js\\\"},{\\\"name\\\":\\\"knockout_punches\\\",\\\"type\\\":\\\"js\\\",\\\"url\\\":\\\"/assetserver/cec8c4de011abc05b545afbaaea4bb4465a1f168-knockout_punches.js\\\"}],\\\"type\\\":\\\"async_block\\\"})).then((imports) => handler.apply(this, imports));\\n}\\n\")])], Dict{Symbol, Any}(:className => \"field interact-widget\")), Observable{Node{WebIO.DOM}} with 0 listeners. Value:\n",
       "Node{WebIO.DOM}(WebIO.DOM(:html, :div), Any[\u001b[1m420×7 DataFrame\u001b[0m\n",
       "\u001b[1m Row \u001b[0m│\u001b[1m Org      \u001b[0m\u001b[1m FY    \u001b[0m\u001b[1m Qtr   \u001b[0m\u001b[1m Accounts               \u001b[0m\u001b[1m Dept     \u001b[0m\u001b[1m Loc          \u001b[0m ⋯\n",
       "\u001b[1m     \u001b[0m│\u001b[90m String   \u001b[0m\u001b[90m Int64 \u001b[0m\u001b[90m Int64 \u001b[0m\u001b[90m String                 \u001b[0m\u001b[90m String   \u001b[0m\u001b[90m String       \u001b[0m ⋯\n",
       "─────┼──────────────────────────────────────────────────────────────────────────\n",
       "   1 │ Region B   2021      2  ASSETS                  BUSINESS  Chicago       ⋯\n",
       "   2 │ Region B   2021      2  ASSETS                  IT        Kansas City\n",
       "   3 │ Region B   2021      2  LIABILITIES             HR        Boston\n",
       "   4 │ Region B   2021      2  LIABILITIES             HR        Kansas City\n",
       "   5 │ Region B   2021      2  ASSETS                  IT        Boston        ⋯\n",
       "   6 │ Region B   2021      2  NET_WORTH               BUSINESS  Richmond\n",
       "   7 │ Region B   2021      2  NET_WORTH               BUSINESS  Dallas\n",
       "   8 │ Region B   2021      2  ASSETS                  HR        Minneapolis\n",
       "   9 │ Region B   2021      2  LIABILITIES             OTHERS    Atlanta       ⋯\n",
       "  10 │ Region B   2021      2  STATISTICS              OTHERS    Minneapolis\n",
       "  11 │ Region B   2021      2  ASSETS                  IT        New York\n",
       "  ⋮  │    ⋮        ⋮      ⋮              ⋮                ⋮            ⋮       ⋱\n",
       " 411 │ Region B   2021      2  LIABILITIES             IT        Cleveland\n",
       " 412 │ Region B   2021      2  OPERATING_EXPENSES      SALES     Dallas        ⋯\n",
       " 413 │ Region B   2021      2  LIABILITIES             OTHERS    Kansas City\n",
       " 414 │ Region B   2021      2  NET_WORTH               SALES     Cleveland\n",
       " 415 │ Region B   2021      2  STATISTICS              HR        Boston\n",
       " 416 │ Region B   2021      2  NON-OPERATING_EXPENSES  SALES     Cleveland     ⋯\n",
       " 417 │ Region B   2021      2  ASSETS                  BUSINESS  Atlanta\n",
       " 418 │ Region B   2021      2  LIABILITIES             OTHERS    San Francisco\n",
       " 419 │ Region B   2021      2  REVENUE                 BUSINESS  Richmond\n",
       " 420 │ Region B   2021      2  NET_WORTH               SALES     Boston        ⋯\n",
       "\u001b[36m                                                   1 column and 399 rows omitted\u001b[0m], Dict{Symbol, Any}(:className => \"interact-flex-row interact-widget\"))], Dict{Symbol, Any}())"
      ]
     },
     "execution_count": 70,
     "metadata": {
      "application/vnd.webio.node+json": {
       "kernelId": "e2edb929-a595-4295-908e-4c215e475d45"
      }
     },
     "output_type": "execute_result"
    }
   ],
   "source": [
    "@manipulate for ld = Dict(\"Actuals\"=> \"Actuals\", \"Budget\" => \"Budget\"), \n",
    "                rg = Dict(\"Region A\"=> \"Region A\", \"Region B\" => \"Region B\", \"Region C\" => \"Region C\"),\n",
    "                yr = slider(2020:1:2022; value=2021),\n",
    "                qtr = 1:1:4\n",
    "    \n",
    "    @show ld, rg, yr, qtr\n",
    "    \n",
    "select(gdf_plot[(\n",
    "    (gdf_plot.FISCAL_YEAR .== yr)\n",
    "    .&\n",
    "    (gdf_plot.QTR .== qtr)\n",
    "    .&\n",
    "    (gdf_plot.LEDGER .== ld)\n",
    "    .&\n",
    "    (gdf_plot.OPER_UNIT .== rg)\n",
    "    ),:],\n",
    "        :OPER_UNIT => :Org,\n",
    "        :FISCAL_YEAR => :FY,\n",
    "        :QTR => :Qtr,\n",
    "        :ACCOUNTS_CLASSIFICATION => :Accounts,\n",
    "        :DEPT_CLASSIFICATION => :Dept,\n",
    "        # :LOCATION_CLASSIFICATION => :Region,\n",
    "        :LOCATION_DESCR => :Loc,\n",
    "        :TOTAL => :TOTAL)\n",
    "end"
   ]
  },
  {
   "cell_type": "markdown",
   "metadata": {},
   "source": [
    "### Income Statement (Interactive)"
   ]
  },
  {
   "cell_type": "code",
   "execution_count": 74,
   "metadata": {},
   "outputs": [
    {
     "name": "stdout",
     "output_type": "stream",
     "text": [
      "(ld, rg, yr, qtr) = (\"Actuals\", \"Region B\", 2021, 2)\n"
     ]
    },
    {
     "data": {
      "application/vnd.webio.node+json": {
       "children": [
        {
         "children": [
          {
           "children": [
            {
             "children": [
              {
               "children": [
                {
                 "children": [
                  "ld"
                 ],
                 "instanceArgs": {
                  "namespace": "html",
                  "tag": "label"
                 },
                 "nodeType": "DOM",
                 "props": {
                  "className": "interact ",
                  "style": {
                   "padding": "5px 10px 0px 10px"
                  }
                 },
                 "type": "node"
                }
               ],
               "instanceArgs": {
                "namespace": "html",
                "tag": "div"
               },
               "nodeType": "DOM",
               "props": {
                "className": "interact-flex-row-left"
               },
               "type": "node"
              },
              {
               "children": [
                {
                 "children": [
                  {
                   "children": [
                    {
                     "children": [],
                     "instanceArgs": {
                      "namespace": "html",
                      "tag": "label"
                     },
                     "nodeType": "DOM",
                     "props": {
                      "attributes": {
                       "data-bind": "text : key"
                      }
                     },
                     "type": "node"
                    }
                   ],
                   "instanceArgs": {
                    "namespace": "html",
                    "tag": "span"
                   },
                   "nodeType": "DOM",
                   "props": {
                    "attributes": {
                     "data-bind": "click: function (){$root.update(val)}, css: {'is-primary is-selected' : $root.index() == val, 'interact-widget is-medium button ' : true}"
                    }
                   },
                   "type": "node"
                  }
                 ],
                 "instanceArgs": {
                  "namespace": "html",
                  "tag": "div"
                 },
                 "nodeType": "DOM",
                 "props": {
                  "attributes": {
                   "data-bind": "foreach : options_js"
                  },
                  "className": "buttons has-addons is-centered"
                 },
                 "type": "node"
                }
               ],
               "instanceArgs": {
                "namespace": "html",
                "tag": "div"
               },
               "nodeType": "DOM",
               "props": {
                "className": "interact-flex-row-center"
               },
               "type": "node"
              },
              {
               "children": [
                {
                 "children": [],
                 "instanceArgs": {
                  "namespace": "html",
                  "tag": "div"
                 },
                 "nodeType": "DOM",
                 "props": {},
                 "type": "node"
                }
               ],
               "instanceArgs": {
                "namespace": "html",
                "tag": "div"
               },
               "nodeType": "DOM",
               "props": {
                "className": "interact-flex-row-right"
               },
               "type": "node"
              }
             ],
             "instanceArgs": {
              "namespace": "html",
              "tag": "div"
             },
             "nodeType": "DOM",
             "props": {
              "className": "interact-flex-row interact-widget"
             },
             "type": "node"
            }
           ],
           "instanceArgs": {
            "handlers": {
             "index": [
              "(function (val){return (val!=this.model[\"index\"]()) ? (this.valueFromJulia[\"index\"]=true, this.model[\"index\"](val)) : undefined})"
             ],
             "options_js": [
              "(function (val){return (val!=this.model[\"options_js\"]()) ? (this.valueFromJulia[\"options_js\"]=true, this.model[\"options_js\"](val)) : undefined})"
             ]
            },
            "id": "3761771998763380936",
            "imports": {
             "data": [
              {
               "name": "knockout",
               "type": "js",
               "url": "/assetserver/7adbe83fac1553325d6e718d595ab555e1cabbe4-knockout.js"
              },
              {
               "name": "knockout_punches",
               "type": "js",
               "url": "/assetserver/cec8c4de011abc05b545afbaaea4bb4465a1f168-knockout_punches.js"
              },
              {
               "name": null,
               "type": "js",
               "url": "/assetserver/5ddeec2b33e792dac4326b9b8929eb841863a558-all.js"
              },
              {
               "name": null,
               "type": "css",
               "url": "/assetserver/a04b7b754438af5b294cd7f1d762c01dae6fade5-style.css"
              },
              {
               "name": null,
               "type": "css",
               "url": "/assetserver/50b13cf07303023836f4115fe93a8fe3eca4721a-bulma_confined.min.css"
              }
             ],
             "type": "async_block"
            },
            "mount_callbacks": [
             "function () {\n    var handler = (function (ko, koPunches) {\n    ko.punches.enableAll();\n    ko.bindingHandlers.numericValue = {\n        init: function(element, valueAccessor, allBindings, data, context) {\n            var stringified = ko.observable(ko.unwrap(valueAccessor()));\n            stringified.subscribe(function(value) {\n                var val = parseFloat(value);\n                if (!isNaN(val)) {\n                    valueAccessor()(val);\n                }\n            });\n            valueAccessor().subscribe(function(value) {\n                var str = JSON.stringify(value);\n                if ((str == \"0\") && ([\"-0\", \"-0.\"].indexOf(stringified()) >= 0))\n                     return;\n                 if ([\"null\", \"\"].indexOf(str) >= 0)\n                     return;\n                stringified(str);\n            });\n            ko.applyBindingsToNode(\n                element,\n                {\n                    value: stringified,\n                    valueUpdate: allBindings.get('valueUpdate'),\n                },\n                context,\n            );\n        }\n    };\n    var json_data = {\"options_js\":WebIO.getval({\"name\":\"options_js\",\"scope\":\"3761771998763380936\",\"id\":\"15109083274705896194\",\"type\":\"observable\"}),\"index\":WebIO.getval({\"name\":\"index\",\"scope\":\"3761771998763380936\",\"id\":\"5371304709671703266\",\"type\":\"observable\"})};\n    var self = this;\n    function AppViewModel() {\n        for (var key in json_data) {\n            var el = json_data[key];\n            this[key] = Array.isArray(el) ? ko.observableArray(el) : ko.observable(el);\n        }\n        [this[\"update\"]=function (val) {this.index(val)}]\n        \n        [this[\"options_js\"].subscribe((function (val){!(this.valueFromJulia[\"options_js\"]) ? (WebIO.setval({\"name\":\"options_js\",\"scope\":\"3761771998763380936\",\"id\":\"15109083274705896194\",\"type\":\"observable\"},val)) : undefined; return this.valueFromJulia[\"options_js\"]=false}),self),this[\"index\"].subscribe((function (val){!(this.valueFromJulia[\"index\"]) ? (WebIO.setval({\"name\":\"index\",\"scope\":\"3761771998763380936\",\"id\":\"5371304709671703266\",\"type\":\"observable\"},val)) : undefined; return this.valueFromJulia[\"index\"]=false}),self)]\n        \n    }\n    self.model = new AppViewModel();\n    self.valueFromJulia = {};\n    for (var key in json_data) {\n        self.valueFromJulia[key] = false;\n    }\n    ko.applyBindings(self.model, self.dom);\n}\n);\n    (WebIO.importBlock({\"data\":[{\"name\":\"knockout\",\"type\":\"js\",\"url\":\"/assetserver/7adbe83fac1553325d6e718d595ab555e1cabbe4-knockout.js\"},{\"name\":\"knockout_punches\",\"type\":\"js\",\"url\":\"/assetserver/cec8c4de011abc05b545afbaaea4bb4465a1f168-knockout_punches.js\"}],\"type\":\"async_block\"})).then((imports) => handler.apply(this, imports));\n}\n"
            ],
            "observables": {
             "index": {
              "id": "5371304709671703266",
              "sync": true,
              "value": 1
             },
             "options_js": {
              "id": "15109083274705896194",
              "sync": false,
              "value": [
               {
                "id": "id7S4U0Wvl",
                "key": "Actuals",
                "val": 1
               },
               {
                "id": "idPCG4XiaU",
                "key": "Budget",
                "val": 2
               }
              ]
             }
            },
            "systemjs_options": null
           },
           "nodeType": "Scope",
           "props": {},
           "type": "node"
          }
         ],
         "instanceArgs": {
          "namespace": "html",
          "tag": "div"
         },
         "nodeType": "DOM",
         "props": {
          "className": "interact-widget"
         },
         "type": "node"
        },
        {
         "children": [
          {
           "children": [
            {
             "children": [
              {
               "children": [
                {
                 "children": [
                  "rg"
                 ],
                 "instanceArgs": {
                  "namespace": "html",
                  "tag": "label"
                 },
                 "nodeType": "DOM",
                 "props": {
                  "className": "interact ",
                  "style": {
                   "padding": "5px 10px 0px 10px"
                  }
                 },
                 "type": "node"
                }
               ],
               "instanceArgs": {
                "namespace": "html",
                "tag": "div"
               },
               "nodeType": "DOM",
               "props": {
                "className": "interact-flex-row-left"
               },
               "type": "node"
              },
              {
               "children": [
                {
                 "children": [
                  {
                   "children": [
                    {
                     "children": [],
                     "instanceArgs": {
                      "namespace": "html",
                      "tag": "label"
                     },
                     "nodeType": "DOM",
                     "props": {
                      "attributes": {
                       "data-bind": "text : key"
                      }
                     },
                     "type": "node"
                    }
                   ],
                   "instanceArgs": {
                    "namespace": "html",
                    "tag": "span"
                   },
                   "nodeType": "DOM",
                   "props": {
                    "attributes": {
                     "data-bind": "click: function (){$root.update(val)}, css: {'is-primary is-selected' : $root.index() == val, 'interact-widget is-medium button ' : true}"
                    }
                   },
                   "type": "node"
                  }
                 ],
                 "instanceArgs": {
                  "namespace": "html",
                  "tag": "div"
                 },
                 "nodeType": "DOM",
                 "props": {
                  "attributes": {
                   "data-bind": "foreach : options_js"
                  },
                  "className": "buttons has-addons is-centered"
                 },
                 "type": "node"
                }
               ],
               "instanceArgs": {
                "namespace": "html",
                "tag": "div"
               },
               "nodeType": "DOM",
               "props": {
                "className": "interact-flex-row-center"
               },
               "type": "node"
              },
              {
               "children": [
                {
                 "children": [],
                 "instanceArgs": {
                  "namespace": "html",
                  "tag": "div"
                 },
                 "nodeType": "DOM",
                 "props": {},
                 "type": "node"
                }
               ],
               "instanceArgs": {
                "namespace": "html",
                "tag": "div"
               },
               "nodeType": "DOM",
               "props": {
                "className": "interact-flex-row-right"
               },
               "type": "node"
              }
             ],
             "instanceArgs": {
              "namespace": "html",
              "tag": "div"
             },
             "nodeType": "DOM",
             "props": {
              "className": "interact-flex-row interact-widget"
             },
             "type": "node"
            }
           ],
           "instanceArgs": {
            "handlers": {
             "index": [
              "(function (val){return (val!=this.model[\"index\"]()) ? (this.valueFromJulia[\"index\"]=true, this.model[\"index\"](val)) : undefined})"
             ],
             "options_js": [
              "(function (val){return (val!=this.model[\"options_js\"]()) ? (this.valueFromJulia[\"options_js\"]=true, this.model[\"options_js\"](val)) : undefined})"
             ]
            },
            "id": "4336181307449966138",
            "imports": {
             "data": [
              {
               "name": "knockout",
               "type": "js",
               "url": "/assetserver/7adbe83fac1553325d6e718d595ab555e1cabbe4-knockout.js"
              },
              {
               "name": "knockout_punches",
               "type": "js",
               "url": "/assetserver/cec8c4de011abc05b545afbaaea4bb4465a1f168-knockout_punches.js"
              },
              {
               "name": null,
               "type": "js",
               "url": "/assetserver/5ddeec2b33e792dac4326b9b8929eb841863a558-all.js"
              },
              {
               "name": null,
               "type": "css",
               "url": "/assetserver/a04b7b754438af5b294cd7f1d762c01dae6fade5-style.css"
              },
              {
               "name": null,
               "type": "css",
               "url": "/assetserver/50b13cf07303023836f4115fe93a8fe3eca4721a-bulma_confined.min.css"
              }
             ],
             "type": "async_block"
            },
            "mount_callbacks": [
             "function () {\n    var handler = (function (ko, koPunches) {\n    ko.punches.enableAll();\n    ko.bindingHandlers.numericValue = {\n        init: function(element, valueAccessor, allBindings, data, context) {\n            var stringified = ko.observable(ko.unwrap(valueAccessor()));\n            stringified.subscribe(function(value) {\n                var val = parseFloat(value);\n                if (!isNaN(val)) {\n                    valueAccessor()(val);\n                }\n            });\n            valueAccessor().subscribe(function(value) {\n                var str = JSON.stringify(value);\n                if ((str == \"0\") && ([\"-0\", \"-0.\"].indexOf(stringified()) >= 0))\n                     return;\n                 if ([\"null\", \"\"].indexOf(str) >= 0)\n                     return;\n                stringified(str);\n            });\n            ko.applyBindingsToNode(\n                element,\n                {\n                    value: stringified,\n                    valueUpdate: allBindings.get('valueUpdate'),\n                },\n                context,\n            );\n        }\n    };\n    var json_data = {\"options_js\":WebIO.getval({\"name\":\"options_js\",\"scope\":\"4336181307449966138\",\"id\":\"17402697954747100342\",\"type\":\"observable\"}),\"index\":WebIO.getval({\"name\":\"index\",\"scope\":\"4336181307449966138\",\"id\":\"8989126355364358398\",\"type\":\"observable\"})};\n    var self = this;\n    function AppViewModel() {\n        for (var key in json_data) {\n            var el = json_data[key];\n            this[key] = Array.isArray(el) ? ko.observableArray(el) : ko.observable(el);\n        }\n        [this[\"update\"]=function (val) {this.index(val)}]\n        \n        [this[\"options_js\"].subscribe((function (val){!(this.valueFromJulia[\"options_js\"]) ? (WebIO.setval({\"name\":\"options_js\",\"scope\":\"4336181307449966138\",\"id\":\"17402697954747100342\",\"type\":\"observable\"},val)) : undefined; return this.valueFromJulia[\"options_js\"]=false}),self),this[\"index\"].subscribe((function (val){!(this.valueFromJulia[\"index\"]) ? (WebIO.setval({\"name\":\"index\",\"scope\":\"4336181307449966138\",\"id\":\"8989126355364358398\",\"type\":\"observable\"},val)) : undefined; return this.valueFromJulia[\"index\"]=false}),self)]\n        \n    }\n    self.model = new AppViewModel();\n    self.valueFromJulia = {};\n    for (var key in json_data) {\n        self.valueFromJulia[key] = false;\n    }\n    ko.applyBindings(self.model, self.dom);\n}\n);\n    (WebIO.importBlock({\"data\":[{\"name\":\"knockout\",\"type\":\"js\",\"url\":\"/assetserver/7adbe83fac1553325d6e718d595ab555e1cabbe4-knockout.js\"},{\"name\":\"knockout_punches\",\"type\":\"js\",\"url\":\"/assetserver/cec8c4de011abc05b545afbaaea4bb4465a1f168-knockout_punches.js\"}],\"type\":\"async_block\"})).then((imports) => handler.apply(this, imports));\n}\n"
            ],
            "observables": {
             "index": {
              "id": "8989126355364358398",
              "sync": true,
              "value": 1
             },
             "options_js": {
              "id": "17402697954747100342",
              "sync": false,
              "value": [
               {
                "id": "idGoqQj3Rd",
                "key": "Region B",
                "val": 1
               },
               {
                "id": "idUNiW9Xlc",
                "key": "Region C",
                "val": 2
               },
               {
                "id": "idgDHJAkg8",
                "key": "Region A",
                "val": 3
               }
              ]
             }
            },
            "systemjs_options": null
           },
           "nodeType": "Scope",
           "props": {},
           "type": "node"
          }
         ],
         "instanceArgs": {
          "namespace": "html",
          "tag": "div"
         },
         "nodeType": "DOM",
         "props": {
          "className": "interact-widget"
         },
         "type": "node"
        },
        {
         "children": [
          {
           "children": [
            {
             "children": [
              {
               "children": [
                {
                 "children": [
                  ""
                 ],
                 "instanceArgs": {
                  "namespace": "html",
                  "tag": "label"
                 },
                 "nodeType": "DOM",
                 "props": {
                  "className": "interact ",
                  "style": {
                   "padding": "5px 10px 0px 10px"
                  }
                 },
                 "type": "node"
                }
               ],
               "instanceArgs": {
                "namespace": "html",
                "tag": "div"
               },
               "nodeType": "DOM",
               "props": {
                "className": "interact-flex-row-left"
               },
               "type": "node"
              },
              {
               "children": [
                {
                 "children": [],
                 "instanceArgs": {
                  "namespace": "html",
                  "tag": "input"
                 },
                 "nodeType": "DOM",
                 "props": {
                  "attributes": {
                   "data-bind": "numericValue: index, valueUpdate: 'input', event: {change: function (){this.changes(this.changes()+1)}}",
                   "orient": "horizontal",
                   "type": "range"
                  },
                  "className": "slider slider is-fullwidth",
                  "max": 3,
                  "min": 1,
                  "step": 1,
                  "style": {}
                 },
                 "type": "node"
                }
               ],
               "instanceArgs": {
                "namespace": "html",
                "tag": "div"
               },
               "nodeType": "DOM",
               "props": {
                "className": "interact-flex-row-center"
               },
               "type": "node"
              },
              {
               "children": [
                {
                 "children": [],
                 "instanceArgs": {
                  "namespace": "html",
                  "tag": "p"
                 },
                 "nodeType": "DOM",
                 "props": {
                  "attributes": {
                   "data-bind": "text: formatted_val"
                  }
                 },
                 "type": "node"
                }
               ],
               "instanceArgs": {
                "namespace": "html",
                "tag": "div"
               },
               "nodeType": "DOM",
               "props": {
                "className": "interact-flex-row-right"
               },
               "type": "node"
              }
             ],
             "instanceArgs": {
              "namespace": "html",
              "tag": "div"
             },
             "nodeType": "DOM",
             "props": {
              "className": "interact-flex-row interact-widget"
             },
             "type": "node"
            }
           ],
           "instanceArgs": {
            "handlers": {
             "changes": [
              "(function (val){return (val!=this.model[\"changes\"]()) ? (this.valueFromJulia[\"changes\"]=true, this.model[\"changes\"](val)) : undefined})"
             ],
             "index": [
              "(function (val){return (val!=this.model[\"index\"]()) ? (this.valueFromJulia[\"index\"]=true, this.model[\"index\"](val)) : undefined})"
             ]
            },
            "id": "14953592395855329131",
            "imports": {
             "data": [
              {
               "name": "knockout",
               "type": "js",
               "url": "/assetserver/7adbe83fac1553325d6e718d595ab555e1cabbe4-knockout.js"
              },
              {
               "name": "knockout_punches",
               "type": "js",
               "url": "/assetserver/cec8c4de011abc05b545afbaaea4bb4465a1f168-knockout_punches.js"
              },
              {
               "name": null,
               "type": "js",
               "url": "/assetserver/5ddeec2b33e792dac4326b9b8929eb841863a558-all.js"
              },
              {
               "name": null,
               "type": "css",
               "url": "/assetserver/a04b7b754438af5b294cd7f1d762c01dae6fade5-style.css"
              },
              {
               "name": null,
               "type": "css",
               "url": "/assetserver/50b13cf07303023836f4115fe93a8fe3eca4721a-bulma_confined.min.css"
              }
             ],
             "type": "async_block"
            },
            "mount_callbacks": [
             "function () {\n    var handler = (function (ko, koPunches) {\n    ko.punches.enableAll();\n    ko.bindingHandlers.numericValue = {\n        init: function(element, valueAccessor, allBindings, data, context) {\n            var stringified = ko.observable(ko.unwrap(valueAccessor()));\n            stringified.subscribe(function(value) {\n                var val = parseFloat(value);\n                if (!isNaN(val)) {\n                    valueAccessor()(val);\n                }\n            });\n            valueAccessor().subscribe(function(value) {\n                var str = JSON.stringify(value);\n                if ((str == \"0\") && ([\"-0\", \"-0.\"].indexOf(stringified()) >= 0))\n                     return;\n                 if ([\"null\", \"\"].indexOf(str) >= 0)\n                     return;\n                stringified(str);\n            });\n            ko.applyBindingsToNode(\n                element,\n                {\n                    value: stringified,\n                    valueUpdate: allBindings.get('valueUpdate'),\n                },\n                context,\n            );\n        }\n    };\n    var json_data = {\"formatted_vals\":[\"2020\",\"2021\",\"2022\"],\"changes\":WebIO.getval({\"name\":\"changes\",\"scope\":\"14953592395855329131\",\"id\":\"17655851537122789273\",\"type\":\"observable\"}),\"index\":WebIO.getval({\"name\":\"index\",\"scope\":\"14953592395855329131\",\"id\":\"4124786012300562105\",\"type\":\"observable\"})};\n    var self = this;\n    function AppViewModel() {\n        for (var key in json_data) {\n            var el = json_data[key];\n            this[key] = Array.isArray(el) ? ko.observableArray(el) : ko.observable(el);\n        }\n        \n        [this[\"formatted_val\"]=ko.computed(    function(){\n        return this.formatted_vals()[parseInt(this.index())-(1)];\n    }\n,this)]\n        [this[\"changes\"].subscribe((function (val){!(this.valueFromJulia[\"changes\"]) ? (WebIO.setval({\"name\":\"changes\",\"scope\":\"14953592395855329131\",\"id\":\"17655851537122789273\",\"type\":\"observable\"},val)) : undefined; return this.valueFromJulia[\"changes\"]=false}),self),this[\"index\"].subscribe((function (val){!(this.valueFromJulia[\"index\"]) ? (WebIO.setval({\"name\":\"index\",\"scope\":\"14953592395855329131\",\"id\":\"4124786012300562105\",\"type\":\"observable\"},val)) : undefined; return this.valueFromJulia[\"index\"]=false}),self)]\n        \n    }\n    self.model = new AppViewModel();\n    self.valueFromJulia = {};\n    for (var key in json_data) {\n        self.valueFromJulia[key] = false;\n    }\n    ko.applyBindings(self.model, self.dom);\n}\n);\n    (WebIO.importBlock({\"data\":[{\"name\":\"knockout\",\"type\":\"js\",\"url\":\"/assetserver/7adbe83fac1553325d6e718d595ab555e1cabbe4-knockout.js\"},{\"name\":\"knockout_punches\",\"type\":\"js\",\"url\":\"/assetserver/cec8c4de011abc05b545afbaaea4bb4465a1f168-knockout_punches.js\"}],\"type\":\"async_block\"})).then((imports) => handler.apply(this, imports));\n}\n"
            ],
            "observables": {
             "changes": {
              "id": "17655851537122789273",
              "sync": false,
              "value": 0
             },
             "index": {
              "id": "4124786012300562105",
              "sync": true,
              "value": 2
             }
            },
            "systemjs_options": null
           },
           "nodeType": "Scope",
           "props": {},
           "type": "node"
          }
         ],
         "instanceArgs": {
          "namespace": "html",
          "tag": "div"
         },
         "nodeType": "DOM",
         "props": {
          "className": "field interact-widget"
         },
         "type": "node"
        },
        {
         "children": [
          {
           "children": [
            {
             "children": [
              {
               "children": [
                {
                 "children": [
                  "qtr"
                 ],
                 "instanceArgs": {
                  "namespace": "html",
                  "tag": "label"
                 },
                 "nodeType": "DOM",
                 "props": {
                  "className": "interact ",
                  "style": {
                   "padding": "5px 10px 0px 10px"
                  }
                 },
                 "type": "node"
                }
               ],
               "instanceArgs": {
                "namespace": "html",
                "tag": "div"
               },
               "nodeType": "DOM",
               "props": {
                "className": "interact-flex-row-left"
               },
               "type": "node"
              },
              {
               "children": [
                {
                 "children": [],
                 "instanceArgs": {
                  "namespace": "html",
                  "tag": "input"
                 },
                 "nodeType": "DOM",
                 "props": {
                  "attributes": {
                   "data-bind": "numericValue: index, valueUpdate: 'input', event: {change: function (){this.changes(this.changes()+1)}}",
                   "orient": "horizontal",
                   "type": "range"
                  },
                  "className": "slider slider is-fullwidth",
                  "max": 4,
                  "min": 1,
                  "step": 1,
                  "style": {}
                 },
                 "type": "node"
                }
               ],
               "instanceArgs": {
                "namespace": "html",
                "tag": "div"
               },
               "nodeType": "DOM",
               "props": {
                "className": "interact-flex-row-center"
               },
               "type": "node"
              },
              {
               "children": [
                {
                 "children": [],
                 "instanceArgs": {
                  "namespace": "html",
                  "tag": "p"
                 },
                 "nodeType": "DOM",
                 "props": {
                  "attributes": {
                   "data-bind": "text: formatted_val"
                  }
                 },
                 "type": "node"
                }
               ],
               "instanceArgs": {
                "namespace": "html",
                "tag": "div"
               },
               "nodeType": "DOM",
               "props": {
                "className": "interact-flex-row-right"
               },
               "type": "node"
              }
             ],
             "instanceArgs": {
              "namespace": "html",
              "tag": "div"
             },
             "nodeType": "DOM",
             "props": {
              "className": "interact-flex-row interact-widget"
             },
             "type": "node"
            }
           ],
           "instanceArgs": {
            "handlers": {
             "changes": [
              "(function (val){return (val!=this.model[\"changes\"]()) ? (this.valueFromJulia[\"changes\"]=true, this.model[\"changes\"](val)) : undefined})"
             ],
             "index": [
              "(function (val){return (val!=this.model[\"index\"]()) ? (this.valueFromJulia[\"index\"]=true, this.model[\"index\"](val)) : undefined})"
             ]
            },
            "id": "14818083701553036238",
            "imports": {
             "data": [
              {
               "name": "knockout",
               "type": "js",
               "url": "/assetserver/7adbe83fac1553325d6e718d595ab555e1cabbe4-knockout.js"
              },
              {
               "name": "knockout_punches",
               "type": "js",
               "url": "/assetserver/cec8c4de011abc05b545afbaaea4bb4465a1f168-knockout_punches.js"
              },
              {
               "name": null,
               "type": "js",
               "url": "/assetserver/5ddeec2b33e792dac4326b9b8929eb841863a558-all.js"
              },
              {
               "name": null,
               "type": "css",
               "url": "/assetserver/a04b7b754438af5b294cd7f1d762c01dae6fade5-style.css"
              },
              {
               "name": null,
               "type": "css",
               "url": "/assetserver/50b13cf07303023836f4115fe93a8fe3eca4721a-bulma_confined.min.css"
              }
             ],
             "type": "async_block"
            },
            "mount_callbacks": [
             "function () {\n    var handler = (function (ko, koPunches) {\n    ko.punches.enableAll();\n    ko.bindingHandlers.numericValue = {\n        init: function(element, valueAccessor, allBindings, data, context) {\n            var stringified = ko.observable(ko.unwrap(valueAccessor()));\n            stringified.subscribe(function(value) {\n                var val = parseFloat(value);\n                if (!isNaN(val)) {\n                    valueAccessor()(val);\n                }\n            });\n            valueAccessor().subscribe(function(value) {\n                var str = JSON.stringify(value);\n                if ((str == \"0\") && ([\"-0\", \"-0.\"].indexOf(stringified()) >= 0))\n                     return;\n                 if ([\"null\", \"\"].indexOf(str) >= 0)\n                     return;\n                stringified(str);\n            });\n            ko.applyBindingsToNode(\n                element,\n                {\n                    value: stringified,\n                    valueUpdate: allBindings.get('valueUpdate'),\n                },\n                context,\n            );\n        }\n    };\n    var json_data = {\"formatted_vals\":[\"1\",\"2\",\"3\",\"4\"],\"changes\":WebIO.getval({\"name\":\"changes\",\"scope\":\"14818083701553036238\",\"id\":\"6173039353171651400\",\"type\":\"observable\"}),\"index\":WebIO.getval({\"name\":\"index\",\"scope\":\"14818083701553036238\",\"id\":\"16913260558254817926\",\"type\":\"observable\"})};\n    var self = this;\n    function AppViewModel() {\n        for (var key in json_data) {\n            var el = json_data[key];\n            this[key] = Array.isArray(el) ? ko.observableArray(el) : ko.observable(el);\n        }\n        \n        [this[\"formatted_val\"]=ko.computed(    function(){\n        return this.formatted_vals()[parseInt(this.index())-(1)];\n    }\n,this)]\n        [this[\"changes\"].subscribe((function (val){!(this.valueFromJulia[\"changes\"]) ? (WebIO.setval({\"name\":\"changes\",\"scope\":\"14818083701553036238\",\"id\":\"6173039353171651400\",\"type\":\"observable\"},val)) : undefined; return this.valueFromJulia[\"changes\"]=false}),self),this[\"index\"].subscribe((function (val){!(this.valueFromJulia[\"index\"]) ? (WebIO.setval({\"name\":\"index\",\"scope\":\"14818083701553036238\",\"id\":\"16913260558254817926\",\"type\":\"observable\"},val)) : undefined; return this.valueFromJulia[\"index\"]=false}),self)]\n        \n    }\n    self.model = new AppViewModel();\n    self.valueFromJulia = {};\n    for (var key in json_data) {\n        self.valueFromJulia[key] = false;\n    }\n    ko.applyBindings(self.model, self.dom);\n}\n);\n    (WebIO.importBlock({\"data\":[{\"name\":\"knockout\",\"type\":\"js\",\"url\":\"/assetserver/7adbe83fac1553325d6e718d595ab555e1cabbe4-knockout.js\"},{\"name\":\"knockout_punches\",\"type\":\"js\",\"url\":\"/assetserver/cec8c4de011abc05b545afbaaea4bb4465a1f168-knockout_punches.js\"}],\"type\":\"async_block\"})).then((imports) => handler.apply(this, imports));\n}\n"
            ],
            "observables": {
             "changes": {
              "id": "6173039353171651400",
              "sync": false,
              "value": 0
             },
             "index": {
              "id": "16913260558254817926",
              "sync": true,
              "value": 2
             }
            },
            "systemjs_options": null
           },
           "nodeType": "Scope",
           "props": {},
           "type": "node"
          }
         ],
         "instanceArgs": {
          "namespace": "html",
          "tag": "div"
         },
         "nodeType": "DOM",
         "props": {
          "className": "field interact-widget"
         },
         "type": "node"
        },
        {
         "children": [
          {
           "children": [],
           "instanceArgs": {
            "id": "7752241234742913497",
            "name": "obs-node"
           },
           "nodeType": "ObservableNode",
           "props": {},
           "type": "node"
          }
         ],
         "instanceArgs": {
          "handlers": {},
          "id": "16625298001420689963",
          "imports": {
           "data": [],
           "type": "async_block"
          },
          "mount_callbacks": [],
          "observables": {
           "obs-node": {
            "id": "7752241234742913497",
            "sync": false,
            "value": {
             "children": [
              {
               "children": [],
               "instanceArgs": {
                "namespace": "html",
                "tag": "div"
               },
               "nodeType": "DOM",
               "props": {
                "setInnerHtml": "<div class=\"data-frame\"><p>240 rows × 7 columns</p><table class=\"data-frame\"><thead><tr><th></th><th>Org</th><th>FY</th><th>Qtr</th><th>Accounts</th><th>Dept</th><th>Loc</th><th>TOTAL</th></tr><tr><th></th><th title=\"String\">String</th><th title=\"Int64\">Int64</th><th title=\"Int64\">Int64</th><th title=\"String\">String</th><th title=\"String\">String</th><th title=\"String\">String</th><th title=\"String\">String</th></tr></thead><tbody><tr><th>1</th><td>Region B</td><td>2021</td><td>2</td><td>ASSETS</td><td>BUSINESS</td><td>Chicago</td><td>USD 2927.75 million</td></tr><tr><th>2</th><td>Region B</td><td>2021</td><td>2</td><td>ASSETS</td><td>IT</td><td>Kansas City</td><td>USD 3679.04 million</td></tr><tr><th>3</th><td>Region B</td><td>2021</td><td>2</td><td>LIABILITIES</td><td>HR</td><td>Boston</td><td>USD 3366.97 million</td></tr><tr><th>4</th><td>Region B</td><td>2021</td><td>2</td><td>LIABILITIES</td><td>HR</td><td>Kansas City</td><td>USD 4426.61 million</td></tr><tr><th>5</th><td>Region B</td><td>2021</td><td>2</td><td>ASSETS</td><td>IT</td><td>Boston</td><td>USD 3718.08 million</td></tr><tr><th>6</th><td>Region B</td><td>2021</td><td>2</td><td>NET_WORTH</td><td>BUSINESS</td><td>Richmond</td><td>USD 4920.64 million</td></tr><tr><th>7</th><td>Region B</td><td>2021</td><td>2</td><td>NET_WORTH</td><td>BUSINESS</td><td>Dallas</td><td>USD 4340.47 million</td></tr><tr><th>8</th><td>Region B</td><td>2021</td><td>2</td><td>ASSETS</td><td>HR</td><td>Minneapolis</td><td>USD 4236.49 million</td></tr><tr><th>9</th><td>Region B</td><td>2021</td><td>2</td><td>LIABILITIES</td><td>OTHERS</td><td>Atlanta</td><td>USD 4722.91 million</td></tr><tr><th>10</th><td>Region B</td><td>2021</td><td>2</td><td>ASSETS</td><td>IT</td><td>New York</td><td>USD 2814.95 million</td></tr><tr><th>11</th><td>Region B</td><td>2021</td><td>2</td><td>REVENUE</td><td>IT</td><td>Kansas City</td><td>USD 4229.35 million</td></tr><tr><th>12</th><td>Region B</td><td>2021</td><td>2</td><td>ASSETS</td><td>IT</td><td>Minneapolis</td><td>USD 3701.1 million</td></tr><tr><th>13</th><td>Region B</td><td>2021</td><td>2</td><td>REVENUE</td><td>SALES</td><td>Dallas</td><td>USD 4293.15 million</td></tr><tr><th>14</th><td>Region B</td><td>2021</td><td>2</td><td>REVENUE</td><td>SALES</td><td>Atlanta</td><td>USD 4514.03 million</td></tr><tr><th>15</th><td>Region B</td><td>2021</td><td>2</td><td>ASSETS</td><td>IT</td><td>St. Louis</td><td>USD 4379.15 million</td></tr><tr><th>16</th><td>Region B</td><td>2021</td><td>2</td><td>REVENUE</td><td>HR</td><td>Kansas City</td><td>USD 3930.82 million</td></tr><tr><th>17</th><td>Region B</td><td>2021</td><td>2</td><td>REVENUE</td><td>HR</td><td>Minneapolis</td><td>USD 3704.31 million</td></tr><tr><th>18</th><td>Region B</td><td>2021</td><td>2</td><td>ASSETS</td><td>OTHERS</td><td>Atlanta</td><td>USD 3886.59 million</td></tr><tr><th>19</th><td>Region B</td><td>2021</td><td>2</td><td>LIABILITIES</td><td>SALES</td><td>Kansas City</td><td>USD 3989.38 million</td></tr><tr><th>20</th><td>Region B</td><td>2021</td><td>2</td><td>LIABILITIES</td><td>BUSINESS</td><td>Chicago</td><td>USD 4094.48 million</td></tr><tr><th>21</th><td>Region B</td><td>2021</td><td>2</td><td>REVENUE</td><td>HR</td><td>Dallas</td><td>USD 4035.68 million</td></tr><tr><th>22</th><td>Region B</td><td>2021</td><td>2</td><td>NET_WORTH</td><td>IT</td><td>Kansas City</td><td>USD 4517.92 million</td></tr><tr><th>23</th><td>Region B</td><td>2021</td><td>2</td><td>LIABILITIES</td><td>BUSINESS</td><td>Philadelphia</td><td>USD 4014.79 million</td></tr><tr><th>24</th><td>Region B</td><td>2021</td><td>2</td><td>REVENUE</td><td>IT</td><td>Minneapolis</td><td>USD 4380.33 million</td></tr><tr><th>25</th><td>Region B</td><td>2021</td><td>2</td><td>NET_WORTH</td><td>SALES</td><td>St. Louis</td><td>USD 4159.4 million</td></tr><tr><th>26</th><td>Region B</td><td>2021</td><td>2</td><td>NET_WORTH</td><td>IT</td><td>New York</td><td>USD 3188.83 million</td></tr><tr><th>27</th><td>Region B</td><td>2021</td><td>2</td><td>REVENUE</td><td>BUSINESS</td><td>Cleveland</td><td>USD 4254.26 million</td></tr><tr><th>28</th><td>Region B</td><td>2021</td><td>2</td><td>LIABILITIES</td><td>HR</td><td>Dallas</td><td>USD 4102.33 million</td></tr><tr><th>29</th><td>Region B</td><td>2021</td><td>2</td><td>ASSETS</td><td>HR</td><td>Philadelphia</td><td>USD 3531.2 million</td></tr><tr><th>30</th><td>Region B</td><td>2021</td><td>2</td><td>REVENUE</td><td>BUSINESS</td><td>Kansas City</td><td>USD 4124.16 million</td></tr><tr><th>31</th><td>Region B</td><td>2021</td><td>2</td><td>LIABILITIES</td><td>IT</td><td>San Francisco</td><td>USD 4360.83 million</td></tr><tr><th>32</th><td>Region B</td><td>2021</td><td>2</td><td>ASSETS</td><td>HR</td><td>San Francisco</td><td>USD 3434.48 million</td></tr><tr><th>33</th><td>Region B</td><td>2021</td><td>2</td><td>LIABILITIES</td><td>OTHERS</td><td>Richmond</td><td>USD 3276.13 million</td></tr><tr><th>34</th><td>Region B</td><td>2021</td><td>2</td><td>LIABILITIES</td><td>SALES</td><td>Dallas</td><td>USD 4967.3 million</td></tr><tr><th>35</th><td>Region B</td><td>2021</td><td>2</td><td>LIABILITIES</td><td>OTHERS</td><td>New York</td><td>USD 4319.92 million</td></tr><tr><th>36</th><td>Region B</td><td>2021</td><td>2</td><td>REVENUE</td><td>SALES</td><td>Boston</td><td>USD 3360.4 million</td></tr><tr><th>37</th><td>Region B</td><td>2021</td><td>2</td><td>REVENUE</td><td>HR</td><td>Chicago</td><td>USD 3432.36 million</td></tr><tr><th>38</th><td>Region B</td><td>2021</td><td>2</td><td>ASSETS</td><td>IT</td><td>Richmond</td><td>USD 5079.14 million</td></tr><tr><th>39</th><td>Region B</td><td>2021</td><td>2</td><td>LIABILITIES</td><td>IT</td><td>Kansas City</td><td>USD 4333.98 million</td></tr><tr><th>40</th><td>Region B</td><td>2021</td><td>2</td><td>LIABILITIES</td><td>HR</td><td>Atlanta</td><td>USD 4060.7 million</td></tr><tr><th>41</th><td>Region B</td><td>2021</td><td>2</td><td>LIABILITIES</td><td>SALES</td><td>St. Louis</td><td>USD 3610.67 million</td></tr><tr><th>42</th><td>Region B</td><td>2021</td><td>2</td><td>LIABILITIES</td><td>BUSINESS</td><td>New York</td><td>USD 3946.96 million</td></tr><tr><th>43</th><td>Region B</td><td>2021</td><td>2</td><td>REVENUE</td><td>SALES</td><td>Richmond</td><td>USD 3989.12 million</td></tr><tr><th>44</th><td>Region B</td><td>2021</td><td>2</td><td>NET_WORTH</td><td>OTHERS</td><td>Minneapolis</td><td>USD 3946.48 million</td></tr><tr><th>45</th><td>Region B</td><td>2021</td><td>2</td><td>REVENUE</td><td>BUSINESS</td><td>Philadelphia</td><td>USD 4336.77 million</td></tr><tr><th>46</th><td>Region B</td><td>2021</td><td>2</td><td>NET_WORTH</td><td>HR</td><td>Boston</td><td>USD 4441.45 million</td></tr><tr><th>47</th><td>Region B</td><td>2021</td><td>2</td><td>ASSETS</td><td>HR</td><td>Boston</td><td>USD 3936.15 million</td></tr><tr><th>48</th><td>Region B</td><td>2021</td><td>2</td><td>NET_WORTH</td><td>SALES</td><td>New York</td><td>USD 4387.21 million</td></tr><tr><th>49</th><td>Region B</td><td>2021</td><td>2</td><td>LIABILITIES</td><td>OTHERS</td><td>Philadelphia</td><td>USD 3716.0 million</td></tr><tr><th>50</th><td>Region B</td><td>2021</td><td>2</td><td>REVENUE</td><td>IT</td><td>San Francisco</td><td>USD 3595.44 million</td></tr><tr><th>51</th><td>Region B</td><td>2021</td><td>2</td><td>LIABILITIES</td><td>IT</td><td>Atlanta</td><td>USD 4550.14 million</td></tr><tr><th>52</th><td>Region B</td><td>2021</td><td>2</td><td>ASSETS</td><td>BUSINESS</td><td>San Francisco</td><td>USD 3551.8 million</td></tr><tr><th>53</th><td>Region B</td><td>2021</td><td>2</td><td>LIABILITIES</td><td>BUSINESS</td><td>Cleveland</td><td>USD 4128.36 million</td></tr><tr><th>54</th><td>Region B</td><td>2021</td><td>2</td><td>LIABILITIES</td><td>SALES</td><td>Minneapolis</td><td>USD 3977.95 million</td></tr><tr><th>55</th><td>Region B</td><td>2021</td><td>2</td><td>LIABILITIES</td><td>BUSINESS</td><td>Dallas</td><td>USD 4372.22 million</td></tr><tr><th>56</th><td>Region B</td><td>2021</td><td>2</td><td>ASSETS</td><td>BUSINESS</td><td>Minneapolis</td><td>USD 3389.76 million</td></tr><tr><th>57</th><td>Region B</td><td>2021</td><td>2</td><td>ASSETS</td><td>OTHERS</td><td>Dallas</td><td>USD 3479.14 million</td></tr><tr><th>58</th><td>Region B</td><td>2021</td><td>2</td><td>REVENUE</td><td>IT</td><td>St. Louis</td><td>USD 3169.37 million</td></tr><tr><th>59</th><td>Region B</td><td>2021</td><td>2</td><td>ASSETS</td><td>SALES</td><td>Chicago</td><td>USD 5198.92 million</td></tr><tr><th>60</th><td>Region B</td><td>2021</td><td>2</td><td>LIABILITIES</td><td>SALES</td><td>Philadelphia</td><td>USD 4950.36 million</td></tr><tr><th>61</th><td>Region B</td><td>2021</td><td>2</td><td>LIABILITIES</td><td>SALES</td><td>San Francisco</td><td>USD 2795.71 million</td></tr><tr><th>62</th><td>Region B</td><td>2021</td><td>2</td><td>NET_WORTH</td><td>BUSINESS</td><td>Boston</td><td>USD 3265.08 million</td></tr><tr><th>63</th><td>Region B</td><td>2021</td><td>2</td><td>LIABILITIES</td><td>IT</td><td>Minneapolis</td><td>USD 4052.36 million</td></tr><tr><th>64</th><td>Region B</td><td>2021</td><td>2</td><td>REVENUE</td><td>OTHERS</td><td>Minneapolis</td><td>USD 4447.38 million</td></tr><tr><th>65</th><td>Region B</td><td>2021</td><td>2</td><td>REVENUE</td><td>IT</td><td>Atlanta</td><td>USD 3115.91 million</td></tr><tr><th>66</th><td>Region B</td><td>2021</td><td>2</td><td>NET_WORTH</td><td>SALES</td><td>Atlanta</td><td>USD 3413.11 million</td></tr><tr><th>67</th><td>Region B</td><td>2021</td><td>2</td><td>NET_WORTH</td><td>IT</td><td>Dallas</td><td>USD 3816.01 million</td></tr><tr><th>68</th><td>Region B</td><td>2021</td><td>2</td><td>REVENUE</td><td>BUSINESS</td><td>Dallas</td><td>USD 4967.77 million</td></tr><tr><th>69</th><td>Region B</td><td>2021</td><td>2</td><td>ASSETS</td><td>IT</td><td>Philadelphia</td><td>USD 4418.53 million</td></tr><tr><th>70</th><td>Region B</td><td>2021</td><td>2</td><td>ASSETS</td><td>SALES</td><td>Cleveland</td><td>USD 3870.36 million</td></tr><tr><th>71</th><td>Region B</td><td>2021</td><td>2</td><td>REVENUE</td><td>SALES</td><td>Chicago</td><td>USD 4357.64 million</td></tr><tr><th>72</th><td>Region B</td><td>2021</td><td>2</td><td>NET_WORTH</td><td>BUSINESS</td><td>Cleveland</td><td>USD 4409.45 million</td></tr><tr><th>73</th><td>Region B</td><td>2021</td><td>2</td><td>NET_WORTH</td><td>IT</td><td>Philadelphia</td><td>USD 4453.4 million</td></tr><tr><th>74</th><td>Region B</td><td>2021</td><td>2</td><td>ASSETS</td><td>BUSINESS</td><td>Cleveland</td><td>USD 3311.77 million</td></tr><tr><th>75</th><td>Region B</td><td>2021</td><td>2</td><td>NET_WORTH</td><td>HR</td><td>Minneapolis</td><td>USD 4014.41 million</td></tr><tr><th>76</th><td>Region B</td><td>2021</td><td>2</td><td>NET_WORTH</td><td>HR</td><td>New York</td><td>USD 3894.27 million</td></tr><tr><th>77</th><td>Region B</td><td>2021</td><td>2</td><td>NET_WORTH</td><td>OTHERS</td><td>Chicago</td><td>USD 4884.47 million</td></tr><tr><th>78</th><td>Region B</td><td>2021</td><td>2</td><td>REVENUE</td><td>HR</td><td>Boston</td><td>USD 4325.35 million</td></tr><tr><th>79</th><td>Region B</td><td>2021</td><td>2</td><td>NET_WORTH</td><td>HR</td><td>Philadelphia</td><td>USD 4389.43 million</td></tr><tr><th>80</th><td>Region B</td><td>2021</td><td>2</td><td>NET_WORTH</td><td>OTHERS</td><td>San Francisco</td><td>USD 4509.67 million</td></tr><tr><th>81</th><td>Region B</td><td>2021</td><td>2</td><td>REVENUE</td><td>SALES</td><td>Cleveland</td><td>USD 4025.75 million</td></tr><tr><th>82</th><td>Region B</td><td>2021</td><td>2</td><td>NET_WORTH</td><td>SALES</td><td>Kansas City</td><td>USD 3843.43 million</td></tr><tr><th>83</th><td>Region B</td><td>2021</td><td>2</td><td>NET_WORTH</td><td>BUSINESS</td><td>Chicago</td><td>USD 4303.44 million</td></tr><tr><th>84</th><td>Region B</td><td>2021</td><td>2</td><td>ASSETS</td><td>SALES</td><td>Kansas City</td><td>USD 3904.23 million</td></tr><tr><th>85</th><td>Region B</td><td>2021</td><td>2</td><td>REVENUE</td><td>BUSINESS</td><td>St. Louis</td><td>USD 4021.63 million</td></tr><tr><th>86</th><td>Region B</td><td>2021</td><td>2</td><td>ASSETS</td><td>SALES</td><td>Richmond</td><td>USD 3532.09 million</td></tr><tr><th>87</th><td>Region B</td><td>2021</td><td>2</td><td>REVENUE</td><td>IT</td><td>Philadelphia</td><td>USD 3778.69 million</td></tr><tr><th>88</th><td>Region B</td><td>2021</td><td>2</td><td>ASSETS</td><td>OTHERS</td><td>Kansas City</td><td>USD 4350.03 million</td></tr><tr><th>89</th><td>Region B</td><td>2021</td><td>2</td><td>NET_WORTH</td><td>IT</td><td>St. Louis</td><td>USD 3808.57 million</td></tr><tr><th>90</th><td>Region B</td><td>2021</td><td>2</td><td>ASSETS</td><td>BUSINESS</td><td>New York</td><td>USD 3660.31 million</td></tr><tr><th>91</th><td>Region B</td><td>2021</td><td>2</td><td>NET_WORTH</td><td>IT</td><td>Chicago</td><td>USD 3828.41 million</td></tr><tr><th>92</th><td>Region B</td><td>2021</td><td>2</td><td>LIABILITIES</td><td>HR</td><td>Cleveland</td><td>USD 4264.54 million</td></tr><tr><th>93</th><td>Region B</td><td>2021</td><td>2</td><td>LIABILITIES</td><td>IT</td><td>Dallas</td><td>USD 3955.2 million</td></tr><tr><th>94</th><td>Region B</td><td>2021</td><td>2</td><td>ASSETS</td><td>BUSINESS</td><td>Dallas</td><td>USD 3490.1 million</td></tr><tr><th>95</th><td>Region B</td><td>2021</td><td>2</td><td>LIABILITIES</td><td>SALES</td><td>Chicago</td><td>USD 3707.97 million</td></tr><tr><th>96</th><td>Region B</td><td>2021</td><td>2</td><td>NET_WORTH</td><td>IT</td><td>Minneapolis</td><td>USD 4193.11 million</td></tr><tr><th>97</th><td>Region B</td><td>2021</td><td>2</td><td>REVENUE</td><td>OTHERS</td><td>Richmond</td><td>USD 3603.43 million</td></tr><tr><th>98</th><td>Region B</td><td>2021</td><td>2</td><td>NET_WORTH</td><td>HR</td><td>St. Louis</td><td>USD 3695.22 million</td></tr><tr><th>99</th><td>Region B</td><td>2021</td><td>2</td><td>REVENUE</td><td>OTHERS</td><td>St. Louis</td><td>USD 4403.11 million</td></tr><tr><th>100</th><td>Region B</td><td>2021</td><td>2</td><td>LIABILITIES</td><td>BUSINESS</td><td>Kansas City</td><td>USD 4180.52 million</td></tr><tr><th>101</th><td>Region B</td><td>2021</td><td>2</td><td>ASSETS</td><td>OTHERS</td><td>Philadelphia</td><td>USD 4340.48 million</td></tr><tr><th>102</th><td>Region B</td><td>2021</td><td>2</td><td>NET_WORTH</td><td>OTHERS</td><td>Richmond</td><td>USD 3637.72 million</td></tr><tr><th>103</th><td>Region B</td><td>2021</td><td>2</td><td>NET_WORTH</td><td>BUSINESS</td><td>Atlanta</td><td>USD 3819.95 million</td></tr><tr><th>104</th><td>Region B</td><td>2021</td><td>2</td><td>LIABILITIES</td><td>IT</td><td>St. Louis</td><td>USD 4330.74 million</td></tr><tr><th>105</th><td>Region B</td><td>2021</td><td>2</td><td>LIABILITIES</td><td>HR</td><td>Chicago</td><td>USD 4462.25 million</td></tr><tr><th>106</th><td>Region B</td><td>2021</td><td>2</td><td>LIABILITIES</td><td>IT</td><td>Richmond</td><td>USD 3847.22 million</td></tr><tr><th>107</th><td>Region B</td><td>2021</td><td>2</td><td>ASSETS</td><td>IT</td><td>Chicago</td><td>USD 4822.65 million</td></tr><tr><th>108</th><td>Region B</td><td>2021</td><td>2</td><td>NET_WORTH</td><td>HR</td><td>San Francisco</td><td>USD 3416.2 million</td></tr><tr><th>109</th><td>Region B</td><td>2021</td><td>2</td><td>REVENUE</td><td>HR</td><td>San Francisco</td><td>USD 4190.61 million</td></tr><tr><th>110</th><td>Region B</td><td>2021</td><td>2</td><td>REVENUE</td><td>HR</td><td>St. Louis</td><td>USD 3361.44 million</td></tr><tr><th>111</th><td>Region B</td><td>2021</td><td>2</td><td>LIABILITIES</td><td>OTHERS</td><td>Chicago</td><td>USD 3493.54 million</td></tr><tr><th>112</th><td>Region B</td><td>2021</td><td>2</td><td>NET_WORTH</td><td>OTHERS</td><td>Philadelphia</td><td>USD 4183.27 million</td></tr><tr><th>113</th><td>Region B</td><td>2021</td><td>2</td><td>LIABILITIES</td><td>IT</td><td>Chicago</td><td>USD 3485.87 million</td></tr><tr><th>114</th><td>Region B</td><td>2021</td><td>2</td><td>LIABILITIES</td><td>HR</td><td>Philadelphia</td><td>USD 3707.13 million</td></tr><tr><th>115</th><td>Region B</td><td>2021</td><td>2</td><td>REVENUE</td><td>OTHERS</td><td>Kansas City</td><td>USD 3214.86 million</td></tr><tr><th>116</th><td>Region B</td><td>2021</td><td>2</td><td>ASSETS</td><td>SALES</td><td>Boston</td><td>USD 3922.61 million</td></tr><tr><th>117</th><td>Region B</td><td>2021</td><td>2</td><td>REVENUE</td><td>OTHERS</td><td>San Francisco</td><td>USD 3555.88 million</td></tr><tr><th>118</th><td>Region B</td><td>2021</td><td>2</td><td>NET_WORTH</td><td>OTHERS</td><td>Boston</td><td>USD 4289.68 million</td></tr><tr><th>119</th><td>Region B</td><td>2021</td><td>2</td><td>REVENUE</td><td>HR</td><td>New York</td><td>USD 4009.5 million</td></tr><tr><th>120</th><td>Region B</td><td>2021</td><td>2</td><td>LIABILITIES</td><td>HR</td><td>St. Louis</td><td>USD 3378.73 million</td></tr><tr><th>121</th><td>Region B</td><td>2021</td><td>2</td><td>LIABILITIES</td><td>IT</td><td>Philadelphia</td><td>USD 4527.18 million</td></tr><tr><th>122</th><td>Region B</td><td>2021</td><td>2</td><td>REVENUE</td><td>BUSINESS</td><td>Minneapolis</td><td>USD 4334.13 million</td></tr><tr><th>123</th><td>Region B</td><td>2021</td><td>2</td><td>LIABILITIES</td><td>HR</td><td>Richmond</td><td>USD 3778.13 million</td></tr><tr><th>124</th><td>Region B</td><td>2021</td><td>2</td><td>ASSETS</td><td>HR</td><td>Cleveland</td><td>USD 3856.62 million</td></tr><tr><th>125</th><td>Region B</td><td>2021</td><td>2</td><td>ASSETS</td><td>HR</td><td>Chicago</td><td>USD 4201.79 million</td></tr><tr><th>126</th><td>Region B</td><td>2021</td><td>2</td><td>NET_WORTH</td><td>IT</td><td>San Francisco</td><td>USD 4081.03 million</td></tr><tr><th>127</th><td>Region B</td><td>2021</td><td>2</td><td>LIABILITIES</td><td>BUSINESS</td><td>Minneapolis</td><td>USD 4606.12 million</td></tr><tr><th>128</th><td>Region B</td><td>2021</td><td>2</td><td>NET_WORTH</td><td>SALES</td><td>Dallas</td><td>USD 4755.48 million</td></tr><tr><th>129</th><td>Region B</td><td>2021</td><td>2</td><td>LIABILITIES</td><td>OTHERS</td><td>Boston</td><td>USD 4478.02 million</td></tr><tr><th>130</th><td>Region B</td><td>2021</td><td>2</td><td>LIABILITIES</td><td>BUSINESS</td><td>San Francisco</td><td>USD 3061.28 million</td></tr><tr><th>131</th><td>Region B</td><td>2021</td><td>2</td><td>LIABILITIES</td><td>BUSINESS</td><td>Richmond</td><td>USD 4323.81 million</td></tr><tr><th>132</th><td>Region B</td><td>2021</td><td>2</td><td>NET_WORTH</td><td>HR</td><td>Cleveland</td><td>USD 3443.24 million</td></tr><tr><th>133</th><td>Region B</td><td>2021</td><td>2</td><td>ASSETS</td><td>OTHERS</td><td>Minneapolis</td><td>USD 3868.44 million</td></tr><tr><th>134</th><td>Region B</td><td>2021</td><td>2</td><td>NET_WORTH</td><td>SALES</td><td>San Francisco</td><td>USD 3124.19 million</td></tr><tr><th>135</th><td>Region B</td><td>2021</td><td>2</td><td>ASSETS</td><td>OTHERS</td><td>St. Louis</td><td>USD 3942.33 million</td></tr><tr><th>136</th><td>Region B</td><td>2021</td><td>2</td><td>ASSETS</td><td>SALES</td><td>Dallas</td><td>USD 3754.68 million</td></tr><tr><th>137</th><td>Region B</td><td>2021</td><td>2</td><td>ASSETS</td><td>SALES</td><td>Minneapolis</td><td>USD 2638.33 million</td></tr><tr><th>138</th><td>Region B</td><td>2021</td><td>2</td><td>ASSETS</td><td>OTHERS</td><td>Cleveland</td><td>USD 4146.61 million</td></tr><tr><th>139</th><td>Region B</td><td>2021</td><td>2</td><td>ASSETS</td><td>OTHERS</td><td>Chicago</td><td>USD 3917.89 million</td></tr><tr><th>140</th><td>Region B</td><td>2021</td><td>2</td><td>NET_WORTH</td><td>IT</td><td>Atlanta</td><td>USD 3295.98 million</td></tr><tr><th>141</th><td>Region B</td><td>2021</td><td>2</td><td>REVENUE</td><td>IT</td><td>Dallas</td><td>USD 3887.11 million</td></tr><tr><th>142</th><td>Region B</td><td>2021</td><td>2</td><td>REVENUE</td><td>HR</td><td>Atlanta</td><td>USD 3989.15 million</td></tr><tr><th>143</th><td>Region B</td><td>2021</td><td>2</td><td>REVENUE</td><td>HR</td><td>Cleveland</td><td>USD 3983.46 million</td></tr><tr><th>144</th><td>Region B</td><td>2021</td><td>2</td><td>NET_WORTH</td><td>SALES</td><td>Chicago</td><td>USD 4376.57 million</td></tr><tr><th>145</th><td>Region B</td><td>2021</td><td>2</td><td>ASSETS</td><td>OTHERS</td><td>Boston</td><td>USD 3927.45 million</td></tr><tr><th>146</th><td>Region B</td><td>2021</td><td>2</td><td>REVENUE</td><td>OTHERS</td><td>New York</td><td>USD 3263.27 million</td></tr><tr><th>147</th><td>Region B</td><td>2021</td><td>2</td><td>NET_WORTH</td><td>BUSINESS</td><td>Philadelphia</td><td>USD 3411.73 million</td></tr><tr><th>148</th><td>Region B</td><td>2021</td><td>2</td><td>LIABILITIES</td><td>SALES</td><td>Boston</td><td>USD 3520.68 million</td></tr><tr><th>149</th><td>Region B</td><td>2021</td><td>2</td><td>REVENUE</td><td>SALES</td><td>New York</td><td>USD 4735.84 million</td></tr><tr><th>150</th><td>Region B</td><td>2021</td><td>2</td><td>LIABILITIES</td><td>BUSINESS</td><td>St. Louis</td><td>USD 3669.81 million</td></tr><tr><th>151</th><td>Region B</td><td>2021</td><td>2</td><td>NET_WORTH</td><td>SALES</td><td>Minneapolis</td><td>USD 4296.49 million</td></tr><tr><th>152</th><td>Region B</td><td>2021</td><td>2</td><td>ASSETS</td><td>BUSINESS</td><td>Richmond</td><td>USD 3916.94 million</td></tr><tr><th>153</th><td>Region B</td><td>2021</td><td>2</td><td>NET_WORTH</td><td>HR</td><td>Kansas City</td><td>USD 4378.44 million</td></tr><tr><th>154</th><td>Region B</td><td>2021</td><td>2</td><td>ASSETS</td><td>HR</td><td>New York</td><td>USD 4182.17 million</td></tr><tr><th>155</th><td>Region B</td><td>2021</td><td>2</td><td>NET_WORTH</td><td>SALES</td><td>Philadelphia</td><td>USD 4345.23 million</td></tr><tr><th>156</th><td>Region B</td><td>2021</td><td>2</td><td>NET_WORTH</td><td>IT</td><td>Cleveland</td><td>USD 3787.16 million</td></tr><tr><th>157</th><td>Region B</td><td>2021</td><td>2</td><td>ASSETS</td><td>OTHERS</td><td>Richmond</td><td>USD 3765.26 million</td></tr><tr><th>158</th><td>Region B</td><td>2021</td><td>2</td><td>ASSETS</td><td>HR</td><td>St. Louis</td><td>USD 4655.51 million</td></tr><tr><th>159</th><td>Region B</td><td>2021</td><td>2</td><td>ASSETS</td><td>IT</td><td>Cleveland</td><td>USD 5150.0 million</td></tr><tr><th>160</th><td>Region B</td><td>2021</td><td>2</td><td>LIABILITIES</td><td>IT</td><td>New York</td><td>USD 3921.97 million</td></tr><tr><th>161</th><td>Region B</td><td>2021</td><td>2</td><td>LIABILITIES</td><td>HR</td><td>Minneapolis</td><td>USD 4332.34 million</td></tr><tr><th>162</th><td>Region B</td><td>2021</td><td>2</td><td>REVENUE</td><td>OTHERS</td><td>Boston</td><td>USD 4221.1 million</td></tr><tr><th>163</th><td>Region B</td><td>2021</td><td>2</td><td>REVENUE</td><td>SALES</td><td>Philadelphia</td><td>USD 4518.49 million</td></tr><tr><th>164</th><td>Region B</td><td>2021</td><td>2</td><td>ASSETS</td><td>IT</td><td>San Francisco</td><td>USD 3803.69 million</td></tr><tr><th>165</th><td>Region B</td><td>2021</td><td>2</td><td>ASSETS</td><td>IT</td><td>Atlanta</td><td>USD 3630.48 million</td></tr><tr><th>166</th><td>Region B</td><td>2021</td><td>2</td><td>REVENUE</td><td>IT</td><td>New York</td><td>USD 4389.13 million</td></tr><tr><th>167</th><td>Region B</td><td>2021</td><td>2</td><td>NET_WORTH</td><td>HR</td><td>Richmond</td><td>USD 4715.37 million</td></tr><tr><th>168</th><td>Region B</td><td>2021</td><td>2</td><td>REVENUE</td><td>IT</td><td>Richmond</td><td>USD 3878.62 million</td></tr><tr><th>169</th><td>Region B</td><td>2021</td><td>2</td><td>REVENUE</td><td>SALES</td><td>Minneapolis</td><td>USD 3874.8 million</td></tr><tr><th>170</th><td>Region B</td><td>2021</td><td>2</td><td>REVENUE</td><td>BUSINESS</td><td>Boston</td><td>USD 4498.18 million</td></tr><tr><th>171</th><td>Region B</td><td>2021</td><td>2</td><td>LIABILITIES</td><td>SALES</td><td>Cleveland</td><td>USD 3943.81 million</td></tr><tr><th>172</th><td>Region B</td><td>2021</td><td>2</td><td>NET_WORTH</td><td>OTHERS</td><td>Dallas</td><td>USD 4998.53 million</td></tr><tr><th>173</th><td>Region B</td><td>2021</td><td>2</td><td>ASSETS</td><td>SALES</td><td>St. Louis</td><td>USD 4250.38 million</td></tr><tr><th>174</th><td>Region B</td><td>2021</td><td>2</td><td>LIABILITIES</td><td>OTHERS</td><td>Cleveland</td><td>USD 4440.21 million</td></tr><tr><th>175</th><td>Region B</td><td>2021</td><td>2</td><td>LIABILITIES</td><td>OTHERS</td><td>St. Louis</td><td>USD 4461.69 million</td></tr><tr><th>176</th><td>Region B</td><td>2021</td><td>2</td><td>NET_WORTH</td><td>IT</td><td>Boston</td><td>USD 4448.35 million</td></tr><tr><th>177</th><td>Region B</td><td>2021</td><td>2</td><td>NET_WORTH</td><td>BUSINESS</td><td>Minneapolis</td><td>USD 4480.38 million</td></tr><tr><th>178</th><td>Region B</td><td>2021</td><td>2</td><td>ASSETS</td><td>BUSINESS</td><td>St. Louis</td><td>USD 3544.04 million</td></tr><tr><th>179</th><td>Region B</td><td>2021</td><td>2</td><td>LIABILITIES</td><td>HR</td><td>New York</td><td>USD 3549.84 million</td></tr><tr><th>180</th><td>Region B</td><td>2021</td><td>2</td><td>LIABILITIES</td><td>SALES</td><td>New York</td><td>USD 4387.0 million</td></tr><tr><th>181</th><td>Region B</td><td>2021</td><td>2</td><td>REVENUE</td><td>OTHERS</td><td>Dallas</td><td>USD 3616.4 million</td></tr><tr><th>182</th><td>Region B</td><td>2021</td><td>2</td><td>REVENUE</td><td>IT</td><td>Chicago</td><td>USD 3961.33 million</td></tr><tr><th>183</th><td>Region B</td><td>2021</td><td>2</td><td>REVENUE</td><td>BUSINESS</td><td>New York</td><td>USD 3625.01 million</td></tr><tr><th>184</th><td>Region B</td><td>2021</td><td>2</td><td>LIABILITIES</td><td>BUSINESS</td><td>Boston</td><td>USD 4627.67 million</td></tr><tr><th>185</th><td>Region B</td><td>2021</td><td>2</td><td>LIABILITIES</td><td>HR</td><td>San Francisco</td><td>USD 4498.27 million</td></tr><tr><th>186</th><td>Region B</td><td>2021</td><td>2</td><td>ASSETS</td><td>HR</td><td>Kansas City</td><td>USD 3924.74 million</td></tr><tr><th>187</th><td>Region B</td><td>2021</td><td>2</td><td>REVENUE</td><td>SALES</td><td>San Francisco</td><td>USD 3641.69 million</td></tr><tr><th>188</th><td>Region B</td><td>2021</td><td>2</td><td>REVENUE</td><td>OTHERS</td><td>Chicago</td><td>USD 3815.97 million</td></tr><tr><th>189</th><td>Region B</td><td>2021</td><td>2</td><td>NET_WORTH</td><td>OTHERS</td><td>St. Louis</td><td>USD 4463.89 million</td></tr><tr><th>190</th><td>Region B</td><td>2021</td><td>2</td><td>ASSETS</td><td>BUSINESS</td><td>Philadelphia</td><td>USD 3579.11 million</td></tr><tr><th>191</th><td>Region B</td><td>2021</td><td>2</td><td>REVENUE</td><td>BUSINESS</td><td>San Francisco</td><td>USD 3290.47 million</td></tr><tr><th>192</th><td>Region B</td><td>2021</td><td>2</td><td>LIABILITIES</td><td>OTHERS</td><td>Minneapolis</td><td>USD 3416.22 million</td></tr><tr><th>193</th><td>Region B</td><td>2021</td><td>2</td><td>ASSETS</td><td>IT</td><td>Dallas</td><td>USD 3506.32 million</td></tr><tr><th>194</th><td>Region B</td><td>2021</td><td>2</td><td>NET_WORTH</td><td>BUSINESS</td><td>St. Louis</td><td>USD 4947.56 million</td></tr><tr><th>195</th><td>Region B</td><td>2021</td><td>2</td><td>NET_WORTH</td><td>BUSINESS</td><td>San Francisco</td><td>USD 4297.84 million</td></tr><tr><th>196</th><td>Region B</td><td>2021</td><td>2</td><td>REVENUE</td><td>HR</td><td>Richmond</td><td>USD 3994.18 million</td></tr><tr><th>197</th><td>Region B</td><td>2021</td><td>2</td><td>REVENUE</td><td>SALES</td><td>Kansas City</td><td>USD 3945.2 million</td></tr><tr><th>198</th><td>Region B</td><td>2021</td><td>2</td><td>ASSETS</td><td>OTHERS</td><td>New York</td><td>USD 4133.53 million</td></tr><tr><th>199</th><td>Region B</td><td>2021</td><td>2</td><td>REVENUE</td><td>OTHERS</td><td>Cleveland</td><td>USD 3156.42 million</td></tr><tr><th>200</th><td>Region B</td><td>2021</td><td>2</td><td>REVENUE</td><td>BUSINESS</td><td>Chicago</td><td>USD 3495.35 million</td></tr><tr><th>201</th><td>Region B</td><td>2021</td><td>2</td><td>NET_WORTH</td><td>IT</td><td>Richmond</td><td>USD 4037.96 million</td></tr><tr><th>202</th><td>Region B</td><td>2021</td><td>2</td><td>NET_WORTH</td><td>OTHERS</td><td>Cleveland</td><td>USD 3950.75 million</td></tr><tr><th>203</th><td>Region B</td><td>2021</td><td>2</td><td>LIABILITIES</td><td>BUSINESS</td><td>Atlanta</td><td>USD 3909.57 million</td></tr><tr><th>204</th><td>Region B</td><td>2021</td><td>2</td><td>ASSETS</td><td>SALES</td><td>Philadelphia</td><td>USD 3477.24 million</td></tr><tr><th>205</th><td>Region B</td><td>2021</td><td>2</td><td>NET_WORTH</td><td>HR</td><td>Atlanta</td><td>USD 3750.61 million</td></tr><tr><th>206</th><td>Region B</td><td>2021</td><td>2</td><td>REVENUE</td><td>BUSINESS</td><td>Atlanta</td><td>USD 3524.35 million</td></tr><tr><th>207</th><td>Region B</td><td>2021</td><td>2</td><td>ASSETS</td><td>HR</td><td>Atlanta</td><td>USD 3877.97 million</td></tr><tr><th>208</th><td>Region B</td><td>2021</td><td>2</td><td>REVENUE</td><td>IT</td><td>Boston</td><td>USD 3771.93 million</td></tr><tr><th>209</th><td>Region B</td><td>2021</td><td>2</td><td>REVENUE</td><td>OTHERS</td><td>Philadelphia</td><td>USD 3863.22 million</td></tr><tr><th>210</th><td>Region B</td><td>2021</td><td>2</td><td>NET_WORTH</td><td>OTHERS</td><td>New York</td><td>USD 3363.16 million</td></tr><tr><th>211</th><td>Region B</td><td>2021</td><td>2</td><td>NET_WORTH</td><td>SALES</td><td>Richmond</td><td>USD 3768.73 million</td></tr><tr><th>212</th><td>Region B</td><td>2021</td><td>2</td><td>REVENUE</td><td>HR</td><td>Philadelphia</td><td>USD 3751.32 million</td></tr><tr><th>213</th><td>Region B</td><td>2021</td><td>2</td><td>NET_WORTH</td><td>BUSINESS</td><td>New York</td><td>USD 3786.22 million</td></tr><tr><th>214</th><td>Region B</td><td>2021</td><td>2</td><td>NET_WORTH</td><td>BUSINESS</td><td>Kansas City</td><td>USD 3168.14 million</td></tr><tr><th>215</th><td>Region B</td><td>2021</td><td>2</td><td>NET_WORTH</td><td>OTHERS</td><td>Kansas City</td><td>USD 3765.9 million</td></tr><tr><th>216</th><td>Region B</td><td>2021</td><td>2</td><td>ASSETS</td><td>HR</td><td>Dallas</td><td>USD 3211.58 million</td></tr><tr><th>217</th><td>Region B</td><td>2021</td><td>2</td><td>NET_WORTH</td><td>HR</td><td>Dallas</td><td>USD 5013.63 million</td></tr><tr><th>218</th><td>Region B</td><td>2021</td><td>2</td><td>LIABILITIES</td><td>IT</td><td>Boston</td><td>USD 3499.94 million</td></tr><tr><th>219</th><td>Region B</td><td>2021</td><td>2</td><td>NET_WORTH</td><td>OTHERS</td><td>Atlanta</td><td>USD 4442.08 million</td></tr><tr><th>220</th><td>Region B</td><td>2021</td><td>2</td><td>ASSETS</td><td>OTHERS</td><td>San Francisco</td><td>USD 3914.48 million</td></tr><tr><th>221</th><td>Region B</td><td>2021</td><td>2</td><td>LIABILITIES</td><td>SALES</td><td>Richmond</td><td>USD 3139.59 million</td></tr><tr><th>222</th><td>Region B</td><td>2021</td><td>2</td><td>ASSETS</td><td>SALES</td><td>New York</td><td>USD 3224.55 million</td></tr><tr><th>223</th><td>Region B</td><td>2021</td><td>2</td><td>LIABILITIES</td><td>SALES</td><td>Atlanta</td><td>USD 4241.26 million</td></tr><tr><th>224</th><td>Region B</td><td>2021</td><td>2</td><td>LIABILITIES</td><td>OTHERS</td><td>Dallas</td><td>USD 3695.96 million</td></tr><tr><th>225</th><td>Region B</td><td>2021</td><td>2</td><td>ASSETS</td><td>BUSINESS</td><td>Kansas City</td><td>USD 3119.45 million</td></tr><tr><th>226</th><td>Region B</td><td>2021</td><td>2</td><td>REVENUE</td><td>SALES</td><td>St. Louis</td><td>USD 4053.0 million</td></tr><tr><th>227</th><td>Region B</td><td>2021</td><td>2</td><td>REVENUE</td><td>OTHERS</td><td>Atlanta</td><td>USD 3683.48 million</td></tr><tr><th>228</th><td>Region B</td><td>2021</td><td>2</td><td>ASSETS</td><td>SALES</td><td>San Francisco</td><td>USD 3291.86 million</td></tr><tr><th>229</th><td>Region B</td><td>2021</td><td>2</td><td>NET_WORTH</td><td>HR</td><td>Chicago</td><td>USD 3804.4 million</td></tr><tr><th>230</th><td>Region B</td><td>2021</td><td>2</td><td>ASSETS</td><td>SALES</td><td>Atlanta</td><td>USD 3943.89 million</td></tr><tr><th>231</th><td>Region B</td><td>2021</td><td>2</td><td>ASSETS</td><td>BUSINESS</td><td>Boston</td><td>USD 3909.51 million</td></tr><tr><th>232</th><td>Region B</td><td>2021</td><td>2</td><td>ASSETS</td><td>HR</td><td>Richmond</td><td>USD 3539.07 million</td></tr><tr><th>233</th><td>Region B</td><td>2021</td><td>2</td><td>REVENUE</td><td>IT</td><td>Cleveland</td><td>USD 3763.62 million</td></tr><tr><th>234</th><td>Region B</td><td>2021</td><td>2</td><td>LIABILITIES</td><td>IT</td><td>Cleveland</td><td>USD 5007.31 million</td></tr><tr><th>235</th><td>Region B</td><td>2021</td><td>2</td><td>LIABILITIES</td><td>OTHERS</td><td>Kansas City</td><td>USD 4477.97 million</td></tr><tr><th>236</th><td>Region B</td><td>2021</td><td>2</td><td>NET_WORTH</td><td>SALES</td><td>Cleveland</td><td>USD 3637.36 million</td></tr><tr><th>237</th><td>Region B</td><td>2021</td><td>2</td><td>ASSETS</td><td>BUSINESS</td><td>Atlanta</td><td>USD 3405.35 million</td></tr><tr><th>238</th><td>Region B</td><td>2021</td><td>2</td><td>LIABILITIES</td><td>OTHERS</td><td>San Francisco</td><td>USD 3571.54 million</td></tr><tr><th>239</th><td>Region B</td><td>2021</td><td>2</td><td>REVENUE</td><td>BUSINESS</td><td>Richmond</td><td>USD 3325.6 million</td></tr><tr><th>240</th><td>Region B</td><td>2021</td><td>2</td><td>NET_WORTH</td><td>SALES</td><td>Boston</td><td>USD 2699.08 million</td></tr></tbody></table></div>"
               },
               "type": "node"
              }
             ],
             "instanceArgs": {
              "namespace": "html",
              "tag": "div"
             },
             "nodeType": "DOM",
             "props": {
              "className": "interact-flex-row interact-widget"
             },
             "type": "node"
            }
           }
          },
          "systemjs_options": null
         },
         "nodeType": "Scope",
         "props": {},
         "type": "node"
        }
       ],
       "instanceArgs": {
        "namespace": "html",
        "tag": "div"
       },
       "nodeType": "DOM",
       "props": {},
       "type": "node"
      },
      "text/html": [
       "<div\n",
       "    class=\"webio-mountpoint\"\n",
       "    data-webio-mountpoint=\"10570964398274493409\"\n",
       ">\n",
       "    <script>\n",
       "    (function(){\n",
       "    // Some integrations (namely, IJulia/Jupyter) use an alternate render pathway than\n",
       "    // just putting the html on the page. If WebIO isn't defined, then it's pretty likely\n",
       "    // that we're in one of those situations and the integration just isn't installed\n",
       "    // correctly.\n",
       "    if (typeof window.WebIO === \"undefined\") {\n",
       "        document\n",
       "            .querySelector('[data-webio-mountpoint=\"10570964398274493409\"]')\n",
       "            .innerHTML = (\n",
       "                '<div style=\"padding: 1em; background-color: #f8d6da; border: 1px solid #f5c6cb; font-weight: bold;\">' +\n",
       "                '<p><strong>WebIO not detected.</strong></p>' +\n",
       "                '<p>Please read ' +\n",
       "                '<a href=\"https://juliagizmos.github.io/WebIO.jl/latest/troubleshooting/not-detected/\" target=\"_blank\">the troubleshooting guide</a> ' +\n",
       "                'for more information on how to resolve this issue.</p>' +\n",
       "                '<p><a href=\"https://juliagizmos.github.io/WebIO.jl/latest/troubleshooting/not-detected/\" target=\"_blank\">https://juliagizmos.github.io/WebIO.jl/latest/troubleshooting/not-detected/</a></p>' +\n",
       "                '</div>'\n",
       "            );\n",
       "        return;\n",
       "    }\n",
       "    WebIO.mount(\n",
       "        document.querySelector('[data-webio-mountpoint=\"10570964398274493409\"]'),\n",
       "        {\"props\":{},\"nodeType\":\"DOM\",\"type\":\"node\",\"instanceArgs\":{\"namespace\":\"html\",\"tag\":\"div\"},\"children\":[{\"props\":{\"className\":\"interact-widget\"},\"nodeType\":\"DOM\",\"type\":\"node\",\"instanceArgs\":{\"namespace\":\"html\",\"tag\":\"div\"},\"children\":[{\"props\":{},\"nodeType\":\"Scope\",\"type\":\"node\",\"instanceArgs\":{\"imports\":{\"data\":[{\"name\":\"knockout\",\"type\":\"js\",\"url\":\"\\/assetserver\\/7adbe83fac1553325d6e718d595ab555e1cabbe4-knockout.js\"},{\"name\":\"knockout_punches\",\"type\":\"js\",\"url\":\"\\/assetserver\\/cec8c4de011abc05b545afbaaea4bb4465a1f168-knockout_punches.js\"},{\"name\":null,\"type\":\"js\",\"url\":\"\\/assetserver\\/5ddeec2b33e792dac4326b9b8929eb841863a558-all.js\"},{\"name\":null,\"type\":\"css\",\"url\":\"\\/assetserver\\/a04b7b754438af5b294cd7f1d762c01dae6fade5-style.css\"},{\"name\":null,\"type\":\"css\",\"url\":\"\\/assetserver\\/50b13cf07303023836f4115fe93a8fe3eca4721a-bulma_confined.min.css\"}],\"type\":\"async_block\"},\"id\":\"3761771998763380936\",\"handlers\":{\"options_js\":[\"(function (val){return (val!=this.model[\\\"options_js\\\"]()) ? (this.valueFromJulia[\\\"options_js\\\"]=true, this.model[\\\"options_js\\\"](val)) : undefined})\"],\"index\":[\"(function (val){return (val!=this.model[\\\"index\\\"]()) ? (this.valueFromJulia[\\\"index\\\"]=true, this.model[\\\"index\\\"](val)) : undefined})\"]},\"systemjs_options\":null,\"mount_callbacks\":[\"function () {\\n    var handler = (function (ko, koPunches) {\\n    ko.punches.enableAll();\\n    ko.bindingHandlers.numericValue = {\\n        init: function(element, valueAccessor, allBindings, data, context) {\\n            var stringified = ko.observable(ko.unwrap(valueAccessor()));\\n            stringified.subscribe(function(value) {\\n                var val = parseFloat(value);\\n                if (!isNaN(val)) {\\n                    valueAccessor()(val);\\n                }\\n            });\\n            valueAccessor().subscribe(function(value) {\\n                var str = JSON.stringify(value);\\n                if ((str == \\\"0\\\") && ([\\\"-0\\\", \\\"-0.\\\"].indexOf(stringified()) >= 0))\\n                     return;\\n                 if ([\\\"null\\\", \\\"\\\"].indexOf(str) >= 0)\\n                     return;\\n                stringified(str);\\n            });\\n            ko.applyBindingsToNode(\\n                element,\\n                {\\n                    value: stringified,\\n                    valueUpdate: allBindings.get('valueUpdate'),\\n                },\\n                context,\\n            );\\n        }\\n    };\\n    var json_data = {\\\"options_js\\\":WebIO.getval({\\\"name\\\":\\\"options_js\\\",\\\"scope\\\":\\\"3761771998763380936\\\",\\\"id\\\":\\\"15109083274705896194\\\",\\\"type\\\":\\\"observable\\\"}),\\\"index\\\":WebIO.getval({\\\"name\\\":\\\"index\\\",\\\"scope\\\":\\\"3761771998763380936\\\",\\\"id\\\":\\\"5371304709671703266\\\",\\\"type\\\":\\\"observable\\\"})};\\n    var self = this;\\n    function AppViewModel() {\\n        for (var key in json_data) {\\n            var el = json_data[key];\\n            this[key] = Array.isArray(el) ? ko.observableArray(el) : ko.observable(el);\\n        }\\n        [this[\\\"update\\\"]=function (val) {this.index(val)}]\\n        \\n        [this[\\\"options_js\\\"].subscribe((function (val){!(this.valueFromJulia[\\\"options_js\\\"]) ? (WebIO.setval({\\\"name\\\":\\\"options_js\\\",\\\"scope\\\":\\\"3761771998763380936\\\",\\\"id\\\":\\\"15109083274705896194\\\",\\\"type\\\":\\\"observable\\\"},val)) : undefined; return this.valueFromJulia[\\\"options_js\\\"]=false}),self),this[\\\"index\\\"].subscribe((function (val){!(this.valueFromJulia[\\\"index\\\"]) ? (WebIO.setval({\\\"name\\\":\\\"index\\\",\\\"scope\\\":\\\"3761771998763380936\\\",\\\"id\\\":\\\"5371304709671703266\\\",\\\"type\\\":\\\"observable\\\"},val)) : undefined; return this.valueFromJulia[\\\"index\\\"]=false}),self)]\\n        \\n    }\\n    self.model = new AppViewModel();\\n    self.valueFromJulia = {};\\n    for (var key in json_data) {\\n        self.valueFromJulia[key] = false;\\n    }\\n    ko.applyBindings(self.model, self.dom);\\n}\\n);\\n    (WebIO.importBlock({\\\"data\\\":[{\\\"name\\\":\\\"knockout\\\",\\\"type\\\":\\\"js\\\",\\\"url\\\":\\\"\\/assetserver\\/7adbe83fac1553325d6e718d595ab555e1cabbe4-knockout.js\\\"},{\\\"name\\\":\\\"knockout_punches\\\",\\\"type\\\":\\\"js\\\",\\\"url\\\":\\\"\\/assetserver\\/cec8c4de011abc05b545afbaaea4bb4465a1f168-knockout_punches.js\\\"}],\\\"type\\\":\\\"async_block\\\"})).then((imports) => handler.apply(this, imports));\\n}\\n\"],\"observables\":{\"options_js\":{\"sync\":false,\"id\":\"15109083274705896194\",\"value\":[{\"key\":\"Actuals\",\"val\":1,\"id\":\"id7S4U0Wvl\"},{\"key\":\"Budget\",\"val\":2,\"id\":\"idPCG4XiaU\"}]},\"index\":{\"sync\":true,\"id\":\"5371304709671703266\",\"value\":1}}},\"children\":[{\"props\":{\"className\":\"interact-flex-row interact-widget\"},\"nodeType\":\"DOM\",\"type\":\"node\",\"instanceArgs\":{\"namespace\":\"html\",\"tag\":\"div\"},\"children\":[{\"props\":{\"className\":\"interact-flex-row-left\"},\"nodeType\":\"DOM\",\"type\":\"node\",\"instanceArgs\":{\"namespace\":\"html\",\"tag\":\"div\"},\"children\":[{\"props\":{\"className\":\"interact \",\"style\":{\"padding\":\"5px 10px 0px 10px\"}},\"nodeType\":\"DOM\",\"type\":\"node\",\"instanceArgs\":{\"namespace\":\"html\",\"tag\":\"label\"},\"children\":[\"ld\"]}]},{\"props\":{\"className\":\"interact-flex-row-center\"},\"nodeType\":\"DOM\",\"type\":\"node\",\"instanceArgs\":{\"namespace\":\"html\",\"tag\":\"div\"},\"children\":[{\"props\":{\"attributes\":{\"data-bind\":\"foreach : options_js\"},\"className\":\"buttons has-addons is-centered\"},\"nodeType\":\"DOM\",\"type\":\"node\",\"instanceArgs\":{\"namespace\":\"html\",\"tag\":\"div\"},\"children\":[{\"props\":{\"attributes\":{\"data-bind\":\"click: function (){$root.update(val)}, css: {'is-primary is-selected' : $root.index() == val, 'interact-widget is-medium button ' : true}\"}},\"nodeType\":\"DOM\",\"type\":\"node\",\"instanceArgs\":{\"namespace\":\"html\",\"tag\":\"span\"},\"children\":[{\"props\":{\"attributes\":{\"data-bind\":\"text : key\"}},\"nodeType\":\"DOM\",\"type\":\"node\",\"instanceArgs\":{\"namespace\":\"html\",\"tag\":\"label\"},\"children\":[]}]}]}]},{\"props\":{\"className\":\"interact-flex-row-right\"},\"nodeType\":\"DOM\",\"type\":\"node\",\"instanceArgs\":{\"namespace\":\"html\",\"tag\":\"div\"},\"children\":[{\"props\":{},\"nodeType\":\"DOM\",\"type\":\"node\",\"instanceArgs\":{\"namespace\":\"html\",\"tag\":\"div\"},\"children\":[]}]}]}]}]},{\"props\":{\"className\":\"interact-widget\"},\"nodeType\":\"DOM\",\"type\":\"node\",\"instanceArgs\":{\"namespace\":\"html\",\"tag\":\"div\"},\"children\":[{\"props\":{},\"nodeType\":\"Scope\",\"type\":\"node\",\"instanceArgs\":{\"imports\":{\"data\":[{\"name\":\"knockout\",\"type\":\"js\",\"url\":\"\\/assetserver\\/7adbe83fac1553325d6e718d595ab555e1cabbe4-knockout.js\"},{\"name\":\"knockout_punches\",\"type\":\"js\",\"url\":\"\\/assetserver\\/cec8c4de011abc05b545afbaaea4bb4465a1f168-knockout_punches.js\"},{\"name\":null,\"type\":\"js\",\"url\":\"\\/assetserver\\/5ddeec2b33e792dac4326b9b8929eb841863a558-all.js\"},{\"name\":null,\"type\":\"css\",\"url\":\"\\/assetserver\\/a04b7b754438af5b294cd7f1d762c01dae6fade5-style.css\"},{\"name\":null,\"type\":\"css\",\"url\":\"\\/assetserver\\/50b13cf07303023836f4115fe93a8fe3eca4721a-bulma_confined.min.css\"}],\"type\":\"async_block\"},\"id\":\"4336181307449966138\",\"handlers\":{\"options_js\":[\"(function (val){return (val!=this.model[\\\"options_js\\\"]()) ? (this.valueFromJulia[\\\"options_js\\\"]=true, this.model[\\\"options_js\\\"](val)) : undefined})\"],\"index\":[\"(function (val){return (val!=this.model[\\\"index\\\"]()) ? (this.valueFromJulia[\\\"index\\\"]=true, this.model[\\\"index\\\"](val)) : undefined})\"]},\"systemjs_options\":null,\"mount_callbacks\":[\"function () {\\n    var handler = (function (ko, koPunches) {\\n    ko.punches.enableAll();\\n    ko.bindingHandlers.numericValue = {\\n        init: function(element, valueAccessor, allBindings, data, context) {\\n            var stringified = ko.observable(ko.unwrap(valueAccessor()));\\n            stringified.subscribe(function(value) {\\n                var val = parseFloat(value);\\n                if (!isNaN(val)) {\\n                    valueAccessor()(val);\\n                }\\n            });\\n            valueAccessor().subscribe(function(value) {\\n                var str = JSON.stringify(value);\\n                if ((str == \\\"0\\\") && ([\\\"-0\\\", \\\"-0.\\\"].indexOf(stringified()) >= 0))\\n                     return;\\n                 if ([\\\"null\\\", \\\"\\\"].indexOf(str) >= 0)\\n                     return;\\n                stringified(str);\\n            });\\n            ko.applyBindingsToNode(\\n                element,\\n                {\\n                    value: stringified,\\n                    valueUpdate: allBindings.get('valueUpdate'),\\n                },\\n                context,\\n            );\\n        }\\n    };\\n    var json_data = {\\\"options_js\\\":WebIO.getval({\\\"name\\\":\\\"options_js\\\",\\\"scope\\\":\\\"4336181307449966138\\\",\\\"id\\\":\\\"17402697954747100342\\\",\\\"type\\\":\\\"observable\\\"}),\\\"index\\\":WebIO.getval({\\\"name\\\":\\\"index\\\",\\\"scope\\\":\\\"4336181307449966138\\\",\\\"id\\\":\\\"8989126355364358398\\\",\\\"type\\\":\\\"observable\\\"})};\\n    var self = this;\\n    function AppViewModel() {\\n        for (var key in json_data) {\\n            var el = json_data[key];\\n            this[key] = Array.isArray(el) ? ko.observableArray(el) : ko.observable(el);\\n        }\\n        [this[\\\"update\\\"]=function (val) {this.index(val)}]\\n        \\n        [this[\\\"options_js\\\"].subscribe((function (val){!(this.valueFromJulia[\\\"options_js\\\"]) ? (WebIO.setval({\\\"name\\\":\\\"options_js\\\",\\\"scope\\\":\\\"4336181307449966138\\\",\\\"id\\\":\\\"17402697954747100342\\\",\\\"type\\\":\\\"observable\\\"},val)) : undefined; return this.valueFromJulia[\\\"options_js\\\"]=false}),self),this[\\\"index\\\"].subscribe((function (val){!(this.valueFromJulia[\\\"index\\\"]) ? (WebIO.setval({\\\"name\\\":\\\"index\\\",\\\"scope\\\":\\\"4336181307449966138\\\",\\\"id\\\":\\\"8989126355364358398\\\",\\\"type\\\":\\\"observable\\\"},val)) : undefined; return this.valueFromJulia[\\\"index\\\"]=false}),self)]\\n        \\n    }\\n    self.model = new AppViewModel();\\n    self.valueFromJulia = {};\\n    for (var key in json_data) {\\n        self.valueFromJulia[key] = false;\\n    }\\n    ko.applyBindings(self.model, self.dom);\\n}\\n);\\n    (WebIO.importBlock({\\\"data\\\":[{\\\"name\\\":\\\"knockout\\\",\\\"type\\\":\\\"js\\\",\\\"url\\\":\\\"\\/assetserver\\/7adbe83fac1553325d6e718d595ab555e1cabbe4-knockout.js\\\"},{\\\"name\\\":\\\"knockout_punches\\\",\\\"type\\\":\\\"js\\\",\\\"url\\\":\\\"\\/assetserver\\/cec8c4de011abc05b545afbaaea4bb4465a1f168-knockout_punches.js\\\"}],\\\"type\\\":\\\"async_block\\\"})).then((imports) => handler.apply(this, imports));\\n}\\n\"],\"observables\":{\"options_js\":{\"sync\":false,\"id\":\"17402697954747100342\",\"value\":[{\"key\":\"Region B\",\"val\":1,\"id\":\"idGoqQj3Rd\"},{\"key\":\"Region C\",\"val\":2,\"id\":\"idUNiW9Xlc\"},{\"key\":\"Region A\",\"val\":3,\"id\":\"idgDHJAkg8\"}]},\"index\":{\"sync\":true,\"id\":\"8989126355364358398\",\"value\":1}}},\"children\":[{\"props\":{\"className\":\"interact-flex-row interact-widget\"},\"nodeType\":\"DOM\",\"type\":\"node\",\"instanceArgs\":{\"namespace\":\"html\",\"tag\":\"div\"},\"children\":[{\"props\":{\"className\":\"interact-flex-row-left\"},\"nodeType\":\"DOM\",\"type\":\"node\",\"instanceArgs\":{\"namespace\":\"html\",\"tag\":\"div\"},\"children\":[{\"props\":{\"className\":\"interact \",\"style\":{\"padding\":\"5px 10px 0px 10px\"}},\"nodeType\":\"DOM\",\"type\":\"node\",\"instanceArgs\":{\"namespace\":\"html\",\"tag\":\"label\"},\"children\":[\"rg\"]}]},{\"props\":{\"className\":\"interact-flex-row-center\"},\"nodeType\":\"DOM\",\"type\":\"node\",\"instanceArgs\":{\"namespace\":\"html\",\"tag\":\"div\"},\"children\":[{\"props\":{\"attributes\":{\"data-bind\":\"foreach : options_js\"},\"className\":\"buttons has-addons is-centered\"},\"nodeType\":\"DOM\",\"type\":\"node\",\"instanceArgs\":{\"namespace\":\"html\",\"tag\":\"div\"},\"children\":[{\"props\":{\"attributes\":{\"data-bind\":\"click: function (){$root.update(val)}, css: {'is-primary is-selected' : $root.index() == val, 'interact-widget is-medium button ' : true}\"}},\"nodeType\":\"DOM\",\"type\":\"node\",\"instanceArgs\":{\"namespace\":\"html\",\"tag\":\"span\"},\"children\":[{\"props\":{\"attributes\":{\"data-bind\":\"text : key\"}},\"nodeType\":\"DOM\",\"type\":\"node\",\"instanceArgs\":{\"namespace\":\"html\",\"tag\":\"label\"},\"children\":[]}]}]}]},{\"props\":{\"className\":\"interact-flex-row-right\"},\"nodeType\":\"DOM\",\"type\":\"node\",\"instanceArgs\":{\"namespace\":\"html\",\"tag\":\"div\"},\"children\":[{\"props\":{},\"nodeType\":\"DOM\",\"type\":\"node\",\"instanceArgs\":{\"namespace\":\"html\",\"tag\":\"div\"},\"children\":[]}]}]}]}]},{\"props\":{\"className\":\"field interact-widget\"},\"nodeType\":\"DOM\",\"type\":\"node\",\"instanceArgs\":{\"namespace\":\"html\",\"tag\":\"div\"},\"children\":[{\"props\":{},\"nodeType\":\"Scope\",\"type\":\"node\",\"instanceArgs\":{\"imports\":{\"data\":[{\"name\":\"knockout\",\"type\":\"js\",\"url\":\"\\/assetserver\\/7adbe83fac1553325d6e718d595ab555e1cabbe4-knockout.js\"},{\"name\":\"knockout_punches\",\"type\":\"js\",\"url\":\"\\/assetserver\\/cec8c4de011abc05b545afbaaea4bb4465a1f168-knockout_punches.js\"},{\"name\":null,\"type\":\"js\",\"url\":\"\\/assetserver\\/5ddeec2b33e792dac4326b9b8929eb841863a558-all.js\"},{\"name\":null,\"type\":\"css\",\"url\":\"\\/assetserver\\/a04b7b754438af5b294cd7f1d762c01dae6fade5-style.css\"},{\"name\":null,\"type\":\"css\",\"url\":\"\\/assetserver\\/50b13cf07303023836f4115fe93a8fe3eca4721a-bulma_confined.min.css\"}],\"type\":\"async_block\"},\"id\":\"14953592395855329131\",\"handlers\":{\"changes\":[\"(function (val){return (val!=this.model[\\\"changes\\\"]()) ? (this.valueFromJulia[\\\"changes\\\"]=true, this.model[\\\"changes\\\"](val)) : undefined})\"],\"index\":[\"(function (val){return (val!=this.model[\\\"index\\\"]()) ? (this.valueFromJulia[\\\"index\\\"]=true, this.model[\\\"index\\\"](val)) : undefined})\"]},\"systemjs_options\":null,\"mount_callbacks\":[\"function () {\\n    var handler = (function (ko, koPunches) {\\n    ko.punches.enableAll();\\n    ko.bindingHandlers.numericValue = {\\n        init: function(element, valueAccessor, allBindings, data, context) {\\n            var stringified = ko.observable(ko.unwrap(valueAccessor()));\\n            stringified.subscribe(function(value) {\\n                var val = parseFloat(value);\\n                if (!isNaN(val)) {\\n                    valueAccessor()(val);\\n                }\\n            });\\n            valueAccessor().subscribe(function(value) {\\n                var str = JSON.stringify(value);\\n                if ((str == \\\"0\\\") && ([\\\"-0\\\", \\\"-0.\\\"].indexOf(stringified()) >= 0))\\n                     return;\\n                 if ([\\\"null\\\", \\\"\\\"].indexOf(str) >= 0)\\n                     return;\\n                stringified(str);\\n            });\\n            ko.applyBindingsToNode(\\n                element,\\n                {\\n                    value: stringified,\\n                    valueUpdate: allBindings.get('valueUpdate'),\\n                },\\n                context,\\n            );\\n        }\\n    };\\n    var json_data = {\\\"formatted_vals\\\":[\\\"2020\\\",\\\"2021\\\",\\\"2022\\\"],\\\"changes\\\":WebIO.getval({\\\"name\\\":\\\"changes\\\",\\\"scope\\\":\\\"14953592395855329131\\\",\\\"id\\\":\\\"17655851537122789273\\\",\\\"type\\\":\\\"observable\\\"}),\\\"index\\\":WebIO.getval({\\\"name\\\":\\\"index\\\",\\\"scope\\\":\\\"14953592395855329131\\\",\\\"id\\\":\\\"4124786012300562105\\\",\\\"type\\\":\\\"observable\\\"})};\\n    var self = this;\\n    function AppViewModel() {\\n        for (var key in json_data) {\\n            var el = json_data[key];\\n            this[key] = Array.isArray(el) ? ko.observableArray(el) : ko.observable(el);\\n        }\\n        \\n        [this[\\\"formatted_val\\\"]=ko.computed(    function(){\\n        return this.formatted_vals()[parseInt(this.index())-(1)];\\n    }\\n,this)]\\n        [this[\\\"changes\\\"].subscribe((function (val){!(this.valueFromJulia[\\\"changes\\\"]) ? (WebIO.setval({\\\"name\\\":\\\"changes\\\",\\\"scope\\\":\\\"14953592395855329131\\\",\\\"id\\\":\\\"17655851537122789273\\\",\\\"type\\\":\\\"observable\\\"},val)) : undefined; return this.valueFromJulia[\\\"changes\\\"]=false}),self),this[\\\"index\\\"].subscribe((function (val){!(this.valueFromJulia[\\\"index\\\"]) ? (WebIO.setval({\\\"name\\\":\\\"index\\\",\\\"scope\\\":\\\"14953592395855329131\\\",\\\"id\\\":\\\"4124786012300562105\\\",\\\"type\\\":\\\"observable\\\"},val)) : undefined; return this.valueFromJulia[\\\"index\\\"]=false}),self)]\\n        \\n    }\\n    self.model = new AppViewModel();\\n    self.valueFromJulia = {};\\n    for (var key in json_data) {\\n        self.valueFromJulia[key] = false;\\n    }\\n    ko.applyBindings(self.model, self.dom);\\n}\\n);\\n    (WebIO.importBlock({\\\"data\\\":[{\\\"name\\\":\\\"knockout\\\",\\\"type\\\":\\\"js\\\",\\\"url\\\":\\\"\\/assetserver\\/7adbe83fac1553325d6e718d595ab555e1cabbe4-knockout.js\\\"},{\\\"name\\\":\\\"knockout_punches\\\",\\\"type\\\":\\\"js\\\",\\\"url\\\":\\\"\\/assetserver\\/cec8c4de011abc05b545afbaaea4bb4465a1f168-knockout_punches.js\\\"}],\\\"type\\\":\\\"async_block\\\"})).then((imports) => handler.apply(this, imports));\\n}\\n\"],\"observables\":{\"changes\":{\"sync\":false,\"id\":\"17655851537122789273\",\"value\":0},\"index\":{\"sync\":true,\"id\":\"4124786012300562105\",\"value\":2}}},\"children\":[{\"props\":{\"className\":\"interact-flex-row interact-widget\"},\"nodeType\":\"DOM\",\"type\":\"node\",\"instanceArgs\":{\"namespace\":\"html\",\"tag\":\"div\"},\"children\":[{\"props\":{\"className\":\"interact-flex-row-left\"},\"nodeType\":\"DOM\",\"type\":\"node\",\"instanceArgs\":{\"namespace\":\"html\",\"tag\":\"div\"},\"children\":[{\"props\":{\"className\":\"interact \",\"style\":{\"padding\":\"5px 10px 0px 10px\"}},\"nodeType\":\"DOM\",\"type\":\"node\",\"instanceArgs\":{\"namespace\":\"html\",\"tag\":\"label\"},\"children\":[\"\"]}]},{\"props\":{\"className\":\"interact-flex-row-center\"},\"nodeType\":\"DOM\",\"type\":\"node\",\"instanceArgs\":{\"namespace\":\"html\",\"tag\":\"div\"},\"children\":[{\"props\":{\"max\":3,\"min\":1,\"attributes\":{\"type\":\"range\",\"data-bind\":\"numericValue: index, valueUpdate: 'input', event: {change: function (){this.changes(this.changes()+1)}}\",\"orient\":\"horizontal\"},\"step\":1,\"className\":\"slider slider is-fullwidth\",\"style\":{}},\"nodeType\":\"DOM\",\"type\":\"node\",\"instanceArgs\":{\"namespace\":\"html\",\"tag\":\"input\"},\"children\":[]}]},{\"props\":{\"className\":\"interact-flex-row-right\"},\"nodeType\":\"DOM\",\"type\":\"node\",\"instanceArgs\":{\"namespace\":\"html\",\"tag\":\"div\"},\"children\":[{\"props\":{\"attributes\":{\"data-bind\":\"text: formatted_val\"}},\"nodeType\":\"DOM\",\"type\":\"node\",\"instanceArgs\":{\"namespace\":\"html\",\"tag\":\"p\"},\"children\":[]}]}]}]}]},{\"props\":{\"className\":\"field interact-widget\"},\"nodeType\":\"DOM\",\"type\":\"node\",\"instanceArgs\":{\"namespace\":\"html\",\"tag\":\"div\"},\"children\":[{\"props\":{},\"nodeType\":\"Scope\",\"type\":\"node\",\"instanceArgs\":{\"imports\":{\"data\":[{\"name\":\"knockout\",\"type\":\"js\",\"url\":\"\\/assetserver\\/7adbe83fac1553325d6e718d595ab555e1cabbe4-knockout.js\"},{\"name\":\"knockout_punches\",\"type\":\"js\",\"url\":\"\\/assetserver\\/cec8c4de011abc05b545afbaaea4bb4465a1f168-knockout_punches.js\"},{\"name\":null,\"type\":\"js\",\"url\":\"\\/assetserver\\/5ddeec2b33e792dac4326b9b8929eb841863a558-all.js\"},{\"name\":null,\"type\":\"css\",\"url\":\"\\/assetserver\\/a04b7b754438af5b294cd7f1d762c01dae6fade5-style.css\"},{\"name\":null,\"type\":\"css\",\"url\":\"\\/assetserver\\/50b13cf07303023836f4115fe93a8fe3eca4721a-bulma_confined.min.css\"}],\"type\":\"async_block\"},\"id\":\"14818083701553036238\",\"handlers\":{\"changes\":[\"(function (val){return (val!=this.model[\\\"changes\\\"]()) ? (this.valueFromJulia[\\\"changes\\\"]=true, this.model[\\\"changes\\\"](val)) : undefined})\"],\"index\":[\"(function (val){return (val!=this.model[\\\"index\\\"]()) ? (this.valueFromJulia[\\\"index\\\"]=true, this.model[\\\"index\\\"](val)) : undefined})\"]},\"systemjs_options\":null,\"mount_callbacks\":[\"function () {\\n    var handler = (function (ko, koPunches) {\\n    ko.punches.enableAll();\\n    ko.bindingHandlers.numericValue = {\\n        init: function(element, valueAccessor, allBindings, data, context) {\\n            var stringified = ko.observable(ko.unwrap(valueAccessor()));\\n            stringified.subscribe(function(value) {\\n                var val = parseFloat(value);\\n                if (!isNaN(val)) {\\n                    valueAccessor()(val);\\n                }\\n            });\\n            valueAccessor().subscribe(function(value) {\\n                var str = JSON.stringify(value);\\n                if ((str == \\\"0\\\") && ([\\\"-0\\\", \\\"-0.\\\"].indexOf(stringified()) >= 0))\\n                     return;\\n                 if ([\\\"null\\\", \\\"\\\"].indexOf(str) >= 0)\\n                     return;\\n                stringified(str);\\n            });\\n            ko.applyBindingsToNode(\\n                element,\\n                {\\n                    value: stringified,\\n                    valueUpdate: allBindings.get('valueUpdate'),\\n                },\\n                context,\\n            );\\n        }\\n    };\\n    var json_data = {\\\"formatted_vals\\\":[\\\"1\\\",\\\"2\\\",\\\"3\\\",\\\"4\\\"],\\\"changes\\\":WebIO.getval({\\\"name\\\":\\\"changes\\\",\\\"scope\\\":\\\"14818083701553036238\\\",\\\"id\\\":\\\"6173039353171651400\\\",\\\"type\\\":\\\"observable\\\"}),\\\"index\\\":WebIO.getval({\\\"name\\\":\\\"index\\\",\\\"scope\\\":\\\"14818083701553036238\\\",\\\"id\\\":\\\"16913260558254817926\\\",\\\"type\\\":\\\"observable\\\"})};\\n    var self = this;\\n    function AppViewModel() {\\n        for (var key in json_data) {\\n            var el = json_data[key];\\n            this[key] = Array.isArray(el) ? ko.observableArray(el) : ko.observable(el);\\n        }\\n        \\n        [this[\\\"formatted_val\\\"]=ko.computed(    function(){\\n        return this.formatted_vals()[parseInt(this.index())-(1)];\\n    }\\n,this)]\\n        [this[\\\"changes\\\"].subscribe((function (val){!(this.valueFromJulia[\\\"changes\\\"]) ? (WebIO.setval({\\\"name\\\":\\\"changes\\\",\\\"scope\\\":\\\"14818083701553036238\\\",\\\"id\\\":\\\"6173039353171651400\\\",\\\"type\\\":\\\"observable\\\"},val)) : undefined; return this.valueFromJulia[\\\"changes\\\"]=false}),self),this[\\\"index\\\"].subscribe((function (val){!(this.valueFromJulia[\\\"index\\\"]) ? (WebIO.setval({\\\"name\\\":\\\"index\\\",\\\"scope\\\":\\\"14818083701553036238\\\",\\\"id\\\":\\\"16913260558254817926\\\",\\\"type\\\":\\\"observable\\\"},val)) : undefined; return this.valueFromJulia[\\\"index\\\"]=false}),self)]\\n        \\n    }\\n    self.model = new AppViewModel();\\n    self.valueFromJulia = {};\\n    for (var key in json_data) {\\n        self.valueFromJulia[key] = false;\\n    }\\n    ko.applyBindings(self.model, self.dom);\\n}\\n);\\n    (WebIO.importBlock({\\\"data\\\":[{\\\"name\\\":\\\"knockout\\\",\\\"type\\\":\\\"js\\\",\\\"url\\\":\\\"\\/assetserver\\/7adbe83fac1553325d6e718d595ab555e1cabbe4-knockout.js\\\"},{\\\"name\\\":\\\"knockout_punches\\\",\\\"type\\\":\\\"js\\\",\\\"url\\\":\\\"\\/assetserver\\/cec8c4de011abc05b545afbaaea4bb4465a1f168-knockout_punches.js\\\"}],\\\"type\\\":\\\"async_block\\\"})).then((imports) => handler.apply(this, imports));\\n}\\n\"],\"observables\":{\"changes\":{\"sync\":false,\"id\":\"6173039353171651400\",\"value\":0},\"index\":{\"sync\":true,\"id\":\"16913260558254817926\",\"value\":2}}},\"children\":[{\"props\":{\"className\":\"interact-flex-row interact-widget\"},\"nodeType\":\"DOM\",\"type\":\"node\",\"instanceArgs\":{\"namespace\":\"html\",\"tag\":\"div\"},\"children\":[{\"props\":{\"className\":\"interact-flex-row-left\"},\"nodeType\":\"DOM\",\"type\":\"node\",\"instanceArgs\":{\"namespace\":\"html\",\"tag\":\"div\"},\"children\":[{\"props\":{\"className\":\"interact \",\"style\":{\"padding\":\"5px 10px 0px 10px\"}},\"nodeType\":\"DOM\",\"type\":\"node\",\"instanceArgs\":{\"namespace\":\"html\",\"tag\":\"label\"},\"children\":[\"qtr\"]}]},{\"props\":{\"className\":\"interact-flex-row-center\"},\"nodeType\":\"DOM\",\"type\":\"node\",\"instanceArgs\":{\"namespace\":\"html\",\"tag\":\"div\"},\"children\":[{\"props\":{\"max\":4,\"min\":1,\"attributes\":{\"type\":\"range\",\"data-bind\":\"numericValue: index, valueUpdate: 'input', event: {change: function (){this.changes(this.changes()+1)}}\",\"orient\":\"horizontal\"},\"step\":1,\"className\":\"slider slider is-fullwidth\",\"style\":{}},\"nodeType\":\"DOM\",\"type\":\"node\",\"instanceArgs\":{\"namespace\":\"html\",\"tag\":\"input\"},\"children\":[]}]},{\"props\":{\"className\":\"interact-flex-row-right\"},\"nodeType\":\"DOM\",\"type\":\"node\",\"instanceArgs\":{\"namespace\":\"html\",\"tag\":\"div\"},\"children\":[{\"props\":{\"attributes\":{\"data-bind\":\"text: formatted_val\"}},\"nodeType\":\"DOM\",\"type\":\"node\",\"instanceArgs\":{\"namespace\":\"html\",\"tag\":\"p\"},\"children\":[]}]}]}]}]},{\"props\":{},\"nodeType\":\"Scope\",\"type\":\"node\",\"instanceArgs\":{\"imports\":{\"data\":[],\"type\":\"async_block\"},\"id\":\"7374156247928114535\",\"handlers\":{},\"systemjs_options\":null,\"mount_callbacks\":[],\"observables\":{\"obs-node\":{\"sync\":false,\"id\":\"17376963721366874954\",\"value\":{\"props\":{\"className\":\"interact-flex-row interact-widget\"},\"nodeType\":\"DOM\",\"type\":\"node\",\"instanceArgs\":{\"namespace\":\"html\",\"tag\":\"div\"},\"children\":[{\"props\":{\"setInnerHtml\":\"<div class=\\\"data-frame\\\"><p>240 rows × 7 columns<\\/p><table class=\\\"data-frame\\\"><thead><tr><th><\\/th><th>Org<\\/th><th>FY<\\/th><th>Qtr<\\/th><th>Accounts<\\/th><th>Dept<\\/th><th>Loc<\\/th><th>TOTAL<\\/th><\\/tr><tr><th><\\/th><th title=\\\"String\\\">String<\\/th><th title=\\\"Int64\\\">Int64<\\/th><th title=\\\"Int64\\\">Int64<\\/th><th title=\\\"String\\\">String<\\/th><th title=\\\"String\\\">String<\\/th><th title=\\\"String\\\">String<\\/th><th title=\\\"String\\\">String<\\/th><\\/tr><\\/thead><tbody><tr><th>1<\\/th><td>Region B<\\/td><td>2021<\\/td><td>2<\\/td><td>ASSETS<\\/td><td>BUSINESS<\\/td><td>Chicago<\\/td><td>USD 2927.75 million<\\/td><\\/tr><tr><th>2<\\/th><td>Region B<\\/td><td>2021<\\/td><td>2<\\/td><td>ASSETS<\\/td><td>IT<\\/td><td>Kansas City<\\/td><td>USD 3679.04 million<\\/td><\\/tr><tr><th>3<\\/th><td>Region B<\\/td><td>2021<\\/td><td>2<\\/td><td>LIABILITIES<\\/td><td>HR<\\/td><td>Boston<\\/td><td>USD 3366.97 million<\\/td><\\/tr><tr><th>4<\\/th><td>Region B<\\/td><td>2021<\\/td><td>2<\\/td><td>LIABILITIES<\\/td><td>HR<\\/td><td>Kansas City<\\/td><td>USD 4426.61 million<\\/td><\\/tr><tr><th>5<\\/th><td>Region B<\\/td><td>2021<\\/td><td>2<\\/td><td>ASSETS<\\/td><td>IT<\\/td><td>Boston<\\/td><td>USD 3718.08 million<\\/td><\\/tr><tr><th>6<\\/th><td>Region B<\\/td><td>2021<\\/td><td>2<\\/td><td>NET_WORTH<\\/td><td>BUSINESS<\\/td><td>Richmond<\\/td><td>USD 4920.64 million<\\/td><\\/tr><tr><th>7<\\/th><td>Region B<\\/td><td>2021<\\/td><td>2<\\/td><td>NET_WORTH<\\/td><td>BUSINESS<\\/td><td>Dallas<\\/td><td>USD 4340.47 million<\\/td><\\/tr><tr><th>8<\\/th><td>Region B<\\/td><td>2021<\\/td><td>2<\\/td><td>ASSETS<\\/td><td>HR<\\/td><td>Minneapolis<\\/td><td>USD 4236.49 million<\\/td><\\/tr><tr><th>9<\\/th><td>Region B<\\/td><td>2021<\\/td><td>2<\\/td><td>LIABILITIES<\\/td><td>OTHERS<\\/td><td>Atlanta<\\/td><td>USD 4722.91 million<\\/td><\\/tr><tr><th>10<\\/th><td>Region B<\\/td><td>2021<\\/td><td>2<\\/td><td>ASSETS<\\/td><td>IT<\\/td><td>New York<\\/td><td>USD 2814.95 million<\\/td><\\/tr><tr><th>11<\\/th><td>Region B<\\/td><td>2021<\\/td><td>2<\\/td><td>REVENUE<\\/td><td>IT<\\/td><td>Kansas City<\\/td><td>USD 4229.35 million<\\/td><\\/tr><tr><th>12<\\/th><td>Region B<\\/td><td>2021<\\/td><td>2<\\/td><td>ASSETS<\\/td><td>IT<\\/td><td>Minneapolis<\\/td><td>USD 3701.1 million<\\/td><\\/tr><tr><th>13<\\/th><td>Region B<\\/td><td>2021<\\/td><td>2<\\/td><td>REVENUE<\\/td><td>SALES<\\/td><td>Dallas<\\/td><td>USD 4293.15 million<\\/td><\\/tr><tr><th>14<\\/th><td>Region B<\\/td><td>2021<\\/td><td>2<\\/td><td>REVENUE<\\/td><td>SALES<\\/td><td>Atlanta<\\/td><td>USD 4514.03 million<\\/td><\\/tr><tr><th>15<\\/th><td>Region B<\\/td><td>2021<\\/td><td>2<\\/td><td>ASSETS<\\/td><td>IT<\\/td><td>St. Louis<\\/td><td>USD 4379.15 million<\\/td><\\/tr><tr><th>16<\\/th><td>Region B<\\/td><td>2021<\\/td><td>2<\\/td><td>REVENUE<\\/td><td>HR<\\/td><td>Kansas City<\\/td><td>USD 3930.82 million<\\/td><\\/tr><tr><th>17<\\/th><td>Region B<\\/td><td>2021<\\/td><td>2<\\/td><td>REVENUE<\\/td><td>HR<\\/td><td>Minneapolis<\\/td><td>USD 3704.31 million<\\/td><\\/tr><tr><th>18<\\/th><td>Region B<\\/td><td>2021<\\/td><td>2<\\/td><td>ASSETS<\\/td><td>OTHERS<\\/td><td>Atlanta<\\/td><td>USD 3886.59 million<\\/td><\\/tr><tr><th>19<\\/th><td>Region B<\\/td><td>2021<\\/td><td>2<\\/td><td>LIABILITIES<\\/td><td>SALES<\\/td><td>Kansas City<\\/td><td>USD 3989.38 million<\\/td><\\/tr><tr><th>20<\\/th><td>Region B<\\/td><td>2021<\\/td><td>2<\\/td><td>LIABILITIES<\\/td><td>BUSINESS<\\/td><td>Chicago<\\/td><td>USD 4094.48 million<\\/td><\\/tr><tr><th>21<\\/th><td>Region B<\\/td><td>2021<\\/td><td>2<\\/td><td>REVENUE<\\/td><td>HR<\\/td><td>Dallas<\\/td><td>USD 4035.68 million<\\/td><\\/tr><tr><th>22<\\/th><td>Region B<\\/td><td>2021<\\/td><td>2<\\/td><td>NET_WORTH<\\/td><td>IT<\\/td><td>Kansas City<\\/td><td>USD 4517.92 million<\\/td><\\/tr><tr><th>23<\\/th><td>Region B<\\/td><td>2021<\\/td><td>2<\\/td><td>LIABILITIES<\\/td><td>BUSINESS<\\/td><td>Philadelphia<\\/td><td>USD 4014.79 million<\\/td><\\/tr><tr><th>24<\\/th><td>Region B<\\/td><td>2021<\\/td><td>2<\\/td><td>REVENUE<\\/td><td>IT<\\/td><td>Minneapolis<\\/td><td>USD 4380.33 million<\\/td><\\/tr><tr><th>25<\\/th><td>Region B<\\/td><td>2021<\\/td><td>2<\\/td><td>NET_WORTH<\\/td><td>SALES<\\/td><td>St. Louis<\\/td><td>USD 4159.4 million<\\/td><\\/tr><tr><th>26<\\/th><td>Region B<\\/td><td>2021<\\/td><td>2<\\/td><td>NET_WORTH<\\/td><td>IT<\\/td><td>New York<\\/td><td>USD 3188.83 million<\\/td><\\/tr><tr><th>27<\\/th><td>Region B<\\/td><td>2021<\\/td><td>2<\\/td><td>REVENUE<\\/td><td>BUSINESS<\\/td><td>Cleveland<\\/td><td>USD 4254.26 million<\\/td><\\/tr><tr><th>28<\\/th><td>Region B<\\/td><td>2021<\\/td><td>2<\\/td><td>LIABILITIES<\\/td><td>HR<\\/td><td>Dallas<\\/td><td>USD 4102.33 million<\\/td><\\/tr><tr><th>29<\\/th><td>Region B<\\/td><td>2021<\\/td><td>2<\\/td><td>ASSETS<\\/td><td>HR<\\/td><td>Philadelphia<\\/td><td>USD 3531.2 million<\\/td><\\/tr><tr><th>30<\\/th><td>Region B<\\/td><td>2021<\\/td><td>2<\\/td><td>REVENUE<\\/td><td>BUSINESS<\\/td><td>Kansas City<\\/td><td>USD 4124.16 million<\\/td><\\/tr><tr><th>31<\\/th><td>Region B<\\/td><td>2021<\\/td><td>2<\\/td><td>LIABILITIES<\\/td><td>IT<\\/td><td>San Francisco<\\/td><td>USD 4360.83 million<\\/td><\\/tr><tr><th>32<\\/th><td>Region B<\\/td><td>2021<\\/td><td>2<\\/td><td>ASSETS<\\/td><td>HR<\\/td><td>San Francisco<\\/td><td>USD 3434.48 million<\\/td><\\/tr><tr><th>33<\\/th><td>Region B<\\/td><td>2021<\\/td><td>2<\\/td><td>LIABILITIES<\\/td><td>OTHERS<\\/td><td>Richmond<\\/td><td>USD 3276.13 million<\\/td><\\/tr><tr><th>34<\\/th><td>Region B<\\/td><td>2021<\\/td><td>2<\\/td><td>LIABILITIES<\\/td><td>SALES<\\/td><td>Dallas<\\/td><td>USD 4967.3 million<\\/td><\\/tr><tr><th>35<\\/th><td>Region B<\\/td><td>2021<\\/td><td>2<\\/td><td>LIABILITIES<\\/td><td>OTHERS<\\/td><td>New York<\\/td><td>USD 4319.92 million<\\/td><\\/tr><tr><th>36<\\/th><td>Region B<\\/td><td>2021<\\/td><td>2<\\/td><td>REVENUE<\\/td><td>SALES<\\/td><td>Boston<\\/td><td>USD 3360.4 million<\\/td><\\/tr><tr><th>37<\\/th><td>Region B<\\/td><td>2021<\\/td><td>2<\\/td><td>REVENUE<\\/td><td>HR<\\/td><td>Chicago<\\/td><td>USD 3432.36 million<\\/td><\\/tr><tr><th>38<\\/th><td>Region B<\\/td><td>2021<\\/td><td>2<\\/td><td>ASSETS<\\/td><td>IT<\\/td><td>Richmond<\\/td><td>USD 5079.14 million<\\/td><\\/tr><tr><th>39<\\/th><td>Region B<\\/td><td>2021<\\/td><td>2<\\/td><td>LIABILITIES<\\/td><td>IT<\\/td><td>Kansas City<\\/td><td>USD 4333.98 million<\\/td><\\/tr><tr><th>40<\\/th><td>Region B<\\/td><td>2021<\\/td><td>2<\\/td><td>LIABILITIES<\\/td><td>HR<\\/td><td>Atlanta<\\/td><td>USD 4060.7 million<\\/td><\\/tr><tr><th>41<\\/th><td>Region B<\\/td><td>2021<\\/td><td>2<\\/td><td>LIABILITIES<\\/td><td>SALES<\\/td><td>St. Louis<\\/td><td>USD 3610.67 million<\\/td><\\/tr><tr><th>42<\\/th><td>Region B<\\/td><td>2021<\\/td><td>2<\\/td><td>LIABILITIES<\\/td><td>BUSINESS<\\/td><td>New York<\\/td><td>USD 3946.96 million<\\/td><\\/tr><tr><th>43<\\/th><td>Region B<\\/td><td>2021<\\/td><td>2<\\/td><td>REVENUE<\\/td><td>SALES<\\/td><td>Richmond<\\/td><td>USD 3989.12 million<\\/td><\\/tr><tr><th>44<\\/th><td>Region B<\\/td><td>2021<\\/td><td>2<\\/td><td>NET_WORTH<\\/td><td>OTHERS<\\/td><td>Minneapolis<\\/td><td>USD 3946.48 million<\\/td><\\/tr><tr><th>45<\\/th><td>Region B<\\/td><td>2021<\\/td><td>2<\\/td><td>REVENUE<\\/td><td>BUSINESS<\\/td><td>Philadelphia<\\/td><td>USD 4336.77 million<\\/td><\\/tr><tr><th>46<\\/th><td>Region B<\\/td><td>2021<\\/td><td>2<\\/td><td>NET_WORTH<\\/td><td>HR<\\/td><td>Boston<\\/td><td>USD 4441.45 million<\\/td><\\/tr><tr><th>47<\\/th><td>Region B<\\/td><td>2021<\\/td><td>2<\\/td><td>ASSETS<\\/td><td>HR<\\/td><td>Boston<\\/td><td>USD 3936.15 million<\\/td><\\/tr><tr><th>48<\\/th><td>Region B<\\/td><td>2021<\\/td><td>2<\\/td><td>NET_WORTH<\\/td><td>SALES<\\/td><td>New York<\\/td><td>USD 4387.21 million<\\/td><\\/tr><tr><th>49<\\/th><td>Region B<\\/td><td>2021<\\/td><td>2<\\/td><td>LIABILITIES<\\/td><td>OTHERS<\\/td><td>Philadelphia<\\/td><td>USD 3716.0 million<\\/td><\\/tr><tr><th>50<\\/th><td>Region B<\\/td><td>2021<\\/td><td>2<\\/td><td>REVENUE<\\/td><td>IT<\\/td><td>San Francisco<\\/td><td>USD 3595.44 million<\\/td><\\/tr><tr><th>51<\\/th><td>Region B<\\/td><td>2021<\\/td><td>2<\\/td><td>LIABILITIES<\\/td><td>IT<\\/td><td>Atlanta<\\/td><td>USD 4550.14 million<\\/td><\\/tr><tr><th>52<\\/th><td>Region B<\\/td><td>2021<\\/td><td>2<\\/td><td>ASSETS<\\/td><td>BUSINESS<\\/td><td>San Francisco<\\/td><td>USD 3551.8 million<\\/td><\\/tr><tr><th>53<\\/th><td>Region B<\\/td><td>2021<\\/td><td>2<\\/td><td>LIABILITIES<\\/td><td>BUSINESS<\\/td><td>Cleveland<\\/td><td>USD 4128.36 million<\\/td><\\/tr><tr><th>54<\\/th><td>Region B<\\/td><td>2021<\\/td><td>2<\\/td><td>LIABILITIES<\\/td><td>SALES<\\/td><td>Minneapolis<\\/td><td>USD 3977.95 million<\\/td><\\/tr><tr><th>55<\\/th><td>Region B<\\/td><td>2021<\\/td><td>2<\\/td><td>LIABILITIES<\\/td><td>BUSINESS<\\/td><td>Dallas<\\/td><td>USD 4372.22 million<\\/td><\\/tr><tr><th>56<\\/th><td>Region B<\\/td><td>2021<\\/td><td>2<\\/td><td>ASSETS<\\/td><td>BUSINESS<\\/td><td>Minneapolis<\\/td><td>USD 3389.76 million<\\/td><\\/tr><tr><th>57<\\/th><td>Region B<\\/td><td>2021<\\/td><td>2<\\/td><td>ASSETS<\\/td><td>OTHERS<\\/td><td>Dallas<\\/td><td>USD 3479.14 million<\\/td><\\/tr><tr><th>58<\\/th><td>Region B<\\/td><td>2021<\\/td><td>2<\\/td><td>REVENUE<\\/td><td>IT<\\/td><td>St. Louis<\\/td><td>USD 3169.37 million<\\/td><\\/tr><tr><th>59<\\/th><td>Region B<\\/td><td>2021<\\/td><td>2<\\/td><td>ASSETS<\\/td><td>SALES<\\/td><td>Chicago<\\/td><td>USD 5198.92 million<\\/td><\\/tr><tr><th>60<\\/th><td>Region B<\\/td><td>2021<\\/td><td>2<\\/td><td>LIABILITIES<\\/td><td>SALES<\\/td><td>Philadelphia<\\/td><td>USD 4950.36 million<\\/td><\\/tr><tr><th>61<\\/th><td>Region B<\\/td><td>2021<\\/td><td>2<\\/td><td>LIABILITIES<\\/td><td>SALES<\\/td><td>San Francisco<\\/td><td>USD 2795.71 million<\\/td><\\/tr><tr><th>62<\\/th><td>Region B<\\/td><td>2021<\\/td><td>2<\\/td><td>NET_WORTH<\\/td><td>BUSINESS<\\/td><td>Boston<\\/td><td>USD 3265.08 million<\\/td><\\/tr><tr><th>63<\\/th><td>Region B<\\/td><td>2021<\\/td><td>2<\\/td><td>LIABILITIES<\\/td><td>IT<\\/td><td>Minneapolis<\\/td><td>USD 4052.36 million<\\/td><\\/tr><tr><th>64<\\/th><td>Region B<\\/td><td>2021<\\/td><td>2<\\/td><td>REVENUE<\\/td><td>OTHERS<\\/td><td>Minneapolis<\\/td><td>USD 4447.38 million<\\/td><\\/tr><tr><th>65<\\/th><td>Region B<\\/td><td>2021<\\/td><td>2<\\/td><td>REVENUE<\\/td><td>IT<\\/td><td>Atlanta<\\/td><td>USD 3115.91 million<\\/td><\\/tr><tr><th>66<\\/th><td>Region B<\\/td><td>2021<\\/td><td>2<\\/td><td>NET_WORTH<\\/td><td>SALES<\\/td><td>Atlanta<\\/td><td>USD 3413.11 million<\\/td><\\/tr><tr><th>67<\\/th><td>Region B<\\/td><td>2021<\\/td><td>2<\\/td><td>NET_WORTH<\\/td><td>IT<\\/td><td>Dallas<\\/td><td>USD 3816.01 million<\\/td><\\/tr><tr><th>68<\\/th><td>Region B<\\/td><td>2021<\\/td><td>2<\\/td><td>REVENUE<\\/td><td>BUSINESS<\\/td><td>Dallas<\\/td><td>USD 4967.77 million<\\/td><\\/tr><tr><th>69<\\/th><td>Region B<\\/td><td>2021<\\/td><td>2<\\/td><td>ASSETS<\\/td><td>IT<\\/td><td>Philadelphia<\\/td><td>USD 4418.53 million<\\/td><\\/tr><tr><th>70<\\/th><td>Region B<\\/td><td>2021<\\/td><td>2<\\/td><td>ASSETS<\\/td><td>SALES<\\/td><td>Cleveland<\\/td><td>USD 3870.36 million<\\/td><\\/tr><tr><th>71<\\/th><td>Region B<\\/td><td>2021<\\/td><td>2<\\/td><td>REVENUE<\\/td><td>SALES<\\/td><td>Chicago<\\/td><td>USD 4357.64 million<\\/td><\\/tr><tr><th>72<\\/th><td>Region B<\\/td><td>2021<\\/td><td>2<\\/td><td>NET_WORTH<\\/td><td>BUSINESS<\\/td><td>Cleveland<\\/td><td>USD 4409.45 million<\\/td><\\/tr><tr><th>73<\\/th><td>Region B<\\/td><td>2021<\\/td><td>2<\\/td><td>NET_WORTH<\\/td><td>IT<\\/td><td>Philadelphia<\\/td><td>USD 4453.4 million<\\/td><\\/tr><tr><th>74<\\/th><td>Region B<\\/td><td>2021<\\/td><td>2<\\/td><td>ASSETS<\\/td><td>BUSINESS<\\/td><td>Cleveland<\\/td><td>USD 3311.77 million<\\/td><\\/tr><tr><th>75<\\/th><td>Region B<\\/td><td>2021<\\/td><td>2<\\/td><td>NET_WORTH<\\/td><td>HR<\\/td><td>Minneapolis<\\/td><td>USD 4014.41 million<\\/td><\\/tr><tr><th>76<\\/th><td>Region B<\\/td><td>2021<\\/td><td>2<\\/td><td>NET_WORTH<\\/td><td>HR<\\/td><td>New York<\\/td><td>USD 3894.27 million<\\/td><\\/tr><tr><th>77<\\/th><td>Region B<\\/td><td>2021<\\/td><td>2<\\/td><td>NET_WORTH<\\/td><td>OTHERS<\\/td><td>Chicago<\\/td><td>USD 4884.47 million<\\/td><\\/tr><tr><th>78<\\/th><td>Region B<\\/td><td>2021<\\/td><td>2<\\/td><td>REVENUE<\\/td><td>HR<\\/td><td>Boston<\\/td><td>USD 4325.35 million<\\/td><\\/tr><tr><th>79<\\/th><td>Region B<\\/td><td>2021<\\/td><td>2<\\/td><td>NET_WORTH<\\/td><td>HR<\\/td><td>Philadelphia<\\/td><td>USD 4389.43 million<\\/td><\\/tr><tr><th>80<\\/th><td>Region B<\\/td><td>2021<\\/td><td>2<\\/td><td>NET_WORTH<\\/td><td>OTHERS<\\/td><td>San Francisco<\\/td><td>USD 4509.67 million<\\/td><\\/tr><tr><th>81<\\/th><td>Region B<\\/td><td>2021<\\/td><td>2<\\/td><td>REVENUE<\\/td><td>SALES<\\/td><td>Cleveland<\\/td><td>USD 4025.75 million<\\/td><\\/tr><tr><th>82<\\/th><td>Region B<\\/td><td>2021<\\/td><td>2<\\/td><td>NET_WORTH<\\/td><td>SALES<\\/td><td>Kansas City<\\/td><td>USD 3843.43 million<\\/td><\\/tr><tr><th>83<\\/th><td>Region B<\\/td><td>2021<\\/td><td>2<\\/td><td>NET_WORTH<\\/td><td>BUSINESS<\\/td><td>Chicago<\\/td><td>USD 4303.44 million<\\/td><\\/tr><tr><th>84<\\/th><td>Region B<\\/td><td>2021<\\/td><td>2<\\/td><td>ASSETS<\\/td><td>SALES<\\/td><td>Kansas City<\\/td><td>USD 3904.23 million<\\/td><\\/tr><tr><th>85<\\/th><td>Region B<\\/td><td>2021<\\/td><td>2<\\/td><td>REVENUE<\\/td><td>BUSINESS<\\/td><td>St. Louis<\\/td><td>USD 4021.63 million<\\/td><\\/tr><tr><th>86<\\/th><td>Region B<\\/td><td>2021<\\/td><td>2<\\/td><td>ASSETS<\\/td><td>SALES<\\/td><td>Richmond<\\/td><td>USD 3532.09 million<\\/td><\\/tr><tr><th>87<\\/th><td>Region B<\\/td><td>2021<\\/td><td>2<\\/td><td>REVENUE<\\/td><td>IT<\\/td><td>Philadelphia<\\/td><td>USD 3778.69 million<\\/td><\\/tr><tr><th>88<\\/th><td>Region B<\\/td><td>2021<\\/td><td>2<\\/td><td>ASSETS<\\/td><td>OTHERS<\\/td><td>Kansas City<\\/td><td>USD 4350.03 million<\\/td><\\/tr><tr><th>89<\\/th><td>Region B<\\/td><td>2021<\\/td><td>2<\\/td><td>NET_WORTH<\\/td><td>IT<\\/td><td>St. Louis<\\/td><td>USD 3808.57 million<\\/td><\\/tr><tr><th>90<\\/th><td>Region B<\\/td><td>2021<\\/td><td>2<\\/td><td>ASSETS<\\/td><td>BUSINESS<\\/td><td>New York<\\/td><td>USD 3660.31 million<\\/td><\\/tr><tr><th>91<\\/th><td>Region B<\\/td><td>2021<\\/td><td>2<\\/td><td>NET_WORTH<\\/td><td>IT<\\/td><td>Chicago<\\/td><td>USD 3828.41 million<\\/td><\\/tr><tr><th>92<\\/th><td>Region B<\\/td><td>2021<\\/td><td>2<\\/td><td>LIABILITIES<\\/td><td>HR<\\/td><td>Cleveland<\\/td><td>USD 4264.54 million<\\/td><\\/tr><tr><th>93<\\/th><td>Region B<\\/td><td>2021<\\/td><td>2<\\/td><td>LIABILITIES<\\/td><td>IT<\\/td><td>Dallas<\\/td><td>USD 3955.2 million<\\/td><\\/tr><tr><th>94<\\/th><td>Region B<\\/td><td>2021<\\/td><td>2<\\/td><td>ASSETS<\\/td><td>BUSINESS<\\/td><td>Dallas<\\/td><td>USD 3490.1 million<\\/td><\\/tr><tr><th>95<\\/th><td>Region B<\\/td><td>2021<\\/td><td>2<\\/td><td>LIABILITIES<\\/td><td>SALES<\\/td><td>Chicago<\\/td><td>USD 3707.97 million<\\/td><\\/tr><tr><th>96<\\/th><td>Region B<\\/td><td>2021<\\/td><td>2<\\/td><td>NET_WORTH<\\/td><td>IT<\\/td><td>Minneapolis<\\/td><td>USD 4193.11 million<\\/td><\\/tr><tr><th>97<\\/th><td>Region B<\\/td><td>2021<\\/td><td>2<\\/td><td>REVENUE<\\/td><td>OTHERS<\\/td><td>Richmond<\\/td><td>USD 3603.43 million<\\/td><\\/tr><tr><th>98<\\/th><td>Region B<\\/td><td>2021<\\/td><td>2<\\/td><td>NET_WORTH<\\/td><td>HR<\\/td><td>St. Louis<\\/td><td>USD 3695.22 million<\\/td><\\/tr><tr><th>99<\\/th><td>Region B<\\/td><td>2021<\\/td><td>2<\\/td><td>REVENUE<\\/td><td>OTHERS<\\/td><td>St. Louis<\\/td><td>USD 4403.11 million<\\/td><\\/tr><tr><th>100<\\/th><td>Region B<\\/td><td>2021<\\/td><td>2<\\/td><td>LIABILITIES<\\/td><td>BUSINESS<\\/td><td>Kansas City<\\/td><td>USD 4180.52 million<\\/td><\\/tr><tr><th>101<\\/th><td>Region B<\\/td><td>2021<\\/td><td>2<\\/td><td>ASSETS<\\/td><td>OTHERS<\\/td><td>Philadelphia<\\/td><td>USD 4340.48 million<\\/td><\\/tr><tr><th>102<\\/th><td>Region B<\\/td><td>2021<\\/td><td>2<\\/td><td>NET_WORTH<\\/td><td>OTHERS<\\/td><td>Richmond<\\/td><td>USD 3637.72 million<\\/td><\\/tr><tr><th>103<\\/th><td>Region B<\\/td><td>2021<\\/td><td>2<\\/td><td>NET_WORTH<\\/td><td>BUSINESS<\\/td><td>Atlanta<\\/td><td>USD 3819.95 million<\\/td><\\/tr><tr><th>104<\\/th><td>Region B<\\/td><td>2021<\\/td><td>2<\\/td><td>LIABILITIES<\\/td><td>IT<\\/td><td>St. Louis<\\/td><td>USD 4330.74 million<\\/td><\\/tr><tr><th>105<\\/th><td>Region B<\\/td><td>2021<\\/td><td>2<\\/td><td>LIABILITIES<\\/td><td>HR<\\/td><td>Chicago<\\/td><td>USD 4462.25 million<\\/td><\\/tr><tr><th>106<\\/th><td>Region B<\\/td><td>2021<\\/td><td>2<\\/td><td>LIABILITIES<\\/td><td>IT<\\/td><td>Richmond<\\/td><td>USD 3847.22 million<\\/td><\\/tr><tr><th>107<\\/th><td>Region B<\\/td><td>2021<\\/td><td>2<\\/td><td>ASSETS<\\/td><td>IT<\\/td><td>Chicago<\\/td><td>USD 4822.65 million<\\/td><\\/tr><tr><th>108<\\/th><td>Region B<\\/td><td>2021<\\/td><td>2<\\/td><td>NET_WORTH<\\/td><td>HR<\\/td><td>San Francisco<\\/td><td>USD 3416.2 million<\\/td><\\/tr><tr><th>109<\\/th><td>Region B<\\/td><td>2021<\\/td><td>2<\\/td><td>REVENUE<\\/td><td>HR<\\/td><td>San Francisco<\\/td><td>USD 4190.61 million<\\/td><\\/tr><tr><th>110<\\/th><td>Region B<\\/td><td>2021<\\/td><td>2<\\/td><td>REVENUE<\\/td><td>HR<\\/td><td>St. Louis<\\/td><td>USD 3361.44 million<\\/td><\\/tr><tr><th>111<\\/th><td>Region B<\\/td><td>2021<\\/td><td>2<\\/td><td>LIABILITIES<\\/td><td>OTHERS<\\/td><td>Chicago<\\/td><td>USD 3493.54 million<\\/td><\\/tr><tr><th>112<\\/th><td>Region B<\\/td><td>2021<\\/td><td>2<\\/td><td>NET_WORTH<\\/td><td>OTHERS<\\/td><td>Philadelphia<\\/td><td>USD 4183.27 million<\\/td><\\/tr><tr><th>113<\\/th><td>Region B<\\/td><td>2021<\\/td><td>2<\\/td><td>LIABILITIES<\\/td><td>IT<\\/td><td>Chicago<\\/td><td>USD 3485.87 million<\\/td><\\/tr><tr><th>114<\\/th><td>Region B<\\/td><td>2021<\\/td><td>2<\\/td><td>LIABILITIES<\\/td><td>HR<\\/td><td>Philadelphia<\\/td><td>USD 3707.13 million<\\/td><\\/tr><tr><th>115<\\/th><td>Region B<\\/td><td>2021<\\/td><td>2<\\/td><td>REVENUE<\\/td><td>OTHERS<\\/td><td>Kansas City<\\/td><td>USD 3214.86 million<\\/td><\\/tr><tr><th>116<\\/th><td>Region B<\\/td><td>2021<\\/td><td>2<\\/td><td>ASSETS<\\/td><td>SALES<\\/td><td>Boston<\\/td><td>USD 3922.61 million<\\/td><\\/tr><tr><th>117<\\/th><td>Region B<\\/td><td>2021<\\/td><td>2<\\/td><td>REVENUE<\\/td><td>OTHERS<\\/td><td>San Francisco<\\/td><td>USD 3555.88 million<\\/td><\\/tr><tr><th>118<\\/th><td>Region B<\\/td><td>2021<\\/td><td>2<\\/td><td>NET_WORTH<\\/td><td>OTHERS<\\/td><td>Boston<\\/td><td>USD 4289.68 million<\\/td><\\/tr><tr><th>119<\\/th><td>Region B<\\/td><td>2021<\\/td><td>2<\\/td><td>REVENUE<\\/td><td>HR<\\/td><td>New York<\\/td><td>USD 4009.5 million<\\/td><\\/tr><tr><th>120<\\/th><td>Region B<\\/td><td>2021<\\/td><td>2<\\/td><td>LIABILITIES<\\/td><td>HR<\\/td><td>St. Louis<\\/td><td>USD 3378.73 million<\\/td><\\/tr><tr><th>121<\\/th><td>Region B<\\/td><td>2021<\\/td><td>2<\\/td><td>LIABILITIES<\\/td><td>IT<\\/td><td>Philadelphia<\\/td><td>USD 4527.18 million<\\/td><\\/tr><tr><th>122<\\/th><td>Region B<\\/td><td>2021<\\/td><td>2<\\/td><td>REVENUE<\\/td><td>BUSINESS<\\/td><td>Minneapolis<\\/td><td>USD 4334.13 million<\\/td><\\/tr><tr><th>123<\\/th><td>Region B<\\/td><td>2021<\\/td><td>2<\\/td><td>LIABILITIES<\\/td><td>HR<\\/td><td>Richmond<\\/td><td>USD 3778.13 million<\\/td><\\/tr><tr><th>124<\\/th><td>Region B<\\/td><td>2021<\\/td><td>2<\\/td><td>ASSETS<\\/td><td>HR<\\/td><td>Cleveland<\\/td><td>USD 3856.62 million<\\/td><\\/tr><tr><th>125<\\/th><td>Region B<\\/td><td>2021<\\/td><td>2<\\/td><td>ASSETS<\\/td><td>HR<\\/td><td>Chicago<\\/td><td>USD 4201.79 million<\\/td><\\/tr><tr><th>126<\\/th><td>Region B<\\/td><td>2021<\\/td><td>2<\\/td><td>NET_WORTH<\\/td><td>IT<\\/td><td>San Francisco<\\/td><td>USD 4081.03 million<\\/td><\\/tr><tr><th>127<\\/th><td>Region B<\\/td><td>2021<\\/td><td>2<\\/td><td>LIABILITIES<\\/td><td>BUSINESS<\\/td><td>Minneapolis<\\/td><td>USD 4606.12 million<\\/td><\\/tr><tr><th>128<\\/th><td>Region B<\\/td><td>2021<\\/td><td>2<\\/td><td>NET_WORTH<\\/td><td>SALES<\\/td><td>Dallas<\\/td><td>USD 4755.48 million<\\/td><\\/tr><tr><th>129<\\/th><td>Region B<\\/td><td>2021<\\/td><td>2<\\/td><td>LIABILITIES<\\/td><td>OTHERS<\\/td><td>Boston<\\/td><td>USD 4478.02 million<\\/td><\\/tr><tr><th>130<\\/th><td>Region B<\\/td><td>2021<\\/td><td>2<\\/td><td>LIABILITIES<\\/td><td>BUSINESS<\\/td><td>San Francisco<\\/td><td>USD 3061.28 million<\\/td><\\/tr><tr><th>131<\\/th><td>Region B<\\/td><td>2021<\\/td><td>2<\\/td><td>LIABILITIES<\\/td><td>BUSINESS<\\/td><td>Richmond<\\/td><td>USD 4323.81 million<\\/td><\\/tr><tr><th>132<\\/th><td>Region B<\\/td><td>2021<\\/td><td>2<\\/td><td>NET_WORTH<\\/td><td>HR<\\/td><td>Cleveland<\\/td><td>USD 3443.24 million<\\/td><\\/tr><tr><th>133<\\/th><td>Region B<\\/td><td>2021<\\/td><td>2<\\/td><td>ASSETS<\\/td><td>OTHERS<\\/td><td>Minneapolis<\\/td><td>USD 3868.44 million<\\/td><\\/tr><tr><th>134<\\/th><td>Region B<\\/td><td>2021<\\/td><td>2<\\/td><td>NET_WORTH<\\/td><td>SALES<\\/td><td>San Francisco<\\/td><td>USD 3124.19 million<\\/td><\\/tr><tr><th>135<\\/th><td>Region B<\\/td><td>2021<\\/td><td>2<\\/td><td>ASSETS<\\/td><td>OTHERS<\\/td><td>St. Louis<\\/td><td>USD 3942.33 million<\\/td><\\/tr><tr><th>136<\\/th><td>Region B<\\/td><td>2021<\\/td><td>2<\\/td><td>ASSETS<\\/td><td>SALES<\\/td><td>Dallas<\\/td><td>USD 3754.68 million<\\/td><\\/tr><tr><th>137<\\/th><td>Region B<\\/td><td>2021<\\/td><td>2<\\/td><td>ASSETS<\\/td><td>SALES<\\/td><td>Minneapolis<\\/td><td>USD 2638.33 million<\\/td><\\/tr><tr><th>138<\\/th><td>Region B<\\/td><td>2021<\\/td><td>2<\\/td><td>ASSETS<\\/td><td>OTHERS<\\/td><td>Cleveland<\\/td><td>USD 4146.61 million<\\/td><\\/tr><tr><th>139<\\/th><td>Region B<\\/td><td>2021<\\/td><td>2<\\/td><td>ASSETS<\\/td><td>OTHERS<\\/td><td>Chicago<\\/td><td>USD 3917.89 million<\\/td><\\/tr><tr><th>140<\\/th><td>Region B<\\/td><td>2021<\\/td><td>2<\\/td><td>NET_WORTH<\\/td><td>IT<\\/td><td>Atlanta<\\/td><td>USD 3295.98 million<\\/td><\\/tr><tr><th>141<\\/th><td>Region B<\\/td><td>2021<\\/td><td>2<\\/td><td>REVENUE<\\/td><td>IT<\\/td><td>Dallas<\\/td><td>USD 3887.11 million<\\/td><\\/tr><tr><th>142<\\/th><td>Region B<\\/td><td>2021<\\/td><td>2<\\/td><td>REVENUE<\\/td><td>HR<\\/td><td>Atlanta<\\/td><td>USD 3989.15 million<\\/td><\\/tr><tr><th>143<\\/th><td>Region B<\\/td><td>2021<\\/td><td>2<\\/td><td>REVENUE<\\/td><td>HR<\\/td><td>Cleveland<\\/td><td>USD 3983.46 million<\\/td><\\/tr><tr><th>144<\\/th><td>Region B<\\/td><td>2021<\\/td><td>2<\\/td><td>NET_WORTH<\\/td><td>SALES<\\/td><td>Chicago<\\/td><td>USD 4376.57 million<\\/td><\\/tr><tr><th>145<\\/th><td>Region B<\\/td><td>2021<\\/td><td>2<\\/td><td>ASSETS<\\/td><td>OTHERS<\\/td><td>Boston<\\/td><td>USD 3927.45 million<\\/td><\\/tr><tr><th>146<\\/th><td>Region B<\\/td><td>2021<\\/td><td>2<\\/td><td>REVENUE<\\/td><td>OTHERS<\\/td><td>New York<\\/td><td>USD 3263.27 million<\\/td><\\/tr><tr><th>147<\\/th><td>Region B<\\/td><td>2021<\\/td><td>2<\\/td><td>NET_WORTH<\\/td><td>BUSINESS<\\/td><td>Philadelphia<\\/td><td>USD 3411.73 million<\\/td><\\/tr><tr><th>148<\\/th><td>Region B<\\/td><td>2021<\\/td><td>2<\\/td><td>LIABILITIES<\\/td><td>SALES<\\/td><td>Boston<\\/td><td>USD 3520.68 million<\\/td><\\/tr><tr><th>149<\\/th><td>Region B<\\/td><td>2021<\\/td><td>2<\\/td><td>REVENUE<\\/td><td>SALES<\\/td><td>New York<\\/td><td>USD 4735.84 million<\\/td><\\/tr><tr><th>150<\\/th><td>Region B<\\/td><td>2021<\\/td><td>2<\\/td><td>LIABILITIES<\\/td><td>BUSINESS<\\/td><td>St. Louis<\\/td><td>USD 3669.81 million<\\/td><\\/tr><tr><th>151<\\/th><td>Region B<\\/td><td>2021<\\/td><td>2<\\/td><td>NET_WORTH<\\/td><td>SALES<\\/td><td>Minneapolis<\\/td><td>USD 4296.49 million<\\/td><\\/tr><tr><th>152<\\/th><td>Region B<\\/td><td>2021<\\/td><td>2<\\/td><td>ASSETS<\\/td><td>BUSINESS<\\/td><td>Richmond<\\/td><td>USD 3916.94 million<\\/td><\\/tr><tr><th>153<\\/th><td>Region B<\\/td><td>2021<\\/td><td>2<\\/td><td>NET_WORTH<\\/td><td>HR<\\/td><td>Kansas City<\\/td><td>USD 4378.44 million<\\/td><\\/tr><tr><th>154<\\/th><td>Region B<\\/td><td>2021<\\/td><td>2<\\/td><td>ASSETS<\\/td><td>HR<\\/td><td>New York<\\/td><td>USD 4182.17 million<\\/td><\\/tr><tr><th>155<\\/th><td>Region B<\\/td><td>2021<\\/td><td>2<\\/td><td>NET_WORTH<\\/td><td>SALES<\\/td><td>Philadelphia<\\/td><td>USD 4345.23 million<\\/td><\\/tr><tr><th>156<\\/th><td>Region B<\\/td><td>2021<\\/td><td>2<\\/td><td>NET_WORTH<\\/td><td>IT<\\/td><td>Cleveland<\\/td><td>USD 3787.16 million<\\/td><\\/tr><tr><th>157<\\/th><td>Region B<\\/td><td>2021<\\/td><td>2<\\/td><td>ASSETS<\\/td><td>OTHERS<\\/td><td>Richmond<\\/td><td>USD 3765.26 million<\\/td><\\/tr><tr><th>158<\\/th><td>Region B<\\/td><td>2021<\\/td><td>2<\\/td><td>ASSETS<\\/td><td>HR<\\/td><td>St. Louis<\\/td><td>USD 4655.51 million<\\/td><\\/tr><tr><th>159<\\/th><td>Region B<\\/td><td>2021<\\/td><td>2<\\/td><td>ASSETS<\\/td><td>IT<\\/td><td>Cleveland<\\/td><td>USD 5150.0 million<\\/td><\\/tr><tr><th>160<\\/th><td>Region B<\\/td><td>2021<\\/td><td>2<\\/td><td>LIABILITIES<\\/td><td>IT<\\/td><td>New York<\\/td><td>USD 3921.97 million<\\/td><\\/tr><tr><th>161<\\/th><td>Region B<\\/td><td>2021<\\/td><td>2<\\/td><td>LIABILITIES<\\/td><td>HR<\\/td><td>Minneapolis<\\/td><td>USD 4332.34 million<\\/td><\\/tr><tr><th>162<\\/th><td>Region B<\\/td><td>2021<\\/td><td>2<\\/td><td>REVENUE<\\/td><td>OTHERS<\\/td><td>Boston<\\/td><td>USD 4221.1 million<\\/td><\\/tr><tr><th>163<\\/th><td>Region B<\\/td><td>2021<\\/td><td>2<\\/td><td>REVENUE<\\/td><td>SALES<\\/td><td>Philadelphia<\\/td><td>USD 4518.49 million<\\/td><\\/tr><tr><th>164<\\/th><td>Region B<\\/td><td>2021<\\/td><td>2<\\/td><td>ASSETS<\\/td><td>IT<\\/td><td>San Francisco<\\/td><td>USD 3803.69 million<\\/td><\\/tr><tr><th>165<\\/th><td>Region B<\\/td><td>2021<\\/td><td>2<\\/td><td>ASSETS<\\/td><td>IT<\\/td><td>Atlanta<\\/td><td>USD 3630.48 million<\\/td><\\/tr><tr><th>166<\\/th><td>Region B<\\/td><td>2021<\\/td><td>2<\\/td><td>REVENUE<\\/td><td>IT<\\/td><td>New York<\\/td><td>USD 4389.13 million<\\/td><\\/tr><tr><th>167<\\/th><td>Region B<\\/td><td>2021<\\/td><td>2<\\/td><td>NET_WORTH<\\/td><td>HR<\\/td><td>Richmond<\\/td><td>USD 4715.37 million<\\/td><\\/tr><tr><th>168<\\/th><td>Region B<\\/td><td>2021<\\/td><td>2<\\/td><td>REVENUE<\\/td><td>IT<\\/td><td>Richmond<\\/td><td>USD 3878.62 million<\\/td><\\/tr><tr><th>169<\\/th><td>Region B<\\/td><td>2021<\\/td><td>2<\\/td><td>REVENUE<\\/td><td>SALES<\\/td><td>Minneapolis<\\/td><td>USD 3874.8 million<\\/td><\\/tr><tr><th>170<\\/th><td>Region B<\\/td><td>2021<\\/td><td>2<\\/td><td>REVENUE<\\/td><td>BUSINESS<\\/td><td>Boston<\\/td><td>USD 4498.18 million<\\/td><\\/tr><tr><th>171<\\/th><td>Region B<\\/td><td>2021<\\/td><td>2<\\/td><td>LIABILITIES<\\/td><td>SALES<\\/td><td>Cleveland<\\/td><td>USD 3943.81 million<\\/td><\\/tr><tr><th>172<\\/th><td>Region B<\\/td><td>2021<\\/td><td>2<\\/td><td>NET_WORTH<\\/td><td>OTHERS<\\/td><td>Dallas<\\/td><td>USD 4998.53 million<\\/td><\\/tr><tr><th>173<\\/th><td>Region B<\\/td><td>2021<\\/td><td>2<\\/td><td>ASSETS<\\/td><td>SALES<\\/td><td>St. Louis<\\/td><td>USD 4250.38 million<\\/td><\\/tr><tr><th>174<\\/th><td>Region B<\\/td><td>2021<\\/td><td>2<\\/td><td>LIABILITIES<\\/td><td>OTHERS<\\/td><td>Cleveland<\\/td><td>USD 4440.21 million<\\/td><\\/tr><tr><th>175<\\/th><td>Region B<\\/td><td>2021<\\/td><td>2<\\/td><td>LIABILITIES<\\/td><td>OTHERS<\\/td><td>St. Louis<\\/td><td>USD 4461.69 million<\\/td><\\/tr><tr><th>176<\\/th><td>Region B<\\/td><td>2021<\\/td><td>2<\\/td><td>NET_WORTH<\\/td><td>IT<\\/td><td>Boston<\\/td><td>USD 4448.35 million<\\/td><\\/tr><tr><th>177<\\/th><td>Region B<\\/td><td>2021<\\/td><td>2<\\/td><td>NET_WORTH<\\/td><td>BUSINESS<\\/td><td>Minneapolis<\\/td><td>USD 4480.38 million<\\/td><\\/tr><tr><th>178<\\/th><td>Region B<\\/td><td>2021<\\/td><td>2<\\/td><td>ASSETS<\\/td><td>BUSINESS<\\/td><td>St. Louis<\\/td><td>USD 3544.04 million<\\/td><\\/tr><tr><th>179<\\/th><td>Region B<\\/td><td>2021<\\/td><td>2<\\/td><td>LIABILITIES<\\/td><td>HR<\\/td><td>New York<\\/td><td>USD 3549.84 million<\\/td><\\/tr><tr><th>180<\\/th><td>Region B<\\/td><td>2021<\\/td><td>2<\\/td><td>LIABILITIES<\\/td><td>SALES<\\/td><td>New York<\\/td><td>USD 4387.0 million<\\/td><\\/tr><tr><th>181<\\/th><td>Region B<\\/td><td>2021<\\/td><td>2<\\/td><td>REVENUE<\\/td><td>OTHERS<\\/td><td>Dallas<\\/td><td>USD 3616.4 million<\\/td><\\/tr><tr><th>182<\\/th><td>Region B<\\/td><td>2021<\\/td><td>2<\\/td><td>REVENUE<\\/td><td>IT<\\/td><td>Chicago<\\/td><td>USD 3961.33 million<\\/td><\\/tr><tr><th>183<\\/th><td>Region B<\\/td><td>2021<\\/td><td>2<\\/td><td>REVENUE<\\/td><td>BUSINESS<\\/td><td>New York<\\/td><td>USD 3625.01 million<\\/td><\\/tr><tr><th>184<\\/th><td>Region B<\\/td><td>2021<\\/td><td>2<\\/td><td>LIABILITIES<\\/td><td>BUSINESS<\\/td><td>Boston<\\/td><td>USD 4627.67 million<\\/td><\\/tr><tr><th>185<\\/th><td>Region B<\\/td><td>2021<\\/td><td>2<\\/td><td>LIABILITIES<\\/td><td>HR<\\/td><td>San Francisco<\\/td><td>USD 4498.27 million<\\/td><\\/tr><tr><th>186<\\/th><td>Region B<\\/td><td>2021<\\/td><td>2<\\/td><td>ASSETS<\\/td><td>HR<\\/td><td>Kansas City<\\/td><td>USD 3924.74 million<\\/td><\\/tr><tr><th>187<\\/th><td>Region B<\\/td><td>2021<\\/td><td>2<\\/td><td>REVENUE<\\/td><td>SALES<\\/td><td>San Francisco<\\/td><td>USD 3641.69 million<\\/td><\\/tr><tr><th>188<\\/th><td>Region B<\\/td><td>2021<\\/td><td>2<\\/td><td>REVENUE<\\/td><td>OTHERS<\\/td><td>Chicago<\\/td><td>USD 3815.97 million<\\/td><\\/tr><tr><th>189<\\/th><td>Region B<\\/td><td>2021<\\/td><td>2<\\/td><td>NET_WORTH<\\/td><td>OTHERS<\\/td><td>St. Louis<\\/td><td>USD 4463.89 million<\\/td><\\/tr><tr><th>190<\\/th><td>Region B<\\/td><td>2021<\\/td><td>2<\\/td><td>ASSETS<\\/td><td>BUSINESS<\\/td><td>Philadelphia<\\/td><td>USD 3579.11 million<\\/td><\\/tr><tr><th>191<\\/th><td>Region B<\\/td><td>2021<\\/td><td>2<\\/td><td>REVENUE<\\/td><td>BUSINESS<\\/td><td>San Francisco<\\/td><td>USD 3290.47 million<\\/td><\\/tr><tr><th>192<\\/th><td>Region B<\\/td><td>2021<\\/td><td>2<\\/td><td>LIABILITIES<\\/td><td>OTHERS<\\/td><td>Minneapolis<\\/td><td>USD 3416.22 million<\\/td><\\/tr><tr><th>193<\\/th><td>Region B<\\/td><td>2021<\\/td><td>2<\\/td><td>ASSETS<\\/td><td>IT<\\/td><td>Dallas<\\/td><td>USD 3506.32 million<\\/td><\\/tr><tr><th>194<\\/th><td>Region B<\\/td><td>2021<\\/td><td>2<\\/td><td>NET_WORTH<\\/td><td>BUSINESS<\\/td><td>St. Louis<\\/td><td>USD 4947.56 million<\\/td><\\/tr><tr><th>195<\\/th><td>Region B<\\/td><td>2021<\\/td><td>2<\\/td><td>NET_WORTH<\\/td><td>BUSINESS<\\/td><td>San Francisco<\\/td><td>USD 4297.84 million<\\/td><\\/tr><tr><th>196<\\/th><td>Region B<\\/td><td>2021<\\/td><td>2<\\/td><td>REVENUE<\\/td><td>HR<\\/td><td>Richmond<\\/td><td>USD 3994.18 million<\\/td><\\/tr><tr><th>197<\\/th><td>Region B<\\/td><td>2021<\\/td><td>2<\\/td><td>REVENUE<\\/td><td>SALES<\\/td><td>Kansas City<\\/td><td>USD 3945.2 million<\\/td><\\/tr><tr><th>198<\\/th><td>Region B<\\/td><td>2021<\\/td><td>2<\\/td><td>ASSETS<\\/td><td>OTHERS<\\/td><td>New York<\\/td><td>USD 4133.53 million<\\/td><\\/tr><tr><th>199<\\/th><td>Region B<\\/td><td>2021<\\/td><td>2<\\/td><td>REVENUE<\\/td><td>OTHERS<\\/td><td>Cleveland<\\/td><td>USD 3156.42 million<\\/td><\\/tr><tr><th>200<\\/th><td>Region B<\\/td><td>2021<\\/td><td>2<\\/td><td>REVENUE<\\/td><td>BUSINESS<\\/td><td>Chicago<\\/td><td>USD 3495.35 million<\\/td><\\/tr><tr><th>201<\\/th><td>Region B<\\/td><td>2021<\\/td><td>2<\\/td><td>NET_WORTH<\\/td><td>IT<\\/td><td>Richmond<\\/td><td>USD 4037.96 million<\\/td><\\/tr><tr><th>202<\\/th><td>Region B<\\/td><td>2021<\\/td><td>2<\\/td><td>NET_WORTH<\\/td><td>OTHERS<\\/td><td>Cleveland<\\/td><td>USD 3950.75 million<\\/td><\\/tr><tr><th>203<\\/th><td>Region B<\\/td><td>2021<\\/td><td>2<\\/td><td>LIABILITIES<\\/td><td>BUSINESS<\\/td><td>Atlanta<\\/td><td>USD 3909.57 million<\\/td><\\/tr><tr><th>204<\\/th><td>Region B<\\/td><td>2021<\\/td><td>2<\\/td><td>ASSETS<\\/td><td>SALES<\\/td><td>Philadelphia<\\/td><td>USD 3477.24 million<\\/td><\\/tr><tr><th>205<\\/th><td>Region B<\\/td><td>2021<\\/td><td>2<\\/td><td>NET_WORTH<\\/td><td>HR<\\/td><td>Atlanta<\\/td><td>USD 3750.61 million<\\/td><\\/tr><tr><th>206<\\/th><td>Region B<\\/td><td>2021<\\/td><td>2<\\/td><td>REVENUE<\\/td><td>BUSINESS<\\/td><td>Atlanta<\\/td><td>USD 3524.35 million<\\/td><\\/tr><tr><th>207<\\/th><td>Region B<\\/td><td>2021<\\/td><td>2<\\/td><td>ASSETS<\\/td><td>HR<\\/td><td>Atlanta<\\/td><td>USD 3877.97 million<\\/td><\\/tr><tr><th>208<\\/th><td>Region B<\\/td><td>2021<\\/td><td>2<\\/td><td>REVENUE<\\/td><td>IT<\\/td><td>Boston<\\/td><td>USD 3771.93 million<\\/td><\\/tr><tr><th>209<\\/th><td>Region B<\\/td><td>2021<\\/td><td>2<\\/td><td>REVENUE<\\/td><td>OTHERS<\\/td><td>Philadelphia<\\/td><td>USD 3863.22 million<\\/td><\\/tr><tr><th>210<\\/th><td>Region B<\\/td><td>2021<\\/td><td>2<\\/td><td>NET_WORTH<\\/td><td>OTHERS<\\/td><td>New York<\\/td><td>USD 3363.16 million<\\/td><\\/tr><tr><th>211<\\/th><td>Region B<\\/td><td>2021<\\/td><td>2<\\/td><td>NET_WORTH<\\/td><td>SALES<\\/td><td>Richmond<\\/td><td>USD 3768.73 million<\\/td><\\/tr><tr><th>212<\\/th><td>Region B<\\/td><td>2021<\\/td><td>2<\\/td><td>REVENUE<\\/td><td>HR<\\/td><td>Philadelphia<\\/td><td>USD 3751.32 million<\\/td><\\/tr><tr><th>213<\\/th><td>Region B<\\/td><td>2021<\\/td><td>2<\\/td><td>NET_WORTH<\\/td><td>BUSINESS<\\/td><td>New York<\\/td><td>USD 3786.22 million<\\/td><\\/tr><tr><th>214<\\/th><td>Region B<\\/td><td>2021<\\/td><td>2<\\/td><td>NET_WORTH<\\/td><td>BUSINESS<\\/td><td>Kansas City<\\/td><td>USD 3168.14 million<\\/td><\\/tr><tr><th>215<\\/th><td>Region B<\\/td><td>2021<\\/td><td>2<\\/td><td>NET_WORTH<\\/td><td>OTHERS<\\/td><td>Kansas City<\\/td><td>USD 3765.9 million<\\/td><\\/tr><tr><th>216<\\/th><td>Region B<\\/td><td>2021<\\/td><td>2<\\/td><td>ASSETS<\\/td><td>HR<\\/td><td>Dallas<\\/td><td>USD 3211.58 million<\\/td><\\/tr><tr><th>217<\\/th><td>Region B<\\/td><td>2021<\\/td><td>2<\\/td><td>NET_WORTH<\\/td><td>HR<\\/td><td>Dallas<\\/td><td>USD 5013.63 million<\\/td><\\/tr><tr><th>218<\\/th><td>Region B<\\/td><td>2021<\\/td><td>2<\\/td><td>LIABILITIES<\\/td><td>IT<\\/td><td>Boston<\\/td><td>USD 3499.94 million<\\/td><\\/tr><tr><th>219<\\/th><td>Region B<\\/td><td>2021<\\/td><td>2<\\/td><td>NET_WORTH<\\/td><td>OTHERS<\\/td><td>Atlanta<\\/td><td>USD 4442.08 million<\\/td><\\/tr><tr><th>220<\\/th><td>Region B<\\/td><td>2021<\\/td><td>2<\\/td><td>ASSETS<\\/td><td>OTHERS<\\/td><td>San Francisco<\\/td><td>USD 3914.48 million<\\/td><\\/tr><tr><th>221<\\/th><td>Region B<\\/td><td>2021<\\/td><td>2<\\/td><td>LIABILITIES<\\/td><td>SALES<\\/td><td>Richmond<\\/td><td>USD 3139.59 million<\\/td><\\/tr><tr><th>222<\\/th><td>Region B<\\/td><td>2021<\\/td><td>2<\\/td><td>ASSETS<\\/td><td>SALES<\\/td><td>New York<\\/td><td>USD 3224.55 million<\\/td><\\/tr><tr><th>223<\\/th><td>Region B<\\/td><td>2021<\\/td><td>2<\\/td><td>LIABILITIES<\\/td><td>SALES<\\/td><td>Atlanta<\\/td><td>USD 4241.26 million<\\/td><\\/tr><tr><th>224<\\/th><td>Region B<\\/td><td>2021<\\/td><td>2<\\/td><td>LIABILITIES<\\/td><td>OTHERS<\\/td><td>Dallas<\\/td><td>USD 3695.96 million<\\/td><\\/tr><tr><th>225<\\/th><td>Region B<\\/td><td>2021<\\/td><td>2<\\/td><td>ASSETS<\\/td><td>BUSINESS<\\/td><td>Kansas City<\\/td><td>USD 3119.45 million<\\/td><\\/tr><tr><th>226<\\/th><td>Region B<\\/td><td>2021<\\/td><td>2<\\/td><td>REVENUE<\\/td><td>SALES<\\/td><td>St. Louis<\\/td><td>USD 4053.0 million<\\/td><\\/tr><tr><th>227<\\/th><td>Region B<\\/td><td>2021<\\/td><td>2<\\/td><td>REVENUE<\\/td><td>OTHERS<\\/td><td>Atlanta<\\/td><td>USD 3683.48 million<\\/td><\\/tr><tr><th>228<\\/th><td>Region B<\\/td><td>2021<\\/td><td>2<\\/td><td>ASSETS<\\/td><td>SALES<\\/td><td>San Francisco<\\/td><td>USD 3291.86 million<\\/td><\\/tr><tr><th>229<\\/th><td>Region B<\\/td><td>2021<\\/td><td>2<\\/td><td>NET_WORTH<\\/td><td>HR<\\/td><td>Chicago<\\/td><td>USD 3804.4 million<\\/td><\\/tr><tr><th>230<\\/th><td>Region B<\\/td><td>2021<\\/td><td>2<\\/td><td>ASSETS<\\/td><td>SALES<\\/td><td>Atlanta<\\/td><td>USD 3943.89 million<\\/td><\\/tr><tr><th>231<\\/th><td>Region B<\\/td><td>2021<\\/td><td>2<\\/td><td>ASSETS<\\/td><td>BUSINESS<\\/td><td>Boston<\\/td><td>USD 3909.51 million<\\/td><\\/tr><tr><th>232<\\/th><td>Region B<\\/td><td>2021<\\/td><td>2<\\/td><td>ASSETS<\\/td><td>HR<\\/td><td>Richmond<\\/td><td>USD 3539.07 million<\\/td><\\/tr><tr><th>233<\\/th><td>Region B<\\/td><td>2021<\\/td><td>2<\\/td><td>REVENUE<\\/td><td>IT<\\/td><td>Cleveland<\\/td><td>USD 3763.62 million<\\/td><\\/tr><tr><th>234<\\/th><td>Region B<\\/td><td>2021<\\/td><td>2<\\/td><td>LIABILITIES<\\/td><td>IT<\\/td><td>Cleveland<\\/td><td>USD 5007.31 million<\\/td><\\/tr><tr><th>235<\\/th><td>Region B<\\/td><td>2021<\\/td><td>2<\\/td><td>LIABILITIES<\\/td><td>OTHERS<\\/td><td>Kansas City<\\/td><td>USD 4477.97 million<\\/td><\\/tr><tr><th>236<\\/th><td>Region B<\\/td><td>2021<\\/td><td>2<\\/td><td>NET_WORTH<\\/td><td>SALES<\\/td><td>Cleveland<\\/td><td>USD 3637.36 million<\\/td><\\/tr><tr><th>237<\\/th><td>Region B<\\/td><td>2021<\\/td><td>2<\\/td><td>ASSETS<\\/td><td>BUSINESS<\\/td><td>Atlanta<\\/td><td>USD 3405.35 million<\\/td><\\/tr><tr><th>238<\\/th><td>Region B<\\/td><td>2021<\\/td><td>2<\\/td><td>LIABILITIES<\\/td><td>OTHERS<\\/td><td>San Francisco<\\/td><td>USD 3571.54 million<\\/td><\\/tr><tr><th>239<\\/th><td>Region B<\\/td><td>2021<\\/td><td>2<\\/td><td>REVENUE<\\/td><td>BUSINESS<\\/td><td>Richmond<\\/td><td>USD 3325.6 million<\\/td><\\/tr><tr><th>240<\\/th><td>Region B<\\/td><td>2021<\\/td><td>2<\\/td><td>NET_WORTH<\\/td><td>SALES<\\/td><td>Boston<\\/td><td>USD 2699.08 million<\\/td><\\/tr><\\/tbody><\\/table><\\/div>\"},\"nodeType\":\"DOM\",\"type\":\"node\",\"instanceArgs\":{\"namespace\":\"html\",\"tag\":\"div\"},\"children\":[]}]}}}},\"children\":[{\"props\":{},\"nodeType\":\"ObservableNode\",\"type\":\"node\",\"instanceArgs\":{\"id\":\"17376963721366874954\",\"name\":\"obs-node\"},\"children\":[]}]}]},\n",
       "        window,\n",
       "    );\n",
       "    })()\n",
       "    </script>\n",
       "</div>\n"
      ],
      "text/plain": [
       "Node{WebIO.DOM}(WebIO.DOM(:html, :div), Any[Node{WebIO.DOM}(WebIO.DOM(:html, :div), Any[Scope(Node{WebIO.DOM}(WebIO.DOM(:html, :div), Any[Node{WebIO.DOM}(WebIO.DOM(:html, :div), Any[Node{WebIO.DOM}(WebIO.DOM(:html, :label), Any[\"ld\"], Dict{Symbol, Any}(:className => \"interact \", :style => Dict{Any, Any}(:padding => \"5px 10px 0px 10px\")))], Dict{Symbol, Any}(:className => \"interact-flex-row-left\")), Node{WebIO.DOM}(WebIO.DOM(:html, :div), Any[Node{WebIO.DOM}(WebIO.DOM(:html, :div), Any[Node{WebIO.DOM}(WebIO.DOM(:html, :span), Any[Node{WebIO.DOM}(WebIO.DOM(:html, :label), Any[], Dict{Symbol, Any}(:attributes => Dict(\"data-bind\" => \"text : key\")))], Dict{Symbol, Any}(:attributes => Dict(\"data-bind\" => \"click: function (){\\$root.update(val)}, css: {'is-primary is-selected' : \\$root.index() == val, 'interact-widget is-medium button ' : true}\")))], Dict{Symbol, Any}(:attributes => (\"data-bind\" => \"foreach : options_js\"), :className => \"buttons has-addons is-centered\"))], Dict{Symbol, Any}(:className => \"interact-flex-row-center\")), Node{WebIO.DOM}(WebIO.DOM(:html, :div), Any[Node{WebIO.DOM}(WebIO.DOM(:html, :div), Any[], Dict{Symbol, Any}())], Dict{Symbol, Any}(:className => \"interact-flex-row-right\"))], Dict{Symbol, Any}(:className => \"interact-flex-row interact-widget\")), Dict{String, Tuple{Observables.AbstractObservable, Union{Nothing, Bool}}}(\"options_js\" => (Observable{Vector{OrderedDict}} with 1 listeners. Value:\n",
       "OrderedDict[OrderedDict{String, Any}(\"key\" => \"Actuals\", \"val\" => 1, \"id\" => \"id7S4U0Wvl\"), OrderedDict{String, Any}(\"key\" => \"Budget\", \"val\" => 2, \"id\" => \"idPCG4XiaU\")], nothing), \"index\" => (Observable{Any} with 2 listeners. Value:\n",
       "1, nothing)), Set{String}(), nothing, Asset[Asset(\"js\", \"knockout\", \"/home/ubuntu/.julia/packages/Knockout/3gjS1/src/../assets/knockout.js\"), Asset(\"js\", \"knockout_punches\", \"/home/ubuntu/.julia/packages/Knockout/3gjS1/src/../assets/knockout_punches.js\"), Asset(\"js\", nothing, \"/home/ubuntu/.julia/packages/InteractBase/h8Fwe/src/../assets/all.js\"), Asset(\"css\", nothing, \"/home/ubuntu/.julia/packages/InteractBase/h8Fwe/src/../assets/style.css\"), Asset(\"css\", nothing, \"/home/ubuntu/.julia/packages/Interact/pVyN2/src/../assets/bulma_confined.min.css\")], Dict{Any, Any}(\"options_js\" => Any[WebIO.JSString(\"(function (val){return (val!=this.model[\\\"options_js\\\"]()) ? (this.valueFromJulia[\\\"options_js\\\"]=true, this.model[\\\"options_js\\\"](val)) : undefined})\")], \"index\" => Any[WebIO.JSString(\"(function (val){return (val!=this.model[\\\"index\\\"]()) ? (this.valueFromJulia[\\\"index\\\"]=true, this.model[\\\"index\\\"](val)) : undefined})\")]), WebIO.ConnectionPool(Channel{Any}(32), Set{AbstractConnection}(), Condition(Base.InvasiveLinkedList{Task}(Task (runnable) @0x00007f6d4efbcfe0, Task (runnable) @0x00007f6d4efbcfe0), Base.AlwaysLockedST(1))), WebIO.JSString[WebIO.JSString(\"function () {\\n    var handler = (function (ko, koPunches) {\\n    ko.punches.enableAll();\\n    ko.bindingHandlers.numericValue = {\\n        init: function(element, valueAccessor, allBindings, data, context) {\\n            var stringified = ko.observable(ko.unwrap(valueAccessor()));\\n            stringified.subscribe(function(value) {\\n                var val = parseFloat(value);\\n                if (!isNaN(val)) {\\n                    valueAccessor()(val);\\n                }\\n            });\\n            valueAccessor().subscribe(function(value) {\\n                var str = JSON.stringify(value);\\n                if ((str == \\\"0\\\") && ([\\\"-0\\\", \\\"-0.\\\"].indexOf(stringified()) >= 0))\\n                     return;\\n                 if ([\\\"null\\\", \\\"\\\"].indexOf(str) >= 0)\\n                     return;\\n                stringified(str);\\n            });\\n            ko.applyBindingsToNode(\\n                element,\\n                {\\n                    value: stringified,\\n                    valueUpdate: allBindings.get('valueUpdate'),\\n                },\\n                context,\\n            );\\n        }\\n    };\\n    var json_data = {\\\"options_js\\\":WebIO.getval({\\\"name\\\":\\\"options_js\\\",\\\"scope\\\":\\\"3761771998763380936\\\",\\\"id\\\":\\\"15109083274705896194\\\",\\\"type\\\":\\\"observable\\\"}),\\\"index\\\":WebIO.getval({\\\"name\\\":\\\"index\\\",\\\"scope\\\":\\\"3761771998763380936\\\",\\\"id\\\":\\\"5371304709671703266\\\",\\\"type\\\":\\\"observable\\\"})};\\n    var self = this;\\n    function AppViewModel() {\\n        for (var key in json_data) {\\n            var el = json_data[key];\\n            this[key] = Array.isArray(el) ? ko.observableArray(el) : ko.observable(el);\\n        }\\n        [this[\\\"update\\\"]=function (val) {this.index(val)}]\\n        \\n        [this[\\\"options_js\\\"].subscribe((function (val){!(this.valueFromJulia[\\\"options_js\\\"]) ? (WebIO.setval({\\\"name\\\":\\\"options_js\\\",\\\"scope\\\":\\\"3761771998763380936\\\",\\\"id\\\":\\\"15109083274705896194\\\",\\\"type\\\":\\\"observable\\\"},val)) : undefined; return this.valueFromJulia[\\\"options_js\\\"]=false}),self),this[\\\"index\\\"].subscribe((function (val){!(this.valueFromJulia[\\\"index\\\"]) ? (WebIO.setval({\\\"name\\\":\\\"index\\\",\\\"scope\\\":\\\"3761771998763380936\\\",\\\"id\\\":\\\"5371304709671703266\\\",\\\"type\\\":\\\"observable\\\"},val)) : undefined; return this.valueFromJulia[\\\"index\\\"]=false}),self)]\\n        \\n    }\\n    self.model = new AppViewModel();\\n    self.valueFromJulia = {};\\n    for (var key in json_data) {\\n        self.valueFromJulia[key] = false;\\n    }\\n    ko.applyBindings(self.model, self.dom);\\n}\\n);\\n    (WebIO.importBlock({\\\"data\\\":[{\\\"name\\\":\\\"knockout\\\",\\\"type\\\":\\\"js\\\",\\\"url\\\":\\\"/assetserver/7adbe83fac1553325d6e718d595ab555e1cabbe4-knockout.js\\\"},{\\\"name\\\":\\\"knockout_punches\\\",\\\"type\\\":\\\"js\\\",\\\"url\\\":\\\"/assetserver/cec8c4de011abc05b545afbaaea4bb4465a1f168-knockout_punches.js\\\"}],\\\"type\\\":\\\"async_block\\\"})).then((imports) => handler.apply(this, imports));\\n}\\n\")])], Dict{Symbol, Any}(:className => \"interact-widget\")), Node{WebIO.DOM}(WebIO.DOM(:html, :div), Any[Scope(Node{WebIO.DOM}(WebIO.DOM(:html, :div), Any[Node{WebIO.DOM}(WebIO.DOM(:html, :div), Any[Node{WebIO.DOM}(WebIO.DOM(:html, :label), Any[\"rg\"], Dict{Symbol, Any}(:className => \"interact \", :style => Dict{Any, Any}(:padding => \"5px 10px 0px 10px\")))], Dict{Symbol, Any}(:className => \"interact-flex-row-left\")), Node{WebIO.DOM}(WebIO.DOM(:html, :div), Any[Node{WebIO.DOM}(WebIO.DOM(:html, :div), Any[Node{WebIO.DOM}(WebIO.DOM(:html, :span), Any[Node{WebIO.DOM}(WebIO.DOM(:html, :label), Any[], Dict{Symbol, Any}(:attributes => Dict(\"data-bind\" => \"text : key\")))], Dict{Symbol, Any}(:attributes => Dict(\"data-bind\" => \"click: function (){\\$root.update(val)}, css: {'is-primary is-selected' : \\$root.index() == val, 'interact-widget is-medium button ' : true}\")))], Dict{Symbol, Any}(:attributes => (\"data-bind\" => \"foreach : options_js\"), :className => \"buttons has-addons is-centered\"))], Dict{Symbol, Any}(:className => \"interact-flex-row-center\")), Node{WebIO.DOM}(WebIO.DOM(:html, :div), Any[Node{WebIO.DOM}(WebIO.DOM(:html, :div), Any[], Dict{Symbol, Any}())], Dict{Symbol, Any}(:className => \"interact-flex-row-right\"))], Dict{Symbol, Any}(:className => \"interact-flex-row interact-widget\")), Dict{String, Tuple{Observables.AbstractObservable, Union{Nothing, Bool}}}(\"options_js\" => (Observable{Vector{OrderedDict}} with 1 listeners. Value:\n",
       "OrderedDict[OrderedDict{String, Any}(\"key\" => \"Region B\", \"val\" => 1, \"id\" => \"idGoqQj3Rd\"), OrderedDict{String, Any}(\"key\" => \"Region C\", \"val\" => 2, \"id\" => \"idUNiW9Xlc\"), OrderedDict{String, Any}(\"key\" => \"Region A\", \"val\" => 3, \"id\" => \"idgDHJAkg8\")], nothing), \"index\" => (Observable{Any} with 2 listeners. Value:\n",
       "1, nothing)), Set{String}(), nothing, Asset[Asset(\"js\", \"knockout\", \"/home/ubuntu/.julia/packages/Knockout/3gjS1/src/../assets/knockout.js\"), Asset(\"js\", \"knockout_punches\", \"/home/ubuntu/.julia/packages/Knockout/3gjS1/src/../assets/knockout_punches.js\"), Asset(\"js\", nothing, \"/home/ubuntu/.julia/packages/InteractBase/h8Fwe/src/../assets/all.js\"), Asset(\"css\", nothing, \"/home/ubuntu/.julia/packages/InteractBase/h8Fwe/src/../assets/style.css\"), Asset(\"css\", nothing, \"/home/ubuntu/.julia/packages/Interact/pVyN2/src/../assets/bulma_confined.min.css\")], Dict{Any, Any}(\"options_js\" => Any[WebIO.JSString(\"(function (val){return (val!=this.model[\\\"options_js\\\"]()) ? (this.valueFromJulia[\\\"options_js\\\"]=true, this.model[\\\"options_js\\\"](val)) : undefined})\")], \"index\" => Any[WebIO.JSString(\"(function (val){return (val!=this.model[\\\"index\\\"]()) ? (this.valueFromJulia[\\\"index\\\"]=true, this.model[\\\"index\\\"](val)) : undefined})\")]), WebIO.ConnectionPool(Channel{Any}(32), Set{AbstractConnection}(), Condition(Base.InvasiveLinkedList{Task}(Task (runnable) @0x00007f6d4efbd2c0, Task (runnable) @0x00007f6d4efbd2c0), Base.AlwaysLockedST(1))), WebIO.JSString[WebIO.JSString(\"function () {\\n    var handler = (function (ko, koPunches) {\\n    ko.punches.enableAll();\\n    ko.bindingHandlers.numericValue = {\\n        init: function(element, valueAccessor, allBindings, data, context) {\\n            var stringified = ko.observable(ko.unwrap(valueAccessor()));\\n            stringified.subscribe(function(value) {\\n                var val = parseFloat(value);\\n                if (!isNaN(val)) {\\n                    valueAccessor()(val);\\n                }\\n            });\\n            valueAccessor().subscribe(function(value) {\\n                var str = JSON.stringify(value);\\n                if ((str == \\\"0\\\") && ([\\\"-0\\\", \\\"-0.\\\"].indexOf(stringified()) >= 0))\\n                     return;\\n                 if ([\\\"null\\\", \\\"\\\"].indexOf(str) >= 0)\\n                     return;\\n                stringified(str);\\n            });\\n            ko.applyBindingsToNode(\\n                element,\\n                {\\n                    value: stringified,\\n                    valueUpdate: allBindings.get('valueUpdate'),\\n                },\\n                context,\\n            );\\n        }\\n    };\\n    var json_data = {\\\"options_js\\\":WebIO.getval({\\\"name\\\":\\\"options_js\\\",\\\"scope\\\":\\\"4336181307449966138\\\",\\\"id\\\":\\\"17402697954747100342\\\",\\\"type\\\":\\\"observable\\\"}),\\\"index\\\":WebIO.getval({\\\"name\\\":\\\"index\\\",\\\"scope\\\":\\\"4336181307449966138\\\",\\\"id\\\":\\\"8989126355364358398\\\",\\\"type\\\":\\\"observable\\\"})};\\n    var self = this;\\n    function AppViewModel() {\\n        for (var key in json_data) {\\n            var el = json_data[key];\\n            this[key] = Array.isArray(el) ? ko.observableArray(el) : ko.observable(el);\\n        }\\n        [this[\\\"update\\\"]=function (val) {this.index(val)}]\\n        \\n        [this[\\\"options_js\\\"].subscribe((function (val){!(this.valueFromJulia[\\\"options_js\\\"]) ? (WebIO.setval({\\\"name\\\":\\\"options_js\\\",\\\"scope\\\":\\\"4336181307449966138\\\",\\\"id\\\":\\\"17402697954747100342\\\",\\\"type\\\":\\\"observable\\\"},val)) : undefined; return this.valueFromJulia[\\\"options_js\\\"]=false}),self),this[\\\"index\\\"].subscribe((function (val){!(this.valueFromJulia[\\\"index\\\"]) ? (WebIO.setval({\\\"name\\\":\\\"index\\\",\\\"scope\\\":\\\"4336181307449966138\\\",\\\"id\\\":\\\"8989126355364358398\\\",\\\"type\\\":\\\"observable\\\"},val)) : undefined; return this.valueFromJulia[\\\"index\\\"]=false}),self)]\\n        \\n    }\\n    self.model = new AppViewModel();\\n    self.valueFromJulia = {};\\n    for (var key in json_data) {\\n        self.valueFromJulia[key] = false;\\n    }\\n    ko.applyBindings(self.model, self.dom);\\n}\\n);\\n    (WebIO.importBlock({\\\"data\\\":[{\\\"name\\\":\\\"knockout\\\",\\\"type\\\":\\\"js\\\",\\\"url\\\":\\\"/assetserver/7adbe83fac1553325d6e718d595ab555e1cabbe4-knockout.js\\\"},{\\\"name\\\":\\\"knockout_punches\\\",\\\"type\\\":\\\"js\\\",\\\"url\\\":\\\"/assetserver/cec8c4de011abc05b545afbaaea4bb4465a1f168-knockout_punches.js\\\"}],\\\"type\\\":\\\"async_block\\\"})).then((imports) => handler.apply(this, imports));\\n}\\n\")])], Dict{Symbol, Any}(:className => \"interact-widget\")), Node{WebIO.DOM}(WebIO.DOM(:html, :div), Any[Scope(Node{WebIO.DOM}(WebIO.DOM(:html, :div), Any[Node{WebIO.DOM}(WebIO.DOM(:html, :div), Any[Node{WebIO.DOM}(WebIO.DOM(:html, :label), Any[nothing], Dict{Symbol, Any}(:className => \"interact \", :style => Dict{Any, Any}(:padding => \"5px 10px 0px 10px\")))], Dict{Symbol, Any}(:className => \"interact-flex-row-left\")), Node{WebIO.DOM}(WebIO.DOM(:html, :div), Any[Node{WebIO.DOM}(WebIO.DOM(:html, :input), Any[], Dict{Symbol, Any}(:max => 3, :min => 1, :attributes => Dict{Any, Any}(:type => \"range\", Symbol(\"data-bind\") => \"numericValue: index, valueUpdate: 'input', event: {change: function (){this.changes(this.changes()+1)}}\", \"orient\" => \"horizontal\"), :step => 1, :className => \"slider slider is-fullwidth\", :style => Dict{Any, Any}()))], Dict{Symbol, Any}(:className => \"interact-flex-row-center\")), Node{WebIO.DOM}(WebIO.DOM(:html, :div), Any[Node{WebIO.DOM}(WebIO.DOM(:html, :p), Any[], Dict{Symbol, Any}(:attributes => Dict(\"data-bind\" => \"text: formatted_val\")))], Dict{Symbol, Any}(:className => \"interact-flex-row-right\"))], Dict{Symbol, Any}(:className => \"interact-flex-row interact-widget\")), Dict{String, Tuple{Observables.AbstractObservable, Union{Nothing, Bool}}}(\"changes\" => (Observable{Int64} with 1 listeners. Value:\n",
       "0, nothing), \"index\" => (Observable{Any} with 2 listeners. Value:\n",
       "2, nothing)), Set{String}(), nothing, Asset[Asset(\"js\", \"knockout\", \"/home/ubuntu/.julia/packages/Knockout/3gjS1/src/../assets/knockout.js\"), Asset(\"js\", \"knockout_punches\", \"/home/ubuntu/.julia/packages/Knockout/3gjS1/src/../assets/knockout_punches.js\"), Asset(\"js\", nothing, \"/home/ubuntu/.julia/packages/InteractBase/h8Fwe/src/../assets/all.js\"), Asset(\"css\", nothing, \"/home/ubuntu/.julia/packages/InteractBase/h8Fwe/src/../assets/style.css\"), Asset(\"css\", nothing, \"/home/ubuntu/.julia/packages/Interact/pVyN2/src/../assets/bulma_confined.min.css\")], Dict{Any, Any}(\"changes\" => Any[WebIO.JSString(\"(function (val){return (val!=this.model[\\\"changes\\\"]()) ? (this.valueFromJulia[\\\"changes\\\"]=true, this.model[\\\"changes\\\"](val)) : undefined})\")], \"index\" => Any[WebIO.JSString(\"(function (val){return (val!=this.model[\\\"index\\\"]()) ? (this.valueFromJulia[\\\"index\\\"]=true, this.model[\\\"index\\\"](val)) : undefined})\")]), WebIO.ConnectionPool(Channel{Any}(32), Set{AbstractConnection}(), Condition(Base.InvasiveLinkedList{Task}(Task (runnable) @0x00007f6d4efbd710, Task (runnable) @0x00007f6d4efbd710), Base.AlwaysLockedST(1))), WebIO.JSString[WebIO.JSString(\"function () {\\n    var handler = (function (ko, koPunches) {\\n    ko.punches.enableAll();\\n    ko.bindingHandlers.numericValue = {\\n        init: function(element, valueAccessor, allBindings, data, context) {\\n            var stringified = ko.observable(ko.unwrap(valueAccessor()));\\n            stringified.subscribe(function(value) {\\n                var val = parseFloat(value);\\n                if (!isNaN(val)) {\\n                    valueAccessor()(val);\\n                }\\n            });\\n            valueAccessor().subscribe(function(value) {\\n                var str = JSON.stringify(value);\\n                if ((str == \\\"0\\\") && ([\\\"-0\\\", \\\"-0.\\\"].indexOf(stringified()) >= 0))\\n                     return;\\n                 if ([\\\"null\\\", \\\"\\\"].indexOf(str) >= 0)\\n                     return;\\n                stringified(str);\\n            });\\n            ko.applyBindingsToNode(\\n                element,\\n                {\\n                    value: stringified,\\n                    valueUpdate: allBindings.get('valueUpdate'),\\n                },\\n                context,\\n            );\\n        }\\n    };\\n    var json_data = {\\\"formatted_vals\\\":[\\\"2020\\\",\\\"2021\\\",\\\"2022\\\"],\\\"changes\\\":WebIO.getval({\\\"name\\\":\\\"changes\\\",\\\"scope\\\":\\\"14953592395855329131\\\",\\\"id\\\":\\\"17655851537122789273\\\",\\\"type\\\":\\\"observable\\\"}),\\\"index\\\":WebIO.getval({\\\"name\\\":\\\"index\\\",\\\"scope\\\":\\\"14953592395855329131\\\",\\\"id\\\":\\\"4124786012300562105\\\",\\\"type\\\":\\\"observable\\\"})};\\n    var self = this;\\n    function AppViewModel() {\\n        for (var key in json_data) {\\n            var el = json_data[key];\\n            this[key] = Array.isArray(el) ? ko.observableArray(el) : ko.observable(el);\\n        }\\n        \\n        [this[\\\"formatted_val\\\"]=ko.computed(    function(){\\n        return this.formatted_vals()[parseInt(this.index())-(1)];\\n    }\\n,this)]\\n        [this[\\\"changes\\\"].subscribe((function (val){!(this.valueFromJulia[\\\"changes\\\"]) ? (WebIO.setval({\\\"name\\\":\\\"changes\\\",\\\"scope\\\":\\\"14953592395855329131\\\",\\\"id\\\":\\\"17655851537122789273\\\",\\\"type\\\":\\\"observable\\\"},val)) : undefined; return this.valueFromJulia[\\\"changes\\\"]=false}),self),this[\\\"index\\\"].subscribe((function (val){!(this.valueFromJulia[\\\"index\\\"]) ? (WebIO.setval({\\\"name\\\":\\\"index\\\",\\\"scope\\\":\\\"14953592395855329131\\\",\\\"id\\\":\\\"4124786012300562105\\\",\\\"type\\\":\\\"observable\\\"},val)) : undefined; return this.valueFromJulia[\\\"index\\\"]=false}),self)]\\n        \\n    }\\n    self.model = new AppViewModel();\\n    self.valueFromJulia = {};\\n    for (var key in json_data) {\\n        self.valueFromJulia[key] = false;\\n    }\\n    ko.applyBindings(self.model, self.dom);\\n}\\n);\\n    (WebIO.importBlock({\\\"data\\\":[{\\\"name\\\":\\\"knockout\\\",\\\"type\\\":\\\"js\\\",\\\"url\\\":\\\"/assetserver/7adbe83fac1553325d6e718d595ab555e1cabbe4-knockout.js\\\"},{\\\"name\\\":\\\"knockout_punches\\\",\\\"type\\\":\\\"js\\\",\\\"url\\\":\\\"/assetserver/cec8c4de011abc05b545afbaaea4bb4465a1f168-knockout_punches.js\\\"}],\\\"type\\\":\\\"async_block\\\"})).then((imports) => handler.apply(this, imports));\\n}\\n\")])], Dict{Symbol, Any}(:className => \"field interact-widget\")), Node{WebIO.DOM}(WebIO.DOM(:html, :div), Any[Scope(Node{WebIO.DOM}(WebIO.DOM(:html, :div), Any[Node{WebIO.DOM}(WebIO.DOM(:html, :div), Any[Node{WebIO.DOM}(WebIO.DOM(:html, :label), Any[\"qtr\"], Dict{Symbol, Any}(:className => \"interact \", :style => Dict{Any, Any}(:padding => \"5px 10px 0px 10px\")))], Dict{Symbol, Any}(:className => \"interact-flex-row-left\")), Node{WebIO.DOM}(WebIO.DOM(:html, :div), Any[Node{WebIO.DOM}(WebIO.DOM(:html, :input), Any[], Dict{Symbol, Any}(:max => 4, :min => 1, :attributes => Dict{Any, Any}(:type => \"range\", Symbol(\"data-bind\") => \"numericValue: index, valueUpdate: 'input', event: {change: function (){this.changes(this.changes()+1)}}\", \"orient\" => \"horizontal\"), :step => 1, :className => \"slider slider is-fullwidth\", :style => Dict{Any, Any}()))], Dict{Symbol, Any}(:className => \"interact-flex-row-center\")), Node{WebIO.DOM}(WebIO.DOM(:html, :div), Any[Node{WebIO.DOM}(WebIO.DOM(:html, :p), Any[], Dict{Symbol, Any}(:attributes => Dict(\"data-bind\" => \"text: formatted_val\")))], Dict{Symbol, Any}(:className => \"interact-flex-row-right\"))], Dict{Symbol, Any}(:className => \"interact-flex-row interact-widget\")), Dict{String, Tuple{Observables.AbstractObservable, Union{Nothing, Bool}}}(\"changes\" => (Observable{Int64} with 1 listeners. Value:\n",
       "0, nothing), \"index\" => (Observable{Any} with 2 listeners. Value:\n",
       "2, nothing)), Set{String}(), nothing, Asset[Asset(\"js\", \"knockout\", \"/home/ubuntu/.julia/packages/Knockout/3gjS1/src/../assets/knockout.js\"), Asset(\"js\", \"knockout_punches\", \"/home/ubuntu/.julia/packages/Knockout/3gjS1/src/../assets/knockout_punches.js\"), Asset(\"js\", nothing, \"/home/ubuntu/.julia/packages/InteractBase/h8Fwe/src/../assets/all.js\"), Asset(\"css\", nothing, \"/home/ubuntu/.julia/packages/InteractBase/h8Fwe/src/../assets/style.css\"), Asset(\"css\", nothing, \"/home/ubuntu/.julia/packages/Interact/pVyN2/src/../assets/bulma_confined.min.css\")], Dict{Any, Any}(\"changes\" => Any[WebIO.JSString(\"(function (val){return (val!=this.model[\\\"changes\\\"]()) ? (this.valueFromJulia[\\\"changes\\\"]=true, this.model[\\\"changes\\\"](val)) : undefined})\")], \"index\" => Any[WebIO.JSString(\"(function (val){return (val!=this.model[\\\"index\\\"]()) ? (this.valueFromJulia[\\\"index\\\"]=true, this.model[\\\"index\\\"](val)) : undefined})\")]), WebIO.ConnectionPool(Channel{Any}(32), Set{AbstractConnection}(), Condition(Base.InvasiveLinkedList{Task}(Task (runnable) @0x00007f6d4efbdb60, Task (runnable) @0x00007f6d4efbdb60), Base.AlwaysLockedST(1))), WebIO.JSString[WebIO.JSString(\"function () {\\n    var handler = (function (ko, koPunches) {\\n    ko.punches.enableAll();\\n    ko.bindingHandlers.numericValue = {\\n        init: function(element, valueAccessor, allBindings, data, context) {\\n            var stringified = ko.observable(ko.unwrap(valueAccessor()));\\n            stringified.subscribe(function(value) {\\n                var val = parseFloat(value);\\n                if (!isNaN(val)) {\\n                    valueAccessor()(val);\\n                }\\n            });\\n            valueAccessor().subscribe(function(value) {\\n                var str = JSON.stringify(value);\\n                if ((str == \\\"0\\\") && ([\\\"-0\\\", \\\"-0.\\\"].indexOf(stringified()) >= 0))\\n                     return;\\n                 if ([\\\"null\\\", \\\"\\\"].indexOf(str) >= 0)\\n                     return;\\n                stringified(str);\\n            });\\n            ko.applyBindingsToNode(\\n                element,\\n                {\\n                    value: stringified,\\n                    valueUpdate: allBindings.get('valueUpdate'),\\n                },\\n                context,\\n            );\\n        }\\n    };\\n    var json_data = {\\\"formatted_vals\\\":[\\\"1\\\",\\\"2\\\",\\\"3\\\",\\\"4\\\"],\\\"changes\\\":WebIO.getval({\\\"name\\\":\\\"changes\\\",\\\"scope\\\":\\\"14818083701553036238\\\",\\\"id\\\":\\\"6173039353171651400\\\",\\\"type\\\":\\\"observable\\\"}),\\\"index\\\":WebIO.getval({\\\"name\\\":\\\"index\\\",\\\"scope\\\":\\\"14818083701553036238\\\",\\\"id\\\":\\\"16913260558254817926\\\",\\\"type\\\":\\\"observable\\\"})};\\n    var self = this;\\n    function AppViewModel() {\\n        for (var key in json_data) {\\n            var el = json_data[key];\\n            this[key] = Array.isArray(el) ? ko.observableArray(el) : ko.observable(el);\\n        }\\n        \\n        [this[\\\"formatted_val\\\"]=ko.computed(    function(){\\n        return this.formatted_vals()[parseInt(this.index())-(1)];\\n    }\\n,this)]\\n        [this[\\\"changes\\\"].subscribe((function (val){!(this.valueFromJulia[\\\"changes\\\"]) ? (WebIO.setval({\\\"name\\\":\\\"changes\\\",\\\"scope\\\":\\\"14818083701553036238\\\",\\\"id\\\":\\\"6173039353171651400\\\",\\\"type\\\":\\\"observable\\\"},val)) : undefined; return this.valueFromJulia[\\\"changes\\\"]=false}),self),this[\\\"index\\\"].subscribe((function (val){!(this.valueFromJulia[\\\"index\\\"]) ? (WebIO.setval({\\\"name\\\":\\\"index\\\",\\\"scope\\\":\\\"14818083701553036238\\\",\\\"id\\\":\\\"16913260558254817926\\\",\\\"type\\\":\\\"observable\\\"},val)) : undefined; return this.valueFromJulia[\\\"index\\\"]=false}),self)]\\n        \\n    }\\n    self.model = new AppViewModel();\\n    self.valueFromJulia = {};\\n    for (var key in json_data) {\\n        self.valueFromJulia[key] = false;\\n    }\\n    ko.applyBindings(self.model, self.dom);\\n}\\n);\\n    (WebIO.importBlock({\\\"data\\\":[{\\\"name\\\":\\\"knockout\\\",\\\"type\\\":\\\"js\\\",\\\"url\\\":\\\"/assetserver/7adbe83fac1553325d6e718d595ab555e1cabbe4-knockout.js\\\"},{\\\"name\\\":\\\"knockout_punches\\\",\\\"type\\\":\\\"js\\\",\\\"url\\\":\\\"/assetserver/cec8c4de011abc05b545afbaaea4bb4465a1f168-knockout_punches.js\\\"}],\\\"type\\\":\\\"async_block\\\"})).then((imports) => handler.apply(this, imports));\\n}\\n\")])], Dict{Symbol, Any}(:className => \"field interact-widget\")), Observable{Node{WebIO.DOM}} with 0 listeners. Value:\n",
       "Node{WebIO.DOM}(WebIO.DOM(:html, :div), Any[\u001b[1m240×7 DataFrame\u001b[0m\n",
       "\u001b[1m Row \u001b[0m│\u001b[1m Org      \u001b[0m\u001b[1m FY    \u001b[0m\u001b[1m Qtr   \u001b[0m\u001b[1m Accounts    \u001b[0m\u001b[1m Dept     \u001b[0m\u001b[1m Loc           \u001b[0m\u001b[1m TOTAL    \u001b[0m ⋯\n",
       "\u001b[1m     \u001b[0m│\u001b[90m String   \u001b[0m\u001b[90m Int64 \u001b[0m\u001b[90m Int64 \u001b[0m\u001b[90m String      \u001b[0m\u001b[90m String   \u001b[0m\u001b[90m String        \u001b[0m\u001b[90m String   \u001b[0m ⋯\n",
       "─────┼──────────────────────────────────────────────────────────────────────────\n",
       "   1 │ Region B   2021      2  ASSETS       BUSINESS  Chicago        USD 2927. ⋯\n",
       "   2 │ Region B   2021      2  ASSETS       IT        Kansas City    USD 3679.\n",
       "   3 │ Region B   2021      2  LIABILITIES  HR        Boston         USD 3366.\n",
       "   4 │ Region B   2021      2  LIABILITIES  HR        Kansas City    USD 4426.\n",
       "   5 │ Region B   2021      2  ASSETS       IT        Boston         USD 3718. ⋯\n",
       "   6 │ Region B   2021      2  NET_WORTH    BUSINESS  Richmond       USD 4920.\n",
       "   7 │ Region B   2021      2  NET_WORTH    BUSINESS  Dallas         USD 4340.\n",
       "   8 │ Region B   2021      2  ASSETS       HR        Minneapolis    USD 4236.\n",
       "   9 │ Region B   2021      2  LIABILITIES  OTHERS    Atlanta        USD 4722. ⋯\n",
       "  10 │ Region B   2021      2  ASSETS       IT        New York       USD 2814.\n",
       "  11 │ Region B   2021      2  REVENUE      IT        Kansas City    USD 4229.\n",
       "  ⋮  │    ⋮        ⋮      ⋮         ⋮          ⋮            ⋮                  ⋱\n",
       " 231 │ Region B   2021      2  ASSETS       BUSINESS  Boston         USD 3909.\n",
       " 232 │ Region B   2021      2  ASSETS       HR        Richmond       USD 3539. ⋯\n",
       " 233 │ Region B   2021      2  REVENUE      IT        Cleveland      USD 3763.\n",
       " 234 │ Region B   2021      2  LIABILITIES  IT        Cleveland      USD 5007.\n",
       " 235 │ Region B   2021      2  LIABILITIES  OTHERS    Kansas City    USD 4477.\n",
       " 236 │ Region B   2021      2  NET_WORTH    SALES     Cleveland      USD 3637. ⋯\n",
       " 237 │ Region B   2021      2  ASSETS       BUSINESS  Atlanta        USD 3405.\n",
       " 238 │ Region B   2021      2  LIABILITIES  OTHERS    San Francisco  USD 3571.\n",
       " 239 │ Region B   2021      2  REVENUE      BUSINESS  Richmond       USD 3325.\n",
       " 240 │ Region B   2021      2  NET_WORTH    SALES     Boston         USD 2699. ⋯\n",
       "\u001b[36m                                                   1 column and 219 rows omitted\u001b[0m], Dict{Symbol, Any}(:className => \"interact-flex-row interact-widget\"))], Dict{Symbol, Any}())"
      ]
     },
     "execution_count": 74,
     "metadata": {
      "application/vnd.webio.node+json": {
       "kernelId": "e2edb929-a595-4295-908e-4c215e475d45"
      }
     },
     "output_type": "execute_result"
    }
   ],
   "source": [
    "@manipulate for ld = Dict(\"Actuals\"=> \"Actuals\", \"Budget\" => \"Budget\"), \n",
    "                rg = Dict(\"Region A\"=> \"Region A\", \"Region B\" => \"Region B\", \"Region C\" => \"Region C\"),\n",
    "                yr = slider(2020:1:2022; value=2021),\n",
    "                qtr = 1:1:4\n",
    "    \n",
    "    @show ld, rg, yr, qtr\n",
    "    \n",
    "select(gdf_plot[(\n",
    "    (gdf_plot.FISCAL_YEAR .== yr)\n",
    "    .&\n",
    "    (gdf_plot.QTR .== qtr)\n",
    "    .&\n",
    "    (gdf_plot.LEDGER .== ld)\n",
    "    .&\n",
    "    (gdf_plot.OPER_UNIT .== rg)\n",
    "    .&\n",
    "    (in.(gdf_plot.ACCOUNTS_CLASSIFICATION, Ref([\"ASSETS\", \"LIABILITIES\", \"REVENUE\",\"NET_WORTH\"])))\n",
    "    ),:],\n",
    "        :OPER_UNIT => :Org,\n",
    "        :FISCAL_YEAR => :FY,\n",
    "        :QTR => :Qtr,\n",
    "        :ACCOUNTS_CLASSIFICATION => :Accounts,\n",
    "        :DEPT_CLASSIFICATION => :Dept,\n",
    "        # :LOCATION_CLASSIFICATION => :Region,\n",
    "        :LOCATION_DESCR => :Loc,\n",
    "        :TOTAL => :TOTAL)\n",
    "end"
   ]
  },
  {
   "cell_type": "markdown",
   "metadata": {},
   "source": [
    "### Cash Flow Statement (Interactive)"
   ]
  },
  {
   "cell_type": "code",
   "execution_count": 75,
   "metadata": {},
   "outputs": [
    {
     "name": "stdout",
     "output_type": "stream",
     "text": [
      "(ld, rg, yr, qtr) = (\"Actuals\", \"Region B\", 2021, 2)\n"
     ]
    },
    {
     "data": {
      "application/vnd.webio.node+json": {
       "children": [
        {
         "children": [
          {
           "children": [
            {
             "children": [
              {
               "children": [
                {
                 "children": [
                  "ld"
                 ],
                 "instanceArgs": {
                  "namespace": "html",
                  "tag": "label"
                 },
                 "nodeType": "DOM",
                 "props": {
                  "className": "interact ",
                  "style": {
                   "padding": "5px 10px 0px 10px"
                  }
                 },
                 "type": "node"
                }
               ],
               "instanceArgs": {
                "namespace": "html",
                "tag": "div"
               },
               "nodeType": "DOM",
               "props": {
                "className": "interact-flex-row-left"
               },
               "type": "node"
              },
              {
               "children": [
                {
                 "children": [
                  {
                   "children": [
                    {
                     "children": [],
                     "instanceArgs": {
                      "namespace": "html",
                      "tag": "label"
                     },
                     "nodeType": "DOM",
                     "props": {
                      "attributes": {
                       "data-bind": "text : key"
                      }
                     },
                     "type": "node"
                    }
                   ],
                   "instanceArgs": {
                    "namespace": "html",
                    "tag": "span"
                   },
                   "nodeType": "DOM",
                   "props": {
                    "attributes": {
                     "data-bind": "click: function (){$root.update(val)}, css: {'is-primary is-selected' : $root.index() == val, 'interact-widget is-medium button ' : true}"
                    }
                   },
                   "type": "node"
                  }
                 ],
                 "instanceArgs": {
                  "namespace": "html",
                  "tag": "div"
                 },
                 "nodeType": "DOM",
                 "props": {
                  "attributes": {
                   "data-bind": "foreach : options_js"
                  },
                  "className": "buttons has-addons is-centered"
                 },
                 "type": "node"
                }
               ],
               "instanceArgs": {
                "namespace": "html",
                "tag": "div"
               },
               "nodeType": "DOM",
               "props": {
                "className": "interact-flex-row-center"
               },
               "type": "node"
              },
              {
               "children": [
                {
                 "children": [],
                 "instanceArgs": {
                  "namespace": "html",
                  "tag": "div"
                 },
                 "nodeType": "DOM",
                 "props": {},
                 "type": "node"
                }
               ],
               "instanceArgs": {
                "namespace": "html",
                "tag": "div"
               },
               "nodeType": "DOM",
               "props": {
                "className": "interact-flex-row-right"
               },
               "type": "node"
              }
             ],
             "instanceArgs": {
              "namespace": "html",
              "tag": "div"
             },
             "nodeType": "DOM",
             "props": {
              "className": "interact-flex-row interact-widget"
             },
             "type": "node"
            }
           ],
           "instanceArgs": {
            "handlers": {
             "index": [
              "(function (val){return (val!=this.model[\"index\"]()) ? (this.valueFromJulia[\"index\"]=true, this.model[\"index\"](val)) : undefined})"
             ],
             "options_js": [
              "(function (val){return (val!=this.model[\"options_js\"]()) ? (this.valueFromJulia[\"options_js\"]=true, this.model[\"options_js\"](val)) : undefined})"
             ]
            },
            "id": "2261378954612424764",
            "imports": {
             "data": [
              {
               "name": "knockout",
               "type": "js",
               "url": "/assetserver/7adbe83fac1553325d6e718d595ab555e1cabbe4-knockout.js"
              },
              {
               "name": "knockout_punches",
               "type": "js",
               "url": "/assetserver/cec8c4de011abc05b545afbaaea4bb4465a1f168-knockout_punches.js"
              },
              {
               "name": null,
               "type": "js",
               "url": "/assetserver/5ddeec2b33e792dac4326b9b8929eb841863a558-all.js"
              },
              {
               "name": null,
               "type": "css",
               "url": "/assetserver/a04b7b754438af5b294cd7f1d762c01dae6fade5-style.css"
              },
              {
               "name": null,
               "type": "css",
               "url": "/assetserver/50b13cf07303023836f4115fe93a8fe3eca4721a-bulma_confined.min.css"
              }
             ],
             "type": "async_block"
            },
            "mount_callbacks": [
             "function () {\n    var handler = (function (ko, koPunches) {\n    ko.punches.enableAll();\n    ko.bindingHandlers.numericValue = {\n        init: function(element, valueAccessor, allBindings, data, context) {\n            var stringified = ko.observable(ko.unwrap(valueAccessor()));\n            stringified.subscribe(function(value) {\n                var val = parseFloat(value);\n                if (!isNaN(val)) {\n                    valueAccessor()(val);\n                }\n            });\n            valueAccessor().subscribe(function(value) {\n                var str = JSON.stringify(value);\n                if ((str == \"0\") && ([\"-0\", \"-0.\"].indexOf(stringified()) >= 0))\n                     return;\n                 if ([\"null\", \"\"].indexOf(str) >= 0)\n                     return;\n                stringified(str);\n            });\n            ko.applyBindingsToNode(\n                element,\n                {\n                    value: stringified,\n                    valueUpdate: allBindings.get('valueUpdate'),\n                },\n                context,\n            );\n        }\n    };\n    var json_data = {\"options_js\":WebIO.getval({\"name\":\"options_js\",\"scope\":\"2261378954612424764\",\"id\":\"2544271647740361144\",\"type\":\"observable\"}),\"index\":WebIO.getval({\"name\":\"index\",\"scope\":\"2261378954612424764\",\"id\":\"12385331690821543038\",\"type\":\"observable\"})};\n    var self = this;\n    function AppViewModel() {\n        for (var key in json_data) {\n            var el = json_data[key];\n            this[key] = Array.isArray(el) ? ko.observableArray(el) : ko.observable(el);\n        }\n        [this[\"update\"]=function (val) {this.index(val)}]\n        \n        [this[\"options_js\"].subscribe((function (val){!(this.valueFromJulia[\"options_js\"]) ? (WebIO.setval({\"name\":\"options_js\",\"scope\":\"2261378954612424764\",\"id\":\"2544271647740361144\",\"type\":\"observable\"},val)) : undefined; return this.valueFromJulia[\"options_js\"]=false}),self),this[\"index\"].subscribe((function (val){!(this.valueFromJulia[\"index\"]) ? (WebIO.setval({\"name\":\"index\",\"scope\":\"2261378954612424764\",\"id\":\"12385331690821543038\",\"type\":\"observable\"},val)) : undefined; return this.valueFromJulia[\"index\"]=false}),self)]\n        \n    }\n    self.model = new AppViewModel();\n    self.valueFromJulia = {};\n    for (var key in json_data) {\n        self.valueFromJulia[key] = false;\n    }\n    ko.applyBindings(self.model, self.dom);\n}\n);\n    (WebIO.importBlock({\"data\":[{\"name\":\"knockout\",\"type\":\"js\",\"url\":\"/assetserver/7adbe83fac1553325d6e718d595ab555e1cabbe4-knockout.js\"},{\"name\":\"knockout_punches\",\"type\":\"js\",\"url\":\"/assetserver/cec8c4de011abc05b545afbaaea4bb4465a1f168-knockout_punches.js\"}],\"type\":\"async_block\"})).then((imports) => handler.apply(this, imports));\n}\n"
            ],
            "observables": {
             "index": {
              "id": "12385331690821543038",
              "sync": true,
              "value": 1
             },
             "options_js": {
              "id": "2544271647740361144",
              "sync": false,
              "value": [
               {
                "id": "idJjPv91r9",
                "key": "Actuals",
                "val": 1
               },
               {
                "id": "iddxFNAGDn",
                "key": "Budget",
                "val": 2
               }
              ]
             }
            },
            "systemjs_options": null
           },
           "nodeType": "Scope",
           "props": {},
           "type": "node"
          }
         ],
         "instanceArgs": {
          "namespace": "html",
          "tag": "div"
         },
         "nodeType": "DOM",
         "props": {
          "className": "interact-widget"
         },
         "type": "node"
        },
        {
         "children": [
          {
           "children": [
            {
             "children": [
              {
               "children": [
                {
                 "children": [
                  "rg"
                 ],
                 "instanceArgs": {
                  "namespace": "html",
                  "tag": "label"
                 },
                 "nodeType": "DOM",
                 "props": {
                  "className": "interact ",
                  "style": {
                   "padding": "5px 10px 0px 10px"
                  }
                 },
                 "type": "node"
                }
               ],
               "instanceArgs": {
                "namespace": "html",
                "tag": "div"
               },
               "nodeType": "DOM",
               "props": {
                "className": "interact-flex-row-left"
               },
               "type": "node"
              },
              {
               "children": [
                {
                 "children": [
                  {
                   "children": [
                    {
                     "children": [],
                     "instanceArgs": {
                      "namespace": "html",
                      "tag": "label"
                     },
                     "nodeType": "DOM",
                     "props": {
                      "attributes": {
                       "data-bind": "text : key"
                      }
                     },
                     "type": "node"
                    }
                   ],
                   "instanceArgs": {
                    "namespace": "html",
                    "tag": "span"
                   },
                   "nodeType": "DOM",
                   "props": {
                    "attributes": {
                     "data-bind": "click: function (){$root.update(val)}, css: {'is-primary is-selected' : $root.index() == val, 'interact-widget is-medium button ' : true}"
                    }
                   },
                   "type": "node"
                  }
                 ],
                 "instanceArgs": {
                  "namespace": "html",
                  "tag": "div"
                 },
                 "nodeType": "DOM",
                 "props": {
                  "attributes": {
                   "data-bind": "foreach : options_js"
                  },
                  "className": "buttons has-addons is-centered"
                 },
                 "type": "node"
                }
               ],
               "instanceArgs": {
                "namespace": "html",
                "tag": "div"
               },
               "nodeType": "DOM",
               "props": {
                "className": "interact-flex-row-center"
               },
               "type": "node"
              },
              {
               "children": [
                {
                 "children": [],
                 "instanceArgs": {
                  "namespace": "html",
                  "tag": "div"
                 },
                 "nodeType": "DOM",
                 "props": {},
                 "type": "node"
                }
               ],
               "instanceArgs": {
                "namespace": "html",
                "tag": "div"
               },
               "nodeType": "DOM",
               "props": {
                "className": "interact-flex-row-right"
               },
               "type": "node"
              }
             ],
             "instanceArgs": {
              "namespace": "html",
              "tag": "div"
             },
             "nodeType": "DOM",
             "props": {
              "className": "interact-flex-row interact-widget"
             },
             "type": "node"
            }
           ],
           "instanceArgs": {
            "handlers": {
             "index": [
              "(function (val){return (val!=this.model[\"index\"]()) ? (this.valueFromJulia[\"index\"]=true, this.model[\"index\"](val)) : undefined})"
             ],
             "options_js": [
              "(function (val){return (val!=this.model[\"options_js\"]()) ? (this.valueFromJulia[\"options_js\"]=true, this.model[\"options_js\"](val)) : undefined})"
             ]
            },
            "id": "4919382983103673781",
            "imports": {
             "data": [
              {
               "name": "knockout",
               "type": "js",
               "url": "/assetserver/7adbe83fac1553325d6e718d595ab555e1cabbe4-knockout.js"
              },
              {
               "name": "knockout_punches",
               "type": "js",
               "url": "/assetserver/cec8c4de011abc05b545afbaaea4bb4465a1f168-knockout_punches.js"
              },
              {
               "name": null,
               "type": "js",
               "url": "/assetserver/5ddeec2b33e792dac4326b9b8929eb841863a558-all.js"
              },
              {
               "name": null,
               "type": "css",
               "url": "/assetserver/a04b7b754438af5b294cd7f1d762c01dae6fade5-style.css"
              },
              {
               "name": null,
               "type": "css",
               "url": "/assetserver/50b13cf07303023836f4115fe93a8fe3eca4721a-bulma_confined.min.css"
              }
             ],
             "type": "async_block"
            },
            "mount_callbacks": [
             "function () {\n    var handler = (function (ko, koPunches) {\n    ko.punches.enableAll();\n    ko.bindingHandlers.numericValue = {\n        init: function(element, valueAccessor, allBindings, data, context) {\n            var stringified = ko.observable(ko.unwrap(valueAccessor()));\n            stringified.subscribe(function(value) {\n                var val = parseFloat(value);\n                if (!isNaN(val)) {\n                    valueAccessor()(val);\n                }\n            });\n            valueAccessor().subscribe(function(value) {\n                var str = JSON.stringify(value);\n                if ((str == \"0\") && ([\"-0\", \"-0.\"].indexOf(stringified()) >= 0))\n                     return;\n                 if ([\"null\", \"\"].indexOf(str) >= 0)\n                     return;\n                stringified(str);\n            });\n            ko.applyBindingsToNode(\n                element,\n                {\n                    value: stringified,\n                    valueUpdate: allBindings.get('valueUpdate'),\n                },\n                context,\n            );\n        }\n    };\n    var json_data = {\"options_js\":WebIO.getval({\"name\":\"options_js\",\"scope\":\"4919382983103673781\",\"id\":\"6136292950278674771\",\"type\":\"observable\"}),\"index\":WebIO.getval({\"name\":\"index\",\"scope\":\"4919382983103673781\",\"id\":\"5807017233678098585\",\"type\":\"observable\"})};\n    var self = this;\n    function AppViewModel() {\n        for (var key in json_data) {\n            var el = json_data[key];\n            this[key] = Array.isArray(el) ? ko.observableArray(el) : ko.observable(el);\n        }\n        [this[\"update\"]=function (val) {this.index(val)}]\n        \n        [this[\"options_js\"].subscribe((function (val){!(this.valueFromJulia[\"options_js\"]) ? (WebIO.setval({\"name\":\"options_js\",\"scope\":\"4919382983103673781\",\"id\":\"6136292950278674771\",\"type\":\"observable\"},val)) : undefined; return this.valueFromJulia[\"options_js\"]=false}),self),this[\"index\"].subscribe((function (val){!(this.valueFromJulia[\"index\"]) ? (WebIO.setval({\"name\":\"index\",\"scope\":\"4919382983103673781\",\"id\":\"5807017233678098585\",\"type\":\"observable\"},val)) : undefined; return this.valueFromJulia[\"index\"]=false}),self)]\n        \n    }\n    self.model = new AppViewModel();\n    self.valueFromJulia = {};\n    for (var key in json_data) {\n        self.valueFromJulia[key] = false;\n    }\n    ko.applyBindings(self.model, self.dom);\n}\n);\n    (WebIO.importBlock({\"data\":[{\"name\":\"knockout\",\"type\":\"js\",\"url\":\"/assetserver/7adbe83fac1553325d6e718d595ab555e1cabbe4-knockout.js\"},{\"name\":\"knockout_punches\",\"type\":\"js\",\"url\":\"/assetserver/cec8c4de011abc05b545afbaaea4bb4465a1f168-knockout_punches.js\"}],\"type\":\"async_block\"})).then((imports) => handler.apply(this, imports));\n}\n"
            ],
            "observables": {
             "index": {
              "id": "5807017233678098585",
              "sync": true,
              "value": 1
             },
             "options_js": {
              "id": "6136292950278674771",
              "sync": false,
              "value": [
               {
                "id": "idR4fSXhN8",
                "key": "Region B",
                "val": 1
               },
               {
                "id": "idVryIOYba",
                "key": "Region C",
                "val": 2
               },
               {
                "id": "idp2k6oJKx",
                "key": "Region A",
                "val": 3
               }
              ]
             }
            },
            "systemjs_options": null
           },
           "nodeType": "Scope",
           "props": {},
           "type": "node"
          }
         ],
         "instanceArgs": {
          "namespace": "html",
          "tag": "div"
         },
         "nodeType": "DOM",
         "props": {
          "className": "interact-widget"
         },
         "type": "node"
        },
        {
         "children": [
          {
           "children": [
            {
             "children": [
              {
               "children": [
                {
                 "children": [
                  ""
                 ],
                 "instanceArgs": {
                  "namespace": "html",
                  "tag": "label"
                 },
                 "nodeType": "DOM",
                 "props": {
                  "className": "interact ",
                  "style": {
                   "padding": "5px 10px 0px 10px"
                  }
                 },
                 "type": "node"
                }
               ],
               "instanceArgs": {
                "namespace": "html",
                "tag": "div"
               },
               "nodeType": "DOM",
               "props": {
                "className": "interact-flex-row-left"
               },
               "type": "node"
              },
              {
               "children": [
                {
                 "children": [],
                 "instanceArgs": {
                  "namespace": "html",
                  "tag": "input"
                 },
                 "nodeType": "DOM",
                 "props": {
                  "attributes": {
                   "data-bind": "numericValue: index, valueUpdate: 'input', event: {change: function (){this.changes(this.changes()+1)}}",
                   "orient": "horizontal",
                   "type": "range"
                  },
                  "className": "slider slider is-fullwidth",
                  "max": 3,
                  "min": 1,
                  "step": 1,
                  "style": {}
                 },
                 "type": "node"
                }
               ],
               "instanceArgs": {
                "namespace": "html",
                "tag": "div"
               },
               "nodeType": "DOM",
               "props": {
                "className": "interact-flex-row-center"
               },
               "type": "node"
              },
              {
               "children": [
                {
                 "children": [],
                 "instanceArgs": {
                  "namespace": "html",
                  "tag": "p"
                 },
                 "nodeType": "DOM",
                 "props": {
                  "attributes": {
                   "data-bind": "text: formatted_val"
                  }
                 },
                 "type": "node"
                }
               ],
               "instanceArgs": {
                "namespace": "html",
                "tag": "div"
               },
               "nodeType": "DOM",
               "props": {
                "className": "interact-flex-row-right"
               },
               "type": "node"
              }
             ],
             "instanceArgs": {
              "namespace": "html",
              "tag": "div"
             },
             "nodeType": "DOM",
             "props": {
              "className": "interact-flex-row interact-widget"
             },
             "type": "node"
            }
           ],
           "instanceArgs": {
            "handlers": {
             "changes": [
              "(function (val){return (val!=this.model[\"changes\"]()) ? (this.valueFromJulia[\"changes\"]=true, this.model[\"changes\"](val)) : undefined})"
             ],
             "index": [
              "(function (val){return (val!=this.model[\"index\"]()) ? (this.valueFromJulia[\"index\"]=true, this.model[\"index\"](val)) : undefined})"
             ]
            },
            "id": "16792730420982269183",
            "imports": {
             "data": [
              {
               "name": "knockout",
               "type": "js",
               "url": "/assetserver/7adbe83fac1553325d6e718d595ab555e1cabbe4-knockout.js"
              },
              {
               "name": "knockout_punches",
               "type": "js",
               "url": "/assetserver/cec8c4de011abc05b545afbaaea4bb4465a1f168-knockout_punches.js"
              },
              {
               "name": null,
               "type": "js",
               "url": "/assetserver/5ddeec2b33e792dac4326b9b8929eb841863a558-all.js"
              },
              {
               "name": null,
               "type": "css",
               "url": "/assetserver/a04b7b754438af5b294cd7f1d762c01dae6fade5-style.css"
              },
              {
               "name": null,
               "type": "css",
               "url": "/assetserver/50b13cf07303023836f4115fe93a8fe3eca4721a-bulma_confined.min.css"
              }
             ],
             "type": "async_block"
            },
            "mount_callbacks": [
             "function () {\n    var handler = (function (ko, koPunches) {\n    ko.punches.enableAll();\n    ko.bindingHandlers.numericValue = {\n        init: function(element, valueAccessor, allBindings, data, context) {\n            var stringified = ko.observable(ko.unwrap(valueAccessor()));\n            stringified.subscribe(function(value) {\n                var val = parseFloat(value);\n                if (!isNaN(val)) {\n                    valueAccessor()(val);\n                }\n            });\n            valueAccessor().subscribe(function(value) {\n                var str = JSON.stringify(value);\n                if ((str == \"0\") && ([\"-0\", \"-0.\"].indexOf(stringified()) >= 0))\n                     return;\n                 if ([\"null\", \"\"].indexOf(str) >= 0)\n                     return;\n                stringified(str);\n            });\n            ko.applyBindingsToNode(\n                element,\n                {\n                    value: stringified,\n                    valueUpdate: allBindings.get('valueUpdate'),\n                },\n                context,\n            );\n        }\n    };\n    var json_data = {\"formatted_vals\":[\"2020\",\"2021\",\"2022\"],\"changes\":WebIO.getval({\"name\":\"changes\",\"scope\":\"16792730420982269183\",\"id\":\"12427234278684348703\",\"type\":\"observable\"}),\"index\":WebIO.getval({\"name\":\"index\",\"scope\":\"16792730420982269183\",\"id\":\"8490942467846750800\",\"type\":\"observable\"})};\n    var self = this;\n    function AppViewModel() {\n        for (var key in json_data) {\n            var el = json_data[key];\n            this[key] = Array.isArray(el) ? ko.observableArray(el) : ko.observable(el);\n        }\n        \n        [this[\"formatted_val\"]=ko.computed(    function(){\n        return this.formatted_vals()[parseInt(this.index())-(1)];\n    }\n,this)]\n        [this[\"changes\"].subscribe((function (val){!(this.valueFromJulia[\"changes\"]) ? (WebIO.setval({\"name\":\"changes\",\"scope\":\"16792730420982269183\",\"id\":\"12427234278684348703\",\"type\":\"observable\"},val)) : undefined; return this.valueFromJulia[\"changes\"]=false}),self),this[\"index\"].subscribe((function (val){!(this.valueFromJulia[\"index\"]) ? (WebIO.setval({\"name\":\"index\",\"scope\":\"16792730420982269183\",\"id\":\"8490942467846750800\",\"type\":\"observable\"},val)) : undefined; return this.valueFromJulia[\"index\"]=false}),self)]\n        \n    }\n    self.model = new AppViewModel();\n    self.valueFromJulia = {};\n    for (var key in json_data) {\n        self.valueFromJulia[key] = false;\n    }\n    ko.applyBindings(self.model, self.dom);\n}\n);\n    (WebIO.importBlock({\"data\":[{\"name\":\"knockout\",\"type\":\"js\",\"url\":\"/assetserver/7adbe83fac1553325d6e718d595ab555e1cabbe4-knockout.js\"},{\"name\":\"knockout_punches\",\"type\":\"js\",\"url\":\"/assetserver/cec8c4de011abc05b545afbaaea4bb4465a1f168-knockout_punches.js\"}],\"type\":\"async_block\"})).then((imports) => handler.apply(this, imports));\n}\n"
            ],
            "observables": {
             "changes": {
              "id": "12427234278684348703",
              "sync": false,
              "value": 0
             },
             "index": {
              "id": "8490942467846750800",
              "sync": true,
              "value": 2
             }
            },
            "systemjs_options": null
           },
           "nodeType": "Scope",
           "props": {},
           "type": "node"
          }
         ],
         "instanceArgs": {
          "namespace": "html",
          "tag": "div"
         },
         "nodeType": "DOM",
         "props": {
          "className": "field interact-widget"
         },
         "type": "node"
        },
        {
         "children": [
          {
           "children": [
            {
             "children": [
              {
               "children": [
                {
                 "children": [
                  "qtr"
                 ],
                 "instanceArgs": {
                  "namespace": "html",
                  "tag": "label"
                 },
                 "nodeType": "DOM",
                 "props": {
                  "className": "interact ",
                  "style": {
                   "padding": "5px 10px 0px 10px"
                  }
                 },
                 "type": "node"
                }
               ],
               "instanceArgs": {
                "namespace": "html",
                "tag": "div"
               },
               "nodeType": "DOM",
               "props": {
                "className": "interact-flex-row-left"
               },
               "type": "node"
              },
              {
               "children": [
                {
                 "children": [],
                 "instanceArgs": {
                  "namespace": "html",
                  "tag": "input"
                 },
                 "nodeType": "DOM",
                 "props": {
                  "attributes": {
                   "data-bind": "numericValue: index, valueUpdate: 'input', event: {change: function (){this.changes(this.changes()+1)}}",
                   "orient": "horizontal",
                   "type": "range"
                  },
                  "className": "slider slider is-fullwidth",
                  "max": 4,
                  "min": 1,
                  "step": 1,
                  "style": {}
                 },
                 "type": "node"
                }
               ],
               "instanceArgs": {
                "namespace": "html",
                "tag": "div"
               },
               "nodeType": "DOM",
               "props": {
                "className": "interact-flex-row-center"
               },
               "type": "node"
              },
              {
               "children": [
                {
                 "children": [],
                 "instanceArgs": {
                  "namespace": "html",
                  "tag": "p"
                 },
                 "nodeType": "DOM",
                 "props": {
                  "attributes": {
                   "data-bind": "text: formatted_val"
                  }
                 },
                 "type": "node"
                }
               ],
               "instanceArgs": {
                "namespace": "html",
                "tag": "div"
               },
               "nodeType": "DOM",
               "props": {
                "className": "interact-flex-row-right"
               },
               "type": "node"
              }
             ],
             "instanceArgs": {
              "namespace": "html",
              "tag": "div"
             },
             "nodeType": "DOM",
             "props": {
              "className": "interact-flex-row interact-widget"
             },
             "type": "node"
            }
           ],
           "instanceArgs": {
            "handlers": {
             "changes": [
              "(function (val){return (val!=this.model[\"changes\"]()) ? (this.valueFromJulia[\"changes\"]=true, this.model[\"changes\"](val)) : undefined})"
             ],
             "index": [
              "(function (val){return (val!=this.model[\"index\"]()) ? (this.valueFromJulia[\"index\"]=true, this.model[\"index\"](val)) : undefined})"
             ]
            },
            "id": "12598521052191129842",
            "imports": {
             "data": [
              {
               "name": "knockout",
               "type": "js",
               "url": "/assetserver/7adbe83fac1553325d6e718d595ab555e1cabbe4-knockout.js"
              },
              {
               "name": "knockout_punches",
               "type": "js",
               "url": "/assetserver/cec8c4de011abc05b545afbaaea4bb4465a1f168-knockout_punches.js"
              },
              {
               "name": null,
               "type": "js",
               "url": "/assetserver/5ddeec2b33e792dac4326b9b8929eb841863a558-all.js"
              },
              {
               "name": null,
               "type": "css",
               "url": "/assetserver/a04b7b754438af5b294cd7f1d762c01dae6fade5-style.css"
              },
              {
               "name": null,
               "type": "css",
               "url": "/assetserver/50b13cf07303023836f4115fe93a8fe3eca4721a-bulma_confined.min.css"
              }
             ],
             "type": "async_block"
            },
            "mount_callbacks": [
             "function () {\n    var handler = (function (ko, koPunches) {\n    ko.punches.enableAll();\n    ko.bindingHandlers.numericValue = {\n        init: function(element, valueAccessor, allBindings, data, context) {\n            var stringified = ko.observable(ko.unwrap(valueAccessor()));\n            stringified.subscribe(function(value) {\n                var val = parseFloat(value);\n                if (!isNaN(val)) {\n                    valueAccessor()(val);\n                }\n            });\n            valueAccessor().subscribe(function(value) {\n                var str = JSON.stringify(value);\n                if ((str == \"0\") && ([\"-0\", \"-0.\"].indexOf(stringified()) >= 0))\n                     return;\n                 if ([\"null\", \"\"].indexOf(str) >= 0)\n                     return;\n                stringified(str);\n            });\n            ko.applyBindingsToNode(\n                element,\n                {\n                    value: stringified,\n                    valueUpdate: allBindings.get('valueUpdate'),\n                },\n                context,\n            );\n        }\n    };\n    var json_data = {\"formatted_vals\":[\"1\",\"2\",\"3\",\"4\"],\"changes\":WebIO.getval({\"name\":\"changes\",\"scope\":\"12598521052191129842\",\"id\":\"13247058572826997135\",\"type\":\"observable\"}),\"index\":WebIO.getval({\"name\":\"index\",\"scope\":\"12598521052191129842\",\"id\":\"16408192323489538202\",\"type\":\"observable\"})};\n    var self = this;\n    function AppViewModel() {\n        for (var key in json_data) {\n            var el = json_data[key];\n            this[key] = Array.isArray(el) ? ko.observableArray(el) : ko.observable(el);\n        }\n        \n        [this[\"formatted_val\"]=ko.computed(    function(){\n        return this.formatted_vals()[parseInt(this.index())-(1)];\n    }\n,this)]\n        [this[\"changes\"].subscribe((function (val){!(this.valueFromJulia[\"changes\"]) ? (WebIO.setval({\"name\":\"changes\",\"scope\":\"12598521052191129842\",\"id\":\"13247058572826997135\",\"type\":\"observable\"},val)) : undefined; return this.valueFromJulia[\"changes\"]=false}),self),this[\"index\"].subscribe((function (val){!(this.valueFromJulia[\"index\"]) ? (WebIO.setval({\"name\":\"index\",\"scope\":\"12598521052191129842\",\"id\":\"16408192323489538202\",\"type\":\"observable\"},val)) : undefined; return this.valueFromJulia[\"index\"]=false}),self)]\n        \n    }\n    self.model = new AppViewModel();\n    self.valueFromJulia = {};\n    for (var key in json_data) {\n        self.valueFromJulia[key] = false;\n    }\n    ko.applyBindings(self.model, self.dom);\n}\n);\n    (WebIO.importBlock({\"data\":[{\"name\":\"knockout\",\"type\":\"js\",\"url\":\"/assetserver/7adbe83fac1553325d6e718d595ab555e1cabbe4-knockout.js\"},{\"name\":\"knockout_punches\",\"type\":\"js\",\"url\":\"/assetserver/cec8c4de011abc05b545afbaaea4bb4465a1f168-knockout_punches.js\"}],\"type\":\"async_block\"})).then((imports) => handler.apply(this, imports));\n}\n"
            ],
            "observables": {
             "changes": {
              "id": "13247058572826997135",
              "sync": false,
              "value": 0
             },
             "index": {
              "id": "16408192323489538202",
              "sync": true,
              "value": 2
             }
            },
            "systemjs_options": null
           },
           "nodeType": "Scope",
           "props": {},
           "type": "node"
          }
         ],
         "instanceArgs": {
          "namespace": "html",
          "tag": "div"
         },
         "nodeType": "DOM",
         "props": {
          "className": "field interact-widget"
         },
         "type": "node"
        },
        {
         "children": [
          {
           "children": [],
           "instanceArgs": {
            "id": "4727638921677912882",
            "name": "obs-node"
           },
           "nodeType": "ObservableNode",
           "props": {},
           "type": "node"
          }
         ],
         "instanceArgs": {
          "handlers": {},
          "id": "4031365672032055321",
          "imports": {
           "data": [],
           "type": "async_block"
          },
          "mount_callbacks": [],
          "observables": {
           "obs-node": {
            "id": "4727638921677912882",
            "sync": false,
            "value": {
             "children": [
              {
               "children": [],
               "instanceArgs": {
                "namespace": "html",
                "tag": "div"
               },
               "nodeType": "DOM",
               "props": {
                "setInnerHtml": "<div class=\"data-frame\"><p>120 rows × 7 columns</p><table class=\"data-frame\"><thead><tr><th></th><th>Org</th><th>FY</th><th>Qtr</th><th>Accounts</th><th>Dept</th><th>Loc</th><th>TOTAL</th></tr><tr><th></th><th title=\"String\">String</th><th title=\"Int64\">Int64</th><th title=\"Int64\">Int64</th><th title=\"String\">String</th><th title=\"String\">String</th><th title=\"String\">String</th><th title=\"String\">String</th></tr></thead><tbody><tr><th>1</th><td>Region B</td><td>2021</td><td>2</td><td>NON-OPERATING_EXPENSES</td><td>IT</td><td>San Francisco</td><td>USD 4098.45 million</td></tr><tr><th>2</th><td>Region B</td><td>2021</td><td>2</td><td>OPERATING_EXPENSES</td><td>OTHERS</td><td>Philadelphia</td><td>USD 3240.95 million</td></tr><tr><th>3</th><td>Region B</td><td>2021</td><td>2</td><td>OPERATING_EXPENSES</td><td>SALES</td><td>Boston</td><td>USD 3734.55 million</td></tr><tr><th>4</th><td>Region B</td><td>2021</td><td>2</td><td>NON-OPERATING_EXPENSES</td><td>IT</td><td>Atlanta</td><td>USD 4193.49 million</td></tr><tr><th>5</th><td>Region B</td><td>2021</td><td>2</td><td>NON-OPERATING_EXPENSES</td><td>SALES</td><td>Philadelphia</td><td>USD 3618.04 million</td></tr><tr><th>6</th><td>Region B</td><td>2021</td><td>2</td><td>NON-OPERATING_EXPENSES</td><td>BUSINESS</td><td>Richmond</td><td>USD 3192.46 million</td></tr><tr><th>7</th><td>Region B</td><td>2021</td><td>2</td><td>OPERATING_EXPENSES</td><td>BUSINESS</td><td>Atlanta</td><td>USD 4143.11 million</td></tr><tr><th>8</th><td>Region B</td><td>2021</td><td>2</td><td>NON-OPERATING_EXPENSES</td><td>BUSINESS</td><td>Chicago</td><td>USD 3963.0 million</td></tr><tr><th>9</th><td>Region B</td><td>2021</td><td>2</td><td>NON-OPERATING_EXPENSES</td><td>SALES</td><td>Dallas</td><td>USD 4416.59 million</td></tr><tr><th>10</th><td>Region B</td><td>2021</td><td>2</td><td>OPERATING_EXPENSES</td><td>BUSINESS</td><td>Cleveland</td><td>USD 3474.11 million</td></tr><tr><th>11</th><td>Region B</td><td>2021</td><td>2</td><td>NON-OPERATING_EXPENSES</td><td>OTHERS</td><td>Kansas City</td><td>USD 3356.74 million</td></tr><tr><th>12</th><td>Region B</td><td>2021</td><td>2</td><td>NON-OPERATING_EXPENSES</td><td>SALES</td><td>Richmond</td><td>USD 3591.01 million</td></tr><tr><th>13</th><td>Region B</td><td>2021</td><td>2</td><td>OPERATING_EXPENSES</td><td>IT</td><td>San Francisco</td><td>USD 3240.61 million</td></tr><tr><th>14</th><td>Region B</td><td>2021</td><td>2</td><td>OPERATING_EXPENSES</td><td>HR</td><td>Atlanta</td><td>USD 3766.31 million</td></tr><tr><th>15</th><td>Region B</td><td>2021</td><td>2</td><td>NON-OPERATING_EXPENSES</td><td>OTHERS</td><td>Boston</td><td>USD 4688.84 million</td></tr><tr><th>16</th><td>Region B</td><td>2021</td><td>2</td><td>NON-OPERATING_EXPENSES</td><td>SALES</td><td>Chicago</td><td>USD 4404.04 million</td></tr><tr><th>17</th><td>Region B</td><td>2021</td><td>2</td><td>OPERATING_EXPENSES</td><td>BUSINESS</td><td>Kansas City</td><td>USD 3840.14 million</td></tr><tr><th>18</th><td>Region B</td><td>2021</td><td>2</td><td>OPERATING_EXPENSES</td><td>IT</td><td>Kansas City</td><td>USD 3355.3 million</td></tr><tr><th>19</th><td>Region B</td><td>2021</td><td>2</td><td>OPERATING_EXPENSES</td><td>OTHERS</td><td>St. Louis</td><td>USD 5139.69 million</td></tr><tr><th>20</th><td>Region B</td><td>2021</td><td>2</td><td>OPERATING_EXPENSES</td><td>SALES</td><td>Philadelphia</td><td>USD 3656.95 million</td></tr><tr><th>21</th><td>Region B</td><td>2021</td><td>2</td><td>NON-OPERATING_EXPENSES</td><td>HR</td><td>Chicago</td><td>USD 3165.89 million</td></tr><tr><th>22</th><td>Region B</td><td>2021</td><td>2</td><td>OPERATING_EXPENSES</td><td>OTHERS</td><td>Chicago</td><td>USD 4933.75 million</td></tr><tr><th>23</th><td>Region B</td><td>2021</td><td>2</td><td>NON-OPERATING_EXPENSES</td><td>HR</td><td>Minneapolis</td><td>USD 3559.91 million</td></tr><tr><th>24</th><td>Region B</td><td>2021</td><td>2</td><td>NON-OPERATING_EXPENSES</td><td>OTHERS</td><td>Dallas</td><td>USD 4380.7 million</td></tr><tr><th>25</th><td>Region B</td><td>2021</td><td>2</td><td>NON-OPERATING_EXPENSES</td><td>OTHERS</td><td>Atlanta</td><td>USD 3031.31 million</td></tr><tr><th>26</th><td>Region B</td><td>2021</td><td>2</td><td>OPERATING_EXPENSES</td><td>SALES</td><td>Kansas City</td><td>USD 3904.91 million</td></tr><tr><th>27</th><td>Region B</td><td>2021</td><td>2</td><td>NON-OPERATING_EXPENSES</td><td>SALES</td><td>St. Louis</td><td>USD 4446.03 million</td></tr><tr><th>28</th><td>Region B</td><td>2021</td><td>2</td><td>OPERATING_EXPENSES</td><td>OTHERS</td><td>Minneapolis</td><td>USD 3189.43 million</td></tr><tr><th>29</th><td>Region B</td><td>2021</td><td>2</td><td>NON-OPERATING_EXPENSES</td><td>HR</td><td>San Francisco</td><td>USD 4562.48 million</td></tr><tr><th>30</th><td>Region B</td><td>2021</td><td>2</td><td>NON-OPERATING_EXPENSES</td><td>IT</td><td>Cleveland</td><td>USD 3821.77 million</td></tr><tr><th>31</th><td>Region B</td><td>2021</td><td>2</td><td>OPERATING_EXPENSES</td><td>BUSINESS</td><td>St. Louis</td><td>USD 3782.8 million</td></tr><tr><th>32</th><td>Region B</td><td>2021</td><td>2</td><td>OPERATING_EXPENSES</td><td>OTHERS</td><td>New York</td><td>USD 3924.49 million</td></tr><tr><th>33</th><td>Region B</td><td>2021</td><td>2</td><td>NON-OPERATING_EXPENSES</td><td>BUSINESS</td><td>Cleveland</td><td>USD 5229.43 million</td></tr><tr><th>34</th><td>Region B</td><td>2021</td><td>2</td><td>NON-OPERATING_EXPENSES</td><td>OTHERS</td><td>Cleveland</td><td>USD 4697.11 million</td></tr><tr><th>35</th><td>Region B</td><td>2021</td><td>2</td><td>OPERATING_EXPENSES</td><td>BUSINESS</td><td>Chicago</td><td>USD 3353.08 million</td></tr><tr><th>36</th><td>Region B</td><td>2021</td><td>2</td><td>OPERATING_EXPENSES</td><td>OTHERS</td><td>Dallas</td><td>USD 4196.53 million</td></tr><tr><th>37</th><td>Region B</td><td>2021</td><td>2</td><td>OPERATING_EXPENSES</td><td>HR</td><td>Kansas City</td><td>USD 3371.96 million</td></tr><tr><th>38</th><td>Region B</td><td>2021</td><td>2</td><td>NON-OPERATING_EXPENSES</td><td>IT</td><td>St. Louis</td><td>USD 4229.76 million</td></tr><tr><th>39</th><td>Region B</td><td>2021</td><td>2</td><td>NON-OPERATING_EXPENSES</td><td>HR</td><td>Boston</td><td>USD 4194.8 million</td></tr><tr><th>40</th><td>Region B</td><td>2021</td><td>2</td><td>NON-OPERATING_EXPENSES</td><td>OTHERS</td><td>New York</td><td>USD 4134.68 million</td></tr><tr><th>41</th><td>Region B</td><td>2021</td><td>2</td><td>NON-OPERATING_EXPENSES</td><td>OTHERS</td><td>San Francisco</td><td>USD 3652.64 million</td></tr><tr><th>42</th><td>Region B</td><td>2021</td><td>2</td><td>NON-OPERATING_EXPENSES</td><td>BUSINESS</td><td>Dallas</td><td>USD 4433.52 million</td></tr><tr><th>43</th><td>Region B</td><td>2021</td><td>2</td><td>OPERATING_EXPENSES</td><td>HR</td><td>St. Louis</td><td>USD 2940.35 million</td></tr><tr><th>44</th><td>Region B</td><td>2021</td><td>2</td><td>OPERATING_EXPENSES</td><td>BUSINESS</td><td>Richmond</td><td>USD 3208.9 million</td></tr><tr><th>45</th><td>Region B</td><td>2021</td><td>2</td><td>OPERATING_EXPENSES</td><td>HR</td><td>Minneapolis</td><td>USD 4088.17 million</td></tr><tr><th>46</th><td>Region B</td><td>2021</td><td>2</td><td>OPERATING_EXPENSES</td><td>BUSINESS</td><td>Minneapolis</td><td>USD 3509.06 million</td></tr><tr><th>47</th><td>Region B</td><td>2021</td><td>2</td><td>NON-OPERATING_EXPENSES</td><td>OTHERS</td><td>Chicago</td><td>USD 3174.83 million</td></tr><tr><th>48</th><td>Region B</td><td>2021</td><td>2</td><td>OPERATING_EXPENSES</td><td>IT</td><td>St. Louis</td><td>USD 3753.62 million</td></tr><tr><th>49</th><td>Region B</td><td>2021</td><td>2</td><td>NON-OPERATING_EXPENSES</td><td>HR</td><td>Cleveland</td><td>USD 4906.33 million</td></tr><tr><th>50</th><td>Region B</td><td>2021</td><td>2</td><td>OPERATING_EXPENSES</td><td>HR</td><td>Chicago</td><td>USD 3402.68 million</td></tr><tr><th>51</th><td>Region B</td><td>2021</td><td>2</td><td>OPERATING_EXPENSES</td><td>OTHERS</td><td>Kansas City</td><td>USD 5084.04 million</td></tr><tr><th>52</th><td>Region B</td><td>2021</td><td>2</td><td>NON-OPERATING_EXPENSES</td><td>SALES</td><td>Boston</td><td>USD 3873.67 million</td></tr><tr><th>53</th><td>Region B</td><td>2021</td><td>2</td><td>OPERATING_EXPENSES</td><td>HR</td><td>Philadelphia</td><td>USD 4052.49 million</td></tr><tr><th>54</th><td>Region B</td><td>2021</td><td>2</td><td>NON-OPERATING_EXPENSES</td><td>BUSINESS</td><td>St. Louis</td><td>USD 4156.68 million</td></tr><tr><th>55</th><td>Region B</td><td>2021</td><td>2</td><td>NON-OPERATING_EXPENSES</td><td>BUSINESS</td><td>Boston</td><td>USD 2852.89 million</td></tr><tr><th>56</th><td>Region B</td><td>2021</td><td>2</td><td>OPERATING_EXPENSES</td><td>IT</td><td>Boston</td><td>USD 4182.93 million</td></tr><tr><th>57</th><td>Region B</td><td>2021</td><td>2</td><td>NON-OPERATING_EXPENSES</td><td>IT</td><td>Dallas</td><td>USD 3785.25 million</td></tr><tr><th>58</th><td>Region B</td><td>2021</td><td>2</td><td>NON-OPERATING_EXPENSES</td><td>BUSINESS</td><td>Philadelphia</td><td>USD 3786.29 million</td></tr><tr><th>59</th><td>Region B</td><td>2021</td><td>2</td><td>NON-OPERATING_EXPENSES</td><td>SALES</td><td>Kansas City</td><td>USD 4299.75 million</td></tr><tr><th>60</th><td>Region B</td><td>2021</td><td>2</td><td>NON-OPERATING_EXPENSES</td><td>IT</td><td>Richmond</td><td>USD 3872.1 million</td></tr><tr><th>61</th><td>Region B</td><td>2021</td><td>2</td><td>NON-OPERATING_EXPENSES</td><td>SALES</td><td>Atlanta</td><td>USD 4327.87 million</td></tr><tr><th>62</th><td>Region B</td><td>2021</td><td>2</td><td>NON-OPERATING_EXPENSES</td><td>IT</td><td>Boston</td><td>USD 4085.18 million</td></tr><tr><th>63</th><td>Region B</td><td>2021</td><td>2</td><td>NON-OPERATING_EXPENSES</td><td>OTHERS</td><td>Philadelphia</td><td>USD 3549.56 million</td></tr><tr><th>64</th><td>Region B</td><td>2021</td><td>2</td><td>OPERATING_EXPENSES</td><td>OTHERS</td><td>Richmond</td><td>USD 4196.52 million</td></tr><tr><th>65</th><td>Region B</td><td>2021</td><td>2</td><td>OPERATING_EXPENSES</td><td>SALES</td><td>San Francisco</td><td>USD 3952.66 million</td></tr><tr><th>66</th><td>Region B</td><td>2021</td><td>2</td><td>NON-OPERATING_EXPENSES</td><td>IT</td><td>Minneapolis</td><td>USD 4103.66 million</td></tr><tr><th>67</th><td>Region B</td><td>2021</td><td>2</td><td>OPERATING_EXPENSES</td><td>BUSINESS</td><td>Philadelphia</td><td>USD 3931.35 million</td></tr><tr><th>68</th><td>Region B</td><td>2021</td><td>2</td><td>NON-OPERATING_EXPENSES</td><td>HR</td><td>Dallas</td><td>USD 3940.19 million</td></tr><tr><th>69</th><td>Region B</td><td>2021</td><td>2</td><td>NON-OPERATING_EXPENSES</td><td>BUSINESS</td><td>San Francisco</td><td>USD 3968.44 million</td></tr><tr><th>70</th><td>Region B</td><td>2021</td><td>2</td><td>NON-OPERATING_EXPENSES</td><td>SALES</td><td>New York</td><td>USD 3646.47 million</td></tr><tr><th>71</th><td>Region B</td><td>2021</td><td>2</td><td>NON-OPERATING_EXPENSES</td><td>HR</td><td>Philadelphia</td><td>USD 4291.44 million</td></tr><tr><th>72</th><td>Region B</td><td>2021</td><td>2</td><td>OPERATING_EXPENSES</td><td>BUSINESS</td><td>Boston</td><td>USD 3640.12 million</td></tr><tr><th>73</th><td>Region B</td><td>2021</td><td>2</td><td>NON-OPERATING_EXPENSES</td><td>OTHERS</td><td>Richmond</td><td>USD 4087.34 million</td></tr><tr><th>74</th><td>Region B</td><td>2021</td><td>2</td><td>NON-OPERATING_EXPENSES</td><td>BUSINESS</td><td>New York</td><td>USD 3435.19 million</td></tr><tr><th>75</th><td>Region B</td><td>2021</td><td>2</td><td>OPERATING_EXPENSES</td><td>OTHERS</td><td>Cleveland</td><td>USD 3904.54 million</td></tr><tr><th>76</th><td>Region B</td><td>2021</td><td>2</td><td>NON-OPERATING_EXPENSES</td><td>OTHERS</td><td>Minneapolis</td><td>USD 3202.41 million</td></tr><tr><th>77</th><td>Region B</td><td>2021</td><td>2</td><td>NON-OPERATING_EXPENSES</td><td>IT</td><td>Philadelphia</td><td>USD 4750.94 million</td></tr><tr><th>78</th><td>Region B</td><td>2021</td><td>2</td><td>OPERATING_EXPENSES</td><td>SALES</td><td>Cleveland</td><td>USD 3913.3 million</td></tr><tr><th>79</th><td>Region B</td><td>2021</td><td>2</td><td>OPERATING_EXPENSES</td><td>BUSINESS</td><td>New York</td><td>USD 3859.61 million</td></tr><tr><th>80</th><td>Region B</td><td>2021</td><td>2</td><td>NON-OPERATING_EXPENSES</td><td>SALES</td><td>San Francisco</td><td>USD 3354.34 million</td></tr><tr><th>81</th><td>Region B</td><td>2021</td><td>2</td><td>OPERATING_EXPENSES</td><td>IT</td><td>Richmond</td><td>USD 3910.95 million</td></tr><tr><th>82</th><td>Region B</td><td>2021</td><td>2</td><td>OPERATING_EXPENSES</td><td>IT</td><td>Dallas</td><td>USD 3638.51 million</td></tr><tr><th>83</th><td>Region B</td><td>2021</td><td>2</td><td>NON-OPERATING_EXPENSES</td><td>IT</td><td>New York</td><td>USD 3756.12 million</td></tr><tr><th>84</th><td>Region B</td><td>2021</td><td>2</td><td>OPERATING_EXPENSES</td><td>IT</td><td>New York</td><td>USD 3754.5 million</td></tr><tr><th>85</th><td>Region B</td><td>2021</td><td>2</td><td>OPERATING_EXPENSES</td><td>SALES</td><td>Chicago</td><td>USD 3874.19 million</td></tr><tr><th>86</th><td>Region B</td><td>2021</td><td>2</td><td>OPERATING_EXPENSES</td><td>HR</td><td>Boston</td><td>USD 3864.05 million</td></tr><tr><th>87</th><td>Region B</td><td>2021</td><td>2</td><td>OPERATING_EXPENSES</td><td>HR</td><td>Dallas</td><td>USD 3840.72 million</td></tr><tr><th>88</th><td>Region B</td><td>2021</td><td>2</td><td>NON-OPERATING_EXPENSES</td><td>IT</td><td>Kansas City</td><td>USD 4006.44 million</td></tr><tr><th>89</th><td>Region B</td><td>2021</td><td>2</td><td>OPERATING_EXPENSES</td><td>BUSINESS</td><td>Dallas</td><td>USD 3458.77 million</td></tr><tr><th>90</th><td>Region B</td><td>2021</td><td>2</td><td>OPERATING_EXPENSES</td><td>IT</td><td>Minneapolis</td><td>USD 4582.68 million</td></tr><tr><th>91</th><td>Region B</td><td>2021</td><td>2</td><td>OPERATING_EXPENSES</td><td>HR</td><td>Cleveland</td><td>USD 3614.93 million</td></tr><tr><th>92</th><td>Region B</td><td>2021</td><td>2</td><td>OPERATING_EXPENSES</td><td>OTHERS</td><td>Atlanta</td><td>USD 3828.67 million</td></tr><tr><th>93</th><td>Region B</td><td>2021</td><td>2</td><td>OPERATING_EXPENSES</td><td>BUSINESS</td><td>San Francisco</td><td>USD 3644.08 million</td></tr><tr><th>94</th><td>Region B</td><td>2021</td><td>2</td><td>NON-OPERATING_EXPENSES</td><td>OTHERS</td><td>St. Louis</td><td>USD 3616.26 million</td></tr><tr><th>95</th><td>Region B</td><td>2021</td><td>2</td><td>OPERATING_EXPENSES</td><td>HR</td><td>New York</td><td>USD 4176.41 million</td></tr><tr><th>96</th><td>Region B</td><td>2021</td><td>2</td><td>OPERATING_EXPENSES</td><td>SALES</td><td>St. Louis</td><td>USD 3355.44 million</td></tr><tr><th>97</th><td>Region B</td><td>2021</td><td>2</td><td>OPERATING_EXPENSES</td><td>SALES</td><td>New York</td><td>USD 3358.87 million</td></tr><tr><th>98</th><td>Region B</td><td>2021</td><td>2</td><td>NON-OPERATING_EXPENSES</td><td>HR</td><td>St. Louis</td><td>USD 4208.25 million</td></tr><tr><th>99</th><td>Region B</td><td>2021</td><td>2</td><td>OPERATING_EXPENSES</td><td>IT</td><td>Atlanta</td><td>USD 4744.26 million</td></tr><tr><th>100</th><td>Region B</td><td>2021</td><td>2</td><td>OPERATING_EXPENSES</td><td>SALES</td><td>Richmond</td><td>USD 3400.41 million</td></tr><tr><th>101</th><td>Region B</td><td>2021</td><td>2</td><td>OPERATING_EXPENSES</td><td>IT</td><td>Cleveland</td><td>USD 3533.37 million</td></tr><tr><th>102</th><td>Region B</td><td>2021</td><td>2</td><td>NON-OPERATING_EXPENSES</td><td>SALES</td><td>Minneapolis</td><td>USD 3847.42 million</td></tr><tr><th>103</th><td>Region B</td><td>2021</td><td>2</td><td>NON-OPERATING_EXPENSES</td><td>IT</td><td>Chicago</td><td>USD 3302.56 million</td></tr><tr><th>104</th><td>Region B</td><td>2021</td><td>2</td><td>OPERATING_EXPENSES</td><td>OTHERS</td><td>Boston</td><td>USD 3400.47 million</td></tr><tr><th>105</th><td>Region B</td><td>2021</td><td>2</td><td>NON-OPERATING_EXPENSES</td><td>HR</td><td>New York</td><td>USD 3341.5 million</td></tr><tr><th>106</th><td>Region B</td><td>2021</td><td>2</td><td>NON-OPERATING_EXPENSES</td><td>HR</td><td>Richmond</td><td>USD 3762.4 million</td></tr><tr><th>107</th><td>Region B</td><td>2021</td><td>2</td><td>NON-OPERATING_EXPENSES</td><td>BUSINESS</td><td>Minneapolis</td><td>USD 3918.28 million</td></tr><tr><th>108</th><td>Region B</td><td>2021</td><td>2</td><td>NON-OPERATING_EXPENSES</td><td>HR</td><td>Kansas City</td><td>USD 3928.57 million</td></tr><tr><th>109</th><td>Region B</td><td>2021</td><td>2</td><td>NON-OPERATING_EXPENSES</td><td>BUSINESS</td><td>Kansas City</td><td>USD 4498.11 million</td></tr><tr><th>110</th><td>Region B</td><td>2021</td><td>2</td><td>OPERATING_EXPENSES</td><td>IT</td><td>Chicago</td><td>USD 4065.66 million</td></tr><tr><th>111</th><td>Region B</td><td>2021</td><td>2</td><td>OPERATING_EXPENSES</td><td>IT</td><td>Philadelphia</td><td>USD 3674.19 million</td></tr><tr><th>112</th><td>Region B</td><td>2021</td><td>2</td><td>OPERATING_EXPENSES</td><td>HR</td><td>San Francisco</td><td>USD 3337.98 million</td></tr><tr><th>113</th><td>Region B</td><td>2021</td><td>2</td><td>OPERATING_EXPENSES</td><td>HR</td><td>Richmond</td><td>USD 3776.64 million</td></tr><tr><th>114</th><td>Region B</td><td>2021</td><td>2</td><td>NON-OPERATING_EXPENSES</td><td>BUSINESS</td><td>Atlanta</td><td>USD 4508.29 million</td></tr><tr><th>115</th><td>Region B</td><td>2021</td><td>2</td><td>OPERATING_EXPENSES</td><td>SALES</td><td>Atlanta</td><td>USD 3592.17 million</td></tr><tr><th>116</th><td>Region B</td><td>2021</td><td>2</td><td>OPERATING_EXPENSES</td><td>OTHERS</td><td>San Francisco</td><td>USD 3089.01 million</td></tr><tr><th>117</th><td>Region B</td><td>2021</td><td>2</td><td>NON-OPERATING_EXPENSES</td><td>HR</td><td>Atlanta</td><td>USD 3858.73 million</td></tr><tr><th>118</th><td>Region B</td><td>2021</td><td>2</td><td>OPERATING_EXPENSES</td><td>SALES</td><td>Minneapolis</td><td>USD 4179.07 million</td></tr><tr><th>119</th><td>Region B</td><td>2021</td><td>2</td><td>OPERATING_EXPENSES</td><td>SALES</td><td>Dallas</td><td>USD 3356.67 million</td></tr><tr><th>120</th><td>Region B</td><td>2021</td><td>2</td><td>NON-OPERATING_EXPENSES</td><td>SALES</td><td>Cleveland</td><td>USD 4432.2 million</td></tr></tbody></table></div>"
               },
               "type": "node"
              }
             ],
             "instanceArgs": {
              "namespace": "html",
              "tag": "div"
             },
             "nodeType": "DOM",
             "props": {
              "className": "interact-flex-row interact-widget"
             },
             "type": "node"
            }
           }
          },
          "systemjs_options": null
         },
         "nodeType": "Scope",
         "props": {},
         "type": "node"
        }
       ],
       "instanceArgs": {
        "namespace": "html",
        "tag": "div"
       },
       "nodeType": "DOM",
       "props": {},
       "type": "node"
      },
      "text/html": [
       "<div\n",
       "    class=\"webio-mountpoint\"\n",
       "    data-webio-mountpoint=\"9481792383185514500\"\n",
       ">\n",
       "    <script>\n",
       "    (function(){\n",
       "    // Some integrations (namely, IJulia/Jupyter) use an alternate render pathway than\n",
       "    // just putting the html on the page. If WebIO isn't defined, then it's pretty likely\n",
       "    // that we're in one of those situations and the integration just isn't installed\n",
       "    // correctly.\n",
       "    if (typeof window.WebIO === \"undefined\") {\n",
       "        document\n",
       "            .querySelector('[data-webio-mountpoint=\"9481792383185514500\"]')\n",
       "            .innerHTML = (\n",
       "                '<div style=\"padding: 1em; background-color: #f8d6da; border: 1px solid #f5c6cb; font-weight: bold;\">' +\n",
       "                '<p><strong>WebIO not detected.</strong></p>' +\n",
       "                '<p>Please read ' +\n",
       "                '<a href=\"https://juliagizmos.github.io/WebIO.jl/latest/troubleshooting/not-detected/\" target=\"_blank\">the troubleshooting guide</a> ' +\n",
       "                'for more information on how to resolve this issue.</p>' +\n",
       "                '<p><a href=\"https://juliagizmos.github.io/WebIO.jl/latest/troubleshooting/not-detected/\" target=\"_blank\">https://juliagizmos.github.io/WebIO.jl/latest/troubleshooting/not-detected/</a></p>' +\n",
       "                '</div>'\n",
       "            );\n",
       "        return;\n",
       "    }\n",
       "    WebIO.mount(\n",
       "        document.querySelector('[data-webio-mountpoint=\"9481792383185514500\"]'),\n",
       "        {\"props\":{},\"nodeType\":\"DOM\",\"type\":\"node\",\"instanceArgs\":{\"namespace\":\"html\",\"tag\":\"div\"},\"children\":[{\"props\":{\"className\":\"interact-widget\"},\"nodeType\":\"DOM\",\"type\":\"node\",\"instanceArgs\":{\"namespace\":\"html\",\"tag\":\"div\"},\"children\":[{\"props\":{},\"nodeType\":\"Scope\",\"type\":\"node\",\"instanceArgs\":{\"imports\":{\"data\":[{\"name\":\"knockout\",\"type\":\"js\",\"url\":\"\\/assetserver\\/7adbe83fac1553325d6e718d595ab555e1cabbe4-knockout.js\"},{\"name\":\"knockout_punches\",\"type\":\"js\",\"url\":\"\\/assetserver\\/cec8c4de011abc05b545afbaaea4bb4465a1f168-knockout_punches.js\"},{\"name\":null,\"type\":\"js\",\"url\":\"\\/assetserver\\/5ddeec2b33e792dac4326b9b8929eb841863a558-all.js\"},{\"name\":null,\"type\":\"css\",\"url\":\"\\/assetserver\\/a04b7b754438af5b294cd7f1d762c01dae6fade5-style.css\"},{\"name\":null,\"type\":\"css\",\"url\":\"\\/assetserver\\/50b13cf07303023836f4115fe93a8fe3eca4721a-bulma_confined.min.css\"}],\"type\":\"async_block\"},\"id\":\"2261378954612424764\",\"handlers\":{\"options_js\":[\"(function (val){return (val!=this.model[\\\"options_js\\\"]()) ? (this.valueFromJulia[\\\"options_js\\\"]=true, this.model[\\\"options_js\\\"](val)) : undefined})\"],\"index\":[\"(function (val){return (val!=this.model[\\\"index\\\"]()) ? (this.valueFromJulia[\\\"index\\\"]=true, this.model[\\\"index\\\"](val)) : undefined})\"]},\"systemjs_options\":null,\"mount_callbacks\":[\"function () {\\n    var handler = (function (ko, koPunches) {\\n    ko.punches.enableAll();\\n    ko.bindingHandlers.numericValue = {\\n        init: function(element, valueAccessor, allBindings, data, context) {\\n            var stringified = ko.observable(ko.unwrap(valueAccessor()));\\n            stringified.subscribe(function(value) {\\n                var val = parseFloat(value);\\n                if (!isNaN(val)) {\\n                    valueAccessor()(val);\\n                }\\n            });\\n            valueAccessor().subscribe(function(value) {\\n                var str = JSON.stringify(value);\\n                if ((str == \\\"0\\\") && ([\\\"-0\\\", \\\"-0.\\\"].indexOf(stringified()) >= 0))\\n                     return;\\n                 if ([\\\"null\\\", \\\"\\\"].indexOf(str) >= 0)\\n                     return;\\n                stringified(str);\\n            });\\n            ko.applyBindingsToNode(\\n                element,\\n                {\\n                    value: stringified,\\n                    valueUpdate: allBindings.get('valueUpdate'),\\n                },\\n                context,\\n            );\\n        }\\n    };\\n    var json_data = {\\\"options_js\\\":WebIO.getval({\\\"name\\\":\\\"options_js\\\",\\\"scope\\\":\\\"2261378954612424764\\\",\\\"id\\\":\\\"2544271647740361144\\\",\\\"type\\\":\\\"observable\\\"}),\\\"index\\\":WebIO.getval({\\\"name\\\":\\\"index\\\",\\\"scope\\\":\\\"2261378954612424764\\\",\\\"id\\\":\\\"12385331690821543038\\\",\\\"type\\\":\\\"observable\\\"})};\\n    var self = this;\\n    function AppViewModel() {\\n        for (var key in json_data) {\\n            var el = json_data[key];\\n            this[key] = Array.isArray(el) ? ko.observableArray(el) : ko.observable(el);\\n        }\\n        [this[\\\"update\\\"]=function (val) {this.index(val)}]\\n        \\n        [this[\\\"options_js\\\"].subscribe((function (val){!(this.valueFromJulia[\\\"options_js\\\"]) ? (WebIO.setval({\\\"name\\\":\\\"options_js\\\",\\\"scope\\\":\\\"2261378954612424764\\\",\\\"id\\\":\\\"2544271647740361144\\\",\\\"type\\\":\\\"observable\\\"},val)) : undefined; return this.valueFromJulia[\\\"options_js\\\"]=false}),self),this[\\\"index\\\"].subscribe((function (val){!(this.valueFromJulia[\\\"index\\\"]) ? (WebIO.setval({\\\"name\\\":\\\"index\\\",\\\"scope\\\":\\\"2261378954612424764\\\",\\\"id\\\":\\\"12385331690821543038\\\",\\\"type\\\":\\\"observable\\\"},val)) : undefined; return this.valueFromJulia[\\\"index\\\"]=false}),self)]\\n        \\n    }\\n    self.model = new AppViewModel();\\n    self.valueFromJulia = {};\\n    for (var key in json_data) {\\n        self.valueFromJulia[key] = false;\\n    }\\n    ko.applyBindings(self.model, self.dom);\\n}\\n);\\n    (WebIO.importBlock({\\\"data\\\":[{\\\"name\\\":\\\"knockout\\\",\\\"type\\\":\\\"js\\\",\\\"url\\\":\\\"\\/assetserver\\/7adbe83fac1553325d6e718d595ab555e1cabbe4-knockout.js\\\"},{\\\"name\\\":\\\"knockout_punches\\\",\\\"type\\\":\\\"js\\\",\\\"url\\\":\\\"\\/assetserver\\/cec8c4de011abc05b545afbaaea4bb4465a1f168-knockout_punches.js\\\"}],\\\"type\\\":\\\"async_block\\\"})).then((imports) => handler.apply(this, imports));\\n}\\n\"],\"observables\":{\"options_js\":{\"sync\":false,\"id\":\"2544271647740361144\",\"value\":[{\"key\":\"Actuals\",\"val\":1,\"id\":\"idJjPv91r9\"},{\"key\":\"Budget\",\"val\":2,\"id\":\"iddxFNAGDn\"}]},\"index\":{\"sync\":true,\"id\":\"12385331690821543038\",\"value\":1}}},\"children\":[{\"props\":{\"className\":\"interact-flex-row interact-widget\"},\"nodeType\":\"DOM\",\"type\":\"node\",\"instanceArgs\":{\"namespace\":\"html\",\"tag\":\"div\"},\"children\":[{\"props\":{\"className\":\"interact-flex-row-left\"},\"nodeType\":\"DOM\",\"type\":\"node\",\"instanceArgs\":{\"namespace\":\"html\",\"tag\":\"div\"},\"children\":[{\"props\":{\"className\":\"interact \",\"style\":{\"padding\":\"5px 10px 0px 10px\"}},\"nodeType\":\"DOM\",\"type\":\"node\",\"instanceArgs\":{\"namespace\":\"html\",\"tag\":\"label\"},\"children\":[\"ld\"]}]},{\"props\":{\"className\":\"interact-flex-row-center\"},\"nodeType\":\"DOM\",\"type\":\"node\",\"instanceArgs\":{\"namespace\":\"html\",\"tag\":\"div\"},\"children\":[{\"props\":{\"attributes\":{\"data-bind\":\"foreach : options_js\"},\"className\":\"buttons has-addons is-centered\"},\"nodeType\":\"DOM\",\"type\":\"node\",\"instanceArgs\":{\"namespace\":\"html\",\"tag\":\"div\"},\"children\":[{\"props\":{\"attributes\":{\"data-bind\":\"click: function (){$root.update(val)}, css: {'is-primary is-selected' : $root.index() == val, 'interact-widget is-medium button ' : true}\"}},\"nodeType\":\"DOM\",\"type\":\"node\",\"instanceArgs\":{\"namespace\":\"html\",\"tag\":\"span\"},\"children\":[{\"props\":{\"attributes\":{\"data-bind\":\"text : key\"}},\"nodeType\":\"DOM\",\"type\":\"node\",\"instanceArgs\":{\"namespace\":\"html\",\"tag\":\"label\"},\"children\":[]}]}]}]},{\"props\":{\"className\":\"interact-flex-row-right\"},\"nodeType\":\"DOM\",\"type\":\"node\",\"instanceArgs\":{\"namespace\":\"html\",\"tag\":\"div\"},\"children\":[{\"props\":{},\"nodeType\":\"DOM\",\"type\":\"node\",\"instanceArgs\":{\"namespace\":\"html\",\"tag\":\"div\"},\"children\":[]}]}]}]}]},{\"props\":{\"className\":\"interact-widget\"},\"nodeType\":\"DOM\",\"type\":\"node\",\"instanceArgs\":{\"namespace\":\"html\",\"tag\":\"div\"},\"children\":[{\"props\":{},\"nodeType\":\"Scope\",\"type\":\"node\",\"instanceArgs\":{\"imports\":{\"data\":[{\"name\":\"knockout\",\"type\":\"js\",\"url\":\"\\/assetserver\\/7adbe83fac1553325d6e718d595ab555e1cabbe4-knockout.js\"},{\"name\":\"knockout_punches\",\"type\":\"js\",\"url\":\"\\/assetserver\\/cec8c4de011abc05b545afbaaea4bb4465a1f168-knockout_punches.js\"},{\"name\":null,\"type\":\"js\",\"url\":\"\\/assetserver\\/5ddeec2b33e792dac4326b9b8929eb841863a558-all.js\"},{\"name\":null,\"type\":\"css\",\"url\":\"\\/assetserver\\/a04b7b754438af5b294cd7f1d762c01dae6fade5-style.css\"},{\"name\":null,\"type\":\"css\",\"url\":\"\\/assetserver\\/50b13cf07303023836f4115fe93a8fe3eca4721a-bulma_confined.min.css\"}],\"type\":\"async_block\"},\"id\":\"4919382983103673781\",\"handlers\":{\"options_js\":[\"(function (val){return (val!=this.model[\\\"options_js\\\"]()) ? (this.valueFromJulia[\\\"options_js\\\"]=true, this.model[\\\"options_js\\\"](val)) : undefined})\"],\"index\":[\"(function (val){return (val!=this.model[\\\"index\\\"]()) ? (this.valueFromJulia[\\\"index\\\"]=true, this.model[\\\"index\\\"](val)) : undefined})\"]},\"systemjs_options\":null,\"mount_callbacks\":[\"function () {\\n    var handler = (function (ko, koPunches) {\\n    ko.punches.enableAll();\\n    ko.bindingHandlers.numericValue = {\\n        init: function(element, valueAccessor, allBindings, data, context) {\\n            var stringified = ko.observable(ko.unwrap(valueAccessor()));\\n            stringified.subscribe(function(value) {\\n                var val = parseFloat(value);\\n                if (!isNaN(val)) {\\n                    valueAccessor()(val);\\n                }\\n            });\\n            valueAccessor().subscribe(function(value) {\\n                var str = JSON.stringify(value);\\n                if ((str == \\\"0\\\") && ([\\\"-0\\\", \\\"-0.\\\"].indexOf(stringified()) >= 0))\\n                     return;\\n                 if ([\\\"null\\\", \\\"\\\"].indexOf(str) >= 0)\\n                     return;\\n                stringified(str);\\n            });\\n            ko.applyBindingsToNode(\\n                element,\\n                {\\n                    value: stringified,\\n                    valueUpdate: allBindings.get('valueUpdate'),\\n                },\\n                context,\\n            );\\n        }\\n    };\\n    var json_data = {\\\"options_js\\\":WebIO.getval({\\\"name\\\":\\\"options_js\\\",\\\"scope\\\":\\\"4919382983103673781\\\",\\\"id\\\":\\\"6136292950278674771\\\",\\\"type\\\":\\\"observable\\\"}),\\\"index\\\":WebIO.getval({\\\"name\\\":\\\"index\\\",\\\"scope\\\":\\\"4919382983103673781\\\",\\\"id\\\":\\\"5807017233678098585\\\",\\\"type\\\":\\\"observable\\\"})};\\n    var self = this;\\n    function AppViewModel() {\\n        for (var key in json_data) {\\n            var el = json_data[key];\\n            this[key] = Array.isArray(el) ? ko.observableArray(el) : ko.observable(el);\\n        }\\n        [this[\\\"update\\\"]=function (val) {this.index(val)}]\\n        \\n        [this[\\\"options_js\\\"].subscribe((function (val){!(this.valueFromJulia[\\\"options_js\\\"]) ? (WebIO.setval({\\\"name\\\":\\\"options_js\\\",\\\"scope\\\":\\\"4919382983103673781\\\",\\\"id\\\":\\\"6136292950278674771\\\",\\\"type\\\":\\\"observable\\\"},val)) : undefined; return this.valueFromJulia[\\\"options_js\\\"]=false}),self),this[\\\"index\\\"].subscribe((function (val){!(this.valueFromJulia[\\\"index\\\"]) ? (WebIO.setval({\\\"name\\\":\\\"index\\\",\\\"scope\\\":\\\"4919382983103673781\\\",\\\"id\\\":\\\"5807017233678098585\\\",\\\"type\\\":\\\"observable\\\"},val)) : undefined; return this.valueFromJulia[\\\"index\\\"]=false}),self)]\\n        \\n    }\\n    self.model = new AppViewModel();\\n    self.valueFromJulia = {};\\n    for (var key in json_data) {\\n        self.valueFromJulia[key] = false;\\n    }\\n    ko.applyBindings(self.model, self.dom);\\n}\\n);\\n    (WebIO.importBlock({\\\"data\\\":[{\\\"name\\\":\\\"knockout\\\",\\\"type\\\":\\\"js\\\",\\\"url\\\":\\\"\\/assetserver\\/7adbe83fac1553325d6e718d595ab555e1cabbe4-knockout.js\\\"},{\\\"name\\\":\\\"knockout_punches\\\",\\\"type\\\":\\\"js\\\",\\\"url\\\":\\\"\\/assetserver\\/cec8c4de011abc05b545afbaaea4bb4465a1f168-knockout_punches.js\\\"}],\\\"type\\\":\\\"async_block\\\"})).then((imports) => handler.apply(this, imports));\\n}\\n\"],\"observables\":{\"options_js\":{\"sync\":false,\"id\":\"6136292950278674771\",\"value\":[{\"key\":\"Region B\",\"val\":1,\"id\":\"idR4fSXhN8\"},{\"key\":\"Region C\",\"val\":2,\"id\":\"idVryIOYba\"},{\"key\":\"Region A\",\"val\":3,\"id\":\"idp2k6oJKx\"}]},\"index\":{\"sync\":true,\"id\":\"5807017233678098585\",\"value\":1}}},\"children\":[{\"props\":{\"className\":\"interact-flex-row interact-widget\"},\"nodeType\":\"DOM\",\"type\":\"node\",\"instanceArgs\":{\"namespace\":\"html\",\"tag\":\"div\"},\"children\":[{\"props\":{\"className\":\"interact-flex-row-left\"},\"nodeType\":\"DOM\",\"type\":\"node\",\"instanceArgs\":{\"namespace\":\"html\",\"tag\":\"div\"},\"children\":[{\"props\":{\"className\":\"interact \",\"style\":{\"padding\":\"5px 10px 0px 10px\"}},\"nodeType\":\"DOM\",\"type\":\"node\",\"instanceArgs\":{\"namespace\":\"html\",\"tag\":\"label\"},\"children\":[\"rg\"]}]},{\"props\":{\"className\":\"interact-flex-row-center\"},\"nodeType\":\"DOM\",\"type\":\"node\",\"instanceArgs\":{\"namespace\":\"html\",\"tag\":\"div\"},\"children\":[{\"props\":{\"attributes\":{\"data-bind\":\"foreach : options_js\"},\"className\":\"buttons has-addons is-centered\"},\"nodeType\":\"DOM\",\"type\":\"node\",\"instanceArgs\":{\"namespace\":\"html\",\"tag\":\"div\"},\"children\":[{\"props\":{\"attributes\":{\"data-bind\":\"click: function (){$root.update(val)}, css: {'is-primary is-selected' : $root.index() == val, 'interact-widget is-medium button ' : true}\"}},\"nodeType\":\"DOM\",\"type\":\"node\",\"instanceArgs\":{\"namespace\":\"html\",\"tag\":\"span\"},\"children\":[{\"props\":{\"attributes\":{\"data-bind\":\"text : key\"}},\"nodeType\":\"DOM\",\"type\":\"node\",\"instanceArgs\":{\"namespace\":\"html\",\"tag\":\"label\"},\"children\":[]}]}]}]},{\"props\":{\"className\":\"interact-flex-row-right\"},\"nodeType\":\"DOM\",\"type\":\"node\",\"instanceArgs\":{\"namespace\":\"html\",\"tag\":\"div\"},\"children\":[{\"props\":{},\"nodeType\":\"DOM\",\"type\":\"node\",\"instanceArgs\":{\"namespace\":\"html\",\"tag\":\"div\"},\"children\":[]}]}]}]}]},{\"props\":{\"className\":\"field interact-widget\"},\"nodeType\":\"DOM\",\"type\":\"node\",\"instanceArgs\":{\"namespace\":\"html\",\"tag\":\"div\"},\"children\":[{\"props\":{},\"nodeType\":\"Scope\",\"type\":\"node\",\"instanceArgs\":{\"imports\":{\"data\":[{\"name\":\"knockout\",\"type\":\"js\",\"url\":\"\\/assetserver\\/7adbe83fac1553325d6e718d595ab555e1cabbe4-knockout.js\"},{\"name\":\"knockout_punches\",\"type\":\"js\",\"url\":\"\\/assetserver\\/cec8c4de011abc05b545afbaaea4bb4465a1f168-knockout_punches.js\"},{\"name\":null,\"type\":\"js\",\"url\":\"\\/assetserver\\/5ddeec2b33e792dac4326b9b8929eb841863a558-all.js\"},{\"name\":null,\"type\":\"css\",\"url\":\"\\/assetserver\\/a04b7b754438af5b294cd7f1d762c01dae6fade5-style.css\"},{\"name\":null,\"type\":\"css\",\"url\":\"\\/assetserver\\/50b13cf07303023836f4115fe93a8fe3eca4721a-bulma_confined.min.css\"}],\"type\":\"async_block\"},\"id\":\"16792730420982269183\",\"handlers\":{\"changes\":[\"(function (val){return (val!=this.model[\\\"changes\\\"]()) ? (this.valueFromJulia[\\\"changes\\\"]=true, this.model[\\\"changes\\\"](val)) : undefined})\"],\"index\":[\"(function (val){return (val!=this.model[\\\"index\\\"]()) ? (this.valueFromJulia[\\\"index\\\"]=true, this.model[\\\"index\\\"](val)) : undefined})\"]},\"systemjs_options\":null,\"mount_callbacks\":[\"function () {\\n    var handler = (function (ko, koPunches) {\\n    ko.punches.enableAll();\\n    ko.bindingHandlers.numericValue = {\\n        init: function(element, valueAccessor, allBindings, data, context) {\\n            var stringified = ko.observable(ko.unwrap(valueAccessor()));\\n            stringified.subscribe(function(value) {\\n                var val = parseFloat(value);\\n                if (!isNaN(val)) {\\n                    valueAccessor()(val);\\n                }\\n            });\\n            valueAccessor().subscribe(function(value) {\\n                var str = JSON.stringify(value);\\n                if ((str == \\\"0\\\") && ([\\\"-0\\\", \\\"-0.\\\"].indexOf(stringified()) >= 0))\\n                     return;\\n                 if ([\\\"null\\\", \\\"\\\"].indexOf(str) >= 0)\\n                     return;\\n                stringified(str);\\n            });\\n            ko.applyBindingsToNode(\\n                element,\\n                {\\n                    value: stringified,\\n                    valueUpdate: allBindings.get('valueUpdate'),\\n                },\\n                context,\\n            );\\n        }\\n    };\\n    var json_data = {\\\"formatted_vals\\\":[\\\"2020\\\",\\\"2021\\\",\\\"2022\\\"],\\\"changes\\\":WebIO.getval({\\\"name\\\":\\\"changes\\\",\\\"scope\\\":\\\"16792730420982269183\\\",\\\"id\\\":\\\"12427234278684348703\\\",\\\"type\\\":\\\"observable\\\"}),\\\"index\\\":WebIO.getval({\\\"name\\\":\\\"index\\\",\\\"scope\\\":\\\"16792730420982269183\\\",\\\"id\\\":\\\"8490942467846750800\\\",\\\"type\\\":\\\"observable\\\"})};\\n    var self = this;\\n    function AppViewModel() {\\n        for (var key in json_data) {\\n            var el = json_data[key];\\n            this[key] = Array.isArray(el) ? ko.observableArray(el) : ko.observable(el);\\n        }\\n        \\n        [this[\\\"formatted_val\\\"]=ko.computed(    function(){\\n        return this.formatted_vals()[parseInt(this.index())-(1)];\\n    }\\n,this)]\\n        [this[\\\"changes\\\"].subscribe((function (val){!(this.valueFromJulia[\\\"changes\\\"]) ? (WebIO.setval({\\\"name\\\":\\\"changes\\\",\\\"scope\\\":\\\"16792730420982269183\\\",\\\"id\\\":\\\"12427234278684348703\\\",\\\"type\\\":\\\"observable\\\"},val)) : undefined; return this.valueFromJulia[\\\"changes\\\"]=false}),self),this[\\\"index\\\"].subscribe((function (val){!(this.valueFromJulia[\\\"index\\\"]) ? (WebIO.setval({\\\"name\\\":\\\"index\\\",\\\"scope\\\":\\\"16792730420982269183\\\",\\\"id\\\":\\\"8490942467846750800\\\",\\\"type\\\":\\\"observable\\\"},val)) : undefined; return this.valueFromJulia[\\\"index\\\"]=false}),self)]\\n        \\n    }\\n    self.model = new AppViewModel();\\n    self.valueFromJulia = {};\\n    for (var key in json_data) {\\n        self.valueFromJulia[key] = false;\\n    }\\n    ko.applyBindings(self.model, self.dom);\\n}\\n);\\n    (WebIO.importBlock({\\\"data\\\":[{\\\"name\\\":\\\"knockout\\\",\\\"type\\\":\\\"js\\\",\\\"url\\\":\\\"\\/assetserver\\/7adbe83fac1553325d6e718d595ab555e1cabbe4-knockout.js\\\"},{\\\"name\\\":\\\"knockout_punches\\\",\\\"type\\\":\\\"js\\\",\\\"url\\\":\\\"\\/assetserver\\/cec8c4de011abc05b545afbaaea4bb4465a1f168-knockout_punches.js\\\"}],\\\"type\\\":\\\"async_block\\\"})).then((imports) => handler.apply(this, imports));\\n}\\n\"],\"observables\":{\"changes\":{\"sync\":false,\"id\":\"12427234278684348703\",\"value\":0},\"index\":{\"sync\":true,\"id\":\"8490942467846750800\",\"value\":2}}},\"children\":[{\"props\":{\"className\":\"interact-flex-row interact-widget\"},\"nodeType\":\"DOM\",\"type\":\"node\",\"instanceArgs\":{\"namespace\":\"html\",\"tag\":\"div\"},\"children\":[{\"props\":{\"className\":\"interact-flex-row-left\"},\"nodeType\":\"DOM\",\"type\":\"node\",\"instanceArgs\":{\"namespace\":\"html\",\"tag\":\"div\"},\"children\":[{\"props\":{\"className\":\"interact \",\"style\":{\"padding\":\"5px 10px 0px 10px\"}},\"nodeType\":\"DOM\",\"type\":\"node\",\"instanceArgs\":{\"namespace\":\"html\",\"tag\":\"label\"},\"children\":[\"\"]}]},{\"props\":{\"className\":\"interact-flex-row-center\"},\"nodeType\":\"DOM\",\"type\":\"node\",\"instanceArgs\":{\"namespace\":\"html\",\"tag\":\"div\"},\"children\":[{\"props\":{\"max\":3,\"min\":1,\"attributes\":{\"type\":\"range\",\"data-bind\":\"numericValue: index, valueUpdate: 'input', event: {change: function (){this.changes(this.changes()+1)}}\",\"orient\":\"horizontal\"},\"step\":1,\"className\":\"slider slider is-fullwidth\",\"style\":{}},\"nodeType\":\"DOM\",\"type\":\"node\",\"instanceArgs\":{\"namespace\":\"html\",\"tag\":\"input\"},\"children\":[]}]},{\"props\":{\"className\":\"interact-flex-row-right\"},\"nodeType\":\"DOM\",\"type\":\"node\",\"instanceArgs\":{\"namespace\":\"html\",\"tag\":\"div\"},\"children\":[{\"props\":{\"attributes\":{\"data-bind\":\"text: formatted_val\"}},\"nodeType\":\"DOM\",\"type\":\"node\",\"instanceArgs\":{\"namespace\":\"html\",\"tag\":\"p\"},\"children\":[]}]}]}]}]},{\"props\":{\"className\":\"field interact-widget\"},\"nodeType\":\"DOM\",\"type\":\"node\",\"instanceArgs\":{\"namespace\":\"html\",\"tag\":\"div\"},\"children\":[{\"props\":{},\"nodeType\":\"Scope\",\"type\":\"node\",\"instanceArgs\":{\"imports\":{\"data\":[{\"name\":\"knockout\",\"type\":\"js\",\"url\":\"\\/assetserver\\/7adbe83fac1553325d6e718d595ab555e1cabbe4-knockout.js\"},{\"name\":\"knockout_punches\",\"type\":\"js\",\"url\":\"\\/assetserver\\/cec8c4de011abc05b545afbaaea4bb4465a1f168-knockout_punches.js\"},{\"name\":null,\"type\":\"js\",\"url\":\"\\/assetserver\\/5ddeec2b33e792dac4326b9b8929eb841863a558-all.js\"},{\"name\":null,\"type\":\"css\",\"url\":\"\\/assetserver\\/a04b7b754438af5b294cd7f1d762c01dae6fade5-style.css\"},{\"name\":null,\"type\":\"css\",\"url\":\"\\/assetserver\\/50b13cf07303023836f4115fe93a8fe3eca4721a-bulma_confined.min.css\"}],\"type\":\"async_block\"},\"id\":\"12598521052191129842\",\"handlers\":{\"changes\":[\"(function (val){return (val!=this.model[\\\"changes\\\"]()) ? (this.valueFromJulia[\\\"changes\\\"]=true, this.model[\\\"changes\\\"](val)) : undefined})\"],\"index\":[\"(function (val){return (val!=this.model[\\\"index\\\"]()) ? (this.valueFromJulia[\\\"index\\\"]=true, this.model[\\\"index\\\"](val)) : undefined})\"]},\"systemjs_options\":null,\"mount_callbacks\":[\"function () {\\n    var handler = (function (ko, koPunches) {\\n    ko.punches.enableAll();\\n    ko.bindingHandlers.numericValue = {\\n        init: function(element, valueAccessor, allBindings, data, context) {\\n            var stringified = ko.observable(ko.unwrap(valueAccessor()));\\n            stringified.subscribe(function(value) {\\n                var val = parseFloat(value);\\n                if (!isNaN(val)) {\\n                    valueAccessor()(val);\\n                }\\n            });\\n            valueAccessor().subscribe(function(value) {\\n                var str = JSON.stringify(value);\\n                if ((str == \\\"0\\\") && ([\\\"-0\\\", \\\"-0.\\\"].indexOf(stringified()) >= 0))\\n                     return;\\n                 if ([\\\"null\\\", \\\"\\\"].indexOf(str) >= 0)\\n                     return;\\n                stringified(str);\\n            });\\n            ko.applyBindingsToNode(\\n                element,\\n                {\\n                    value: stringified,\\n                    valueUpdate: allBindings.get('valueUpdate'),\\n                },\\n                context,\\n            );\\n        }\\n    };\\n    var json_data = {\\\"formatted_vals\\\":[\\\"1\\\",\\\"2\\\",\\\"3\\\",\\\"4\\\"],\\\"changes\\\":WebIO.getval({\\\"name\\\":\\\"changes\\\",\\\"scope\\\":\\\"12598521052191129842\\\",\\\"id\\\":\\\"13247058572826997135\\\",\\\"type\\\":\\\"observable\\\"}),\\\"index\\\":WebIO.getval({\\\"name\\\":\\\"index\\\",\\\"scope\\\":\\\"12598521052191129842\\\",\\\"id\\\":\\\"16408192323489538202\\\",\\\"type\\\":\\\"observable\\\"})};\\n    var self = this;\\n    function AppViewModel() {\\n        for (var key in json_data) {\\n            var el = json_data[key];\\n            this[key] = Array.isArray(el) ? ko.observableArray(el) : ko.observable(el);\\n        }\\n        \\n        [this[\\\"formatted_val\\\"]=ko.computed(    function(){\\n        return this.formatted_vals()[parseInt(this.index())-(1)];\\n    }\\n,this)]\\n        [this[\\\"changes\\\"].subscribe((function (val){!(this.valueFromJulia[\\\"changes\\\"]) ? (WebIO.setval({\\\"name\\\":\\\"changes\\\",\\\"scope\\\":\\\"12598521052191129842\\\",\\\"id\\\":\\\"13247058572826997135\\\",\\\"type\\\":\\\"observable\\\"},val)) : undefined; return this.valueFromJulia[\\\"changes\\\"]=false}),self),this[\\\"index\\\"].subscribe((function (val){!(this.valueFromJulia[\\\"index\\\"]) ? (WebIO.setval({\\\"name\\\":\\\"index\\\",\\\"scope\\\":\\\"12598521052191129842\\\",\\\"id\\\":\\\"16408192323489538202\\\",\\\"type\\\":\\\"observable\\\"},val)) : undefined; return this.valueFromJulia[\\\"index\\\"]=false}),self)]\\n        \\n    }\\n    self.model = new AppViewModel();\\n    self.valueFromJulia = {};\\n    for (var key in json_data) {\\n        self.valueFromJulia[key] = false;\\n    }\\n    ko.applyBindings(self.model, self.dom);\\n}\\n);\\n    (WebIO.importBlock({\\\"data\\\":[{\\\"name\\\":\\\"knockout\\\",\\\"type\\\":\\\"js\\\",\\\"url\\\":\\\"\\/assetserver\\/7adbe83fac1553325d6e718d595ab555e1cabbe4-knockout.js\\\"},{\\\"name\\\":\\\"knockout_punches\\\",\\\"type\\\":\\\"js\\\",\\\"url\\\":\\\"\\/assetserver\\/cec8c4de011abc05b545afbaaea4bb4465a1f168-knockout_punches.js\\\"}],\\\"type\\\":\\\"async_block\\\"})).then((imports) => handler.apply(this, imports));\\n}\\n\"],\"observables\":{\"changes\":{\"sync\":false,\"id\":\"13247058572826997135\",\"value\":0},\"index\":{\"sync\":true,\"id\":\"16408192323489538202\",\"value\":2}}},\"children\":[{\"props\":{\"className\":\"interact-flex-row interact-widget\"},\"nodeType\":\"DOM\",\"type\":\"node\",\"instanceArgs\":{\"namespace\":\"html\",\"tag\":\"div\"},\"children\":[{\"props\":{\"className\":\"interact-flex-row-left\"},\"nodeType\":\"DOM\",\"type\":\"node\",\"instanceArgs\":{\"namespace\":\"html\",\"tag\":\"div\"},\"children\":[{\"props\":{\"className\":\"interact \",\"style\":{\"padding\":\"5px 10px 0px 10px\"}},\"nodeType\":\"DOM\",\"type\":\"node\",\"instanceArgs\":{\"namespace\":\"html\",\"tag\":\"label\"},\"children\":[\"qtr\"]}]},{\"props\":{\"className\":\"interact-flex-row-center\"},\"nodeType\":\"DOM\",\"type\":\"node\",\"instanceArgs\":{\"namespace\":\"html\",\"tag\":\"div\"},\"children\":[{\"props\":{\"max\":4,\"min\":1,\"attributes\":{\"type\":\"range\",\"data-bind\":\"numericValue: index, valueUpdate: 'input', event: {change: function (){this.changes(this.changes()+1)}}\",\"orient\":\"horizontal\"},\"step\":1,\"className\":\"slider slider is-fullwidth\",\"style\":{}},\"nodeType\":\"DOM\",\"type\":\"node\",\"instanceArgs\":{\"namespace\":\"html\",\"tag\":\"input\"},\"children\":[]}]},{\"props\":{\"className\":\"interact-flex-row-right\"},\"nodeType\":\"DOM\",\"type\":\"node\",\"instanceArgs\":{\"namespace\":\"html\",\"tag\":\"div\"},\"children\":[{\"props\":{\"attributes\":{\"data-bind\":\"text: formatted_val\"}},\"nodeType\":\"DOM\",\"type\":\"node\",\"instanceArgs\":{\"namespace\":\"html\",\"tag\":\"p\"},\"children\":[]}]}]}]}]},{\"props\":{},\"nodeType\":\"Scope\",\"type\":\"node\",\"instanceArgs\":{\"imports\":{\"data\":[],\"type\":\"async_block\"},\"id\":\"15468039509089990972\",\"handlers\":{},\"systemjs_options\":null,\"mount_callbacks\":[],\"observables\":{\"obs-node\":{\"sync\":false,\"id\":\"16249139874664220326\",\"value\":{\"props\":{\"className\":\"interact-flex-row interact-widget\"},\"nodeType\":\"DOM\",\"type\":\"node\",\"instanceArgs\":{\"namespace\":\"html\",\"tag\":\"div\"},\"children\":[{\"props\":{\"setInnerHtml\":\"<div class=\\\"data-frame\\\"><p>120 rows × 7 columns<\\/p><table class=\\\"data-frame\\\"><thead><tr><th><\\/th><th>Org<\\/th><th>FY<\\/th><th>Qtr<\\/th><th>Accounts<\\/th><th>Dept<\\/th><th>Loc<\\/th><th>TOTAL<\\/th><\\/tr><tr><th><\\/th><th title=\\\"String\\\">String<\\/th><th title=\\\"Int64\\\">Int64<\\/th><th title=\\\"Int64\\\">Int64<\\/th><th title=\\\"String\\\">String<\\/th><th title=\\\"String\\\">String<\\/th><th title=\\\"String\\\">String<\\/th><th title=\\\"String\\\">String<\\/th><\\/tr><\\/thead><tbody><tr><th>1<\\/th><td>Region B<\\/td><td>2021<\\/td><td>2<\\/td><td>NON-OPERATING_EXPENSES<\\/td><td>IT<\\/td><td>San Francisco<\\/td><td>USD 4098.45 million<\\/td><\\/tr><tr><th>2<\\/th><td>Region B<\\/td><td>2021<\\/td><td>2<\\/td><td>OPERATING_EXPENSES<\\/td><td>OTHERS<\\/td><td>Philadelphia<\\/td><td>USD 3240.95 million<\\/td><\\/tr><tr><th>3<\\/th><td>Region B<\\/td><td>2021<\\/td><td>2<\\/td><td>OPERATING_EXPENSES<\\/td><td>SALES<\\/td><td>Boston<\\/td><td>USD 3734.55 million<\\/td><\\/tr><tr><th>4<\\/th><td>Region B<\\/td><td>2021<\\/td><td>2<\\/td><td>NON-OPERATING_EXPENSES<\\/td><td>IT<\\/td><td>Atlanta<\\/td><td>USD 4193.49 million<\\/td><\\/tr><tr><th>5<\\/th><td>Region B<\\/td><td>2021<\\/td><td>2<\\/td><td>NON-OPERATING_EXPENSES<\\/td><td>SALES<\\/td><td>Philadelphia<\\/td><td>USD 3618.04 million<\\/td><\\/tr><tr><th>6<\\/th><td>Region B<\\/td><td>2021<\\/td><td>2<\\/td><td>NON-OPERATING_EXPENSES<\\/td><td>BUSINESS<\\/td><td>Richmond<\\/td><td>USD 3192.46 million<\\/td><\\/tr><tr><th>7<\\/th><td>Region B<\\/td><td>2021<\\/td><td>2<\\/td><td>OPERATING_EXPENSES<\\/td><td>BUSINESS<\\/td><td>Atlanta<\\/td><td>USD 4143.11 million<\\/td><\\/tr><tr><th>8<\\/th><td>Region B<\\/td><td>2021<\\/td><td>2<\\/td><td>NON-OPERATING_EXPENSES<\\/td><td>BUSINESS<\\/td><td>Chicago<\\/td><td>USD 3963.0 million<\\/td><\\/tr><tr><th>9<\\/th><td>Region B<\\/td><td>2021<\\/td><td>2<\\/td><td>NON-OPERATING_EXPENSES<\\/td><td>SALES<\\/td><td>Dallas<\\/td><td>USD 4416.59 million<\\/td><\\/tr><tr><th>10<\\/th><td>Region B<\\/td><td>2021<\\/td><td>2<\\/td><td>OPERATING_EXPENSES<\\/td><td>BUSINESS<\\/td><td>Cleveland<\\/td><td>USD 3474.11 million<\\/td><\\/tr><tr><th>11<\\/th><td>Region B<\\/td><td>2021<\\/td><td>2<\\/td><td>NON-OPERATING_EXPENSES<\\/td><td>OTHERS<\\/td><td>Kansas City<\\/td><td>USD 3356.74 million<\\/td><\\/tr><tr><th>12<\\/th><td>Region B<\\/td><td>2021<\\/td><td>2<\\/td><td>NON-OPERATING_EXPENSES<\\/td><td>SALES<\\/td><td>Richmond<\\/td><td>USD 3591.01 million<\\/td><\\/tr><tr><th>13<\\/th><td>Region B<\\/td><td>2021<\\/td><td>2<\\/td><td>OPERATING_EXPENSES<\\/td><td>IT<\\/td><td>San Francisco<\\/td><td>USD 3240.61 million<\\/td><\\/tr><tr><th>14<\\/th><td>Region B<\\/td><td>2021<\\/td><td>2<\\/td><td>OPERATING_EXPENSES<\\/td><td>HR<\\/td><td>Atlanta<\\/td><td>USD 3766.31 million<\\/td><\\/tr><tr><th>15<\\/th><td>Region B<\\/td><td>2021<\\/td><td>2<\\/td><td>NON-OPERATING_EXPENSES<\\/td><td>OTHERS<\\/td><td>Boston<\\/td><td>USD 4688.84 million<\\/td><\\/tr><tr><th>16<\\/th><td>Region B<\\/td><td>2021<\\/td><td>2<\\/td><td>NON-OPERATING_EXPENSES<\\/td><td>SALES<\\/td><td>Chicago<\\/td><td>USD 4404.04 million<\\/td><\\/tr><tr><th>17<\\/th><td>Region B<\\/td><td>2021<\\/td><td>2<\\/td><td>OPERATING_EXPENSES<\\/td><td>BUSINESS<\\/td><td>Kansas City<\\/td><td>USD 3840.14 million<\\/td><\\/tr><tr><th>18<\\/th><td>Region B<\\/td><td>2021<\\/td><td>2<\\/td><td>OPERATING_EXPENSES<\\/td><td>IT<\\/td><td>Kansas City<\\/td><td>USD 3355.3 million<\\/td><\\/tr><tr><th>19<\\/th><td>Region B<\\/td><td>2021<\\/td><td>2<\\/td><td>OPERATING_EXPENSES<\\/td><td>OTHERS<\\/td><td>St. Louis<\\/td><td>USD 5139.69 million<\\/td><\\/tr><tr><th>20<\\/th><td>Region B<\\/td><td>2021<\\/td><td>2<\\/td><td>OPERATING_EXPENSES<\\/td><td>SALES<\\/td><td>Philadelphia<\\/td><td>USD 3656.95 million<\\/td><\\/tr><tr><th>21<\\/th><td>Region B<\\/td><td>2021<\\/td><td>2<\\/td><td>NON-OPERATING_EXPENSES<\\/td><td>HR<\\/td><td>Chicago<\\/td><td>USD 3165.89 million<\\/td><\\/tr><tr><th>22<\\/th><td>Region B<\\/td><td>2021<\\/td><td>2<\\/td><td>OPERATING_EXPENSES<\\/td><td>OTHERS<\\/td><td>Chicago<\\/td><td>USD 4933.75 million<\\/td><\\/tr><tr><th>23<\\/th><td>Region B<\\/td><td>2021<\\/td><td>2<\\/td><td>NON-OPERATING_EXPENSES<\\/td><td>HR<\\/td><td>Minneapolis<\\/td><td>USD 3559.91 million<\\/td><\\/tr><tr><th>24<\\/th><td>Region B<\\/td><td>2021<\\/td><td>2<\\/td><td>NON-OPERATING_EXPENSES<\\/td><td>OTHERS<\\/td><td>Dallas<\\/td><td>USD 4380.7 million<\\/td><\\/tr><tr><th>25<\\/th><td>Region B<\\/td><td>2021<\\/td><td>2<\\/td><td>NON-OPERATING_EXPENSES<\\/td><td>OTHERS<\\/td><td>Atlanta<\\/td><td>USD 3031.31 million<\\/td><\\/tr><tr><th>26<\\/th><td>Region B<\\/td><td>2021<\\/td><td>2<\\/td><td>OPERATING_EXPENSES<\\/td><td>SALES<\\/td><td>Kansas City<\\/td><td>USD 3904.91 million<\\/td><\\/tr><tr><th>27<\\/th><td>Region B<\\/td><td>2021<\\/td><td>2<\\/td><td>NON-OPERATING_EXPENSES<\\/td><td>SALES<\\/td><td>St. Louis<\\/td><td>USD 4446.03 million<\\/td><\\/tr><tr><th>28<\\/th><td>Region B<\\/td><td>2021<\\/td><td>2<\\/td><td>OPERATING_EXPENSES<\\/td><td>OTHERS<\\/td><td>Minneapolis<\\/td><td>USD 3189.43 million<\\/td><\\/tr><tr><th>29<\\/th><td>Region B<\\/td><td>2021<\\/td><td>2<\\/td><td>NON-OPERATING_EXPENSES<\\/td><td>HR<\\/td><td>San Francisco<\\/td><td>USD 4562.48 million<\\/td><\\/tr><tr><th>30<\\/th><td>Region B<\\/td><td>2021<\\/td><td>2<\\/td><td>NON-OPERATING_EXPENSES<\\/td><td>IT<\\/td><td>Cleveland<\\/td><td>USD 3821.77 million<\\/td><\\/tr><tr><th>31<\\/th><td>Region B<\\/td><td>2021<\\/td><td>2<\\/td><td>OPERATING_EXPENSES<\\/td><td>BUSINESS<\\/td><td>St. Louis<\\/td><td>USD 3782.8 million<\\/td><\\/tr><tr><th>32<\\/th><td>Region B<\\/td><td>2021<\\/td><td>2<\\/td><td>OPERATING_EXPENSES<\\/td><td>OTHERS<\\/td><td>New York<\\/td><td>USD 3924.49 million<\\/td><\\/tr><tr><th>33<\\/th><td>Region B<\\/td><td>2021<\\/td><td>2<\\/td><td>NON-OPERATING_EXPENSES<\\/td><td>BUSINESS<\\/td><td>Cleveland<\\/td><td>USD 5229.43 million<\\/td><\\/tr><tr><th>34<\\/th><td>Region B<\\/td><td>2021<\\/td><td>2<\\/td><td>NON-OPERATING_EXPENSES<\\/td><td>OTHERS<\\/td><td>Cleveland<\\/td><td>USD 4697.11 million<\\/td><\\/tr><tr><th>35<\\/th><td>Region B<\\/td><td>2021<\\/td><td>2<\\/td><td>OPERATING_EXPENSES<\\/td><td>BUSINESS<\\/td><td>Chicago<\\/td><td>USD 3353.08 million<\\/td><\\/tr><tr><th>36<\\/th><td>Region B<\\/td><td>2021<\\/td><td>2<\\/td><td>OPERATING_EXPENSES<\\/td><td>OTHERS<\\/td><td>Dallas<\\/td><td>USD 4196.53 million<\\/td><\\/tr><tr><th>37<\\/th><td>Region B<\\/td><td>2021<\\/td><td>2<\\/td><td>OPERATING_EXPENSES<\\/td><td>HR<\\/td><td>Kansas City<\\/td><td>USD 3371.96 million<\\/td><\\/tr><tr><th>38<\\/th><td>Region B<\\/td><td>2021<\\/td><td>2<\\/td><td>NON-OPERATING_EXPENSES<\\/td><td>IT<\\/td><td>St. Louis<\\/td><td>USD 4229.76 million<\\/td><\\/tr><tr><th>39<\\/th><td>Region B<\\/td><td>2021<\\/td><td>2<\\/td><td>NON-OPERATING_EXPENSES<\\/td><td>HR<\\/td><td>Boston<\\/td><td>USD 4194.8 million<\\/td><\\/tr><tr><th>40<\\/th><td>Region B<\\/td><td>2021<\\/td><td>2<\\/td><td>NON-OPERATING_EXPENSES<\\/td><td>OTHERS<\\/td><td>New York<\\/td><td>USD 4134.68 million<\\/td><\\/tr><tr><th>41<\\/th><td>Region B<\\/td><td>2021<\\/td><td>2<\\/td><td>NON-OPERATING_EXPENSES<\\/td><td>OTHERS<\\/td><td>San Francisco<\\/td><td>USD 3652.64 million<\\/td><\\/tr><tr><th>42<\\/th><td>Region B<\\/td><td>2021<\\/td><td>2<\\/td><td>NON-OPERATING_EXPENSES<\\/td><td>BUSINESS<\\/td><td>Dallas<\\/td><td>USD 4433.52 million<\\/td><\\/tr><tr><th>43<\\/th><td>Region B<\\/td><td>2021<\\/td><td>2<\\/td><td>OPERATING_EXPENSES<\\/td><td>HR<\\/td><td>St. Louis<\\/td><td>USD 2940.35 million<\\/td><\\/tr><tr><th>44<\\/th><td>Region B<\\/td><td>2021<\\/td><td>2<\\/td><td>OPERATING_EXPENSES<\\/td><td>BUSINESS<\\/td><td>Richmond<\\/td><td>USD 3208.9 million<\\/td><\\/tr><tr><th>45<\\/th><td>Region B<\\/td><td>2021<\\/td><td>2<\\/td><td>OPERATING_EXPENSES<\\/td><td>HR<\\/td><td>Minneapolis<\\/td><td>USD 4088.17 million<\\/td><\\/tr><tr><th>46<\\/th><td>Region B<\\/td><td>2021<\\/td><td>2<\\/td><td>OPERATING_EXPENSES<\\/td><td>BUSINESS<\\/td><td>Minneapolis<\\/td><td>USD 3509.06 million<\\/td><\\/tr><tr><th>47<\\/th><td>Region B<\\/td><td>2021<\\/td><td>2<\\/td><td>NON-OPERATING_EXPENSES<\\/td><td>OTHERS<\\/td><td>Chicago<\\/td><td>USD 3174.83 million<\\/td><\\/tr><tr><th>48<\\/th><td>Region B<\\/td><td>2021<\\/td><td>2<\\/td><td>OPERATING_EXPENSES<\\/td><td>IT<\\/td><td>St. Louis<\\/td><td>USD 3753.62 million<\\/td><\\/tr><tr><th>49<\\/th><td>Region B<\\/td><td>2021<\\/td><td>2<\\/td><td>NON-OPERATING_EXPENSES<\\/td><td>HR<\\/td><td>Cleveland<\\/td><td>USD 4906.33 million<\\/td><\\/tr><tr><th>50<\\/th><td>Region B<\\/td><td>2021<\\/td><td>2<\\/td><td>OPERATING_EXPENSES<\\/td><td>HR<\\/td><td>Chicago<\\/td><td>USD 3402.68 million<\\/td><\\/tr><tr><th>51<\\/th><td>Region B<\\/td><td>2021<\\/td><td>2<\\/td><td>OPERATING_EXPENSES<\\/td><td>OTHERS<\\/td><td>Kansas City<\\/td><td>USD 5084.04 million<\\/td><\\/tr><tr><th>52<\\/th><td>Region B<\\/td><td>2021<\\/td><td>2<\\/td><td>NON-OPERATING_EXPENSES<\\/td><td>SALES<\\/td><td>Boston<\\/td><td>USD 3873.67 million<\\/td><\\/tr><tr><th>53<\\/th><td>Region B<\\/td><td>2021<\\/td><td>2<\\/td><td>OPERATING_EXPENSES<\\/td><td>HR<\\/td><td>Philadelphia<\\/td><td>USD 4052.49 million<\\/td><\\/tr><tr><th>54<\\/th><td>Region B<\\/td><td>2021<\\/td><td>2<\\/td><td>NON-OPERATING_EXPENSES<\\/td><td>BUSINESS<\\/td><td>St. Louis<\\/td><td>USD 4156.68 million<\\/td><\\/tr><tr><th>55<\\/th><td>Region B<\\/td><td>2021<\\/td><td>2<\\/td><td>NON-OPERATING_EXPENSES<\\/td><td>BUSINESS<\\/td><td>Boston<\\/td><td>USD 2852.89 million<\\/td><\\/tr><tr><th>56<\\/th><td>Region B<\\/td><td>2021<\\/td><td>2<\\/td><td>OPERATING_EXPENSES<\\/td><td>IT<\\/td><td>Boston<\\/td><td>USD 4182.93 million<\\/td><\\/tr><tr><th>57<\\/th><td>Region B<\\/td><td>2021<\\/td><td>2<\\/td><td>NON-OPERATING_EXPENSES<\\/td><td>IT<\\/td><td>Dallas<\\/td><td>USD 3785.25 million<\\/td><\\/tr><tr><th>58<\\/th><td>Region B<\\/td><td>2021<\\/td><td>2<\\/td><td>NON-OPERATING_EXPENSES<\\/td><td>BUSINESS<\\/td><td>Philadelphia<\\/td><td>USD 3786.29 million<\\/td><\\/tr><tr><th>59<\\/th><td>Region B<\\/td><td>2021<\\/td><td>2<\\/td><td>NON-OPERATING_EXPENSES<\\/td><td>SALES<\\/td><td>Kansas City<\\/td><td>USD 4299.75 million<\\/td><\\/tr><tr><th>60<\\/th><td>Region B<\\/td><td>2021<\\/td><td>2<\\/td><td>NON-OPERATING_EXPENSES<\\/td><td>IT<\\/td><td>Richmond<\\/td><td>USD 3872.1 million<\\/td><\\/tr><tr><th>61<\\/th><td>Region B<\\/td><td>2021<\\/td><td>2<\\/td><td>NON-OPERATING_EXPENSES<\\/td><td>SALES<\\/td><td>Atlanta<\\/td><td>USD 4327.87 million<\\/td><\\/tr><tr><th>62<\\/th><td>Region B<\\/td><td>2021<\\/td><td>2<\\/td><td>NON-OPERATING_EXPENSES<\\/td><td>IT<\\/td><td>Boston<\\/td><td>USD 4085.18 million<\\/td><\\/tr><tr><th>63<\\/th><td>Region B<\\/td><td>2021<\\/td><td>2<\\/td><td>NON-OPERATING_EXPENSES<\\/td><td>OTHERS<\\/td><td>Philadelphia<\\/td><td>USD 3549.56 million<\\/td><\\/tr><tr><th>64<\\/th><td>Region B<\\/td><td>2021<\\/td><td>2<\\/td><td>OPERATING_EXPENSES<\\/td><td>OTHERS<\\/td><td>Richmond<\\/td><td>USD 4196.52 million<\\/td><\\/tr><tr><th>65<\\/th><td>Region B<\\/td><td>2021<\\/td><td>2<\\/td><td>OPERATING_EXPENSES<\\/td><td>SALES<\\/td><td>San Francisco<\\/td><td>USD 3952.66 million<\\/td><\\/tr><tr><th>66<\\/th><td>Region B<\\/td><td>2021<\\/td><td>2<\\/td><td>NON-OPERATING_EXPENSES<\\/td><td>IT<\\/td><td>Minneapolis<\\/td><td>USD 4103.66 million<\\/td><\\/tr><tr><th>67<\\/th><td>Region B<\\/td><td>2021<\\/td><td>2<\\/td><td>OPERATING_EXPENSES<\\/td><td>BUSINESS<\\/td><td>Philadelphia<\\/td><td>USD 3931.35 million<\\/td><\\/tr><tr><th>68<\\/th><td>Region B<\\/td><td>2021<\\/td><td>2<\\/td><td>NON-OPERATING_EXPENSES<\\/td><td>HR<\\/td><td>Dallas<\\/td><td>USD 3940.19 million<\\/td><\\/tr><tr><th>69<\\/th><td>Region B<\\/td><td>2021<\\/td><td>2<\\/td><td>NON-OPERATING_EXPENSES<\\/td><td>BUSINESS<\\/td><td>San Francisco<\\/td><td>USD 3968.44 million<\\/td><\\/tr><tr><th>70<\\/th><td>Region B<\\/td><td>2021<\\/td><td>2<\\/td><td>NON-OPERATING_EXPENSES<\\/td><td>SALES<\\/td><td>New York<\\/td><td>USD 3646.47 million<\\/td><\\/tr><tr><th>71<\\/th><td>Region B<\\/td><td>2021<\\/td><td>2<\\/td><td>NON-OPERATING_EXPENSES<\\/td><td>HR<\\/td><td>Philadelphia<\\/td><td>USD 4291.44 million<\\/td><\\/tr><tr><th>72<\\/th><td>Region B<\\/td><td>2021<\\/td><td>2<\\/td><td>OPERATING_EXPENSES<\\/td><td>BUSINESS<\\/td><td>Boston<\\/td><td>USD 3640.12 million<\\/td><\\/tr><tr><th>73<\\/th><td>Region B<\\/td><td>2021<\\/td><td>2<\\/td><td>NON-OPERATING_EXPENSES<\\/td><td>OTHERS<\\/td><td>Richmond<\\/td><td>USD 4087.34 million<\\/td><\\/tr><tr><th>74<\\/th><td>Region B<\\/td><td>2021<\\/td><td>2<\\/td><td>NON-OPERATING_EXPENSES<\\/td><td>BUSINESS<\\/td><td>New York<\\/td><td>USD 3435.19 million<\\/td><\\/tr><tr><th>75<\\/th><td>Region B<\\/td><td>2021<\\/td><td>2<\\/td><td>OPERATING_EXPENSES<\\/td><td>OTHERS<\\/td><td>Cleveland<\\/td><td>USD 3904.54 million<\\/td><\\/tr><tr><th>76<\\/th><td>Region B<\\/td><td>2021<\\/td><td>2<\\/td><td>NON-OPERATING_EXPENSES<\\/td><td>OTHERS<\\/td><td>Minneapolis<\\/td><td>USD 3202.41 million<\\/td><\\/tr><tr><th>77<\\/th><td>Region B<\\/td><td>2021<\\/td><td>2<\\/td><td>NON-OPERATING_EXPENSES<\\/td><td>IT<\\/td><td>Philadelphia<\\/td><td>USD 4750.94 million<\\/td><\\/tr><tr><th>78<\\/th><td>Region B<\\/td><td>2021<\\/td><td>2<\\/td><td>OPERATING_EXPENSES<\\/td><td>SALES<\\/td><td>Cleveland<\\/td><td>USD 3913.3 million<\\/td><\\/tr><tr><th>79<\\/th><td>Region B<\\/td><td>2021<\\/td><td>2<\\/td><td>OPERATING_EXPENSES<\\/td><td>BUSINESS<\\/td><td>New York<\\/td><td>USD 3859.61 million<\\/td><\\/tr><tr><th>80<\\/th><td>Region B<\\/td><td>2021<\\/td><td>2<\\/td><td>NON-OPERATING_EXPENSES<\\/td><td>SALES<\\/td><td>San Francisco<\\/td><td>USD 3354.34 million<\\/td><\\/tr><tr><th>81<\\/th><td>Region B<\\/td><td>2021<\\/td><td>2<\\/td><td>OPERATING_EXPENSES<\\/td><td>IT<\\/td><td>Richmond<\\/td><td>USD 3910.95 million<\\/td><\\/tr><tr><th>82<\\/th><td>Region B<\\/td><td>2021<\\/td><td>2<\\/td><td>OPERATING_EXPENSES<\\/td><td>IT<\\/td><td>Dallas<\\/td><td>USD 3638.51 million<\\/td><\\/tr><tr><th>83<\\/th><td>Region B<\\/td><td>2021<\\/td><td>2<\\/td><td>NON-OPERATING_EXPENSES<\\/td><td>IT<\\/td><td>New York<\\/td><td>USD 3756.12 million<\\/td><\\/tr><tr><th>84<\\/th><td>Region B<\\/td><td>2021<\\/td><td>2<\\/td><td>OPERATING_EXPENSES<\\/td><td>IT<\\/td><td>New York<\\/td><td>USD 3754.5 million<\\/td><\\/tr><tr><th>85<\\/th><td>Region B<\\/td><td>2021<\\/td><td>2<\\/td><td>OPERATING_EXPENSES<\\/td><td>SALES<\\/td><td>Chicago<\\/td><td>USD 3874.19 million<\\/td><\\/tr><tr><th>86<\\/th><td>Region B<\\/td><td>2021<\\/td><td>2<\\/td><td>OPERATING_EXPENSES<\\/td><td>HR<\\/td><td>Boston<\\/td><td>USD 3864.05 million<\\/td><\\/tr><tr><th>87<\\/th><td>Region B<\\/td><td>2021<\\/td><td>2<\\/td><td>OPERATING_EXPENSES<\\/td><td>HR<\\/td><td>Dallas<\\/td><td>USD 3840.72 million<\\/td><\\/tr><tr><th>88<\\/th><td>Region B<\\/td><td>2021<\\/td><td>2<\\/td><td>NON-OPERATING_EXPENSES<\\/td><td>IT<\\/td><td>Kansas City<\\/td><td>USD 4006.44 million<\\/td><\\/tr><tr><th>89<\\/th><td>Region B<\\/td><td>2021<\\/td><td>2<\\/td><td>OPERATING_EXPENSES<\\/td><td>BUSINESS<\\/td><td>Dallas<\\/td><td>USD 3458.77 million<\\/td><\\/tr><tr><th>90<\\/th><td>Region B<\\/td><td>2021<\\/td><td>2<\\/td><td>OPERATING_EXPENSES<\\/td><td>IT<\\/td><td>Minneapolis<\\/td><td>USD 4582.68 million<\\/td><\\/tr><tr><th>91<\\/th><td>Region B<\\/td><td>2021<\\/td><td>2<\\/td><td>OPERATING_EXPENSES<\\/td><td>HR<\\/td><td>Cleveland<\\/td><td>USD 3614.93 million<\\/td><\\/tr><tr><th>92<\\/th><td>Region B<\\/td><td>2021<\\/td><td>2<\\/td><td>OPERATING_EXPENSES<\\/td><td>OTHERS<\\/td><td>Atlanta<\\/td><td>USD 3828.67 million<\\/td><\\/tr><tr><th>93<\\/th><td>Region B<\\/td><td>2021<\\/td><td>2<\\/td><td>OPERATING_EXPENSES<\\/td><td>BUSINESS<\\/td><td>San Francisco<\\/td><td>USD 3644.08 million<\\/td><\\/tr><tr><th>94<\\/th><td>Region B<\\/td><td>2021<\\/td><td>2<\\/td><td>NON-OPERATING_EXPENSES<\\/td><td>OTHERS<\\/td><td>St. Louis<\\/td><td>USD 3616.26 million<\\/td><\\/tr><tr><th>95<\\/th><td>Region B<\\/td><td>2021<\\/td><td>2<\\/td><td>OPERATING_EXPENSES<\\/td><td>HR<\\/td><td>New York<\\/td><td>USD 4176.41 million<\\/td><\\/tr><tr><th>96<\\/th><td>Region B<\\/td><td>2021<\\/td><td>2<\\/td><td>OPERATING_EXPENSES<\\/td><td>SALES<\\/td><td>St. Louis<\\/td><td>USD 3355.44 million<\\/td><\\/tr><tr><th>97<\\/th><td>Region B<\\/td><td>2021<\\/td><td>2<\\/td><td>OPERATING_EXPENSES<\\/td><td>SALES<\\/td><td>New York<\\/td><td>USD 3358.87 million<\\/td><\\/tr><tr><th>98<\\/th><td>Region B<\\/td><td>2021<\\/td><td>2<\\/td><td>NON-OPERATING_EXPENSES<\\/td><td>HR<\\/td><td>St. Louis<\\/td><td>USD 4208.25 million<\\/td><\\/tr><tr><th>99<\\/th><td>Region B<\\/td><td>2021<\\/td><td>2<\\/td><td>OPERATING_EXPENSES<\\/td><td>IT<\\/td><td>Atlanta<\\/td><td>USD 4744.26 million<\\/td><\\/tr><tr><th>100<\\/th><td>Region B<\\/td><td>2021<\\/td><td>2<\\/td><td>OPERATING_EXPENSES<\\/td><td>SALES<\\/td><td>Richmond<\\/td><td>USD 3400.41 million<\\/td><\\/tr><tr><th>101<\\/th><td>Region B<\\/td><td>2021<\\/td><td>2<\\/td><td>OPERATING_EXPENSES<\\/td><td>IT<\\/td><td>Cleveland<\\/td><td>USD 3533.37 million<\\/td><\\/tr><tr><th>102<\\/th><td>Region B<\\/td><td>2021<\\/td><td>2<\\/td><td>NON-OPERATING_EXPENSES<\\/td><td>SALES<\\/td><td>Minneapolis<\\/td><td>USD 3847.42 million<\\/td><\\/tr><tr><th>103<\\/th><td>Region B<\\/td><td>2021<\\/td><td>2<\\/td><td>NON-OPERATING_EXPENSES<\\/td><td>IT<\\/td><td>Chicago<\\/td><td>USD 3302.56 million<\\/td><\\/tr><tr><th>104<\\/th><td>Region B<\\/td><td>2021<\\/td><td>2<\\/td><td>OPERATING_EXPENSES<\\/td><td>OTHERS<\\/td><td>Boston<\\/td><td>USD 3400.47 million<\\/td><\\/tr><tr><th>105<\\/th><td>Region B<\\/td><td>2021<\\/td><td>2<\\/td><td>NON-OPERATING_EXPENSES<\\/td><td>HR<\\/td><td>New York<\\/td><td>USD 3341.5 million<\\/td><\\/tr><tr><th>106<\\/th><td>Region B<\\/td><td>2021<\\/td><td>2<\\/td><td>NON-OPERATING_EXPENSES<\\/td><td>HR<\\/td><td>Richmond<\\/td><td>USD 3762.4 million<\\/td><\\/tr><tr><th>107<\\/th><td>Region B<\\/td><td>2021<\\/td><td>2<\\/td><td>NON-OPERATING_EXPENSES<\\/td><td>BUSINESS<\\/td><td>Minneapolis<\\/td><td>USD 3918.28 million<\\/td><\\/tr><tr><th>108<\\/th><td>Region B<\\/td><td>2021<\\/td><td>2<\\/td><td>NON-OPERATING_EXPENSES<\\/td><td>HR<\\/td><td>Kansas City<\\/td><td>USD 3928.57 million<\\/td><\\/tr><tr><th>109<\\/th><td>Region B<\\/td><td>2021<\\/td><td>2<\\/td><td>NON-OPERATING_EXPENSES<\\/td><td>BUSINESS<\\/td><td>Kansas City<\\/td><td>USD 4498.11 million<\\/td><\\/tr><tr><th>110<\\/th><td>Region B<\\/td><td>2021<\\/td><td>2<\\/td><td>OPERATING_EXPENSES<\\/td><td>IT<\\/td><td>Chicago<\\/td><td>USD 4065.66 million<\\/td><\\/tr><tr><th>111<\\/th><td>Region B<\\/td><td>2021<\\/td><td>2<\\/td><td>OPERATING_EXPENSES<\\/td><td>IT<\\/td><td>Philadelphia<\\/td><td>USD 3674.19 million<\\/td><\\/tr><tr><th>112<\\/th><td>Region B<\\/td><td>2021<\\/td><td>2<\\/td><td>OPERATING_EXPENSES<\\/td><td>HR<\\/td><td>San Francisco<\\/td><td>USD 3337.98 million<\\/td><\\/tr><tr><th>113<\\/th><td>Region B<\\/td><td>2021<\\/td><td>2<\\/td><td>OPERATING_EXPENSES<\\/td><td>HR<\\/td><td>Richmond<\\/td><td>USD 3776.64 million<\\/td><\\/tr><tr><th>114<\\/th><td>Region B<\\/td><td>2021<\\/td><td>2<\\/td><td>NON-OPERATING_EXPENSES<\\/td><td>BUSINESS<\\/td><td>Atlanta<\\/td><td>USD 4508.29 million<\\/td><\\/tr><tr><th>115<\\/th><td>Region B<\\/td><td>2021<\\/td><td>2<\\/td><td>OPERATING_EXPENSES<\\/td><td>SALES<\\/td><td>Atlanta<\\/td><td>USD 3592.17 million<\\/td><\\/tr><tr><th>116<\\/th><td>Region B<\\/td><td>2021<\\/td><td>2<\\/td><td>OPERATING_EXPENSES<\\/td><td>OTHERS<\\/td><td>San Francisco<\\/td><td>USD 3089.01 million<\\/td><\\/tr><tr><th>117<\\/th><td>Region B<\\/td><td>2021<\\/td><td>2<\\/td><td>NON-OPERATING_EXPENSES<\\/td><td>HR<\\/td><td>Atlanta<\\/td><td>USD 3858.73 million<\\/td><\\/tr><tr><th>118<\\/th><td>Region B<\\/td><td>2021<\\/td><td>2<\\/td><td>OPERATING_EXPENSES<\\/td><td>SALES<\\/td><td>Minneapolis<\\/td><td>USD 4179.07 million<\\/td><\\/tr><tr><th>119<\\/th><td>Region B<\\/td><td>2021<\\/td><td>2<\\/td><td>OPERATING_EXPENSES<\\/td><td>SALES<\\/td><td>Dallas<\\/td><td>USD 3356.67 million<\\/td><\\/tr><tr><th>120<\\/th><td>Region B<\\/td><td>2021<\\/td><td>2<\\/td><td>NON-OPERATING_EXPENSES<\\/td><td>SALES<\\/td><td>Cleveland<\\/td><td>USD 4432.2 million<\\/td><\\/tr><\\/tbody><\\/table><\\/div>\"},\"nodeType\":\"DOM\",\"type\":\"node\",\"instanceArgs\":{\"namespace\":\"html\",\"tag\":\"div\"},\"children\":[]}]}}}},\"children\":[{\"props\":{},\"nodeType\":\"ObservableNode\",\"type\":\"node\",\"instanceArgs\":{\"id\":\"16249139874664220326\",\"name\":\"obs-node\"},\"children\":[]}]}]},\n",
       "        window,\n",
       "    );\n",
       "    })()\n",
       "    </script>\n",
       "</div>\n"
      ],
      "text/plain": [
       "Node{WebIO.DOM}(WebIO.DOM(:html, :div), Any[Node{WebIO.DOM}(WebIO.DOM(:html, :div), Any[Scope(Node{WebIO.DOM}(WebIO.DOM(:html, :div), Any[Node{WebIO.DOM}(WebIO.DOM(:html, :div), Any[Node{WebIO.DOM}(WebIO.DOM(:html, :label), Any[\"ld\"], Dict{Symbol, Any}(:className => \"interact \", :style => Dict{Any, Any}(:padding => \"5px 10px 0px 10px\")))], Dict{Symbol, Any}(:className => \"interact-flex-row-left\")), Node{WebIO.DOM}(WebIO.DOM(:html, :div), Any[Node{WebIO.DOM}(WebIO.DOM(:html, :div), Any[Node{WebIO.DOM}(WebIO.DOM(:html, :span), Any[Node{WebIO.DOM}(WebIO.DOM(:html, :label), Any[], Dict{Symbol, Any}(:attributes => Dict(\"data-bind\" => \"text : key\")))], Dict{Symbol, Any}(:attributes => Dict(\"data-bind\" => \"click: function (){\\$root.update(val)}, css: {'is-primary is-selected' : \\$root.index() == val, 'interact-widget is-medium button ' : true}\")))], Dict{Symbol, Any}(:attributes => (\"data-bind\" => \"foreach : options_js\"), :className => \"buttons has-addons is-centered\"))], Dict{Symbol, Any}(:className => \"interact-flex-row-center\")), Node{WebIO.DOM}(WebIO.DOM(:html, :div), Any[Node{WebIO.DOM}(WebIO.DOM(:html, :div), Any[], Dict{Symbol, Any}())], Dict{Symbol, Any}(:className => \"interact-flex-row-right\"))], Dict{Symbol, Any}(:className => \"interact-flex-row interact-widget\")), Dict{String, Tuple{Observables.AbstractObservable, Union{Nothing, Bool}}}(\"options_js\" => (Observable{Vector{OrderedDict}} with 1 listeners. Value:\n",
       "OrderedDict[OrderedDict{String, Any}(\"key\" => \"Actuals\", \"val\" => 1, \"id\" => \"idJjPv91r9\"), OrderedDict{String, Any}(\"key\" => \"Budget\", \"val\" => 2, \"id\" => \"iddxFNAGDn\")], nothing), \"index\" => (Observable{Any} with 2 listeners. Value:\n",
       "1, nothing)), Set{String}(), nothing, Asset[Asset(\"js\", \"knockout\", \"/home/ubuntu/.julia/packages/Knockout/3gjS1/src/../assets/knockout.js\"), Asset(\"js\", \"knockout_punches\", \"/home/ubuntu/.julia/packages/Knockout/3gjS1/src/../assets/knockout_punches.js\"), Asset(\"js\", nothing, \"/home/ubuntu/.julia/packages/InteractBase/h8Fwe/src/../assets/all.js\"), Asset(\"css\", nothing, \"/home/ubuntu/.julia/packages/InteractBase/h8Fwe/src/../assets/style.css\"), Asset(\"css\", nothing, \"/home/ubuntu/.julia/packages/Interact/pVyN2/src/../assets/bulma_confined.min.css\")], Dict{Any, Any}(\"options_js\" => Any[WebIO.JSString(\"(function (val){return (val!=this.model[\\\"options_js\\\"]()) ? (this.valueFromJulia[\\\"options_js\\\"]=true, this.model[\\\"options_js\\\"](val)) : undefined})\")], \"index\" => Any[WebIO.JSString(\"(function (val){return (val!=this.model[\\\"index\\\"]()) ? (this.valueFromJulia[\\\"index\\\"]=true, this.model[\\\"index\\\"](val)) : undefined})\")]), WebIO.ConnectionPool(Channel{Any}(32), Set{AbstractConnection}(), Condition(Base.InvasiveLinkedList{Task}(Task (runnable) @0x00007f6d57acc180, Task (runnable) @0x00007f6d57acc180), Base.AlwaysLockedST(1))), WebIO.JSString[WebIO.JSString(\"function () {\\n    var handler = (function (ko, koPunches) {\\n    ko.punches.enableAll();\\n    ko.bindingHandlers.numericValue = {\\n        init: function(element, valueAccessor, allBindings, data, context) {\\n            var stringified = ko.observable(ko.unwrap(valueAccessor()));\\n            stringified.subscribe(function(value) {\\n                var val = parseFloat(value);\\n                if (!isNaN(val)) {\\n                    valueAccessor()(val);\\n                }\\n            });\\n            valueAccessor().subscribe(function(value) {\\n                var str = JSON.stringify(value);\\n                if ((str == \\\"0\\\") && ([\\\"-0\\\", \\\"-0.\\\"].indexOf(stringified()) >= 0))\\n                     return;\\n                 if ([\\\"null\\\", \\\"\\\"].indexOf(str) >= 0)\\n                     return;\\n                stringified(str);\\n            });\\n            ko.applyBindingsToNode(\\n                element,\\n                {\\n                    value: stringified,\\n                    valueUpdate: allBindings.get('valueUpdate'),\\n                },\\n                context,\\n            );\\n        }\\n    };\\n    var json_data = {\\\"options_js\\\":WebIO.getval({\\\"name\\\":\\\"options_js\\\",\\\"scope\\\":\\\"2261378954612424764\\\",\\\"id\\\":\\\"2544271647740361144\\\",\\\"type\\\":\\\"observable\\\"}),\\\"index\\\":WebIO.getval({\\\"name\\\":\\\"index\\\",\\\"scope\\\":\\\"2261378954612424764\\\",\\\"id\\\":\\\"12385331690821543038\\\",\\\"type\\\":\\\"observable\\\"})};\\n    var self = this;\\n    function AppViewModel() {\\n        for (var key in json_data) {\\n            var el = json_data[key];\\n            this[key] = Array.isArray(el) ? ko.observableArray(el) : ko.observable(el);\\n        }\\n        [this[\\\"update\\\"]=function (val) {this.index(val)}]\\n        \\n        [this[\\\"options_js\\\"].subscribe((function (val){!(this.valueFromJulia[\\\"options_js\\\"]) ? (WebIO.setval({\\\"name\\\":\\\"options_js\\\",\\\"scope\\\":\\\"2261378954612424764\\\",\\\"id\\\":\\\"2544271647740361144\\\",\\\"type\\\":\\\"observable\\\"},val)) : undefined; return this.valueFromJulia[\\\"options_js\\\"]=false}),self),this[\\\"index\\\"].subscribe((function (val){!(this.valueFromJulia[\\\"index\\\"]) ? (WebIO.setval({\\\"name\\\":\\\"index\\\",\\\"scope\\\":\\\"2261378954612424764\\\",\\\"id\\\":\\\"12385331690821543038\\\",\\\"type\\\":\\\"observable\\\"},val)) : undefined; return this.valueFromJulia[\\\"index\\\"]=false}),self)]\\n        \\n    }\\n    self.model = new AppViewModel();\\n    self.valueFromJulia = {};\\n    for (var key in json_data) {\\n        self.valueFromJulia[key] = false;\\n    }\\n    ko.applyBindings(self.model, self.dom);\\n}\\n);\\n    (WebIO.importBlock({\\\"data\\\":[{\\\"name\\\":\\\"knockout\\\",\\\"type\\\":\\\"js\\\",\\\"url\\\":\\\"/assetserver/7adbe83fac1553325d6e718d595ab555e1cabbe4-knockout.js\\\"},{\\\"name\\\":\\\"knockout_punches\\\",\\\"type\\\":\\\"js\\\",\\\"url\\\":\\\"/assetserver/cec8c4de011abc05b545afbaaea4bb4465a1f168-knockout_punches.js\\\"}],\\\"type\\\":\\\"async_block\\\"})).then((imports) => handler.apply(this, imports));\\n}\\n\")])], Dict{Symbol, Any}(:className => \"interact-widget\")), Node{WebIO.DOM}(WebIO.DOM(:html, :div), Any[Scope(Node{WebIO.DOM}(WebIO.DOM(:html, :div), Any[Node{WebIO.DOM}(WebIO.DOM(:html, :div), Any[Node{WebIO.DOM}(WebIO.DOM(:html, :label), Any[\"rg\"], Dict{Symbol, Any}(:className => \"interact \", :style => Dict{Any, Any}(:padding => \"5px 10px 0px 10px\")))], Dict{Symbol, Any}(:className => \"interact-flex-row-left\")), Node{WebIO.DOM}(WebIO.DOM(:html, :div), Any[Node{WebIO.DOM}(WebIO.DOM(:html, :div), Any[Node{WebIO.DOM}(WebIO.DOM(:html, :span), Any[Node{WebIO.DOM}(WebIO.DOM(:html, :label), Any[], Dict{Symbol, Any}(:attributes => Dict(\"data-bind\" => \"text : key\")))], Dict{Symbol, Any}(:attributes => Dict(\"data-bind\" => \"click: function (){\\$root.update(val)}, css: {'is-primary is-selected' : \\$root.index() == val, 'interact-widget is-medium button ' : true}\")))], Dict{Symbol, Any}(:attributes => (\"data-bind\" => \"foreach : options_js\"), :className => \"buttons has-addons is-centered\"))], Dict{Symbol, Any}(:className => \"interact-flex-row-center\")), Node{WebIO.DOM}(WebIO.DOM(:html, :div), Any[Node{WebIO.DOM}(WebIO.DOM(:html, :div), Any[], Dict{Symbol, Any}())], Dict{Symbol, Any}(:className => \"interact-flex-row-right\"))], Dict{Symbol, Any}(:className => \"interact-flex-row interact-widget\")), Dict{String, Tuple{Observables.AbstractObservable, Union{Nothing, Bool}}}(\"options_js\" => (Observable{Vector{OrderedDict}} with 1 listeners. Value:\n",
       "OrderedDict[OrderedDict{String, Any}(\"key\" => \"Region B\", \"val\" => 1, \"id\" => \"idR4fSXhN8\"), OrderedDict{String, Any}(\"key\" => \"Region C\", \"val\" => 2, \"id\" => \"idVryIOYba\"), OrderedDict{String, Any}(\"key\" => \"Region A\", \"val\" => 3, \"id\" => \"idp2k6oJKx\")], nothing), \"index\" => (Observable{Any} with 2 listeners. Value:\n",
       "1, nothing)), Set{String}(), nothing, Asset[Asset(\"js\", \"knockout\", \"/home/ubuntu/.julia/packages/Knockout/3gjS1/src/../assets/knockout.js\"), Asset(\"js\", \"knockout_punches\", \"/home/ubuntu/.julia/packages/Knockout/3gjS1/src/../assets/knockout_punches.js\"), Asset(\"js\", nothing, \"/home/ubuntu/.julia/packages/InteractBase/h8Fwe/src/../assets/all.js\"), Asset(\"css\", nothing, \"/home/ubuntu/.julia/packages/InteractBase/h8Fwe/src/../assets/style.css\"), Asset(\"css\", nothing, \"/home/ubuntu/.julia/packages/Interact/pVyN2/src/../assets/bulma_confined.min.css\")], Dict{Any, Any}(\"options_js\" => Any[WebIO.JSString(\"(function (val){return (val!=this.model[\\\"options_js\\\"]()) ? (this.valueFromJulia[\\\"options_js\\\"]=true, this.model[\\\"options_js\\\"](val)) : undefined})\")], \"index\" => Any[WebIO.JSString(\"(function (val){return (val!=this.model[\\\"index\\\"]()) ? (this.valueFromJulia[\\\"index\\\"]=true, this.model[\\\"index\\\"](val)) : undefined})\")]), WebIO.ConnectionPool(Channel{Any}(32), Set{AbstractConnection}(), Condition(Base.InvasiveLinkedList{Task}(Task (runnable) @0x00007f6d57acc460, Task (runnable) @0x00007f6d57acc460), Base.AlwaysLockedST(1))), WebIO.JSString[WebIO.JSString(\"function () {\\n    var handler = (function (ko, koPunches) {\\n    ko.punches.enableAll();\\n    ko.bindingHandlers.numericValue = {\\n        init: function(element, valueAccessor, allBindings, data, context) {\\n            var stringified = ko.observable(ko.unwrap(valueAccessor()));\\n            stringified.subscribe(function(value) {\\n                var val = parseFloat(value);\\n                if (!isNaN(val)) {\\n                    valueAccessor()(val);\\n                }\\n            });\\n            valueAccessor().subscribe(function(value) {\\n                var str = JSON.stringify(value);\\n                if ((str == \\\"0\\\") && ([\\\"-0\\\", \\\"-0.\\\"].indexOf(stringified()) >= 0))\\n                     return;\\n                 if ([\\\"null\\\", \\\"\\\"].indexOf(str) >= 0)\\n                     return;\\n                stringified(str);\\n            });\\n            ko.applyBindingsToNode(\\n                element,\\n                {\\n                    value: stringified,\\n                    valueUpdate: allBindings.get('valueUpdate'),\\n                },\\n                context,\\n            );\\n        }\\n    };\\n    var json_data = {\\\"options_js\\\":WebIO.getval({\\\"name\\\":\\\"options_js\\\",\\\"scope\\\":\\\"4919382983103673781\\\",\\\"id\\\":\\\"6136292950278674771\\\",\\\"type\\\":\\\"observable\\\"}),\\\"index\\\":WebIO.getval({\\\"name\\\":\\\"index\\\",\\\"scope\\\":\\\"4919382983103673781\\\",\\\"id\\\":\\\"5807017233678098585\\\",\\\"type\\\":\\\"observable\\\"})};\\n    var self = this;\\n    function AppViewModel() {\\n        for (var key in json_data) {\\n            var el = json_data[key];\\n            this[key] = Array.isArray(el) ? ko.observableArray(el) : ko.observable(el);\\n        }\\n        [this[\\\"update\\\"]=function (val) {this.index(val)}]\\n        \\n        [this[\\\"options_js\\\"].subscribe((function (val){!(this.valueFromJulia[\\\"options_js\\\"]) ? (WebIO.setval({\\\"name\\\":\\\"options_js\\\",\\\"scope\\\":\\\"4919382983103673781\\\",\\\"id\\\":\\\"6136292950278674771\\\",\\\"type\\\":\\\"observable\\\"},val)) : undefined; return this.valueFromJulia[\\\"options_js\\\"]=false}),self),this[\\\"index\\\"].subscribe((function (val){!(this.valueFromJulia[\\\"index\\\"]) ? (WebIO.setval({\\\"name\\\":\\\"index\\\",\\\"scope\\\":\\\"4919382983103673781\\\",\\\"id\\\":\\\"5807017233678098585\\\",\\\"type\\\":\\\"observable\\\"},val)) : undefined; return this.valueFromJulia[\\\"index\\\"]=false}),self)]\\n        \\n    }\\n    self.model = new AppViewModel();\\n    self.valueFromJulia = {};\\n    for (var key in json_data) {\\n        self.valueFromJulia[key] = false;\\n    }\\n    ko.applyBindings(self.model, self.dom);\\n}\\n);\\n    (WebIO.importBlock({\\\"data\\\":[{\\\"name\\\":\\\"knockout\\\",\\\"type\\\":\\\"js\\\",\\\"url\\\":\\\"/assetserver/7adbe83fac1553325d6e718d595ab555e1cabbe4-knockout.js\\\"},{\\\"name\\\":\\\"knockout_punches\\\",\\\"type\\\":\\\"js\\\",\\\"url\\\":\\\"/assetserver/cec8c4de011abc05b545afbaaea4bb4465a1f168-knockout_punches.js\\\"}],\\\"type\\\":\\\"async_block\\\"})).then((imports) => handler.apply(this, imports));\\n}\\n\")])], Dict{Symbol, Any}(:className => \"interact-widget\")), Node{WebIO.DOM}(WebIO.DOM(:html, :div), Any[Scope(Node{WebIO.DOM}(WebIO.DOM(:html, :div), Any[Node{WebIO.DOM}(WebIO.DOM(:html, :div), Any[Node{WebIO.DOM}(WebIO.DOM(:html, :label), Any[nothing], Dict{Symbol, Any}(:className => \"interact \", :style => Dict{Any, Any}(:padding => \"5px 10px 0px 10px\")))], Dict{Symbol, Any}(:className => \"interact-flex-row-left\")), Node{WebIO.DOM}(WebIO.DOM(:html, :div), Any[Node{WebIO.DOM}(WebIO.DOM(:html, :input), Any[], Dict{Symbol, Any}(:max => 3, :min => 1, :attributes => Dict{Any, Any}(:type => \"range\", Symbol(\"data-bind\") => \"numericValue: index, valueUpdate: 'input', event: {change: function (){this.changes(this.changes()+1)}}\", \"orient\" => \"horizontal\"), :step => 1, :className => \"slider slider is-fullwidth\", :style => Dict{Any, Any}()))], Dict{Symbol, Any}(:className => \"interact-flex-row-center\")), Node{WebIO.DOM}(WebIO.DOM(:html, :div), Any[Node{WebIO.DOM}(WebIO.DOM(:html, :p), Any[], Dict{Symbol, Any}(:attributes => Dict(\"data-bind\" => \"text: formatted_val\")))], Dict{Symbol, Any}(:className => \"interact-flex-row-right\"))], Dict{Symbol, Any}(:className => \"interact-flex-row interact-widget\")), Dict{String, Tuple{Observables.AbstractObservable, Union{Nothing, Bool}}}(\"changes\" => (Observable{Int64} with 1 listeners. Value:\n",
       "0, nothing), \"index\" => (Observable{Any} with 2 listeners. Value:\n",
       "2, nothing)), Set{String}(), nothing, Asset[Asset(\"js\", \"knockout\", \"/home/ubuntu/.julia/packages/Knockout/3gjS1/src/../assets/knockout.js\"), Asset(\"js\", \"knockout_punches\", \"/home/ubuntu/.julia/packages/Knockout/3gjS1/src/../assets/knockout_punches.js\"), Asset(\"js\", nothing, \"/home/ubuntu/.julia/packages/InteractBase/h8Fwe/src/../assets/all.js\"), Asset(\"css\", nothing, \"/home/ubuntu/.julia/packages/InteractBase/h8Fwe/src/../assets/style.css\"), Asset(\"css\", nothing, \"/home/ubuntu/.julia/packages/Interact/pVyN2/src/../assets/bulma_confined.min.css\")], Dict{Any, Any}(\"changes\" => Any[WebIO.JSString(\"(function (val){return (val!=this.model[\\\"changes\\\"]()) ? (this.valueFromJulia[\\\"changes\\\"]=true, this.model[\\\"changes\\\"](val)) : undefined})\")], \"index\" => Any[WebIO.JSString(\"(function (val){return (val!=this.model[\\\"index\\\"]()) ? (this.valueFromJulia[\\\"index\\\"]=true, this.model[\\\"index\\\"](val)) : undefined})\")]), WebIO.ConnectionPool(Channel{Any}(32), Set{AbstractConnection}(), Condition(Base.InvasiveLinkedList{Task}(Task (runnable) @0x00007f6d57acc8b0, Task (runnable) @0x00007f6d57acc8b0), Base.AlwaysLockedST(1))), WebIO.JSString[WebIO.JSString(\"function () {\\n    var handler = (function (ko, koPunches) {\\n    ko.punches.enableAll();\\n    ko.bindingHandlers.numericValue = {\\n        init: function(element, valueAccessor, allBindings, data, context) {\\n            var stringified = ko.observable(ko.unwrap(valueAccessor()));\\n            stringified.subscribe(function(value) {\\n                var val = parseFloat(value);\\n                if (!isNaN(val)) {\\n                    valueAccessor()(val);\\n                }\\n            });\\n            valueAccessor().subscribe(function(value) {\\n                var str = JSON.stringify(value);\\n                if ((str == \\\"0\\\") && ([\\\"-0\\\", \\\"-0.\\\"].indexOf(stringified()) >= 0))\\n                     return;\\n                 if ([\\\"null\\\", \\\"\\\"].indexOf(str) >= 0)\\n                     return;\\n                stringified(str);\\n            });\\n            ko.applyBindingsToNode(\\n                element,\\n                {\\n                    value: stringified,\\n                    valueUpdate: allBindings.get('valueUpdate'),\\n                },\\n                context,\\n            );\\n        }\\n    };\\n    var json_data = {\\\"formatted_vals\\\":[\\\"2020\\\",\\\"2021\\\",\\\"2022\\\"],\\\"changes\\\":WebIO.getval({\\\"name\\\":\\\"changes\\\",\\\"scope\\\":\\\"16792730420982269183\\\",\\\"id\\\":\\\"12427234278684348703\\\",\\\"type\\\":\\\"observable\\\"}),\\\"index\\\":WebIO.getval({\\\"name\\\":\\\"index\\\",\\\"scope\\\":\\\"16792730420982269183\\\",\\\"id\\\":\\\"8490942467846750800\\\",\\\"type\\\":\\\"observable\\\"})};\\n    var self = this;\\n    function AppViewModel() {\\n        for (var key in json_data) {\\n            var el = json_data[key];\\n            this[key] = Array.isArray(el) ? ko.observableArray(el) : ko.observable(el);\\n        }\\n        \\n        [this[\\\"formatted_val\\\"]=ko.computed(    function(){\\n        return this.formatted_vals()[parseInt(this.index())-(1)];\\n    }\\n,this)]\\n        [this[\\\"changes\\\"].subscribe((function (val){!(this.valueFromJulia[\\\"changes\\\"]) ? (WebIO.setval({\\\"name\\\":\\\"changes\\\",\\\"scope\\\":\\\"16792730420982269183\\\",\\\"id\\\":\\\"12427234278684348703\\\",\\\"type\\\":\\\"observable\\\"},val)) : undefined; return this.valueFromJulia[\\\"changes\\\"]=false}),self),this[\\\"index\\\"].subscribe((function (val){!(this.valueFromJulia[\\\"index\\\"]) ? (WebIO.setval({\\\"name\\\":\\\"index\\\",\\\"scope\\\":\\\"16792730420982269183\\\",\\\"id\\\":\\\"8490942467846750800\\\",\\\"type\\\":\\\"observable\\\"},val)) : undefined; return this.valueFromJulia[\\\"index\\\"]=false}),self)]\\n        \\n    }\\n    self.model = new AppViewModel();\\n    self.valueFromJulia = {};\\n    for (var key in json_data) {\\n        self.valueFromJulia[key] = false;\\n    }\\n    ko.applyBindings(self.model, self.dom);\\n}\\n);\\n    (WebIO.importBlock({\\\"data\\\":[{\\\"name\\\":\\\"knockout\\\",\\\"type\\\":\\\"js\\\",\\\"url\\\":\\\"/assetserver/7adbe83fac1553325d6e718d595ab555e1cabbe4-knockout.js\\\"},{\\\"name\\\":\\\"knockout_punches\\\",\\\"type\\\":\\\"js\\\",\\\"url\\\":\\\"/assetserver/cec8c4de011abc05b545afbaaea4bb4465a1f168-knockout_punches.js\\\"}],\\\"type\\\":\\\"async_block\\\"})).then((imports) => handler.apply(this, imports));\\n}\\n\")])], Dict{Symbol, Any}(:className => \"field interact-widget\")), Node{WebIO.DOM}(WebIO.DOM(:html, :div), Any[Scope(Node{WebIO.DOM}(WebIO.DOM(:html, :div), Any[Node{WebIO.DOM}(WebIO.DOM(:html, :div), Any[Node{WebIO.DOM}(WebIO.DOM(:html, :label), Any[\"qtr\"], Dict{Symbol, Any}(:className => \"interact \", :style => Dict{Any, Any}(:padding => \"5px 10px 0px 10px\")))], Dict{Symbol, Any}(:className => \"interact-flex-row-left\")), Node{WebIO.DOM}(WebIO.DOM(:html, :div), Any[Node{WebIO.DOM}(WebIO.DOM(:html, :input), Any[], Dict{Symbol, Any}(:max => 4, :min => 1, :attributes => Dict{Any, Any}(:type => \"range\", Symbol(\"data-bind\") => \"numericValue: index, valueUpdate: 'input', event: {change: function (){this.changes(this.changes()+1)}}\", \"orient\" => \"horizontal\"), :step => 1, :className => \"slider slider is-fullwidth\", :style => Dict{Any, Any}()))], Dict{Symbol, Any}(:className => \"interact-flex-row-center\")), Node{WebIO.DOM}(WebIO.DOM(:html, :div), Any[Node{WebIO.DOM}(WebIO.DOM(:html, :p), Any[], Dict{Symbol, Any}(:attributes => Dict(\"data-bind\" => \"text: formatted_val\")))], Dict{Symbol, Any}(:className => \"interact-flex-row-right\"))], Dict{Symbol, Any}(:className => \"interact-flex-row interact-widget\")), Dict{String, Tuple{Observables.AbstractObservable, Union{Nothing, Bool}}}(\"changes\" => (Observable{Int64} with 1 listeners. Value:\n",
       "0, nothing), \"index\" => (Observable{Any} with 2 listeners. Value:\n",
       "2, nothing)), Set{String}(), nothing, Asset[Asset(\"js\", \"knockout\", \"/home/ubuntu/.julia/packages/Knockout/3gjS1/src/../assets/knockout.js\"), Asset(\"js\", \"knockout_punches\", \"/home/ubuntu/.julia/packages/Knockout/3gjS1/src/../assets/knockout_punches.js\"), Asset(\"js\", nothing, \"/home/ubuntu/.julia/packages/InteractBase/h8Fwe/src/../assets/all.js\"), Asset(\"css\", nothing, \"/home/ubuntu/.julia/packages/InteractBase/h8Fwe/src/../assets/style.css\"), Asset(\"css\", nothing, \"/home/ubuntu/.julia/packages/Interact/pVyN2/src/../assets/bulma_confined.min.css\")], Dict{Any, Any}(\"changes\" => Any[WebIO.JSString(\"(function (val){return (val!=this.model[\\\"changes\\\"]()) ? (this.valueFromJulia[\\\"changes\\\"]=true, this.model[\\\"changes\\\"](val)) : undefined})\")], \"index\" => Any[WebIO.JSString(\"(function (val){return (val!=this.model[\\\"index\\\"]()) ? (this.valueFromJulia[\\\"index\\\"]=true, this.model[\\\"index\\\"](val)) : undefined})\")]), WebIO.ConnectionPool(Channel{Any}(32), Set{AbstractConnection}(), Condition(Base.InvasiveLinkedList{Task}(Task (runnable) @0x00007f6d57accd00, Task (runnable) @0x00007f6d57accd00), Base.AlwaysLockedST(1))), WebIO.JSString[WebIO.JSString(\"function () {\\n    var handler = (function (ko, koPunches) {\\n    ko.punches.enableAll();\\n    ko.bindingHandlers.numericValue = {\\n        init: function(element, valueAccessor, allBindings, data, context) {\\n            var stringified = ko.observable(ko.unwrap(valueAccessor()));\\n            stringified.subscribe(function(value) {\\n                var val = parseFloat(value);\\n                if (!isNaN(val)) {\\n                    valueAccessor()(val);\\n                }\\n            });\\n            valueAccessor().subscribe(function(value) {\\n                var str = JSON.stringify(value);\\n                if ((str == \\\"0\\\") && ([\\\"-0\\\", \\\"-0.\\\"].indexOf(stringified()) >= 0))\\n                     return;\\n                 if ([\\\"null\\\", \\\"\\\"].indexOf(str) >= 0)\\n                     return;\\n                stringified(str);\\n            });\\n            ko.applyBindingsToNode(\\n                element,\\n                {\\n                    value: stringified,\\n                    valueUpdate: allBindings.get('valueUpdate'),\\n                },\\n                context,\\n            );\\n        }\\n    };\\n    var json_data = {\\\"formatted_vals\\\":[\\\"1\\\",\\\"2\\\",\\\"3\\\",\\\"4\\\"],\\\"changes\\\":WebIO.getval({\\\"name\\\":\\\"changes\\\",\\\"scope\\\":\\\"12598521052191129842\\\",\\\"id\\\":\\\"13247058572826997135\\\",\\\"type\\\":\\\"observable\\\"}),\\\"index\\\":WebIO.getval({\\\"name\\\":\\\"index\\\",\\\"scope\\\":\\\"12598521052191129842\\\",\\\"id\\\":\\\"16408192323489538202\\\",\\\"type\\\":\\\"observable\\\"})};\\n    var self = this;\\n    function AppViewModel() {\\n        for (var key in json_data) {\\n            var el = json_data[key];\\n            this[key] = Array.isArray(el) ? ko.observableArray(el) : ko.observable(el);\\n        }\\n        \\n        [this[\\\"formatted_val\\\"]=ko.computed(    function(){\\n        return this.formatted_vals()[parseInt(this.index())-(1)];\\n    }\\n,this)]\\n        [this[\\\"changes\\\"].subscribe((function (val){!(this.valueFromJulia[\\\"changes\\\"]) ? (WebIO.setval({\\\"name\\\":\\\"changes\\\",\\\"scope\\\":\\\"12598521052191129842\\\",\\\"id\\\":\\\"13247058572826997135\\\",\\\"type\\\":\\\"observable\\\"},val)) : undefined; return this.valueFromJulia[\\\"changes\\\"]=false}),self),this[\\\"index\\\"].subscribe((function (val){!(this.valueFromJulia[\\\"index\\\"]) ? (WebIO.setval({\\\"name\\\":\\\"index\\\",\\\"scope\\\":\\\"12598521052191129842\\\",\\\"id\\\":\\\"16408192323489538202\\\",\\\"type\\\":\\\"observable\\\"},val)) : undefined; return this.valueFromJulia[\\\"index\\\"]=false}),self)]\\n        \\n    }\\n    self.model = new AppViewModel();\\n    self.valueFromJulia = {};\\n    for (var key in json_data) {\\n        self.valueFromJulia[key] = false;\\n    }\\n    ko.applyBindings(self.model, self.dom);\\n}\\n);\\n    (WebIO.importBlock({\\\"data\\\":[{\\\"name\\\":\\\"knockout\\\",\\\"type\\\":\\\"js\\\",\\\"url\\\":\\\"/assetserver/7adbe83fac1553325d6e718d595ab555e1cabbe4-knockout.js\\\"},{\\\"name\\\":\\\"knockout_punches\\\",\\\"type\\\":\\\"js\\\",\\\"url\\\":\\\"/assetserver/cec8c4de011abc05b545afbaaea4bb4465a1f168-knockout_punches.js\\\"}],\\\"type\\\":\\\"async_block\\\"})).then((imports) => handler.apply(this, imports));\\n}\\n\")])], Dict{Symbol, Any}(:className => \"field interact-widget\")), Observable{Node{WebIO.DOM}} with 0 listeners. Value:\n",
       "Node{WebIO.DOM}(WebIO.DOM(:html, :div), Any[\u001b[1m120×7 DataFrame\u001b[0m\n",
       "\u001b[1m Row \u001b[0m│\u001b[1m Org      \u001b[0m\u001b[1m FY    \u001b[0m\u001b[1m Qtr   \u001b[0m\u001b[1m Accounts               \u001b[0m\u001b[1m Dept     \u001b[0m\u001b[1m Loc          \u001b[0m ⋯\n",
       "\u001b[1m     \u001b[0m│\u001b[90m String   \u001b[0m\u001b[90m Int64 \u001b[0m\u001b[90m Int64 \u001b[0m\u001b[90m String                 \u001b[0m\u001b[90m String   \u001b[0m\u001b[90m String       \u001b[0m ⋯\n",
       "─────┼──────────────────────────────────────────────────────────────────────────\n",
       "   1 │ Region B   2021      2  NON-OPERATING_EXPENSES  IT        San Francisco ⋯\n",
       "   2 │ Region B   2021      2  OPERATING_EXPENSES      OTHERS    Philadelphia\n",
       "   3 │ Region B   2021      2  OPERATING_EXPENSES      SALES     Boston\n",
       "   4 │ Region B   2021      2  NON-OPERATING_EXPENSES  IT        Atlanta\n",
       "   5 │ Region B   2021      2  NON-OPERATING_EXPENSES  SALES     Philadelphia  ⋯\n",
       "   6 │ Region B   2021      2  NON-OPERATING_EXPENSES  BUSINESS  Richmond\n",
       "   7 │ Region B   2021      2  OPERATING_EXPENSES      BUSINESS  Atlanta\n",
       "   8 │ Region B   2021      2  NON-OPERATING_EXPENSES  BUSINESS  Chicago\n",
       "   9 │ Region B   2021      2  NON-OPERATING_EXPENSES  SALES     Dallas        ⋯\n",
       "  10 │ Region B   2021      2  OPERATING_EXPENSES      BUSINESS  Cleveland\n",
       "  11 │ Region B   2021      2  NON-OPERATING_EXPENSES  OTHERS    Kansas City\n",
       "  ⋮  │    ⋮        ⋮      ⋮              ⋮                ⋮            ⋮       ⋱\n",
       " 111 │ Region B   2021      2  OPERATING_EXPENSES      IT        Philadelphia\n",
       " 112 │ Region B   2021      2  OPERATING_EXPENSES      HR        San Francisco ⋯\n",
       " 113 │ Region B   2021      2  OPERATING_EXPENSES      HR        Richmond\n",
       " 114 │ Region B   2021      2  NON-OPERATING_EXPENSES  BUSINESS  Atlanta\n",
       " 115 │ Region B   2021      2  OPERATING_EXPENSES      SALES     Atlanta\n",
       " 116 │ Region B   2021      2  OPERATING_EXPENSES      OTHERS    San Francisco ⋯\n",
       " 117 │ Region B   2021      2  NON-OPERATING_EXPENSES  HR        Atlanta\n",
       " 118 │ Region B   2021      2  OPERATING_EXPENSES      SALES     Minneapolis\n",
       " 119 │ Region B   2021      2  OPERATING_EXPENSES      SALES     Dallas\n",
       " 120 │ Region B   2021      2  NON-OPERATING_EXPENSES  SALES     Cleveland     ⋯\n",
       "\u001b[36m                                                    1 column and 99 rows omitted\u001b[0m], Dict{Symbol, Any}(:className => \"interact-flex-row interact-widget\"))], Dict{Symbol, Any}())"
      ]
     },
     "execution_count": 75,
     "metadata": {
      "application/vnd.webio.node+json": {
       "kernelId": "e2edb929-a595-4295-908e-4c215e475d45"
      }
     },
     "output_type": "execute_result"
    }
   ],
   "source": [
    "@manipulate for ld = Dict(\"Actuals\"=> \"Actuals\", \"Budget\" => \"Budget\"), \n",
    "                rg = Dict(\"Region A\"=> \"Region A\", \"Region B\" => \"Region B\", \"Region C\" => \"Region C\"),\n",
    "                yr = slider(2020:1:2022; value=2021),\n",
    "                qtr = 1:1:4\n",
    "    \n",
    "    @show ld, rg, yr, qtr\n",
    "    \n",
    "select(gdf_plot[(\n",
    "    (gdf_plot.FISCAL_YEAR .== yr)\n",
    "    .&\n",
    "    (gdf_plot.QTR .== qtr)\n",
    "    .&\n",
    "    (gdf_plot.LEDGER .== ld)\n",
    "    .&\n",
    "    (gdf_plot.OPER_UNIT .== rg)\n",
    "    .&\n",
    "    (in.(gdf_plot.ACCOUNTS_CLASSIFICATION, Ref([\"NON-OPERATING_EXPENSES\",\"OPERATING_EXPENSES\"])))\n",
    "    ),:],\n",
    "        :OPER_UNIT => :Org,\n",
    "        :FISCAL_YEAR => :FY,\n",
    "        :QTR => :Qtr,\n",
    "        :ACCOUNTS_CLASSIFICATION => :Accounts,\n",
    "        :DEPT_CLASSIFICATION => :Dept,\n",
    "        # :LOCATION_CLASSIFICATION => :Region,\n",
    "        :LOCATION_DESCR => :Loc,\n",
    "        :TOTAL => :TOTAL)\n",
    "end"
   ]
  },
  {
   "cell_type": "markdown",
   "metadata": {},
   "source": [
    "click here to continue - Part 2 - General Ledger Data Analysis & Visualization"
   ]
  }
 ],
 "metadata": {
  "@webio": {
   "lastCommId": "78d309fb3db347dea093401a948b119c",
   "lastKernelId": "0e3c1b87-1dad-4e36-93a4-17c2e9eeaa80"
  },
  "kernelspec": {
   "display_name": "Julia (4 threads) 1.7.0",
   "language": "julia",
   "name": "julia-(4-threads)-1.7"
  },
  "language_info": {
   "file_extension": ".jl",
   "mimetype": "application/julia",
   "name": "julia",
   "version": "1.7.0"
  },
  "toc": {
   "base_numbering": 1,
   "nav_menu": {},
   "number_sections": true,
   "sideBar": true,
   "skip_h1_title": false,
   "title_cell": "Table of Contents",
   "title_sidebar": "Contents",
   "toc_cell": false,
   "toc_position": {},
   "toc_section_display": true,
   "toc_window_display": false
  }
 },
 "nbformat": 4,
 "nbformat_minor": 2
}
