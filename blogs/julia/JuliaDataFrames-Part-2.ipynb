{
 "cells": [
  {
   "cell_type": "markdown",
   "metadata": {},
   "source": [
    "# ML4GL Machine Learning for General Ledger using Julia Language"
   ]
  },
  {
   "cell_type": "markdown",
   "metadata": {},
   "source": [
    "This is **Part - 2** of 3 ERP Data analysis notebooks.\n",
    "- Part 1 - General Ledger, Data Science Basics\n",
    "- Part 2 - General Ledger Data Analysis & Visualization\n",
    "- Part 3 - P2P (Procure to Pay) Data Analysis & Visualization\n",
    "\n",
    "**Related blogs:**\n",
    "    \n",
    "- [Web-scrapping, Web automation using Julia Language](https://amit-shukla.medium.com/web-scrapping-web-automation-using-julia-language-2c473db84fbc)\n",
    "- Working with ODBC, ORM, XML, JSON, PDF, TXT, CSV, XLS\n",
    "- Working with PDF documents, Image Scanner, OCR Reader\n",
    "\n",
    "**Target Audience:** This notebook, is meant for ERP consultants, IT Developers, Finance, Supply chain, HR & CRM managers, executive leaders or anyone curious to implement data science concepts in ERP space.\n",
    "\n",
    "+ **Author:** Amit Shukla\n",
    "+ **Contact:** info@elishconsulting.com\n",
    "\n",
    "In part 1 of 3 series notebooks, we covered basics of ERP Data Finance model and learned basics of DataFrames.jl package to perform ERP Data Analysis.\n",
    "\n",
    "In this part 2 notebook, we will continue to analyze Finance data, in this notebook, we will cover Visualization, what-if analysis and Machine learning, Statistical modeling to predict organization Financial growth in terms of Finance statements (Balance Sheet, Income and Cash Flow statements.\n",
    "\n",
    "## adding Packages"
   ]
  },
  {
   "cell_type": "code",
   "execution_count": 80,
   "metadata": {},
   "outputs": [
    {
     "name": "stdout",
     "output_type": "stream",
     "text": [
      "\u001b[32m\u001b[1m      Status\u001b[22m\u001b[39m `~/.julia/environments/v1.7/Project.toml`\n",
      " \u001b[90m [54eefc05] \u001b[39mCascadia v1.0.1\n",
      " \u001b[90m [324d7699] \u001b[39mCategoricalArrays v0.10.5\n",
      " \u001b[90m [a93c6f00] \u001b[39mDataFrames v1.3.2\n",
      " \u001b[90m [8f5d6c58] \u001b[39mEzXML v1.1.0\n",
      " \u001b[90m [708ec375] \u001b[39mGumbo v0.8.0\n",
      " \u001b[90m [cd3eb016] \u001b[39mHTTP v0.9.17\n",
      " \u001b[90m [7073ff75] \u001b[39mIJulia v1.23.2\n",
      " \u001b[90m [c601a237] \u001b[39mInteract v0.10.4\n",
      " \u001b[90m [0f8b85d8] \u001b[39mJSON3 v1.9.4\n",
      " \u001b[90m [b9914132] \u001b[39mJSONTables v1.0.3\n",
      " \u001b[90m [4d0d745f] \u001b[39mPDFIO v0.1.13\n",
      " \u001b[90m [c3e4b0f8] \u001b[39mPluto v0.18.4\n",
      " \u001b[90m [2dfb63ee] \u001b[39mPooledArrays v1.4.0\n",
      " \u001b[90m [88034a9c] \u001b[39mStringDistances v0.11.2\n",
      " \u001b[90m [a2db99b7] \u001b[39mTextAnalysis v0.7.3\n",
      " \u001b[90m [05625dda] \u001b[39mWebDriver v0.1.2\n",
      " \u001b[90m [0f1e0344] \u001b[39mWebIO v0.8.17\n",
      " \u001b[90m [ade2ca70] \u001b[39mDates\n"
     ]
    },
    {
     "name": "stderr",
     "output_type": "stream",
     "text": [
      "\u001b[32m\u001b[1m   Resolving\u001b[22m\u001b[39m package versions...\n",
      "\u001b[32m\u001b[1m  No Changes\u001b[22m\u001b[39m to `~/.julia/environments/v1.7/Project.toml`\n",
      "\u001b[32m\u001b[1m  No Changes\u001b[22m\u001b[39m to `~/.julia/environments/v1.7/Manifest.toml`\n",
      "\u001b[32m\u001b[1m   Resolving\u001b[22m\u001b[39m package versions...\n",
      "\u001b[32m\u001b[1m  No Changes\u001b[22m\u001b[39m to `~/.julia/environments/v1.7/Project.toml`\n",
      "\u001b[32m\u001b[1m  No Changes\u001b[22m\u001b[39m to `~/.julia/environments/v1.7/Manifest.toml`\n",
      "\u001b[32m\u001b[1m   Resolving\u001b[22m\u001b[39m package versions...\n",
      "\u001b[32m\u001b[1m  No Changes\u001b[22m\u001b[39m to `~/.julia/environments/v1.7/Project.toml`\n",
      "\u001b[32m\u001b[1m  No Changes\u001b[22m\u001b[39m to `~/.julia/environments/v1.7/Manifest.toml`\n",
      "\u001b[32m\u001b[1m   Resolving\u001b[22m\u001b[39m package versions...\n",
      "\u001b[32m\u001b[1m  No Changes\u001b[22m\u001b[39m to `~/.julia/environments/v1.7/Project.toml`\n",
      "\u001b[32m\u001b[1m  No Changes\u001b[22m\u001b[39m to `~/.julia/environments/v1.7/Manifest.toml`\n",
      "\u001b[32m\u001b[1m   Resolving\u001b[22m\u001b[39m package versions...\n",
      "\u001b[32m\u001b[1m  No Changes\u001b[22m\u001b[39m to `~/.julia/environments/v1.7/Project.toml`\n",
      "\u001b[32m\u001b[1m  No Changes\u001b[22m\u001b[39m to `~/.julia/environments/v1.7/Manifest.toml`\n",
      "\u001b[32m\u001b[1m    Building\u001b[22m\u001b[39m WebIO → `~/.julia/scratchspaces/44cfe95a-1eb2-52ea-b672-e2afdf69b78f/c9529be473e97fa0b3b2642cdafcd0896b4c9494/build.log`\n"
     ]
    }
   ],
   "source": [
    "using Pkg\n",
    "Pkg.add(\"DataFrames\")\n",
    "Pkg.add(\"Dates\")\n",
    "Pkg.add(\"CategoricalArrays\")\n",
    "Pkg.add(\"Interact\")\n",
    "Pkg.add(\"WebIO\")\n",
    "Pkg.build(\"WebIO\")\n",
    "using DataFrames, Dates, Interact, CategoricalArrays, WebIO\n",
    "Pkg.status();"
   ]
  },
  {
   "cell_type": "markdown",
   "metadata": {},
   "source": [
    "*rest of this blog, I will assume, you have added all packages and imported in current namespace/notebook scope.*"
   ]
  },
  {
   "cell_type": "markdown",
   "metadata": {},
   "source": [
    "--- \n",
    "## Finance Data Model\n",
    "We already covered DataFrames and ERP Finance data model in Part 1 notebook, in below section, let's recreate all Finance DataFrames to continue advance analytics and visualization."
   ]
  },
  {
   "cell_type": "code",
   "execution_count": 81,
   "metadata": {},
   "outputs": [
    {
     "data": {
      "text/plain": [
       "(\"df_ledger_size after transformation is: \", (2800000, 30))"
      ]
     },
     "execution_count": 81,
     "metadata": {},
     "output_type": "execute_result"
    }
   ],
   "source": [
    "# create dummy data\n",
    "accountsDF = DataFrame(\n",
    "    ENTITY = \"Apple Inc.\",\n",
    "    AS_OF_DATE=Date(\"1900-01-01\", dateformat\"y-m-d\"),\n",
    "    ID = 11000:1000:45000,\n",
    "    CLASSIFICATION=repeat([\n",
    "        \"OPERATING_EXPENSES\",\"NON-OPERATING_EXPENSES\", \"ASSETS\",\"LIABILITIES\",\"NET_WORTH\",\"STATISTICS\",\"REVENUE\"\n",
    "                ], inner=5),\n",
    "    CATEGORY=[\n",
    "        \"Travel\",\"Payroll\",\"non-Payroll\",\"Allowance\",\"Cash\",\n",
    "        \"Facility\",\"Supply\",\"Services\",\"Investment\",\"Misc.\",\n",
    "        \"Depreciation\",\"Gain\",\"Service\",\"Retired\",\"Fault.\",\n",
    "        \"Receipt\",\"Accrual\",\"Return\",\"Credit\",\"ROI\",\n",
    "        \"Cash\",\"Funds\",\"Invest\",\"Transfer\",\"Roll-over\",\n",
    "        \"FTE\",\"Members\",\"Non_Members\",\"Temp\",\"Contractors\",\n",
    "        \"Sales\",\"Merchant\",\"Service\",\"Consulting\",\"Subscriptions\"],\n",
    "    STATUS=\"A\",\n",
    "    DESCR=repeat([\n",
    "    \"operating expenses\",\"non-operating expenses\",\"assets\",\"liability\",\"net-worth\",\"stats\",\"revenue\"], inner=5),\n",
    "    ACCOUNT_TYPE=repeat([\"E\",\"E\",\"A\",\"L\",\"N\",\"S\",\"R\"],inner=5));\n",
    "\n",
    "# DEPARTMENT Chartfield\n",
    "deptDF = DataFrame(\n",
    "    AS_OF_DATE=Date(\"2000-01-01\", dateformat\"y-m-d\"), \n",
    "    ID = 1100:100:1500,\n",
    "    CLASSIFICATION=[\"SALES\",\"HR\", \"IT\",\"BUSINESS\",\"OTHERS\"],\n",
    "    CATEGORY=[\"sales\",\"human_resource\",\"IT_Staff\",\"business\",\"others\"],\n",
    "    STATUS=\"A\",\n",
    "    DESCR=[\n",
    "    \"Sales & Marketing\",\"Human Resource\",\"Infomration Technology\",\"Business leaders\",\"other temp\"\n",
    "        ],\n",
    "    DEPT_TYPE=[\"S\",\"H\",\"I\",\"B\",\"O\"]);\n",
    "\n",
    "# LOCATION Chartfield\n",
    "locationDF = DataFrame(\n",
    "    AS_OF_DATE=Date(\"2000-01-01\", dateformat\"y-m-d\"), \n",
    "    ID = 11:1:22,\n",
    "    CLASSIFICATION=repeat([\n",
    "        \"Region A\",\"Region B\", \"Region C\"], inner=4),\n",
    "    CATEGORY=repeat([\n",
    "        \"Region A\",\"Region B\", \"Region C\"], inner=4),\n",
    "    STATUS=\"A\",\n",
    "    DESCR=[\n",
    "\"Boston\",\"New York\",\"Philadelphia\",\"Cleveland\",\"Richmond\",\n",
    "\"Atlanta\",\"Chicago\",\"St. Louis\",\"Minneapolis\",\"Kansas City\",\n",
    "\"Dallas\",\"San Francisco\"],\n",
    "    LOC_TYPE=\"Physical\");\n",
    "\n",
    "# creating Ledger\n",
    "ledgerDF = DataFrame(\n",
    "            LEDGER = String[], FISCAL_YEAR = Int[], PERIOD = Int[], ORGID = String[],\n",
    "            OPER_UNIT = String[], ACCOUNT = Int[], DEPT = Int[], LOCATION = Int[],\n",
    "            POSTED_TOTAL = Float64[]\n",
    "            );\n",
    "\n",
    "# create 2020 Period 1-12 Actuals Ledger \n",
    "l = \"Actuals\";\n",
    "fy = 2020;\n",
    "for p = 1:12\n",
    "    for i = 1:10^5\n",
    "        push!(ledgerDF, (l, fy, p, \"ABC Inc.\", rand(locationDF.CATEGORY),\n",
    "            rand(accountsDF.ID), rand(deptDF.ID), rand(locationDF.ID), rand()*10^8))\n",
    "    end\n",
    "end\n",
    "\n",
    "# create 2021 Period 1-4 Actuals Ledger \n",
    "l = \"Actuals\";\n",
    "fy = 2021;\n",
    "for p = 1:4\n",
    "    for i = 1:10^5\n",
    "        push!(ledgerDF, (l, fy, p, \"ABC Inc.\", rand(locationDF.CATEGORY),\n",
    "            rand(accountsDF.ID), rand(deptDF.ID), rand(locationDF.ID), rand()*10^8))\n",
    "    end\n",
    "end\n",
    "\n",
    "# create 2021 Period 1-4 Budget Ledger \n",
    "l = \"Budget\";\n",
    "fy = 2021;\n",
    "for p = 1:12\n",
    "    for i = 1:10^5\n",
    "        push!(ledgerDF, (l, fy, p, \"ABC Inc.\", rand(locationDF.CATEGORY),\n",
    "            rand(accountsDF.ID), rand(deptDF.ID), rand(locationDF.ID), rand()*10^8))\n",
    "    end\n",
    "end\n",
    "\n",
    "# here is ~3 million rows ledger dataframe\n",
    "size(ledgerDF)\n",
    "\n",
    "# rename dimensions columns for innerjoin\n",
    "df_accounts = rename(accountsDF, :ID => :ACCOUNTS_ID, :CLASSIFICATION => :ACCOUNTS_CLASSIFICATION, \n",
    "    :CATEGORY => :ACCOUNTS_CATEGORY, :DESCR => :ACCOUNTS_DESCR);\n",
    "df_dept = rename(deptDF, :ID => :DEPT_ID, :CLASSIFICATION => :DEPT_CLASSIFICATION, \n",
    "    :CATEGORY => :DEPT_CATEGORY, :DESCR => :DEPT_DESCR);\n",
    "df_location = rename(locationDF, :ID => :LOCATION_ID, :CLASSIFICATION => :LOCATION_CLASSIFICATION,\n",
    "    :CATEGORY => :LOCATION_CATEGORY, :DESCR => :LOCATION_DESCR);\n",
    "\n",
    "# join Ledger accounts chartfield with accounts chartfield dataframe to pull all accounts fields\n",
    "# join Ledger dept chartfield with dept chartfield dataframe to pull all dept fields\n",
    "# join Ledger location chartfield with location chartfield dataframe to pull all location fields\n",
    "df_ledger = innerjoin(\n",
    "                innerjoin(\n",
    "                    innerjoin(ledgerDF, df_accounts, on = [:ACCOUNT => :ACCOUNTS_ID], makeunique=true),\n",
    "                    df_dept, on = [:DEPT => :DEPT_ID], makeunique=true), df_location,\n",
    "                on = [:LOCATION => :LOCATION_ID], makeunique=true);\n",
    "\n",
    "# note, how ledger DF has 28 columns now (inclusive of all chartfields join)\n",
    "size(df_accounts),size(df_dept),size(df_location), size(ledgerDF), size(df_ledger)\n",
    "\n",
    "function periodToQtr(x)\n",
    "    if x ∈ 1:3\n",
    "        return 1\n",
    "    elseif x ∈ 4:6\n",
    "        return 2\n",
    "    elseif x ∈ 7:9\n",
    "        return 3\n",
    "    else return 4\n",
    "    end\n",
    "end\n",
    "\n",
    "# now we will use this function to transform a new column\n",
    "transform!(df_ledger, :PERIOD => ByRow(periodToQtr) => :QTR)\n",
    "\n",
    "# let's create one more generic function, which converts a number to USD currency\n",
    "function numToCurrency(x)\n",
    "        return string(\"USD \",round(x/10^6; digits = 2), \" million\")\n",
    "end\n",
    "\n",
    "transform!(df_ledger, :POSTED_TOTAL => ByRow(numToCurrency) => :TOTAL)\n",
    "df_ledger[1:5,[\"POSTED_TOTAL\",\"TOTAL\"]]\n",
    "\"df_ledger_size after transformation is: \", size(df_ledger)"
   ]
  },
  {
   "cell_type": "markdown",
   "metadata": {},
   "source": [
    "## GL BalanceSheet, IncomeStatement & CashFlow\n",
    "\n",
    "### Balance Sheet (Interactive)"
   ]
  },
  {
   "cell_type": "code",
   "execution_count": 83,
   "metadata": {},
   "outputs": [
    {
     "name": "stdout",
     "output_type": "stream",
     "text": [
      "(ld, rg, yr, qtr) = (\"Actuals\", \"Region B\", 2021, 2)\n"
     ]
    },
    {
     "data": {
      "application/vnd.webio.node+json": {
       "children": [
        {
         "children": [
          {
           "children": [
            {
             "children": [
              {
               "children": [
                {
                 "children": [
                  "ld"
                 ],
                 "instanceArgs": {
                  "namespace": "html",
                  "tag": "label"
                 },
                 "nodeType": "DOM",
                 "props": {
                  "className": "interact ",
                  "style": {
                   "padding": "5px 10px 0px 10px"
                  }
                 },
                 "type": "node"
                }
               ],
               "instanceArgs": {
                "namespace": "html",
                "tag": "div"
               },
               "nodeType": "DOM",
               "props": {
                "className": "interact-flex-row-left"
               },
               "type": "node"
              },
              {
               "children": [
                {
                 "children": [
                  {
                   "children": [
                    {
                     "children": [],
                     "instanceArgs": {
                      "namespace": "html",
                      "tag": "label"
                     },
                     "nodeType": "DOM",
                     "props": {
                      "attributes": {
                       "data-bind": "text : key"
                      }
                     },
                     "type": "node"
                    }
                   ],
                   "instanceArgs": {
                    "namespace": "html",
                    "tag": "span"
                   },
                   "nodeType": "DOM",
                   "props": {
                    "attributes": {
                     "data-bind": "click: function (){$root.update(val)}, css: {'is-primary is-selected' : $root.index() == val, 'interact-widget is-medium button ' : true}"
                    }
                   },
                   "type": "node"
                  }
                 ],
                 "instanceArgs": {
                  "namespace": "html",
                  "tag": "div"
                 },
                 "nodeType": "DOM",
                 "props": {
                  "attributes": {
                   "data-bind": "foreach : options_js"
                  },
                  "className": "buttons has-addons is-centered"
                 },
                 "type": "node"
                }
               ],
               "instanceArgs": {
                "namespace": "html",
                "tag": "div"
               },
               "nodeType": "DOM",
               "props": {
                "className": "interact-flex-row-center"
               },
               "type": "node"
              },
              {
               "children": [
                {
                 "children": [],
                 "instanceArgs": {
                  "namespace": "html",
                  "tag": "div"
                 },
                 "nodeType": "DOM",
                 "props": {},
                 "type": "node"
                }
               ],
               "instanceArgs": {
                "namespace": "html",
                "tag": "div"
               },
               "nodeType": "DOM",
               "props": {
                "className": "interact-flex-row-right"
               },
               "type": "node"
              }
             ],
             "instanceArgs": {
              "namespace": "html",
              "tag": "div"
             },
             "nodeType": "DOM",
             "props": {
              "className": "interact-flex-row interact-widget"
             },
             "type": "node"
            }
           ],
           "instanceArgs": {
            "handlers": {
             "index": [
              "(function (val){return (val!=this.model[\"index\"]()) ? (this.valueFromJulia[\"index\"]=true, this.model[\"index\"](val)) : undefined})"
             ],
             "options_js": [
              "(function (val){return (val!=this.model[\"options_js\"]()) ? (this.valueFromJulia[\"options_js\"]=true, this.model[\"options_js\"](val)) : undefined})"
             ]
            },
            "id": "639515942126972549",
            "imports": {
             "data": [
              {
               "name": "knockout",
               "type": "js",
               "url": "/assetserver/7adbe83fac1553325d6e718d595ab555e1cabbe4-knockout.js"
              },
              {
               "name": "knockout_punches",
               "type": "js",
               "url": "/assetserver/cec8c4de011abc05b545afbaaea4bb4465a1f168-knockout_punches.js"
              },
              {
               "name": null,
               "type": "js",
               "url": "/assetserver/5ddeec2b33e792dac4326b9b8929eb841863a558-all.js"
              },
              {
               "name": null,
               "type": "css",
               "url": "/assetserver/a04b7b754438af5b294cd7f1d762c01dae6fade5-style.css"
              },
              {
               "name": null,
               "type": "css",
               "url": "/assetserver/50b13cf07303023836f4115fe93a8fe3eca4721a-bulma_confined.min.css"
              }
             ],
             "type": "async_block"
            },
            "mount_callbacks": [
             "function () {\n    var handler = (function (ko, koPunches) {\n    ko.punches.enableAll();\n    ko.bindingHandlers.numericValue = {\n        init: function(element, valueAccessor, allBindings, data, context) {\n            var stringified = ko.observable(ko.unwrap(valueAccessor()));\n            stringified.subscribe(function(value) {\n                var val = parseFloat(value);\n                if (!isNaN(val)) {\n                    valueAccessor()(val);\n                }\n            });\n            valueAccessor().subscribe(function(value) {\n                var str = JSON.stringify(value);\n                if ((str == \"0\") && ([\"-0\", \"-0.\"].indexOf(stringified()) >= 0))\n                     return;\n                 if ([\"null\", \"\"].indexOf(str) >= 0)\n                     return;\n                stringified(str);\n            });\n            ko.applyBindingsToNode(\n                element,\n                {\n                    value: stringified,\n                    valueUpdate: allBindings.get('valueUpdate'),\n                },\n                context,\n            );\n        }\n    };\n    var json_data = {\"options_js\":WebIO.getval({\"name\":\"options_js\",\"scope\":\"639515942126972549\",\"id\":\"10173941480902858049\",\"type\":\"observable\"}),\"index\":WebIO.getval({\"name\":\"index\",\"scope\":\"639515942126972549\",\"id\":\"8735275560905044657\",\"type\":\"observable\"})};\n    var self = this;\n    function AppViewModel() {\n        for (var key in json_data) {\n            var el = json_data[key];\n            this[key] = Array.isArray(el) ? ko.observableArray(el) : ko.observable(el);\n        }\n        [this[\"update\"]=function (val) {this.index(val)}]\n        \n        [this[\"options_js\"].subscribe((function (val){!(this.valueFromJulia[\"options_js\"]) ? (WebIO.setval({\"name\":\"options_js\",\"scope\":\"639515942126972549\",\"id\":\"10173941480902858049\",\"type\":\"observable\"},val)) : undefined; return this.valueFromJulia[\"options_js\"]=false}),self),this[\"index\"].subscribe((function (val){!(this.valueFromJulia[\"index\"]) ? (WebIO.setval({\"name\":\"index\",\"scope\":\"639515942126972549\",\"id\":\"8735275560905044657\",\"type\":\"observable\"},val)) : undefined; return this.valueFromJulia[\"index\"]=false}),self)]\n        \n    }\n    self.model = new AppViewModel();\n    self.valueFromJulia = {};\n    for (var key in json_data) {\n        self.valueFromJulia[key] = false;\n    }\n    ko.applyBindings(self.model, self.dom);\n}\n);\n    (WebIO.importBlock({\"data\":[{\"name\":\"knockout\",\"type\":\"js\",\"url\":\"/assetserver/7adbe83fac1553325d6e718d595ab555e1cabbe4-knockout.js\"},{\"name\":\"knockout_punches\",\"type\":\"js\",\"url\":\"/assetserver/cec8c4de011abc05b545afbaaea4bb4465a1f168-knockout_punches.js\"}],\"type\":\"async_block\"})).then((imports) => handler.apply(this, imports));\n}\n"
            ],
            "observables": {
             "index": {
              "id": "8735275560905044657",
              "sync": true,
              "value": 1
             },
             "options_js": {
              "id": "10173941480902858049",
              "sync": false,
              "value": [
               {
                "id": "idDW4KzHcz",
                "key": "Actuals",
                "val": 1
               },
               {
                "id": "idlEm2XJ9P",
                "key": "Budget",
                "val": 2
               }
              ]
             }
            },
            "systemjs_options": null
           },
           "nodeType": "Scope",
           "props": {},
           "type": "node"
          }
         ],
         "instanceArgs": {
          "namespace": "html",
          "tag": "div"
         },
         "nodeType": "DOM",
         "props": {
          "className": "interact-widget"
         },
         "type": "node"
        },
        {
         "children": [
          {
           "children": [
            {
             "children": [
              {
               "children": [
                {
                 "children": [
                  "rg"
                 ],
                 "instanceArgs": {
                  "namespace": "html",
                  "tag": "label"
                 },
                 "nodeType": "DOM",
                 "props": {
                  "className": "interact ",
                  "style": {
                   "padding": "5px 10px 0px 10px"
                  }
                 },
                 "type": "node"
                }
               ],
               "instanceArgs": {
                "namespace": "html",
                "tag": "div"
               },
               "nodeType": "DOM",
               "props": {
                "className": "interact-flex-row-left"
               },
               "type": "node"
              },
              {
               "children": [
                {
                 "children": [
                  {
                   "children": [
                    {
                     "children": [],
                     "instanceArgs": {
                      "namespace": "html",
                      "tag": "label"
                     },
                     "nodeType": "DOM",
                     "props": {
                      "attributes": {
                       "data-bind": "text : key"
                      }
                     },
                     "type": "node"
                    }
                   ],
                   "instanceArgs": {
                    "namespace": "html",
                    "tag": "span"
                   },
                   "nodeType": "DOM",
                   "props": {
                    "attributes": {
                     "data-bind": "click: function (){$root.update(val)}, css: {'is-primary is-selected' : $root.index() == val, 'interact-widget is-medium button ' : true}"
                    }
                   },
                   "type": "node"
                  }
                 ],
                 "instanceArgs": {
                  "namespace": "html",
                  "tag": "div"
                 },
                 "nodeType": "DOM",
                 "props": {
                  "attributes": {
                   "data-bind": "foreach : options_js"
                  },
                  "className": "buttons has-addons is-centered"
                 },
                 "type": "node"
                }
               ],
               "instanceArgs": {
                "namespace": "html",
                "tag": "div"
               },
               "nodeType": "DOM",
               "props": {
                "className": "interact-flex-row-center"
               },
               "type": "node"
              },
              {
               "children": [
                {
                 "children": [],
                 "instanceArgs": {
                  "namespace": "html",
                  "tag": "div"
                 },
                 "nodeType": "DOM",
                 "props": {},
                 "type": "node"
                }
               ],
               "instanceArgs": {
                "namespace": "html",
                "tag": "div"
               },
               "nodeType": "DOM",
               "props": {
                "className": "interact-flex-row-right"
               },
               "type": "node"
              }
             ],
             "instanceArgs": {
              "namespace": "html",
              "tag": "div"
             },
             "nodeType": "DOM",
             "props": {
              "className": "interact-flex-row interact-widget"
             },
             "type": "node"
            }
           ],
           "instanceArgs": {
            "handlers": {
             "index": [
              "(function (val){return (val!=this.model[\"index\"]()) ? (this.valueFromJulia[\"index\"]=true, this.model[\"index\"](val)) : undefined})"
             ],
             "options_js": [
              "(function (val){return (val!=this.model[\"options_js\"]()) ? (this.valueFromJulia[\"options_js\"]=true, this.model[\"options_js\"](val)) : undefined})"
             ]
            },
            "id": "5031890283094413058",
            "imports": {
             "data": [
              {
               "name": "knockout",
               "type": "js",
               "url": "/assetserver/7adbe83fac1553325d6e718d595ab555e1cabbe4-knockout.js"
              },
              {
               "name": "knockout_punches",
               "type": "js",
               "url": "/assetserver/cec8c4de011abc05b545afbaaea4bb4465a1f168-knockout_punches.js"
              },
              {
               "name": null,
               "type": "js",
               "url": "/assetserver/5ddeec2b33e792dac4326b9b8929eb841863a558-all.js"
              },
              {
               "name": null,
               "type": "css",
               "url": "/assetserver/a04b7b754438af5b294cd7f1d762c01dae6fade5-style.css"
              },
              {
               "name": null,
               "type": "css",
               "url": "/assetserver/50b13cf07303023836f4115fe93a8fe3eca4721a-bulma_confined.min.css"
              }
             ],
             "type": "async_block"
            },
            "mount_callbacks": [
             "function () {\n    var handler = (function (ko, koPunches) {\n    ko.punches.enableAll();\n    ko.bindingHandlers.numericValue = {\n        init: function(element, valueAccessor, allBindings, data, context) {\n            var stringified = ko.observable(ko.unwrap(valueAccessor()));\n            stringified.subscribe(function(value) {\n                var val = parseFloat(value);\n                if (!isNaN(val)) {\n                    valueAccessor()(val);\n                }\n            });\n            valueAccessor().subscribe(function(value) {\n                var str = JSON.stringify(value);\n                if ((str == \"0\") && ([\"-0\", \"-0.\"].indexOf(stringified()) >= 0))\n                     return;\n                 if ([\"null\", \"\"].indexOf(str) >= 0)\n                     return;\n                stringified(str);\n            });\n            ko.applyBindingsToNode(\n                element,\n                {\n                    value: stringified,\n                    valueUpdate: allBindings.get('valueUpdate'),\n                },\n                context,\n            );\n        }\n    };\n    var json_data = {\"options_js\":WebIO.getval({\"name\":\"options_js\",\"scope\":\"5031890283094413058\",\"id\":\"165140332505002540\",\"type\":\"observable\"}),\"index\":WebIO.getval({\"name\":\"index\",\"scope\":\"5031890283094413058\",\"id\":\"8176912329501050652\",\"type\":\"observable\"})};\n    var self = this;\n    function AppViewModel() {\n        for (var key in json_data) {\n            var el = json_data[key];\n            this[key] = Array.isArray(el) ? ko.observableArray(el) : ko.observable(el);\n        }\n        [this[\"update\"]=function (val) {this.index(val)}]\n        \n        [this[\"options_js\"].subscribe((function (val){!(this.valueFromJulia[\"options_js\"]) ? (WebIO.setval({\"name\":\"options_js\",\"scope\":\"5031890283094413058\",\"id\":\"165140332505002540\",\"type\":\"observable\"},val)) : undefined; return this.valueFromJulia[\"options_js\"]=false}),self),this[\"index\"].subscribe((function (val){!(this.valueFromJulia[\"index\"]) ? (WebIO.setval({\"name\":\"index\",\"scope\":\"5031890283094413058\",\"id\":\"8176912329501050652\",\"type\":\"observable\"},val)) : undefined; return this.valueFromJulia[\"index\"]=false}),self)]\n        \n    }\n    self.model = new AppViewModel();\n    self.valueFromJulia = {};\n    for (var key in json_data) {\n        self.valueFromJulia[key] = false;\n    }\n    ko.applyBindings(self.model, self.dom);\n}\n);\n    (WebIO.importBlock({\"data\":[{\"name\":\"knockout\",\"type\":\"js\",\"url\":\"/assetserver/7adbe83fac1553325d6e718d595ab555e1cabbe4-knockout.js\"},{\"name\":\"knockout_punches\",\"type\":\"js\",\"url\":\"/assetserver/cec8c4de011abc05b545afbaaea4bb4465a1f168-knockout_punches.js\"}],\"type\":\"async_block\"})).then((imports) => handler.apply(this, imports));\n}\n"
            ],
            "observables": {
             "index": {
              "id": "8176912329501050652",
              "sync": true,
              "value": 1
             },
             "options_js": {
              "id": "165140332505002540",
              "sync": false,
              "value": [
               {
                "id": "id7VR4tUTP",
                "key": "Region B",
                "val": 1
               },
               {
                "id": "idfhkU3oNz",
                "key": "Region C",
                "val": 2
               },
               {
                "id": "idaG6o53sc",
                "key": "Region A",
                "val": 3
               }
              ]
             }
            },
            "systemjs_options": null
           },
           "nodeType": "Scope",
           "props": {},
           "type": "node"
          }
         ],
         "instanceArgs": {
          "namespace": "html",
          "tag": "div"
         },
         "nodeType": "DOM",
         "props": {
          "className": "interact-widget"
         },
         "type": "node"
        },
        {
         "children": [
          {
           "children": [
            {
             "children": [
              {
               "children": [
                {
                 "children": [
                  ""
                 ],
                 "instanceArgs": {
                  "namespace": "html",
                  "tag": "label"
                 },
                 "nodeType": "DOM",
                 "props": {
                  "className": "interact ",
                  "style": {
                   "padding": "5px 10px 0px 10px"
                  }
                 },
                 "type": "node"
                }
               ],
               "instanceArgs": {
                "namespace": "html",
                "tag": "div"
               },
               "nodeType": "DOM",
               "props": {
                "className": "interact-flex-row-left"
               },
               "type": "node"
              },
              {
               "children": [
                {
                 "children": [],
                 "instanceArgs": {
                  "namespace": "html",
                  "tag": "input"
                 },
                 "nodeType": "DOM",
                 "props": {
                  "attributes": {
                   "data-bind": "numericValue: index, valueUpdate: 'input', event: {change: function (){this.changes(this.changes()+1)}}",
                   "orient": "horizontal",
                   "type": "range"
                  },
                  "className": "slider slider is-fullwidth",
                  "max": 3,
                  "min": 1,
                  "step": 1,
                  "style": {}
                 },
                 "type": "node"
                }
               ],
               "instanceArgs": {
                "namespace": "html",
                "tag": "div"
               },
               "nodeType": "DOM",
               "props": {
                "className": "interact-flex-row-center"
               },
               "type": "node"
              },
              {
               "children": [
                {
                 "children": [],
                 "instanceArgs": {
                  "namespace": "html",
                  "tag": "p"
                 },
                 "nodeType": "DOM",
                 "props": {
                  "attributes": {
                   "data-bind": "text: formatted_val"
                  }
                 },
                 "type": "node"
                }
               ],
               "instanceArgs": {
                "namespace": "html",
                "tag": "div"
               },
               "nodeType": "DOM",
               "props": {
                "className": "interact-flex-row-right"
               },
               "type": "node"
              }
             ],
             "instanceArgs": {
              "namespace": "html",
              "tag": "div"
             },
             "nodeType": "DOM",
             "props": {
              "className": "interact-flex-row interact-widget"
             },
             "type": "node"
            }
           ],
           "instanceArgs": {
            "handlers": {
             "changes": [
              "(function (val){return (val!=this.model[\"changes\"]()) ? (this.valueFromJulia[\"changes\"]=true, this.model[\"changes\"](val)) : undefined})"
             ],
             "index": [
              "(function (val){return (val!=this.model[\"index\"]()) ? (this.valueFromJulia[\"index\"]=true, this.model[\"index\"](val)) : undefined})"
             ]
            },
            "id": "17389559504321148989",
            "imports": {
             "data": [
              {
               "name": "knockout",
               "type": "js",
               "url": "/assetserver/7adbe83fac1553325d6e718d595ab555e1cabbe4-knockout.js"
              },
              {
               "name": "knockout_punches",
               "type": "js",
               "url": "/assetserver/cec8c4de011abc05b545afbaaea4bb4465a1f168-knockout_punches.js"
              },
              {
               "name": null,
               "type": "js",
               "url": "/assetserver/5ddeec2b33e792dac4326b9b8929eb841863a558-all.js"
              },
              {
               "name": null,
               "type": "css",
               "url": "/assetserver/a04b7b754438af5b294cd7f1d762c01dae6fade5-style.css"
              },
              {
               "name": null,
               "type": "css",
               "url": "/assetserver/50b13cf07303023836f4115fe93a8fe3eca4721a-bulma_confined.min.css"
              }
             ],
             "type": "async_block"
            },
            "mount_callbacks": [
             "function () {\n    var handler = (function (ko, koPunches) {\n    ko.punches.enableAll();\n    ko.bindingHandlers.numericValue = {\n        init: function(element, valueAccessor, allBindings, data, context) {\n            var stringified = ko.observable(ko.unwrap(valueAccessor()));\n            stringified.subscribe(function(value) {\n                var val = parseFloat(value);\n                if (!isNaN(val)) {\n                    valueAccessor()(val);\n                }\n            });\n            valueAccessor().subscribe(function(value) {\n                var str = JSON.stringify(value);\n                if ((str == \"0\") && ([\"-0\", \"-0.\"].indexOf(stringified()) >= 0))\n                     return;\n                 if ([\"null\", \"\"].indexOf(str) >= 0)\n                     return;\n                stringified(str);\n            });\n            ko.applyBindingsToNode(\n                element,\n                {\n                    value: stringified,\n                    valueUpdate: allBindings.get('valueUpdate'),\n                },\n                context,\n            );\n        }\n    };\n    var json_data = {\"formatted_vals\":[\"2020\",\"2021\",\"2022\"],\"changes\":WebIO.getval({\"name\":\"changes\",\"scope\":\"17389559504321148989\",\"id\":\"6274068452279879643\",\"type\":\"observable\"}),\"index\":WebIO.getval({\"name\":\"index\",\"scope\":\"17389559504321148989\",\"id\":\"14551243121617628149\",\"type\":\"observable\"})};\n    var self = this;\n    function AppViewModel() {\n        for (var key in json_data) {\n            var el = json_data[key];\n            this[key] = Array.isArray(el) ? ko.observableArray(el) : ko.observable(el);\n        }\n        \n        [this[\"formatted_val\"]=ko.computed(    function(){\n        return this.formatted_vals()[parseInt(this.index())-(1)];\n    }\n,this)]\n        [this[\"changes\"].subscribe((function (val){!(this.valueFromJulia[\"changes\"]) ? (WebIO.setval({\"name\":\"changes\",\"scope\":\"17389559504321148989\",\"id\":\"6274068452279879643\",\"type\":\"observable\"},val)) : undefined; return this.valueFromJulia[\"changes\"]=false}),self),this[\"index\"].subscribe((function (val){!(this.valueFromJulia[\"index\"]) ? (WebIO.setval({\"name\":\"index\",\"scope\":\"17389559504321148989\",\"id\":\"14551243121617628149\",\"type\":\"observable\"},val)) : undefined; return this.valueFromJulia[\"index\"]=false}),self)]\n        \n    }\n    self.model = new AppViewModel();\n    self.valueFromJulia = {};\n    for (var key in json_data) {\n        self.valueFromJulia[key] = false;\n    }\n    ko.applyBindings(self.model, self.dom);\n}\n);\n    (WebIO.importBlock({\"data\":[{\"name\":\"knockout\",\"type\":\"js\",\"url\":\"/assetserver/7adbe83fac1553325d6e718d595ab555e1cabbe4-knockout.js\"},{\"name\":\"knockout_punches\",\"type\":\"js\",\"url\":\"/assetserver/cec8c4de011abc05b545afbaaea4bb4465a1f168-knockout_punches.js\"}],\"type\":\"async_block\"})).then((imports) => handler.apply(this, imports));\n}\n"
            ],
            "observables": {
             "changes": {
              "id": "6274068452279879643",
              "sync": false,
              "value": 0
             },
             "index": {
              "id": "14551243121617628149",
              "sync": true,
              "value": 2
             }
            },
            "systemjs_options": null
           },
           "nodeType": "Scope",
           "props": {},
           "type": "node"
          }
         ],
         "instanceArgs": {
          "namespace": "html",
          "tag": "div"
         },
         "nodeType": "DOM",
         "props": {
          "className": "field interact-widget"
         },
         "type": "node"
        },
        {
         "children": [
          {
           "children": [
            {
             "children": [
              {
               "children": [
                {
                 "children": [
                  "qtr"
                 ],
                 "instanceArgs": {
                  "namespace": "html",
                  "tag": "label"
                 },
                 "nodeType": "DOM",
                 "props": {
                  "className": "interact ",
                  "style": {
                   "padding": "5px 10px 0px 10px"
                  }
                 },
                 "type": "node"
                }
               ],
               "instanceArgs": {
                "namespace": "html",
                "tag": "div"
               },
               "nodeType": "DOM",
               "props": {
                "className": "interact-flex-row-left"
               },
               "type": "node"
              },
              {
               "children": [
                {
                 "children": [],
                 "instanceArgs": {
                  "namespace": "html",
                  "tag": "input"
                 },
                 "nodeType": "DOM",
                 "props": {
                  "attributes": {
                   "data-bind": "numericValue: index, valueUpdate: 'input', event: {change: function (){this.changes(this.changes()+1)}}",
                   "orient": "horizontal",
                   "type": "range"
                  },
                  "className": "slider slider is-fullwidth",
                  "max": 4,
                  "min": 1,
                  "step": 1,
                  "style": {}
                 },
                 "type": "node"
                }
               ],
               "instanceArgs": {
                "namespace": "html",
                "tag": "div"
               },
               "nodeType": "DOM",
               "props": {
                "className": "interact-flex-row-center"
               },
               "type": "node"
              },
              {
               "children": [
                {
                 "children": [],
                 "instanceArgs": {
                  "namespace": "html",
                  "tag": "p"
                 },
                 "nodeType": "DOM",
                 "props": {
                  "attributes": {
                   "data-bind": "text: formatted_val"
                  }
                 },
                 "type": "node"
                }
               ],
               "instanceArgs": {
                "namespace": "html",
                "tag": "div"
               },
               "nodeType": "DOM",
               "props": {
                "className": "interact-flex-row-right"
               },
               "type": "node"
              }
             ],
             "instanceArgs": {
              "namespace": "html",
              "tag": "div"
             },
             "nodeType": "DOM",
             "props": {
              "className": "interact-flex-row interact-widget"
             },
             "type": "node"
            }
           ],
           "instanceArgs": {
            "handlers": {
             "changes": [
              "(function (val){return (val!=this.model[\"changes\"]()) ? (this.valueFromJulia[\"changes\"]=true, this.model[\"changes\"](val)) : undefined})"
             ],
             "index": [
              "(function (val){return (val!=this.model[\"index\"]()) ? (this.valueFromJulia[\"index\"]=true, this.model[\"index\"](val)) : undefined})"
             ]
            },
            "id": "2664446521799303145",
            "imports": {
             "data": [
              {
               "name": "knockout",
               "type": "js",
               "url": "/assetserver/7adbe83fac1553325d6e718d595ab555e1cabbe4-knockout.js"
              },
              {
               "name": "knockout_punches",
               "type": "js",
               "url": "/assetserver/cec8c4de011abc05b545afbaaea4bb4465a1f168-knockout_punches.js"
              },
              {
               "name": null,
               "type": "js",
               "url": "/assetserver/5ddeec2b33e792dac4326b9b8929eb841863a558-all.js"
              },
              {
               "name": null,
               "type": "css",
               "url": "/assetserver/a04b7b754438af5b294cd7f1d762c01dae6fade5-style.css"
              },
              {
               "name": null,
               "type": "css",
               "url": "/assetserver/50b13cf07303023836f4115fe93a8fe3eca4721a-bulma_confined.min.css"
              }
             ],
             "type": "async_block"
            },
            "mount_callbacks": [
             "function () {\n    var handler = (function (ko, koPunches) {\n    ko.punches.enableAll();\n    ko.bindingHandlers.numericValue = {\n        init: function(element, valueAccessor, allBindings, data, context) {\n            var stringified = ko.observable(ko.unwrap(valueAccessor()));\n            stringified.subscribe(function(value) {\n                var val = parseFloat(value);\n                if (!isNaN(val)) {\n                    valueAccessor()(val);\n                }\n            });\n            valueAccessor().subscribe(function(value) {\n                var str = JSON.stringify(value);\n                if ((str == \"0\") && ([\"-0\", \"-0.\"].indexOf(stringified()) >= 0))\n                     return;\n                 if ([\"null\", \"\"].indexOf(str) >= 0)\n                     return;\n                stringified(str);\n            });\n            ko.applyBindingsToNode(\n                element,\n                {\n                    value: stringified,\n                    valueUpdate: allBindings.get('valueUpdate'),\n                },\n                context,\n            );\n        }\n    };\n    var json_data = {\"formatted_vals\":[\"1\",\"2\",\"3\",\"4\"],\"changes\":WebIO.getval({\"name\":\"changes\",\"scope\":\"2664446521799303145\",\"id\":\"2266873914685363357\",\"type\":\"observable\"}),\"index\":WebIO.getval({\"name\":\"index\",\"scope\":\"2664446521799303145\",\"id\":\"1457493643126691826\",\"type\":\"observable\"})};\n    var self = this;\n    function AppViewModel() {\n        for (var key in json_data) {\n            var el = json_data[key];\n            this[key] = Array.isArray(el) ? ko.observableArray(el) : ko.observable(el);\n        }\n        \n        [this[\"formatted_val\"]=ko.computed(    function(){\n        return this.formatted_vals()[parseInt(this.index())-(1)];\n    }\n,this)]\n        [this[\"changes\"].subscribe((function (val){!(this.valueFromJulia[\"changes\"]) ? (WebIO.setval({\"name\":\"changes\",\"scope\":\"2664446521799303145\",\"id\":\"2266873914685363357\",\"type\":\"observable\"},val)) : undefined; return this.valueFromJulia[\"changes\"]=false}),self),this[\"index\"].subscribe((function (val){!(this.valueFromJulia[\"index\"]) ? (WebIO.setval({\"name\":\"index\",\"scope\":\"2664446521799303145\",\"id\":\"1457493643126691826\",\"type\":\"observable\"},val)) : undefined; return this.valueFromJulia[\"index\"]=false}),self)]\n        \n    }\n    self.model = new AppViewModel();\n    self.valueFromJulia = {};\n    for (var key in json_data) {\n        self.valueFromJulia[key] = false;\n    }\n    ko.applyBindings(self.model, self.dom);\n}\n);\n    (WebIO.importBlock({\"data\":[{\"name\":\"knockout\",\"type\":\"js\",\"url\":\"/assetserver/7adbe83fac1553325d6e718d595ab555e1cabbe4-knockout.js\"},{\"name\":\"knockout_punches\",\"type\":\"js\",\"url\":\"/assetserver/cec8c4de011abc05b545afbaaea4bb4465a1f168-knockout_punches.js\"}],\"type\":\"async_block\"})).then((imports) => handler.apply(this, imports));\n}\n"
            ],
            "observables": {
             "changes": {
              "id": "2266873914685363357",
              "sync": false,
              "value": 0
             },
             "index": {
              "id": "1457493643126691826",
              "sync": true,
              "value": 2
             }
            },
            "systemjs_options": null
           },
           "nodeType": "Scope",
           "props": {},
           "type": "node"
          }
         ],
         "instanceArgs": {
          "namespace": "html",
          "tag": "div"
         },
         "nodeType": "DOM",
         "props": {
          "className": "field interact-widget"
         },
         "type": "node"
        },
        {
         "children": [
          {
           "children": [],
           "instanceArgs": {
            "id": "15206264344892899891",
            "name": "obs-node"
           },
           "nodeType": "ObservableNode",
           "props": {},
           "type": "node"
          }
         ],
         "instanceArgs": {
          "handlers": {},
          "id": "10970210391844709415",
          "imports": {
           "data": [],
           "type": "async_block"
          },
          "mount_callbacks": [],
          "observables": {
           "obs-node": {
            "id": "15206264344892899891",
            "sync": false,
            "value": {
             "children": [
              {
               "children": [],
               "instanceArgs": {
                "namespace": "html",
                "tag": "div"
               },
               "nodeType": "DOM",
               "props": {
                "setInnerHtml": "<div class=\"data-frame\"><p>420 rows × 7 columns</p><table class=\"data-frame\"><thead><tr><th></th><th>Org</th><th>FY</th><th>Qtr</th><th>Accounts</th><th>Dept</th><th>Loc</th><th>TOTAL</th></tr><tr><th></th><th title=\"String\">String</th><th title=\"Int64\">Int64</th><th title=\"Int64\">Int64</th><th title=\"String\">String</th><th title=\"String\">String</th><th title=\"String\">String</th><th title=\"String\">String</th></tr></thead><tbody><tr><th>1</th><td>Region B</td><td>2021</td><td>2</td><td>ASSETS</td><td>BUSINESS</td><td>Chicago</td><td>USD 2927.75 million</td></tr><tr><th>2</th><td>Region B</td><td>2021</td><td>2</td><td>ASSETS</td><td>IT</td><td>Kansas City</td><td>USD 3679.04 million</td></tr><tr><th>3</th><td>Region B</td><td>2021</td><td>2</td><td>LIABILITIES</td><td>HR</td><td>Boston</td><td>USD 3366.97 million</td></tr><tr><th>4</th><td>Region B</td><td>2021</td><td>2</td><td>LIABILITIES</td><td>HR</td><td>Kansas City</td><td>USD 4426.61 million</td></tr><tr><th>5</th><td>Region B</td><td>2021</td><td>2</td><td>ASSETS</td><td>IT</td><td>Boston</td><td>USD 3718.08 million</td></tr><tr><th>6</th><td>Region B</td><td>2021</td><td>2</td><td>NET_WORTH</td><td>BUSINESS</td><td>Richmond</td><td>USD 4920.64 million</td></tr><tr><th>7</th><td>Region B</td><td>2021</td><td>2</td><td>NET_WORTH</td><td>BUSINESS</td><td>Dallas</td><td>USD 4340.47 million</td></tr><tr><th>8</th><td>Region B</td><td>2021</td><td>2</td><td>ASSETS</td><td>HR</td><td>Minneapolis</td><td>USD 4236.49 million</td></tr><tr><th>9</th><td>Region B</td><td>2021</td><td>2</td><td>LIABILITIES</td><td>OTHERS</td><td>Atlanta</td><td>USD 4722.91 million</td></tr><tr><th>10</th><td>Region B</td><td>2021</td><td>2</td><td>STATISTICS</td><td>OTHERS</td><td>Minneapolis</td><td>USD 4006.18 million</td></tr><tr><th>11</th><td>Region B</td><td>2021</td><td>2</td><td>ASSETS</td><td>IT</td><td>New York</td><td>USD 2814.95 million</td></tr><tr><th>12</th><td>Region B</td><td>2021</td><td>2</td><td>NON-OPERATING_EXPENSES</td><td>IT</td><td>San Francisco</td><td>USD 4098.45 million</td></tr><tr><th>13</th><td>Region B</td><td>2021</td><td>2</td><td>REVENUE</td><td>IT</td><td>Kansas City</td><td>USD 4229.35 million</td></tr><tr><th>14</th><td>Region B</td><td>2021</td><td>2</td><td>OPERATING_EXPENSES</td><td>OTHERS</td><td>Philadelphia</td><td>USD 3240.95 million</td></tr><tr><th>15</th><td>Region B</td><td>2021</td><td>2</td><td>ASSETS</td><td>IT</td><td>Minneapolis</td><td>USD 3701.1 million</td></tr><tr><th>16</th><td>Region B</td><td>2021</td><td>2</td><td>REVENUE</td><td>SALES</td><td>Dallas</td><td>USD 4293.15 million</td></tr><tr><th>17</th><td>Region B</td><td>2021</td><td>2</td><td>STATISTICS</td><td>OTHERS</td><td>New York</td><td>USD 3925.28 million</td></tr><tr><th>18</th><td>Region B</td><td>2021</td><td>2</td><td>OPERATING_EXPENSES</td><td>SALES</td><td>Boston</td><td>USD 3734.55 million</td></tr><tr><th>19</th><td>Region B</td><td>2021</td><td>2</td><td>NON-OPERATING_EXPENSES</td><td>IT</td><td>Atlanta</td><td>USD 4193.49 million</td></tr><tr><th>20</th><td>Region B</td><td>2021</td><td>2</td><td>STATISTICS</td><td>BUSINESS</td><td>St. Louis</td><td>USD 4062.65 million</td></tr><tr><th>21</th><td>Region B</td><td>2021</td><td>2</td><td>STATISTICS</td><td>SALES</td><td>Philadelphia</td><td>USD 3704.39 million</td></tr><tr><th>22</th><td>Region B</td><td>2021</td><td>2</td><td>REVENUE</td><td>SALES</td><td>Atlanta</td><td>USD 4514.03 million</td></tr><tr><th>23</th><td>Region B</td><td>2021</td><td>2</td><td>ASSETS</td><td>IT</td><td>St. Louis</td><td>USD 4379.15 million</td></tr><tr><th>24</th><td>Region B</td><td>2021</td><td>2</td><td>REVENUE</td><td>HR</td><td>Kansas City</td><td>USD 3930.82 million</td></tr><tr><th>25</th><td>Region B</td><td>2021</td><td>2</td><td>REVENUE</td><td>HR</td><td>Minneapolis</td><td>USD 3704.31 million</td></tr><tr><th>26</th><td>Region B</td><td>2021</td><td>2</td><td>ASSETS</td><td>OTHERS</td><td>Atlanta</td><td>USD 3886.59 million</td></tr><tr><th>27</th><td>Region B</td><td>2021</td><td>2</td><td>LIABILITIES</td><td>SALES</td><td>Kansas City</td><td>USD 3989.38 million</td></tr><tr><th>28</th><td>Region B</td><td>2021</td><td>2</td><td>LIABILITIES</td><td>BUSINESS</td><td>Chicago</td><td>USD 4094.48 million</td></tr><tr><th>29</th><td>Region B</td><td>2021</td><td>2</td><td>REVENUE</td><td>HR</td><td>Dallas</td><td>USD 4035.68 million</td></tr><tr><th>30</th><td>Region B</td><td>2021</td><td>2</td><td>STATISTICS</td><td>BUSINESS</td><td>Kansas City</td><td>USD 3172.05 million</td></tr><tr><th>31</th><td>Region B</td><td>2021</td><td>2</td><td>NET_WORTH</td><td>IT</td><td>Kansas City</td><td>USD 4517.92 million</td></tr><tr><th>32</th><td>Region B</td><td>2021</td><td>2</td><td>LIABILITIES</td><td>BUSINESS</td><td>Philadelphia</td><td>USD 4014.79 million</td></tr><tr><th>33</th><td>Region B</td><td>2021</td><td>2</td><td>REVENUE</td><td>IT</td><td>Minneapolis</td><td>USD 4380.33 million</td></tr><tr><th>34</th><td>Region B</td><td>2021</td><td>2</td><td>NET_WORTH</td><td>SALES</td><td>St. Louis</td><td>USD 4159.4 million</td></tr><tr><th>35</th><td>Region B</td><td>2021</td><td>2</td><td>NON-OPERATING_EXPENSES</td><td>SALES</td><td>Philadelphia</td><td>USD 3618.04 million</td></tr><tr><th>36</th><td>Region B</td><td>2021</td><td>2</td><td>NET_WORTH</td><td>IT</td><td>New York</td><td>USD 3188.83 million</td></tr><tr><th>37</th><td>Region B</td><td>2021</td><td>2</td><td>NON-OPERATING_EXPENSES</td><td>BUSINESS</td><td>Richmond</td><td>USD 3192.46 million</td></tr><tr><th>38</th><td>Region B</td><td>2021</td><td>2</td><td>OPERATING_EXPENSES</td><td>BUSINESS</td><td>Atlanta</td><td>USD 4143.11 million</td></tr><tr><th>39</th><td>Region B</td><td>2021</td><td>2</td><td>REVENUE</td><td>BUSINESS</td><td>Cleveland</td><td>USD 4254.26 million</td></tr><tr><th>40</th><td>Region B</td><td>2021</td><td>2</td><td>LIABILITIES</td><td>HR</td><td>Dallas</td><td>USD 4102.33 million</td></tr><tr><th>41</th><td>Region B</td><td>2021</td><td>2</td><td>ASSETS</td><td>HR</td><td>Philadelphia</td><td>USD 3531.2 million</td></tr><tr><th>42</th><td>Region B</td><td>2021</td><td>2</td><td>NON-OPERATING_EXPENSES</td><td>BUSINESS</td><td>Chicago</td><td>USD 3963.0 million</td></tr><tr><th>43</th><td>Region B</td><td>2021</td><td>2</td><td>REVENUE</td><td>BUSINESS</td><td>Kansas City</td><td>USD 4124.16 million</td></tr><tr><th>44</th><td>Region B</td><td>2021</td><td>2</td><td>NON-OPERATING_EXPENSES</td><td>SALES</td><td>Dallas</td><td>USD 4416.59 million</td></tr><tr><th>45</th><td>Region B</td><td>2021</td><td>2</td><td>LIABILITIES</td><td>IT</td><td>San Francisco</td><td>USD 4360.83 million</td></tr><tr><th>46</th><td>Region B</td><td>2021</td><td>2</td><td>ASSETS</td><td>HR</td><td>San Francisco</td><td>USD 3434.48 million</td></tr><tr><th>47</th><td>Region B</td><td>2021</td><td>2</td><td>STATISTICS</td><td>BUSINESS</td><td>Chicago</td><td>USD 3537.84 million</td></tr><tr><th>48</th><td>Region B</td><td>2021</td><td>2</td><td>LIABILITIES</td><td>OTHERS</td><td>Richmond</td><td>USD 3276.13 million</td></tr><tr><th>49</th><td>Region B</td><td>2021</td><td>2</td><td>OPERATING_EXPENSES</td><td>BUSINESS</td><td>Cleveland</td><td>USD 3474.11 million</td></tr><tr><th>50</th><td>Region B</td><td>2021</td><td>2</td><td>LIABILITIES</td><td>SALES</td><td>Dallas</td><td>USD 4967.3 million</td></tr><tr><th>51</th><td>Region B</td><td>2021</td><td>2</td><td>NON-OPERATING_EXPENSES</td><td>OTHERS</td><td>Kansas City</td><td>USD 3356.74 million</td></tr><tr><th>52</th><td>Region B</td><td>2021</td><td>2</td><td>LIABILITIES</td><td>OTHERS</td><td>New York</td><td>USD 4319.92 million</td></tr><tr><th>53</th><td>Region B</td><td>2021</td><td>2</td><td>REVENUE</td><td>SALES</td><td>Boston</td><td>USD 3360.4 million</td></tr><tr><th>54</th><td>Region B</td><td>2021</td><td>2</td><td>NON-OPERATING_EXPENSES</td><td>SALES</td><td>Richmond</td><td>USD 3591.01 million</td></tr><tr><th>55</th><td>Region B</td><td>2021</td><td>2</td><td>REVENUE</td><td>HR</td><td>Chicago</td><td>USD 3432.36 million</td></tr><tr><th>56</th><td>Region B</td><td>2021</td><td>2</td><td>ASSETS</td><td>IT</td><td>Richmond</td><td>USD 5079.14 million</td></tr><tr><th>57</th><td>Region B</td><td>2021</td><td>2</td><td>OPERATING_EXPENSES</td><td>IT</td><td>San Francisco</td><td>USD 3240.61 million</td></tr><tr><th>58</th><td>Region B</td><td>2021</td><td>2</td><td>STATISTICS</td><td>BUSINESS</td><td>Boston</td><td>USD 3690.42 million</td></tr><tr><th>59</th><td>Region B</td><td>2021</td><td>2</td><td>OPERATING_EXPENSES</td><td>HR</td><td>Atlanta</td><td>USD 3766.31 million</td></tr><tr><th>60</th><td>Region B</td><td>2021</td><td>2</td><td>NON-OPERATING_EXPENSES</td><td>OTHERS</td><td>Boston</td><td>USD 4688.84 million</td></tr><tr><th>61</th><td>Region B</td><td>2021</td><td>2</td><td>LIABILITIES</td><td>IT</td><td>Kansas City</td><td>USD 4333.98 million</td></tr><tr><th>62</th><td>Region B</td><td>2021</td><td>2</td><td>LIABILITIES</td><td>HR</td><td>Atlanta</td><td>USD 4060.7 million</td></tr><tr><th>63</th><td>Region B</td><td>2021</td><td>2</td><td>NON-OPERATING_EXPENSES</td><td>SALES</td><td>Chicago</td><td>USD 4404.04 million</td></tr><tr><th>64</th><td>Region B</td><td>2021</td><td>2</td><td>LIABILITIES</td><td>SALES</td><td>St. Louis</td><td>USD 3610.67 million</td></tr><tr><th>65</th><td>Region B</td><td>2021</td><td>2</td><td>OPERATING_EXPENSES</td><td>BUSINESS</td><td>Kansas City</td><td>USD 3840.14 million</td></tr><tr><th>66</th><td>Region B</td><td>2021</td><td>2</td><td>OPERATING_EXPENSES</td><td>IT</td><td>Kansas City</td><td>USD 3355.3 million</td></tr><tr><th>67</th><td>Region B</td><td>2021</td><td>2</td><td>OPERATING_EXPENSES</td><td>OTHERS</td><td>St. Louis</td><td>USD 5139.69 million</td></tr><tr><th>68</th><td>Region B</td><td>2021</td><td>2</td><td>LIABILITIES</td><td>BUSINESS</td><td>New York</td><td>USD 3946.96 million</td></tr><tr><th>69</th><td>Region B</td><td>2021</td><td>2</td><td>OPERATING_EXPENSES</td><td>SALES</td><td>Philadelphia</td><td>USD 3656.95 million</td></tr><tr><th>70</th><td>Region B</td><td>2021</td><td>2</td><td>REVENUE</td><td>SALES</td><td>Richmond</td><td>USD 3989.12 million</td></tr><tr><th>71</th><td>Region B</td><td>2021</td><td>2</td><td>NON-OPERATING_EXPENSES</td><td>HR</td><td>Chicago</td><td>USD 3165.89 million</td></tr><tr><th>72</th><td>Region B</td><td>2021</td><td>2</td><td>NET_WORTH</td><td>OTHERS</td><td>Minneapolis</td><td>USD 3946.48 million</td></tr><tr><th>73</th><td>Region B</td><td>2021</td><td>2</td><td>STATISTICS</td><td>BUSINESS</td><td>Dallas</td><td>USD 2846.83 million</td></tr><tr><th>74</th><td>Region B</td><td>2021</td><td>2</td><td>OPERATING_EXPENSES</td><td>OTHERS</td><td>Chicago</td><td>USD 4933.75 million</td></tr><tr><th>75</th><td>Region B</td><td>2021</td><td>2</td><td>REVENUE</td><td>BUSINESS</td><td>Philadelphia</td><td>USD 4336.77 million</td></tr><tr><th>76</th><td>Region B</td><td>2021</td><td>2</td><td>NON-OPERATING_EXPENSES</td><td>HR</td><td>Minneapolis</td><td>USD 3559.91 million</td></tr><tr><th>77</th><td>Region B</td><td>2021</td><td>2</td><td>NET_WORTH</td><td>HR</td><td>Boston</td><td>USD 4441.45 million</td></tr><tr><th>78</th><td>Region B</td><td>2021</td><td>2</td><td>ASSETS</td><td>HR</td><td>Boston</td><td>USD 3936.15 million</td></tr><tr><th>79</th><td>Region B</td><td>2021</td><td>2</td><td>NON-OPERATING_EXPENSES</td><td>OTHERS</td><td>Dallas</td><td>USD 4380.7 million</td></tr><tr><th>80</th><td>Region B</td><td>2021</td><td>2</td><td>NON-OPERATING_EXPENSES</td><td>OTHERS</td><td>Atlanta</td><td>USD 3031.31 million</td></tr><tr><th>81</th><td>Region B</td><td>2021</td><td>2</td><td>NET_WORTH</td><td>SALES</td><td>New York</td><td>USD 4387.21 million</td></tr><tr><th>82</th><td>Region B</td><td>2021</td><td>2</td><td>LIABILITIES</td><td>OTHERS</td><td>Philadelphia</td><td>USD 3716.0 million</td></tr><tr><th>83</th><td>Region B</td><td>2021</td><td>2</td><td>REVENUE</td><td>IT</td><td>San Francisco</td><td>USD 3595.44 million</td></tr><tr><th>84</th><td>Region B</td><td>2021</td><td>2</td><td>LIABILITIES</td><td>IT</td><td>Atlanta</td><td>USD 4550.14 million</td></tr><tr><th>85</th><td>Region B</td><td>2021</td><td>2</td><td>OPERATING_EXPENSES</td><td>SALES</td><td>Kansas City</td><td>USD 3904.91 million</td></tr><tr><th>86</th><td>Region B</td><td>2021</td><td>2</td><td>STATISTICS</td><td>SALES</td><td>Cleveland</td><td>USD 3811.12 million</td></tr><tr><th>87</th><td>Region B</td><td>2021</td><td>2</td><td>ASSETS</td><td>BUSINESS</td><td>San Francisco</td><td>USD 3551.8 million</td></tr><tr><th>88</th><td>Region B</td><td>2021</td><td>2</td><td>LIABILITIES</td><td>BUSINESS</td><td>Cleveland</td><td>USD 4128.36 million</td></tr><tr><th>89</th><td>Region B</td><td>2021</td><td>2</td><td>LIABILITIES</td><td>SALES</td><td>Minneapolis</td><td>USD 3977.95 million</td></tr><tr><th>90</th><td>Region B</td><td>2021</td><td>2</td><td>LIABILITIES</td><td>BUSINESS</td><td>Dallas</td><td>USD 4372.22 million</td></tr><tr><th>91</th><td>Region B</td><td>2021</td><td>2</td><td>NON-OPERATING_EXPENSES</td><td>SALES</td><td>St. Louis</td><td>USD 4446.03 million</td></tr><tr><th>92</th><td>Region B</td><td>2021</td><td>2</td><td>STATISTICS</td><td>OTHERS</td><td>St. Louis</td><td>USD 3688.64 million</td></tr><tr><th>93</th><td>Region B</td><td>2021</td><td>2</td><td>ASSETS</td><td>BUSINESS</td><td>Minneapolis</td><td>USD 3389.76 million</td></tr><tr><th>94</th><td>Region B</td><td>2021</td><td>2</td><td>STATISTICS</td><td>OTHERS</td><td>Chicago</td><td>USD 3580.85 million</td></tr><tr><th>95</th><td>Region B</td><td>2021</td><td>2</td><td>ASSETS</td><td>OTHERS</td><td>Dallas</td><td>USD 3479.14 million</td></tr><tr><th>96</th><td>Region B</td><td>2021</td><td>2</td><td>REVENUE</td><td>IT</td><td>St. Louis</td><td>USD 3169.37 million</td></tr><tr><th>97</th><td>Region B</td><td>2021</td><td>2</td><td>OPERATING_EXPENSES</td><td>OTHERS</td><td>Minneapolis</td><td>USD 3189.43 million</td></tr><tr><th>98</th><td>Region B</td><td>2021</td><td>2</td><td>NON-OPERATING_EXPENSES</td><td>HR</td><td>San Francisco</td><td>USD 4562.48 million</td></tr><tr><th>99</th><td>Region B</td><td>2021</td><td>2</td><td>NON-OPERATING_EXPENSES</td><td>IT</td><td>Cleveland</td><td>USD 3821.77 million</td></tr><tr><th>100</th><td>Region B</td><td>2021</td><td>2</td><td>ASSETS</td><td>SALES</td><td>Chicago</td><td>USD 5198.92 million</td></tr><tr><th>101</th><td>Region B</td><td>2021</td><td>2</td><td>LIABILITIES</td><td>SALES</td><td>Philadelphia</td><td>USD 4950.36 million</td></tr><tr><th>102</th><td>Region B</td><td>2021</td><td>2</td><td>OPERATING_EXPENSES</td><td>BUSINESS</td><td>St. Louis</td><td>USD 3782.8 million</td></tr><tr><th>103</th><td>Region B</td><td>2021</td><td>2</td><td>OPERATING_EXPENSES</td><td>OTHERS</td><td>New York</td><td>USD 3924.49 million</td></tr><tr><th>104</th><td>Region B</td><td>2021</td><td>2</td><td>NON-OPERATING_EXPENSES</td><td>BUSINESS</td><td>Cleveland</td><td>USD 5229.43 million</td></tr><tr><th>105</th><td>Region B</td><td>2021</td><td>2</td><td>NON-OPERATING_EXPENSES</td><td>OTHERS</td><td>Cleveland</td><td>USD 4697.11 million</td></tr><tr><th>106</th><td>Region B</td><td>2021</td><td>2</td><td>LIABILITIES</td><td>SALES</td><td>San Francisco</td><td>USD 2795.71 million</td></tr><tr><th>107</th><td>Region B</td><td>2021</td><td>2</td><td>OPERATING_EXPENSES</td><td>BUSINESS</td><td>Chicago</td><td>USD 3353.08 million</td></tr><tr><th>108</th><td>Region B</td><td>2021</td><td>2</td><td>OPERATING_EXPENSES</td><td>OTHERS</td><td>Dallas</td><td>USD 4196.53 million</td></tr><tr><th>109</th><td>Region B</td><td>2021</td><td>2</td><td>NET_WORTH</td><td>BUSINESS</td><td>Boston</td><td>USD 3265.08 million</td></tr><tr><th>110</th><td>Region B</td><td>2021</td><td>2</td><td>LIABILITIES</td><td>IT</td><td>Minneapolis</td><td>USD 4052.36 million</td></tr><tr><th>111</th><td>Region B</td><td>2021</td><td>2</td><td>REVENUE</td><td>OTHERS</td><td>Minneapolis</td><td>USD 4447.38 million</td></tr><tr><th>112</th><td>Region B</td><td>2021</td><td>2</td><td>STATISTICS</td><td>HR</td><td>Dallas</td><td>USD 4568.95 million</td></tr><tr><th>113</th><td>Region B</td><td>2021</td><td>2</td><td>OPERATING_EXPENSES</td><td>HR</td><td>Kansas City</td><td>USD 3371.96 million</td></tr><tr><th>114</th><td>Region B</td><td>2021</td><td>2</td><td>NON-OPERATING_EXPENSES</td><td>IT</td><td>St. Louis</td><td>USD 4229.76 million</td></tr><tr><th>115</th><td>Region B</td><td>2021</td><td>2</td><td>STATISTICS</td><td>OTHERS</td><td>San Francisco</td><td>USD 4397.53 million</td></tr><tr><th>116</th><td>Region B</td><td>2021</td><td>2</td><td>REVENUE</td><td>IT</td><td>Atlanta</td><td>USD 3115.91 million</td></tr><tr><th>117</th><td>Region B</td><td>2021</td><td>2</td><td>NET_WORTH</td><td>SALES</td><td>Atlanta</td><td>USD 3413.11 million</td></tr><tr><th>118</th><td>Region B</td><td>2021</td><td>2</td><td>NET_WORTH</td><td>IT</td><td>Dallas</td><td>USD 3816.01 million</td></tr><tr><th>119</th><td>Region B</td><td>2021</td><td>2</td><td>NON-OPERATING_EXPENSES</td><td>HR</td><td>Boston</td><td>USD 4194.8 million</td></tr><tr><th>120</th><td>Region B</td><td>2021</td><td>2</td><td>STATISTICS</td><td>SALES</td><td>San Francisco</td><td>USD 4673.52 million</td></tr><tr><th>121</th><td>Region B</td><td>2021</td><td>2</td><td>NON-OPERATING_EXPENSES</td><td>OTHERS</td><td>New York</td><td>USD 4134.68 million</td></tr><tr><th>122</th><td>Region B</td><td>2021</td><td>2</td><td>REVENUE</td><td>BUSINESS</td><td>Dallas</td><td>USD 4967.77 million</td></tr><tr><th>123</th><td>Region B</td><td>2021</td><td>2</td><td>ASSETS</td><td>IT</td><td>Philadelphia</td><td>USD 4418.53 million</td></tr><tr><th>124</th><td>Region B</td><td>2021</td><td>2</td><td>ASSETS</td><td>SALES</td><td>Cleveland</td><td>USD 3870.36 million</td></tr><tr><th>125</th><td>Region B</td><td>2021</td><td>2</td><td>NON-OPERATING_EXPENSES</td><td>OTHERS</td><td>San Francisco</td><td>USD 3652.64 million</td></tr><tr><th>126</th><td>Region B</td><td>2021</td><td>2</td><td>REVENUE</td><td>SALES</td><td>Chicago</td><td>USD 4357.64 million</td></tr><tr><th>127</th><td>Region B</td><td>2021</td><td>2</td><td>NON-OPERATING_EXPENSES</td><td>BUSINESS</td><td>Dallas</td><td>USD 4433.52 million</td></tr><tr><th>128</th><td>Region B</td><td>2021</td><td>2</td><td>NET_WORTH</td><td>BUSINESS</td><td>Cleveland</td><td>USD 4409.45 million</td></tr><tr><th>129</th><td>Region B</td><td>2021</td><td>2</td><td>OPERATING_EXPENSES</td><td>HR</td><td>St. Louis</td><td>USD 2940.35 million</td></tr><tr><th>130</th><td>Region B</td><td>2021</td><td>2</td><td>OPERATING_EXPENSES</td><td>BUSINESS</td><td>Richmond</td><td>USD 3208.9 million</td></tr><tr><th>131</th><td>Region B</td><td>2021</td><td>2</td><td>NET_WORTH</td><td>IT</td><td>Philadelphia</td><td>USD 4453.4 million</td></tr><tr><th>132</th><td>Region B</td><td>2021</td><td>2</td><td>OPERATING_EXPENSES</td><td>HR</td><td>Minneapolis</td><td>USD 4088.17 million</td></tr><tr><th>133</th><td>Region B</td><td>2021</td><td>2</td><td>OPERATING_EXPENSES</td><td>BUSINESS</td><td>Minneapolis</td><td>USD 3509.06 million</td></tr><tr><th>134</th><td>Region B</td><td>2021</td><td>2</td><td>STATISTICS</td><td>HR</td><td>Atlanta</td><td>USD 3599.58 million</td></tr><tr><th>135</th><td>Region B</td><td>2021</td><td>2</td><td>NON-OPERATING_EXPENSES</td><td>OTHERS</td><td>Chicago</td><td>USD 3174.83 million</td></tr><tr><th>136</th><td>Region B</td><td>2021</td><td>2</td><td>ASSETS</td><td>BUSINESS</td><td>Cleveland</td><td>USD 3311.77 million</td></tr><tr><th>137</th><td>Region B</td><td>2021</td><td>2</td><td>OPERATING_EXPENSES</td><td>IT</td><td>St. Louis</td><td>USD 3753.62 million</td></tr><tr><th>138</th><td>Region B</td><td>2021</td><td>2</td><td>NET_WORTH</td><td>HR</td><td>Minneapolis</td><td>USD 4014.41 million</td></tr><tr><th>139</th><td>Region B</td><td>2021</td><td>2</td><td>NET_WORTH</td><td>HR</td><td>New York</td><td>USD 3894.27 million</td></tr><tr><th>140</th><td>Region B</td><td>2021</td><td>2</td><td>STATISTICS</td><td>IT</td><td>Minneapolis</td><td>USD 3748.03 million</td></tr><tr><th>141</th><td>Region B</td><td>2021</td><td>2</td><td>NON-OPERATING_EXPENSES</td><td>HR</td><td>Cleveland</td><td>USD 4906.33 million</td></tr><tr><th>142</th><td>Region B</td><td>2021</td><td>2</td><td>NET_WORTH</td><td>OTHERS</td><td>Chicago</td><td>USD 4884.47 million</td></tr><tr><th>143</th><td>Region B</td><td>2021</td><td>2</td><td>OPERATING_EXPENSES</td><td>HR</td><td>Chicago</td><td>USD 3402.68 million</td></tr><tr><th>144</th><td>Region B</td><td>2021</td><td>2</td><td>REVENUE</td><td>HR</td><td>Boston</td><td>USD 4325.35 million</td></tr><tr><th>145</th><td>Region B</td><td>2021</td><td>2</td><td>NET_WORTH</td><td>HR</td><td>Philadelphia</td><td>USD 4389.43 million</td></tr><tr><th>146</th><td>Region B</td><td>2021</td><td>2</td><td>NET_WORTH</td><td>OTHERS</td><td>San Francisco</td><td>USD 4509.67 million</td></tr><tr><th>147</th><td>Region B</td><td>2021</td><td>2</td><td>REVENUE</td><td>SALES</td><td>Cleveland</td><td>USD 4025.75 million</td></tr><tr><th>148</th><td>Region B</td><td>2021</td><td>2</td><td>NET_WORTH</td><td>SALES</td><td>Kansas City</td><td>USD 3843.43 million</td></tr><tr><th>149</th><td>Region B</td><td>2021</td><td>2</td><td>OPERATING_EXPENSES</td><td>OTHERS</td><td>Kansas City</td><td>USD 5084.04 million</td></tr><tr><th>150</th><td>Region B</td><td>2021</td><td>2</td><td>NET_WORTH</td><td>BUSINESS</td><td>Chicago</td><td>USD 4303.44 million</td></tr><tr><th>151</th><td>Region B</td><td>2021</td><td>2</td><td>NON-OPERATING_EXPENSES</td><td>SALES</td><td>Boston</td><td>USD 3873.67 million</td></tr><tr><th>152</th><td>Region B</td><td>2021</td><td>2</td><td>STATISTICS</td><td>IT</td><td>Kansas City</td><td>USD 3725.74 million</td></tr><tr><th>153</th><td>Region B</td><td>2021</td><td>2</td><td>ASSETS</td><td>SALES</td><td>Kansas City</td><td>USD 3904.23 million</td></tr><tr><th>154</th><td>Region B</td><td>2021</td><td>2</td><td>REVENUE</td><td>BUSINESS</td><td>St. Louis</td><td>USD 4021.63 million</td></tr><tr><th>155</th><td>Region B</td><td>2021</td><td>2</td><td>OPERATING_EXPENSES</td><td>HR</td><td>Philadelphia</td><td>USD 4052.49 million</td></tr><tr><th>156</th><td>Region B</td><td>2021</td><td>2</td><td>NON-OPERATING_EXPENSES</td><td>BUSINESS</td><td>St. Louis</td><td>USD 4156.68 million</td></tr><tr><th>157</th><td>Region B</td><td>2021</td><td>2</td><td>NON-OPERATING_EXPENSES</td><td>BUSINESS</td><td>Boston</td><td>USD 2852.89 million</td></tr><tr><th>158</th><td>Region B</td><td>2021</td><td>2</td><td>ASSETS</td><td>SALES</td><td>Richmond</td><td>USD 3532.09 million</td></tr><tr><th>159</th><td>Region B</td><td>2021</td><td>2</td><td>REVENUE</td><td>IT</td><td>Philadelphia</td><td>USD 3778.69 million</td></tr><tr><th>160</th><td>Region B</td><td>2021</td><td>2</td><td>ASSETS</td><td>OTHERS</td><td>Kansas City</td><td>USD 4350.03 million</td></tr><tr><th>161</th><td>Region B</td><td>2021</td><td>2</td><td>NET_WORTH</td><td>IT</td><td>St. Louis</td><td>USD 3808.57 million</td></tr><tr><th>162</th><td>Region B</td><td>2021</td><td>2</td><td>OPERATING_EXPENSES</td><td>IT</td><td>Boston</td><td>USD 4182.93 million</td></tr><tr><th>163</th><td>Region B</td><td>2021</td><td>2</td><td>STATISTICS</td><td>IT</td><td>Boston</td><td>USD 3667.47 million</td></tr><tr><th>164</th><td>Region B</td><td>2021</td><td>2</td><td>ASSETS</td><td>BUSINESS</td><td>New York</td><td>USD 3660.31 million</td></tr><tr><th>165</th><td>Region B</td><td>2021</td><td>2</td><td>STATISTICS</td><td>IT</td><td>Cleveland</td><td>USD 4314.03 million</td></tr><tr><th>166</th><td>Region B</td><td>2021</td><td>2</td><td>NET_WORTH</td><td>IT</td><td>Chicago</td><td>USD 3828.41 million</td></tr><tr><th>167</th><td>Region B</td><td>2021</td><td>2</td><td>STATISTICS</td><td>IT</td><td>Richmond</td><td>USD 4502.21 million</td></tr><tr><th>168</th><td>Region B</td><td>2021</td><td>2</td><td>STATISTICS</td><td>HR</td><td>Kansas City</td><td>USD 3313.57 million</td></tr><tr><th>169</th><td>Region B</td><td>2021</td><td>2</td><td>NON-OPERATING_EXPENSES</td><td>IT</td><td>Dallas</td><td>USD 3785.25 million</td></tr><tr><th>170</th><td>Region B</td><td>2021</td><td>2</td><td>NON-OPERATING_EXPENSES</td><td>BUSINESS</td><td>Philadelphia</td><td>USD 3786.29 million</td></tr><tr><th>171</th><td>Region B</td><td>2021</td><td>2</td><td>LIABILITIES</td><td>HR</td><td>Cleveland</td><td>USD 4264.54 million</td></tr><tr><th>172</th><td>Region B</td><td>2021</td><td>2</td><td>LIABILITIES</td><td>IT</td><td>Dallas</td><td>USD 3955.2 million</td></tr><tr><th>173</th><td>Region B</td><td>2021</td><td>2</td><td>ASSETS</td><td>BUSINESS</td><td>Dallas</td><td>USD 3490.1 million</td></tr><tr><th>174</th><td>Region B</td><td>2021</td><td>2</td><td>NON-OPERATING_EXPENSES</td><td>SALES</td><td>Kansas City</td><td>USD 4299.75 million</td></tr><tr><th>175</th><td>Region B</td><td>2021</td><td>2</td><td>LIABILITIES</td><td>SALES</td><td>Chicago</td><td>USD 3707.97 million</td></tr><tr><th>176</th><td>Region B</td><td>2021</td><td>2</td><td>NET_WORTH</td><td>IT</td><td>Minneapolis</td><td>USD 4193.11 million</td></tr><tr><th>177</th><td>Region B</td><td>2021</td><td>2</td><td>REVENUE</td><td>OTHERS</td><td>Richmond</td><td>USD 3603.43 million</td></tr><tr><th>178</th><td>Region B</td><td>2021</td><td>2</td><td>NET_WORTH</td><td>HR</td><td>St. Louis</td><td>USD 3695.22 million</td></tr><tr><th>179</th><td>Region B</td><td>2021</td><td>2</td><td>STATISTICS</td><td>SALES</td><td>New York</td><td>USD 4399.99 million</td></tr><tr><th>180</th><td>Region B</td><td>2021</td><td>2</td><td>REVENUE</td><td>OTHERS</td><td>St. Louis</td><td>USD 4403.11 million</td></tr><tr><th>181</th><td>Region B</td><td>2021</td><td>2</td><td>LIABILITIES</td><td>BUSINESS</td><td>Kansas City</td><td>USD 4180.52 million</td></tr><tr><th>182</th><td>Region B</td><td>2021</td><td>2</td><td>NON-OPERATING_EXPENSES</td><td>IT</td><td>Richmond</td><td>USD 3872.1 million</td></tr><tr><th>183</th><td>Region B</td><td>2021</td><td>2</td><td>ASSETS</td><td>OTHERS</td><td>Philadelphia</td><td>USD 4340.48 million</td></tr><tr><th>184</th><td>Region B</td><td>2021</td><td>2</td><td>STATISTICS</td><td>BUSINESS</td><td>New York</td><td>USD 4746.51 million</td></tr><tr><th>185</th><td>Region B</td><td>2021</td><td>2</td><td>NET_WORTH</td><td>OTHERS</td><td>Richmond</td><td>USD 3637.72 million</td></tr><tr><th>186</th><td>Region B</td><td>2021</td><td>2</td><td>NON-OPERATING_EXPENSES</td><td>SALES</td><td>Atlanta</td><td>USD 4327.87 million</td></tr><tr><th>187</th><td>Region B</td><td>2021</td><td>2</td><td>NET_WORTH</td><td>BUSINESS</td><td>Atlanta</td><td>USD 3819.95 million</td></tr><tr><th>188</th><td>Region B</td><td>2021</td><td>2</td><td>NON-OPERATING_EXPENSES</td><td>IT</td><td>Boston</td><td>USD 4085.18 million</td></tr><tr><th>189</th><td>Region B</td><td>2021</td><td>2</td><td>LIABILITIES</td><td>IT</td><td>St. Louis</td><td>USD 4330.74 million</td></tr><tr><th>190</th><td>Region B</td><td>2021</td><td>2</td><td>LIABILITIES</td><td>HR</td><td>Chicago</td><td>USD 4462.25 million</td></tr><tr><th>191</th><td>Region B</td><td>2021</td><td>2</td><td>LIABILITIES</td><td>IT</td><td>Richmond</td><td>USD 3847.22 million</td></tr><tr><th>192</th><td>Region B</td><td>2021</td><td>2</td><td>ASSETS</td><td>IT</td><td>Chicago</td><td>USD 4822.65 million</td></tr><tr><th>193</th><td>Region B</td><td>2021</td><td>2</td><td>STATISTICS</td><td>BUSINESS</td><td>Cleveland</td><td>USD 3548.43 million</td></tr><tr><th>194</th><td>Region B</td><td>2021</td><td>2</td><td>NET_WORTH</td><td>HR</td><td>San Francisco</td><td>USD 3416.2 million</td></tr><tr><th>195</th><td>Region B</td><td>2021</td><td>2</td><td>REVENUE</td><td>HR</td><td>San Francisco</td><td>USD 4190.61 million</td></tr><tr><th>196</th><td>Region B</td><td>2021</td><td>2</td><td>REVENUE</td><td>HR</td><td>St. Louis</td><td>USD 3361.44 million</td></tr><tr><th>197</th><td>Region B</td><td>2021</td><td>2</td><td>LIABILITIES</td><td>OTHERS</td><td>Chicago</td><td>USD 3493.54 million</td></tr><tr><th>198</th><td>Region B</td><td>2021</td><td>2</td><td>NET_WORTH</td><td>OTHERS</td><td>Philadelphia</td><td>USD 4183.27 million</td></tr><tr><th>199</th><td>Region B</td><td>2021</td><td>2</td><td>STATISTICS</td><td>IT</td><td>Philadelphia</td><td>USD 3653.57 million</td></tr><tr><th>200</th><td>Region B</td><td>2021</td><td>2</td><td>LIABILITIES</td><td>IT</td><td>Chicago</td><td>USD 3485.87 million</td></tr><tr><th>201</th><td>Region B</td><td>2021</td><td>2</td><td>LIABILITIES</td><td>HR</td><td>Philadelphia</td><td>USD 3707.13 million</td></tr><tr><th>202</th><td>Region B</td><td>2021</td><td>2</td><td>NON-OPERATING_EXPENSES</td><td>OTHERS</td><td>Philadelphia</td><td>USD 3549.56 million</td></tr><tr><th>203</th><td>Region B</td><td>2021</td><td>2</td><td>REVENUE</td><td>OTHERS</td><td>Kansas City</td><td>USD 3214.86 million</td></tr><tr><th>204</th><td>Region B</td><td>2021</td><td>2</td><td>ASSETS</td><td>SALES</td><td>Boston</td><td>USD 3922.61 million</td></tr><tr><th>205</th><td>Region B</td><td>2021</td><td>2</td><td>OPERATING_EXPENSES</td><td>OTHERS</td><td>Richmond</td><td>USD 4196.52 million</td></tr><tr><th>206</th><td>Region B</td><td>2021</td><td>2</td><td>REVENUE</td><td>OTHERS</td><td>San Francisco</td><td>USD 3555.88 million</td></tr><tr><th>207</th><td>Region B</td><td>2021</td><td>2</td><td>NET_WORTH</td><td>OTHERS</td><td>Boston</td><td>USD 4289.68 million</td></tr><tr><th>208</th><td>Region B</td><td>2021</td><td>2</td><td>REVENUE</td><td>HR</td><td>New York</td><td>USD 4009.5 million</td></tr><tr><th>209</th><td>Region B</td><td>2021</td><td>2</td><td>LIABILITIES</td><td>HR</td><td>St. Louis</td><td>USD 3378.73 million</td></tr><tr><th>210</th><td>Region B</td><td>2021</td><td>2</td><td>OPERATING_EXPENSES</td><td>SALES</td><td>San Francisco</td><td>USD 3952.66 million</td></tr><tr><th>211</th><td>Region B</td><td>2021</td><td>2</td><td>LIABILITIES</td><td>IT</td><td>Philadelphia</td><td>USD 4527.18 million</td></tr><tr><th>212</th><td>Region B</td><td>2021</td><td>2</td><td>REVENUE</td><td>BUSINESS</td><td>Minneapolis</td><td>USD 4334.13 million</td></tr><tr><th>213</th><td>Region B</td><td>2021</td><td>2</td><td>NON-OPERATING_EXPENSES</td><td>IT</td><td>Minneapolis</td><td>USD 4103.66 million</td></tr><tr><th>214</th><td>Region B</td><td>2021</td><td>2</td><td>LIABILITIES</td><td>HR</td><td>Richmond</td><td>USD 3778.13 million</td></tr><tr><th>215</th><td>Region B</td><td>2021</td><td>2</td><td>OPERATING_EXPENSES</td><td>BUSINESS</td><td>Philadelphia</td><td>USD 3931.35 million</td></tr><tr><th>216</th><td>Region B</td><td>2021</td><td>2</td><td>STATISTICS</td><td>HR</td><td>Minneapolis</td><td>USD 4311.11 million</td></tr><tr><th>217</th><td>Region B</td><td>2021</td><td>2</td><td>STATISTICS</td><td>HR</td><td>Philadelphia</td><td>USD 3391.45 million</td></tr><tr><th>218</th><td>Region B</td><td>2021</td><td>2</td><td>STATISTICS</td><td>IT</td><td>Atlanta</td><td>USD 4583.94 million</td></tr><tr><th>219</th><td>Region B</td><td>2021</td><td>2</td><td>NON-OPERATING_EXPENSES</td><td>HR</td><td>Dallas</td><td>USD 3940.19 million</td></tr><tr><th>220</th><td>Region B</td><td>2021</td><td>2</td><td>ASSETS</td><td>HR</td><td>Cleveland</td><td>USD 3856.62 million</td></tr><tr><th>221</th><td>Region B</td><td>2021</td><td>2</td><td>ASSETS</td><td>HR</td><td>Chicago</td><td>USD 4201.79 million</td></tr><tr><th>222</th><td>Region B</td><td>2021</td><td>2</td><td>NON-OPERATING_EXPENSES</td><td>BUSINESS</td><td>San Francisco</td><td>USD 3968.44 million</td></tr><tr><th>223</th><td>Region B</td><td>2021</td><td>2</td><td>NON-OPERATING_EXPENSES</td><td>SALES</td><td>New York</td><td>USD 3646.47 million</td></tr><tr><th>224</th><td>Region B</td><td>2021</td><td>2</td><td>NON-OPERATING_EXPENSES</td><td>HR</td><td>Philadelphia</td><td>USD 4291.44 million</td></tr><tr><th>225</th><td>Region B</td><td>2021</td><td>2</td><td>STATISTICS</td><td>OTHERS</td><td>Atlanta</td><td>USD 3853.49 million</td></tr><tr><th>226</th><td>Region B</td><td>2021</td><td>2</td><td>NET_WORTH</td><td>IT</td><td>San Francisco</td><td>USD 4081.03 million</td></tr><tr><th>227</th><td>Region B</td><td>2021</td><td>2</td><td>LIABILITIES</td><td>BUSINESS</td><td>Minneapolis</td><td>USD 4606.12 million</td></tr><tr><th>228</th><td>Region B</td><td>2021</td><td>2</td><td>STATISTICS</td><td>BUSINESS</td><td>Atlanta</td><td>USD 3942.55 million</td></tr><tr><th>229</th><td>Region B</td><td>2021</td><td>2</td><td>NET_WORTH</td><td>SALES</td><td>Dallas</td><td>USD 4755.48 million</td></tr><tr><th>230</th><td>Region B</td><td>2021</td><td>2</td><td>STATISTICS</td><td>SALES</td><td>Dallas</td><td>USD 3441.78 million</td></tr><tr><th>231</th><td>Region B</td><td>2021</td><td>2</td><td>LIABILITIES</td><td>OTHERS</td><td>Boston</td><td>USD 4478.02 million</td></tr><tr><th>232</th><td>Region B</td><td>2021</td><td>2</td><td>LIABILITIES</td><td>BUSINESS</td><td>San Francisco</td><td>USD 3061.28 million</td></tr><tr><th>233</th><td>Region B</td><td>2021</td><td>2</td><td>OPERATING_EXPENSES</td><td>BUSINESS</td><td>Boston</td><td>USD 3640.12 million</td></tr><tr><th>234</th><td>Region B</td><td>2021</td><td>2</td><td>LIABILITIES</td><td>BUSINESS</td><td>Richmond</td><td>USD 4323.81 million</td></tr><tr><th>235</th><td>Region B</td><td>2021</td><td>2</td><td>NET_WORTH</td><td>HR</td><td>Cleveland</td><td>USD 3443.24 million</td></tr><tr><th>236</th><td>Region B</td><td>2021</td><td>2</td><td>ASSETS</td><td>OTHERS</td><td>Minneapolis</td><td>USD 3868.44 million</td></tr><tr><th>237</th><td>Region B</td><td>2021</td><td>2</td><td>STATISTICS</td><td>HR</td><td>Chicago</td><td>USD 4186.45 million</td></tr><tr><th>238</th><td>Region B</td><td>2021</td><td>2</td><td>NON-OPERATING_EXPENSES</td><td>OTHERS</td><td>Richmond</td><td>USD 4087.34 million</td></tr><tr><th>239</th><td>Region B</td><td>2021</td><td>2</td><td>NET_WORTH</td><td>SALES</td><td>San Francisco</td><td>USD 3124.19 million</td></tr><tr><th>240</th><td>Region B</td><td>2021</td><td>2</td><td>ASSETS</td><td>OTHERS</td><td>St. Louis</td><td>USD 3942.33 million</td></tr><tr><th>241</th><td>Region B</td><td>2021</td><td>2</td><td>ASSETS</td><td>SALES</td><td>Dallas</td><td>USD 3754.68 million</td></tr><tr><th>242</th><td>Region B</td><td>2021</td><td>2</td><td>ASSETS</td><td>SALES</td><td>Minneapolis</td><td>USD 2638.33 million</td></tr><tr><th>243</th><td>Region B</td><td>2021</td><td>2</td><td>NON-OPERATING_EXPENSES</td><td>BUSINESS</td><td>New York</td><td>USD 3435.19 million</td></tr><tr><th>244</th><td>Region B</td><td>2021</td><td>2</td><td>ASSETS</td><td>OTHERS</td><td>Cleveland</td><td>USD 4146.61 million</td></tr><tr><th>245</th><td>Region B</td><td>2021</td><td>2</td><td>ASSETS</td><td>OTHERS</td><td>Chicago</td><td>USD 3917.89 million</td></tr><tr><th>246</th><td>Region B</td><td>2021</td><td>2</td><td>NET_WORTH</td><td>IT</td><td>Atlanta</td><td>USD 3295.98 million</td></tr><tr><th>247</th><td>Region B</td><td>2021</td><td>2</td><td>REVENUE</td><td>IT</td><td>Dallas</td><td>USD 3887.11 million</td></tr><tr><th>248</th><td>Region B</td><td>2021</td><td>2</td><td>REVENUE</td><td>HR</td><td>Atlanta</td><td>USD 3989.15 million</td></tr><tr><th>249</th><td>Region B</td><td>2021</td><td>2</td><td>STATISTICS</td><td>OTHERS</td><td>Richmond</td><td>USD 3601.22 million</td></tr><tr><th>250</th><td>Region B</td><td>2021</td><td>2</td><td>STATISTICS</td><td>OTHERS</td><td>Kansas City</td><td>USD 3634.45 million</td></tr><tr><th>251</th><td>Region B</td><td>2021</td><td>2</td><td>STATISTICS</td><td>IT</td><td>San Francisco</td><td>USD 3443.8 million</td></tr><tr><th>252</th><td>Region B</td><td>2021</td><td>2</td><td>OPERATING_EXPENSES</td><td>OTHERS</td><td>Cleveland</td><td>USD 3904.54 million</td></tr><tr><th>253</th><td>Region B</td><td>2021</td><td>2</td><td>REVENUE</td><td>HR</td><td>Cleveland</td><td>USD 3983.46 million</td></tr><tr><th>254</th><td>Region B</td><td>2021</td><td>2</td><td>NET_WORTH</td><td>SALES</td><td>Chicago</td><td>USD 4376.57 million</td></tr><tr><th>255</th><td>Region B</td><td>2021</td><td>2</td><td>ASSETS</td><td>OTHERS</td><td>Boston</td><td>USD 3927.45 million</td></tr><tr><th>256</th><td>Region B</td><td>2021</td><td>2</td><td>REVENUE</td><td>OTHERS</td><td>New York</td><td>USD 3263.27 million</td></tr><tr><th>257</th><td>Region B</td><td>2021</td><td>2</td><td>STATISTICS</td><td>HR</td><td>St. Louis</td><td>USD 4538.98 million</td></tr><tr><th>258</th><td>Region B</td><td>2021</td><td>2</td><td>NET_WORTH</td><td>BUSINESS</td><td>Philadelphia</td><td>USD 3411.73 million</td></tr><tr><th>259</th><td>Region B</td><td>2021</td><td>2</td><td>LIABILITIES</td><td>SALES</td><td>Boston</td><td>USD 3520.68 million</td></tr><tr><th>260</th><td>Region B</td><td>2021</td><td>2</td><td>REVENUE</td><td>SALES</td><td>New York</td><td>USD 4735.84 million</td></tr><tr><th>261</th><td>Region B</td><td>2021</td><td>2</td><td>LIABILITIES</td><td>BUSINESS</td><td>St. Louis</td><td>USD 3669.81 million</td></tr><tr><th>262</th><td>Region B</td><td>2021</td><td>2</td><td>STATISTICS</td><td>OTHERS</td><td>Cleveland</td><td>USD 3961.69 million</td></tr><tr><th>263</th><td>Region B</td><td>2021</td><td>2</td><td>NON-OPERATING_EXPENSES</td><td>OTHERS</td><td>Minneapolis</td><td>USD 3202.41 million</td></tr><tr><th>264</th><td>Region B</td><td>2021</td><td>2</td><td>NET_WORTH</td><td>SALES</td><td>Minneapolis</td><td>USD 4296.49 million</td></tr><tr><th>265</th><td>Region B</td><td>2021</td><td>2</td><td>NON-OPERATING_EXPENSES</td><td>IT</td><td>Philadelphia</td><td>USD 4750.94 million</td></tr><tr><th>266</th><td>Region B</td><td>2021</td><td>2</td><td>ASSETS</td><td>BUSINESS</td><td>Richmond</td><td>USD 3916.94 million</td></tr><tr><th>267</th><td>Region B</td><td>2021</td><td>2</td><td>NET_WORTH</td><td>HR</td><td>Kansas City</td><td>USD 4378.44 million</td></tr><tr><th>268</th><td>Region B</td><td>2021</td><td>2</td><td>OPERATING_EXPENSES</td><td>SALES</td><td>Cleveland</td><td>USD 3913.3 million</td></tr><tr><th>269</th><td>Region B</td><td>2021</td><td>2</td><td>ASSETS</td><td>HR</td><td>New York</td><td>USD 4182.17 million</td></tr><tr><th>270</th><td>Region B</td><td>2021</td><td>2</td><td>OPERATING_EXPENSES</td><td>BUSINESS</td><td>New York</td><td>USD 3859.61 million</td></tr><tr><th>271</th><td>Region B</td><td>2021</td><td>2</td><td>NET_WORTH</td><td>SALES</td><td>Philadelphia</td><td>USD 4345.23 million</td></tr><tr><th>272</th><td>Region B</td><td>2021</td><td>2</td><td>NON-OPERATING_EXPENSES</td><td>SALES</td><td>San Francisco</td><td>USD 3354.34 million</td></tr><tr><th>273</th><td>Region B</td><td>2021</td><td>2</td><td>NET_WORTH</td><td>IT</td><td>Cleveland</td><td>USD 3787.16 million</td></tr><tr><th>274</th><td>Region B</td><td>2021</td><td>2</td><td>ASSETS</td><td>OTHERS</td><td>Richmond</td><td>USD 3765.26 million</td></tr><tr><th>275</th><td>Region B</td><td>2021</td><td>2</td><td>OPERATING_EXPENSES</td><td>IT</td><td>Richmond</td><td>USD 3910.95 million</td></tr><tr><th>276</th><td>Region B</td><td>2021</td><td>2</td><td>ASSETS</td><td>HR</td><td>St. Louis</td><td>USD 4655.51 million</td></tr><tr><th>277</th><td>Region B</td><td>2021</td><td>2</td><td>OPERATING_EXPENSES</td><td>IT</td><td>Dallas</td><td>USD 3638.51 million</td></tr><tr><th>278</th><td>Region B</td><td>2021</td><td>2</td><td>STATISTICS</td><td>IT</td><td>New York</td><td>USD 3779.41 million</td></tr><tr><th>279</th><td>Region B</td><td>2021</td><td>2</td><td>ASSETS</td><td>IT</td><td>Cleveland</td><td>USD 5150.0 million</td></tr><tr><th>280</th><td>Region B</td><td>2021</td><td>2</td><td>LIABILITIES</td><td>IT</td><td>New York</td><td>USD 3921.97 million</td></tr><tr><th>281</th><td>Region B</td><td>2021</td><td>2</td><td>LIABILITIES</td><td>HR</td><td>Minneapolis</td><td>USD 4332.34 million</td></tr><tr><th>282</th><td>Region B</td><td>2021</td><td>2</td><td>REVENUE</td><td>OTHERS</td><td>Boston</td><td>USD 4221.1 million</td></tr><tr><th>283</th><td>Region B</td><td>2021</td><td>2</td><td>NON-OPERATING_EXPENSES</td><td>IT</td><td>New York</td><td>USD 3756.12 million</td></tr><tr><th>284</th><td>Region B</td><td>2021</td><td>2</td><td>OPERATING_EXPENSES</td><td>IT</td><td>New York</td><td>USD 3754.5 million</td></tr><tr><th>285</th><td>Region B</td><td>2021</td><td>2</td><td>OPERATING_EXPENSES</td><td>SALES</td><td>Chicago</td><td>USD 3874.19 million</td></tr><tr><th>286</th><td>Region B</td><td>2021</td><td>2</td><td>REVENUE</td><td>SALES</td><td>Philadelphia</td><td>USD 4518.49 million</td></tr><tr><th>287</th><td>Region B</td><td>2021</td><td>2</td><td>ASSETS</td><td>IT</td><td>San Francisco</td><td>USD 3803.69 million</td></tr><tr><th>288</th><td>Region B</td><td>2021</td><td>2</td><td>ASSETS</td><td>IT</td><td>Atlanta</td><td>USD 3630.48 million</td></tr><tr><th>289</th><td>Region B</td><td>2021</td><td>2</td><td>STATISTICS</td><td>BUSINESS</td><td>Richmond</td><td>USD 4188.5 million</td></tr><tr><th>290</th><td>Region B</td><td>2021</td><td>2</td><td>STATISTICS</td><td>OTHERS</td><td>Dallas</td><td>USD 4998.09 million</td></tr><tr><th>291</th><td>Region B</td><td>2021</td><td>2</td><td>OPERATING_EXPENSES</td><td>HR</td><td>Boston</td><td>USD 3864.05 million</td></tr><tr><th>292</th><td>Region B</td><td>2021</td><td>2</td><td>REVENUE</td><td>IT</td><td>New York</td><td>USD 4389.13 million</td></tr><tr><th>293</th><td>Region B</td><td>2021</td><td>2</td><td>OPERATING_EXPENSES</td><td>HR</td><td>Dallas</td><td>USD 3840.72 million</td></tr><tr><th>294</th><td>Region B</td><td>2021</td><td>2</td><td>NET_WORTH</td><td>HR</td><td>Richmond</td><td>USD 4715.37 million</td></tr><tr><th>295</th><td>Region B</td><td>2021</td><td>2</td><td>STATISTICS</td><td>BUSINESS</td><td>Philadelphia</td><td>USD 4319.95 million</td></tr><tr><th>296</th><td>Region B</td><td>2021</td><td>2</td><td>REVENUE</td><td>IT</td><td>Richmond</td><td>USD 3878.62 million</td></tr><tr><th>297</th><td>Region B</td><td>2021</td><td>2</td><td>REVENUE</td><td>SALES</td><td>Minneapolis</td><td>USD 3874.8 million</td></tr><tr><th>298</th><td>Region B</td><td>2021</td><td>2</td><td>REVENUE</td><td>BUSINESS</td><td>Boston</td><td>USD 4498.18 million</td></tr><tr><th>299</th><td>Region B</td><td>2021</td><td>2</td><td>LIABILITIES</td><td>SALES</td><td>Cleveland</td><td>USD 3943.81 million</td></tr><tr><th>300</th><td>Region B</td><td>2021</td><td>2</td><td>NET_WORTH</td><td>OTHERS</td><td>Dallas</td><td>USD 4998.53 million</td></tr><tr><th>301</th><td>Region B</td><td>2021</td><td>2</td><td>ASSETS</td><td>SALES</td><td>St. Louis</td><td>USD 4250.38 million</td></tr><tr><th>302</th><td>Region B</td><td>2021</td><td>2</td><td>LIABILITIES</td><td>OTHERS</td><td>Cleveland</td><td>USD 4440.21 million</td></tr><tr><th>303</th><td>Region B</td><td>2021</td><td>2</td><td>NON-OPERATING_EXPENSES</td><td>IT</td><td>Kansas City</td><td>USD 4006.44 million</td></tr><tr><th>304</th><td>Region B</td><td>2021</td><td>2</td><td>OPERATING_EXPENSES</td><td>BUSINESS</td><td>Dallas</td><td>USD 3458.77 million</td></tr><tr><th>305</th><td>Region B</td><td>2021</td><td>2</td><td>OPERATING_EXPENSES</td><td>IT</td><td>Minneapolis</td><td>USD 4582.68 million</td></tr><tr><th>306</th><td>Region B</td><td>2021</td><td>2</td><td>STATISTICS</td><td>HR</td><td>San Francisco</td><td>USD 3812.89 million</td></tr><tr><th>307</th><td>Region B</td><td>2021</td><td>2</td><td>OPERATING_EXPENSES</td><td>HR</td><td>Cleveland</td><td>USD 3614.93 million</td></tr><tr><th>308</th><td>Region B</td><td>2021</td><td>2</td><td>LIABILITIES</td><td>OTHERS</td><td>St. Louis</td><td>USD 4461.69 million</td></tr><tr><th>309</th><td>Region B</td><td>2021</td><td>2</td><td>OPERATING_EXPENSES</td><td>OTHERS</td><td>Atlanta</td><td>USD 3828.67 million</td></tr><tr><th>310</th><td>Region B</td><td>2021</td><td>2</td><td>OPERATING_EXPENSES</td><td>BUSINESS</td><td>San Francisco</td><td>USD 3644.08 million</td></tr><tr><th>311</th><td>Region B</td><td>2021</td><td>2</td><td>NON-OPERATING_EXPENSES</td><td>OTHERS</td><td>St. Louis</td><td>USD 3616.26 million</td></tr><tr><th>312</th><td>Region B</td><td>2021</td><td>2</td><td>NET_WORTH</td><td>IT</td><td>Boston</td><td>USD 4448.35 million</td></tr><tr><th>313</th><td>Region B</td><td>2021</td><td>2</td><td>STATISTICS</td><td>BUSINESS</td><td>San Francisco</td><td>USD 4297.2 million</td></tr><tr><th>314</th><td>Region B</td><td>2021</td><td>2</td><td>NET_WORTH</td><td>BUSINESS</td><td>Minneapolis</td><td>USD 4480.38 million</td></tr><tr><th>315</th><td>Region B</td><td>2021</td><td>2</td><td>STATISTICS</td><td>SALES</td><td>Chicago</td><td>USD 4373.44 million</td></tr><tr><th>316</th><td>Region B</td><td>2021</td><td>2</td><td>ASSETS</td><td>BUSINESS</td><td>St. Louis</td><td>USD 3544.04 million</td></tr><tr><th>317</th><td>Region B</td><td>2021</td><td>2</td><td>LIABILITIES</td><td>HR</td><td>New York</td><td>USD 3549.84 million</td></tr><tr><th>318</th><td>Region B</td><td>2021</td><td>2</td><td>LIABILITIES</td><td>SALES</td><td>New York</td><td>USD 4387.0 million</td></tr><tr><th>319</th><td>Region B</td><td>2021</td><td>2</td><td>REVENUE</td><td>OTHERS</td><td>Dallas</td><td>USD 3616.4 million</td></tr><tr><th>320</th><td>Region B</td><td>2021</td><td>2</td><td>REVENUE</td><td>IT</td><td>Chicago</td><td>USD 3961.33 million</td></tr><tr><th>321</th><td>Region B</td><td>2021</td><td>2</td><td>REVENUE</td><td>BUSINESS</td><td>New York</td><td>USD 3625.01 million</td></tr><tr><th>322</th><td>Region B</td><td>2021</td><td>2</td><td>LIABILITIES</td><td>BUSINESS</td><td>Boston</td><td>USD 4627.67 million</td></tr><tr><th>323</th><td>Region B</td><td>2021</td><td>2</td><td>LIABILITIES</td><td>HR</td><td>San Francisco</td><td>USD 4498.27 million</td></tr><tr><th>324</th><td>Region B</td><td>2021</td><td>2</td><td>STATISTICS</td><td>BUSINESS</td><td>Minneapolis</td><td>USD 4315.26 million</td></tr><tr><th>325</th><td>Region B</td><td>2021</td><td>2</td><td>ASSETS</td><td>HR</td><td>Kansas City</td><td>USD 3924.74 million</td></tr><tr><th>326</th><td>Region B</td><td>2021</td><td>2</td><td>STATISTICS</td><td>OTHERS</td><td>Philadelphia</td><td>USD 4196.58 million</td></tr><tr><th>327</th><td>Region B</td><td>2021</td><td>2</td><td>OPERATING_EXPENSES</td><td>HR</td><td>New York</td><td>USD 4176.41 million</td></tr><tr><th>328</th><td>Region B</td><td>2021</td><td>2</td><td>REVENUE</td><td>SALES</td><td>San Francisco</td><td>USD 3641.69 million</td></tr><tr><th>329</th><td>Region B</td><td>2021</td><td>2</td><td>REVENUE</td><td>OTHERS</td><td>Chicago</td><td>USD 3815.97 million</td></tr><tr><th>330</th><td>Region B</td><td>2021</td><td>2</td><td>OPERATING_EXPENSES</td><td>SALES</td><td>St. Louis</td><td>USD 3355.44 million</td></tr><tr><th>331</th><td>Region B</td><td>2021</td><td>2</td><td>OPERATING_EXPENSES</td><td>SALES</td><td>New York</td><td>USD 3358.87 million</td></tr><tr><th>332</th><td>Region B</td><td>2021</td><td>2</td><td>NON-OPERATING_EXPENSES</td><td>HR</td><td>St. Louis</td><td>USD 4208.25 million</td></tr><tr><th>333</th><td>Region B</td><td>2021</td><td>2</td><td>NET_WORTH</td><td>OTHERS</td><td>St. Louis</td><td>USD 4463.89 million</td></tr><tr><th>334</th><td>Region B</td><td>2021</td><td>2</td><td>ASSETS</td><td>BUSINESS</td><td>Philadelphia</td><td>USD 3579.11 million</td></tr><tr><th>335</th><td>Region B</td><td>2021</td><td>2</td><td>REVENUE</td><td>BUSINESS</td><td>San Francisco</td><td>USD 3290.47 million</td></tr><tr><th>336</th><td>Region B</td><td>2021</td><td>2</td><td>LIABILITIES</td><td>OTHERS</td><td>Minneapolis</td><td>USD 3416.22 million</td></tr><tr><th>337</th><td>Region B</td><td>2021</td><td>2</td><td>OPERATING_EXPENSES</td><td>IT</td><td>Atlanta</td><td>USD 4744.26 million</td></tr><tr><th>338</th><td>Region B</td><td>2021</td><td>2</td><td>STATISTICS</td><td>HR</td><td>New York</td><td>USD 3740.18 million</td></tr><tr><th>339</th><td>Region B</td><td>2021</td><td>2</td><td>STATISTICS</td><td>IT</td><td>Chicago</td><td>USD 4877.71 million</td></tr><tr><th>340</th><td>Region B</td><td>2021</td><td>2</td><td>STATISTICS</td><td>IT</td><td>Dallas</td><td>USD 2708.41 million</td></tr><tr><th>341</th><td>Region B</td><td>2021</td><td>2</td><td>ASSETS</td><td>IT</td><td>Dallas</td><td>USD 3506.32 million</td></tr><tr><th>342</th><td>Region B</td><td>2021</td><td>2</td><td>NET_WORTH</td><td>BUSINESS</td><td>St. Louis</td><td>USD 4947.56 million</td></tr><tr><th>343</th><td>Region B</td><td>2021</td><td>2</td><td>OPERATING_EXPENSES</td><td>SALES</td><td>Richmond</td><td>USD 3400.41 million</td></tr><tr><th>344</th><td>Region B</td><td>2021</td><td>2</td><td>STATISTICS</td><td>SALES</td><td>St. Louis</td><td>USD 3503.3 million</td></tr><tr><th>345</th><td>Region B</td><td>2021</td><td>2</td><td>NET_WORTH</td><td>BUSINESS</td><td>San Francisco</td><td>USD 4297.84 million</td></tr><tr><th>346</th><td>Region B</td><td>2021</td><td>2</td><td>REVENUE</td><td>HR</td><td>Richmond</td><td>USD 3994.18 million</td></tr><tr><th>347</th><td>Region B</td><td>2021</td><td>2</td><td>REVENUE</td><td>SALES</td><td>Kansas City</td><td>USD 3945.2 million</td></tr><tr><th>348</th><td>Region B</td><td>2021</td><td>2</td><td>STATISTICS</td><td>IT</td><td>St. Louis</td><td>USD 3900.92 million</td></tr><tr><th>349</th><td>Region B</td><td>2021</td><td>2</td><td>STATISTICS</td><td>SALES</td><td>Minneapolis</td><td>USD 4518.63 million</td></tr><tr><th>350</th><td>Region B</td><td>2021</td><td>2</td><td>ASSETS</td><td>OTHERS</td><td>New York</td><td>USD 4133.53 million</td></tr><tr><th>351</th><td>Region B</td><td>2021</td><td>2</td><td>OPERATING_EXPENSES</td><td>IT</td><td>Cleveland</td><td>USD 3533.37 million</td></tr><tr><th>352</th><td>Region B</td><td>2021</td><td>2</td><td>NON-OPERATING_EXPENSES</td><td>SALES</td><td>Minneapolis</td><td>USD 3847.42 million</td></tr><tr><th>353</th><td>Region B</td><td>2021</td><td>2</td><td>NON-OPERATING_EXPENSES</td><td>IT</td><td>Chicago</td><td>USD 3302.56 million</td></tr><tr><th>354</th><td>Region B</td><td>2021</td><td>2</td><td>REVENUE</td><td>OTHERS</td><td>Cleveland</td><td>USD 3156.42 million</td></tr><tr><th>355</th><td>Region B</td><td>2021</td><td>2</td><td>REVENUE</td><td>BUSINESS</td><td>Chicago</td><td>USD 3495.35 million</td></tr><tr><th>356</th><td>Region B</td><td>2021</td><td>2</td><td>STATISTICS</td><td>HR</td><td>Richmond</td><td>USD 3360.18 million</td></tr><tr><th>357</th><td>Region B</td><td>2021</td><td>2</td><td>NET_WORTH</td><td>IT</td><td>Richmond</td><td>USD 4037.96 million</td></tr><tr><th>358</th><td>Region B</td><td>2021</td><td>2</td><td>OPERATING_EXPENSES</td><td>OTHERS</td><td>Boston</td><td>USD 3400.47 million</td></tr><tr><th>359</th><td>Region B</td><td>2021</td><td>2</td><td>STATISTICS</td><td>HR</td><td>Cleveland</td><td>USD 5120.77 million</td></tr><tr><th>360</th><td>Region B</td><td>2021</td><td>2</td><td>NON-OPERATING_EXPENSES</td><td>HR</td><td>New York</td><td>USD 3341.5 million</td></tr><tr><th>361</th><td>Region B</td><td>2021</td><td>2</td><td>NET_WORTH</td><td>OTHERS</td><td>Cleveland</td><td>USD 3950.75 million</td></tr><tr><th>362</th><td>Region B</td><td>2021</td><td>2</td><td>LIABILITIES</td><td>BUSINESS</td><td>Atlanta</td><td>USD 3909.57 million</td></tr><tr><th>363</th><td>Region B</td><td>2021</td><td>2</td><td>ASSETS</td><td>SALES</td><td>Philadelphia</td><td>USD 3477.24 million</td></tr><tr><th>364</th><td>Region B</td><td>2021</td><td>2</td><td>NET_WORTH</td><td>HR</td><td>Atlanta</td><td>USD 3750.61 million</td></tr><tr><th>365</th><td>Region B</td><td>2021</td><td>2</td><td>NON-OPERATING_EXPENSES</td><td>HR</td><td>Richmond</td><td>USD 3762.4 million</td></tr><tr><th>366</th><td>Region B</td><td>2021</td><td>2</td><td>REVENUE</td><td>BUSINESS</td><td>Atlanta</td><td>USD 3524.35 million</td></tr><tr><th>367</th><td>Region B</td><td>2021</td><td>2</td><td>NON-OPERATING_EXPENSES</td><td>BUSINESS</td><td>Minneapolis</td><td>USD 3918.28 million</td></tr><tr><th>368</th><td>Region B</td><td>2021</td><td>2</td><td>ASSETS</td><td>HR</td><td>Atlanta</td><td>USD 3877.97 million</td></tr><tr><th>369</th><td>Region B</td><td>2021</td><td>2</td><td>NON-OPERATING_EXPENSES</td><td>HR</td><td>Kansas City</td><td>USD 3928.57 million</td></tr><tr><th>370</th><td>Region B</td><td>2021</td><td>2</td><td>REVENUE</td><td>IT</td><td>Boston</td><td>USD 3771.93 million</td></tr><tr><th>371</th><td>Region B</td><td>2021</td><td>2</td><td>REVENUE</td><td>OTHERS</td><td>Philadelphia</td><td>USD 3863.22 million</td></tr><tr><th>372</th><td>Region B</td><td>2021</td><td>2</td><td>NET_WORTH</td><td>OTHERS</td><td>New York</td><td>USD 3363.16 million</td></tr><tr><th>373</th><td>Region B</td><td>2021</td><td>2</td><td>STATISTICS</td><td>SALES</td><td>Richmond</td><td>USD 3897.3 million</td></tr><tr><th>374</th><td>Region B</td><td>2021</td><td>2</td><td>NET_WORTH</td><td>SALES</td><td>Richmond</td><td>USD 3768.73 million</td></tr><tr><th>375</th><td>Region B</td><td>2021</td><td>2</td><td>STATISTICS</td><td>SALES</td><td>Boston</td><td>USD 4744.92 million</td></tr><tr><th>376</th><td>Region B</td><td>2021</td><td>2</td><td>NON-OPERATING_EXPENSES</td><td>BUSINESS</td><td>Kansas City</td><td>USD 4498.11 million</td></tr><tr><th>377</th><td>Region B</td><td>2021</td><td>2</td><td>REVENUE</td><td>HR</td><td>Philadelphia</td><td>USD 3751.32 million</td></tr><tr><th>378</th><td>Region B</td><td>2021</td><td>2</td><td>OPERATING_EXPENSES</td><td>IT</td><td>Chicago</td><td>USD 4065.66 million</td></tr><tr><th>379</th><td>Region B</td><td>2021</td><td>2</td><td>NET_WORTH</td><td>BUSINESS</td><td>New York</td><td>USD 3786.22 million</td></tr><tr><th>380</th><td>Region B</td><td>2021</td><td>2</td><td>OPERATING_EXPENSES</td><td>IT</td><td>Philadelphia</td><td>USD 3674.19 million</td></tr><tr><th>381</th><td>Region B</td><td>2021</td><td>2</td><td>NET_WORTH</td><td>BUSINESS</td><td>Kansas City</td><td>USD 3168.14 million</td></tr><tr><th>382</th><td>Region B</td><td>2021</td><td>2</td><td>OPERATING_EXPENSES</td><td>HR</td><td>San Francisco</td><td>USD 3337.98 million</td></tr><tr><th>383</th><td>Region B</td><td>2021</td><td>2</td><td>NET_WORTH</td><td>OTHERS</td><td>Kansas City</td><td>USD 3765.9 million</td></tr><tr><th>384</th><td>Region B</td><td>2021</td><td>2</td><td>OPERATING_EXPENSES</td><td>HR</td><td>Richmond</td><td>USD 3776.64 million</td></tr><tr><th>385</th><td>Region B</td><td>2021</td><td>2</td><td>ASSETS</td><td>HR</td><td>Dallas</td><td>USD 3211.58 million</td></tr><tr><th>386</th><td>Region B</td><td>2021</td><td>2</td><td>STATISTICS</td><td>SALES</td><td>Atlanta</td><td>USD 3402.09 million</td></tr><tr><th>387</th><td>Region B</td><td>2021</td><td>2</td><td>NET_WORTH</td><td>HR</td><td>Dallas</td><td>USD 5013.63 million</td></tr><tr><th>388</th><td>Region B</td><td>2021</td><td>2</td><td>LIABILITIES</td><td>IT</td><td>Boston</td><td>USD 3499.94 million</td></tr><tr><th>389</th><td>Region B</td><td>2021</td><td>2</td><td>NET_WORTH</td><td>OTHERS</td><td>Atlanta</td><td>USD 4442.08 million</td></tr><tr><th>390</th><td>Region B</td><td>2021</td><td>2</td><td>ASSETS</td><td>OTHERS</td><td>San Francisco</td><td>USD 3914.48 million</td></tr><tr><th>391</th><td>Region B</td><td>2021</td><td>2</td><td>LIABILITIES</td><td>SALES</td><td>Richmond</td><td>USD 3139.59 million</td></tr><tr><th>392</th><td>Region B</td><td>2021</td><td>2</td><td>ASSETS</td><td>SALES</td><td>New York</td><td>USD 3224.55 million</td></tr><tr><th>393</th><td>Region B</td><td>2021</td><td>2</td><td>NON-OPERATING_EXPENSES</td><td>BUSINESS</td><td>Atlanta</td><td>USD 4508.29 million</td></tr><tr><th>394</th><td>Region B</td><td>2021</td><td>2</td><td>LIABILITIES</td><td>SALES</td><td>Atlanta</td><td>USD 4241.26 million</td></tr><tr><th>395</th><td>Region B</td><td>2021</td><td>2</td><td>OPERATING_EXPENSES</td><td>SALES</td><td>Atlanta</td><td>USD 3592.17 million</td></tr><tr><th>396</th><td>Region B</td><td>2021</td><td>2</td><td>LIABILITIES</td><td>OTHERS</td><td>Dallas</td><td>USD 3695.96 million</td></tr><tr><th>397</th><td>Region B</td><td>2021</td><td>2</td><td>OPERATING_EXPENSES</td><td>OTHERS</td><td>San Francisco</td><td>USD 3089.01 million</td></tr><tr><th>398</th><td>Region B</td><td>2021</td><td>2</td><td>STATISTICS</td><td>SALES</td><td>Kansas City</td><td>USD 3948.26 million</td></tr><tr><th>399</th><td>Region B</td><td>2021</td><td>2</td><td>ASSETS</td><td>BUSINESS</td><td>Kansas City</td><td>USD 3119.45 million</td></tr><tr><th>400</th><td>Region B</td><td>2021</td><td>2</td><td>REVENUE</td><td>SALES</td><td>St. Louis</td><td>USD 4053.0 million</td></tr><tr><th>401</th><td>Region B</td><td>2021</td><td>2</td><td>REVENUE</td><td>OTHERS</td><td>Atlanta</td><td>USD 3683.48 million</td></tr><tr><th>402</th><td>Region B</td><td>2021</td><td>2</td><td>NON-OPERATING_EXPENSES</td><td>HR</td><td>Atlanta</td><td>USD 3858.73 million</td></tr><tr><th>403</th><td>Region B</td><td>2021</td><td>2</td><td>ASSETS</td><td>SALES</td><td>San Francisco</td><td>USD 3291.86 million</td></tr><tr><th>404</th><td>Region B</td><td>2021</td><td>2</td><td>NET_WORTH</td><td>HR</td><td>Chicago</td><td>USD 3804.4 million</td></tr><tr><th>405</th><td>Region B</td><td>2021</td><td>2</td><td>ASSETS</td><td>SALES</td><td>Atlanta</td><td>USD 3943.89 million</td></tr><tr><th>406</th><td>Region B</td><td>2021</td><td>2</td><td>ASSETS</td><td>BUSINESS</td><td>Boston</td><td>USD 3909.51 million</td></tr><tr><th>407</th><td>Region B</td><td>2021</td><td>2</td><td>ASSETS</td><td>HR</td><td>Richmond</td><td>USD 3539.07 million</td></tr><tr><th>408</th><td>Region B</td><td>2021</td><td>2</td><td>REVENUE</td><td>IT</td><td>Cleveland</td><td>USD 3763.62 million</td></tr><tr><th>409</th><td>Region B</td><td>2021</td><td>2</td><td>OPERATING_EXPENSES</td><td>SALES</td><td>Minneapolis</td><td>USD 4179.07 million</td></tr><tr><th>410</th><td>Region B</td><td>2021</td><td>2</td><td>STATISTICS</td><td>OTHERS</td><td>Boston</td><td>USD 3585.53 million</td></tr><tr><th>411</th><td>Region B</td><td>2021</td><td>2</td><td>LIABILITIES</td><td>IT</td><td>Cleveland</td><td>USD 5007.31 million</td></tr><tr><th>412</th><td>Region B</td><td>2021</td><td>2</td><td>OPERATING_EXPENSES</td><td>SALES</td><td>Dallas</td><td>USD 3356.67 million</td></tr><tr><th>413</th><td>Region B</td><td>2021</td><td>2</td><td>LIABILITIES</td><td>OTHERS</td><td>Kansas City</td><td>USD 4477.97 million</td></tr><tr><th>414</th><td>Region B</td><td>2021</td><td>2</td><td>NET_WORTH</td><td>SALES</td><td>Cleveland</td><td>USD 3637.36 million</td></tr><tr><th>415</th><td>Region B</td><td>2021</td><td>2</td><td>STATISTICS</td><td>HR</td><td>Boston</td><td>USD 3105.55 million</td></tr><tr><th>416</th><td>Region B</td><td>2021</td><td>2</td><td>NON-OPERATING_EXPENSES</td><td>SALES</td><td>Cleveland</td><td>USD 4432.2 million</td></tr><tr><th>417</th><td>Region B</td><td>2021</td><td>2</td><td>ASSETS</td><td>BUSINESS</td><td>Atlanta</td><td>USD 3405.35 million</td></tr><tr><th>418</th><td>Region B</td><td>2021</td><td>2</td><td>LIABILITIES</td><td>OTHERS</td><td>San Francisco</td><td>USD 3571.54 million</td></tr><tr><th>419</th><td>Region B</td><td>2021</td><td>2</td><td>REVENUE</td><td>BUSINESS</td><td>Richmond</td><td>USD 3325.6 million</td></tr><tr><th>420</th><td>Region B</td><td>2021</td><td>2</td><td>NET_WORTH</td><td>SALES</td><td>Boston</td><td>USD 2699.08 million</td></tr></tbody></table></div>"
               },
               "type": "node"
              }
             ],
             "instanceArgs": {
              "namespace": "html",
              "tag": "div"
             },
             "nodeType": "DOM",
             "props": {
              "className": "interact-flex-row interact-widget"
             },
             "type": "node"
            }
           }
          },
          "systemjs_options": null
         },
         "nodeType": "Scope",
         "props": {},
         "type": "node"
        }
       ],
       "instanceArgs": {
        "namespace": "html",
        "tag": "div"
       },
       "nodeType": "DOM",
       "props": {},
       "type": "node"
      },
      "text/html": [
       "<div\n",
       "    class=\"webio-mountpoint\"\n",
       "    data-webio-mountpoint=\"1465972557652851565\"\n",
       ">\n",
       "    <script>\n",
       "    (function(){\n",
       "    // Some integrations (namely, IJulia/Jupyter) use an alternate render pathway than\n",
       "    // just putting the html on the page. If WebIO isn't defined, then it's pretty likely\n",
       "    // that we're in one of those situations and the integration just isn't installed\n",
       "    // correctly.\n",
       "    if (typeof window.WebIO === \"undefined\") {\n",
       "        document\n",
       "            .querySelector('[data-webio-mountpoint=\"1465972557652851565\"]')\n",
       "            .innerHTML = (\n",
       "                '<div style=\"padding: 1em; background-color: #f8d6da; border: 1px solid #f5c6cb; font-weight: bold;\">' +\n",
       "                '<p><strong>WebIO not detected.</strong></p>' +\n",
       "                '<p>Please read ' +\n",
       "                '<a href=\"https://juliagizmos.github.io/WebIO.jl/latest/troubleshooting/not-detected/\" target=\"_blank\">the troubleshooting guide</a> ' +\n",
       "                'for more information on how to resolve this issue.</p>' +\n",
       "                '<p><a href=\"https://juliagizmos.github.io/WebIO.jl/latest/troubleshooting/not-detected/\" target=\"_blank\">https://juliagizmos.github.io/WebIO.jl/latest/troubleshooting/not-detected/</a></p>' +\n",
       "                '</div>'\n",
       "            );\n",
       "        return;\n",
       "    }\n",
       "    WebIO.mount(\n",
       "        document.querySelector('[data-webio-mountpoint=\"1465972557652851565\"]'),\n",
       "        {\"props\":{},\"nodeType\":\"DOM\",\"type\":\"node\",\"instanceArgs\":{\"namespace\":\"html\",\"tag\":\"div\"},\"children\":[{\"props\":{\"className\":\"interact-widget\"},\"nodeType\":\"DOM\",\"type\":\"node\",\"instanceArgs\":{\"namespace\":\"html\",\"tag\":\"div\"},\"children\":[{\"props\":{},\"nodeType\":\"Scope\",\"type\":\"node\",\"instanceArgs\":{\"imports\":{\"data\":[{\"name\":\"knockout\",\"type\":\"js\",\"url\":\"\\/assetserver\\/7adbe83fac1553325d6e718d595ab555e1cabbe4-knockout.js\"},{\"name\":\"knockout_punches\",\"type\":\"js\",\"url\":\"\\/assetserver\\/cec8c4de011abc05b545afbaaea4bb4465a1f168-knockout_punches.js\"},{\"name\":null,\"type\":\"js\",\"url\":\"\\/assetserver\\/5ddeec2b33e792dac4326b9b8929eb841863a558-all.js\"},{\"name\":null,\"type\":\"css\",\"url\":\"\\/assetserver\\/a04b7b754438af5b294cd7f1d762c01dae6fade5-style.css\"},{\"name\":null,\"type\":\"css\",\"url\":\"\\/assetserver\\/50b13cf07303023836f4115fe93a8fe3eca4721a-bulma_confined.min.css\"}],\"type\":\"async_block\"},\"id\":\"639515942126972549\",\"handlers\":{\"options_js\":[\"(function (val){return (val!=this.model[\\\"options_js\\\"]()) ? (this.valueFromJulia[\\\"options_js\\\"]=true, this.model[\\\"options_js\\\"](val)) : undefined})\"],\"index\":[\"(function (val){return (val!=this.model[\\\"index\\\"]()) ? (this.valueFromJulia[\\\"index\\\"]=true, this.model[\\\"index\\\"](val)) : undefined})\"]},\"systemjs_options\":null,\"mount_callbacks\":[\"function () {\\n    var handler = (function (ko, koPunches) {\\n    ko.punches.enableAll();\\n    ko.bindingHandlers.numericValue = {\\n        init: function(element, valueAccessor, allBindings, data, context) {\\n            var stringified = ko.observable(ko.unwrap(valueAccessor()));\\n            stringified.subscribe(function(value) {\\n                var val = parseFloat(value);\\n                if (!isNaN(val)) {\\n                    valueAccessor()(val);\\n                }\\n            });\\n            valueAccessor().subscribe(function(value) {\\n                var str = JSON.stringify(value);\\n                if ((str == \\\"0\\\") && ([\\\"-0\\\", \\\"-0.\\\"].indexOf(stringified()) >= 0))\\n                     return;\\n                 if ([\\\"null\\\", \\\"\\\"].indexOf(str) >= 0)\\n                     return;\\n                stringified(str);\\n            });\\n            ko.applyBindingsToNode(\\n                element,\\n                {\\n                    value: stringified,\\n                    valueUpdate: allBindings.get('valueUpdate'),\\n                },\\n                context,\\n            );\\n        }\\n    };\\n    var json_data = {\\\"options_js\\\":WebIO.getval({\\\"name\\\":\\\"options_js\\\",\\\"scope\\\":\\\"639515942126972549\\\",\\\"id\\\":\\\"10173941480902858049\\\",\\\"type\\\":\\\"observable\\\"}),\\\"index\\\":WebIO.getval({\\\"name\\\":\\\"index\\\",\\\"scope\\\":\\\"639515942126972549\\\",\\\"id\\\":\\\"8735275560905044657\\\",\\\"type\\\":\\\"observable\\\"})};\\n    var self = this;\\n    function AppViewModel() {\\n        for (var key in json_data) {\\n            var el = json_data[key];\\n            this[key] = Array.isArray(el) ? ko.observableArray(el) : ko.observable(el);\\n        }\\n        [this[\\\"update\\\"]=function (val) {this.index(val)}]\\n        \\n        [this[\\\"options_js\\\"].subscribe((function (val){!(this.valueFromJulia[\\\"options_js\\\"]) ? (WebIO.setval({\\\"name\\\":\\\"options_js\\\",\\\"scope\\\":\\\"639515942126972549\\\",\\\"id\\\":\\\"10173941480902858049\\\",\\\"type\\\":\\\"observable\\\"},val)) : undefined; return this.valueFromJulia[\\\"options_js\\\"]=false}),self),this[\\\"index\\\"].subscribe((function (val){!(this.valueFromJulia[\\\"index\\\"]) ? (WebIO.setval({\\\"name\\\":\\\"index\\\",\\\"scope\\\":\\\"639515942126972549\\\",\\\"id\\\":\\\"8735275560905044657\\\",\\\"type\\\":\\\"observable\\\"},val)) : undefined; return this.valueFromJulia[\\\"index\\\"]=false}),self)]\\n        \\n    }\\n    self.model = new AppViewModel();\\n    self.valueFromJulia = {};\\n    for (var key in json_data) {\\n        self.valueFromJulia[key] = false;\\n    }\\n    ko.applyBindings(self.model, self.dom);\\n}\\n);\\n    (WebIO.importBlock({\\\"data\\\":[{\\\"name\\\":\\\"knockout\\\",\\\"type\\\":\\\"js\\\",\\\"url\\\":\\\"\\/assetserver\\/7adbe83fac1553325d6e718d595ab555e1cabbe4-knockout.js\\\"},{\\\"name\\\":\\\"knockout_punches\\\",\\\"type\\\":\\\"js\\\",\\\"url\\\":\\\"\\/assetserver\\/cec8c4de011abc05b545afbaaea4bb4465a1f168-knockout_punches.js\\\"}],\\\"type\\\":\\\"async_block\\\"})).then((imports) => handler.apply(this, imports));\\n}\\n\"],\"observables\":{\"options_js\":{\"sync\":false,\"id\":\"10173941480902858049\",\"value\":[{\"key\":\"Actuals\",\"val\":1,\"id\":\"idDW4KzHcz\"},{\"key\":\"Budget\",\"val\":2,\"id\":\"idlEm2XJ9P\"}]},\"index\":{\"sync\":true,\"id\":\"8735275560905044657\",\"value\":1}}},\"children\":[{\"props\":{\"className\":\"interact-flex-row interact-widget\"},\"nodeType\":\"DOM\",\"type\":\"node\",\"instanceArgs\":{\"namespace\":\"html\",\"tag\":\"div\"},\"children\":[{\"props\":{\"className\":\"interact-flex-row-left\"},\"nodeType\":\"DOM\",\"type\":\"node\",\"instanceArgs\":{\"namespace\":\"html\",\"tag\":\"div\"},\"children\":[{\"props\":{\"className\":\"interact \",\"style\":{\"padding\":\"5px 10px 0px 10px\"}},\"nodeType\":\"DOM\",\"type\":\"node\",\"instanceArgs\":{\"namespace\":\"html\",\"tag\":\"label\"},\"children\":[\"ld\"]}]},{\"props\":{\"className\":\"interact-flex-row-center\"},\"nodeType\":\"DOM\",\"type\":\"node\",\"instanceArgs\":{\"namespace\":\"html\",\"tag\":\"div\"},\"children\":[{\"props\":{\"attributes\":{\"data-bind\":\"foreach : options_js\"},\"className\":\"buttons has-addons is-centered\"},\"nodeType\":\"DOM\",\"type\":\"node\",\"instanceArgs\":{\"namespace\":\"html\",\"tag\":\"div\"},\"children\":[{\"props\":{\"attributes\":{\"data-bind\":\"click: function (){$root.update(val)}, css: {'is-primary is-selected' : $root.index() == val, 'interact-widget is-medium button ' : true}\"}},\"nodeType\":\"DOM\",\"type\":\"node\",\"instanceArgs\":{\"namespace\":\"html\",\"tag\":\"span\"},\"children\":[{\"props\":{\"attributes\":{\"data-bind\":\"text : key\"}},\"nodeType\":\"DOM\",\"type\":\"node\",\"instanceArgs\":{\"namespace\":\"html\",\"tag\":\"label\"},\"children\":[]}]}]}]},{\"props\":{\"className\":\"interact-flex-row-right\"},\"nodeType\":\"DOM\",\"type\":\"node\",\"instanceArgs\":{\"namespace\":\"html\",\"tag\":\"div\"},\"children\":[{\"props\":{},\"nodeType\":\"DOM\",\"type\":\"node\",\"instanceArgs\":{\"namespace\":\"html\",\"tag\":\"div\"},\"children\":[]}]}]}]}]},{\"props\":{\"className\":\"interact-widget\"},\"nodeType\":\"DOM\",\"type\":\"node\",\"instanceArgs\":{\"namespace\":\"html\",\"tag\":\"div\"},\"children\":[{\"props\":{},\"nodeType\":\"Scope\",\"type\":\"node\",\"instanceArgs\":{\"imports\":{\"data\":[{\"name\":\"knockout\",\"type\":\"js\",\"url\":\"\\/assetserver\\/7adbe83fac1553325d6e718d595ab555e1cabbe4-knockout.js\"},{\"name\":\"knockout_punches\",\"type\":\"js\",\"url\":\"\\/assetserver\\/cec8c4de011abc05b545afbaaea4bb4465a1f168-knockout_punches.js\"},{\"name\":null,\"type\":\"js\",\"url\":\"\\/assetserver\\/5ddeec2b33e792dac4326b9b8929eb841863a558-all.js\"},{\"name\":null,\"type\":\"css\",\"url\":\"\\/assetserver\\/a04b7b754438af5b294cd7f1d762c01dae6fade5-style.css\"},{\"name\":null,\"type\":\"css\",\"url\":\"\\/assetserver\\/50b13cf07303023836f4115fe93a8fe3eca4721a-bulma_confined.min.css\"}],\"type\":\"async_block\"},\"id\":\"5031890283094413058\",\"handlers\":{\"options_js\":[\"(function (val){return (val!=this.model[\\\"options_js\\\"]()) ? (this.valueFromJulia[\\\"options_js\\\"]=true, this.model[\\\"options_js\\\"](val)) : undefined})\"],\"index\":[\"(function (val){return (val!=this.model[\\\"index\\\"]()) ? (this.valueFromJulia[\\\"index\\\"]=true, this.model[\\\"index\\\"](val)) : undefined})\"]},\"systemjs_options\":null,\"mount_callbacks\":[\"function () {\\n    var handler = (function (ko, koPunches) {\\n    ko.punches.enableAll();\\n    ko.bindingHandlers.numericValue = {\\n        init: function(element, valueAccessor, allBindings, data, context) {\\n            var stringified = ko.observable(ko.unwrap(valueAccessor()));\\n            stringified.subscribe(function(value) {\\n                var val = parseFloat(value);\\n                if (!isNaN(val)) {\\n                    valueAccessor()(val);\\n                }\\n            });\\n            valueAccessor().subscribe(function(value) {\\n                var str = JSON.stringify(value);\\n                if ((str == \\\"0\\\") && ([\\\"-0\\\", \\\"-0.\\\"].indexOf(stringified()) >= 0))\\n                     return;\\n                 if ([\\\"null\\\", \\\"\\\"].indexOf(str) >= 0)\\n                     return;\\n                stringified(str);\\n            });\\n            ko.applyBindingsToNode(\\n                element,\\n                {\\n                    value: stringified,\\n                    valueUpdate: allBindings.get('valueUpdate'),\\n                },\\n                context,\\n            );\\n        }\\n    };\\n    var json_data = {\\\"options_js\\\":WebIO.getval({\\\"name\\\":\\\"options_js\\\",\\\"scope\\\":\\\"5031890283094413058\\\",\\\"id\\\":\\\"165140332505002540\\\",\\\"type\\\":\\\"observable\\\"}),\\\"index\\\":WebIO.getval({\\\"name\\\":\\\"index\\\",\\\"scope\\\":\\\"5031890283094413058\\\",\\\"id\\\":\\\"8176912329501050652\\\",\\\"type\\\":\\\"observable\\\"})};\\n    var self = this;\\n    function AppViewModel() {\\n        for (var key in json_data) {\\n            var el = json_data[key];\\n            this[key] = Array.isArray(el) ? ko.observableArray(el) : ko.observable(el);\\n        }\\n        [this[\\\"update\\\"]=function (val) {this.index(val)}]\\n        \\n        [this[\\\"options_js\\\"].subscribe((function (val){!(this.valueFromJulia[\\\"options_js\\\"]) ? (WebIO.setval({\\\"name\\\":\\\"options_js\\\",\\\"scope\\\":\\\"5031890283094413058\\\",\\\"id\\\":\\\"165140332505002540\\\",\\\"type\\\":\\\"observable\\\"},val)) : undefined; return this.valueFromJulia[\\\"options_js\\\"]=false}),self),this[\\\"index\\\"].subscribe((function (val){!(this.valueFromJulia[\\\"index\\\"]) ? (WebIO.setval({\\\"name\\\":\\\"index\\\",\\\"scope\\\":\\\"5031890283094413058\\\",\\\"id\\\":\\\"8176912329501050652\\\",\\\"type\\\":\\\"observable\\\"},val)) : undefined; return this.valueFromJulia[\\\"index\\\"]=false}),self)]\\n        \\n    }\\n    self.model = new AppViewModel();\\n    self.valueFromJulia = {};\\n    for (var key in json_data) {\\n        self.valueFromJulia[key] = false;\\n    }\\n    ko.applyBindings(self.model, self.dom);\\n}\\n);\\n    (WebIO.importBlock({\\\"data\\\":[{\\\"name\\\":\\\"knockout\\\",\\\"type\\\":\\\"js\\\",\\\"url\\\":\\\"\\/assetserver\\/7adbe83fac1553325d6e718d595ab555e1cabbe4-knockout.js\\\"},{\\\"name\\\":\\\"knockout_punches\\\",\\\"type\\\":\\\"js\\\",\\\"url\\\":\\\"\\/assetserver\\/cec8c4de011abc05b545afbaaea4bb4465a1f168-knockout_punches.js\\\"}],\\\"type\\\":\\\"async_block\\\"})).then((imports) => handler.apply(this, imports));\\n}\\n\"],\"observables\":{\"options_js\":{\"sync\":false,\"id\":\"165140332505002540\",\"value\":[{\"key\":\"Region B\",\"val\":1,\"id\":\"id7VR4tUTP\"},{\"key\":\"Region C\",\"val\":2,\"id\":\"idfhkU3oNz\"},{\"key\":\"Region A\",\"val\":3,\"id\":\"idaG6o53sc\"}]},\"index\":{\"sync\":true,\"id\":\"8176912329501050652\",\"value\":1}}},\"children\":[{\"props\":{\"className\":\"interact-flex-row interact-widget\"},\"nodeType\":\"DOM\",\"type\":\"node\",\"instanceArgs\":{\"namespace\":\"html\",\"tag\":\"div\"},\"children\":[{\"props\":{\"className\":\"interact-flex-row-left\"},\"nodeType\":\"DOM\",\"type\":\"node\",\"instanceArgs\":{\"namespace\":\"html\",\"tag\":\"div\"},\"children\":[{\"props\":{\"className\":\"interact \",\"style\":{\"padding\":\"5px 10px 0px 10px\"}},\"nodeType\":\"DOM\",\"type\":\"node\",\"instanceArgs\":{\"namespace\":\"html\",\"tag\":\"label\"},\"children\":[\"rg\"]}]},{\"props\":{\"className\":\"interact-flex-row-center\"},\"nodeType\":\"DOM\",\"type\":\"node\",\"instanceArgs\":{\"namespace\":\"html\",\"tag\":\"div\"},\"children\":[{\"props\":{\"attributes\":{\"data-bind\":\"foreach : options_js\"},\"className\":\"buttons has-addons is-centered\"},\"nodeType\":\"DOM\",\"type\":\"node\",\"instanceArgs\":{\"namespace\":\"html\",\"tag\":\"div\"},\"children\":[{\"props\":{\"attributes\":{\"data-bind\":\"click: function (){$root.update(val)}, css: {'is-primary is-selected' : $root.index() == val, 'interact-widget is-medium button ' : true}\"}},\"nodeType\":\"DOM\",\"type\":\"node\",\"instanceArgs\":{\"namespace\":\"html\",\"tag\":\"span\"},\"children\":[{\"props\":{\"attributes\":{\"data-bind\":\"text : key\"}},\"nodeType\":\"DOM\",\"type\":\"node\",\"instanceArgs\":{\"namespace\":\"html\",\"tag\":\"label\"},\"children\":[]}]}]}]},{\"props\":{\"className\":\"interact-flex-row-right\"},\"nodeType\":\"DOM\",\"type\":\"node\",\"instanceArgs\":{\"namespace\":\"html\",\"tag\":\"div\"},\"children\":[{\"props\":{},\"nodeType\":\"DOM\",\"type\":\"node\",\"instanceArgs\":{\"namespace\":\"html\",\"tag\":\"div\"},\"children\":[]}]}]}]}]},{\"props\":{\"className\":\"field interact-widget\"},\"nodeType\":\"DOM\",\"type\":\"node\",\"instanceArgs\":{\"namespace\":\"html\",\"tag\":\"div\"},\"children\":[{\"props\":{},\"nodeType\":\"Scope\",\"type\":\"node\",\"instanceArgs\":{\"imports\":{\"data\":[{\"name\":\"knockout\",\"type\":\"js\",\"url\":\"\\/assetserver\\/7adbe83fac1553325d6e718d595ab555e1cabbe4-knockout.js\"},{\"name\":\"knockout_punches\",\"type\":\"js\",\"url\":\"\\/assetserver\\/cec8c4de011abc05b545afbaaea4bb4465a1f168-knockout_punches.js\"},{\"name\":null,\"type\":\"js\",\"url\":\"\\/assetserver\\/5ddeec2b33e792dac4326b9b8929eb841863a558-all.js\"},{\"name\":null,\"type\":\"css\",\"url\":\"\\/assetserver\\/a04b7b754438af5b294cd7f1d762c01dae6fade5-style.css\"},{\"name\":null,\"type\":\"css\",\"url\":\"\\/assetserver\\/50b13cf07303023836f4115fe93a8fe3eca4721a-bulma_confined.min.css\"}],\"type\":\"async_block\"},\"id\":\"17389559504321148989\",\"handlers\":{\"changes\":[\"(function (val){return (val!=this.model[\\\"changes\\\"]()) ? (this.valueFromJulia[\\\"changes\\\"]=true, this.model[\\\"changes\\\"](val)) : undefined})\"],\"index\":[\"(function (val){return (val!=this.model[\\\"index\\\"]()) ? (this.valueFromJulia[\\\"index\\\"]=true, this.model[\\\"index\\\"](val)) : undefined})\"]},\"systemjs_options\":null,\"mount_callbacks\":[\"function () {\\n    var handler = (function (ko, koPunches) {\\n    ko.punches.enableAll();\\n    ko.bindingHandlers.numericValue = {\\n        init: function(element, valueAccessor, allBindings, data, context) {\\n            var stringified = ko.observable(ko.unwrap(valueAccessor()));\\n            stringified.subscribe(function(value) {\\n                var val = parseFloat(value);\\n                if (!isNaN(val)) {\\n                    valueAccessor()(val);\\n                }\\n            });\\n            valueAccessor().subscribe(function(value) {\\n                var str = JSON.stringify(value);\\n                if ((str == \\\"0\\\") && ([\\\"-0\\\", \\\"-0.\\\"].indexOf(stringified()) >= 0))\\n                     return;\\n                 if ([\\\"null\\\", \\\"\\\"].indexOf(str) >= 0)\\n                     return;\\n                stringified(str);\\n            });\\n            ko.applyBindingsToNode(\\n                element,\\n                {\\n                    value: stringified,\\n                    valueUpdate: allBindings.get('valueUpdate'),\\n                },\\n                context,\\n            );\\n        }\\n    };\\n    var json_data = {\\\"formatted_vals\\\":[\\\"2020\\\",\\\"2021\\\",\\\"2022\\\"],\\\"changes\\\":WebIO.getval({\\\"name\\\":\\\"changes\\\",\\\"scope\\\":\\\"17389559504321148989\\\",\\\"id\\\":\\\"6274068452279879643\\\",\\\"type\\\":\\\"observable\\\"}),\\\"index\\\":WebIO.getval({\\\"name\\\":\\\"index\\\",\\\"scope\\\":\\\"17389559504321148989\\\",\\\"id\\\":\\\"14551243121617628149\\\",\\\"type\\\":\\\"observable\\\"})};\\n    var self = this;\\n    function AppViewModel() {\\n        for (var key in json_data) {\\n            var el = json_data[key];\\n            this[key] = Array.isArray(el) ? ko.observableArray(el) : ko.observable(el);\\n        }\\n        \\n        [this[\\\"formatted_val\\\"]=ko.computed(    function(){\\n        return this.formatted_vals()[parseInt(this.index())-(1)];\\n    }\\n,this)]\\n        [this[\\\"changes\\\"].subscribe((function (val){!(this.valueFromJulia[\\\"changes\\\"]) ? (WebIO.setval({\\\"name\\\":\\\"changes\\\",\\\"scope\\\":\\\"17389559504321148989\\\",\\\"id\\\":\\\"6274068452279879643\\\",\\\"type\\\":\\\"observable\\\"},val)) : undefined; return this.valueFromJulia[\\\"changes\\\"]=false}),self),this[\\\"index\\\"].subscribe((function (val){!(this.valueFromJulia[\\\"index\\\"]) ? (WebIO.setval({\\\"name\\\":\\\"index\\\",\\\"scope\\\":\\\"17389559504321148989\\\",\\\"id\\\":\\\"14551243121617628149\\\",\\\"type\\\":\\\"observable\\\"},val)) : undefined; return this.valueFromJulia[\\\"index\\\"]=false}),self)]\\n        \\n    }\\n    self.model = new AppViewModel();\\n    self.valueFromJulia = {};\\n    for (var key in json_data) {\\n        self.valueFromJulia[key] = false;\\n    }\\n    ko.applyBindings(self.model, self.dom);\\n}\\n);\\n    (WebIO.importBlock({\\\"data\\\":[{\\\"name\\\":\\\"knockout\\\",\\\"type\\\":\\\"js\\\",\\\"url\\\":\\\"\\/assetserver\\/7adbe83fac1553325d6e718d595ab555e1cabbe4-knockout.js\\\"},{\\\"name\\\":\\\"knockout_punches\\\",\\\"type\\\":\\\"js\\\",\\\"url\\\":\\\"\\/assetserver\\/cec8c4de011abc05b545afbaaea4bb4465a1f168-knockout_punches.js\\\"}],\\\"type\\\":\\\"async_block\\\"})).then((imports) => handler.apply(this, imports));\\n}\\n\"],\"observables\":{\"changes\":{\"sync\":false,\"id\":\"6274068452279879643\",\"value\":0},\"index\":{\"sync\":true,\"id\":\"14551243121617628149\",\"value\":2}}},\"children\":[{\"props\":{\"className\":\"interact-flex-row interact-widget\"},\"nodeType\":\"DOM\",\"type\":\"node\",\"instanceArgs\":{\"namespace\":\"html\",\"tag\":\"div\"},\"children\":[{\"props\":{\"className\":\"interact-flex-row-left\"},\"nodeType\":\"DOM\",\"type\":\"node\",\"instanceArgs\":{\"namespace\":\"html\",\"tag\":\"div\"},\"children\":[{\"props\":{\"className\":\"interact \",\"style\":{\"padding\":\"5px 10px 0px 10px\"}},\"nodeType\":\"DOM\",\"type\":\"node\",\"instanceArgs\":{\"namespace\":\"html\",\"tag\":\"label\"},\"children\":[\"\"]}]},{\"props\":{\"className\":\"interact-flex-row-center\"},\"nodeType\":\"DOM\",\"type\":\"node\",\"instanceArgs\":{\"namespace\":\"html\",\"tag\":\"div\"},\"children\":[{\"props\":{\"max\":3,\"min\":1,\"attributes\":{\"type\":\"range\",\"data-bind\":\"numericValue: index, valueUpdate: 'input', event: {change: function (){this.changes(this.changes()+1)}}\",\"orient\":\"horizontal\"},\"step\":1,\"className\":\"slider slider is-fullwidth\",\"style\":{}},\"nodeType\":\"DOM\",\"type\":\"node\",\"instanceArgs\":{\"namespace\":\"html\",\"tag\":\"input\"},\"children\":[]}]},{\"props\":{\"className\":\"interact-flex-row-right\"},\"nodeType\":\"DOM\",\"type\":\"node\",\"instanceArgs\":{\"namespace\":\"html\",\"tag\":\"div\"},\"children\":[{\"props\":{\"attributes\":{\"data-bind\":\"text: formatted_val\"}},\"nodeType\":\"DOM\",\"type\":\"node\",\"instanceArgs\":{\"namespace\":\"html\",\"tag\":\"p\"},\"children\":[]}]}]}]}]},{\"props\":{\"className\":\"field interact-widget\"},\"nodeType\":\"DOM\",\"type\":\"node\",\"instanceArgs\":{\"namespace\":\"html\",\"tag\":\"div\"},\"children\":[{\"props\":{},\"nodeType\":\"Scope\",\"type\":\"node\",\"instanceArgs\":{\"imports\":{\"data\":[{\"name\":\"knockout\",\"type\":\"js\",\"url\":\"\\/assetserver\\/7adbe83fac1553325d6e718d595ab555e1cabbe4-knockout.js\"},{\"name\":\"knockout_punches\",\"type\":\"js\",\"url\":\"\\/assetserver\\/cec8c4de011abc05b545afbaaea4bb4465a1f168-knockout_punches.js\"},{\"name\":null,\"type\":\"js\",\"url\":\"\\/assetserver\\/5ddeec2b33e792dac4326b9b8929eb841863a558-all.js\"},{\"name\":null,\"type\":\"css\",\"url\":\"\\/assetserver\\/a04b7b754438af5b294cd7f1d762c01dae6fade5-style.css\"},{\"name\":null,\"type\":\"css\",\"url\":\"\\/assetserver\\/50b13cf07303023836f4115fe93a8fe3eca4721a-bulma_confined.min.css\"}],\"type\":\"async_block\"},\"id\":\"2664446521799303145\",\"handlers\":{\"changes\":[\"(function (val){return (val!=this.model[\\\"changes\\\"]()) ? (this.valueFromJulia[\\\"changes\\\"]=true, this.model[\\\"changes\\\"](val)) : undefined})\"],\"index\":[\"(function (val){return (val!=this.model[\\\"index\\\"]()) ? (this.valueFromJulia[\\\"index\\\"]=true, this.model[\\\"index\\\"](val)) : undefined})\"]},\"systemjs_options\":null,\"mount_callbacks\":[\"function () {\\n    var handler = (function (ko, koPunches) {\\n    ko.punches.enableAll();\\n    ko.bindingHandlers.numericValue = {\\n        init: function(element, valueAccessor, allBindings, data, context) {\\n            var stringified = ko.observable(ko.unwrap(valueAccessor()));\\n            stringified.subscribe(function(value) {\\n                var val = parseFloat(value);\\n                if (!isNaN(val)) {\\n                    valueAccessor()(val);\\n                }\\n            });\\n            valueAccessor().subscribe(function(value) {\\n                var str = JSON.stringify(value);\\n                if ((str == \\\"0\\\") && ([\\\"-0\\\", \\\"-0.\\\"].indexOf(stringified()) >= 0))\\n                     return;\\n                 if ([\\\"null\\\", \\\"\\\"].indexOf(str) >= 0)\\n                     return;\\n                stringified(str);\\n            });\\n            ko.applyBindingsToNode(\\n                element,\\n                {\\n                    value: stringified,\\n                    valueUpdate: allBindings.get('valueUpdate'),\\n                },\\n                context,\\n            );\\n        }\\n    };\\n    var json_data = {\\\"formatted_vals\\\":[\\\"1\\\",\\\"2\\\",\\\"3\\\",\\\"4\\\"],\\\"changes\\\":WebIO.getval({\\\"name\\\":\\\"changes\\\",\\\"scope\\\":\\\"2664446521799303145\\\",\\\"id\\\":\\\"2266873914685363357\\\",\\\"type\\\":\\\"observable\\\"}),\\\"index\\\":WebIO.getval({\\\"name\\\":\\\"index\\\",\\\"scope\\\":\\\"2664446521799303145\\\",\\\"id\\\":\\\"1457493643126691826\\\",\\\"type\\\":\\\"observable\\\"})};\\n    var self = this;\\n    function AppViewModel() {\\n        for (var key in json_data) {\\n            var el = json_data[key];\\n            this[key] = Array.isArray(el) ? ko.observableArray(el) : ko.observable(el);\\n        }\\n        \\n        [this[\\\"formatted_val\\\"]=ko.computed(    function(){\\n        return this.formatted_vals()[parseInt(this.index())-(1)];\\n    }\\n,this)]\\n        [this[\\\"changes\\\"].subscribe((function (val){!(this.valueFromJulia[\\\"changes\\\"]) ? (WebIO.setval({\\\"name\\\":\\\"changes\\\",\\\"scope\\\":\\\"2664446521799303145\\\",\\\"id\\\":\\\"2266873914685363357\\\",\\\"type\\\":\\\"observable\\\"},val)) : undefined; return this.valueFromJulia[\\\"changes\\\"]=false}),self),this[\\\"index\\\"].subscribe((function (val){!(this.valueFromJulia[\\\"index\\\"]) ? (WebIO.setval({\\\"name\\\":\\\"index\\\",\\\"scope\\\":\\\"2664446521799303145\\\",\\\"id\\\":\\\"1457493643126691826\\\",\\\"type\\\":\\\"observable\\\"},val)) : undefined; return this.valueFromJulia[\\\"index\\\"]=false}),self)]\\n        \\n    }\\n    self.model = new AppViewModel();\\n    self.valueFromJulia = {};\\n    for (var key in json_data) {\\n        self.valueFromJulia[key] = false;\\n    }\\n    ko.applyBindings(self.model, self.dom);\\n}\\n);\\n    (WebIO.importBlock({\\\"data\\\":[{\\\"name\\\":\\\"knockout\\\",\\\"type\\\":\\\"js\\\",\\\"url\\\":\\\"\\/assetserver\\/7adbe83fac1553325d6e718d595ab555e1cabbe4-knockout.js\\\"},{\\\"name\\\":\\\"knockout_punches\\\",\\\"type\\\":\\\"js\\\",\\\"url\\\":\\\"\\/assetserver\\/cec8c4de011abc05b545afbaaea4bb4465a1f168-knockout_punches.js\\\"}],\\\"type\\\":\\\"async_block\\\"})).then((imports) => handler.apply(this, imports));\\n}\\n\"],\"observables\":{\"changes\":{\"sync\":false,\"id\":\"2266873914685363357\",\"value\":0},\"index\":{\"sync\":true,\"id\":\"1457493643126691826\",\"value\":2}}},\"children\":[{\"props\":{\"className\":\"interact-flex-row interact-widget\"},\"nodeType\":\"DOM\",\"type\":\"node\",\"instanceArgs\":{\"namespace\":\"html\",\"tag\":\"div\"},\"children\":[{\"props\":{\"className\":\"interact-flex-row-left\"},\"nodeType\":\"DOM\",\"type\":\"node\",\"instanceArgs\":{\"namespace\":\"html\",\"tag\":\"div\"},\"children\":[{\"props\":{\"className\":\"interact \",\"style\":{\"padding\":\"5px 10px 0px 10px\"}},\"nodeType\":\"DOM\",\"type\":\"node\",\"instanceArgs\":{\"namespace\":\"html\",\"tag\":\"label\"},\"children\":[\"qtr\"]}]},{\"props\":{\"className\":\"interact-flex-row-center\"},\"nodeType\":\"DOM\",\"type\":\"node\",\"instanceArgs\":{\"namespace\":\"html\",\"tag\":\"div\"},\"children\":[{\"props\":{\"max\":4,\"min\":1,\"attributes\":{\"type\":\"range\",\"data-bind\":\"numericValue: index, valueUpdate: 'input', event: {change: function (){this.changes(this.changes()+1)}}\",\"orient\":\"horizontal\"},\"step\":1,\"className\":\"slider slider is-fullwidth\",\"style\":{}},\"nodeType\":\"DOM\",\"type\":\"node\",\"instanceArgs\":{\"namespace\":\"html\",\"tag\":\"input\"},\"children\":[]}]},{\"props\":{\"className\":\"interact-flex-row-right\"},\"nodeType\":\"DOM\",\"type\":\"node\",\"instanceArgs\":{\"namespace\":\"html\",\"tag\":\"div\"},\"children\":[{\"props\":{\"attributes\":{\"data-bind\":\"text: formatted_val\"}},\"nodeType\":\"DOM\",\"type\":\"node\",\"instanceArgs\":{\"namespace\":\"html\",\"tag\":\"p\"},\"children\":[]}]}]}]}]},{\"props\":{},\"nodeType\":\"Scope\",\"type\":\"node\",\"instanceArgs\":{\"imports\":{\"data\":[],\"type\":\"async_block\"},\"id\":\"8203153039814863843\",\"handlers\":{},\"systemjs_options\":null,\"mount_callbacks\":[],\"observables\":{\"obs-node\":{\"sync\":false,\"id\":\"6183399349512809316\",\"value\":{\"props\":{\"className\":\"interact-flex-row interact-widget\"},\"nodeType\":\"DOM\",\"type\":\"node\",\"instanceArgs\":{\"namespace\":\"html\",\"tag\":\"div\"},\"children\":[{\"props\":{\"setInnerHtml\":\"<div class=\\\"data-frame\\\"><p>420 rows × 7 columns<\\/p><table class=\\\"data-frame\\\"><thead><tr><th><\\/th><th>Org<\\/th><th>FY<\\/th><th>Qtr<\\/th><th>Accounts<\\/th><th>Dept<\\/th><th>Loc<\\/th><th>TOTAL<\\/th><\\/tr><tr><th><\\/th><th title=\\\"String\\\">String<\\/th><th title=\\\"Int64\\\">Int64<\\/th><th title=\\\"Int64\\\">Int64<\\/th><th title=\\\"String\\\">String<\\/th><th title=\\\"String\\\">String<\\/th><th title=\\\"String\\\">String<\\/th><th title=\\\"String\\\">String<\\/th><\\/tr><\\/thead><tbody><tr><th>1<\\/th><td>Region B<\\/td><td>2021<\\/td><td>2<\\/td><td>ASSETS<\\/td><td>BUSINESS<\\/td><td>Chicago<\\/td><td>USD 2927.75 million<\\/td><\\/tr><tr><th>2<\\/th><td>Region B<\\/td><td>2021<\\/td><td>2<\\/td><td>ASSETS<\\/td><td>IT<\\/td><td>Kansas City<\\/td><td>USD 3679.04 million<\\/td><\\/tr><tr><th>3<\\/th><td>Region B<\\/td><td>2021<\\/td><td>2<\\/td><td>LIABILITIES<\\/td><td>HR<\\/td><td>Boston<\\/td><td>USD 3366.97 million<\\/td><\\/tr><tr><th>4<\\/th><td>Region B<\\/td><td>2021<\\/td><td>2<\\/td><td>LIABILITIES<\\/td><td>HR<\\/td><td>Kansas City<\\/td><td>USD 4426.61 million<\\/td><\\/tr><tr><th>5<\\/th><td>Region B<\\/td><td>2021<\\/td><td>2<\\/td><td>ASSETS<\\/td><td>IT<\\/td><td>Boston<\\/td><td>USD 3718.08 million<\\/td><\\/tr><tr><th>6<\\/th><td>Region B<\\/td><td>2021<\\/td><td>2<\\/td><td>NET_WORTH<\\/td><td>BUSINESS<\\/td><td>Richmond<\\/td><td>USD 4920.64 million<\\/td><\\/tr><tr><th>7<\\/th><td>Region B<\\/td><td>2021<\\/td><td>2<\\/td><td>NET_WORTH<\\/td><td>BUSINESS<\\/td><td>Dallas<\\/td><td>USD 4340.47 million<\\/td><\\/tr><tr><th>8<\\/th><td>Region B<\\/td><td>2021<\\/td><td>2<\\/td><td>ASSETS<\\/td><td>HR<\\/td><td>Minneapolis<\\/td><td>USD 4236.49 million<\\/td><\\/tr><tr><th>9<\\/th><td>Region B<\\/td><td>2021<\\/td><td>2<\\/td><td>LIABILITIES<\\/td><td>OTHERS<\\/td><td>Atlanta<\\/td><td>USD 4722.91 million<\\/td><\\/tr><tr><th>10<\\/th><td>Region B<\\/td><td>2021<\\/td><td>2<\\/td><td>STATISTICS<\\/td><td>OTHERS<\\/td><td>Minneapolis<\\/td><td>USD 4006.18 million<\\/td><\\/tr><tr><th>11<\\/th><td>Region B<\\/td><td>2021<\\/td><td>2<\\/td><td>ASSETS<\\/td><td>IT<\\/td><td>New York<\\/td><td>USD 2814.95 million<\\/td><\\/tr><tr><th>12<\\/th><td>Region B<\\/td><td>2021<\\/td><td>2<\\/td><td>NON-OPERATING_EXPENSES<\\/td><td>IT<\\/td><td>San Francisco<\\/td><td>USD 4098.45 million<\\/td><\\/tr><tr><th>13<\\/th><td>Region B<\\/td><td>2021<\\/td><td>2<\\/td><td>REVENUE<\\/td><td>IT<\\/td><td>Kansas City<\\/td><td>USD 4229.35 million<\\/td><\\/tr><tr><th>14<\\/th><td>Region B<\\/td><td>2021<\\/td><td>2<\\/td><td>OPERATING_EXPENSES<\\/td><td>OTHERS<\\/td><td>Philadelphia<\\/td><td>USD 3240.95 million<\\/td><\\/tr><tr><th>15<\\/th><td>Region B<\\/td><td>2021<\\/td><td>2<\\/td><td>ASSETS<\\/td><td>IT<\\/td><td>Minneapolis<\\/td><td>USD 3701.1 million<\\/td><\\/tr><tr><th>16<\\/th><td>Region B<\\/td><td>2021<\\/td><td>2<\\/td><td>REVENUE<\\/td><td>SALES<\\/td><td>Dallas<\\/td><td>USD 4293.15 million<\\/td><\\/tr><tr><th>17<\\/th><td>Region B<\\/td><td>2021<\\/td><td>2<\\/td><td>STATISTICS<\\/td><td>OTHERS<\\/td><td>New York<\\/td><td>USD 3925.28 million<\\/td><\\/tr><tr><th>18<\\/th><td>Region B<\\/td><td>2021<\\/td><td>2<\\/td><td>OPERATING_EXPENSES<\\/td><td>SALES<\\/td><td>Boston<\\/td><td>USD 3734.55 million<\\/td><\\/tr><tr><th>19<\\/th><td>Region B<\\/td><td>2021<\\/td><td>2<\\/td><td>NON-OPERATING_EXPENSES<\\/td><td>IT<\\/td><td>Atlanta<\\/td><td>USD 4193.49 million<\\/td><\\/tr><tr><th>20<\\/th><td>Region B<\\/td><td>2021<\\/td><td>2<\\/td><td>STATISTICS<\\/td><td>BUSINESS<\\/td><td>St. Louis<\\/td><td>USD 4062.65 million<\\/td><\\/tr><tr><th>21<\\/th><td>Region B<\\/td><td>2021<\\/td><td>2<\\/td><td>STATISTICS<\\/td><td>SALES<\\/td><td>Philadelphia<\\/td><td>USD 3704.39 million<\\/td><\\/tr><tr><th>22<\\/th><td>Region B<\\/td><td>2021<\\/td><td>2<\\/td><td>REVENUE<\\/td><td>SALES<\\/td><td>Atlanta<\\/td><td>USD 4514.03 million<\\/td><\\/tr><tr><th>23<\\/th><td>Region B<\\/td><td>2021<\\/td><td>2<\\/td><td>ASSETS<\\/td><td>IT<\\/td><td>St. Louis<\\/td><td>USD 4379.15 million<\\/td><\\/tr><tr><th>24<\\/th><td>Region B<\\/td><td>2021<\\/td><td>2<\\/td><td>REVENUE<\\/td><td>HR<\\/td><td>Kansas City<\\/td><td>USD 3930.82 million<\\/td><\\/tr><tr><th>25<\\/th><td>Region B<\\/td><td>2021<\\/td><td>2<\\/td><td>REVENUE<\\/td><td>HR<\\/td><td>Minneapolis<\\/td><td>USD 3704.31 million<\\/td><\\/tr><tr><th>26<\\/th><td>Region B<\\/td><td>2021<\\/td><td>2<\\/td><td>ASSETS<\\/td><td>OTHERS<\\/td><td>Atlanta<\\/td><td>USD 3886.59 million<\\/td><\\/tr><tr><th>27<\\/th><td>Region B<\\/td><td>2021<\\/td><td>2<\\/td><td>LIABILITIES<\\/td><td>SALES<\\/td><td>Kansas City<\\/td><td>USD 3989.38 million<\\/td><\\/tr><tr><th>28<\\/th><td>Region B<\\/td><td>2021<\\/td><td>2<\\/td><td>LIABILITIES<\\/td><td>BUSINESS<\\/td><td>Chicago<\\/td><td>USD 4094.48 million<\\/td><\\/tr><tr><th>29<\\/th><td>Region B<\\/td><td>2021<\\/td><td>2<\\/td><td>REVENUE<\\/td><td>HR<\\/td><td>Dallas<\\/td><td>USD 4035.68 million<\\/td><\\/tr><tr><th>30<\\/th><td>Region B<\\/td><td>2021<\\/td><td>2<\\/td><td>STATISTICS<\\/td><td>BUSINESS<\\/td><td>Kansas City<\\/td><td>USD 3172.05 million<\\/td><\\/tr><tr><th>31<\\/th><td>Region B<\\/td><td>2021<\\/td><td>2<\\/td><td>NET_WORTH<\\/td><td>IT<\\/td><td>Kansas City<\\/td><td>USD 4517.92 million<\\/td><\\/tr><tr><th>32<\\/th><td>Region B<\\/td><td>2021<\\/td><td>2<\\/td><td>LIABILITIES<\\/td><td>BUSINESS<\\/td><td>Philadelphia<\\/td><td>USD 4014.79 million<\\/td><\\/tr><tr><th>33<\\/th><td>Region B<\\/td><td>2021<\\/td><td>2<\\/td><td>REVENUE<\\/td><td>IT<\\/td><td>Minneapolis<\\/td><td>USD 4380.33 million<\\/td><\\/tr><tr><th>34<\\/th><td>Region B<\\/td><td>2021<\\/td><td>2<\\/td><td>NET_WORTH<\\/td><td>SALES<\\/td><td>St. Louis<\\/td><td>USD 4159.4 million<\\/td><\\/tr><tr><th>35<\\/th><td>Region B<\\/td><td>2021<\\/td><td>2<\\/td><td>NON-OPERATING_EXPENSES<\\/td><td>SALES<\\/td><td>Philadelphia<\\/td><td>USD 3618.04 million<\\/td><\\/tr><tr><th>36<\\/th><td>Region B<\\/td><td>2021<\\/td><td>2<\\/td><td>NET_WORTH<\\/td><td>IT<\\/td><td>New York<\\/td><td>USD 3188.83 million<\\/td><\\/tr><tr><th>37<\\/th><td>Region B<\\/td><td>2021<\\/td><td>2<\\/td><td>NON-OPERATING_EXPENSES<\\/td><td>BUSINESS<\\/td><td>Richmond<\\/td><td>USD 3192.46 million<\\/td><\\/tr><tr><th>38<\\/th><td>Region B<\\/td><td>2021<\\/td><td>2<\\/td><td>OPERATING_EXPENSES<\\/td><td>BUSINESS<\\/td><td>Atlanta<\\/td><td>USD 4143.11 million<\\/td><\\/tr><tr><th>39<\\/th><td>Region B<\\/td><td>2021<\\/td><td>2<\\/td><td>REVENUE<\\/td><td>BUSINESS<\\/td><td>Cleveland<\\/td><td>USD 4254.26 million<\\/td><\\/tr><tr><th>40<\\/th><td>Region B<\\/td><td>2021<\\/td><td>2<\\/td><td>LIABILITIES<\\/td><td>HR<\\/td><td>Dallas<\\/td><td>USD 4102.33 million<\\/td><\\/tr><tr><th>41<\\/th><td>Region B<\\/td><td>2021<\\/td><td>2<\\/td><td>ASSETS<\\/td><td>HR<\\/td><td>Philadelphia<\\/td><td>USD 3531.2 million<\\/td><\\/tr><tr><th>42<\\/th><td>Region B<\\/td><td>2021<\\/td><td>2<\\/td><td>NON-OPERATING_EXPENSES<\\/td><td>BUSINESS<\\/td><td>Chicago<\\/td><td>USD 3963.0 million<\\/td><\\/tr><tr><th>43<\\/th><td>Region B<\\/td><td>2021<\\/td><td>2<\\/td><td>REVENUE<\\/td><td>BUSINESS<\\/td><td>Kansas City<\\/td><td>USD 4124.16 million<\\/td><\\/tr><tr><th>44<\\/th><td>Region B<\\/td><td>2021<\\/td><td>2<\\/td><td>NON-OPERATING_EXPENSES<\\/td><td>SALES<\\/td><td>Dallas<\\/td><td>USD 4416.59 million<\\/td><\\/tr><tr><th>45<\\/th><td>Region B<\\/td><td>2021<\\/td><td>2<\\/td><td>LIABILITIES<\\/td><td>IT<\\/td><td>San Francisco<\\/td><td>USD 4360.83 million<\\/td><\\/tr><tr><th>46<\\/th><td>Region B<\\/td><td>2021<\\/td><td>2<\\/td><td>ASSETS<\\/td><td>HR<\\/td><td>San Francisco<\\/td><td>USD 3434.48 million<\\/td><\\/tr><tr><th>47<\\/th><td>Region B<\\/td><td>2021<\\/td><td>2<\\/td><td>STATISTICS<\\/td><td>BUSINESS<\\/td><td>Chicago<\\/td><td>USD 3537.84 million<\\/td><\\/tr><tr><th>48<\\/th><td>Region B<\\/td><td>2021<\\/td><td>2<\\/td><td>LIABILITIES<\\/td><td>OTHERS<\\/td><td>Richmond<\\/td><td>USD 3276.13 million<\\/td><\\/tr><tr><th>49<\\/th><td>Region B<\\/td><td>2021<\\/td><td>2<\\/td><td>OPERATING_EXPENSES<\\/td><td>BUSINESS<\\/td><td>Cleveland<\\/td><td>USD 3474.11 million<\\/td><\\/tr><tr><th>50<\\/th><td>Region B<\\/td><td>2021<\\/td><td>2<\\/td><td>LIABILITIES<\\/td><td>SALES<\\/td><td>Dallas<\\/td><td>USD 4967.3 million<\\/td><\\/tr><tr><th>51<\\/th><td>Region B<\\/td><td>2021<\\/td><td>2<\\/td><td>NON-OPERATING_EXPENSES<\\/td><td>OTHERS<\\/td><td>Kansas City<\\/td><td>USD 3356.74 million<\\/td><\\/tr><tr><th>52<\\/th><td>Region B<\\/td><td>2021<\\/td><td>2<\\/td><td>LIABILITIES<\\/td><td>OTHERS<\\/td><td>New York<\\/td><td>USD 4319.92 million<\\/td><\\/tr><tr><th>53<\\/th><td>Region B<\\/td><td>2021<\\/td><td>2<\\/td><td>REVENUE<\\/td><td>SALES<\\/td><td>Boston<\\/td><td>USD 3360.4 million<\\/td><\\/tr><tr><th>54<\\/th><td>Region B<\\/td><td>2021<\\/td><td>2<\\/td><td>NON-OPERATING_EXPENSES<\\/td><td>SALES<\\/td><td>Richmond<\\/td><td>USD 3591.01 million<\\/td><\\/tr><tr><th>55<\\/th><td>Region B<\\/td><td>2021<\\/td><td>2<\\/td><td>REVENUE<\\/td><td>HR<\\/td><td>Chicago<\\/td><td>USD 3432.36 million<\\/td><\\/tr><tr><th>56<\\/th><td>Region B<\\/td><td>2021<\\/td><td>2<\\/td><td>ASSETS<\\/td><td>IT<\\/td><td>Richmond<\\/td><td>USD 5079.14 million<\\/td><\\/tr><tr><th>57<\\/th><td>Region B<\\/td><td>2021<\\/td><td>2<\\/td><td>OPERATING_EXPENSES<\\/td><td>IT<\\/td><td>San Francisco<\\/td><td>USD 3240.61 million<\\/td><\\/tr><tr><th>58<\\/th><td>Region B<\\/td><td>2021<\\/td><td>2<\\/td><td>STATISTICS<\\/td><td>BUSINESS<\\/td><td>Boston<\\/td><td>USD 3690.42 million<\\/td><\\/tr><tr><th>59<\\/th><td>Region B<\\/td><td>2021<\\/td><td>2<\\/td><td>OPERATING_EXPENSES<\\/td><td>HR<\\/td><td>Atlanta<\\/td><td>USD 3766.31 million<\\/td><\\/tr><tr><th>60<\\/th><td>Region B<\\/td><td>2021<\\/td><td>2<\\/td><td>NON-OPERATING_EXPENSES<\\/td><td>OTHERS<\\/td><td>Boston<\\/td><td>USD 4688.84 million<\\/td><\\/tr><tr><th>61<\\/th><td>Region B<\\/td><td>2021<\\/td><td>2<\\/td><td>LIABILITIES<\\/td><td>IT<\\/td><td>Kansas City<\\/td><td>USD 4333.98 million<\\/td><\\/tr><tr><th>62<\\/th><td>Region B<\\/td><td>2021<\\/td><td>2<\\/td><td>LIABILITIES<\\/td><td>HR<\\/td><td>Atlanta<\\/td><td>USD 4060.7 million<\\/td><\\/tr><tr><th>63<\\/th><td>Region B<\\/td><td>2021<\\/td><td>2<\\/td><td>NON-OPERATING_EXPENSES<\\/td><td>SALES<\\/td><td>Chicago<\\/td><td>USD 4404.04 million<\\/td><\\/tr><tr><th>64<\\/th><td>Region B<\\/td><td>2021<\\/td><td>2<\\/td><td>LIABILITIES<\\/td><td>SALES<\\/td><td>St. Louis<\\/td><td>USD 3610.67 million<\\/td><\\/tr><tr><th>65<\\/th><td>Region B<\\/td><td>2021<\\/td><td>2<\\/td><td>OPERATING_EXPENSES<\\/td><td>BUSINESS<\\/td><td>Kansas City<\\/td><td>USD 3840.14 million<\\/td><\\/tr><tr><th>66<\\/th><td>Region B<\\/td><td>2021<\\/td><td>2<\\/td><td>OPERATING_EXPENSES<\\/td><td>IT<\\/td><td>Kansas City<\\/td><td>USD 3355.3 million<\\/td><\\/tr><tr><th>67<\\/th><td>Region B<\\/td><td>2021<\\/td><td>2<\\/td><td>OPERATING_EXPENSES<\\/td><td>OTHERS<\\/td><td>St. Louis<\\/td><td>USD 5139.69 million<\\/td><\\/tr><tr><th>68<\\/th><td>Region B<\\/td><td>2021<\\/td><td>2<\\/td><td>LIABILITIES<\\/td><td>BUSINESS<\\/td><td>New York<\\/td><td>USD 3946.96 million<\\/td><\\/tr><tr><th>69<\\/th><td>Region B<\\/td><td>2021<\\/td><td>2<\\/td><td>OPERATING_EXPENSES<\\/td><td>SALES<\\/td><td>Philadelphia<\\/td><td>USD 3656.95 million<\\/td><\\/tr><tr><th>70<\\/th><td>Region B<\\/td><td>2021<\\/td><td>2<\\/td><td>REVENUE<\\/td><td>SALES<\\/td><td>Richmond<\\/td><td>USD 3989.12 million<\\/td><\\/tr><tr><th>71<\\/th><td>Region B<\\/td><td>2021<\\/td><td>2<\\/td><td>NON-OPERATING_EXPENSES<\\/td><td>HR<\\/td><td>Chicago<\\/td><td>USD 3165.89 million<\\/td><\\/tr><tr><th>72<\\/th><td>Region B<\\/td><td>2021<\\/td><td>2<\\/td><td>NET_WORTH<\\/td><td>OTHERS<\\/td><td>Minneapolis<\\/td><td>USD 3946.48 million<\\/td><\\/tr><tr><th>73<\\/th><td>Region B<\\/td><td>2021<\\/td><td>2<\\/td><td>STATISTICS<\\/td><td>BUSINESS<\\/td><td>Dallas<\\/td><td>USD 2846.83 million<\\/td><\\/tr><tr><th>74<\\/th><td>Region B<\\/td><td>2021<\\/td><td>2<\\/td><td>OPERATING_EXPENSES<\\/td><td>OTHERS<\\/td><td>Chicago<\\/td><td>USD 4933.75 million<\\/td><\\/tr><tr><th>75<\\/th><td>Region B<\\/td><td>2021<\\/td><td>2<\\/td><td>REVENUE<\\/td><td>BUSINESS<\\/td><td>Philadelphia<\\/td><td>USD 4336.77 million<\\/td><\\/tr><tr><th>76<\\/th><td>Region B<\\/td><td>2021<\\/td><td>2<\\/td><td>NON-OPERATING_EXPENSES<\\/td><td>HR<\\/td><td>Minneapolis<\\/td><td>USD 3559.91 million<\\/td><\\/tr><tr><th>77<\\/th><td>Region B<\\/td><td>2021<\\/td><td>2<\\/td><td>NET_WORTH<\\/td><td>HR<\\/td><td>Boston<\\/td><td>USD 4441.45 million<\\/td><\\/tr><tr><th>78<\\/th><td>Region B<\\/td><td>2021<\\/td><td>2<\\/td><td>ASSETS<\\/td><td>HR<\\/td><td>Boston<\\/td><td>USD 3936.15 million<\\/td><\\/tr><tr><th>79<\\/th><td>Region B<\\/td><td>2021<\\/td><td>2<\\/td><td>NON-OPERATING_EXPENSES<\\/td><td>OTHERS<\\/td><td>Dallas<\\/td><td>USD 4380.7 million<\\/td><\\/tr><tr><th>80<\\/th><td>Region B<\\/td><td>2021<\\/td><td>2<\\/td><td>NON-OPERATING_EXPENSES<\\/td><td>OTHERS<\\/td><td>Atlanta<\\/td><td>USD 3031.31 million<\\/td><\\/tr><tr><th>81<\\/th><td>Region B<\\/td><td>2021<\\/td><td>2<\\/td><td>NET_WORTH<\\/td><td>SALES<\\/td><td>New York<\\/td><td>USD 4387.21 million<\\/td><\\/tr><tr><th>82<\\/th><td>Region B<\\/td><td>2021<\\/td><td>2<\\/td><td>LIABILITIES<\\/td><td>OTHERS<\\/td><td>Philadelphia<\\/td><td>USD 3716.0 million<\\/td><\\/tr><tr><th>83<\\/th><td>Region B<\\/td><td>2021<\\/td><td>2<\\/td><td>REVENUE<\\/td><td>IT<\\/td><td>San Francisco<\\/td><td>USD 3595.44 million<\\/td><\\/tr><tr><th>84<\\/th><td>Region B<\\/td><td>2021<\\/td><td>2<\\/td><td>LIABILITIES<\\/td><td>IT<\\/td><td>Atlanta<\\/td><td>USD 4550.14 million<\\/td><\\/tr><tr><th>85<\\/th><td>Region B<\\/td><td>2021<\\/td><td>2<\\/td><td>OPERATING_EXPENSES<\\/td><td>SALES<\\/td><td>Kansas City<\\/td><td>USD 3904.91 million<\\/td><\\/tr><tr><th>86<\\/th><td>Region B<\\/td><td>2021<\\/td><td>2<\\/td><td>STATISTICS<\\/td><td>SALES<\\/td><td>Cleveland<\\/td><td>USD 3811.12 million<\\/td><\\/tr><tr><th>87<\\/th><td>Region B<\\/td><td>2021<\\/td><td>2<\\/td><td>ASSETS<\\/td><td>BUSINESS<\\/td><td>San Francisco<\\/td><td>USD 3551.8 million<\\/td><\\/tr><tr><th>88<\\/th><td>Region B<\\/td><td>2021<\\/td><td>2<\\/td><td>LIABILITIES<\\/td><td>BUSINESS<\\/td><td>Cleveland<\\/td><td>USD 4128.36 million<\\/td><\\/tr><tr><th>89<\\/th><td>Region B<\\/td><td>2021<\\/td><td>2<\\/td><td>LIABILITIES<\\/td><td>SALES<\\/td><td>Minneapolis<\\/td><td>USD 3977.95 million<\\/td><\\/tr><tr><th>90<\\/th><td>Region B<\\/td><td>2021<\\/td><td>2<\\/td><td>LIABILITIES<\\/td><td>BUSINESS<\\/td><td>Dallas<\\/td><td>USD 4372.22 million<\\/td><\\/tr><tr><th>91<\\/th><td>Region B<\\/td><td>2021<\\/td><td>2<\\/td><td>NON-OPERATING_EXPENSES<\\/td><td>SALES<\\/td><td>St. Louis<\\/td><td>USD 4446.03 million<\\/td><\\/tr><tr><th>92<\\/th><td>Region B<\\/td><td>2021<\\/td><td>2<\\/td><td>STATISTICS<\\/td><td>OTHERS<\\/td><td>St. Louis<\\/td><td>USD 3688.64 million<\\/td><\\/tr><tr><th>93<\\/th><td>Region B<\\/td><td>2021<\\/td><td>2<\\/td><td>ASSETS<\\/td><td>BUSINESS<\\/td><td>Minneapolis<\\/td><td>USD 3389.76 million<\\/td><\\/tr><tr><th>94<\\/th><td>Region B<\\/td><td>2021<\\/td><td>2<\\/td><td>STATISTICS<\\/td><td>OTHERS<\\/td><td>Chicago<\\/td><td>USD 3580.85 million<\\/td><\\/tr><tr><th>95<\\/th><td>Region B<\\/td><td>2021<\\/td><td>2<\\/td><td>ASSETS<\\/td><td>OTHERS<\\/td><td>Dallas<\\/td><td>USD 3479.14 million<\\/td><\\/tr><tr><th>96<\\/th><td>Region B<\\/td><td>2021<\\/td><td>2<\\/td><td>REVENUE<\\/td><td>IT<\\/td><td>St. Louis<\\/td><td>USD 3169.37 million<\\/td><\\/tr><tr><th>97<\\/th><td>Region B<\\/td><td>2021<\\/td><td>2<\\/td><td>OPERATING_EXPENSES<\\/td><td>OTHERS<\\/td><td>Minneapolis<\\/td><td>USD 3189.43 million<\\/td><\\/tr><tr><th>98<\\/th><td>Region B<\\/td><td>2021<\\/td><td>2<\\/td><td>NON-OPERATING_EXPENSES<\\/td><td>HR<\\/td><td>San Francisco<\\/td><td>USD 4562.48 million<\\/td><\\/tr><tr><th>99<\\/th><td>Region B<\\/td><td>2021<\\/td><td>2<\\/td><td>NON-OPERATING_EXPENSES<\\/td><td>IT<\\/td><td>Cleveland<\\/td><td>USD 3821.77 million<\\/td><\\/tr><tr><th>100<\\/th><td>Region B<\\/td><td>2021<\\/td><td>2<\\/td><td>ASSETS<\\/td><td>SALES<\\/td><td>Chicago<\\/td><td>USD 5198.92 million<\\/td><\\/tr><tr><th>101<\\/th><td>Region B<\\/td><td>2021<\\/td><td>2<\\/td><td>LIABILITIES<\\/td><td>SALES<\\/td><td>Philadelphia<\\/td><td>USD 4950.36 million<\\/td><\\/tr><tr><th>102<\\/th><td>Region B<\\/td><td>2021<\\/td><td>2<\\/td><td>OPERATING_EXPENSES<\\/td><td>BUSINESS<\\/td><td>St. Louis<\\/td><td>USD 3782.8 million<\\/td><\\/tr><tr><th>103<\\/th><td>Region B<\\/td><td>2021<\\/td><td>2<\\/td><td>OPERATING_EXPENSES<\\/td><td>OTHERS<\\/td><td>New York<\\/td><td>USD 3924.49 million<\\/td><\\/tr><tr><th>104<\\/th><td>Region B<\\/td><td>2021<\\/td><td>2<\\/td><td>NON-OPERATING_EXPENSES<\\/td><td>BUSINESS<\\/td><td>Cleveland<\\/td><td>USD 5229.43 million<\\/td><\\/tr><tr><th>105<\\/th><td>Region B<\\/td><td>2021<\\/td><td>2<\\/td><td>NON-OPERATING_EXPENSES<\\/td><td>OTHERS<\\/td><td>Cleveland<\\/td><td>USD 4697.11 million<\\/td><\\/tr><tr><th>106<\\/th><td>Region B<\\/td><td>2021<\\/td><td>2<\\/td><td>LIABILITIES<\\/td><td>SALES<\\/td><td>San Francisco<\\/td><td>USD 2795.71 million<\\/td><\\/tr><tr><th>107<\\/th><td>Region B<\\/td><td>2021<\\/td><td>2<\\/td><td>OPERATING_EXPENSES<\\/td><td>BUSINESS<\\/td><td>Chicago<\\/td><td>USD 3353.08 million<\\/td><\\/tr><tr><th>108<\\/th><td>Region B<\\/td><td>2021<\\/td><td>2<\\/td><td>OPERATING_EXPENSES<\\/td><td>OTHERS<\\/td><td>Dallas<\\/td><td>USD 4196.53 million<\\/td><\\/tr><tr><th>109<\\/th><td>Region B<\\/td><td>2021<\\/td><td>2<\\/td><td>NET_WORTH<\\/td><td>BUSINESS<\\/td><td>Boston<\\/td><td>USD 3265.08 million<\\/td><\\/tr><tr><th>110<\\/th><td>Region B<\\/td><td>2021<\\/td><td>2<\\/td><td>LIABILITIES<\\/td><td>IT<\\/td><td>Minneapolis<\\/td><td>USD 4052.36 million<\\/td><\\/tr><tr><th>111<\\/th><td>Region B<\\/td><td>2021<\\/td><td>2<\\/td><td>REVENUE<\\/td><td>OTHERS<\\/td><td>Minneapolis<\\/td><td>USD 4447.38 million<\\/td><\\/tr><tr><th>112<\\/th><td>Region B<\\/td><td>2021<\\/td><td>2<\\/td><td>STATISTICS<\\/td><td>HR<\\/td><td>Dallas<\\/td><td>USD 4568.95 million<\\/td><\\/tr><tr><th>113<\\/th><td>Region B<\\/td><td>2021<\\/td><td>2<\\/td><td>OPERATING_EXPENSES<\\/td><td>HR<\\/td><td>Kansas City<\\/td><td>USD 3371.96 million<\\/td><\\/tr><tr><th>114<\\/th><td>Region B<\\/td><td>2021<\\/td><td>2<\\/td><td>NON-OPERATING_EXPENSES<\\/td><td>IT<\\/td><td>St. Louis<\\/td><td>USD 4229.76 million<\\/td><\\/tr><tr><th>115<\\/th><td>Region B<\\/td><td>2021<\\/td><td>2<\\/td><td>STATISTICS<\\/td><td>OTHERS<\\/td><td>San Francisco<\\/td><td>USD 4397.53 million<\\/td><\\/tr><tr><th>116<\\/th><td>Region B<\\/td><td>2021<\\/td><td>2<\\/td><td>REVENUE<\\/td><td>IT<\\/td><td>Atlanta<\\/td><td>USD 3115.91 million<\\/td><\\/tr><tr><th>117<\\/th><td>Region B<\\/td><td>2021<\\/td><td>2<\\/td><td>NET_WORTH<\\/td><td>SALES<\\/td><td>Atlanta<\\/td><td>USD 3413.11 million<\\/td><\\/tr><tr><th>118<\\/th><td>Region B<\\/td><td>2021<\\/td><td>2<\\/td><td>NET_WORTH<\\/td><td>IT<\\/td><td>Dallas<\\/td><td>USD 3816.01 million<\\/td><\\/tr><tr><th>119<\\/th><td>Region B<\\/td><td>2021<\\/td><td>2<\\/td><td>NON-OPERATING_EXPENSES<\\/td><td>HR<\\/td><td>Boston<\\/td><td>USD 4194.8 million<\\/td><\\/tr><tr><th>120<\\/th><td>Region B<\\/td><td>2021<\\/td><td>2<\\/td><td>STATISTICS<\\/td><td>SALES<\\/td><td>San Francisco<\\/td><td>USD 4673.52 million<\\/td><\\/tr><tr><th>121<\\/th><td>Region B<\\/td><td>2021<\\/td><td>2<\\/td><td>NON-OPERATING_EXPENSES<\\/td><td>OTHERS<\\/td><td>New York<\\/td><td>USD 4134.68 million<\\/td><\\/tr><tr><th>122<\\/th><td>Region B<\\/td><td>2021<\\/td><td>2<\\/td><td>REVENUE<\\/td><td>BUSINESS<\\/td><td>Dallas<\\/td><td>USD 4967.77 million<\\/td><\\/tr><tr><th>123<\\/th><td>Region B<\\/td><td>2021<\\/td><td>2<\\/td><td>ASSETS<\\/td><td>IT<\\/td><td>Philadelphia<\\/td><td>USD 4418.53 million<\\/td><\\/tr><tr><th>124<\\/th><td>Region B<\\/td><td>2021<\\/td><td>2<\\/td><td>ASSETS<\\/td><td>SALES<\\/td><td>Cleveland<\\/td><td>USD 3870.36 million<\\/td><\\/tr><tr><th>125<\\/th><td>Region B<\\/td><td>2021<\\/td><td>2<\\/td><td>NON-OPERATING_EXPENSES<\\/td><td>OTHERS<\\/td><td>San Francisco<\\/td><td>USD 3652.64 million<\\/td><\\/tr><tr><th>126<\\/th><td>Region B<\\/td><td>2021<\\/td><td>2<\\/td><td>REVENUE<\\/td><td>SALES<\\/td><td>Chicago<\\/td><td>USD 4357.64 million<\\/td><\\/tr><tr><th>127<\\/th><td>Region B<\\/td><td>2021<\\/td><td>2<\\/td><td>NON-OPERATING_EXPENSES<\\/td><td>BUSINESS<\\/td><td>Dallas<\\/td><td>USD 4433.52 million<\\/td><\\/tr><tr><th>128<\\/th><td>Region B<\\/td><td>2021<\\/td><td>2<\\/td><td>NET_WORTH<\\/td><td>BUSINESS<\\/td><td>Cleveland<\\/td><td>USD 4409.45 million<\\/td><\\/tr><tr><th>129<\\/th><td>Region B<\\/td><td>2021<\\/td><td>2<\\/td><td>OPERATING_EXPENSES<\\/td><td>HR<\\/td><td>St. Louis<\\/td><td>USD 2940.35 million<\\/td><\\/tr><tr><th>130<\\/th><td>Region B<\\/td><td>2021<\\/td><td>2<\\/td><td>OPERATING_EXPENSES<\\/td><td>BUSINESS<\\/td><td>Richmond<\\/td><td>USD 3208.9 million<\\/td><\\/tr><tr><th>131<\\/th><td>Region B<\\/td><td>2021<\\/td><td>2<\\/td><td>NET_WORTH<\\/td><td>IT<\\/td><td>Philadelphia<\\/td><td>USD 4453.4 million<\\/td><\\/tr><tr><th>132<\\/th><td>Region B<\\/td><td>2021<\\/td><td>2<\\/td><td>OPERATING_EXPENSES<\\/td><td>HR<\\/td><td>Minneapolis<\\/td><td>USD 4088.17 million<\\/td><\\/tr><tr><th>133<\\/th><td>Region B<\\/td><td>2021<\\/td><td>2<\\/td><td>OPERATING_EXPENSES<\\/td><td>BUSINESS<\\/td><td>Minneapolis<\\/td><td>USD 3509.06 million<\\/td><\\/tr><tr><th>134<\\/th><td>Region B<\\/td><td>2021<\\/td><td>2<\\/td><td>STATISTICS<\\/td><td>HR<\\/td><td>Atlanta<\\/td><td>USD 3599.58 million<\\/td><\\/tr><tr><th>135<\\/th><td>Region B<\\/td><td>2021<\\/td><td>2<\\/td><td>NON-OPERATING_EXPENSES<\\/td><td>OTHERS<\\/td><td>Chicago<\\/td><td>USD 3174.83 million<\\/td><\\/tr><tr><th>136<\\/th><td>Region B<\\/td><td>2021<\\/td><td>2<\\/td><td>ASSETS<\\/td><td>BUSINESS<\\/td><td>Cleveland<\\/td><td>USD 3311.77 million<\\/td><\\/tr><tr><th>137<\\/th><td>Region B<\\/td><td>2021<\\/td><td>2<\\/td><td>OPERATING_EXPENSES<\\/td><td>IT<\\/td><td>St. Louis<\\/td><td>USD 3753.62 million<\\/td><\\/tr><tr><th>138<\\/th><td>Region B<\\/td><td>2021<\\/td><td>2<\\/td><td>NET_WORTH<\\/td><td>HR<\\/td><td>Minneapolis<\\/td><td>USD 4014.41 million<\\/td><\\/tr><tr><th>139<\\/th><td>Region B<\\/td><td>2021<\\/td><td>2<\\/td><td>NET_WORTH<\\/td><td>HR<\\/td><td>New York<\\/td><td>USD 3894.27 million<\\/td><\\/tr><tr><th>140<\\/th><td>Region B<\\/td><td>2021<\\/td><td>2<\\/td><td>STATISTICS<\\/td><td>IT<\\/td><td>Minneapolis<\\/td><td>USD 3748.03 million<\\/td><\\/tr><tr><th>141<\\/th><td>Region B<\\/td><td>2021<\\/td><td>2<\\/td><td>NON-OPERATING_EXPENSES<\\/td><td>HR<\\/td><td>Cleveland<\\/td><td>USD 4906.33 million<\\/td><\\/tr><tr><th>142<\\/th><td>Region B<\\/td><td>2021<\\/td><td>2<\\/td><td>NET_WORTH<\\/td><td>OTHERS<\\/td><td>Chicago<\\/td><td>USD 4884.47 million<\\/td><\\/tr><tr><th>143<\\/th><td>Region B<\\/td><td>2021<\\/td><td>2<\\/td><td>OPERATING_EXPENSES<\\/td><td>HR<\\/td><td>Chicago<\\/td><td>USD 3402.68 million<\\/td><\\/tr><tr><th>144<\\/th><td>Region B<\\/td><td>2021<\\/td><td>2<\\/td><td>REVENUE<\\/td><td>HR<\\/td><td>Boston<\\/td><td>USD 4325.35 million<\\/td><\\/tr><tr><th>145<\\/th><td>Region B<\\/td><td>2021<\\/td><td>2<\\/td><td>NET_WORTH<\\/td><td>HR<\\/td><td>Philadelphia<\\/td><td>USD 4389.43 million<\\/td><\\/tr><tr><th>146<\\/th><td>Region B<\\/td><td>2021<\\/td><td>2<\\/td><td>NET_WORTH<\\/td><td>OTHERS<\\/td><td>San Francisco<\\/td><td>USD 4509.67 million<\\/td><\\/tr><tr><th>147<\\/th><td>Region B<\\/td><td>2021<\\/td><td>2<\\/td><td>REVENUE<\\/td><td>SALES<\\/td><td>Cleveland<\\/td><td>USD 4025.75 million<\\/td><\\/tr><tr><th>148<\\/th><td>Region B<\\/td><td>2021<\\/td><td>2<\\/td><td>NET_WORTH<\\/td><td>SALES<\\/td><td>Kansas City<\\/td><td>USD 3843.43 million<\\/td><\\/tr><tr><th>149<\\/th><td>Region B<\\/td><td>2021<\\/td><td>2<\\/td><td>OPERATING_EXPENSES<\\/td><td>OTHERS<\\/td><td>Kansas City<\\/td><td>USD 5084.04 million<\\/td><\\/tr><tr><th>150<\\/th><td>Region B<\\/td><td>2021<\\/td><td>2<\\/td><td>NET_WORTH<\\/td><td>BUSINESS<\\/td><td>Chicago<\\/td><td>USD 4303.44 million<\\/td><\\/tr><tr><th>151<\\/th><td>Region B<\\/td><td>2021<\\/td><td>2<\\/td><td>NON-OPERATING_EXPENSES<\\/td><td>SALES<\\/td><td>Boston<\\/td><td>USD 3873.67 million<\\/td><\\/tr><tr><th>152<\\/th><td>Region B<\\/td><td>2021<\\/td><td>2<\\/td><td>STATISTICS<\\/td><td>IT<\\/td><td>Kansas City<\\/td><td>USD 3725.74 million<\\/td><\\/tr><tr><th>153<\\/th><td>Region B<\\/td><td>2021<\\/td><td>2<\\/td><td>ASSETS<\\/td><td>SALES<\\/td><td>Kansas City<\\/td><td>USD 3904.23 million<\\/td><\\/tr><tr><th>154<\\/th><td>Region B<\\/td><td>2021<\\/td><td>2<\\/td><td>REVENUE<\\/td><td>BUSINESS<\\/td><td>St. Louis<\\/td><td>USD 4021.63 million<\\/td><\\/tr><tr><th>155<\\/th><td>Region B<\\/td><td>2021<\\/td><td>2<\\/td><td>OPERATING_EXPENSES<\\/td><td>HR<\\/td><td>Philadelphia<\\/td><td>USD 4052.49 million<\\/td><\\/tr><tr><th>156<\\/th><td>Region B<\\/td><td>2021<\\/td><td>2<\\/td><td>NON-OPERATING_EXPENSES<\\/td><td>BUSINESS<\\/td><td>St. Louis<\\/td><td>USD 4156.68 million<\\/td><\\/tr><tr><th>157<\\/th><td>Region B<\\/td><td>2021<\\/td><td>2<\\/td><td>NON-OPERATING_EXPENSES<\\/td><td>BUSINESS<\\/td><td>Boston<\\/td><td>USD 2852.89 million<\\/td><\\/tr><tr><th>158<\\/th><td>Region B<\\/td><td>2021<\\/td><td>2<\\/td><td>ASSETS<\\/td><td>SALES<\\/td><td>Richmond<\\/td><td>USD 3532.09 million<\\/td><\\/tr><tr><th>159<\\/th><td>Region B<\\/td><td>2021<\\/td><td>2<\\/td><td>REVENUE<\\/td><td>IT<\\/td><td>Philadelphia<\\/td><td>USD 3778.69 million<\\/td><\\/tr><tr><th>160<\\/th><td>Region B<\\/td><td>2021<\\/td><td>2<\\/td><td>ASSETS<\\/td><td>OTHERS<\\/td><td>Kansas City<\\/td><td>USD 4350.03 million<\\/td><\\/tr><tr><th>161<\\/th><td>Region B<\\/td><td>2021<\\/td><td>2<\\/td><td>NET_WORTH<\\/td><td>IT<\\/td><td>St. Louis<\\/td><td>USD 3808.57 million<\\/td><\\/tr><tr><th>162<\\/th><td>Region B<\\/td><td>2021<\\/td><td>2<\\/td><td>OPERATING_EXPENSES<\\/td><td>IT<\\/td><td>Boston<\\/td><td>USD 4182.93 million<\\/td><\\/tr><tr><th>163<\\/th><td>Region B<\\/td><td>2021<\\/td><td>2<\\/td><td>STATISTICS<\\/td><td>IT<\\/td><td>Boston<\\/td><td>USD 3667.47 million<\\/td><\\/tr><tr><th>164<\\/th><td>Region B<\\/td><td>2021<\\/td><td>2<\\/td><td>ASSETS<\\/td><td>BUSINESS<\\/td><td>New York<\\/td><td>USD 3660.31 million<\\/td><\\/tr><tr><th>165<\\/th><td>Region B<\\/td><td>2021<\\/td><td>2<\\/td><td>STATISTICS<\\/td><td>IT<\\/td><td>Cleveland<\\/td><td>USD 4314.03 million<\\/td><\\/tr><tr><th>166<\\/th><td>Region B<\\/td><td>2021<\\/td><td>2<\\/td><td>NET_WORTH<\\/td><td>IT<\\/td><td>Chicago<\\/td><td>USD 3828.41 million<\\/td><\\/tr><tr><th>167<\\/th><td>Region B<\\/td><td>2021<\\/td><td>2<\\/td><td>STATISTICS<\\/td><td>IT<\\/td><td>Richmond<\\/td><td>USD 4502.21 million<\\/td><\\/tr><tr><th>168<\\/th><td>Region B<\\/td><td>2021<\\/td><td>2<\\/td><td>STATISTICS<\\/td><td>HR<\\/td><td>Kansas City<\\/td><td>USD 3313.57 million<\\/td><\\/tr><tr><th>169<\\/th><td>Region B<\\/td><td>2021<\\/td><td>2<\\/td><td>NON-OPERATING_EXPENSES<\\/td><td>IT<\\/td><td>Dallas<\\/td><td>USD 3785.25 million<\\/td><\\/tr><tr><th>170<\\/th><td>Region B<\\/td><td>2021<\\/td><td>2<\\/td><td>NON-OPERATING_EXPENSES<\\/td><td>BUSINESS<\\/td><td>Philadelphia<\\/td><td>USD 3786.29 million<\\/td><\\/tr><tr><th>171<\\/th><td>Region B<\\/td><td>2021<\\/td><td>2<\\/td><td>LIABILITIES<\\/td><td>HR<\\/td><td>Cleveland<\\/td><td>USD 4264.54 million<\\/td><\\/tr><tr><th>172<\\/th><td>Region B<\\/td><td>2021<\\/td><td>2<\\/td><td>LIABILITIES<\\/td><td>IT<\\/td><td>Dallas<\\/td><td>USD 3955.2 million<\\/td><\\/tr><tr><th>173<\\/th><td>Region B<\\/td><td>2021<\\/td><td>2<\\/td><td>ASSETS<\\/td><td>BUSINESS<\\/td><td>Dallas<\\/td><td>USD 3490.1 million<\\/td><\\/tr><tr><th>174<\\/th><td>Region B<\\/td><td>2021<\\/td><td>2<\\/td><td>NON-OPERATING_EXPENSES<\\/td><td>SALES<\\/td><td>Kansas City<\\/td><td>USD 4299.75 million<\\/td><\\/tr><tr><th>175<\\/th><td>Region B<\\/td><td>2021<\\/td><td>2<\\/td><td>LIABILITIES<\\/td><td>SALES<\\/td><td>Chicago<\\/td><td>USD 3707.97 million<\\/td><\\/tr><tr><th>176<\\/th><td>Region B<\\/td><td>2021<\\/td><td>2<\\/td><td>NET_WORTH<\\/td><td>IT<\\/td><td>Minneapolis<\\/td><td>USD 4193.11 million<\\/td><\\/tr><tr><th>177<\\/th><td>Region B<\\/td><td>2021<\\/td><td>2<\\/td><td>REVENUE<\\/td><td>OTHERS<\\/td><td>Richmond<\\/td><td>USD 3603.43 million<\\/td><\\/tr><tr><th>178<\\/th><td>Region B<\\/td><td>2021<\\/td><td>2<\\/td><td>NET_WORTH<\\/td><td>HR<\\/td><td>St. Louis<\\/td><td>USD 3695.22 million<\\/td><\\/tr><tr><th>179<\\/th><td>Region B<\\/td><td>2021<\\/td><td>2<\\/td><td>STATISTICS<\\/td><td>SALES<\\/td><td>New York<\\/td><td>USD 4399.99 million<\\/td><\\/tr><tr><th>180<\\/th><td>Region B<\\/td><td>2021<\\/td><td>2<\\/td><td>REVENUE<\\/td><td>OTHERS<\\/td><td>St. Louis<\\/td><td>USD 4403.11 million<\\/td><\\/tr><tr><th>181<\\/th><td>Region B<\\/td><td>2021<\\/td><td>2<\\/td><td>LIABILITIES<\\/td><td>BUSINESS<\\/td><td>Kansas City<\\/td><td>USD 4180.52 million<\\/td><\\/tr><tr><th>182<\\/th><td>Region B<\\/td><td>2021<\\/td><td>2<\\/td><td>NON-OPERATING_EXPENSES<\\/td><td>IT<\\/td><td>Richmond<\\/td><td>USD 3872.1 million<\\/td><\\/tr><tr><th>183<\\/th><td>Region B<\\/td><td>2021<\\/td><td>2<\\/td><td>ASSETS<\\/td><td>OTHERS<\\/td><td>Philadelphia<\\/td><td>USD 4340.48 million<\\/td><\\/tr><tr><th>184<\\/th><td>Region B<\\/td><td>2021<\\/td><td>2<\\/td><td>STATISTICS<\\/td><td>BUSINESS<\\/td><td>New York<\\/td><td>USD 4746.51 million<\\/td><\\/tr><tr><th>185<\\/th><td>Region B<\\/td><td>2021<\\/td><td>2<\\/td><td>NET_WORTH<\\/td><td>OTHERS<\\/td><td>Richmond<\\/td><td>USD 3637.72 million<\\/td><\\/tr><tr><th>186<\\/th><td>Region B<\\/td><td>2021<\\/td><td>2<\\/td><td>NON-OPERATING_EXPENSES<\\/td><td>SALES<\\/td><td>Atlanta<\\/td><td>USD 4327.87 million<\\/td><\\/tr><tr><th>187<\\/th><td>Region B<\\/td><td>2021<\\/td><td>2<\\/td><td>NET_WORTH<\\/td><td>BUSINESS<\\/td><td>Atlanta<\\/td><td>USD 3819.95 million<\\/td><\\/tr><tr><th>188<\\/th><td>Region B<\\/td><td>2021<\\/td><td>2<\\/td><td>NON-OPERATING_EXPENSES<\\/td><td>IT<\\/td><td>Boston<\\/td><td>USD 4085.18 million<\\/td><\\/tr><tr><th>189<\\/th><td>Region B<\\/td><td>2021<\\/td><td>2<\\/td><td>LIABILITIES<\\/td><td>IT<\\/td><td>St. Louis<\\/td><td>USD 4330.74 million<\\/td><\\/tr><tr><th>190<\\/th><td>Region B<\\/td><td>2021<\\/td><td>2<\\/td><td>LIABILITIES<\\/td><td>HR<\\/td><td>Chicago<\\/td><td>USD 4462.25 million<\\/td><\\/tr><tr><th>191<\\/th><td>Region B<\\/td><td>2021<\\/td><td>2<\\/td><td>LIABILITIES<\\/td><td>IT<\\/td><td>Richmond<\\/td><td>USD 3847.22 million<\\/td><\\/tr><tr><th>192<\\/th><td>Region B<\\/td><td>2021<\\/td><td>2<\\/td><td>ASSETS<\\/td><td>IT<\\/td><td>Chicago<\\/td><td>USD 4822.65 million<\\/td><\\/tr><tr><th>193<\\/th><td>Region B<\\/td><td>2021<\\/td><td>2<\\/td><td>STATISTICS<\\/td><td>BUSINESS<\\/td><td>Cleveland<\\/td><td>USD 3548.43 million<\\/td><\\/tr><tr><th>194<\\/th><td>Region B<\\/td><td>2021<\\/td><td>2<\\/td><td>NET_WORTH<\\/td><td>HR<\\/td><td>San Francisco<\\/td><td>USD 3416.2 million<\\/td><\\/tr><tr><th>195<\\/th><td>Region B<\\/td><td>2021<\\/td><td>2<\\/td><td>REVENUE<\\/td><td>HR<\\/td><td>San Francisco<\\/td><td>USD 4190.61 million<\\/td><\\/tr><tr><th>196<\\/th><td>Region B<\\/td><td>2021<\\/td><td>2<\\/td><td>REVENUE<\\/td><td>HR<\\/td><td>St. Louis<\\/td><td>USD 3361.44 million<\\/td><\\/tr><tr><th>197<\\/th><td>Region B<\\/td><td>2021<\\/td><td>2<\\/td><td>LIABILITIES<\\/td><td>OTHERS<\\/td><td>Chicago<\\/td><td>USD 3493.54 million<\\/td><\\/tr><tr><th>198<\\/th><td>Region B<\\/td><td>2021<\\/td><td>2<\\/td><td>NET_WORTH<\\/td><td>OTHERS<\\/td><td>Philadelphia<\\/td><td>USD 4183.27 million<\\/td><\\/tr><tr><th>199<\\/th><td>Region B<\\/td><td>2021<\\/td><td>2<\\/td><td>STATISTICS<\\/td><td>IT<\\/td><td>Philadelphia<\\/td><td>USD 3653.57 million<\\/td><\\/tr><tr><th>200<\\/th><td>Region B<\\/td><td>2021<\\/td><td>2<\\/td><td>LIABILITIES<\\/td><td>IT<\\/td><td>Chicago<\\/td><td>USD 3485.87 million<\\/td><\\/tr><tr><th>201<\\/th><td>Region B<\\/td><td>2021<\\/td><td>2<\\/td><td>LIABILITIES<\\/td><td>HR<\\/td><td>Philadelphia<\\/td><td>USD 3707.13 million<\\/td><\\/tr><tr><th>202<\\/th><td>Region B<\\/td><td>2021<\\/td><td>2<\\/td><td>NON-OPERATING_EXPENSES<\\/td><td>OTHERS<\\/td><td>Philadelphia<\\/td><td>USD 3549.56 million<\\/td><\\/tr><tr><th>203<\\/th><td>Region B<\\/td><td>2021<\\/td><td>2<\\/td><td>REVENUE<\\/td><td>OTHERS<\\/td><td>Kansas City<\\/td><td>USD 3214.86 million<\\/td><\\/tr><tr><th>204<\\/th><td>Region B<\\/td><td>2021<\\/td><td>2<\\/td><td>ASSETS<\\/td><td>SALES<\\/td><td>Boston<\\/td><td>USD 3922.61 million<\\/td><\\/tr><tr><th>205<\\/th><td>Region B<\\/td><td>2021<\\/td><td>2<\\/td><td>OPERATING_EXPENSES<\\/td><td>OTHERS<\\/td><td>Richmond<\\/td><td>USD 4196.52 million<\\/td><\\/tr><tr><th>206<\\/th><td>Region B<\\/td><td>2021<\\/td><td>2<\\/td><td>REVENUE<\\/td><td>OTHERS<\\/td><td>San Francisco<\\/td><td>USD 3555.88 million<\\/td><\\/tr><tr><th>207<\\/th><td>Region B<\\/td><td>2021<\\/td><td>2<\\/td><td>NET_WORTH<\\/td><td>OTHERS<\\/td><td>Boston<\\/td><td>USD 4289.68 million<\\/td><\\/tr><tr><th>208<\\/th><td>Region B<\\/td><td>2021<\\/td><td>2<\\/td><td>REVENUE<\\/td><td>HR<\\/td><td>New York<\\/td><td>USD 4009.5 million<\\/td><\\/tr><tr><th>209<\\/th><td>Region B<\\/td><td>2021<\\/td><td>2<\\/td><td>LIABILITIES<\\/td><td>HR<\\/td><td>St. Louis<\\/td><td>USD 3378.73 million<\\/td><\\/tr><tr><th>210<\\/th><td>Region B<\\/td><td>2021<\\/td><td>2<\\/td><td>OPERATING_EXPENSES<\\/td><td>SALES<\\/td><td>San Francisco<\\/td><td>USD 3952.66 million<\\/td><\\/tr><tr><th>211<\\/th><td>Region B<\\/td><td>2021<\\/td><td>2<\\/td><td>LIABILITIES<\\/td><td>IT<\\/td><td>Philadelphia<\\/td><td>USD 4527.18 million<\\/td><\\/tr><tr><th>212<\\/th><td>Region B<\\/td><td>2021<\\/td><td>2<\\/td><td>REVENUE<\\/td><td>BUSINESS<\\/td><td>Minneapolis<\\/td><td>USD 4334.13 million<\\/td><\\/tr><tr><th>213<\\/th><td>Region B<\\/td><td>2021<\\/td><td>2<\\/td><td>NON-OPERATING_EXPENSES<\\/td><td>IT<\\/td><td>Minneapolis<\\/td><td>USD 4103.66 million<\\/td><\\/tr><tr><th>214<\\/th><td>Region B<\\/td><td>2021<\\/td><td>2<\\/td><td>LIABILITIES<\\/td><td>HR<\\/td><td>Richmond<\\/td><td>USD 3778.13 million<\\/td><\\/tr><tr><th>215<\\/th><td>Region B<\\/td><td>2021<\\/td><td>2<\\/td><td>OPERATING_EXPENSES<\\/td><td>BUSINESS<\\/td><td>Philadelphia<\\/td><td>USD 3931.35 million<\\/td><\\/tr><tr><th>216<\\/th><td>Region B<\\/td><td>2021<\\/td><td>2<\\/td><td>STATISTICS<\\/td><td>HR<\\/td><td>Minneapolis<\\/td><td>USD 4311.11 million<\\/td><\\/tr><tr><th>217<\\/th><td>Region B<\\/td><td>2021<\\/td><td>2<\\/td><td>STATISTICS<\\/td><td>HR<\\/td><td>Philadelphia<\\/td><td>USD 3391.45 million<\\/td><\\/tr><tr><th>218<\\/th><td>Region B<\\/td><td>2021<\\/td><td>2<\\/td><td>STATISTICS<\\/td><td>IT<\\/td><td>Atlanta<\\/td><td>USD 4583.94 million<\\/td><\\/tr><tr><th>219<\\/th><td>Region B<\\/td><td>2021<\\/td><td>2<\\/td><td>NON-OPERATING_EXPENSES<\\/td><td>HR<\\/td><td>Dallas<\\/td><td>USD 3940.19 million<\\/td><\\/tr><tr><th>220<\\/th><td>Region B<\\/td><td>2021<\\/td><td>2<\\/td><td>ASSETS<\\/td><td>HR<\\/td><td>Cleveland<\\/td><td>USD 3856.62 million<\\/td><\\/tr><tr><th>221<\\/th><td>Region B<\\/td><td>2021<\\/td><td>2<\\/td><td>ASSETS<\\/td><td>HR<\\/td><td>Chicago<\\/td><td>USD 4201.79 million<\\/td><\\/tr><tr><th>222<\\/th><td>Region B<\\/td><td>2021<\\/td><td>2<\\/td><td>NON-OPERATING_EXPENSES<\\/td><td>BUSINESS<\\/td><td>San Francisco<\\/td><td>USD 3968.44 million<\\/td><\\/tr><tr><th>223<\\/th><td>Region B<\\/td><td>2021<\\/td><td>2<\\/td><td>NON-OPERATING_EXPENSES<\\/td><td>SALES<\\/td><td>New York<\\/td><td>USD 3646.47 million<\\/td><\\/tr><tr><th>224<\\/th><td>Region B<\\/td><td>2021<\\/td><td>2<\\/td><td>NON-OPERATING_EXPENSES<\\/td><td>HR<\\/td><td>Philadelphia<\\/td><td>USD 4291.44 million<\\/td><\\/tr><tr><th>225<\\/th><td>Region B<\\/td><td>2021<\\/td><td>2<\\/td><td>STATISTICS<\\/td><td>OTHERS<\\/td><td>Atlanta<\\/td><td>USD 3853.49 million<\\/td><\\/tr><tr><th>226<\\/th><td>Region B<\\/td><td>2021<\\/td><td>2<\\/td><td>NET_WORTH<\\/td><td>IT<\\/td><td>San Francisco<\\/td><td>USD 4081.03 million<\\/td><\\/tr><tr><th>227<\\/th><td>Region B<\\/td><td>2021<\\/td><td>2<\\/td><td>LIABILITIES<\\/td><td>BUSINESS<\\/td><td>Minneapolis<\\/td><td>USD 4606.12 million<\\/td><\\/tr><tr><th>228<\\/th><td>Region B<\\/td><td>2021<\\/td><td>2<\\/td><td>STATISTICS<\\/td><td>BUSINESS<\\/td><td>Atlanta<\\/td><td>USD 3942.55 million<\\/td><\\/tr><tr><th>229<\\/th><td>Region B<\\/td><td>2021<\\/td><td>2<\\/td><td>NET_WORTH<\\/td><td>SALES<\\/td><td>Dallas<\\/td><td>USD 4755.48 million<\\/td><\\/tr><tr><th>230<\\/th><td>Region B<\\/td><td>2021<\\/td><td>2<\\/td><td>STATISTICS<\\/td><td>SALES<\\/td><td>Dallas<\\/td><td>USD 3441.78 million<\\/td><\\/tr><tr><th>231<\\/th><td>Region B<\\/td><td>2021<\\/td><td>2<\\/td><td>LIABILITIES<\\/td><td>OTHERS<\\/td><td>Boston<\\/td><td>USD 4478.02 million<\\/td><\\/tr><tr><th>232<\\/th><td>Region B<\\/td><td>2021<\\/td><td>2<\\/td><td>LIABILITIES<\\/td><td>BUSINESS<\\/td><td>San Francisco<\\/td><td>USD 3061.28 million<\\/td><\\/tr><tr><th>233<\\/th><td>Region B<\\/td><td>2021<\\/td><td>2<\\/td><td>OPERATING_EXPENSES<\\/td><td>BUSINESS<\\/td><td>Boston<\\/td><td>USD 3640.12 million<\\/td><\\/tr><tr><th>234<\\/th><td>Region B<\\/td><td>2021<\\/td><td>2<\\/td><td>LIABILITIES<\\/td><td>BUSINESS<\\/td><td>Richmond<\\/td><td>USD 4323.81 million<\\/td><\\/tr><tr><th>235<\\/th><td>Region B<\\/td><td>2021<\\/td><td>2<\\/td><td>NET_WORTH<\\/td><td>HR<\\/td><td>Cleveland<\\/td><td>USD 3443.24 million<\\/td><\\/tr><tr><th>236<\\/th><td>Region B<\\/td><td>2021<\\/td><td>2<\\/td><td>ASSETS<\\/td><td>OTHERS<\\/td><td>Minneapolis<\\/td><td>USD 3868.44 million<\\/td><\\/tr><tr><th>237<\\/th><td>Region B<\\/td><td>2021<\\/td><td>2<\\/td><td>STATISTICS<\\/td><td>HR<\\/td><td>Chicago<\\/td><td>USD 4186.45 million<\\/td><\\/tr><tr><th>238<\\/th><td>Region B<\\/td><td>2021<\\/td><td>2<\\/td><td>NON-OPERATING_EXPENSES<\\/td><td>OTHERS<\\/td><td>Richmond<\\/td><td>USD 4087.34 million<\\/td><\\/tr><tr><th>239<\\/th><td>Region B<\\/td><td>2021<\\/td><td>2<\\/td><td>NET_WORTH<\\/td><td>SALES<\\/td><td>San Francisco<\\/td><td>USD 3124.19 million<\\/td><\\/tr><tr><th>240<\\/th><td>Region B<\\/td><td>2021<\\/td><td>2<\\/td><td>ASSETS<\\/td><td>OTHERS<\\/td><td>St. Louis<\\/td><td>USD 3942.33 million<\\/td><\\/tr><tr><th>241<\\/th><td>Region B<\\/td><td>2021<\\/td><td>2<\\/td><td>ASSETS<\\/td><td>SALES<\\/td><td>Dallas<\\/td><td>USD 3754.68 million<\\/td><\\/tr><tr><th>242<\\/th><td>Region B<\\/td><td>2021<\\/td><td>2<\\/td><td>ASSETS<\\/td><td>SALES<\\/td><td>Minneapolis<\\/td><td>USD 2638.33 million<\\/td><\\/tr><tr><th>243<\\/th><td>Region B<\\/td><td>2021<\\/td><td>2<\\/td><td>NON-OPERATING_EXPENSES<\\/td><td>BUSINESS<\\/td><td>New York<\\/td><td>USD 3435.19 million<\\/td><\\/tr><tr><th>244<\\/th><td>Region B<\\/td><td>2021<\\/td><td>2<\\/td><td>ASSETS<\\/td><td>OTHERS<\\/td><td>Cleveland<\\/td><td>USD 4146.61 million<\\/td><\\/tr><tr><th>245<\\/th><td>Region B<\\/td><td>2021<\\/td><td>2<\\/td><td>ASSETS<\\/td><td>OTHERS<\\/td><td>Chicago<\\/td><td>USD 3917.89 million<\\/td><\\/tr><tr><th>246<\\/th><td>Region B<\\/td><td>2021<\\/td><td>2<\\/td><td>NET_WORTH<\\/td><td>IT<\\/td><td>Atlanta<\\/td><td>USD 3295.98 million<\\/td><\\/tr><tr><th>247<\\/th><td>Region B<\\/td><td>2021<\\/td><td>2<\\/td><td>REVENUE<\\/td><td>IT<\\/td><td>Dallas<\\/td><td>USD 3887.11 million<\\/td><\\/tr><tr><th>248<\\/th><td>Region B<\\/td><td>2021<\\/td><td>2<\\/td><td>REVENUE<\\/td><td>HR<\\/td><td>Atlanta<\\/td><td>USD 3989.15 million<\\/td><\\/tr><tr><th>249<\\/th><td>Region B<\\/td><td>2021<\\/td><td>2<\\/td><td>STATISTICS<\\/td><td>OTHERS<\\/td><td>Richmond<\\/td><td>USD 3601.22 million<\\/td><\\/tr><tr><th>250<\\/th><td>Region B<\\/td><td>2021<\\/td><td>2<\\/td><td>STATISTICS<\\/td><td>OTHERS<\\/td><td>Kansas City<\\/td><td>USD 3634.45 million<\\/td><\\/tr><tr><th>251<\\/th><td>Region B<\\/td><td>2021<\\/td><td>2<\\/td><td>STATISTICS<\\/td><td>IT<\\/td><td>San Francisco<\\/td><td>USD 3443.8 million<\\/td><\\/tr><tr><th>252<\\/th><td>Region B<\\/td><td>2021<\\/td><td>2<\\/td><td>OPERATING_EXPENSES<\\/td><td>OTHERS<\\/td><td>Cleveland<\\/td><td>USD 3904.54 million<\\/td><\\/tr><tr><th>253<\\/th><td>Region B<\\/td><td>2021<\\/td><td>2<\\/td><td>REVENUE<\\/td><td>HR<\\/td><td>Cleveland<\\/td><td>USD 3983.46 million<\\/td><\\/tr><tr><th>254<\\/th><td>Region B<\\/td><td>2021<\\/td><td>2<\\/td><td>NET_WORTH<\\/td><td>SALES<\\/td><td>Chicago<\\/td><td>USD 4376.57 million<\\/td><\\/tr><tr><th>255<\\/th><td>Region B<\\/td><td>2021<\\/td><td>2<\\/td><td>ASSETS<\\/td><td>OTHERS<\\/td><td>Boston<\\/td><td>USD 3927.45 million<\\/td><\\/tr><tr><th>256<\\/th><td>Region B<\\/td><td>2021<\\/td><td>2<\\/td><td>REVENUE<\\/td><td>OTHERS<\\/td><td>New York<\\/td><td>USD 3263.27 million<\\/td><\\/tr><tr><th>257<\\/th><td>Region B<\\/td><td>2021<\\/td><td>2<\\/td><td>STATISTICS<\\/td><td>HR<\\/td><td>St. Louis<\\/td><td>USD 4538.98 million<\\/td><\\/tr><tr><th>258<\\/th><td>Region B<\\/td><td>2021<\\/td><td>2<\\/td><td>NET_WORTH<\\/td><td>BUSINESS<\\/td><td>Philadelphia<\\/td><td>USD 3411.73 million<\\/td><\\/tr><tr><th>259<\\/th><td>Region B<\\/td><td>2021<\\/td><td>2<\\/td><td>LIABILITIES<\\/td><td>SALES<\\/td><td>Boston<\\/td><td>USD 3520.68 million<\\/td><\\/tr><tr><th>260<\\/th><td>Region B<\\/td><td>2021<\\/td><td>2<\\/td><td>REVENUE<\\/td><td>SALES<\\/td><td>New York<\\/td><td>USD 4735.84 million<\\/td><\\/tr><tr><th>261<\\/th><td>Region B<\\/td><td>2021<\\/td><td>2<\\/td><td>LIABILITIES<\\/td><td>BUSINESS<\\/td><td>St. Louis<\\/td><td>USD 3669.81 million<\\/td><\\/tr><tr><th>262<\\/th><td>Region B<\\/td><td>2021<\\/td><td>2<\\/td><td>STATISTICS<\\/td><td>OTHERS<\\/td><td>Cleveland<\\/td><td>USD 3961.69 million<\\/td><\\/tr><tr><th>263<\\/th><td>Region B<\\/td><td>2021<\\/td><td>2<\\/td><td>NON-OPERATING_EXPENSES<\\/td><td>OTHERS<\\/td><td>Minneapolis<\\/td><td>USD 3202.41 million<\\/td><\\/tr><tr><th>264<\\/th><td>Region B<\\/td><td>2021<\\/td><td>2<\\/td><td>NET_WORTH<\\/td><td>SALES<\\/td><td>Minneapolis<\\/td><td>USD 4296.49 million<\\/td><\\/tr><tr><th>265<\\/th><td>Region B<\\/td><td>2021<\\/td><td>2<\\/td><td>NON-OPERATING_EXPENSES<\\/td><td>IT<\\/td><td>Philadelphia<\\/td><td>USD 4750.94 million<\\/td><\\/tr><tr><th>266<\\/th><td>Region B<\\/td><td>2021<\\/td><td>2<\\/td><td>ASSETS<\\/td><td>BUSINESS<\\/td><td>Richmond<\\/td><td>USD 3916.94 million<\\/td><\\/tr><tr><th>267<\\/th><td>Region B<\\/td><td>2021<\\/td><td>2<\\/td><td>NET_WORTH<\\/td><td>HR<\\/td><td>Kansas City<\\/td><td>USD 4378.44 million<\\/td><\\/tr><tr><th>268<\\/th><td>Region B<\\/td><td>2021<\\/td><td>2<\\/td><td>OPERATING_EXPENSES<\\/td><td>SALES<\\/td><td>Cleveland<\\/td><td>USD 3913.3 million<\\/td><\\/tr><tr><th>269<\\/th><td>Region B<\\/td><td>2021<\\/td><td>2<\\/td><td>ASSETS<\\/td><td>HR<\\/td><td>New York<\\/td><td>USD 4182.17 million<\\/td><\\/tr><tr><th>270<\\/th><td>Region B<\\/td><td>2021<\\/td><td>2<\\/td><td>OPERATING_EXPENSES<\\/td><td>BUSINESS<\\/td><td>New York<\\/td><td>USD 3859.61 million<\\/td><\\/tr><tr><th>271<\\/th><td>Region B<\\/td><td>2021<\\/td><td>2<\\/td><td>NET_WORTH<\\/td><td>SALES<\\/td><td>Philadelphia<\\/td><td>USD 4345.23 million<\\/td><\\/tr><tr><th>272<\\/th><td>Region B<\\/td><td>2021<\\/td><td>2<\\/td><td>NON-OPERATING_EXPENSES<\\/td><td>SALES<\\/td><td>San Francisco<\\/td><td>USD 3354.34 million<\\/td><\\/tr><tr><th>273<\\/th><td>Region B<\\/td><td>2021<\\/td><td>2<\\/td><td>NET_WORTH<\\/td><td>IT<\\/td><td>Cleveland<\\/td><td>USD 3787.16 million<\\/td><\\/tr><tr><th>274<\\/th><td>Region B<\\/td><td>2021<\\/td><td>2<\\/td><td>ASSETS<\\/td><td>OTHERS<\\/td><td>Richmond<\\/td><td>USD 3765.26 million<\\/td><\\/tr><tr><th>275<\\/th><td>Region B<\\/td><td>2021<\\/td><td>2<\\/td><td>OPERATING_EXPENSES<\\/td><td>IT<\\/td><td>Richmond<\\/td><td>USD 3910.95 million<\\/td><\\/tr><tr><th>276<\\/th><td>Region B<\\/td><td>2021<\\/td><td>2<\\/td><td>ASSETS<\\/td><td>HR<\\/td><td>St. Louis<\\/td><td>USD 4655.51 million<\\/td><\\/tr><tr><th>277<\\/th><td>Region B<\\/td><td>2021<\\/td><td>2<\\/td><td>OPERATING_EXPENSES<\\/td><td>IT<\\/td><td>Dallas<\\/td><td>USD 3638.51 million<\\/td><\\/tr><tr><th>278<\\/th><td>Region B<\\/td><td>2021<\\/td><td>2<\\/td><td>STATISTICS<\\/td><td>IT<\\/td><td>New York<\\/td><td>USD 3779.41 million<\\/td><\\/tr><tr><th>279<\\/th><td>Region B<\\/td><td>2021<\\/td><td>2<\\/td><td>ASSETS<\\/td><td>IT<\\/td><td>Cleveland<\\/td><td>USD 5150.0 million<\\/td><\\/tr><tr><th>280<\\/th><td>Region B<\\/td><td>2021<\\/td><td>2<\\/td><td>LIABILITIES<\\/td><td>IT<\\/td><td>New York<\\/td><td>USD 3921.97 million<\\/td><\\/tr><tr><th>281<\\/th><td>Region B<\\/td><td>2021<\\/td><td>2<\\/td><td>LIABILITIES<\\/td><td>HR<\\/td><td>Minneapolis<\\/td><td>USD 4332.34 million<\\/td><\\/tr><tr><th>282<\\/th><td>Region B<\\/td><td>2021<\\/td><td>2<\\/td><td>REVENUE<\\/td><td>OTHERS<\\/td><td>Boston<\\/td><td>USD 4221.1 million<\\/td><\\/tr><tr><th>283<\\/th><td>Region B<\\/td><td>2021<\\/td><td>2<\\/td><td>NON-OPERATING_EXPENSES<\\/td><td>IT<\\/td><td>New York<\\/td><td>USD 3756.12 million<\\/td><\\/tr><tr><th>284<\\/th><td>Region B<\\/td><td>2021<\\/td><td>2<\\/td><td>OPERATING_EXPENSES<\\/td><td>IT<\\/td><td>New York<\\/td><td>USD 3754.5 million<\\/td><\\/tr><tr><th>285<\\/th><td>Region B<\\/td><td>2021<\\/td><td>2<\\/td><td>OPERATING_EXPENSES<\\/td><td>SALES<\\/td><td>Chicago<\\/td><td>USD 3874.19 million<\\/td><\\/tr><tr><th>286<\\/th><td>Region B<\\/td><td>2021<\\/td><td>2<\\/td><td>REVENUE<\\/td><td>SALES<\\/td><td>Philadelphia<\\/td><td>USD 4518.49 million<\\/td><\\/tr><tr><th>287<\\/th><td>Region B<\\/td><td>2021<\\/td><td>2<\\/td><td>ASSETS<\\/td><td>IT<\\/td><td>San Francisco<\\/td><td>USD 3803.69 million<\\/td><\\/tr><tr><th>288<\\/th><td>Region B<\\/td><td>2021<\\/td><td>2<\\/td><td>ASSETS<\\/td><td>IT<\\/td><td>Atlanta<\\/td><td>USD 3630.48 million<\\/td><\\/tr><tr><th>289<\\/th><td>Region B<\\/td><td>2021<\\/td><td>2<\\/td><td>STATISTICS<\\/td><td>BUSINESS<\\/td><td>Richmond<\\/td><td>USD 4188.5 million<\\/td><\\/tr><tr><th>290<\\/th><td>Region B<\\/td><td>2021<\\/td><td>2<\\/td><td>STATISTICS<\\/td><td>OTHERS<\\/td><td>Dallas<\\/td><td>USD 4998.09 million<\\/td><\\/tr><tr><th>291<\\/th><td>Region B<\\/td><td>2021<\\/td><td>2<\\/td><td>OPERATING_EXPENSES<\\/td><td>HR<\\/td><td>Boston<\\/td><td>USD 3864.05 million<\\/td><\\/tr><tr><th>292<\\/th><td>Region B<\\/td><td>2021<\\/td><td>2<\\/td><td>REVENUE<\\/td><td>IT<\\/td><td>New York<\\/td><td>USD 4389.13 million<\\/td><\\/tr><tr><th>293<\\/th><td>Region B<\\/td><td>2021<\\/td><td>2<\\/td><td>OPERATING_EXPENSES<\\/td><td>HR<\\/td><td>Dallas<\\/td><td>USD 3840.72 million<\\/td><\\/tr><tr><th>294<\\/th><td>Region B<\\/td><td>2021<\\/td><td>2<\\/td><td>NET_WORTH<\\/td><td>HR<\\/td><td>Richmond<\\/td><td>USD 4715.37 million<\\/td><\\/tr><tr><th>295<\\/th><td>Region B<\\/td><td>2021<\\/td><td>2<\\/td><td>STATISTICS<\\/td><td>BUSINESS<\\/td><td>Philadelphia<\\/td><td>USD 4319.95 million<\\/td><\\/tr><tr><th>296<\\/th><td>Region B<\\/td><td>2021<\\/td><td>2<\\/td><td>REVENUE<\\/td><td>IT<\\/td><td>Richmond<\\/td><td>USD 3878.62 million<\\/td><\\/tr><tr><th>297<\\/th><td>Region B<\\/td><td>2021<\\/td><td>2<\\/td><td>REVENUE<\\/td><td>SALES<\\/td><td>Minneapolis<\\/td><td>USD 3874.8 million<\\/td><\\/tr><tr><th>298<\\/th><td>Region B<\\/td><td>2021<\\/td><td>2<\\/td><td>REVENUE<\\/td><td>BUSINESS<\\/td><td>Boston<\\/td><td>USD 4498.18 million<\\/td><\\/tr><tr><th>299<\\/th><td>Region B<\\/td><td>2021<\\/td><td>2<\\/td><td>LIABILITIES<\\/td><td>SALES<\\/td><td>Cleveland<\\/td><td>USD 3943.81 million<\\/td><\\/tr><tr><th>300<\\/th><td>Region B<\\/td><td>2021<\\/td><td>2<\\/td><td>NET_WORTH<\\/td><td>OTHERS<\\/td><td>Dallas<\\/td><td>USD 4998.53 million<\\/td><\\/tr><tr><th>301<\\/th><td>Region B<\\/td><td>2021<\\/td><td>2<\\/td><td>ASSETS<\\/td><td>SALES<\\/td><td>St. Louis<\\/td><td>USD 4250.38 million<\\/td><\\/tr><tr><th>302<\\/th><td>Region B<\\/td><td>2021<\\/td><td>2<\\/td><td>LIABILITIES<\\/td><td>OTHERS<\\/td><td>Cleveland<\\/td><td>USD 4440.21 million<\\/td><\\/tr><tr><th>303<\\/th><td>Region B<\\/td><td>2021<\\/td><td>2<\\/td><td>NON-OPERATING_EXPENSES<\\/td><td>IT<\\/td><td>Kansas City<\\/td><td>USD 4006.44 million<\\/td><\\/tr><tr><th>304<\\/th><td>Region B<\\/td><td>2021<\\/td><td>2<\\/td><td>OPERATING_EXPENSES<\\/td><td>BUSINESS<\\/td><td>Dallas<\\/td><td>USD 3458.77 million<\\/td><\\/tr><tr><th>305<\\/th><td>Region B<\\/td><td>2021<\\/td><td>2<\\/td><td>OPERATING_EXPENSES<\\/td><td>IT<\\/td><td>Minneapolis<\\/td><td>USD 4582.68 million<\\/td><\\/tr><tr><th>306<\\/th><td>Region B<\\/td><td>2021<\\/td><td>2<\\/td><td>STATISTICS<\\/td><td>HR<\\/td><td>San Francisco<\\/td><td>USD 3812.89 million<\\/td><\\/tr><tr><th>307<\\/th><td>Region B<\\/td><td>2021<\\/td><td>2<\\/td><td>OPERATING_EXPENSES<\\/td><td>HR<\\/td><td>Cleveland<\\/td><td>USD 3614.93 million<\\/td><\\/tr><tr><th>308<\\/th><td>Region B<\\/td><td>2021<\\/td><td>2<\\/td><td>LIABILITIES<\\/td><td>OTHERS<\\/td><td>St. Louis<\\/td><td>USD 4461.69 million<\\/td><\\/tr><tr><th>309<\\/th><td>Region B<\\/td><td>2021<\\/td><td>2<\\/td><td>OPERATING_EXPENSES<\\/td><td>OTHERS<\\/td><td>Atlanta<\\/td><td>USD 3828.67 million<\\/td><\\/tr><tr><th>310<\\/th><td>Region B<\\/td><td>2021<\\/td><td>2<\\/td><td>OPERATING_EXPENSES<\\/td><td>BUSINESS<\\/td><td>San Francisco<\\/td><td>USD 3644.08 million<\\/td><\\/tr><tr><th>311<\\/th><td>Region B<\\/td><td>2021<\\/td><td>2<\\/td><td>NON-OPERATING_EXPENSES<\\/td><td>OTHERS<\\/td><td>St. Louis<\\/td><td>USD 3616.26 million<\\/td><\\/tr><tr><th>312<\\/th><td>Region B<\\/td><td>2021<\\/td><td>2<\\/td><td>NET_WORTH<\\/td><td>IT<\\/td><td>Boston<\\/td><td>USD 4448.35 million<\\/td><\\/tr><tr><th>313<\\/th><td>Region B<\\/td><td>2021<\\/td><td>2<\\/td><td>STATISTICS<\\/td><td>BUSINESS<\\/td><td>San Francisco<\\/td><td>USD 4297.2 million<\\/td><\\/tr><tr><th>314<\\/th><td>Region B<\\/td><td>2021<\\/td><td>2<\\/td><td>NET_WORTH<\\/td><td>BUSINESS<\\/td><td>Minneapolis<\\/td><td>USD 4480.38 million<\\/td><\\/tr><tr><th>315<\\/th><td>Region B<\\/td><td>2021<\\/td><td>2<\\/td><td>STATISTICS<\\/td><td>SALES<\\/td><td>Chicago<\\/td><td>USD 4373.44 million<\\/td><\\/tr><tr><th>316<\\/th><td>Region B<\\/td><td>2021<\\/td><td>2<\\/td><td>ASSETS<\\/td><td>BUSINESS<\\/td><td>St. Louis<\\/td><td>USD 3544.04 million<\\/td><\\/tr><tr><th>317<\\/th><td>Region B<\\/td><td>2021<\\/td><td>2<\\/td><td>LIABILITIES<\\/td><td>HR<\\/td><td>New York<\\/td><td>USD 3549.84 million<\\/td><\\/tr><tr><th>318<\\/th><td>Region B<\\/td><td>2021<\\/td><td>2<\\/td><td>LIABILITIES<\\/td><td>SALES<\\/td><td>New York<\\/td><td>USD 4387.0 million<\\/td><\\/tr><tr><th>319<\\/th><td>Region B<\\/td><td>2021<\\/td><td>2<\\/td><td>REVENUE<\\/td><td>OTHERS<\\/td><td>Dallas<\\/td><td>USD 3616.4 million<\\/td><\\/tr><tr><th>320<\\/th><td>Region B<\\/td><td>2021<\\/td><td>2<\\/td><td>REVENUE<\\/td><td>IT<\\/td><td>Chicago<\\/td><td>USD 3961.33 million<\\/td><\\/tr><tr><th>321<\\/th><td>Region B<\\/td><td>2021<\\/td><td>2<\\/td><td>REVENUE<\\/td><td>BUSINESS<\\/td><td>New York<\\/td><td>USD 3625.01 million<\\/td><\\/tr><tr><th>322<\\/th><td>Region B<\\/td><td>2021<\\/td><td>2<\\/td><td>LIABILITIES<\\/td><td>BUSINESS<\\/td><td>Boston<\\/td><td>USD 4627.67 million<\\/td><\\/tr><tr><th>323<\\/th><td>Region B<\\/td><td>2021<\\/td><td>2<\\/td><td>LIABILITIES<\\/td><td>HR<\\/td><td>San Francisco<\\/td><td>USD 4498.27 million<\\/td><\\/tr><tr><th>324<\\/th><td>Region B<\\/td><td>2021<\\/td><td>2<\\/td><td>STATISTICS<\\/td><td>BUSINESS<\\/td><td>Minneapolis<\\/td><td>USD 4315.26 million<\\/td><\\/tr><tr><th>325<\\/th><td>Region B<\\/td><td>2021<\\/td><td>2<\\/td><td>ASSETS<\\/td><td>HR<\\/td><td>Kansas City<\\/td><td>USD 3924.74 million<\\/td><\\/tr><tr><th>326<\\/th><td>Region B<\\/td><td>2021<\\/td><td>2<\\/td><td>STATISTICS<\\/td><td>OTHERS<\\/td><td>Philadelphia<\\/td><td>USD 4196.58 million<\\/td><\\/tr><tr><th>327<\\/th><td>Region B<\\/td><td>2021<\\/td><td>2<\\/td><td>OPERATING_EXPENSES<\\/td><td>HR<\\/td><td>New York<\\/td><td>USD 4176.41 million<\\/td><\\/tr><tr><th>328<\\/th><td>Region B<\\/td><td>2021<\\/td><td>2<\\/td><td>REVENUE<\\/td><td>SALES<\\/td><td>San Francisco<\\/td><td>USD 3641.69 million<\\/td><\\/tr><tr><th>329<\\/th><td>Region B<\\/td><td>2021<\\/td><td>2<\\/td><td>REVENUE<\\/td><td>OTHERS<\\/td><td>Chicago<\\/td><td>USD 3815.97 million<\\/td><\\/tr><tr><th>330<\\/th><td>Region B<\\/td><td>2021<\\/td><td>2<\\/td><td>OPERATING_EXPENSES<\\/td><td>SALES<\\/td><td>St. Louis<\\/td><td>USD 3355.44 million<\\/td><\\/tr><tr><th>331<\\/th><td>Region B<\\/td><td>2021<\\/td><td>2<\\/td><td>OPERATING_EXPENSES<\\/td><td>SALES<\\/td><td>New York<\\/td><td>USD 3358.87 million<\\/td><\\/tr><tr><th>332<\\/th><td>Region B<\\/td><td>2021<\\/td><td>2<\\/td><td>NON-OPERATING_EXPENSES<\\/td><td>HR<\\/td><td>St. Louis<\\/td><td>USD 4208.25 million<\\/td><\\/tr><tr><th>333<\\/th><td>Region B<\\/td><td>2021<\\/td><td>2<\\/td><td>NET_WORTH<\\/td><td>OTHERS<\\/td><td>St. Louis<\\/td><td>USD 4463.89 million<\\/td><\\/tr><tr><th>334<\\/th><td>Region B<\\/td><td>2021<\\/td><td>2<\\/td><td>ASSETS<\\/td><td>BUSINESS<\\/td><td>Philadelphia<\\/td><td>USD 3579.11 million<\\/td><\\/tr><tr><th>335<\\/th><td>Region B<\\/td><td>2021<\\/td><td>2<\\/td><td>REVENUE<\\/td><td>BUSINESS<\\/td><td>San Francisco<\\/td><td>USD 3290.47 million<\\/td><\\/tr><tr><th>336<\\/th><td>Region B<\\/td><td>2021<\\/td><td>2<\\/td><td>LIABILITIES<\\/td><td>OTHERS<\\/td><td>Minneapolis<\\/td><td>USD 3416.22 million<\\/td><\\/tr><tr><th>337<\\/th><td>Region B<\\/td><td>2021<\\/td><td>2<\\/td><td>OPERATING_EXPENSES<\\/td><td>IT<\\/td><td>Atlanta<\\/td><td>USD 4744.26 million<\\/td><\\/tr><tr><th>338<\\/th><td>Region B<\\/td><td>2021<\\/td><td>2<\\/td><td>STATISTICS<\\/td><td>HR<\\/td><td>New York<\\/td><td>USD 3740.18 million<\\/td><\\/tr><tr><th>339<\\/th><td>Region B<\\/td><td>2021<\\/td><td>2<\\/td><td>STATISTICS<\\/td><td>IT<\\/td><td>Chicago<\\/td><td>USD 4877.71 million<\\/td><\\/tr><tr><th>340<\\/th><td>Region B<\\/td><td>2021<\\/td><td>2<\\/td><td>STATISTICS<\\/td><td>IT<\\/td><td>Dallas<\\/td><td>USD 2708.41 million<\\/td><\\/tr><tr><th>341<\\/th><td>Region B<\\/td><td>2021<\\/td><td>2<\\/td><td>ASSETS<\\/td><td>IT<\\/td><td>Dallas<\\/td><td>USD 3506.32 million<\\/td><\\/tr><tr><th>342<\\/th><td>Region B<\\/td><td>2021<\\/td><td>2<\\/td><td>NET_WORTH<\\/td><td>BUSINESS<\\/td><td>St. Louis<\\/td><td>USD 4947.56 million<\\/td><\\/tr><tr><th>343<\\/th><td>Region B<\\/td><td>2021<\\/td><td>2<\\/td><td>OPERATING_EXPENSES<\\/td><td>SALES<\\/td><td>Richmond<\\/td><td>USD 3400.41 million<\\/td><\\/tr><tr><th>344<\\/th><td>Region B<\\/td><td>2021<\\/td><td>2<\\/td><td>STATISTICS<\\/td><td>SALES<\\/td><td>St. Louis<\\/td><td>USD 3503.3 million<\\/td><\\/tr><tr><th>345<\\/th><td>Region B<\\/td><td>2021<\\/td><td>2<\\/td><td>NET_WORTH<\\/td><td>BUSINESS<\\/td><td>San Francisco<\\/td><td>USD 4297.84 million<\\/td><\\/tr><tr><th>346<\\/th><td>Region B<\\/td><td>2021<\\/td><td>2<\\/td><td>REVENUE<\\/td><td>HR<\\/td><td>Richmond<\\/td><td>USD 3994.18 million<\\/td><\\/tr><tr><th>347<\\/th><td>Region B<\\/td><td>2021<\\/td><td>2<\\/td><td>REVENUE<\\/td><td>SALES<\\/td><td>Kansas City<\\/td><td>USD 3945.2 million<\\/td><\\/tr><tr><th>348<\\/th><td>Region B<\\/td><td>2021<\\/td><td>2<\\/td><td>STATISTICS<\\/td><td>IT<\\/td><td>St. Louis<\\/td><td>USD 3900.92 million<\\/td><\\/tr><tr><th>349<\\/th><td>Region B<\\/td><td>2021<\\/td><td>2<\\/td><td>STATISTICS<\\/td><td>SALES<\\/td><td>Minneapolis<\\/td><td>USD 4518.63 million<\\/td><\\/tr><tr><th>350<\\/th><td>Region B<\\/td><td>2021<\\/td><td>2<\\/td><td>ASSETS<\\/td><td>OTHERS<\\/td><td>New York<\\/td><td>USD 4133.53 million<\\/td><\\/tr><tr><th>351<\\/th><td>Region B<\\/td><td>2021<\\/td><td>2<\\/td><td>OPERATING_EXPENSES<\\/td><td>IT<\\/td><td>Cleveland<\\/td><td>USD 3533.37 million<\\/td><\\/tr><tr><th>352<\\/th><td>Region B<\\/td><td>2021<\\/td><td>2<\\/td><td>NON-OPERATING_EXPENSES<\\/td><td>SALES<\\/td><td>Minneapolis<\\/td><td>USD 3847.42 million<\\/td><\\/tr><tr><th>353<\\/th><td>Region B<\\/td><td>2021<\\/td><td>2<\\/td><td>NON-OPERATING_EXPENSES<\\/td><td>IT<\\/td><td>Chicago<\\/td><td>USD 3302.56 million<\\/td><\\/tr><tr><th>354<\\/th><td>Region B<\\/td><td>2021<\\/td><td>2<\\/td><td>REVENUE<\\/td><td>OTHERS<\\/td><td>Cleveland<\\/td><td>USD 3156.42 million<\\/td><\\/tr><tr><th>355<\\/th><td>Region B<\\/td><td>2021<\\/td><td>2<\\/td><td>REVENUE<\\/td><td>BUSINESS<\\/td><td>Chicago<\\/td><td>USD 3495.35 million<\\/td><\\/tr><tr><th>356<\\/th><td>Region B<\\/td><td>2021<\\/td><td>2<\\/td><td>STATISTICS<\\/td><td>HR<\\/td><td>Richmond<\\/td><td>USD 3360.18 million<\\/td><\\/tr><tr><th>357<\\/th><td>Region B<\\/td><td>2021<\\/td><td>2<\\/td><td>NET_WORTH<\\/td><td>IT<\\/td><td>Richmond<\\/td><td>USD 4037.96 million<\\/td><\\/tr><tr><th>358<\\/th><td>Region B<\\/td><td>2021<\\/td><td>2<\\/td><td>OPERATING_EXPENSES<\\/td><td>OTHERS<\\/td><td>Boston<\\/td><td>USD 3400.47 million<\\/td><\\/tr><tr><th>359<\\/th><td>Region B<\\/td><td>2021<\\/td><td>2<\\/td><td>STATISTICS<\\/td><td>HR<\\/td><td>Cleveland<\\/td><td>USD 5120.77 million<\\/td><\\/tr><tr><th>360<\\/th><td>Region B<\\/td><td>2021<\\/td><td>2<\\/td><td>NON-OPERATING_EXPENSES<\\/td><td>HR<\\/td><td>New York<\\/td><td>USD 3341.5 million<\\/td><\\/tr><tr><th>361<\\/th><td>Region B<\\/td><td>2021<\\/td><td>2<\\/td><td>NET_WORTH<\\/td><td>OTHERS<\\/td><td>Cleveland<\\/td><td>USD 3950.75 million<\\/td><\\/tr><tr><th>362<\\/th><td>Region B<\\/td><td>2021<\\/td><td>2<\\/td><td>LIABILITIES<\\/td><td>BUSINESS<\\/td><td>Atlanta<\\/td><td>USD 3909.57 million<\\/td><\\/tr><tr><th>363<\\/th><td>Region B<\\/td><td>2021<\\/td><td>2<\\/td><td>ASSETS<\\/td><td>SALES<\\/td><td>Philadelphia<\\/td><td>USD 3477.24 million<\\/td><\\/tr><tr><th>364<\\/th><td>Region B<\\/td><td>2021<\\/td><td>2<\\/td><td>NET_WORTH<\\/td><td>HR<\\/td><td>Atlanta<\\/td><td>USD 3750.61 million<\\/td><\\/tr><tr><th>365<\\/th><td>Region B<\\/td><td>2021<\\/td><td>2<\\/td><td>NON-OPERATING_EXPENSES<\\/td><td>HR<\\/td><td>Richmond<\\/td><td>USD 3762.4 million<\\/td><\\/tr><tr><th>366<\\/th><td>Region B<\\/td><td>2021<\\/td><td>2<\\/td><td>REVENUE<\\/td><td>BUSINESS<\\/td><td>Atlanta<\\/td><td>USD 3524.35 million<\\/td><\\/tr><tr><th>367<\\/th><td>Region B<\\/td><td>2021<\\/td><td>2<\\/td><td>NON-OPERATING_EXPENSES<\\/td><td>BUSINESS<\\/td><td>Minneapolis<\\/td><td>USD 3918.28 million<\\/td><\\/tr><tr><th>368<\\/th><td>Region B<\\/td><td>2021<\\/td><td>2<\\/td><td>ASSETS<\\/td><td>HR<\\/td><td>Atlanta<\\/td><td>USD 3877.97 million<\\/td><\\/tr><tr><th>369<\\/th><td>Region B<\\/td><td>2021<\\/td><td>2<\\/td><td>NON-OPERATING_EXPENSES<\\/td><td>HR<\\/td><td>Kansas City<\\/td><td>USD 3928.57 million<\\/td><\\/tr><tr><th>370<\\/th><td>Region B<\\/td><td>2021<\\/td><td>2<\\/td><td>REVENUE<\\/td><td>IT<\\/td><td>Boston<\\/td><td>USD 3771.93 million<\\/td><\\/tr><tr><th>371<\\/th><td>Region B<\\/td><td>2021<\\/td><td>2<\\/td><td>REVENUE<\\/td><td>OTHERS<\\/td><td>Philadelphia<\\/td><td>USD 3863.22 million<\\/td><\\/tr><tr><th>372<\\/th><td>Region B<\\/td><td>2021<\\/td><td>2<\\/td><td>NET_WORTH<\\/td><td>OTHERS<\\/td><td>New York<\\/td><td>USD 3363.16 million<\\/td><\\/tr><tr><th>373<\\/th><td>Region B<\\/td><td>2021<\\/td><td>2<\\/td><td>STATISTICS<\\/td><td>SALES<\\/td><td>Richmond<\\/td><td>USD 3897.3 million<\\/td><\\/tr><tr><th>374<\\/th><td>Region B<\\/td><td>2021<\\/td><td>2<\\/td><td>NET_WORTH<\\/td><td>SALES<\\/td><td>Richmond<\\/td><td>USD 3768.73 million<\\/td><\\/tr><tr><th>375<\\/th><td>Region B<\\/td><td>2021<\\/td><td>2<\\/td><td>STATISTICS<\\/td><td>SALES<\\/td><td>Boston<\\/td><td>USD 4744.92 million<\\/td><\\/tr><tr><th>376<\\/th><td>Region B<\\/td><td>2021<\\/td><td>2<\\/td><td>NON-OPERATING_EXPENSES<\\/td><td>BUSINESS<\\/td><td>Kansas City<\\/td><td>USD 4498.11 million<\\/td><\\/tr><tr><th>377<\\/th><td>Region B<\\/td><td>2021<\\/td><td>2<\\/td><td>REVENUE<\\/td><td>HR<\\/td><td>Philadelphia<\\/td><td>USD 3751.32 million<\\/td><\\/tr><tr><th>378<\\/th><td>Region B<\\/td><td>2021<\\/td><td>2<\\/td><td>OPERATING_EXPENSES<\\/td><td>IT<\\/td><td>Chicago<\\/td><td>USD 4065.66 million<\\/td><\\/tr><tr><th>379<\\/th><td>Region B<\\/td><td>2021<\\/td><td>2<\\/td><td>NET_WORTH<\\/td><td>BUSINESS<\\/td><td>New York<\\/td><td>USD 3786.22 million<\\/td><\\/tr><tr><th>380<\\/th><td>Region B<\\/td><td>2021<\\/td><td>2<\\/td><td>OPERATING_EXPENSES<\\/td><td>IT<\\/td><td>Philadelphia<\\/td><td>USD 3674.19 million<\\/td><\\/tr><tr><th>381<\\/th><td>Region B<\\/td><td>2021<\\/td><td>2<\\/td><td>NET_WORTH<\\/td><td>BUSINESS<\\/td><td>Kansas City<\\/td><td>USD 3168.14 million<\\/td><\\/tr><tr><th>382<\\/th><td>Region B<\\/td><td>2021<\\/td><td>2<\\/td><td>OPERATING_EXPENSES<\\/td><td>HR<\\/td><td>San Francisco<\\/td><td>USD 3337.98 million<\\/td><\\/tr><tr><th>383<\\/th><td>Region B<\\/td><td>2021<\\/td><td>2<\\/td><td>NET_WORTH<\\/td><td>OTHERS<\\/td><td>Kansas City<\\/td><td>USD 3765.9 million<\\/td><\\/tr><tr><th>384<\\/th><td>Region B<\\/td><td>2021<\\/td><td>2<\\/td><td>OPERATING_EXPENSES<\\/td><td>HR<\\/td><td>Richmond<\\/td><td>USD 3776.64 million<\\/td><\\/tr><tr><th>385<\\/th><td>Region B<\\/td><td>2021<\\/td><td>2<\\/td><td>ASSETS<\\/td><td>HR<\\/td><td>Dallas<\\/td><td>USD 3211.58 million<\\/td><\\/tr><tr><th>386<\\/th><td>Region B<\\/td><td>2021<\\/td><td>2<\\/td><td>STATISTICS<\\/td><td>SALES<\\/td><td>Atlanta<\\/td><td>USD 3402.09 million<\\/td><\\/tr><tr><th>387<\\/th><td>Region B<\\/td><td>2021<\\/td><td>2<\\/td><td>NET_WORTH<\\/td><td>HR<\\/td><td>Dallas<\\/td><td>USD 5013.63 million<\\/td><\\/tr><tr><th>388<\\/th><td>Region B<\\/td><td>2021<\\/td><td>2<\\/td><td>LIABILITIES<\\/td><td>IT<\\/td><td>Boston<\\/td><td>USD 3499.94 million<\\/td><\\/tr><tr><th>389<\\/th><td>Region B<\\/td><td>2021<\\/td><td>2<\\/td><td>NET_WORTH<\\/td><td>OTHERS<\\/td><td>Atlanta<\\/td><td>USD 4442.08 million<\\/td><\\/tr><tr><th>390<\\/th><td>Region B<\\/td><td>2021<\\/td><td>2<\\/td><td>ASSETS<\\/td><td>OTHERS<\\/td><td>San Francisco<\\/td><td>USD 3914.48 million<\\/td><\\/tr><tr><th>391<\\/th><td>Region B<\\/td><td>2021<\\/td><td>2<\\/td><td>LIABILITIES<\\/td><td>SALES<\\/td><td>Richmond<\\/td><td>USD 3139.59 million<\\/td><\\/tr><tr><th>392<\\/th><td>Region B<\\/td><td>2021<\\/td><td>2<\\/td><td>ASSETS<\\/td><td>SALES<\\/td><td>New York<\\/td><td>USD 3224.55 million<\\/td><\\/tr><tr><th>393<\\/th><td>Region B<\\/td><td>2021<\\/td><td>2<\\/td><td>NON-OPERATING_EXPENSES<\\/td><td>BUSINESS<\\/td><td>Atlanta<\\/td><td>USD 4508.29 million<\\/td><\\/tr><tr><th>394<\\/th><td>Region B<\\/td><td>2021<\\/td><td>2<\\/td><td>LIABILITIES<\\/td><td>SALES<\\/td><td>Atlanta<\\/td><td>USD 4241.26 million<\\/td><\\/tr><tr><th>395<\\/th><td>Region B<\\/td><td>2021<\\/td><td>2<\\/td><td>OPERATING_EXPENSES<\\/td><td>SALES<\\/td><td>Atlanta<\\/td><td>USD 3592.17 million<\\/td><\\/tr><tr><th>396<\\/th><td>Region B<\\/td><td>2021<\\/td><td>2<\\/td><td>LIABILITIES<\\/td><td>OTHERS<\\/td><td>Dallas<\\/td><td>USD 3695.96 million<\\/td><\\/tr><tr><th>397<\\/th><td>Region B<\\/td><td>2021<\\/td><td>2<\\/td><td>OPERATING_EXPENSES<\\/td><td>OTHERS<\\/td><td>San Francisco<\\/td><td>USD 3089.01 million<\\/td><\\/tr><tr><th>398<\\/th><td>Region B<\\/td><td>2021<\\/td><td>2<\\/td><td>STATISTICS<\\/td><td>SALES<\\/td><td>Kansas City<\\/td><td>USD 3948.26 million<\\/td><\\/tr><tr><th>399<\\/th><td>Region B<\\/td><td>2021<\\/td><td>2<\\/td><td>ASSETS<\\/td><td>BUSINESS<\\/td><td>Kansas City<\\/td><td>USD 3119.45 million<\\/td><\\/tr><tr><th>400<\\/th><td>Region B<\\/td><td>2021<\\/td><td>2<\\/td><td>REVENUE<\\/td><td>SALES<\\/td><td>St. Louis<\\/td><td>USD 4053.0 million<\\/td><\\/tr><tr><th>401<\\/th><td>Region B<\\/td><td>2021<\\/td><td>2<\\/td><td>REVENUE<\\/td><td>OTHERS<\\/td><td>Atlanta<\\/td><td>USD 3683.48 million<\\/td><\\/tr><tr><th>402<\\/th><td>Region B<\\/td><td>2021<\\/td><td>2<\\/td><td>NON-OPERATING_EXPENSES<\\/td><td>HR<\\/td><td>Atlanta<\\/td><td>USD 3858.73 million<\\/td><\\/tr><tr><th>403<\\/th><td>Region B<\\/td><td>2021<\\/td><td>2<\\/td><td>ASSETS<\\/td><td>SALES<\\/td><td>San Francisco<\\/td><td>USD 3291.86 million<\\/td><\\/tr><tr><th>404<\\/th><td>Region B<\\/td><td>2021<\\/td><td>2<\\/td><td>NET_WORTH<\\/td><td>HR<\\/td><td>Chicago<\\/td><td>USD 3804.4 million<\\/td><\\/tr><tr><th>405<\\/th><td>Region B<\\/td><td>2021<\\/td><td>2<\\/td><td>ASSETS<\\/td><td>SALES<\\/td><td>Atlanta<\\/td><td>USD 3943.89 million<\\/td><\\/tr><tr><th>406<\\/th><td>Region B<\\/td><td>2021<\\/td><td>2<\\/td><td>ASSETS<\\/td><td>BUSINESS<\\/td><td>Boston<\\/td><td>USD 3909.51 million<\\/td><\\/tr><tr><th>407<\\/th><td>Region B<\\/td><td>2021<\\/td><td>2<\\/td><td>ASSETS<\\/td><td>HR<\\/td><td>Richmond<\\/td><td>USD 3539.07 million<\\/td><\\/tr><tr><th>408<\\/th><td>Region B<\\/td><td>2021<\\/td><td>2<\\/td><td>REVENUE<\\/td><td>IT<\\/td><td>Cleveland<\\/td><td>USD 3763.62 million<\\/td><\\/tr><tr><th>409<\\/th><td>Region B<\\/td><td>2021<\\/td><td>2<\\/td><td>OPERATING_EXPENSES<\\/td><td>SALES<\\/td><td>Minneapolis<\\/td><td>USD 4179.07 million<\\/td><\\/tr><tr><th>410<\\/th><td>Region B<\\/td><td>2021<\\/td><td>2<\\/td><td>STATISTICS<\\/td><td>OTHERS<\\/td><td>Boston<\\/td><td>USD 3585.53 million<\\/td><\\/tr><tr><th>411<\\/th><td>Region B<\\/td><td>2021<\\/td><td>2<\\/td><td>LIABILITIES<\\/td><td>IT<\\/td><td>Cleveland<\\/td><td>USD 5007.31 million<\\/td><\\/tr><tr><th>412<\\/th><td>Region B<\\/td><td>2021<\\/td><td>2<\\/td><td>OPERATING_EXPENSES<\\/td><td>SALES<\\/td><td>Dallas<\\/td><td>USD 3356.67 million<\\/td><\\/tr><tr><th>413<\\/th><td>Region B<\\/td><td>2021<\\/td><td>2<\\/td><td>LIABILITIES<\\/td><td>OTHERS<\\/td><td>Kansas City<\\/td><td>USD 4477.97 million<\\/td><\\/tr><tr><th>414<\\/th><td>Region B<\\/td><td>2021<\\/td><td>2<\\/td><td>NET_WORTH<\\/td><td>SALES<\\/td><td>Cleveland<\\/td><td>USD 3637.36 million<\\/td><\\/tr><tr><th>415<\\/th><td>Region B<\\/td><td>2021<\\/td><td>2<\\/td><td>STATISTICS<\\/td><td>HR<\\/td><td>Boston<\\/td><td>USD 3105.55 million<\\/td><\\/tr><tr><th>416<\\/th><td>Region B<\\/td><td>2021<\\/td><td>2<\\/td><td>NON-OPERATING_EXPENSES<\\/td><td>SALES<\\/td><td>Cleveland<\\/td><td>USD 4432.2 million<\\/td><\\/tr><tr><th>417<\\/th><td>Region B<\\/td><td>2021<\\/td><td>2<\\/td><td>ASSETS<\\/td><td>BUSINESS<\\/td><td>Atlanta<\\/td><td>USD 3405.35 million<\\/td><\\/tr><tr><th>418<\\/th><td>Region B<\\/td><td>2021<\\/td><td>2<\\/td><td>LIABILITIES<\\/td><td>OTHERS<\\/td><td>San Francisco<\\/td><td>USD 3571.54 million<\\/td><\\/tr><tr><th>419<\\/th><td>Region B<\\/td><td>2021<\\/td><td>2<\\/td><td>REVENUE<\\/td><td>BUSINESS<\\/td><td>Richmond<\\/td><td>USD 3325.6 million<\\/td><\\/tr><tr><th>420<\\/th><td>Region B<\\/td><td>2021<\\/td><td>2<\\/td><td>NET_WORTH<\\/td><td>SALES<\\/td><td>Boston<\\/td><td>USD 2699.08 million<\\/td><\\/tr><\\/tbody><\\/table><\\/div>\"},\"nodeType\":\"DOM\",\"type\":\"node\",\"instanceArgs\":{\"namespace\":\"html\",\"tag\":\"div\"},\"children\":[]}]}}}},\"children\":[{\"props\":{},\"nodeType\":\"ObservableNode\",\"type\":\"node\",\"instanceArgs\":{\"id\":\"6183399349512809316\",\"name\":\"obs-node\"},\"children\":[]}]}]},\n",
       "        window,\n",
       "    );\n",
       "    })()\n",
       "    </script>\n",
       "</div>\n"
      ],
      "text/plain": [
       "Node{WebIO.DOM}(WebIO.DOM(:html, :div), Any[Node{WebIO.DOM}(WebIO.DOM(:html, :div), Any[Scope(Node{WebIO.DOM}(WebIO.DOM(:html, :div), Any[Node{WebIO.DOM}(WebIO.DOM(:html, :div), Any[Node{WebIO.DOM}(WebIO.DOM(:html, :label), Any[\"ld\"], Dict{Symbol, Any}(:className => \"interact \", :style => Dict{Any, Any}(:padding => \"5px 10px 0px 10px\")))], Dict{Symbol, Any}(:className => \"interact-flex-row-left\")), Node{WebIO.DOM}(WebIO.DOM(:html, :div), Any[Node{WebIO.DOM}(WebIO.DOM(:html, :div), Any[Node{WebIO.DOM}(WebIO.DOM(:html, :span), Any[Node{WebIO.DOM}(WebIO.DOM(:html, :label), Any[], Dict{Symbol, Any}(:attributes => Dict(\"data-bind\" => \"text : key\")))], Dict{Symbol, Any}(:attributes => Dict(\"data-bind\" => \"click: function (){\\$root.update(val)}, css: {'is-primary is-selected' : \\$root.index() == val, 'interact-widget is-medium button ' : true}\")))], Dict{Symbol, Any}(:attributes => (\"data-bind\" => \"foreach : options_js\"), :className => \"buttons has-addons is-centered\"))], Dict{Symbol, Any}(:className => \"interact-flex-row-center\")), Node{WebIO.DOM}(WebIO.DOM(:html, :div), Any[Node{WebIO.DOM}(WebIO.DOM(:html, :div), Any[], Dict{Symbol, Any}())], Dict{Symbol, Any}(:className => \"interact-flex-row-right\"))], Dict{Symbol, Any}(:className => \"interact-flex-row interact-widget\")), Dict{String, Tuple{Observables.AbstractObservable, Union{Nothing, Bool}}}(\"options_js\" => (Observable{Vector{OrderedDict}} with 1 listeners. Value:\n",
       "OrderedDict[OrderedDict{String, Any}(\"key\" => \"Actuals\", \"val\" => 1, \"id\" => \"idDW4KzHcz\"), OrderedDict{String, Any}(\"key\" => \"Budget\", \"val\" => 2, \"id\" => \"idlEm2XJ9P\")], nothing), \"index\" => (Observable{Any} with 2 listeners. Value:\n",
       "1, nothing)), Set{String}(), nothing, Asset[Asset(\"js\", \"knockout\", \"/home/ubuntu/.julia/packages/Knockout/3gjS1/src/../assets/knockout.js\"), Asset(\"js\", \"knockout_punches\", \"/home/ubuntu/.julia/packages/Knockout/3gjS1/src/../assets/knockout_punches.js\"), Asset(\"js\", nothing, \"/home/ubuntu/.julia/packages/InteractBase/h8Fwe/src/../assets/all.js\"), Asset(\"css\", nothing, \"/home/ubuntu/.julia/packages/InteractBase/h8Fwe/src/../assets/style.css\"), Asset(\"css\", nothing, \"/home/ubuntu/.julia/packages/Interact/pVyN2/src/../assets/bulma_confined.min.css\")], Dict{Any, Any}(\"options_js\" => Any[WebIO.JSString(\"(function (val){return (val!=this.model[\\\"options_js\\\"]()) ? (this.valueFromJulia[\\\"options_js\\\"]=true, this.model[\\\"options_js\\\"](val)) : undefined})\")], \"index\" => Any[WebIO.JSString(\"(function (val){return (val!=this.model[\\\"index\\\"]()) ? (this.valueFromJulia[\\\"index\\\"]=true, this.model[\\\"index\\\"](val)) : undefined})\")]), WebIO.ConnectionPool(Channel{Any}(32), Set{AbstractConnection}(), Condition(Base.InvasiveLinkedList{Task}(Task (runnable) @0x00007f6c59eb66e0, Task (runnable) @0x00007f6c59eb66e0), Base.AlwaysLockedST(1))), WebIO.JSString[WebIO.JSString(\"function () {\\n    var handler = (function (ko, koPunches) {\\n    ko.punches.enableAll();\\n    ko.bindingHandlers.numericValue = {\\n        init: function(element, valueAccessor, allBindings, data, context) {\\n            var stringified = ko.observable(ko.unwrap(valueAccessor()));\\n            stringified.subscribe(function(value) {\\n                var val = parseFloat(value);\\n                if (!isNaN(val)) {\\n                    valueAccessor()(val);\\n                }\\n            });\\n            valueAccessor().subscribe(function(value) {\\n                var str = JSON.stringify(value);\\n                if ((str == \\\"0\\\") && ([\\\"-0\\\", \\\"-0.\\\"].indexOf(stringified()) >= 0))\\n                     return;\\n                 if ([\\\"null\\\", \\\"\\\"].indexOf(str) >= 0)\\n                     return;\\n                stringified(str);\\n            });\\n            ko.applyBindingsToNode(\\n                element,\\n                {\\n                    value: stringified,\\n                    valueUpdate: allBindings.get('valueUpdate'),\\n                },\\n                context,\\n            );\\n        }\\n    };\\n    var json_data = {\\\"options_js\\\":WebIO.getval({\\\"name\\\":\\\"options_js\\\",\\\"scope\\\":\\\"639515942126972549\\\",\\\"id\\\":\\\"10173941480902858049\\\",\\\"type\\\":\\\"observable\\\"}),\\\"index\\\":WebIO.getval({\\\"name\\\":\\\"index\\\",\\\"scope\\\":\\\"639515942126972549\\\",\\\"id\\\":\\\"8735275560905044657\\\",\\\"type\\\":\\\"observable\\\"})};\\n    var self = this;\\n    function AppViewModel() {\\n        for (var key in json_data) {\\n            var el = json_data[key];\\n            this[key] = Array.isArray(el) ? ko.observableArray(el) : ko.observable(el);\\n        }\\n        [this[\\\"update\\\"]=function (val) {this.index(val)}]\\n        \\n        [this[\\\"options_js\\\"].subscribe((function (val){!(this.valueFromJulia[\\\"options_js\\\"]) ? (WebIO.setval({\\\"name\\\":\\\"options_js\\\",\\\"scope\\\":\\\"639515942126972549\\\",\\\"id\\\":\\\"10173941480902858049\\\",\\\"type\\\":\\\"observable\\\"},val)) : undefined; return this.valueFromJulia[\\\"options_js\\\"]=false}),self),this[\\\"index\\\"].subscribe((function (val){!(this.valueFromJulia[\\\"index\\\"]) ? (WebIO.setval({\\\"name\\\":\\\"index\\\",\\\"scope\\\":\\\"639515942126972549\\\",\\\"id\\\":\\\"8735275560905044657\\\",\\\"type\\\":\\\"observable\\\"},val)) : undefined; return this.valueFromJulia[\\\"index\\\"]=false}),self)]\\n        \\n    }\\n    self.model = new AppViewModel();\\n    self.valueFromJulia = {};\\n    for (var key in json_data) {\\n        self.valueFromJulia[key] = false;\\n    }\\n    ko.applyBindings(self.model, self.dom);\\n}\\n);\\n    (WebIO.importBlock({\\\"data\\\":[{\\\"name\\\":\\\"knockout\\\",\\\"type\\\":\\\"js\\\",\\\"url\\\":\\\"/assetserver/7adbe83fac1553325d6e718d595ab555e1cabbe4-knockout.js\\\"},{\\\"name\\\":\\\"knockout_punches\\\",\\\"type\\\":\\\"js\\\",\\\"url\\\":\\\"/assetserver/cec8c4de011abc05b545afbaaea4bb4465a1f168-knockout_punches.js\\\"}],\\\"type\\\":\\\"async_block\\\"})).then((imports) => handler.apply(this, imports));\\n}\\n\")])], Dict{Symbol, Any}(:className => \"interact-widget\")), Node{WebIO.DOM}(WebIO.DOM(:html, :div), Any[Scope(Node{WebIO.DOM}(WebIO.DOM(:html, :div), Any[Node{WebIO.DOM}(WebIO.DOM(:html, :div), Any[Node{WebIO.DOM}(WebIO.DOM(:html, :label), Any[\"rg\"], Dict{Symbol, Any}(:className => \"interact \", :style => Dict{Any, Any}(:padding => \"5px 10px 0px 10px\")))], Dict{Symbol, Any}(:className => \"interact-flex-row-left\")), Node{WebIO.DOM}(WebIO.DOM(:html, :div), Any[Node{WebIO.DOM}(WebIO.DOM(:html, :div), Any[Node{WebIO.DOM}(WebIO.DOM(:html, :span), Any[Node{WebIO.DOM}(WebIO.DOM(:html, :label), Any[], Dict{Symbol, Any}(:attributes => Dict(\"data-bind\" => \"text : key\")))], Dict{Symbol, Any}(:attributes => Dict(\"data-bind\" => \"click: function (){\\$root.update(val)}, css: {'is-primary is-selected' : \\$root.index() == val, 'interact-widget is-medium button ' : true}\")))], Dict{Symbol, Any}(:attributes => (\"data-bind\" => \"foreach : options_js\"), :className => \"buttons has-addons is-centered\"))], Dict{Symbol, Any}(:className => \"interact-flex-row-center\")), Node{WebIO.DOM}(WebIO.DOM(:html, :div), Any[Node{WebIO.DOM}(WebIO.DOM(:html, :div), Any[], Dict{Symbol, Any}())], Dict{Symbol, Any}(:className => \"interact-flex-row-right\"))], Dict{Symbol, Any}(:className => \"interact-flex-row interact-widget\")), Dict{String, Tuple{Observables.AbstractObservable, Union{Nothing, Bool}}}(\"options_js\" => (Observable{Vector{OrderedDict}} with 1 listeners. Value:\n",
       "OrderedDict[OrderedDict{String, Any}(\"key\" => \"Region B\", \"val\" => 1, \"id\" => \"id7VR4tUTP\"), OrderedDict{String, Any}(\"key\" => \"Region C\", \"val\" => 2, \"id\" => \"idfhkU3oNz\"), OrderedDict{String, Any}(\"key\" => \"Region A\", \"val\" => 3, \"id\" => \"idaG6o53sc\")], nothing), \"index\" => (Observable{Any} with 2 listeners. Value:\n",
       "1, nothing)), Set{String}(), nothing, Asset[Asset(\"js\", \"knockout\", \"/home/ubuntu/.julia/packages/Knockout/3gjS1/src/../assets/knockout.js\"), Asset(\"js\", \"knockout_punches\", \"/home/ubuntu/.julia/packages/Knockout/3gjS1/src/../assets/knockout_punches.js\"), Asset(\"js\", nothing, \"/home/ubuntu/.julia/packages/InteractBase/h8Fwe/src/../assets/all.js\"), Asset(\"css\", nothing, \"/home/ubuntu/.julia/packages/InteractBase/h8Fwe/src/../assets/style.css\"), Asset(\"css\", nothing, \"/home/ubuntu/.julia/packages/Interact/pVyN2/src/../assets/bulma_confined.min.css\")], Dict{Any, Any}(\"options_js\" => Any[WebIO.JSString(\"(function (val){return (val!=this.model[\\\"options_js\\\"]()) ? (this.valueFromJulia[\\\"options_js\\\"]=true, this.model[\\\"options_js\\\"](val)) : undefined})\")], \"index\" => Any[WebIO.JSString(\"(function (val){return (val!=this.model[\\\"index\\\"]()) ? (this.valueFromJulia[\\\"index\\\"]=true, this.model[\\\"index\\\"](val)) : undefined})\")]), WebIO.ConnectionPool(Channel{Any}(32), Set{AbstractConnection}(), Condition(Base.InvasiveLinkedList{Task}(Task (runnable) @0x00007f6c59eb69c0, Task (runnable) @0x00007f6c59eb69c0), Base.AlwaysLockedST(1))), WebIO.JSString[WebIO.JSString(\"function () {\\n    var handler = (function (ko, koPunches) {\\n    ko.punches.enableAll();\\n    ko.bindingHandlers.numericValue = {\\n        init: function(element, valueAccessor, allBindings, data, context) {\\n            var stringified = ko.observable(ko.unwrap(valueAccessor()));\\n            stringified.subscribe(function(value) {\\n                var val = parseFloat(value);\\n                if (!isNaN(val)) {\\n                    valueAccessor()(val);\\n                }\\n            });\\n            valueAccessor().subscribe(function(value) {\\n                var str = JSON.stringify(value);\\n                if ((str == \\\"0\\\") && ([\\\"-0\\\", \\\"-0.\\\"].indexOf(stringified()) >= 0))\\n                     return;\\n                 if ([\\\"null\\\", \\\"\\\"].indexOf(str) >= 0)\\n                     return;\\n                stringified(str);\\n            });\\n            ko.applyBindingsToNode(\\n                element,\\n                {\\n                    value: stringified,\\n                    valueUpdate: allBindings.get('valueUpdate'),\\n                },\\n                context,\\n            );\\n        }\\n    };\\n    var json_data = {\\\"options_js\\\":WebIO.getval({\\\"name\\\":\\\"options_js\\\",\\\"scope\\\":\\\"5031890283094413058\\\",\\\"id\\\":\\\"165140332505002540\\\",\\\"type\\\":\\\"observable\\\"}),\\\"index\\\":WebIO.getval({\\\"name\\\":\\\"index\\\",\\\"scope\\\":\\\"5031890283094413058\\\",\\\"id\\\":\\\"8176912329501050652\\\",\\\"type\\\":\\\"observable\\\"})};\\n    var self = this;\\n    function AppViewModel() {\\n        for (var key in json_data) {\\n            var el = json_data[key];\\n            this[key] = Array.isArray(el) ? ko.observableArray(el) : ko.observable(el);\\n        }\\n        [this[\\\"update\\\"]=function (val) {this.index(val)}]\\n        \\n        [this[\\\"options_js\\\"].subscribe((function (val){!(this.valueFromJulia[\\\"options_js\\\"]) ? (WebIO.setval({\\\"name\\\":\\\"options_js\\\",\\\"scope\\\":\\\"5031890283094413058\\\",\\\"id\\\":\\\"165140332505002540\\\",\\\"type\\\":\\\"observable\\\"},val)) : undefined; return this.valueFromJulia[\\\"options_js\\\"]=false}),self),this[\\\"index\\\"].subscribe((function (val){!(this.valueFromJulia[\\\"index\\\"]) ? (WebIO.setval({\\\"name\\\":\\\"index\\\",\\\"scope\\\":\\\"5031890283094413058\\\",\\\"id\\\":\\\"8176912329501050652\\\",\\\"type\\\":\\\"observable\\\"},val)) : undefined; return this.valueFromJulia[\\\"index\\\"]=false}),self)]\\n        \\n    }\\n    self.model = new AppViewModel();\\n    self.valueFromJulia = {};\\n    for (var key in json_data) {\\n        self.valueFromJulia[key] = false;\\n    }\\n    ko.applyBindings(self.model, self.dom);\\n}\\n);\\n    (WebIO.importBlock({\\\"data\\\":[{\\\"name\\\":\\\"knockout\\\",\\\"type\\\":\\\"js\\\",\\\"url\\\":\\\"/assetserver/7adbe83fac1553325d6e718d595ab555e1cabbe4-knockout.js\\\"},{\\\"name\\\":\\\"knockout_punches\\\",\\\"type\\\":\\\"js\\\",\\\"url\\\":\\\"/assetserver/cec8c4de011abc05b545afbaaea4bb4465a1f168-knockout_punches.js\\\"}],\\\"type\\\":\\\"async_block\\\"})).then((imports) => handler.apply(this, imports));\\n}\\n\")])], Dict{Symbol, Any}(:className => \"interact-widget\")), Node{WebIO.DOM}(WebIO.DOM(:html, :div), Any[Scope(Node{WebIO.DOM}(WebIO.DOM(:html, :div), Any[Node{WebIO.DOM}(WebIO.DOM(:html, :div), Any[Node{WebIO.DOM}(WebIO.DOM(:html, :label), Any[nothing], Dict{Symbol, Any}(:className => \"interact \", :style => Dict{Any, Any}(:padding => \"5px 10px 0px 10px\")))], Dict{Symbol, Any}(:className => \"interact-flex-row-left\")), Node{WebIO.DOM}(WebIO.DOM(:html, :div), Any[Node{WebIO.DOM}(WebIO.DOM(:html, :input), Any[], Dict{Symbol, Any}(:max => 3, :min => 1, :attributes => Dict{Any, Any}(:type => \"range\", Symbol(\"data-bind\") => \"numericValue: index, valueUpdate: 'input', event: {change: function (){this.changes(this.changes()+1)}}\", \"orient\" => \"horizontal\"), :step => 1, :className => \"slider slider is-fullwidth\", :style => Dict{Any, Any}()))], Dict{Symbol, Any}(:className => \"interact-flex-row-center\")), Node{WebIO.DOM}(WebIO.DOM(:html, :div), Any[Node{WebIO.DOM}(WebIO.DOM(:html, :p), Any[], Dict{Symbol, Any}(:attributes => Dict(\"data-bind\" => \"text: formatted_val\")))], Dict{Symbol, Any}(:className => \"interact-flex-row-right\"))], Dict{Symbol, Any}(:className => \"interact-flex-row interact-widget\")), Dict{String, Tuple{Observables.AbstractObservable, Union{Nothing, Bool}}}(\"changes\" => (Observable{Int64} with 1 listeners. Value:\n",
       "0, nothing), \"index\" => (Observable{Any} with 2 listeners. Value:\n",
       "2, nothing)), Set{String}(), nothing, Asset[Asset(\"js\", \"knockout\", \"/home/ubuntu/.julia/packages/Knockout/3gjS1/src/../assets/knockout.js\"), Asset(\"js\", \"knockout_punches\", \"/home/ubuntu/.julia/packages/Knockout/3gjS1/src/../assets/knockout_punches.js\"), Asset(\"js\", nothing, \"/home/ubuntu/.julia/packages/InteractBase/h8Fwe/src/../assets/all.js\"), Asset(\"css\", nothing, \"/home/ubuntu/.julia/packages/InteractBase/h8Fwe/src/../assets/style.css\"), Asset(\"css\", nothing, \"/home/ubuntu/.julia/packages/Interact/pVyN2/src/../assets/bulma_confined.min.css\")], Dict{Any, Any}(\"changes\" => Any[WebIO.JSString(\"(function (val){return (val!=this.model[\\\"changes\\\"]()) ? (this.valueFromJulia[\\\"changes\\\"]=true, this.model[\\\"changes\\\"](val)) : undefined})\")], \"index\" => Any[WebIO.JSString(\"(function (val){return (val!=this.model[\\\"index\\\"]()) ? (this.valueFromJulia[\\\"index\\\"]=true, this.model[\\\"index\\\"](val)) : undefined})\")]), WebIO.ConnectionPool(Channel{Any}(32), Set{AbstractConnection}(), Condition(Base.InvasiveLinkedList{Task}(Task (runnable) @0x00007f6c59eb6e10, Task (runnable) @0x00007f6c59eb6e10), Base.AlwaysLockedST(1))), WebIO.JSString[WebIO.JSString(\"function () {\\n    var handler = (function (ko, koPunches) {\\n    ko.punches.enableAll();\\n    ko.bindingHandlers.numericValue = {\\n        init: function(element, valueAccessor, allBindings, data, context) {\\n            var stringified = ko.observable(ko.unwrap(valueAccessor()));\\n            stringified.subscribe(function(value) {\\n                var val = parseFloat(value);\\n                if (!isNaN(val)) {\\n                    valueAccessor()(val);\\n                }\\n            });\\n            valueAccessor().subscribe(function(value) {\\n                var str = JSON.stringify(value);\\n                if ((str == \\\"0\\\") && ([\\\"-0\\\", \\\"-0.\\\"].indexOf(stringified()) >= 0))\\n                     return;\\n                 if ([\\\"null\\\", \\\"\\\"].indexOf(str) >= 0)\\n                     return;\\n                stringified(str);\\n            });\\n            ko.applyBindingsToNode(\\n                element,\\n                {\\n                    value: stringified,\\n                    valueUpdate: allBindings.get('valueUpdate'),\\n                },\\n                context,\\n            );\\n        }\\n    };\\n    var json_data = {\\\"formatted_vals\\\":[\\\"2020\\\",\\\"2021\\\",\\\"2022\\\"],\\\"changes\\\":WebIO.getval({\\\"name\\\":\\\"changes\\\",\\\"scope\\\":\\\"17389559504321148989\\\",\\\"id\\\":\\\"6274068452279879643\\\",\\\"type\\\":\\\"observable\\\"}),\\\"index\\\":WebIO.getval({\\\"name\\\":\\\"index\\\",\\\"scope\\\":\\\"17389559504321148989\\\",\\\"id\\\":\\\"14551243121617628149\\\",\\\"type\\\":\\\"observable\\\"})};\\n    var self = this;\\n    function AppViewModel() {\\n        for (var key in json_data) {\\n            var el = json_data[key];\\n            this[key] = Array.isArray(el) ? ko.observableArray(el) : ko.observable(el);\\n        }\\n        \\n        [this[\\\"formatted_val\\\"]=ko.computed(    function(){\\n        return this.formatted_vals()[parseInt(this.index())-(1)];\\n    }\\n,this)]\\n        [this[\\\"changes\\\"].subscribe((function (val){!(this.valueFromJulia[\\\"changes\\\"]) ? (WebIO.setval({\\\"name\\\":\\\"changes\\\",\\\"scope\\\":\\\"17389559504321148989\\\",\\\"id\\\":\\\"6274068452279879643\\\",\\\"type\\\":\\\"observable\\\"},val)) : undefined; return this.valueFromJulia[\\\"changes\\\"]=false}),self),this[\\\"index\\\"].subscribe((function (val){!(this.valueFromJulia[\\\"index\\\"]) ? (WebIO.setval({\\\"name\\\":\\\"index\\\",\\\"scope\\\":\\\"17389559504321148989\\\",\\\"id\\\":\\\"14551243121617628149\\\",\\\"type\\\":\\\"observable\\\"},val)) : undefined; return this.valueFromJulia[\\\"index\\\"]=false}),self)]\\n        \\n    }\\n    self.model = new AppViewModel();\\n    self.valueFromJulia = {};\\n    for (var key in json_data) {\\n        self.valueFromJulia[key] = false;\\n    }\\n    ko.applyBindings(self.model, self.dom);\\n}\\n);\\n    (WebIO.importBlock({\\\"data\\\":[{\\\"name\\\":\\\"knockout\\\",\\\"type\\\":\\\"js\\\",\\\"url\\\":\\\"/assetserver/7adbe83fac1553325d6e718d595ab555e1cabbe4-knockout.js\\\"},{\\\"name\\\":\\\"knockout_punches\\\",\\\"type\\\":\\\"js\\\",\\\"url\\\":\\\"/assetserver/cec8c4de011abc05b545afbaaea4bb4465a1f168-knockout_punches.js\\\"}],\\\"type\\\":\\\"async_block\\\"})).then((imports) => handler.apply(this, imports));\\n}\\n\")])], Dict{Symbol, Any}(:className => \"field interact-widget\")), Node{WebIO.DOM}(WebIO.DOM(:html, :div), Any[Scope(Node{WebIO.DOM}(WebIO.DOM(:html, :div), Any[Node{WebIO.DOM}(WebIO.DOM(:html, :div), Any[Node{WebIO.DOM}(WebIO.DOM(:html, :label), Any[\"qtr\"], Dict{Symbol, Any}(:className => \"interact \", :style => Dict{Any, Any}(:padding => \"5px 10px 0px 10px\")))], Dict{Symbol, Any}(:className => \"interact-flex-row-left\")), Node{WebIO.DOM}(WebIO.DOM(:html, :div), Any[Node{WebIO.DOM}(WebIO.DOM(:html, :input), Any[], Dict{Symbol, Any}(:max => 4, :min => 1, :attributes => Dict{Any, Any}(:type => \"range\", Symbol(\"data-bind\") => \"numericValue: index, valueUpdate: 'input', event: {change: function (){this.changes(this.changes()+1)}}\", \"orient\" => \"horizontal\"), :step => 1, :className => \"slider slider is-fullwidth\", :style => Dict{Any, Any}()))], Dict{Symbol, Any}(:className => \"interact-flex-row-center\")), Node{WebIO.DOM}(WebIO.DOM(:html, :div), Any[Node{WebIO.DOM}(WebIO.DOM(:html, :p), Any[], Dict{Symbol, Any}(:attributes => Dict(\"data-bind\" => \"text: formatted_val\")))], Dict{Symbol, Any}(:className => \"interact-flex-row-right\"))], Dict{Symbol, Any}(:className => \"interact-flex-row interact-widget\")), Dict{String, Tuple{Observables.AbstractObservable, Union{Nothing, Bool}}}(\"changes\" => (Observable{Int64} with 1 listeners. Value:\n",
       "0, nothing), \"index\" => (Observable{Any} with 2 listeners. Value:\n",
       "2, nothing)), Set{String}(), nothing, Asset[Asset(\"js\", \"knockout\", \"/home/ubuntu/.julia/packages/Knockout/3gjS1/src/../assets/knockout.js\"), Asset(\"js\", \"knockout_punches\", \"/home/ubuntu/.julia/packages/Knockout/3gjS1/src/../assets/knockout_punches.js\"), Asset(\"js\", nothing, \"/home/ubuntu/.julia/packages/InteractBase/h8Fwe/src/../assets/all.js\"), Asset(\"css\", nothing, \"/home/ubuntu/.julia/packages/InteractBase/h8Fwe/src/../assets/style.css\"), Asset(\"css\", nothing, \"/home/ubuntu/.julia/packages/Interact/pVyN2/src/../assets/bulma_confined.min.css\")], Dict{Any, Any}(\"changes\" => Any[WebIO.JSString(\"(function (val){return (val!=this.model[\\\"changes\\\"]()) ? (this.valueFromJulia[\\\"changes\\\"]=true, this.model[\\\"changes\\\"](val)) : undefined})\")], \"index\" => Any[WebIO.JSString(\"(function (val){return (val!=this.model[\\\"index\\\"]()) ? (this.valueFromJulia[\\\"index\\\"]=true, this.model[\\\"index\\\"](val)) : undefined})\")]), WebIO.ConnectionPool(Channel{Any}(32), Set{AbstractConnection}(), Condition(Base.InvasiveLinkedList{Task}(Task (runnable) @0x00007f6c59eb7260, Task (runnable) @0x00007f6c59eb7260), Base.AlwaysLockedST(1))), WebIO.JSString[WebIO.JSString(\"function () {\\n    var handler = (function (ko, koPunches) {\\n    ko.punches.enableAll();\\n    ko.bindingHandlers.numericValue = {\\n        init: function(element, valueAccessor, allBindings, data, context) {\\n            var stringified = ko.observable(ko.unwrap(valueAccessor()));\\n            stringified.subscribe(function(value) {\\n                var val = parseFloat(value);\\n                if (!isNaN(val)) {\\n                    valueAccessor()(val);\\n                }\\n            });\\n            valueAccessor().subscribe(function(value) {\\n                var str = JSON.stringify(value);\\n                if ((str == \\\"0\\\") && ([\\\"-0\\\", \\\"-0.\\\"].indexOf(stringified()) >= 0))\\n                     return;\\n                 if ([\\\"null\\\", \\\"\\\"].indexOf(str) >= 0)\\n                     return;\\n                stringified(str);\\n            });\\n            ko.applyBindingsToNode(\\n                element,\\n                {\\n                    value: stringified,\\n                    valueUpdate: allBindings.get('valueUpdate'),\\n                },\\n                context,\\n            );\\n        }\\n    };\\n    var json_data = {\\\"formatted_vals\\\":[\\\"1\\\",\\\"2\\\",\\\"3\\\",\\\"4\\\"],\\\"changes\\\":WebIO.getval({\\\"name\\\":\\\"changes\\\",\\\"scope\\\":\\\"2664446521799303145\\\",\\\"id\\\":\\\"2266873914685363357\\\",\\\"type\\\":\\\"observable\\\"}),\\\"index\\\":WebIO.getval({\\\"name\\\":\\\"index\\\",\\\"scope\\\":\\\"2664446521799303145\\\",\\\"id\\\":\\\"1457493643126691826\\\",\\\"type\\\":\\\"observable\\\"})};\\n    var self = this;\\n    function AppViewModel() {\\n        for (var key in json_data) {\\n            var el = json_data[key];\\n            this[key] = Array.isArray(el) ? ko.observableArray(el) : ko.observable(el);\\n        }\\n        \\n        [this[\\\"formatted_val\\\"]=ko.computed(    function(){\\n        return this.formatted_vals()[parseInt(this.index())-(1)];\\n    }\\n,this)]\\n        [this[\\\"changes\\\"].subscribe((function (val){!(this.valueFromJulia[\\\"changes\\\"]) ? (WebIO.setval({\\\"name\\\":\\\"changes\\\",\\\"scope\\\":\\\"2664446521799303145\\\",\\\"id\\\":\\\"2266873914685363357\\\",\\\"type\\\":\\\"observable\\\"},val)) : undefined; return this.valueFromJulia[\\\"changes\\\"]=false}),self),this[\\\"index\\\"].subscribe((function (val){!(this.valueFromJulia[\\\"index\\\"]) ? (WebIO.setval({\\\"name\\\":\\\"index\\\",\\\"scope\\\":\\\"2664446521799303145\\\",\\\"id\\\":\\\"1457493643126691826\\\",\\\"type\\\":\\\"observable\\\"},val)) : undefined; return this.valueFromJulia[\\\"index\\\"]=false}),self)]\\n        \\n    }\\n    self.model = new AppViewModel();\\n    self.valueFromJulia = {};\\n    for (var key in json_data) {\\n        self.valueFromJulia[key] = false;\\n    }\\n    ko.applyBindings(self.model, self.dom);\\n}\\n);\\n    (WebIO.importBlock({\\\"data\\\":[{\\\"name\\\":\\\"knockout\\\",\\\"type\\\":\\\"js\\\",\\\"url\\\":\\\"/assetserver/7adbe83fac1553325d6e718d595ab555e1cabbe4-knockout.js\\\"},{\\\"name\\\":\\\"knockout_punches\\\",\\\"type\\\":\\\"js\\\",\\\"url\\\":\\\"/assetserver/cec8c4de011abc05b545afbaaea4bb4465a1f168-knockout_punches.js\\\"}],\\\"type\\\":\\\"async_block\\\"})).then((imports) => handler.apply(this, imports));\\n}\\n\")])], Dict{Symbol, Any}(:className => \"field interact-widget\")), Observable{Node{WebIO.DOM}} with 0 listeners. Value:\n",
       "Node{WebIO.DOM}(WebIO.DOM(:html, :div), Any[\u001b[1m420×7 DataFrame\u001b[0m\n",
       "\u001b[1m Row \u001b[0m│\u001b[1m Org      \u001b[0m\u001b[1m FY    \u001b[0m\u001b[1m Qtr   \u001b[0m\u001b[1m Accounts               \u001b[0m\u001b[1m Dept     \u001b[0m\u001b[1m Loc          \u001b[0m ⋯\n",
       "\u001b[1m     \u001b[0m│\u001b[90m String   \u001b[0m\u001b[90m Int64 \u001b[0m\u001b[90m Int64 \u001b[0m\u001b[90m String                 \u001b[0m\u001b[90m String   \u001b[0m\u001b[90m String       \u001b[0m ⋯\n",
       "─────┼──────────────────────────────────────────────────────────────────────────\n",
       "   1 │ Region B   2021      2  ASSETS                  BUSINESS  Chicago       ⋯\n",
       "   2 │ Region B   2021      2  ASSETS                  IT        Kansas City\n",
       "   3 │ Region B   2021      2  LIABILITIES             HR        Boston\n",
       "   4 │ Region B   2021      2  LIABILITIES             HR        Kansas City\n",
       "   5 │ Region B   2021      2  ASSETS                  IT        Boston        ⋯\n",
       "   6 │ Region B   2021      2  NET_WORTH               BUSINESS  Richmond\n",
       "   7 │ Region B   2021      2  NET_WORTH               BUSINESS  Dallas\n",
       "   8 │ Region B   2021      2  ASSETS                  HR        Minneapolis\n",
       "   9 │ Region B   2021      2  LIABILITIES             OTHERS    Atlanta       ⋯\n",
       "  10 │ Region B   2021      2  STATISTICS              OTHERS    Minneapolis\n",
       "  11 │ Region B   2021      2  ASSETS                  IT        New York\n",
       "  ⋮  │    ⋮        ⋮      ⋮              ⋮                ⋮            ⋮       ⋱\n",
       " 411 │ Region B   2021      2  LIABILITIES             IT        Cleveland\n",
       " 412 │ Region B   2021      2  OPERATING_EXPENSES      SALES     Dallas        ⋯\n",
       " 413 │ Region B   2021      2  LIABILITIES             OTHERS    Kansas City\n",
       " 414 │ Region B   2021      2  NET_WORTH               SALES     Cleveland\n",
       " 415 │ Region B   2021      2  STATISTICS              HR        Boston\n",
       " 416 │ Region B   2021      2  NON-OPERATING_EXPENSES  SALES     Cleveland     ⋯\n",
       " 417 │ Region B   2021      2  ASSETS                  BUSINESS  Atlanta\n",
       " 418 │ Region B   2021      2  LIABILITIES             OTHERS    San Francisco\n",
       " 419 │ Region B   2021      2  REVENUE                 BUSINESS  Richmond\n",
       " 420 │ Region B   2021      2  NET_WORTH               SALES     Boston        ⋯\n",
       "\u001b[36m                                                   1 column and 399 rows omitted\u001b[0m], Dict{Symbol, Any}(:className => \"interact-flex-row interact-widget\"))], Dict{Symbol, Any}())"
      ]
     },
     "execution_count": 83,
     "metadata": {
      "application/vnd.webio.node+json": {
       "kernelId": "e2edb929-a595-4295-908e-4c215e475d45"
      }
     },
     "output_type": "execute_result"
    },
    {
     "name": "stdout",
     "output_type": "stream",
     "text": [
      "(ld, rg, yr, qtr) = (\"Actuals\", \"Region B\", 2020, 2)\n",
      "(ld, rg, yr, qtr) = (\"Actuals\", \"Region B\", 2021, 2)\n",
      "(ld, rg, yr, qtr) = (\"Actuals\", \"Region B\", 2022, 2)\n",
      "(ld, rg, yr, qtr) = (\"Actuals\", \"Region B\", 2022, 3)\n",
      "(ld, rg, yr, qtr) = (\"Actuals\", \"Region B\", 2022, 4)\n",
      "(ld, rg, yr, qtr) = (\"Actuals\", \"Region B\", 2022, 3)\n",
      "(ld, rg, yr, qtr) = (\"Actuals\", \"Region B\", 2022, 2)\n",
      "(ld, rg, yr, qtr) = (\"Actuals\", \"Region B\", 2021, 2)\n",
      "(ld, rg, yr, qtr) = (\"Budget\", \"Region B\", 2021, 2)\n",
      "(ld, rg, yr, qtr) = (\"Budget\", \"Region C\", 2021, 2)\n",
      "(ld, rg, yr, qtr) = (\"Actuals\", \"Region C\", 2021, 2)\n"
     ]
    }
   ],
   "source": [
    "@manipulate for ld = Dict(\"Actuals\"=> \"Actuals\", \"Budget\" => \"Budget\"), \n",
    "                rg = Dict(\"Region A\"=> \"Region A\", \"Region B\" => \"Region B\", \"Region C\" => \"Region C\"),\n",
    "                yr = slider(2020:1:2022; value=2021),\n",
    "                qtr = 1:1:4\n",
    "    \n",
    "    @show ld, rg, yr, qtr\n",
    "    \n",
    "select(gdf_plot[(\n",
    "    (gdf_plot.FISCAL_YEAR .== yr)\n",
    "    .&\n",
    "    (gdf_plot.QTR .== qtr)\n",
    "    .&\n",
    "    (gdf_plot.LEDGER .== ld)\n",
    "    .&\n",
    "    (gdf_plot.OPER_UNIT .== rg)\n",
    "    ),:],\n",
    "        :OPER_UNIT => :Org,\n",
    "        :FISCAL_YEAR => :FY,\n",
    "        :QTR => :Qtr,\n",
    "        :ACCOUNTS_CLASSIFICATION => :Accounts,\n",
    "        :DEPT_CLASSIFICATION => :Dept,\n",
    "        # :LOCATION_CLASSIFICATION => :Region,\n",
    "        :LOCATION_DESCR => :Loc,\n",
    "        :TOTAL => :TOTAL)\n",
    "end"
   ]
  },
  {
   "cell_type": "markdown",
   "metadata": {},
   "source": [
    "### Income Statement (Interactive)"
   ]
  },
  {
   "cell_type": "code",
   "execution_count": 74,
   "metadata": {},
   "outputs": [
    {
     "name": "stdout",
     "output_type": "stream",
     "text": [
      "(ld, rg, yr, qtr) = (\"Actuals\", \"Region B\", 2021, 2)\n"
     ]
    },
    {
     "data": {
      "application/vnd.webio.node+json": {
       "children": [
        {
         "children": [
          {
           "children": [
            {
             "children": [
              {
               "children": [
                {
                 "children": [
                  "ld"
                 ],
                 "instanceArgs": {
                  "namespace": "html",
                  "tag": "label"
                 },
                 "nodeType": "DOM",
                 "props": {
                  "className": "interact ",
                  "style": {
                   "padding": "5px 10px 0px 10px"
                  }
                 },
                 "type": "node"
                }
               ],
               "instanceArgs": {
                "namespace": "html",
                "tag": "div"
               },
               "nodeType": "DOM",
               "props": {
                "className": "interact-flex-row-left"
               },
               "type": "node"
              },
              {
               "children": [
                {
                 "children": [
                  {
                   "children": [
                    {
                     "children": [],
                     "instanceArgs": {
                      "namespace": "html",
                      "tag": "label"
                     },
                     "nodeType": "DOM",
                     "props": {
                      "attributes": {
                       "data-bind": "text : key"
                      }
                     },
                     "type": "node"
                    }
                   ],
                   "instanceArgs": {
                    "namespace": "html",
                    "tag": "span"
                   },
                   "nodeType": "DOM",
                   "props": {
                    "attributes": {
                     "data-bind": "click: function (){$root.update(val)}, css: {'is-primary is-selected' : $root.index() == val, 'interact-widget is-medium button ' : true}"
                    }
                   },
                   "type": "node"
                  }
                 ],
                 "instanceArgs": {
                  "namespace": "html",
                  "tag": "div"
                 },
                 "nodeType": "DOM",
                 "props": {
                  "attributes": {
                   "data-bind": "foreach : options_js"
                  },
                  "className": "buttons has-addons is-centered"
                 },
                 "type": "node"
                }
               ],
               "instanceArgs": {
                "namespace": "html",
                "tag": "div"
               },
               "nodeType": "DOM",
               "props": {
                "className": "interact-flex-row-center"
               },
               "type": "node"
              },
              {
               "children": [
                {
                 "children": [],
                 "instanceArgs": {
                  "namespace": "html",
                  "tag": "div"
                 },
                 "nodeType": "DOM",
                 "props": {},
                 "type": "node"
                }
               ],
               "instanceArgs": {
                "namespace": "html",
                "tag": "div"
               },
               "nodeType": "DOM",
               "props": {
                "className": "interact-flex-row-right"
               },
               "type": "node"
              }
             ],
             "instanceArgs": {
              "namespace": "html",
              "tag": "div"
             },
             "nodeType": "DOM",
             "props": {
              "className": "interact-flex-row interact-widget"
             },
             "type": "node"
            }
           ],
           "instanceArgs": {
            "handlers": {
             "index": [
              "(function (val){return (val!=this.model[\"index\"]()) ? (this.valueFromJulia[\"index\"]=true, this.model[\"index\"](val)) : undefined})"
             ],
             "options_js": [
              "(function (val){return (val!=this.model[\"options_js\"]()) ? (this.valueFromJulia[\"options_js\"]=true, this.model[\"options_js\"](val)) : undefined})"
             ]
            },
            "id": "3761771998763380936",
            "imports": {
             "data": [
              {
               "name": "knockout",
               "type": "js",
               "url": "/assetserver/7adbe83fac1553325d6e718d595ab555e1cabbe4-knockout.js"
              },
              {
               "name": "knockout_punches",
               "type": "js",
               "url": "/assetserver/cec8c4de011abc05b545afbaaea4bb4465a1f168-knockout_punches.js"
              },
              {
               "name": null,
               "type": "js",
               "url": "/assetserver/5ddeec2b33e792dac4326b9b8929eb841863a558-all.js"
              },
              {
               "name": null,
               "type": "css",
               "url": "/assetserver/a04b7b754438af5b294cd7f1d762c01dae6fade5-style.css"
              },
              {
               "name": null,
               "type": "css",
               "url": "/assetserver/50b13cf07303023836f4115fe93a8fe3eca4721a-bulma_confined.min.css"
              }
             ],
             "type": "async_block"
            },
            "mount_callbacks": [
             "function () {\n    var handler = (function (ko, koPunches) {\n    ko.punches.enableAll();\n    ko.bindingHandlers.numericValue = {\n        init: function(element, valueAccessor, allBindings, data, context) {\n            var stringified = ko.observable(ko.unwrap(valueAccessor()));\n            stringified.subscribe(function(value) {\n                var val = parseFloat(value);\n                if (!isNaN(val)) {\n                    valueAccessor()(val);\n                }\n            });\n            valueAccessor().subscribe(function(value) {\n                var str = JSON.stringify(value);\n                if ((str == \"0\") && ([\"-0\", \"-0.\"].indexOf(stringified()) >= 0))\n                     return;\n                 if ([\"null\", \"\"].indexOf(str) >= 0)\n                     return;\n                stringified(str);\n            });\n            ko.applyBindingsToNode(\n                element,\n                {\n                    value: stringified,\n                    valueUpdate: allBindings.get('valueUpdate'),\n                },\n                context,\n            );\n        }\n    };\n    var json_data = {\"options_js\":WebIO.getval({\"name\":\"options_js\",\"scope\":\"3761771998763380936\",\"id\":\"15109083274705896194\",\"type\":\"observable\"}),\"index\":WebIO.getval({\"name\":\"index\",\"scope\":\"3761771998763380936\",\"id\":\"5371304709671703266\",\"type\":\"observable\"})};\n    var self = this;\n    function AppViewModel() {\n        for (var key in json_data) {\n            var el = json_data[key];\n            this[key] = Array.isArray(el) ? ko.observableArray(el) : ko.observable(el);\n        }\n        [this[\"update\"]=function (val) {this.index(val)}]\n        \n        [this[\"options_js\"].subscribe((function (val){!(this.valueFromJulia[\"options_js\"]) ? (WebIO.setval({\"name\":\"options_js\",\"scope\":\"3761771998763380936\",\"id\":\"15109083274705896194\",\"type\":\"observable\"},val)) : undefined; return this.valueFromJulia[\"options_js\"]=false}),self),this[\"index\"].subscribe((function (val){!(this.valueFromJulia[\"index\"]) ? (WebIO.setval({\"name\":\"index\",\"scope\":\"3761771998763380936\",\"id\":\"5371304709671703266\",\"type\":\"observable\"},val)) : undefined; return this.valueFromJulia[\"index\"]=false}),self)]\n        \n    }\n    self.model = new AppViewModel();\n    self.valueFromJulia = {};\n    for (var key in json_data) {\n        self.valueFromJulia[key] = false;\n    }\n    ko.applyBindings(self.model, self.dom);\n}\n);\n    (WebIO.importBlock({\"data\":[{\"name\":\"knockout\",\"type\":\"js\",\"url\":\"/assetserver/7adbe83fac1553325d6e718d595ab555e1cabbe4-knockout.js\"},{\"name\":\"knockout_punches\",\"type\":\"js\",\"url\":\"/assetserver/cec8c4de011abc05b545afbaaea4bb4465a1f168-knockout_punches.js\"}],\"type\":\"async_block\"})).then((imports) => handler.apply(this, imports));\n}\n"
            ],
            "observables": {
             "index": {
              "id": "5371304709671703266",
              "sync": true,
              "value": 1
             },
             "options_js": {
              "id": "15109083274705896194",
              "sync": false,
              "value": [
               {
                "id": "id7S4U0Wvl",
                "key": "Actuals",
                "val": 1
               },
               {
                "id": "idPCG4XiaU",
                "key": "Budget",
                "val": 2
               }
              ]
             }
            },
            "systemjs_options": null
           },
           "nodeType": "Scope",
           "props": {},
           "type": "node"
          }
         ],
         "instanceArgs": {
          "namespace": "html",
          "tag": "div"
         },
         "nodeType": "DOM",
         "props": {
          "className": "interact-widget"
         },
         "type": "node"
        },
        {
         "children": [
          {
           "children": [
            {
             "children": [
              {
               "children": [
                {
                 "children": [
                  "rg"
                 ],
                 "instanceArgs": {
                  "namespace": "html",
                  "tag": "label"
                 },
                 "nodeType": "DOM",
                 "props": {
                  "className": "interact ",
                  "style": {
                   "padding": "5px 10px 0px 10px"
                  }
                 },
                 "type": "node"
                }
               ],
               "instanceArgs": {
                "namespace": "html",
                "tag": "div"
               },
               "nodeType": "DOM",
               "props": {
                "className": "interact-flex-row-left"
               },
               "type": "node"
              },
              {
               "children": [
                {
                 "children": [
                  {
                   "children": [
                    {
                     "children": [],
                     "instanceArgs": {
                      "namespace": "html",
                      "tag": "label"
                     },
                     "nodeType": "DOM",
                     "props": {
                      "attributes": {
                       "data-bind": "text : key"
                      }
                     },
                     "type": "node"
                    }
                   ],
                   "instanceArgs": {
                    "namespace": "html",
                    "tag": "span"
                   },
                   "nodeType": "DOM",
                   "props": {
                    "attributes": {
                     "data-bind": "click: function (){$root.update(val)}, css: {'is-primary is-selected' : $root.index() == val, 'interact-widget is-medium button ' : true}"
                    }
                   },
                   "type": "node"
                  }
                 ],
                 "instanceArgs": {
                  "namespace": "html",
                  "tag": "div"
                 },
                 "nodeType": "DOM",
                 "props": {
                  "attributes": {
                   "data-bind": "foreach : options_js"
                  },
                  "className": "buttons has-addons is-centered"
                 },
                 "type": "node"
                }
               ],
               "instanceArgs": {
                "namespace": "html",
                "tag": "div"
               },
               "nodeType": "DOM",
               "props": {
                "className": "interact-flex-row-center"
               },
               "type": "node"
              },
              {
               "children": [
                {
                 "children": [],
                 "instanceArgs": {
                  "namespace": "html",
                  "tag": "div"
                 },
                 "nodeType": "DOM",
                 "props": {},
                 "type": "node"
                }
               ],
               "instanceArgs": {
                "namespace": "html",
                "tag": "div"
               },
               "nodeType": "DOM",
               "props": {
                "className": "interact-flex-row-right"
               },
               "type": "node"
              }
             ],
             "instanceArgs": {
              "namespace": "html",
              "tag": "div"
             },
             "nodeType": "DOM",
             "props": {
              "className": "interact-flex-row interact-widget"
             },
             "type": "node"
            }
           ],
           "instanceArgs": {
            "handlers": {
             "index": [
              "(function (val){return (val!=this.model[\"index\"]()) ? (this.valueFromJulia[\"index\"]=true, this.model[\"index\"](val)) : undefined})"
             ],
             "options_js": [
              "(function (val){return (val!=this.model[\"options_js\"]()) ? (this.valueFromJulia[\"options_js\"]=true, this.model[\"options_js\"](val)) : undefined})"
             ]
            },
            "id": "4336181307449966138",
            "imports": {
             "data": [
              {
               "name": "knockout",
               "type": "js",
               "url": "/assetserver/7adbe83fac1553325d6e718d595ab555e1cabbe4-knockout.js"
              },
              {
               "name": "knockout_punches",
               "type": "js",
               "url": "/assetserver/cec8c4de011abc05b545afbaaea4bb4465a1f168-knockout_punches.js"
              },
              {
               "name": null,
               "type": "js",
               "url": "/assetserver/5ddeec2b33e792dac4326b9b8929eb841863a558-all.js"
              },
              {
               "name": null,
               "type": "css",
               "url": "/assetserver/a04b7b754438af5b294cd7f1d762c01dae6fade5-style.css"
              },
              {
               "name": null,
               "type": "css",
               "url": "/assetserver/50b13cf07303023836f4115fe93a8fe3eca4721a-bulma_confined.min.css"
              }
             ],
             "type": "async_block"
            },
            "mount_callbacks": [
             "function () {\n    var handler = (function (ko, koPunches) {\n    ko.punches.enableAll();\n    ko.bindingHandlers.numericValue = {\n        init: function(element, valueAccessor, allBindings, data, context) {\n            var stringified = ko.observable(ko.unwrap(valueAccessor()));\n            stringified.subscribe(function(value) {\n                var val = parseFloat(value);\n                if (!isNaN(val)) {\n                    valueAccessor()(val);\n                }\n            });\n            valueAccessor().subscribe(function(value) {\n                var str = JSON.stringify(value);\n                if ((str == \"0\") && ([\"-0\", \"-0.\"].indexOf(stringified()) >= 0))\n                     return;\n                 if ([\"null\", \"\"].indexOf(str) >= 0)\n                     return;\n                stringified(str);\n            });\n            ko.applyBindingsToNode(\n                element,\n                {\n                    value: stringified,\n                    valueUpdate: allBindings.get('valueUpdate'),\n                },\n                context,\n            );\n        }\n    };\n    var json_data = {\"options_js\":WebIO.getval({\"name\":\"options_js\",\"scope\":\"4336181307449966138\",\"id\":\"17402697954747100342\",\"type\":\"observable\"}),\"index\":WebIO.getval({\"name\":\"index\",\"scope\":\"4336181307449966138\",\"id\":\"8989126355364358398\",\"type\":\"observable\"})};\n    var self = this;\n    function AppViewModel() {\n        for (var key in json_data) {\n            var el = json_data[key];\n            this[key] = Array.isArray(el) ? ko.observableArray(el) : ko.observable(el);\n        }\n        [this[\"update\"]=function (val) {this.index(val)}]\n        \n        [this[\"options_js\"].subscribe((function (val){!(this.valueFromJulia[\"options_js\"]) ? (WebIO.setval({\"name\":\"options_js\",\"scope\":\"4336181307449966138\",\"id\":\"17402697954747100342\",\"type\":\"observable\"},val)) : undefined; return this.valueFromJulia[\"options_js\"]=false}),self),this[\"index\"].subscribe((function (val){!(this.valueFromJulia[\"index\"]) ? (WebIO.setval({\"name\":\"index\",\"scope\":\"4336181307449966138\",\"id\":\"8989126355364358398\",\"type\":\"observable\"},val)) : undefined; return this.valueFromJulia[\"index\"]=false}),self)]\n        \n    }\n    self.model = new AppViewModel();\n    self.valueFromJulia = {};\n    for (var key in json_data) {\n        self.valueFromJulia[key] = false;\n    }\n    ko.applyBindings(self.model, self.dom);\n}\n);\n    (WebIO.importBlock({\"data\":[{\"name\":\"knockout\",\"type\":\"js\",\"url\":\"/assetserver/7adbe83fac1553325d6e718d595ab555e1cabbe4-knockout.js\"},{\"name\":\"knockout_punches\",\"type\":\"js\",\"url\":\"/assetserver/cec8c4de011abc05b545afbaaea4bb4465a1f168-knockout_punches.js\"}],\"type\":\"async_block\"})).then((imports) => handler.apply(this, imports));\n}\n"
            ],
            "observables": {
             "index": {
              "id": "8989126355364358398",
              "sync": true,
              "value": 1
             },
             "options_js": {
              "id": "17402697954747100342",
              "sync": false,
              "value": [
               {
                "id": "idGoqQj3Rd",
                "key": "Region B",
                "val": 1
               },
               {
                "id": "idUNiW9Xlc",
                "key": "Region C",
                "val": 2
               },
               {
                "id": "idgDHJAkg8",
                "key": "Region A",
                "val": 3
               }
              ]
             }
            },
            "systemjs_options": null
           },
           "nodeType": "Scope",
           "props": {},
           "type": "node"
          }
         ],
         "instanceArgs": {
          "namespace": "html",
          "tag": "div"
         },
         "nodeType": "DOM",
         "props": {
          "className": "interact-widget"
         },
         "type": "node"
        },
        {
         "children": [
          {
           "children": [
            {
             "children": [
              {
               "children": [
                {
                 "children": [
                  ""
                 ],
                 "instanceArgs": {
                  "namespace": "html",
                  "tag": "label"
                 },
                 "nodeType": "DOM",
                 "props": {
                  "className": "interact ",
                  "style": {
                   "padding": "5px 10px 0px 10px"
                  }
                 },
                 "type": "node"
                }
               ],
               "instanceArgs": {
                "namespace": "html",
                "tag": "div"
               },
               "nodeType": "DOM",
               "props": {
                "className": "interact-flex-row-left"
               },
               "type": "node"
              },
              {
               "children": [
                {
                 "children": [],
                 "instanceArgs": {
                  "namespace": "html",
                  "tag": "input"
                 },
                 "nodeType": "DOM",
                 "props": {
                  "attributes": {
                   "data-bind": "numericValue: index, valueUpdate: 'input', event: {change: function (){this.changes(this.changes()+1)}}",
                   "orient": "horizontal",
                   "type": "range"
                  },
                  "className": "slider slider is-fullwidth",
                  "max": 3,
                  "min": 1,
                  "step": 1,
                  "style": {}
                 },
                 "type": "node"
                }
               ],
               "instanceArgs": {
                "namespace": "html",
                "tag": "div"
               },
               "nodeType": "DOM",
               "props": {
                "className": "interact-flex-row-center"
               },
               "type": "node"
              },
              {
               "children": [
                {
                 "children": [],
                 "instanceArgs": {
                  "namespace": "html",
                  "tag": "p"
                 },
                 "nodeType": "DOM",
                 "props": {
                  "attributes": {
                   "data-bind": "text: formatted_val"
                  }
                 },
                 "type": "node"
                }
               ],
               "instanceArgs": {
                "namespace": "html",
                "tag": "div"
               },
               "nodeType": "DOM",
               "props": {
                "className": "interact-flex-row-right"
               },
               "type": "node"
              }
             ],
             "instanceArgs": {
              "namespace": "html",
              "tag": "div"
             },
             "nodeType": "DOM",
             "props": {
              "className": "interact-flex-row interact-widget"
             },
             "type": "node"
            }
           ],
           "instanceArgs": {
            "handlers": {
             "changes": [
              "(function (val){return (val!=this.model[\"changes\"]()) ? (this.valueFromJulia[\"changes\"]=true, this.model[\"changes\"](val)) : undefined})"
             ],
             "index": [
              "(function (val){return (val!=this.model[\"index\"]()) ? (this.valueFromJulia[\"index\"]=true, this.model[\"index\"](val)) : undefined})"
             ]
            },
            "id": "14953592395855329131",
            "imports": {
             "data": [
              {
               "name": "knockout",
               "type": "js",
               "url": "/assetserver/7adbe83fac1553325d6e718d595ab555e1cabbe4-knockout.js"
              },
              {
               "name": "knockout_punches",
               "type": "js",
               "url": "/assetserver/cec8c4de011abc05b545afbaaea4bb4465a1f168-knockout_punches.js"
              },
              {
               "name": null,
               "type": "js",
               "url": "/assetserver/5ddeec2b33e792dac4326b9b8929eb841863a558-all.js"
              },
              {
               "name": null,
               "type": "css",
               "url": "/assetserver/a04b7b754438af5b294cd7f1d762c01dae6fade5-style.css"
              },
              {
               "name": null,
               "type": "css",
               "url": "/assetserver/50b13cf07303023836f4115fe93a8fe3eca4721a-bulma_confined.min.css"
              }
             ],
             "type": "async_block"
            },
            "mount_callbacks": [
             "function () {\n    var handler = (function (ko, koPunches) {\n    ko.punches.enableAll();\n    ko.bindingHandlers.numericValue = {\n        init: function(element, valueAccessor, allBindings, data, context) {\n            var stringified = ko.observable(ko.unwrap(valueAccessor()));\n            stringified.subscribe(function(value) {\n                var val = parseFloat(value);\n                if (!isNaN(val)) {\n                    valueAccessor()(val);\n                }\n            });\n            valueAccessor().subscribe(function(value) {\n                var str = JSON.stringify(value);\n                if ((str == \"0\") && ([\"-0\", \"-0.\"].indexOf(stringified()) >= 0))\n                     return;\n                 if ([\"null\", \"\"].indexOf(str) >= 0)\n                     return;\n                stringified(str);\n            });\n            ko.applyBindingsToNode(\n                element,\n                {\n                    value: stringified,\n                    valueUpdate: allBindings.get('valueUpdate'),\n                },\n                context,\n            );\n        }\n    };\n    var json_data = {\"formatted_vals\":[\"2020\",\"2021\",\"2022\"],\"changes\":WebIO.getval({\"name\":\"changes\",\"scope\":\"14953592395855329131\",\"id\":\"17655851537122789273\",\"type\":\"observable\"}),\"index\":WebIO.getval({\"name\":\"index\",\"scope\":\"14953592395855329131\",\"id\":\"4124786012300562105\",\"type\":\"observable\"})};\n    var self = this;\n    function AppViewModel() {\n        for (var key in json_data) {\n            var el = json_data[key];\n            this[key] = Array.isArray(el) ? ko.observableArray(el) : ko.observable(el);\n        }\n        \n        [this[\"formatted_val\"]=ko.computed(    function(){\n        return this.formatted_vals()[parseInt(this.index())-(1)];\n    }\n,this)]\n        [this[\"changes\"].subscribe((function (val){!(this.valueFromJulia[\"changes\"]) ? (WebIO.setval({\"name\":\"changes\",\"scope\":\"14953592395855329131\",\"id\":\"17655851537122789273\",\"type\":\"observable\"},val)) : undefined; return this.valueFromJulia[\"changes\"]=false}),self),this[\"index\"].subscribe((function (val){!(this.valueFromJulia[\"index\"]) ? (WebIO.setval({\"name\":\"index\",\"scope\":\"14953592395855329131\",\"id\":\"4124786012300562105\",\"type\":\"observable\"},val)) : undefined; return this.valueFromJulia[\"index\"]=false}),self)]\n        \n    }\n    self.model = new AppViewModel();\n    self.valueFromJulia = {};\n    for (var key in json_data) {\n        self.valueFromJulia[key] = false;\n    }\n    ko.applyBindings(self.model, self.dom);\n}\n);\n    (WebIO.importBlock({\"data\":[{\"name\":\"knockout\",\"type\":\"js\",\"url\":\"/assetserver/7adbe83fac1553325d6e718d595ab555e1cabbe4-knockout.js\"},{\"name\":\"knockout_punches\",\"type\":\"js\",\"url\":\"/assetserver/cec8c4de011abc05b545afbaaea4bb4465a1f168-knockout_punches.js\"}],\"type\":\"async_block\"})).then((imports) => handler.apply(this, imports));\n}\n"
            ],
            "observables": {
             "changes": {
              "id": "17655851537122789273",
              "sync": false,
              "value": 0
             },
             "index": {
              "id": "4124786012300562105",
              "sync": true,
              "value": 2
             }
            },
            "systemjs_options": null
           },
           "nodeType": "Scope",
           "props": {},
           "type": "node"
          }
         ],
         "instanceArgs": {
          "namespace": "html",
          "tag": "div"
         },
         "nodeType": "DOM",
         "props": {
          "className": "field interact-widget"
         },
         "type": "node"
        },
        {
         "children": [
          {
           "children": [
            {
             "children": [
              {
               "children": [
                {
                 "children": [
                  "qtr"
                 ],
                 "instanceArgs": {
                  "namespace": "html",
                  "tag": "label"
                 },
                 "nodeType": "DOM",
                 "props": {
                  "className": "interact ",
                  "style": {
                   "padding": "5px 10px 0px 10px"
                  }
                 },
                 "type": "node"
                }
               ],
               "instanceArgs": {
                "namespace": "html",
                "tag": "div"
               },
               "nodeType": "DOM",
               "props": {
                "className": "interact-flex-row-left"
               },
               "type": "node"
              },
              {
               "children": [
                {
                 "children": [],
                 "instanceArgs": {
                  "namespace": "html",
                  "tag": "input"
                 },
                 "nodeType": "DOM",
                 "props": {
                  "attributes": {
                   "data-bind": "numericValue: index, valueUpdate: 'input', event: {change: function (){this.changes(this.changes()+1)}}",
                   "orient": "horizontal",
                   "type": "range"
                  },
                  "className": "slider slider is-fullwidth",
                  "max": 4,
                  "min": 1,
                  "step": 1,
                  "style": {}
                 },
                 "type": "node"
                }
               ],
               "instanceArgs": {
                "namespace": "html",
                "tag": "div"
               },
               "nodeType": "DOM",
               "props": {
                "className": "interact-flex-row-center"
               },
               "type": "node"
              },
              {
               "children": [
                {
                 "children": [],
                 "instanceArgs": {
                  "namespace": "html",
                  "tag": "p"
                 },
                 "nodeType": "DOM",
                 "props": {
                  "attributes": {
                   "data-bind": "text: formatted_val"
                  }
                 },
                 "type": "node"
                }
               ],
               "instanceArgs": {
                "namespace": "html",
                "tag": "div"
               },
               "nodeType": "DOM",
               "props": {
                "className": "interact-flex-row-right"
               },
               "type": "node"
              }
             ],
             "instanceArgs": {
              "namespace": "html",
              "tag": "div"
             },
             "nodeType": "DOM",
             "props": {
              "className": "interact-flex-row interact-widget"
             },
             "type": "node"
            }
           ],
           "instanceArgs": {
            "handlers": {
             "changes": [
              "(function (val){return (val!=this.model[\"changes\"]()) ? (this.valueFromJulia[\"changes\"]=true, this.model[\"changes\"](val)) : undefined})"
             ],
             "index": [
              "(function (val){return (val!=this.model[\"index\"]()) ? (this.valueFromJulia[\"index\"]=true, this.model[\"index\"](val)) : undefined})"
             ]
            },
            "id": "14818083701553036238",
            "imports": {
             "data": [
              {
               "name": "knockout",
               "type": "js",
               "url": "/assetserver/7adbe83fac1553325d6e718d595ab555e1cabbe4-knockout.js"
              },
              {
               "name": "knockout_punches",
               "type": "js",
               "url": "/assetserver/cec8c4de011abc05b545afbaaea4bb4465a1f168-knockout_punches.js"
              },
              {
               "name": null,
               "type": "js",
               "url": "/assetserver/5ddeec2b33e792dac4326b9b8929eb841863a558-all.js"
              },
              {
               "name": null,
               "type": "css",
               "url": "/assetserver/a04b7b754438af5b294cd7f1d762c01dae6fade5-style.css"
              },
              {
               "name": null,
               "type": "css",
               "url": "/assetserver/50b13cf07303023836f4115fe93a8fe3eca4721a-bulma_confined.min.css"
              }
             ],
             "type": "async_block"
            },
            "mount_callbacks": [
             "function () {\n    var handler = (function (ko, koPunches) {\n    ko.punches.enableAll();\n    ko.bindingHandlers.numericValue = {\n        init: function(element, valueAccessor, allBindings, data, context) {\n            var stringified = ko.observable(ko.unwrap(valueAccessor()));\n            stringified.subscribe(function(value) {\n                var val = parseFloat(value);\n                if (!isNaN(val)) {\n                    valueAccessor()(val);\n                }\n            });\n            valueAccessor().subscribe(function(value) {\n                var str = JSON.stringify(value);\n                if ((str == \"0\") && ([\"-0\", \"-0.\"].indexOf(stringified()) >= 0))\n                     return;\n                 if ([\"null\", \"\"].indexOf(str) >= 0)\n                     return;\n                stringified(str);\n            });\n            ko.applyBindingsToNode(\n                element,\n                {\n                    value: stringified,\n                    valueUpdate: allBindings.get('valueUpdate'),\n                },\n                context,\n            );\n        }\n    };\n    var json_data = {\"formatted_vals\":[\"1\",\"2\",\"3\",\"4\"],\"changes\":WebIO.getval({\"name\":\"changes\",\"scope\":\"14818083701553036238\",\"id\":\"6173039353171651400\",\"type\":\"observable\"}),\"index\":WebIO.getval({\"name\":\"index\",\"scope\":\"14818083701553036238\",\"id\":\"16913260558254817926\",\"type\":\"observable\"})};\n    var self = this;\n    function AppViewModel() {\n        for (var key in json_data) {\n            var el = json_data[key];\n            this[key] = Array.isArray(el) ? ko.observableArray(el) : ko.observable(el);\n        }\n        \n        [this[\"formatted_val\"]=ko.computed(    function(){\n        return this.formatted_vals()[parseInt(this.index())-(1)];\n    }\n,this)]\n        [this[\"changes\"].subscribe((function (val){!(this.valueFromJulia[\"changes\"]) ? (WebIO.setval({\"name\":\"changes\",\"scope\":\"14818083701553036238\",\"id\":\"6173039353171651400\",\"type\":\"observable\"},val)) : undefined; return this.valueFromJulia[\"changes\"]=false}),self),this[\"index\"].subscribe((function (val){!(this.valueFromJulia[\"index\"]) ? (WebIO.setval({\"name\":\"index\",\"scope\":\"14818083701553036238\",\"id\":\"16913260558254817926\",\"type\":\"observable\"},val)) : undefined; return this.valueFromJulia[\"index\"]=false}),self)]\n        \n    }\n    self.model = new AppViewModel();\n    self.valueFromJulia = {};\n    for (var key in json_data) {\n        self.valueFromJulia[key] = false;\n    }\n    ko.applyBindings(self.model, self.dom);\n}\n);\n    (WebIO.importBlock({\"data\":[{\"name\":\"knockout\",\"type\":\"js\",\"url\":\"/assetserver/7adbe83fac1553325d6e718d595ab555e1cabbe4-knockout.js\"},{\"name\":\"knockout_punches\",\"type\":\"js\",\"url\":\"/assetserver/cec8c4de011abc05b545afbaaea4bb4465a1f168-knockout_punches.js\"}],\"type\":\"async_block\"})).then((imports) => handler.apply(this, imports));\n}\n"
            ],
            "observables": {
             "changes": {
              "id": "6173039353171651400",
              "sync": false,
              "value": 0
             },
             "index": {
              "id": "16913260558254817926",
              "sync": true,
              "value": 2
             }
            },
            "systemjs_options": null
           },
           "nodeType": "Scope",
           "props": {},
           "type": "node"
          }
         ],
         "instanceArgs": {
          "namespace": "html",
          "tag": "div"
         },
         "nodeType": "DOM",
         "props": {
          "className": "field interact-widget"
         },
         "type": "node"
        },
        {
         "children": [
          {
           "children": [],
           "instanceArgs": {
            "id": "7752241234742913497",
            "name": "obs-node"
           },
           "nodeType": "ObservableNode",
           "props": {},
           "type": "node"
          }
         ],
         "instanceArgs": {
          "handlers": {},
          "id": "16625298001420689963",
          "imports": {
           "data": [],
           "type": "async_block"
          },
          "mount_callbacks": [],
          "observables": {
           "obs-node": {
            "id": "7752241234742913497",
            "sync": false,
            "value": {
             "children": [
              {
               "children": [],
               "instanceArgs": {
                "namespace": "html",
                "tag": "div"
               },
               "nodeType": "DOM",
               "props": {
                "setInnerHtml": "<div class=\"data-frame\"><p>240 rows × 7 columns</p><table class=\"data-frame\"><thead><tr><th></th><th>Org</th><th>FY</th><th>Qtr</th><th>Accounts</th><th>Dept</th><th>Loc</th><th>TOTAL</th></tr><tr><th></th><th title=\"String\">String</th><th title=\"Int64\">Int64</th><th title=\"Int64\">Int64</th><th title=\"String\">String</th><th title=\"String\">String</th><th title=\"String\">String</th><th title=\"String\">String</th></tr></thead><tbody><tr><th>1</th><td>Region B</td><td>2021</td><td>2</td><td>ASSETS</td><td>BUSINESS</td><td>Chicago</td><td>USD 2927.75 million</td></tr><tr><th>2</th><td>Region B</td><td>2021</td><td>2</td><td>ASSETS</td><td>IT</td><td>Kansas City</td><td>USD 3679.04 million</td></tr><tr><th>3</th><td>Region B</td><td>2021</td><td>2</td><td>LIABILITIES</td><td>HR</td><td>Boston</td><td>USD 3366.97 million</td></tr><tr><th>4</th><td>Region B</td><td>2021</td><td>2</td><td>LIABILITIES</td><td>HR</td><td>Kansas City</td><td>USD 4426.61 million</td></tr><tr><th>5</th><td>Region B</td><td>2021</td><td>2</td><td>ASSETS</td><td>IT</td><td>Boston</td><td>USD 3718.08 million</td></tr><tr><th>6</th><td>Region B</td><td>2021</td><td>2</td><td>NET_WORTH</td><td>BUSINESS</td><td>Richmond</td><td>USD 4920.64 million</td></tr><tr><th>7</th><td>Region B</td><td>2021</td><td>2</td><td>NET_WORTH</td><td>BUSINESS</td><td>Dallas</td><td>USD 4340.47 million</td></tr><tr><th>8</th><td>Region B</td><td>2021</td><td>2</td><td>ASSETS</td><td>HR</td><td>Minneapolis</td><td>USD 4236.49 million</td></tr><tr><th>9</th><td>Region B</td><td>2021</td><td>2</td><td>LIABILITIES</td><td>OTHERS</td><td>Atlanta</td><td>USD 4722.91 million</td></tr><tr><th>10</th><td>Region B</td><td>2021</td><td>2</td><td>ASSETS</td><td>IT</td><td>New York</td><td>USD 2814.95 million</td></tr><tr><th>11</th><td>Region B</td><td>2021</td><td>2</td><td>REVENUE</td><td>IT</td><td>Kansas City</td><td>USD 4229.35 million</td></tr><tr><th>12</th><td>Region B</td><td>2021</td><td>2</td><td>ASSETS</td><td>IT</td><td>Minneapolis</td><td>USD 3701.1 million</td></tr><tr><th>13</th><td>Region B</td><td>2021</td><td>2</td><td>REVENUE</td><td>SALES</td><td>Dallas</td><td>USD 4293.15 million</td></tr><tr><th>14</th><td>Region B</td><td>2021</td><td>2</td><td>REVENUE</td><td>SALES</td><td>Atlanta</td><td>USD 4514.03 million</td></tr><tr><th>15</th><td>Region B</td><td>2021</td><td>2</td><td>ASSETS</td><td>IT</td><td>St. Louis</td><td>USD 4379.15 million</td></tr><tr><th>16</th><td>Region B</td><td>2021</td><td>2</td><td>REVENUE</td><td>HR</td><td>Kansas City</td><td>USD 3930.82 million</td></tr><tr><th>17</th><td>Region B</td><td>2021</td><td>2</td><td>REVENUE</td><td>HR</td><td>Minneapolis</td><td>USD 3704.31 million</td></tr><tr><th>18</th><td>Region B</td><td>2021</td><td>2</td><td>ASSETS</td><td>OTHERS</td><td>Atlanta</td><td>USD 3886.59 million</td></tr><tr><th>19</th><td>Region B</td><td>2021</td><td>2</td><td>LIABILITIES</td><td>SALES</td><td>Kansas City</td><td>USD 3989.38 million</td></tr><tr><th>20</th><td>Region B</td><td>2021</td><td>2</td><td>LIABILITIES</td><td>BUSINESS</td><td>Chicago</td><td>USD 4094.48 million</td></tr><tr><th>21</th><td>Region B</td><td>2021</td><td>2</td><td>REVENUE</td><td>HR</td><td>Dallas</td><td>USD 4035.68 million</td></tr><tr><th>22</th><td>Region B</td><td>2021</td><td>2</td><td>NET_WORTH</td><td>IT</td><td>Kansas City</td><td>USD 4517.92 million</td></tr><tr><th>23</th><td>Region B</td><td>2021</td><td>2</td><td>LIABILITIES</td><td>BUSINESS</td><td>Philadelphia</td><td>USD 4014.79 million</td></tr><tr><th>24</th><td>Region B</td><td>2021</td><td>2</td><td>REVENUE</td><td>IT</td><td>Minneapolis</td><td>USD 4380.33 million</td></tr><tr><th>25</th><td>Region B</td><td>2021</td><td>2</td><td>NET_WORTH</td><td>SALES</td><td>St. Louis</td><td>USD 4159.4 million</td></tr><tr><th>26</th><td>Region B</td><td>2021</td><td>2</td><td>NET_WORTH</td><td>IT</td><td>New York</td><td>USD 3188.83 million</td></tr><tr><th>27</th><td>Region B</td><td>2021</td><td>2</td><td>REVENUE</td><td>BUSINESS</td><td>Cleveland</td><td>USD 4254.26 million</td></tr><tr><th>28</th><td>Region B</td><td>2021</td><td>2</td><td>LIABILITIES</td><td>HR</td><td>Dallas</td><td>USD 4102.33 million</td></tr><tr><th>29</th><td>Region B</td><td>2021</td><td>2</td><td>ASSETS</td><td>HR</td><td>Philadelphia</td><td>USD 3531.2 million</td></tr><tr><th>30</th><td>Region B</td><td>2021</td><td>2</td><td>REVENUE</td><td>BUSINESS</td><td>Kansas City</td><td>USD 4124.16 million</td></tr><tr><th>31</th><td>Region B</td><td>2021</td><td>2</td><td>LIABILITIES</td><td>IT</td><td>San Francisco</td><td>USD 4360.83 million</td></tr><tr><th>32</th><td>Region B</td><td>2021</td><td>2</td><td>ASSETS</td><td>HR</td><td>San Francisco</td><td>USD 3434.48 million</td></tr><tr><th>33</th><td>Region B</td><td>2021</td><td>2</td><td>LIABILITIES</td><td>OTHERS</td><td>Richmond</td><td>USD 3276.13 million</td></tr><tr><th>34</th><td>Region B</td><td>2021</td><td>2</td><td>LIABILITIES</td><td>SALES</td><td>Dallas</td><td>USD 4967.3 million</td></tr><tr><th>35</th><td>Region B</td><td>2021</td><td>2</td><td>LIABILITIES</td><td>OTHERS</td><td>New York</td><td>USD 4319.92 million</td></tr><tr><th>36</th><td>Region B</td><td>2021</td><td>2</td><td>REVENUE</td><td>SALES</td><td>Boston</td><td>USD 3360.4 million</td></tr><tr><th>37</th><td>Region B</td><td>2021</td><td>2</td><td>REVENUE</td><td>HR</td><td>Chicago</td><td>USD 3432.36 million</td></tr><tr><th>38</th><td>Region B</td><td>2021</td><td>2</td><td>ASSETS</td><td>IT</td><td>Richmond</td><td>USD 5079.14 million</td></tr><tr><th>39</th><td>Region B</td><td>2021</td><td>2</td><td>LIABILITIES</td><td>IT</td><td>Kansas City</td><td>USD 4333.98 million</td></tr><tr><th>40</th><td>Region B</td><td>2021</td><td>2</td><td>LIABILITIES</td><td>HR</td><td>Atlanta</td><td>USD 4060.7 million</td></tr><tr><th>41</th><td>Region B</td><td>2021</td><td>2</td><td>LIABILITIES</td><td>SALES</td><td>St. Louis</td><td>USD 3610.67 million</td></tr><tr><th>42</th><td>Region B</td><td>2021</td><td>2</td><td>LIABILITIES</td><td>BUSINESS</td><td>New York</td><td>USD 3946.96 million</td></tr><tr><th>43</th><td>Region B</td><td>2021</td><td>2</td><td>REVENUE</td><td>SALES</td><td>Richmond</td><td>USD 3989.12 million</td></tr><tr><th>44</th><td>Region B</td><td>2021</td><td>2</td><td>NET_WORTH</td><td>OTHERS</td><td>Minneapolis</td><td>USD 3946.48 million</td></tr><tr><th>45</th><td>Region B</td><td>2021</td><td>2</td><td>REVENUE</td><td>BUSINESS</td><td>Philadelphia</td><td>USD 4336.77 million</td></tr><tr><th>46</th><td>Region B</td><td>2021</td><td>2</td><td>NET_WORTH</td><td>HR</td><td>Boston</td><td>USD 4441.45 million</td></tr><tr><th>47</th><td>Region B</td><td>2021</td><td>2</td><td>ASSETS</td><td>HR</td><td>Boston</td><td>USD 3936.15 million</td></tr><tr><th>48</th><td>Region B</td><td>2021</td><td>2</td><td>NET_WORTH</td><td>SALES</td><td>New York</td><td>USD 4387.21 million</td></tr><tr><th>49</th><td>Region B</td><td>2021</td><td>2</td><td>LIABILITIES</td><td>OTHERS</td><td>Philadelphia</td><td>USD 3716.0 million</td></tr><tr><th>50</th><td>Region B</td><td>2021</td><td>2</td><td>REVENUE</td><td>IT</td><td>San Francisco</td><td>USD 3595.44 million</td></tr><tr><th>51</th><td>Region B</td><td>2021</td><td>2</td><td>LIABILITIES</td><td>IT</td><td>Atlanta</td><td>USD 4550.14 million</td></tr><tr><th>52</th><td>Region B</td><td>2021</td><td>2</td><td>ASSETS</td><td>BUSINESS</td><td>San Francisco</td><td>USD 3551.8 million</td></tr><tr><th>53</th><td>Region B</td><td>2021</td><td>2</td><td>LIABILITIES</td><td>BUSINESS</td><td>Cleveland</td><td>USD 4128.36 million</td></tr><tr><th>54</th><td>Region B</td><td>2021</td><td>2</td><td>LIABILITIES</td><td>SALES</td><td>Minneapolis</td><td>USD 3977.95 million</td></tr><tr><th>55</th><td>Region B</td><td>2021</td><td>2</td><td>LIABILITIES</td><td>BUSINESS</td><td>Dallas</td><td>USD 4372.22 million</td></tr><tr><th>56</th><td>Region B</td><td>2021</td><td>2</td><td>ASSETS</td><td>BUSINESS</td><td>Minneapolis</td><td>USD 3389.76 million</td></tr><tr><th>57</th><td>Region B</td><td>2021</td><td>2</td><td>ASSETS</td><td>OTHERS</td><td>Dallas</td><td>USD 3479.14 million</td></tr><tr><th>58</th><td>Region B</td><td>2021</td><td>2</td><td>REVENUE</td><td>IT</td><td>St. Louis</td><td>USD 3169.37 million</td></tr><tr><th>59</th><td>Region B</td><td>2021</td><td>2</td><td>ASSETS</td><td>SALES</td><td>Chicago</td><td>USD 5198.92 million</td></tr><tr><th>60</th><td>Region B</td><td>2021</td><td>2</td><td>LIABILITIES</td><td>SALES</td><td>Philadelphia</td><td>USD 4950.36 million</td></tr><tr><th>61</th><td>Region B</td><td>2021</td><td>2</td><td>LIABILITIES</td><td>SALES</td><td>San Francisco</td><td>USD 2795.71 million</td></tr><tr><th>62</th><td>Region B</td><td>2021</td><td>2</td><td>NET_WORTH</td><td>BUSINESS</td><td>Boston</td><td>USD 3265.08 million</td></tr><tr><th>63</th><td>Region B</td><td>2021</td><td>2</td><td>LIABILITIES</td><td>IT</td><td>Minneapolis</td><td>USD 4052.36 million</td></tr><tr><th>64</th><td>Region B</td><td>2021</td><td>2</td><td>REVENUE</td><td>OTHERS</td><td>Minneapolis</td><td>USD 4447.38 million</td></tr><tr><th>65</th><td>Region B</td><td>2021</td><td>2</td><td>REVENUE</td><td>IT</td><td>Atlanta</td><td>USD 3115.91 million</td></tr><tr><th>66</th><td>Region B</td><td>2021</td><td>2</td><td>NET_WORTH</td><td>SALES</td><td>Atlanta</td><td>USD 3413.11 million</td></tr><tr><th>67</th><td>Region B</td><td>2021</td><td>2</td><td>NET_WORTH</td><td>IT</td><td>Dallas</td><td>USD 3816.01 million</td></tr><tr><th>68</th><td>Region B</td><td>2021</td><td>2</td><td>REVENUE</td><td>BUSINESS</td><td>Dallas</td><td>USD 4967.77 million</td></tr><tr><th>69</th><td>Region B</td><td>2021</td><td>2</td><td>ASSETS</td><td>IT</td><td>Philadelphia</td><td>USD 4418.53 million</td></tr><tr><th>70</th><td>Region B</td><td>2021</td><td>2</td><td>ASSETS</td><td>SALES</td><td>Cleveland</td><td>USD 3870.36 million</td></tr><tr><th>71</th><td>Region B</td><td>2021</td><td>2</td><td>REVENUE</td><td>SALES</td><td>Chicago</td><td>USD 4357.64 million</td></tr><tr><th>72</th><td>Region B</td><td>2021</td><td>2</td><td>NET_WORTH</td><td>BUSINESS</td><td>Cleveland</td><td>USD 4409.45 million</td></tr><tr><th>73</th><td>Region B</td><td>2021</td><td>2</td><td>NET_WORTH</td><td>IT</td><td>Philadelphia</td><td>USD 4453.4 million</td></tr><tr><th>74</th><td>Region B</td><td>2021</td><td>2</td><td>ASSETS</td><td>BUSINESS</td><td>Cleveland</td><td>USD 3311.77 million</td></tr><tr><th>75</th><td>Region B</td><td>2021</td><td>2</td><td>NET_WORTH</td><td>HR</td><td>Minneapolis</td><td>USD 4014.41 million</td></tr><tr><th>76</th><td>Region B</td><td>2021</td><td>2</td><td>NET_WORTH</td><td>HR</td><td>New York</td><td>USD 3894.27 million</td></tr><tr><th>77</th><td>Region B</td><td>2021</td><td>2</td><td>NET_WORTH</td><td>OTHERS</td><td>Chicago</td><td>USD 4884.47 million</td></tr><tr><th>78</th><td>Region B</td><td>2021</td><td>2</td><td>REVENUE</td><td>HR</td><td>Boston</td><td>USD 4325.35 million</td></tr><tr><th>79</th><td>Region B</td><td>2021</td><td>2</td><td>NET_WORTH</td><td>HR</td><td>Philadelphia</td><td>USD 4389.43 million</td></tr><tr><th>80</th><td>Region B</td><td>2021</td><td>2</td><td>NET_WORTH</td><td>OTHERS</td><td>San Francisco</td><td>USD 4509.67 million</td></tr><tr><th>81</th><td>Region B</td><td>2021</td><td>2</td><td>REVENUE</td><td>SALES</td><td>Cleveland</td><td>USD 4025.75 million</td></tr><tr><th>82</th><td>Region B</td><td>2021</td><td>2</td><td>NET_WORTH</td><td>SALES</td><td>Kansas City</td><td>USD 3843.43 million</td></tr><tr><th>83</th><td>Region B</td><td>2021</td><td>2</td><td>NET_WORTH</td><td>BUSINESS</td><td>Chicago</td><td>USD 4303.44 million</td></tr><tr><th>84</th><td>Region B</td><td>2021</td><td>2</td><td>ASSETS</td><td>SALES</td><td>Kansas City</td><td>USD 3904.23 million</td></tr><tr><th>85</th><td>Region B</td><td>2021</td><td>2</td><td>REVENUE</td><td>BUSINESS</td><td>St. Louis</td><td>USD 4021.63 million</td></tr><tr><th>86</th><td>Region B</td><td>2021</td><td>2</td><td>ASSETS</td><td>SALES</td><td>Richmond</td><td>USD 3532.09 million</td></tr><tr><th>87</th><td>Region B</td><td>2021</td><td>2</td><td>REVENUE</td><td>IT</td><td>Philadelphia</td><td>USD 3778.69 million</td></tr><tr><th>88</th><td>Region B</td><td>2021</td><td>2</td><td>ASSETS</td><td>OTHERS</td><td>Kansas City</td><td>USD 4350.03 million</td></tr><tr><th>89</th><td>Region B</td><td>2021</td><td>2</td><td>NET_WORTH</td><td>IT</td><td>St. Louis</td><td>USD 3808.57 million</td></tr><tr><th>90</th><td>Region B</td><td>2021</td><td>2</td><td>ASSETS</td><td>BUSINESS</td><td>New York</td><td>USD 3660.31 million</td></tr><tr><th>91</th><td>Region B</td><td>2021</td><td>2</td><td>NET_WORTH</td><td>IT</td><td>Chicago</td><td>USD 3828.41 million</td></tr><tr><th>92</th><td>Region B</td><td>2021</td><td>2</td><td>LIABILITIES</td><td>HR</td><td>Cleveland</td><td>USD 4264.54 million</td></tr><tr><th>93</th><td>Region B</td><td>2021</td><td>2</td><td>LIABILITIES</td><td>IT</td><td>Dallas</td><td>USD 3955.2 million</td></tr><tr><th>94</th><td>Region B</td><td>2021</td><td>2</td><td>ASSETS</td><td>BUSINESS</td><td>Dallas</td><td>USD 3490.1 million</td></tr><tr><th>95</th><td>Region B</td><td>2021</td><td>2</td><td>LIABILITIES</td><td>SALES</td><td>Chicago</td><td>USD 3707.97 million</td></tr><tr><th>96</th><td>Region B</td><td>2021</td><td>2</td><td>NET_WORTH</td><td>IT</td><td>Minneapolis</td><td>USD 4193.11 million</td></tr><tr><th>97</th><td>Region B</td><td>2021</td><td>2</td><td>REVENUE</td><td>OTHERS</td><td>Richmond</td><td>USD 3603.43 million</td></tr><tr><th>98</th><td>Region B</td><td>2021</td><td>2</td><td>NET_WORTH</td><td>HR</td><td>St. Louis</td><td>USD 3695.22 million</td></tr><tr><th>99</th><td>Region B</td><td>2021</td><td>2</td><td>REVENUE</td><td>OTHERS</td><td>St. Louis</td><td>USD 4403.11 million</td></tr><tr><th>100</th><td>Region B</td><td>2021</td><td>2</td><td>LIABILITIES</td><td>BUSINESS</td><td>Kansas City</td><td>USD 4180.52 million</td></tr><tr><th>101</th><td>Region B</td><td>2021</td><td>2</td><td>ASSETS</td><td>OTHERS</td><td>Philadelphia</td><td>USD 4340.48 million</td></tr><tr><th>102</th><td>Region B</td><td>2021</td><td>2</td><td>NET_WORTH</td><td>OTHERS</td><td>Richmond</td><td>USD 3637.72 million</td></tr><tr><th>103</th><td>Region B</td><td>2021</td><td>2</td><td>NET_WORTH</td><td>BUSINESS</td><td>Atlanta</td><td>USD 3819.95 million</td></tr><tr><th>104</th><td>Region B</td><td>2021</td><td>2</td><td>LIABILITIES</td><td>IT</td><td>St. Louis</td><td>USD 4330.74 million</td></tr><tr><th>105</th><td>Region B</td><td>2021</td><td>2</td><td>LIABILITIES</td><td>HR</td><td>Chicago</td><td>USD 4462.25 million</td></tr><tr><th>106</th><td>Region B</td><td>2021</td><td>2</td><td>LIABILITIES</td><td>IT</td><td>Richmond</td><td>USD 3847.22 million</td></tr><tr><th>107</th><td>Region B</td><td>2021</td><td>2</td><td>ASSETS</td><td>IT</td><td>Chicago</td><td>USD 4822.65 million</td></tr><tr><th>108</th><td>Region B</td><td>2021</td><td>2</td><td>NET_WORTH</td><td>HR</td><td>San Francisco</td><td>USD 3416.2 million</td></tr><tr><th>109</th><td>Region B</td><td>2021</td><td>2</td><td>REVENUE</td><td>HR</td><td>San Francisco</td><td>USD 4190.61 million</td></tr><tr><th>110</th><td>Region B</td><td>2021</td><td>2</td><td>REVENUE</td><td>HR</td><td>St. Louis</td><td>USD 3361.44 million</td></tr><tr><th>111</th><td>Region B</td><td>2021</td><td>2</td><td>LIABILITIES</td><td>OTHERS</td><td>Chicago</td><td>USD 3493.54 million</td></tr><tr><th>112</th><td>Region B</td><td>2021</td><td>2</td><td>NET_WORTH</td><td>OTHERS</td><td>Philadelphia</td><td>USD 4183.27 million</td></tr><tr><th>113</th><td>Region B</td><td>2021</td><td>2</td><td>LIABILITIES</td><td>IT</td><td>Chicago</td><td>USD 3485.87 million</td></tr><tr><th>114</th><td>Region B</td><td>2021</td><td>2</td><td>LIABILITIES</td><td>HR</td><td>Philadelphia</td><td>USD 3707.13 million</td></tr><tr><th>115</th><td>Region B</td><td>2021</td><td>2</td><td>REVENUE</td><td>OTHERS</td><td>Kansas City</td><td>USD 3214.86 million</td></tr><tr><th>116</th><td>Region B</td><td>2021</td><td>2</td><td>ASSETS</td><td>SALES</td><td>Boston</td><td>USD 3922.61 million</td></tr><tr><th>117</th><td>Region B</td><td>2021</td><td>2</td><td>REVENUE</td><td>OTHERS</td><td>San Francisco</td><td>USD 3555.88 million</td></tr><tr><th>118</th><td>Region B</td><td>2021</td><td>2</td><td>NET_WORTH</td><td>OTHERS</td><td>Boston</td><td>USD 4289.68 million</td></tr><tr><th>119</th><td>Region B</td><td>2021</td><td>2</td><td>REVENUE</td><td>HR</td><td>New York</td><td>USD 4009.5 million</td></tr><tr><th>120</th><td>Region B</td><td>2021</td><td>2</td><td>LIABILITIES</td><td>HR</td><td>St. Louis</td><td>USD 3378.73 million</td></tr><tr><th>121</th><td>Region B</td><td>2021</td><td>2</td><td>LIABILITIES</td><td>IT</td><td>Philadelphia</td><td>USD 4527.18 million</td></tr><tr><th>122</th><td>Region B</td><td>2021</td><td>2</td><td>REVENUE</td><td>BUSINESS</td><td>Minneapolis</td><td>USD 4334.13 million</td></tr><tr><th>123</th><td>Region B</td><td>2021</td><td>2</td><td>LIABILITIES</td><td>HR</td><td>Richmond</td><td>USD 3778.13 million</td></tr><tr><th>124</th><td>Region B</td><td>2021</td><td>2</td><td>ASSETS</td><td>HR</td><td>Cleveland</td><td>USD 3856.62 million</td></tr><tr><th>125</th><td>Region B</td><td>2021</td><td>2</td><td>ASSETS</td><td>HR</td><td>Chicago</td><td>USD 4201.79 million</td></tr><tr><th>126</th><td>Region B</td><td>2021</td><td>2</td><td>NET_WORTH</td><td>IT</td><td>San Francisco</td><td>USD 4081.03 million</td></tr><tr><th>127</th><td>Region B</td><td>2021</td><td>2</td><td>LIABILITIES</td><td>BUSINESS</td><td>Minneapolis</td><td>USD 4606.12 million</td></tr><tr><th>128</th><td>Region B</td><td>2021</td><td>2</td><td>NET_WORTH</td><td>SALES</td><td>Dallas</td><td>USD 4755.48 million</td></tr><tr><th>129</th><td>Region B</td><td>2021</td><td>2</td><td>LIABILITIES</td><td>OTHERS</td><td>Boston</td><td>USD 4478.02 million</td></tr><tr><th>130</th><td>Region B</td><td>2021</td><td>2</td><td>LIABILITIES</td><td>BUSINESS</td><td>San Francisco</td><td>USD 3061.28 million</td></tr><tr><th>131</th><td>Region B</td><td>2021</td><td>2</td><td>LIABILITIES</td><td>BUSINESS</td><td>Richmond</td><td>USD 4323.81 million</td></tr><tr><th>132</th><td>Region B</td><td>2021</td><td>2</td><td>NET_WORTH</td><td>HR</td><td>Cleveland</td><td>USD 3443.24 million</td></tr><tr><th>133</th><td>Region B</td><td>2021</td><td>2</td><td>ASSETS</td><td>OTHERS</td><td>Minneapolis</td><td>USD 3868.44 million</td></tr><tr><th>134</th><td>Region B</td><td>2021</td><td>2</td><td>NET_WORTH</td><td>SALES</td><td>San Francisco</td><td>USD 3124.19 million</td></tr><tr><th>135</th><td>Region B</td><td>2021</td><td>2</td><td>ASSETS</td><td>OTHERS</td><td>St. Louis</td><td>USD 3942.33 million</td></tr><tr><th>136</th><td>Region B</td><td>2021</td><td>2</td><td>ASSETS</td><td>SALES</td><td>Dallas</td><td>USD 3754.68 million</td></tr><tr><th>137</th><td>Region B</td><td>2021</td><td>2</td><td>ASSETS</td><td>SALES</td><td>Minneapolis</td><td>USD 2638.33 million</td></tr><tr><th>138</th><td>Region B</td><td>2021</td><td>2</td><td>ASSETS</td><td>OTHERS</td><td>Cleveland</td><td>USD 4146.61 million</td></tr><tr><th>139</th><td>Region B</td><td>2021</td><td>2</td><td>ASSETS</td><td>OTHERS</td><td>Chicago</td><td>USD 3917.89 million</td></tr><tr><th>140</th><td>Region B</td><td>2021</td><td>2</td><td>NET_WORTH</td><td>IT</td><td>Atlanta</td><td>USD 3295.98 million</td></tr><tr><th>141</th><td>Region B</td><td>2021</td><td>2</td><td>REVENUE</td><td>IT</td><td>Dallas</td><td>USD 3887.11 million</td></tr><tr><th>142</th><td>Region B</td><td>2021</td><td>2</td><td>REVENUE</td><td>HR</td><td>Atlanta</td><td>USD 3989.15 million</td></tr><tr><th>143</th><td>Region B</td><td>2021</td><td>2</td><td>REVENUE</td><td>HR</td><td>Cleveland</td><td>USD 3983.46 million</td></tr><tr><th>144</th><td>Region B</td><td>2021</td><td>2</td><td>NET_WORTH</td><td>SALES</td><td>Chicago</td><td>USD 4376.57 million</td></tr><tr><th>145</th><td>Region B</td><td>2021</td><td>2</td><td>ASSETS</td><td>OTHERS</td><td>Boston</td><td>USD 3927.45 million</td></tr><tr><th>146</th><td>Region B</td><td>2021</td><td>2</td><td>REVENUE</td><td>OTHERS</td><td>New York</td><td>USD 3263.27 million</td></tr><tr><th>147</th><td>Region B</td><td>2021</td><td>2</td><td>NET_WORTH</td><td>BUSINESS</td><td>Philadelphia</td><td>USD 3411.73 million</td></tr><tr><th>148</th><td>Region B</td><td>2021</td><td>2</td><td>LIABILITIES</td><td>SALES</td><td>Boston</td><td>USD 3520.68 million</td></tr><tr><th>149</th><td>Region B</td><td>2021</td><td>2</td><td>REVENUE</td><td>SALES</td><td>New York</td><td>USD 4735.84 million</td></tr><tr><th>150</th><td>Region B</td><td>2021</td><td>2</td><td>LIABILITIES</td><td>BUSINESS</td><td>St. Louis</td><td>USD 3669.81 million</td></tr><tr><th>151</th><td>Region B</td><td>2021</td><td>2</td><td>NET_WORTH</td><td>SALES</td><td>Minneapolis</td><td>USD 4296.49 million</td></tr><tr><th>152</th><td>Region B</td><td>2021</td><td>2</td><td>ASSETS</td><td>BUSINESS</td><td>Richmond</td><td>USD 3916.94 million</td></tr><tr><th>153</th><td>Region B</td><td>2021</td><td>2</td><td>NET_WORTH</td><td>HR</td><td>Kansas City</td><td>USD 4378.44 million</td></tr><tr><th>154</th><td>Region B</td><td>2021</td><td>2</td><td>ASSETS</td><td>HR</td><td>New York</td><td>USD 4182.17 million</td></tr><tr><th>155</th><td>Region B</td><td>2021</td><td>2</td><td>NET_WORTH</td><td>SALES</td><td>Philadelphia</td><td>USD 4345.23 million</td></tr><tr><th>156</th><td>Region B</td><td>2021</td><td>2</td><td>NET_WORTH</td><td>IT</td><td>Cleveland</td><td>USD 3787.16 million</td></tr><tr><th>157</th><td>Region B</td><td>2021</td><td>2</td><td>ASSETS</td><td>OTHERS</td><td>Richmond</td><td>USD 3765.26 million</td></tr><tr><th>158</th><td>Region B</td><td>2021</td><td>2</td><td>ASSETS</td><td>HR</td><td>St. Louis</td><td>USD 4655.51 million</td></tr><tr><th>159</th><td>Region B</td><td>2021</td><td>2</td><td>ASSETS</td><td>IT</td><td>Cleveland</td><td>USD 5150.0 million</td></tr><tr><th>160</th><td>Region B</td><td>2021</td><td>2</td><td>LIABILITIES</td><td>IT</td><td>New York</td><td>USD 3921.97 million</td></tr><tr><th>161</th><td>Region B</td><td>2021</td><td>2</td><td>LIABILITIES</td><td>HR</td><td>Minneapolis</td><td>USD 4332.34 million</td></tr><tr><th>162</th><td>Region B</td><td>2021</td><td>2</td><td>REVENUE</td><td>OTHERS</td><td>Boston</td><td>USD 4221.1 million</td></tr><tr><th>163</th><td>Region B</td><td>2021</td><td>2</td><td>REVENUE</td><td>SALES</td><td>Philadelphia</td><td>USD 4518.49 million</td></tr><tr><th>164</th><td>Region B</td><td>2021</td><td>2</td><td>ASSETS</td><td>IT</td><td>San Francisco</td><td>USD 3803.69 million</td></tr><tr><th>165</th><td>Region B</td><td>2021</td><td>2</td><td>ASSETS</td><td>IT</td><td>Atlanta</td><td>USD 3630.48 million</td></tr><tr><th>166</th><td>Region B</td><td>2021</td><td>2</td><td>REVENUE</td><td>IT</td><td>New York</td><td>USD 4389.13 million</td></tr><tr><th>167</th><td>Region B</td><td>2021</td><td>2</td><td>NET_WORTH</td><td>HR</td><td>Richmond</td><td>USD 4715.37 million</td></tr><tr><th>168</th><td>Region B</td><td>2021</td><td>2</td><td>REVENUE</td><td>IT</td><td>Richmond</td><td>USD 3878.62 million</td></tr><tr><th>169</th><td>Region B</td><td>2021</td><td>2</td><td>REVENUE</td><td>SALES</td><td>Minneapolis</td><td>USD 3874.8 million</td></tr><tr><th>170</th><td>Region B</td><td>2021</td><td>2</td><td>REVENUE</td><td>BUSINESS</td><td>Boston</td><td>USD 4498.18 million</td></tr><tr><th>171</th><td>Region B</td><td>2021</td><td>2</td><td>LIABILITIES</td><td>SALES</td><td>Cleveland</td><td>USD 3943.81 million</td></tr><tr><th>172</th><td>Region B</td><td>2021</td><td>2</td><td>NET_WORTH</td><td>OTHERS</td><td>Dallas</td><td>USD 4998.53 million</td></tr><tr><th>173</th><td>Region B</td><td>2021</td><td>2</td><td>ASSETS</td><td>SALES</td><td>St. Louis</td><td>USD 4250.38 million</td></tr><tr><th>174</th><td>Region B</td><td>2021</td><td>2</td><td>LIABILITIES</td><td>OTHERS</td><td>Cleveland</td><td>USD 4440.21 million</td></tr><tr><th>175</th><td>Region B</td><td>2021</td><td>2</td><td>LIABILITIES</td><td>OTHERS</td><td>St. Louis</td><td>USD 4461.69 million</td></tr><tr><th>176</th><td>Region B</td><td>2021</td><td>2</td><td>NET_WORTH</td><td>IT</td><td>Boston</td><td>USD 4448.35 million</td></tr><tr><th>177</th><td>Region B</td><td>2021</td><td>2</td><td>NET_WORTH</td><td>BUSINESS</td><td>Minneapolis</td><td>USD 4480.38 million</td></tr><tr><th>178</th><td>Region B</td><td>2021</td><td>2</td><td>ASSETS</td><td>BUSINESS</td><td>St. Louis</td><td>USD 3544.04 million</td></tr><tr><th>179</th><td>Region B</td><td>2021</td><td>2</td><td>LIABILITIES</td><td>HR</td><td>New York</td><td>USD 3549.84 million</td></tr><tr><th>180</th><td>Region B</td><td>2021</td><td>2</td><td>LIABILITIES</td><td>SALES</td><td>New York</td><td>USD 4387.0 million</td></tr><tr><th>181</th><td>Region B</td><td>2021</td><td>2</td><td>REVENUE</td><td>OTHERS</td><td>Dallas</td><td>USD 3616.4 million</td></tr><tr><th>182</th><td>Region B</td><td>2021</td><td>2</td><td>REVENUE</td><td>IT</td><td>Chicago</td><td>USD 3961.33 million</td></tr><tr><th>183</th><td>Region B</td><td>2021</td><td>2</td><td>REVENUE</td><td>BUSINESS</td><td>New York</td><td>USD 3625.01 million</td></tr><tr><th>184</th><td>Region B</td><td>2021</td><td>2</td><td>LIABILITIES</td><td>BUSINESS</td><td>Boston</td><td>USD 4627.67 million</td></tr><tr><th>185</th><td>Region B</td><td>2021</td><td>2</td><td>LIABILITIES</td><td>HR</td><td>San Francisco</td><td>USD 4498.27 million</td></tr><tr><th>186</th><td>Region B</td><td>2021</td><td>2</td><td>ASSETS</td><td>HR</td><td>Kansas City</td><td>USD 3924.74 million</td></tr><tr><th>187</th><td>Region B</td><td>2021</td><td>2</td><td>REVENUE</td><td>SALES</td><td>San Francisco</td><td>USD 3641.69 million</td></tr><tr><th>188</th><td>Region B</td><td>2021</td><td>2</td><td>REVENUE</td><td>OTHERS</td><td>Chicago</td><td>USD 3815.97 million</td></tr><tr><th>189</th><td>Region B</td><td>2021</td><td>2</td><td>NET_WORTH</td><td>OTHERS</td><td>St. Louis</td><td>USD 4463.89 million</td></tr><tr><th>190</th><td>Region B</td><td>2021</td><td>2</td><td>ASSETS</td><td>BUSINESS</td><td>Philadelphia</td><td>USD 3579.11 million</td></tr><tr><th>191</th><td>Region B</td><td>2021</td><td>2</td><td>REVENUE</td><td>BUSINESS</td><td>San Francisco</td><td>USD 3290.47 million</td></tr><tr><th>192</th><td>Region B</td><td>2021</td><td>2</td><td>LIABILITIES</td><td>OTHERS</td><td>Minneapolis</td><td>USD 3416.22 million</td></tr><tr><th>193</th><td>Region B</td><td>2021</td><td>2</td><td>ASSETS</td><td>IT</td><td>Dallas</td><td>USD 3506.32 million</td></tr><tr><th>194</th><td>Region B</td><td>2021</td><td>2</td><td>NET_WORTH</td><td>BUSINESS</td><td>St. Louis</td><td>USD 4947.56 million</td></tr><tr><th>195</th><td>Region B</td><td>2021</td><td>2</td><td>NET_WORTH</td><td>BUSINESS</td><td>San Francisco</td><td>USD 4297.84 million</td></tr><tr><th>196</th><td>Region B</td><td>2021</td><td>2</td><td>REVENUE</td><td>HR</td><td>Richmond</td><td>USD 3994.18 million</td></tr><tr><th>197</th><td>Region B</td><td>2021</td><td>2</td><td>REVENUE</td><td>SALES</td><td>Kansas City</td><td>USD 3945.2 million</td></tr><tr><th>198</th><td>Region B</td><td>2021</td><td>2</td><td>ASSETS</td><td>OTHERS</td><td>New York</td><td>USD 4133.53 million</td></tr><tr><th>199</th><td>Region B</td><td>2021</td><td>2</td><td>REVENUE</td><td>OTHERS</td><td>Cleveland</td><td>USD 3156.42 million</td></tr><tr><th>200</th><td>Region B</td><td>2021</td><td>2</td><td>REVENUE</td><td>BUSINESS</td><td>Chicago</td><td>USD 3495.35 million</td></tr><tr><th>201</th><td>Region B</td><td>2021</td><td>2</td><td>NET_WORTH</td><td>IT</td><td>Richmond</td><td>USD 4037.96 million</td></tr><tr><th>202</th><td>Region B</td><td>2021</td><td>2</td><td>NET_WORTH</td><td>OTHERS</td><td>Cleveland</td><td>USD 3950.75 million</td></tr><tr><th>203</th><td>Region B</td><td>2021</td><td>2</td><td>LIABILITIES</td><td>BUSINESS</td><td>Atlanta</td><td>USD 3909.57 million</td></tr><tr><th>204</th><td>Region B</td><td>2021</td><td>2</td><td>ASSETS</td><td>SALES</td><td>Philadelphia</td><td>USD 3477.24 million</td></tr><tr><th>205</th><td>Region B</td><td>2021</td><td>2</td><td>NET_WORTH</td><td>HR</td><td>Atlanta</td><td>USD 3750.61 million</td></tr><tr><th>206</th><td>Region B</td><td>2021</td><td>2</td><td>REVENUE</td><td>BUSINESS</td><td>Atlanta</td><td>USD 3524.35 million</td></tr><tr><th>207</th><td>Region B</td><td>2021</td><td>2</td><td>ASSETS</td><td>HR</td><td>Atlanta</td><td>USD 3877.97 million</td></tr><tr><th>208</th><td>Region B</td><td>2021</td><td>2</td><td>REVENUE</td><td>IT</td><td>Boston</td><td>USD 3771.93 million</td></tr><tr><th>209</th><td>Region B</td><td>2021</td><td>2</td><td>REVENUE</td><td>OTHERS</td><td>Philadelphia</td><td>USD 3863.22 million</td></tr><tr><th>210</th><td>Region B</td><td>2021</td><td>2</td><td>NET_WORTH</td><td>OTHERS</td><td>New York</td><td>USD 3363.16 million</td></tr><tr><th>211</th><td>Region B</td><td>2021</td><td>2</td><td>NET_WORTH</td><td>SALES</td><td>Richmond</td><td>USD 3768.73 million</td></tr><tr><th>212</th><td>Region B</td><td>2021</td><td>2</td><td>REVENUE</td><td>HR</td><td>Philadelphia</td><td>USD 3751.32 million</td></tr><tr><th>213</th><td>Region B</td><td>2021</td><td>2</td><td>NET_WORTH</td><td>BUSINESS</td><td>New York</td><td>USD 3786.22 million</td></tr><tr><th>214</th><td>Region B</td><td>2021</td><td>2</td><td>NET_WORTH</td><td>BUSINESS</td><td>Kansas City</td><td>USD 3168.14 million</td></tr><tr><th>215</th><td>Region B</td><td>2021</td><td>2</td><td>NET_WORTH</td><td>OTHERS</td><td>Kansas City</td><td>USD 3765.9 million</td></tr><tr><th>216</th><td>Region B</td><td>2021</td><td>2</td><td>ASSETS</td><td>HR</td><td>Dallas</td><td>USD 3211.58 million</td></tr><tr><th>217</th><td>Region B</td><td>2021</td><td>2</td><td>NET_WORTH</td><td>HR</td><td>Dallas</td><td>USD 5013.63 million</td></tr><tr><th>218</th><td>Region B</td><td>2021</td><td>2</td><td>LIABILITIES</td><td>IT</td><td>Boston</td><td>USD 3499.94 million</td></tr><tr><th>219</th><td>Region B</td><td>2021</td><td>2</td><td>NET_WORTH</td><td>OTHERS</td><td>Atlanta</td><td>USD 4442.08 million</td></tr><tr><th>220</th><td>Region B</td><td>2021</td><td>2</td><td>ASSETS</td><td>OTHERS</td><td>San Francisco</td><td>USD 3914.48 million</td></tr><tr><th>221</th><td>Region B</td><td>2021</td><td>2</td><td>LIABILITIES</td><td>SALES</td><td>Richmond</td><td>USD 3139.59 million</td></tr><tr><th>222</th><td>Region B</td><td>2021</td><td>2</td><td>ASSETS</td><td>SALES</td><td>New York</td><td>USD 3224.55 million</td></tr><tr><th>223</th><td>Region B</td><td>2021</td><td>2</td><td>LIABILITIES</td><td>SALES</td><td>Atlanta</td><td>USD 4241.26 million</td></tr><tr><th>224</th><td>Region B</td><td>2021</td><td>2</td><td>LIABILITIES</td><td>OTHERS</td><td>Dallas</td><td>USD 3695.96 million</td></tr><tr><th>225</th><td>Region B</td><td>2021</td><td>2</td><td>ASSETS</td><td>BUSINESS</td><td>Kansas City</td><td>USD 3119.45 million</td></tr><tr><th>226</th><td>Region B</td><td>2021</td><td>2</td><td>REVENUE</td><td>SALES</td><td>St. Louis</td><td>USD 4053.0 million</td></tr><tr><th>227</th><td>Region B</td><td>2021</td><td>2</td><td>REVENUE</td><td>OTHERS</td><td>Atlanta</td><td>USD 3683.48 million</td></tr><tr><th>228</th><td>Region B</td><td>2021</td><td>2</td><td>ASSETS</td><td>SALES</td><td>San Francisco</td><td>USD 3291.86 million</td></tr><tr><th>229</th><td>Region B</td><td>2021</td><td>2</td><td>NET_WORTH</td><td>HR</td><td>Chicago</td><td>USD 3804.4 million</td></tr><tr><th>230</th><td>Region B</td><td>2021</td><td>2</td><td>ASSETS</td><td>SALES</td><td>Atlanta</td><td>USD 3943.89 million</td></tr><tr><th>231</th><td>Region B</td><td>2021</td><td>2</td><td>ASSETS</td><td>BUSINESS</td><td>Boston</td><td>USD 3909.51 million</td></tr><tr><th>232</th><td>Region B</td><td>2021</td><td>2</td><td>ASSETS</td><td>HR</td><td>Richmond</td><td>USD 3539.07 million</td></tr><tr><th>233</th><td>Region B</td><td>2021</td><td>2</td><td>REVENUE</td><td>IT</td><td>Cleveland</td><td>USD 3763.62 million</td></tr><tr><th>234</th><td>Region B</td><td>2021</td><td>2</td><td>LIABILITIES</td><td>IT</td><td>Cleveland</td><td>USD 5007.31 million</td></tr><tr><th>235</th><td>Region B</td><td>2021</td><td>2</td><td>LIABILITIES</td><td>OTHERS</td><td>Kansas City</td><td>USD 4477.97 million</td></tr><tr><th>236</th><td>Region B</td><td>2021</td><td>2</td><td>NET_WORTH</td><td>SALES</td><td>Cleveland</td><td>USD 3637.36 million</td></tr><tr><th>237</th><td>Region B</td><td>2021</td><td>2</td><td>ASSETS</td><td>BUSINESS</td><td>Atlanta</td><td>USD 3405.35 million</td></tr><tr><th>238</th><td>Region B</td><td>2021</td><td>2</td><td>LIABILITIES</td><td>OTHERS</td><td>San Francisco</td><td>USD 3571.54 million</td></tr><tr><th>239</th><td>Region B</td><td>2021</td><td>2</td><td>REVENUE</td><td>BUSINESS</td><td>Richmond</td><td>USD 3325.6 million</td></tr><tr><th>240</th><td>Region B</td><td>2021</td><td>2</td><td>NET_WORTH</td><td>SALES</td><td>Boston</td><td>USD 2699.08 million</td></tr></tbody></table></div>"
               },
               "type": "node"
              }
             ],
             "instanceArgs": {
              "namespace": "html",
              "tag": "div"
             },
             "nodeType": "DOM",
             "props": {
              "className": "interact-flex-row interact-widget"
             },
             "type": "node"
            }
           }
          },
          "systemjs_options": null
         },
         "nodeType": "Scope",
         "props": {},
         "type": "node"
        }
       ],
       "instanceArgs": {
        "namespace": "html",
        "tag": "div"
       },
       "nodeType": "DOM",
       "props": {},
       "type": "node"
      },
      "text/html": [
       "<div\n",
       "    class=\"webio-mountpoint\"\n",
       "    data-webio-mountpoint=\"10570964398274493409\"\n",
       ">\n",
       "    <script>\n",
       "    (function(){\n",
       "    // Some integrations (namely, IJulia/Jupyter) use an alternate render pathway than\n",
       "    // just putting the html on the page. If WebIO isn't defined, then it's pretty likely\n",
       "    // that we're in one of those situations and the integration just isn't installed\n",
       "    // correctly.\n",
       "    if (typeof window.WebIO === \"undefined\") {\n",
       "        document\n",
       "            .querySelector('[data-webio-mountpoint=\"10570964398274493409\"]')\n",
       "            .innerHTML = (\n",
       "                '<div style=\"padding: 1em; background-color: #f8d6da; border: 1px solid #f5c6cb; font-weight: bold;\">' +\n",
       "                '<p><strong>WebIO not detected.</strong></p>' +\n",
       "                '<p>Please read ' +\n",
       "                '<a href=\"https://juliagizmos.github.io/WebIO.jl/latest/troubleshooting/not-detected/\" target=\"_blank\">the troubleshooting guide</a> ' +\n",
       "                'for more information on how to resolve this issue.</p>' +\n",
       "                '<p><a href=\"https://juliagizmos.github.io/WebIO.jl/latest/troubleshooting/not-detected/\" target=\"_blank\">https://juliagizmos.github.io/WebIO.jl/latest/troubleshooting/not-detected/</a></p>' +\n",
       "                '</div>'\n",
       "            );\n",
       "        return;\n",
       "    }\n",
       "    WebIO.mount(\n",
       "        document.querySelector('[data-webio-mountpoint=\"10570964398274493409\"]'),\n",
       "        {\"props\":{},\"nodeType\":\"DOM\",\"type\":\"node\",\"instanceArgs\":{\"namespace\":\"html\",\"tag\":\"div\"},\"children\":[{\"props\":{\"className\":\"interact-widget\"},\"nodeType\":\"DOM\",\"type\":\"node\",\"instanceArgs\":{\"namespace\":\"html\",\"tag\":\"div\"},\"children\":[{\"props\":{},\"nodeType\":\"Scope\",\"type\":\"node\",\"instanceArgs\":{\"imports\":{\"data\":[{\"name\":\"knockout\",\"type\":\"js\",\"url\":\"\\/assetserver\\/7adbe83fac1553325d6e718d595ab555e1cabbe4-knockout.js\"},{\"name\":\"knockout_punches\",\"type\":\"js\",\"url\":\"\\/assetserver\\/cec8c4de011abc05b545afbaaea4bb4465a1f168-knockout_punches.js\"},{\"name\":null,\"type\":\"js\",\"url\":\"\\/assetserver\\/5ddeec2b33e792dac4326b9b8929eb841863a558-all.js\"},{\"name\":null,\"type\":\"css\",\"url\":\"\\/assetserver\\/a04b7b754438af5b294cd7f1d762c01dae6fade5-style.css\"},{\"name\":null,\"type\":\"css\",\"url\":\"\\/assetserver\\/50b13cf07303023836f4115fe93a8fe3eca4721a-bulma_confined.min.css\"}],\"type\":\"async_block\"},\"id\":\"3761771998763380936\",\"handlers\":{\"options_js\":[\"(function (val){return (val!=this.model[\\\"options_js\\\"]()) ? (this.valueFromJulia[\\\"options_js\\\"]=true, this.model[\\\"options_js\\\"](val)) : undefined})\"],\"index\":[\"(function (val){return (val!=this.model[\\\"index\\\"]()) ? (this.valueFromJulia[\\\"index\\\"]=true, this.model[\\\"index\\\"](val)) : undefined})\"]},\"systemjs_options\":null,\"mount_callbacks\":[\"function () {\\n    var handler = (function (ko, koPunches) {\\n    ko.punches.enableAll();\\n    ko.bindingHandlers.numericValue = {\\n        init: function(element, valueAccessor, allBindings, data, context) {\\n            var stringified = ko.observable(ko.unwrap(valueAccessor()));\\n            stringified.subscribe(function(value) {\\n                var val = parseFloat(value);\\n                if (!isNaN(val)) {\\n                    valueAccessor()(val);\\n                }\\n            });\\n            valueAccessor().subscribe(function(value) {\\n                var str = JSON.stringify(value);\\n                if ((str == \\\"0\\\") && ([\\\"-0\\\", \\\"-0.\\\"].indexOf(stringified()) >= 0))\\n                     return;\\n                 if ([\\\"null\\\", \\\"\\\"].indexOf(str) >= 0)\\n                     return;\\n                stringified(str);\\n            });\\n            ko.applyBindingsToNode(\\n                element,\\n                {\\n                    value: stringified,\\n                    valueUpdate: allBindings.get('valueUpdate'),\\n                },\\n                context,\\n            );\\n        }\\n    };\\n    var json_data = {\\\"options_js\\\":WebIO.getval({\\\"name\\\":\\\"options_js\\\",\\\"scope\\\":\\\"3761771998763380936\\\",\\\"id\\\":\\\"15109083274705896194\\\",\\\"type\\\":\\\"observable\\\"}),\\\"index\\\":WebIO.getval({\\\"name\\\":\\\"index\\\",\\\"scope\\\":\\\"3761771998763380936\\\",\\\"id\\\":\\\"5371304709671703266\\\",\\\"type\\\":\\\"observable\\\"})};\\n    var self = this;\\n    function AppViewModel() {\\n        for (var key in json_data) {\\n            var el = json_data[key];\\n            this[key] = Array.isArray(el) ? ko.observableArray(el) : ko.observable(el);\\n        }\\n        [this[\\\"update\\\"]=function (val) {this.index(val)}]\\n        \\n        [this[\\\"options_js\\\"].subscribe((function (val){!(this.valueFromJulia[\\\"options_js\\\"]) ? (WebIO.setval({\\\"name\\\":\\\"options_js\\\",\\\"scope\\\":\\\"3761771998763380936\\\",\\\"id\\\":\\\"15109083274705896194\\\",\\\"type\\\":\\\"observable\\\"},val)) : undefined; return this.valueFromJulia[\\\"options_js\\\"]=false}),self),this[\\\"index\\\"].subscribe((function (val){!(this.valueFromJulia[\\\"index\\\"]) ? (WebIO.setval({\\\"name\\\":\\\"index\\\",\\\"scope\\\":\\\"3761771998763380936\\\",\\\"id\\\":\\\"5371304709671703266\\\",\\\"type\\\":\\\"observable\\\"},val)) : undefined; return this.valueFromJulia[\\\"index\\\"]=false}),self)]\\n        \\n    }\\n    self.model = new AppViewModel();\\n    self.valueFromJulia = {};\\n    for (var key in json_data) {\\n        self.valueFromJulia[key] = false;\\n    }\\n    ko.applyBindings(self.model, self.dom);\\n}\\n);\\n    (WebIO.importBlock({\\\"data\\\":[{\\\"name\\\":\\\"knockout\\\",\\\"type\\\":\\\"js\\\",\\\"url\\\":\\\"\\/assetserver\\/7adbe83fac1553325d6e718d595ab555e1cabbe4-knockout.js\\\"},{\\\"name\\\":\\\"knockout_punches\\\",\\\"type\\\":\\\"js\\\",\\\"url\\\":\\\"\\/assetserver\\/cec8c4de011abc05b545afbaaea4bb4465a1f168-knockout_punches.js\\\"}],\\\"type\\\":\\\"async_block\\\"})).then((imports) => handler.apply(this, imports));\\n}\\n\"],\"observables\":{\"options_js\":{\"sync\":false,\"id\":\"15109083274705896194\",\"value\":[{\"key\":\"Actuals\",\"val\":1,\"id\":\"id7S4U0Wvl\"},{\"key\":\"Budget\",\"val\":2,\"id\":\"idPCG4XiaU\"}]},\"index\":{\"sync\":true,\"id\":\"5371304709671703266\",\"value\":1}}},\"children\":[{\"props\":{\"className\":\"interact-flex-row interact-widget\"},\"nodeType\":\"DOM\",\"type\":\"node\",\"instanceArgs\":{\"namespace\":\"html\",\"tag\":\"div\"},\"children\":[{\"props\":{\"className\":\"interact-flex-row-left\"},\"nodeType\":\"DOM\",\"type\":\"node\",\"instanceArgs\":{\"namespace\":\"html\",\"tag\":\"div\"},\"children\":[{\"props\":{\"className\":\"interact \",\"style\":{\"padding\":\"5px 10px 0px 10px\"}},\"nodeType\":\"DOM\",\"type\":\"node\",\"instanceArgs\":{\"namespace\":\"html\",\"tag\":\"label\"},\"children\":[\"ld\"]}]},{\"props\":{\"className\":\"interact-flex-row-center\"},\"nodeType\":\"DOM\",\"type\":\"node\",\"instanceArgs\":{\"namespace\":\"html\",\"tag\":\"div\"},\"children\":[{\"props\":{\"attributes\":{\"data-bind\":\"foreach : options_js\"},\"className\":\"buttons has-addons is-centered\"},\"nodeType\":\"DOM\",\"type\":\"node\",\"instanceArgs\":{\"namespace\":\"html\",\"tag\":\"div\"},\"children\":[{\"props\":{\"attributes\":{\"data-bind\":\"click: function (){$root.update(val)}, css: {'is-primary is-selected' : $root.index() == val, 'interact-widget is-medium button ' : true}\"}},\"nodeType\":\"DOM\",\"type\":\"node\",\"instanceArgs\":{\"namespace\":\"html\",\"tag\":\"span\"},\"children\":[{\"props\":{\"attributes\":{\"data-bind\":\"text : key\"}},\"nodeType\":\"DOM\",\"type\":\"node\",\"instanceArgs\":{\"namespace\":\"html\",\"tag\":\"label\"},\"children\":[]}]}]}]},{\"props\":{\"className\":\"interact-flex-row-right\"},\"nodeType\":\"DOM\",\"type\":\"node\",\"instanceArgs\":{\"namespace\":\"html\",\"tag\":\"div\"},\"children\":[{\"props\":{},\"nodeType\":\"DOM\",\"type\":\"node\",\"instanceArgs\":{\"namespace\":\"html\",\"tag\":\"div\"},\"children\":[]}]}]}]}]},{\"props\":{\"className\":\"interact-widget\"},\"nodeType\":\"DOM\",\"type\":\"node\",\"instanceArgs\":{\"namespace\":\"html\",\"tag\":\"div\"},\"children\":[{\"props\":{},\"nodeType\":\"Scope\",\"type\":\"node\",\"instanceArgs\":{\"imports\":{\"data\":[{\"name\":\"knockout\",\"type\":\"js\",\"url\":\"\\/assetserver\\/7adbe83fac1553325d6e718d595ab555e1cabbe4-knockout.js\"},{\"name\":\"knockout_punches\",\"type\":\"js\",\"url\":\"\\/assetserver\\/cec8c4de011abc05b545afbaaea4bb4465a1f168-knockout_punches.js\"},{\"name\":null,\"type\":\"js\",\"url\":\"\\/assetserver\\/5ddeec2b33e792dac4326b9b8929eb841863a558-all.js\"},{\"name\":null,\"type\":\"css\",\"url\":\"\\/assetserver\\/a04b7b754438af5b294cd7f1d762c01dae6fade5-style.css\"},{\"name\":null,\"type\":\"css\",\"url\":\"\\/assetserver\\/50b13cf07303023836f4115fe93a8fe3eca4721a-bulma_confined.min.css\"}],\"type\":\"async_block\"},\"id\":\"4336181307449966138\",\"handlers\":{\"options_js\":[\"(function (val){return (val!=this.model[\\\"options_js\\\"]()) ? (this.valueFromJulia[\\\"options_js\\\"]=true, this.model[\\\"options_js\\\"](val)) : undefined})\"],\"index\":[\"(function (val){return (val!=this.model[\\\"index\\\"]()) ? (this.valueFromJulia[\\\"index\\\"]=true, this.model[\\\"index\\\"](val)) : undefined})\"]},\"systemjs_options\":null,\"mount_callbacks\":[\"function () {\\n    var handler = (function (ko, koPunches) {\\n    ko.punches.enableAll();\\n    ko.bindingHandlers.numericValue = {\\n        init: function(element, valueAccessor, allBindings, data, context) {\\n            var stringified = ko.observable(ko.unwrap(valueAccessor()));\\n            stringified.subscribe(function(value) {\\n                var val = parseFloat(value);\\n                if (!isNaN(val)) {\\n                    valueAccessor()(val);\\n                }\\n            });\\n            valueAccessor().subscribe(function(value) {\\n                var str = JSON.stringify(value);\\n                if ((str == \\\"0\\\") && ([\\\"-0\\\", \\\"-0.\\\"].indexOf(stringified()) >= 0))\\n                     return;\\n                 if ([\\\"null\\\", \\\"\\\"].indexOf(str) >= 0)\\n                     return;\\n                stringified(str);\\n            });\\n            ko.applyBindingsToNode(\\n                element,\\n                {\\n                    value: stringified,\\n                    valueUpdate: allBindings.get('valueUpdate'),\\n                },\\n                context,\\n            );\\n        }\\n    };\\n    var json_data = {\\\"options_js\\\":WebIO.getval({\\\"name\\\":\\\"options_js\\\",\\\"scope\\\":\\\"4336181307449966138\\\",\\\"id\\\":\\\"17402697954747100342\\\",\\\"type\\\":\\\"observable\\\"}),\\\"index\\\":WebIO.getval({\\\"name\\\":\\\"index\\\",\\\"scope\\\":\\\"4336181307449966138\\\",\\\"id\\\":\\\"8989126355364358398\\\",\\\"type\\\":\\\"observable\\\"})};\\n    var self = this;\\n    function AppViewModel() {\\n        for (var key in json_data) {\\n            var el = json_data[key];\\n            this[key] = Array.isArray(el) ? ko.observableArray(el) : ko.observable(el);\\n        }\\n        [this[\\\"update\\\"]=function (val) {this.index(val)}]\\n        \\n        [this[\\\"options_js\\\"].subscribe((function (val){!(this.valueFromJulia[\\\"options_js\\\"]) ? (WebIO.setval({\\\"name\\\":\\\"options_js\\\",\\\"scope\\\":\\\"4336181307449966138\\\",\\\"id\\\":\\\"17402697954747100342\\\",\\\"type\\\":\\\"observable\\\"},val)) : undefined; return this.valueFromJulia[\\\"options_js\\\"]=false}),self),this[\\\"index\\\"].subscribe((function (val){!(this.valueFromJulia[\\\"index\\\"]) ? (WebIO.setval({\\\"name\\\":\\\"index\\\",\\\"scope\\\":\\\"4336181307449966138\\\",\\\"id\\\":\\\"8989126355364358398\\\",\\\"type\\\":\\\"observable\\\"},val)) : undefined; return this.valueFromJulia[\\\"index\\\"]=false}),self)]\\n        \\n    }\\n    self.model = new AppViewModel();\\n    self.valueFromJulia = {};\\n    for (var key in json_data) {\\n        self.valueFromJulia[key] = false;\\n    }\\n    ko.applyBindings(self.model, self.dom);\\n}\\n);\\n    (WebIO.importBlock({\\\"data\\\":[{\\\"name\\\":\\\"knockout\\\",\\\"type\\\":\\\"js\\\",\\\"url\\\":\\\"\\/assetserver\\/7adbe83fac1553325d6e718d595ab555e1cabbe4-knockout.js\\\"},{\\\"name\\\":\\\"knockout_punches\\\",\\\"type\\\":\\\"js\\\",\\\"url\\\":\\\"\\/assetserver\\/cec8c4de011abc05b545afbaaea4bb4465a1f168-knockout_punches.js\\\"}],\\\"type\\\":\\\"async_block\\\"})).then((imports) => handler.apply(this, imports));\\n}\\n\"],\"observables\":{\"options_js\":{\"sync\":false,\"id\":\"17402697954747100342\",\"value\":[{\"key\":\"Region B\",\"val\":1,\"id\":\"idGoqQj3Rd\"},{\"key\":\"Region C\",\"val\":2,\"id\":\"idUNiW9Xlc\"},{\"key\":\"Region A\",\"val\":3,\"id\":\"idgDHJAkg8\"}]},\"index\":{\"sync\":true,\"id\":\"8989126355364358398\",\"value\":1}}},\"children\":[{\"props\":{\"className\":\"interact-flex-row interact-widget\"},\"nodeType\":\"DOM\",\"type\":\"node\",\"instanceArgs\":{\"namespace\":\"html\",\"tag\":\"div\"},\"children\":[{\"props\":{\"className\":\"interact-flex-row-left\"},\"nodeType\":\"DOM\",\"type\":\"node\",\"instanceArgs\":{\"namespace\":\"html\",\"tag\":\"div\"},\"children\":[{\"props\":{\"className\":\"interact \",\"style\":{\"padding\":\"5px 10px 0px 10px\"}},\"nodeType\":\"DOM\",\"type\":\"node\",\"instanceArgs\":{\"namespace\":\"html\",\"tag\":\"label\"},\"children\":[\"rg\"]}]},{\"props\":{\"className\":\"interact-flex-row-center\"},\"nodeType\":\"DOM\",\"type\":\"node\",\"instanceArgs\":{\"namespace\":\"html\",\"tag\":\"div\"},\"children\":[{\"props\":{\"attributes\":{\"data-bind\":\"foreach : options_js\"},\"className\":\"buttons has-addons is-centered\"},\"nodeType\":\"DOM\",\"type\":\"node\",\"instanceArgs\":{\"namespace\":\"html\",\"tag\":\"div\"},\"children\":[{\"props\":{\"attributes\":{\"data-bind\":\"click: function (){$root.update(val)}, css: {'is-primary is-selected' : $root.index() == val, 'interact-widget is-medium button ' : true}\"}},\"nodeType\":\"DOM\",\"type\":\"node\",\"instanceArgs\":{\"namespace\":\"html\",\"tag\":\"span\"},\"children\":[{\"props\":{\"attributes\":{\"data-bind\":\"text : key\"}},\"nodeType\":\"DOM\",\"type\":\"node\",\"instanceArgs\":{\"namespace\":\"html\",\"tag\":\"label\"},\"children\":[]}]}]}]},{\"props\":{\"className\":\"interact-flex-row-right\"},\"nodeType\":\"DOM\",\"type\":\"node\",\"instanceArgs\":{\"namespace\":\"html\",\"tag\":\"div\"},\"children\":[{\"props\":{},\"nodeType\":\"DOM\",\"type\":\"node\",\"instanceArgs\":{\"namespace\":\"html\",\"tag\":\"div\"},\"children\":[]}]}]}]}]},{\"props\":{\"className\":\"field interact-widget\"},\"nodeType\":\"DOM\",\"type\":\"node\",\"instanceArgs\":{\"namespace\":\"html\",\"tag\":\"div\"},\"children\":[{\"props\":{},\"nodeType\":\"Scope\",\"type\":\"node\",\"instanceArgs\":{\"imports\":{\"data\":[{\"name\":\"knockout\",\"type\":\"js\",\"url\":\"\\/assetserver\\/7adbe83fac1553325d6e718d595ab555e1cabbe4-knockout.js\"},{\"name\":\"knockout_punches\",\"type\":\"js\",\"url\":\"\\/assetserver\\/cec8c4de011abc05b545afbaaea4bb4465a1f168-knockout_punches.js\"},{\"name\":null,\"type\":\"js\",\"url\":\"\\/assetserver\\/5ddeec2b33e792dac4326b9b8929eb841863a558-all.js\"},{\"name\":null,\"type\":\"css\",\"url\":\"\\/assetserver\\/a04b7b754438af5b294cd7f1d762c01dae6fade5-style.css\"},{\"name\":null,\"type\":\"css\",\"url\":\"\\/assetserver\\/50b13cf07303023836f4115fe93a8fe3eca4721a-bulma_confined.min.css\"}],\"type\":\"async_block\"},\"id\":\"14953592395855329131\",\"handlers\":{\"changes\":[\"(function (val){return (val!=this.model[\\\"changes\\\"]()) ? (this.valueFromJulia[\\\"changes\\\"]=true, this.model[\\\"changes\\\"](val)) : undefined})\"],\"index\":[\"(function (val){return (val!=this.model[\\\"index\\\"]()) ? (this.valueFromJulia[\\\"index\\\"]=true, this.model[\\\"index\\\"](val)) : undefined})\"]},\"systemjs_options\":null,\"mount_callbacks\":[\"function () {\\n    var handler = (function (ko, koPunches) {\\n    ko.punches.enableAll();\\n    ko.bindingHandlers.numericValue = {\\n        init: function(element, valueAccessor, allBindings, data, context) {\\n            var stringified = ko.observable(ko.unwrap(valueAccessor()));\\n            stringified.subscribe(function(value) {\\n                var val = parseFloat(value);\\n                if (!isNaN(val)) {\\n                    valueAccessor()(val);\\n                }\\n            });\\n            valueAccessor().subscribe(function(value) {\\n                var str = JSON.stringify(value);\\n                if ((str == \\\"0\\\") && ([\\\"-0\\\", \\\"-0.\\\"].indexOf(stringified()) >= 0))\\n                     return;\\n                 if ([\\\"null\\\", \\\"\\\"].indexOf(str) >= 0)\\n                     return;\\n                stringified(str);\\n            });\\n            ko.applyBindingsToNode(\\n                element,\\n                {\\n                    value: stringified,\\n                    valueUpdate: allBindings.get('valueUpdate'),\\n                },\\n                context,\\n            );\\n        }\\n    };\\n    var json_data = {\\\"formatted_vals\\\":[\\\"2020\\\",\\\"2021\\\",\\\"2022\\\"],\\\"changes\\\":WebIO.getval({\\\"name\\\":\\\"changes\\\",\\\"scope\\\":\\\"14953592395855329131\\\",\\\"id\\\":\\\"17655851537122789273\\\",\\\"type\\\":\\\"observable\\\"}),\\\"index\\\":WebIO.getval({\\\"name\\\":\\\"index\\\",\\\"scope\\\":\\\"14953592395855329131\\\",\\\"id\\\":\\\"4124786012300562105\\\",\\\"type\\\":\\\"observable\\\"})};\\n    var self = this;\\n    function AppViewModel() {\\n        for (var key in json_data) {\\n            var el = json_data[key];\\n            this[key] = Array.isArray(el) ? ko.observableArray(el) : ko.observable(el);\\n        }\\n        \\n        [this[\\\"formatted_val\\\"]=ko.computed(    function(){\\n        return this.formatted_vals()[parseInt(this.index())-(1)];\\n    }\\n,this)]\\n        [this[\\\"changes\\\"].subscribe((function (val){!(this.valueFromJulia[\\\"changes\\\"]) ? (WebIO.setval({\\\"name\\\":\\\"changes\\\",\\\"scope\\\":\\\"14953592395855329131\\\",\\\"id\\\":\\\"17655851537122789273\\\",\\\"type\\\":\\\"observable\\\"},val)) : undefined; return this.valueFromJulia[\\\"changes\\\"]=false}),self),this[\\\"index\\\"].subscribe((function (val){!(this.valueFromJulia[\\\"index\\\"]) ? (WebIO.setval({\\\"name\\\":\\\"index\\\",\\\"scope\\\":\\\"14953592395855329131\\\",\\\"id\\\":\\\"4124786012300562105\\\",\\\"type\\\":\\\"observable\\\"},val)) : undefined; return this.valueFromJulia[\\\"index\\\"]=false}),self)]\\n        \\n    }\\n    self.model = new AppViewModel();\\n    self.valueFromJulia = {};\\n    for (var key in json_data) {\\n        self.valueFromJulia[key] = false;\\n    }\\n    ko.applyBindings(self.model, self.dom);\\n}\\n);\\n    (WebIO.importBlock({\\\"data\\\":[{\\\"name\\\":\\\"knockout\\\",\\\"type\\\":\\\"js\\\",\\\"url\\\":\\\"\\/assetserver\\/7adbe83fac1553325d6e718d595ab555e1cabbe4-knockout.js\\\"},{\\\"name\\\":\\\"knockout_punches\\\",\\\"type\\\":\\\"js\\\",\\\"url\\\":\\\"\\/assetserver\\/cec8c4de011abc05b545afbaaea4bb4465a1f168-knockout_punches.js\\\"}],\\\"type\\\":\\\"async_block\\\"})).then((imports) => handler.apply(this, imports));\\n}\\n\"],\"observables\":{\"changes\":{\"sync\":false,\"id\":\"17655851537122789273\",\"value\":0},\"index\":{\"sync\":true,\"id\":\"4124786012300562105\",\"value\":2}}},\"children\":[{\"props\":{\"className\":\"interact-flex-row interact-widget\"},\"nodeType\":\"DOM\",\"type\":\"node\",\"instanceArgs\":{\"namespace\":\"html\",\"tag\":\"div\"},\"children\":[{\"props\":{\"className\":\"interact-flex-row-left\"},\"nodeType\":\"DOM\",\"type\":\"node\",\"instanceArgs\":{\"namespace\":\"html\",\"tag\":\"div\"},\"children\":[{\"props\":{\"className\":\"interact \",\"style\":{\"padding\":\"5px 10px 0px 10px\"}},\"nodeType\":\"DOM\",\"type\":\"node\",\"instanceArgs\":{\"namespace\":\"html\",\"tag\":\"label\"},\"children\":[\"\"]}]},{\"props\":{\"className\":\"interact-flex-row-center\"},\"nodeType\":\"DOM\",\"type\":\"node\",\"instanceArgs\":{\"namespace\":\"html\",\"tag\":\"div\"},\"children\":[{\"props\":{\"max\":3,\"min\":1,\"attributes\":{\"type\":\"range\",\"data-bind\":\"numericValue: index, valueUpdate: 'input', event: {change: function (){this.changes(this.changes()+1)}}\",\"orient\":\"horizontal\"},\"step\":1,\"className\":\"slider slider is-fullwidth\",\"style\":{}},\"nodeType\":\"DOM\",\"type\":\"node\",\"instanceArgs\":{\"namespace\":\"html\",\"tag\":\"input\"},\"children\":[]}]},{\"props\":{\"className\":\"interact-flex-row-right\"},\"nodeType\":\"DOM\",\"type\":\"node\",\"instanceArgs\":{\"namespace\":\"html\",\"tag\":\"div\"},\"children\":[{\"props\":{\"attributes\":{\"data-bind\":\"text: formatted_val\"}},\"nodeType\":\"DOM\",\"type\":\"node\",\"instanceArgs\":{\"namespace\":\"html\",\"tag\":\"p\"},\"children\":[]}]}]}]}]},{\"props\":{\"className\":\"field interact-widget\"},\"nodeType\":\"DOM\",\"type\":\"node\",\"instanceArgs\":{\"namespace\":\"html\",\"tag\":\"div\"},\"children\":[{\"props\":{},\"nodeType\":\"Scope\",\"type\":\"node\",\"instanceArgs\":{\"imports\":{\"data\":[{\"name\":\"knockout\",\"type\":\"js\",\"url\":\"\\/assetserver\\/7adbe83fac1553325d6e718d595ab555e1cabbe4-knockout.js\"},{\"name\":\"knockout_punches\",\"type\":\"js\",\"url\":\"\\/assetserver\\/cec8c4de011abc05b545afbaaea4bb4465a1f168-knockout_punches.js\"},{\"name\":null,\"type\":\"js\",\"url\":\"\\/assetserver\\/5ddeec2b33e792dac4326b9b8929eb841863a558-all.js\"},{\"name\":null,\"type\":\"css\",\"url\":\"\\/assetserver\\/a04b7b754438af5b294cd7f1d762c01dae6fade5-style.css\"},{\"name\":null,\"type\":\"css\",\"url\":\"\\/assetserver\\/50b13cf07303023836f4115fe93a8fe3eca4721a-bulma_confined.min.css\"}],\"type\":\"async_block\"},\"id\":\"14818083701553036238\",\"handlers\":{\"changes\":[\"(function (val){return (val!=this.model[\\\"changes\\\"]()) ? (this.valueFromJulia[\\\"changes\\\"]=true, this.model[\\\"changes\\\"](val)) : undefined})\"],\"index\":[\"(function (val){return (val!=this.model[\\\"index\\\"]()) ? (this.valueFromJulia[\\\"index\\\"]=true, this.model[\\\"index\\\"](val)) : undefined})\"]},\"systemjs_options\":null,\"mount_callbacks\":[\"function () {\\n    var handler = (function (ko, koPunches) {\\n    ko.punches.enableAll();\\n    ko.bindingHandlers.numericValue = {\\n        init: function(element, valueAccessor, allBindings, data, context) {\\n            var stringified = ko.observable(ko.unwrap(valueAccessor()));\\n            stringified.subscribe(function(value) {\\n                var val = parseFloat(value);\\n                if (!isNaN(val)) {\\n                    valueAccessor()(val);\\n                }\\n            });\\n            valueAccessor().subscribe(function(value) {\\n                var str = JSON.stringify(value);\\n                if ((str == \\\"0\\\") && ([\\\"-0\\\", \\\"-0.\\\"].indexOf(stringified()) >= 0))\\n                     return;\\n                 if ([\\\"null\\\", \\\"\\\"].indexOf(str) >= 0)\\n                     return;\\n                stringified(str);\\n            });\\n            ko.applyBindingsToNode(\\n                element,\\n                {\\n                    value: stringified,\\n                    valueUpdate: allBindings.get('valueUpdate'),\\n                },\\n                context,\\n            );\\n        }\\n    };\\n    var json_data = {\\\"formatted_vals\\\":[\\\"1\\\",\\\"2\\\",\\\"3\\\",\\\"4\\\"],\\\"changes\\\":WebIO.getval({\\\"name\\\":\\\"changes\\\",\\\"scope\\\":\\\"14818083701553036238\\\",\\\"id\\\":\\\"6173039353171651400\\\",\\\"type\\\":\\\"observable\\\"}),\\\"index\\\":WebIO.getval({\\\"name\\\":\\\"index\\\",\\\"scope\\\":\\\"14818083701553036238\\\",\\\"id\\\":\\\"16913260558254817926\\\",\\\"type\\\":\\\"observable\\\"})};\\n    var self = this;\\n    function AppViewModel() {\\n        for (var key in json_data) {\\n            var el = json_data[key];\\n            this[key] = Array.isArray(el) ? ko.observableArray(el) : ko.observable(el);\\n        }\\n        \\n        [this[\\\"formatted_val\\\"]=ko.computed(    function(){\\n        return this.formatted_vals()[parseInt(this.index())-(1)];\\n    }\\n,this)]\\n        [this[\\\"changes\\\"].subscribe((function (val){!(this.valueFromJulia[\\\"changes\\\"]) ? (WebIO.setval({\\\"name\\\":\\\"changes\\\",\\\"scope\\\":\\\"14818083701553036238\\\",\\\"id\\\":\\\"6173039353171651400\\\",\\\"type\\\":\\\"observable\\\"},val)) : undefined; return this.valueFromJulia[\\\"changes\\\"]=false}),self),this[\\\"index\\\"].subscribe((function (val){!(this.valueFromJulia[\\\"index\\\"]) ? (WebIO.setval({\\\"name\\\":\\\"index\\\",\\\"scope\\\":\\\"14818083701553036238\\\",\\\"id\\\":\\\"16913260558254817926\\\",\\\"type\\\":\\\"observable\\\"},val)) : undefined; return this.valueFromJulia[\\\"index\\\"]=false}),self)]\\n        \\n    }\\n    self.model = new AppViewModel();\\n    self.valueFromJulia = {};\\n    for (var key in json_data) {\\n        self.valueFromJulia[key] = false;\\n    }\\n    ko.applyBindings(self.model, self.dom);\\n}\\n);\\n    (WebIO.importBlock({\\\"data\\\":[{\\\"name\\\":\\\"knockout\\\",\\\"type\\\":\\\"js\\\",\\\"url\\\":\\\"\\/assetserver\\/7adbe83fac1553325d6e718d595ab555e1cabbe4-knockout.js\\\"},{\\\"name\\\":\\\"knockout_punches\\\",\\\"type\\\":\\\"js\\\",\\\"url\\\":\\\"\\/assetserver\\/cec8c4de011abc05b545afbaaea4bb4465a1f168-knockout_punches.js\\\"}],\\\"type\\\":\\\"async_block\\\"})).then((imports) => handler.apply(this, imports));\\n}\\n\"],\"observables\":{\"changes\":{\"sync\":false,\"id\":\"6173039353171651400\",\"value\":0},\"index\":{\"sync\":true,\"id\":\"16913260558254817926\",\"value\":2}}},\"children\":[{\"props\":{\"className\":\"interact-flex-row interact-widget\"},\"nodeType\":\"DOM\",\"type\":\"node\",\"instanceArgs\":{\"namespace\":\"html\",\"tag\":\"div\"},\"children\":[{\"props\":{\"className\":\"interact-flex-row-left\"},\"nodeType\":\"DOM\",\"type\":\"node\",\"instanceArgs\":{\"namespace\":\"html\",\"tag\":\"div\"},\"children\":[{\"props\":{\"className\":\"interact \",\"style\":{\"padding\":\"5px 10px 0px 10px\"}},\"nodeType\":\"DOM\",\"type\":\"node\",\"instanceArgs\":{\"namespace\":\"html\",\"tag\":\"label\"},\"children\":[\"qtr\"]}]},{\"props\":{\"className\":\"interact-flex-row-center\"},\"nodeType\":\"DOM\",\"type\":\"node\",\"instanceArgs\":{\"namespace\":\"html\",\"tag\":\"div\"},\"children\":[{\"props\":{\"max\":4,\"min\":1,\"attributes\":{\"type\":\"range\",\"data-bind\":\"numericValue: index, valueUpdate: 'input', event: {change: function (){this.changes(this.changes()+1)}}\",\"orient\":\"horizontal\"},\"step\":1,\"className\":\"slider slider is-fullwidth\",\"style\":{}},\"nodeType\":\"DOM\",\"type\":\"node\",\"instanceArgs\":{\"namespace\":\"html\",\"tag\":\"input\"},\"children\":[]}]},{\"props\":{\"className\":\"interact-flex-row-right\"},\"nodeType\":\"DOM\",\"type\":\"node\",\"instanceArgs\":{\"namespace\":\"html\",\"tag\":\"div\"},\"children\":[{\"props\":{\"attributes\":{\"data-bind\":\"text: formatted_val\"}},\"nodeType\":\"DOM\",\"type\":\"node\",\"instanceArgs\":{\"namespace\":\"html\",\"tag\":\"p\"},\"children\":[]}]}]}]}]},{\"props\":{},\"nodeType\":\"Scope\",\"type\":\"node\",\"instanceArgs\":{\"imports\":{\"data\":[],\"type\":\"async_block\"},\"id\":\"7374156247928114535\",\"handlers\":{},\"systemjs_options\":null,\"mount_callbacks\":[],\"observables\":{\"obs-node\":{\"sync\":false,\"id\":\"17376963721366874954\",\"value\":{\"props\":{\"className\":\"interact-flex-row interact-widget\"},\"nodeType\":\"DOM\",\"type\":\"node\",\"instanceArgs\":{\"namespace\":\"html\",\"tag\":\"div\"},\"children\":[{\"props\":{\"setInnerHtml\":\"<div class=\\\"data-frame\\\"><p>240 rows × 7 columns<\\/p><table class=\\\"data-frame\\\"><thead><tr><th><\\/th><th>Org<\\/th><th>FY<\\/th><th>Qtr<\\/th><th>Accounts<\\/th><th>Dept<\\/th><th>Loc<\\/th><th>TOTAL<\\/th><\\/tr><tr><th><\\/th><th title=\\\"String\\\">String<\\/th><th title=\\\"Int64\\\">Int64<\\/th><th title=\\\"Int64\\\">Int64<\\/th><th title=\\\"String\\\">String<\\/th><th title=\\\"String\\\">String<\\/th><th title=\\\"String\\\">String<\\/th><th title=\\\"String\\\">String<\\/th><\\/tr><\\/thead><tbody><tr><th>1<\\/th><td>Region B<\\/td><td>2021<\\/td><td>2<\\/td><td>ASSETS<\\/td><td>BUSINESS<\\/td><td>Chicago<\\/td><td>USD 2927.75 million<\\/td><\\/tr><tr><th>2<\\/th><td>Region B<\\/td><td>2021<\\/td><td>2<\\/td><td>ASSETS<\\/td><td>IT<\\/td><td>Kansas City<\\/td><td>USD 3679.04 million<\\/td><\\/tr><tr><th>3<\\/th><td>Region B<\\/td><td>2021<\\/td><td>2<\\/td><td>LIABILITIES<\\/td><td>HR<\\/td><td>Boston<\\/td><td>USD 3366.97 million<\\/td><\\/tr><tr><th>4<\\/th><td>Region B<\\/td><td>2021<\\/td><td>2<\\/td><td>LIABILITIES<\\/td><td>HR<\\/td><td>Kansas City<\\/td><td>USD 4426.61 million<\\/td><\\/tr><tr><th>5<\\/th><td>Region B<\\/td><td>2021<\\/td><td>2<\\/td><td>ASSETS<\\/td><td>IT<\\/td><td>Boston<\\/td><td>USD 3718.08 million<\\/td><\\/tr><tr><th>6<\\/th><td>Region B<\\/td><td>2021<\\/td><td>2<\\/td><td>NET_WORTH<\\/td><td>BUSINESS<\\/td><td>Richmond<\\/td><td>USD 4920.64 million<\\/td><\\/tr><tr><th>7<\\/th><td>Region B<\\/td><td>2021<\\/td><td>2<\\/td><td>NET_WORTH<\\/td><td>BUSINESS<\\/td><td>Dallas<\\/td><td>USD 4340.47 million<\\/td><\\/tr><tr><th>8<\\/th><td>Region B<\\/td><td>2021<\\/td><td>2<\\/td><td>ASSETS<\\/td><td>HR<\\/td><td>Minneapolis<\\/td><td>USD 4236.49 million<\\/td><\\/tr><tr><th>9<\\/th><td>Region B<\\/td><td>2021<\\/td><td>2<\\/td><td>LIABILITIES<\\/td><td>OTHERS<\\/td><td>Atlanta<\\/td><td>USD 4722.91 million<\\/td><\\/tr><tr><th>10<\\/th><td>Region B<\\/td><td>2021<\\/td><td>2<\\/td><td>ASSETS<\\/td><td>IT<\\/td><td>New York<\\/td><td>USD 2814.95 million<\\/td><\\/tr><tr><th>11<\\/th><td>Region B<\\/td><td>2021<\\/td><td>2<\\/td><td>REVENUE<\\/td><td>IT<\\/td><td>Kansas City<\\/td><td>USD 4229.35 million<\\/td><\\/tr><tr><th>12<\\/th><td>Region B<\\/td><td>2021<\\/td><td>2<\\/td><td>ASSETS<\\/td><td>IT<\\/td><td>Minneapolis<\\/td><td>USD 3701.1 million<\\/td><\\/tr><tr><th>13<\\/th><td>Region B<\\/td><td>2021<\\/td><td>2<\\/td><td>REVENUE<\\/td><td>SALES<\\/td><td>Dallas<\\/td><td>USD 4293.15 million<\\/td><\\/tr><tr><th>14<\\/th><td>Region B<\\/td><td>2021<\\/td><td>2<\\/td><td>REVENUE<\\/td><td>SALES<\\/td><td>Atlanta<\\/td><td>USD 4514.03 million<\\/td><\\/tr><tr><th>15<\\/th><td>Region B<\\/td><td>2021<\\/td><td>2<\\/td><td>ASSETS<\\/td><td>IT<\\/td><td>St. Louis<\\/td><td>USD 4379.15 million<\\/td><\\/tr><tr><th>16<\\/th><td>Region B<\\/td><td>2021<\\/td><td>2<\\/td><td>REVENUE<\\/td><td>HR<\\/td><td>Kansas City<\\/td><td>USD 3930.82 million<\\/td><\\/tr><tr><th>17<\\/th><td>Region B<\\/td><td>2021<\\/td><td>2<\\/td><td>REVENUE<\\/td><td>HR<\\/td><td>Minneapolis<\\/td><td>USD 3704.31 million<\\/td><\\/tr><tr><th>18<\\/th><td>Region B<\\/td><td>2021<\\/td><td>2<\\/td><td>ASSETS<\\/td><td>OTHERS<\\/td><td>Atlanta<\\/td><td>USD 3886.59 million<\\/td><\\/tr><tr><th>19<\\/th><td>Region B<\\/td><td>2021<\\/td><td>2<\\/td><td>LIABILITIES<\\/td><td>SALES<\\/td><td>Kansas City<\\/td><td>USD 3989.38 million<\\/td><\\/tr><tr><th>20<\\/th><td>Region B<\\/td><td>2021<\\/td><td>2<\\/td><td>LIABILITIES<\\/td><td>BUSINESS<\\/td><td>Chicago<\\/td><td>USD 4094.48 million<\\/td><\\/tr><tr><th>21<\\/th><td>Region B<\\/td><td>2021<\\/td><td>2<\\/td><td>REVENUE<\\/td><td>HR<\\/td><td>Dallas<\\/td><td>USD 4035.68 million<\\/td><\\/tr><tr><th>22<\\/th><td>Region B<\\/td><td>2021<\\/td><td>2<\\/td><td>NET_WORTH<\\/td><td>IT<\\/td><td>Kansas City<\\/td><td>USD 4517.92 million<\\/td><\\/tr><tr><th>23<\\/th><td>Region B<\\/td><td>2021<\\/td><td>2<\\/td><td>LIABILITIES<\\/td><td>BUSINESS<\\/td><td>Philadelphia<\\/td><td>USD 4014.79 million<\\/td><\\/tr><tr><th>24<\\/th><td>Region B<\\/td><td>2021<\\/td><td>2<\\/td><td>REVENUE<\\/td><td>IT<\\/td><td>Minneapolis<\\/td><td>USD 4380.33 million<\\/td><\\/tr><tr><th>25<\\/th><td>Region B<\\/td><td>2021<\\/td><td>2<\\/td><td>NET_WORTH<\\/td><td>SALES<\\/td><td>St. Louis<\\/td><td>USD 4159.4 million<\\/td><\\/tr><tr><th>26<\\/th><td>Region B<\\/td><td>2021<\\/td><td>2<\\/td><td>NET_WORTH<\\/td><td>IT<\\/td><td>New York<\\/td><td>USD 3188.83 million<\\/td><\\/tr><tr><th>27<\\/th><td>Region B<\\/td><td>2021<\\/td><td>2<\\/td><td>REVENUE<\\/td><td>BUSINESS<\\/td><td>Cleveland<\\/td><td>USD 4254.26 million<\\/td><\\/tr><tr><th>28<\\/th><td>Region B<\\/td><td>2021<\\/td><td>2<\\/td><td>LIABILITIES<\\/td><td>HR<\\/td><td>Dallas<\\/td><td>USD 4102.33 million<\\/td><\\/tr><tr><th>29<\\/th><td>Region B<\\/td><td>2021<\\/td><td>2<\\/td><td>ASSETS<\\/td><td>HR<\\/td><td>Philadelphia<\\/td><td>USD 3531.2 million<\\/td><\\/tr><tr><th>30<\\/th><td>Region B<\\/td><td>2021<\\/td><td>2<\\/td><td>REVENUE<\\/td><td>BUSINESS<\\/td><td>Kansas City<\\/td><td>USD 4124.16 million<\\/td><\\/tr><tr><th>31<\\/th><td>Region B<\\/td><td>2021<\\/td><td>2<\\/td><td>LIABILITIES<\\/td><td>IT<\\/td><td>San Francisco<\\/td><td>USD 4360.83 million<\\/td><\\/tr><tr><th>32<\\/th><td>Region B<\\/td><td>2021<\\/td><td>2<\\/td><td>ASSETS<\\/td><td>HR<\\/td><td>San Francisco<\\/td><td>USD 3434.48 million<\\/td><\\/tr><tr><th>33<\\/th><td>Region B<\\/td><td>2021<\\/td><td>2<\\/td><td>LIABILITIES<\\/td><td>OTHERS<\\/td><td>Richmond<\\/td><td>USD 3276.13 million<\\/td><\\/tr><tr><th>34<\\/th><td>Region B<\\/td><td>2021<\\/td><td>2<\\/td><td>LIABILITIES<\\/td><td>SALES<\\/td><td>Dallas<\\/td><td>USD 4967.3 million<\\/td><\\/tr><tr><th>35<\\/th><td>Region B<\\/td><td>2021<\\/td><td>2<\\/td><td>LIABILITIES<\\/td><td>OTHERS<\\/td><td>New York<\\/td><td>USD 4319.92 million<\\/td><\\/tr><tr><th>36<\\/th><td>Region B<\\/td><td>2021<\\/td><td>2<\\/td><td>REVENUE<\\/td><td>SALES<\\/td><td>Boston<\\/td><td>USD 3360.4 million<\\/td><\\/tr><tr><th>37<\\/th><td>Region B<\\/td><td>2021<\\/td><td>2<\\/td><td>REVENUE<\\/td><td>HR<\\/td><td>Chicago<\\/td><td>USD 3432.36 million<\\/td><\\/tr><tr><th>38<\\/th><td>Region B<\\/td><td>2021<\\/td><td>2<\\/td><td>ASSETS<\\/td><td>IT<\\/td><td>Richmond<\\/td><td>USD 5079.14 million<\\/td><\\/tr><tr><th>39<\\/th><td>Region B<\\/td><td>2021<\\/td><td>2<\\/td><td>LIABILITIES<\\/td><td>IT<\\/td><td>Kansas City<\\/td><td>USD 4333.98 million<\\/td><\\/tr><tr><th>40<\\/th><td>Region B<\\/td><td>2021<\\/td><td>2<\\/td><td>LIABILITIES<\\/td><td>HR<\\/td><td>Atlanta<\\/td><td>USD 4060.7 million<\\/td><\\/tr><tr><th>41<\\/th><td>Region B<\\/td><td>2021<\\/td><td>2<\\/td><td>LIABILITIES<\\/td><td>SALES<\\/td><td>St. Louis<\\/td><td>USD 3610.67 million<\\/td><\\/tr><tr><th>42<\\/th><td>Region B<\\/td><td>2021<\\/td><td>2<\\/td><td>LIABILITIES<\\/td><td>BUSINESS<\\/td><td>New York<\\/td><td>USD 3946.96 million<\\/td><\\/tr><tr><th>43<\\/th><td>Region B<\\/td><td>2021<\\/td><td>2<\\/td><td>REVENUE<\\/td><td>SALES<\\/td><td>Richmond<\\/td><td>USD 3989.12 million<\\/td><\\/tr><tr><th>44<\\/th><td>Region B<\\/td><td>2021<\\/td><td>2<\\/td><td>NET_WORTH<\\/td><td>OTHERS<\\/td><td>Minneapolis<\\/td><td>USD 3946.48 million<\\/td><\\/tr><tr><th>45<\\/th><td>Region B<\\/td><td>2021<\\/td><td>2<\\/td><td>REVENUE<\\/td><td>BUSINESS<\\/td><td>Philadelphia<\\/td><td>USD 4336.77 million<\\/td><\\/tr><tr><th>46<\\/th><td>Region B<\\/td><td>2021<\\/td><td>2<\\/td><td>NET_WORTH<\\/td><td>HR<\\/td><td>Boston<\\/td><td>USD 4441.45 million<\\/td><\\/tr><tr><th>47<\\/th><td>Region B<\\/td><td>2021<\\/td><td>2<\\/td><td>ASSETS<\\/td><td>HR<\\/td><td>Boston<\\/td><td>USD 3936.15 million<\\/td><\\/tr><tr><th>48<\\/th><td>Region B<\\/td><td>2021<\\/td><td>2<\\/td><td>NET_WORTH<\\/td><td>SALES<\\/td><td>New York<\\/td><td>USD 4387.21 million<\\/td><\\/tr><tr><th>49<\\/th><td>Region B<\\/td><td>2021<\\/td><td>2<\\/td><td>LIABILITIES<\\/td><td>OTHERS<\\/td><td>Philadelphia<\\/td><td>USD 3716.0 million<\\/td><\\/tr><tr><th>50<\\/th><td>Region B<\\/td><td>2021<\\/td><td>2<\\/td><td>REVENUE<\\/td><td>IT<\\/td><td>San Francisco<\\/td><td>USD 3595.44 million<\\/td><\\/tr><tr><th>51<\\/th><td>Region B<\\/td><td>2021<\\/td><td>2<\\/td><td>LIABILITIES<\\/td><td>IT<\\/td><td>Atlanta<\\/td><td>USD 4550.14 million<\\/td><\\/tr><tr><th>52<\\/th><td>Region B<\\/td><td>2021<\\/td><td>2<\\/td><td>ASSETS<\\/td><td>BUSINESS<\\/td><td>San Francisco<\\/td><td>USD 3551.8 million<\\/td><\\/tr><tr><th>53<\\/th><td>Region B<\\/td><td>2021<\\/td><td>2<\\/td><td>LIABILITIES<\\/td><td>BUSINESS<\\/td><td>Cleveland<\\/td><td>USD 4128.36 million<\\/td><\\/tr><tr><th>54<\\/th><td>Region B<\\/td><td>2021<\\/td><td>2<\\/td><td>LIABILITIES<\\/td><td>SALES<\\/td><td>Minneapolis<\\/td><td>USD 3977.95 million<\\/td><\\/tr><tr><th>55<\\/th><td>Region B<\\/td><td>2021<\\/td><td>2<\\/td><td>LIABILITIES<\\/td><td>BUSINESS<\\/td><td>Dallas<\\/td><td>USD 4372.22 million<\\/td><\\/tr><tr><th>56<\\/th><td>Region B<\\/td><td>2021<\\/td><td>2<\\/td><td>ASSETS<\\/td><td>BUSINESS<\\/td><td>Minneapolis<\\/td><td>USD 3389.76 million<\\/td><\\/tr><tr><th>57<\\/th><td>Region B<\\/td><td>2021<\\/td><td>2<\\/td><td>ASSETS<\\/td><td>OTHERS<\\/td><td>Dallas<\\/td><td>USD 3479.14 million<\\/td><\\/tr><tr><th>58<\\/th><td>Region B<\\/td><td>2021<\\/td><td>2<\\/td><td>REVENUE<\\/td><td>IT<\\/td><td>St. Louis<\\/td><td>USD 3169.37 million<\\/td><\\/tr><tr><th>59<\\/th><td>Region B<\\/td><td>2021<\\/td><td>2<\\/td><td>ASSETS<\\/td><td>SALES<\\/td><td>Chicago<\\/td><td>USD 5198.92 million<\\/td><\\/tr><tr><th>60<\\/th><td>Region B<\\/td><td>2021<\\/td><td>2<\\/td><td>LIABILITIES<\\/td><td>SALES<\\/td><td>Philadelphia<\\/td><td>USD 4950.36 million<\\/td><\\/tr><tr><th>61<\\/th><td>Region B<\\/td><td>2021<\\/td><td>2<\\/td><td>LIABILITIES<\\/td><td>SALES<\\/td><td>San Francisco<\\/td><td>USD 2795.71 million<\\/td><\\/tr><tr><th>62<\\/th><td>Region B<\\/td><td>2021<\\/td><td>2<\\/td><td>NET_WORTH<\\/td><td>BUSINESS<\\/td><td>Boston<\\/td><td>USD 3265.08 million<\\/td><\\/tr><tr><th>63<\\/th><td>Region B<\\/td><td>2021<\\/td><td>2<\\/td><td>LIABILITIES<\\/td><td>IT<\\/td><td>Minneapolis<\\/td><td>USD 4052.36 million<\\/td><\\/tr><tr><th>64<\\/th><td>Region B<\\/td><td>2021<\\/td><td>2<\\/td><td>REVENUE<\\/td><td>OTHERS<\\/td><td>Minneapolis<\\/td><td>USD 4447.38 million<\\/td><\\/tr><tr><th>65<\\/th><td>Region B<\\/td><td>2021<\\/td><td>2<\\/td><td>REVENUE<\\/td><td>IT<\\/td><td>Atlanta<\\/td><td>USD 3115.91 million<\\/td><\\/tr><tr><th>66<\\/th><td>Region B<\\/td><td>2021<\\/td><td>2<\\/td><td>NET_WORTH<\\/td><td>SALES<\\/td><td>Atlanta<\\/td><td>USD 3413.11 million<\\/td><\\/tr><tr><th>67<\\/th><td>Region B<\\/td><td>2021<\\/td><td>2<\\/td><td>NET_WORTH<\\/td><td>IT<\\/td><td>Dallas<\\/td><td>USD 3816.01 million<\\/td><\\/tr><tr><th>68<\\/th><td>Region B<\\/td><td>2021<\\/td><td>2<\\/td><td>REVENUE<\\/td><td>BUSINESS<\\/td><td>Dallas<\\/td><td>USD 4967.77 million<\\/td><\\/tr><tr><th>69<\\/th><td>Region B<\\/td><td>2021<\\/td><td>2<\\/td><td>ASSETS<\\/td><td>IT<\\/td><td>Philadelphia<\\/td><td>USD 4418.53 million<\\/td><\\/tr><tr><th>70<\\/th><td>Region B<\\/td><td>2021<\\/td><td>2<\\/td><td>ASSETS<\\/td><td>SALES<\\/td><td>Cleveland<\\/td><td>USD 3870.36 million<\\/td><\\/tr><tr><th>71<\\/th><td>Region B<\\/td><td>2021<\\/td><td>2<\\/td><td>REVENUE<\\/td><td>SALES<\\/td><td>Chicago<\\/td><td>USD 4357.64 million<\\/td><\\/tr><tr><th>72<\\/th><td>Region B<\\/td><td>2021<\\/td><td>2<\\/td><td>NET_WORTH<\\/td><td>BUSINESS<\\/td><td>Cleveland<\\/td><td>USD 4409.45 million<\\/td><\\/tr><tr><th>73<\\/th><td>Region B<\\/td><td>2021<\\/td><td>2<\\/td><td>NET_WORTH<\\/td><td>IT<\\/td><td>Philadelphia<\\/td><td>USD 4453.4 million<\\/td><\\/tr><tr><th>74<\\/th><td>Region B<\\/td><td>2021<\\/td><td>2<\\/td><td>ASSETS<\\/td><td>BUSINESS<\\/td><td>Cleveland<\\/td><td>USD 3311.77 million<\\/td><\\/tr><tr><th>75<\\/th><td>Region B<\\/td><td>2021<\\/td><td>2<\\/td><td>NET_WORTH<\\/td><td>HR<\\/td><td>Minneapolis<\\/td><td>USD 4014.41 million<\\/td><\\/tr><tr><th>76<\\/th><td>Region B<\\/td><td>2021<\\/td><td>2<\\/td><td>NET_WORTH<\\/td><td>HR<\\/td><td>New York<\\/td><td>USD 3894.27 million<\\/td><\\/tr><tr><th>77<\\/th><td>Region B<\\/td><td>2021<\\/td><td>2<\\/td><td>NET_WORTH<\\/td><td>OTHERS<\\/td><td>Chicago<\\/td><td>USD 4884.47 million<\\/td><\\/tr><tr><th>78<\\/th><td>Region B<\\/td><td>2021<\\/td><td>2<\\/td><td>REVENUE<\\/td><td>HR<\\/td><td>Boston<\\/td><td>USD 4325.35 million<\\/td><\\/tr><tr><th>79<\\/th><td>Region B<\\/td><td>2021<\\/td><td>2<\\/td><td>NET_WORTH<\\/td><td>HR<\\/td><td>Philadelphia<\\/td><td>USD 4389.43 million<\\/td><\\/tr><tr><th>80<\\/th><td>Region B<\\/td><td>2021<\\/td><td>2<\\/td><td>NET_WORTH<\\/td><td>OTHERS<\\/td><td>San Francisco<\\/td><td>USD 4509.67 million<\\/td><\\/tr><tr><th>81<\\/th><td>Region B<\\/td><td>2021<\\/td><td>2<\\/td><td>REVENUE<\\/td><td>SALES<\\/td><td>Cleveland<\\/td><td>USD 4025.75 million<\\/td><\\/tr><tr><th>82<\\/th><td>Region B<\\/td><td>2021<\\/td><td>2<\\/td><td>NET_WORTH<\\/td><td>SALES<\\/td><td>Kansas City<\\/td><td>USD 3843.43 million<\\/td><\\/tr><tr><th>83<\\/th><td>Region B<\\/td><td>2021<\\/td><td>2<\\/td><td>NET_WORTH<\\/td><td>BUSINESS<\\/td><td>Chicago<\\/td><td>USD 4303.44 million<\\/td><\\/tr><tr><th>84<\\/th><td>Region B<\\/td><td>2021<\\/td><td>2<\\/td><td>ASSETS<\\/td><td>SALES<\\/td><td>Kansas City<\\/td><td>USD 3904.23 million<\\/td><\\/tr><tr><th>85<\\/th><td>Region B<\\/td><td>2021<\\/td><td>2<\\/td><td>REVENUE<\\/td><td>BUSINESS<\\/td><td>St. Louis<\\/td><td>USD 4021.63 million<\\/td><\\/tr><tr><th>86<\\/th><td>Region B<\\/td><td>2021<\\/td><td>2<\\/td><td>ASSETS<\\/td><td>SALES<\\/td><td>Richmond<\\/td><td>USD 3532.09 million<\\/td><\\/tr><tr><th>87<\\/th><td>Region B<\\/td><td>2021<\\/td><td>2<\\/td><td>REVENUE<\\/td><td>IT<\\/td><td>Philadelphia<\\/td><td>USD 3778.69 million<\\/td><\\/tr><tr><th>88<\\/th><td>Region B<\\/td><td>2021<\\/td><td>2<\\/td><td>ASSETS<\\/td><td>OTHERS<\\/td><td>Kansas City<\\/td><td>USD 4350.03 million<\\/td><\\/tr><tr><th>89<\\/th><td>Region B<\\/td><td>2021<\\/td><td>2<\\/td><td>NET_WORTH<\\/td><td>IT<\\/td><td>St. Louis<\\/td><td>USD 3808.57 million<\\/td><\\/tr><tr><th>90<\\/th><td>Region B<\\/td><td>2021<\\/td><td>2<\\/td><td>ASSETS<\\/td><td>BUSINESS<\\/td><td>New York<\\/td><td>USD 3660.31 million<\\/td><\\/tr><tr><th>91<\\/th><td>Region B<\\/td><td>2021<\\/td><td>2<\\/td><td>NET_WORTH<\\/td><td>IT<\\/td><td>Chicago<\\/td><td>USD 3828.41 million<\\/td><\\/tr><tr><th>92<\\/th><td>Region B<\\/td><td>2021<\\/td><td>2<\\/td><td>LIABILITIES<\\/td><td>HR<\\/td><td>Cleveland<\\/td><td>USD 4264.54 million<\\/td><\\/tr><tr><th>93<\\/th><td>Region B<\\/td><td>2021<\\/td><td>2<\\/td><td>LIABILITIES<\\/td><td>IT<\\/td><td>Dallas<\\/td><td>USD 3955.2 million<\\/td><\\/tr><tr><th>94<\\/th><td>Region B<\\/td><td>2021<\\/td><td>2<\\/td><td>ASSETS<\\/td><td>BUSINESS<\\/td><td>Dallas<\\/td><td>USD 3490.1 million<\\/td><\\/tr><tr><th>95<\\/th><td>Region B<\\/td><td>2021<\\/td><td>2<\\/td><td>LIABILITIES<\\/td><td>SALES<\\/td><td>Chicago<\\/td><td>USD 3707.97 million<\\/td><\\/tr><tr><th>96<\\/th><td>Region B<\\/td><td>2021<\\/td><td>2<\\/td><td>NET_WORTH<\\/td><td>IT<\\/td><td>Minneapolis<\\/td><td>USD 4193.11 million<\\/td><\\/tr><tr><th>97<\\/th><td>Region B<\\/td><td>2021<\\/td><td>2<\\/td><td>REVENUE<\\/td><td>OTHERS<\\/td><td>Richmond<\\/td><td>USD 3603.43 million<\\/td><\\/tr><tr><th>98<\\/th><td>Region B<\\/td><td>2021<\\/td><td>2<\\/td><td>NET_WORTH<\\/td><td>HR<\\/td><td>St. Louis<\\/td><td>USD 3695.22 million<\\/td><\\/tr><tr><th>99<\\/th><td>Region B<\\/td><td>2021<\\/td><td>2<\\/td><td>REVENUE<\\/td><td>OTHERS<\\/td><td>St. Louis<\\/td><td>USD 4403.11 million<\\/td><\\/tr><tr><th>100<\\/th><td>Region B<\\/td><td>2021<\\/td><td>2<\\/td><td>LIABILITIES<\\/td><td>BUSINESS<\\/td><td>Kansas City<\\/td><td>USD 4180.52 million<\\/td><\\/tr><tr><th>101<\\/th><td>Region B<\\/td><td>2021<\\/td><td>2<\\/td><td>ASSETS<\\/td><td>OTHERS<\\/td><td>Philadelphia<\\/td><td>USD 4340.48 million<\\/td><\\/tr><tr><th>102<\\/th><td>Region B<\\/td><td>2021<\\/td><td>2<\\/td><td>NET_WORTH<\\/td><td>OTHERS<\\/td><td>Richmond<\\/td><td>USD 3637.72 million<\\/td><\\/tr><tr><th>103<\\/th><td>Region B<\\/td><td>2021<\\/td><td>2<\\/td><td>NET_WORTH<\\/td><td>BUSINESS<\\/td><td>Atlanta<\\/td><td>USD 3819.95 million<\\/td><\\/tr><tr><th>104<\\/th><td>Region B<\\/td><td>2021<\\/td><td>2<\\/td><td>LIABILITIES<\\/td><td>IT<\\/td><td>St. Louis<\\/td><td>USD 4330.74 million<\\/td><\\/tr><tr><th>105<\\/th><td>Region B<\\/td><td>2021<\\/td><td>2<\\/td><td>LIABILITIES<\\/td><td>HR<\\/td><td>Chicago<\\/td><td>USD 4462.25 million<\\/td><\\/tr><tr><th>106<\\/th><td>Region B<\\/td><td>2021<\\/td><td>2<\\/td><td>LIABILITIES<\\/td><td>IT<\\/td><td>Richmond<\\/td><td>USD 3847.22 million<\\/td><\\/tr><tr><th>107<\\/th><td>Region B<\\/td><td>2021<\\/td><td>2<\\/td><td>ASSETS<\\/td><td>IT<\\/td><td>Chicago<\\/td><td>USD 4822.65 million<\\/td><\\/tr><tr><th>108<\\/th><td>Region B<\\/td><td>2021<\\/td><td>2<\\/td><td>NET_WORTH<\\/td><td>HR<\\/td><td>San Francisco<\\/td><td>USD 3416.2 million<\\/td><\\/tr><tr><th>109<\\/th><td>Region B<\\/td><td>2021<\\/td><td>2<\\/td><td>REVENUE<\\/td><td>HR<\\/td><td>San Francisco<\\/td><td>USD 4190.61 million<\\/td><\\/tr><tr><th>110<\\/th><td>Region B<\\/td><td>2021<\\/td><td>2<\\/td><td>REVENUE<\\/td><td>HR<\\/td><td>St. Louis<\\/td><td>USD 3361.44 million<\\/td><\\/tr><tr><th>111<\\/th><td>Region B<\\/td><td>2021<\\/td><td>2<\\/td><td>LIABILITIES<\\/td><td>OTHERS<\\/td><td>Chicago<\\/td><td>USD 3493.54 million<\\/td><\\/tr><tr><th>112<\\/th><td>Region B<\\/td><td>2021<\\/td><td>2<\\/td><td>NET_WORTH<\\/td><td>OTHERS<\\/td><td>Philadelphia<\\/td><td>USD 4183.27 million<\\/td><\\/tr><tr><th>113<\\/th><td>Region B<\\/td><td>2021<\\/td><td>2<\\/td><td>LIABILITIES<\\/td><td>IT<\\/td><td>Chicago<\\/td><td>USD 3485.87 million<\\/td><\\/tr><tr><th>114<\\/th><td>Region B<\\/td><td>2021<\\/td><td>2<\\/td><td>LIABILITIES<\\/td><td>HR<\\/td><td>Philadelphia<\\/td><td>USD 3707.13 million<\\/td><\\/tr><tr><th>115<\\/th><td>Region B<\\/td><td>2021<\\/td><td>2<\\/td><td>REVENUE<\\/td><td>OTHERS<\\/td><td>Kansas City<\\/td><td>USD 3214.86 million<\\/td><\\/tr><tr><th>116<\\/th><td>Region B<\\/td><td>2021<\\/td><td>2<\\/td><td>ASSETS<\\/td><td>SALES<\\/td><td>Boston<\\/td><td>USD 3922.61 million<\\/td><\\/tr><tr><th>117<\\/th><td>Region B<\\/td><td>2021<\\/td><td>2<\\/td><td>REVENUE<\\/td><td>OTHERS<\\/td><td>San Francisco<\\/td><td>USD 3555.88 million<\\/td><\\/tr><tr><th>118<\\/th><td>Region B<\\/td><td>2021<\\/td><td>2<\\/td><td>NET_WORTH<\\/td><td>OTHERS<\\/td><td>Boston<\\/td><td>USD 4289.68 million<\\/td><\\/tr><tr><th>119<\\/th><td>Region B<\\/td><td>2021<\\/td><td>2<\\/td><td>REVENUE<\\/td><td>HR<\\/td><td>New York<\\/td><td>USD 4009.5 million<\\/td><\\/tr><tr><th>120<\\/th><td>Region B<\\/td><td>2021<\\/td><td>2<\\/td><td>LIABILITIES<\\/td><td>HR<\\/td><td>St. Louis<\\/td><td>USD 3378.73 million<\\/td><\\/tr><tr><th>121<\\/th><td>Region B<\\/td><td>2021<\\/td><td>2<\\/td><td>LIABILITIES<\\/td><td>IT<\\/td><td>Philadelphia<\\/td><td>USD 4527.18 million<\\/td><\\/tr><tr><th>122<\\/th><td>Region B<\\/td><td>2021<\\/td><td>2<\\/td><td>REVENUE<\\/td><td>BUSINESS<\\/td><td>Minneapolis<\\/td><td>USD 4334.13 million<\\/td><\\/tr><tr><th>123<\\/th><td>Region B<\\/td><td>2021<\\/td><td>2<\\/td><td>LIABILITIES<\\/td><td>HR<\\/td><td>Richmond<\\/td><td>USD 3778.13 million<\\/td><\\/tr><tr><th>124<\\/th><td>Region B<\\/td><td>2021<\\/td><td>2<\\/td><td>ASSETS<\\/td><td>HR<\\/td><td>Cleveland<\\/td><td>USD 3856.62 million<\\/td><\\/tr><tr><th>125<\\/th><td>Region B<\\/td><td>2021<\\/td><td>2<\\/td><td>ASSETS<\\/td><td>HR<\\/td><td>Chicago<\\/td><td>USD 4201.79 million<\\/td><\\/tr><tr><th>126<\\/th><td>Region B<\\/td><td>2021<\\/td><td>2<\\/td><td>NET_WORTH<\\/td><td>IT<\\/td><td>San Francisco<\\/td><td>USD 4081.03 million<\\/td><\\/tr><tr><th>127<\\/th><td>Region B<\\/td><td>2021<\\/td><td>2<\\/td><td>LIABILITIES<\\/td><td>BUSINESS<\\/td><td>Minneapolis<\\/td><td>USD 4606.12 million<\\/td><\\/tr><tr><th>128<\\/th><td>Region B<\\/td><td>2021<\\/td><td>2<\\/td><td>NET_WORTH<\\/td><td>SALES<\\/td><td>Dallas<\\/td><td>USD 4755.48 million<\\/td><\\/tr><tr><th>129<\\/th><td>Region B<\\/td><td>2021<\\/td><td>2<\\/td><td>LIABILITIES<\\/td><td>OTHERS<\\/td><td>Boston<\\/td><td>USD 4478.02 million<\\/td><\\/tr><tr><th>130<\\/th><td>Region B<\\/td><td>2021<\\/td><td>2<\\/td><td>LIABILITIES<\\/td><td>BUSINESS<\\/td><td>San Francisco<\\/td><td>USD 3061.28 million<\\/td><\\/tr><tr><th>131<\\/th><td>Region B<\\/td><td>2021<\\/td><td>2<\\/td><td>LIABILITIES<\\/td><td>BUSINESS<\\/td><td>Richmond<\\/td><td>USD 4323.81 million<\\/td><\\/tr><tr><th>132<\\/th><td>Region B<\\/td><td>2021<\\/td><td>2<\\/td><td>NET_WORTH<\\/td><td>HR<\\/td><td>Cleveland<\\/td><td>USD 3443.24 million<\\/td><\\/tr><tr><th>133<\\/th><td>Region B<\\/td><td>2021<\\/td><td>2<\\/td><td>ASSETS<\\/td><td>OTHERS<\\/td><td>Minneapolis<\\/td><td>USD 3868.44 million<\\/td><\\/tr><tr><th>134<\\/th><td>Region B<\\/td><td>2021<\\/td><td>2<\\/td><td>NET_WORTH<\\/td><td>SALES<\\/td><td>San Francisco<\\/td><td>USD 3124.19 million<\\/td><\\/tr><tr><th>135<\\/th><td>Region B<\\/td><td>2021<\\/td><td>2<\\/td><td>ASSETS<\\/td><td>OTHERS<\\/td><td>St. Louis<\\/td><td>USD 3942.33 million<\\/td><\\/tr><tr><th>136<\\/th><td>Region B<\\/td><td>2021<\\/td><td>2<\\/td><td>ASSETS<\\/td><td>SALES<\\/td><td>Dallas<\\/td><td>USD 3754.68 million<\\/td><\\/tr><tr><th>137<\\/th><td>Region B<\\/td><td>2021<\\/td><td>2<\\/td><td>ASSETS<\\/td><td>SALES<\\/td><td>Minneapolis<\\/td><td>USD 2638.33 million<\\/td><\\/tr><tr><th>138<\\/th><td>Region B<\\/td><td>2021<\\/td><td>2<\\/td><td>ASSETS<\\/td><td>OTHERS<\\/td><td>Cleveland<\\/td><td>USD 4146.61 million<\\/td><\\/tr><tr><th>139<\\/th><td>Region B<\\/td><td>2021<\\/td><td>2<\\/td><td>ASSETS<\\/td><td>OTHERS<\\/td><td>Chicago<\\/td><td>USD 3917.89 million<\\/td><\\/tr><tr><th>140<\\/th><td>Region B<\\/td><td>2021<\\/td><td>2<\\/td><td>NET_WORTH<\\/td><td>IT<\\/td><td>Atlanta<\\/td><td>USD 3295.98 million<\\/td><\\/tr><tr><th>141<\\/th><td>Region B<\\/td><td>2021<\\/td><td>2<\\/td><td>REVENUE<\\/td><td>IT<\\/td><td>Dallas<\\/td><td>USD 3887.11 million<\\/td><\\/tr><tr><th>142<\\/th><td>Region B<\\/td><td>2021<\\/td><td>2<\\/td><td>REVENUE<\\/td><td>HR<\\/td><td>Atlanta<\\/td><td>USD 3989.15 million<\\/td><\\/tr><tr><th>143<\\/th><td>Region B<\\/td><td>2021<\\/td><td>2<\\/td><td>REVENUE<\\/td><td>HR<\\/td><td>Cleveland<\\/td><td>USD 3983.46 million<\\/td><\\/tr><tr><th>144<\\/th><td>Region B<\\/td><td>2021<\\/td><td>2<\\/td><td>NET_WORTH<\\/td><td>SALES<\\/td><td>Chicago<\\/td><td>USD 4376.57 million<\\/td><\\/tr><tr><th>145<\\/th><td>Region B<\\/td><td>2021<\\/td><td>2<\\/td><td>ASSETS<\\/td><td>OTHERS<\\/td><td>Boston<\\/td><td>USD 3927.45 million<\\/td><\\/tr><tr><th>146<\\/th><td>Region B<\\/td><td>2021<\\/td><td>2<\\/td><td>REVENUE<\\/td><td>OTHERS<\\/td><td>New York<\\/td><td>USD 3263.27 million<\\/td><\\/tr><tr><th>147<\\/th><td>Region B<\\/td><td>2021<\\/td><td>2<\\/td><td>NET_WORTH<\\/td><td>BUSINESS<\\/td><td>Philadelphia<\\/td><td>USD 3411.73 million<\\/td><\\/tr><tr><th>148<\\/th><td>Region B<\\/td><td>2021<\\/td><td>2<\\/td><td>LIABILITIES<\\/td><td>SALES<\\/td><td>Boston<\\/td><td>USD 3520.68 million<\\/td><\\/tr><tr><th>149<\\/th><td>Region B<\\/td><td>2021<\\/td><td>2<\\/td><td>REVENUE<\\/td><td>SALES<\\/td><td>New York<\\/td><td>USD 4735.84 million<\\/td><\\/tr><tr><th>150<\\/th><td>Region B<\\/td><td>2021<\\/td><td>2<\\/td><td>LIABILITIES<\\/td><td>BUSINESS<\\/td><td>St. Louis<\\/td><td>USD 3669.81 million<\\/td><\\/tr><tr><th>151<\\/th><td>Region B<\\/td><td>2021<\\/td><td>2<\\/td><td>NET_WORTH<\\/td><td>SALES<\\/td><td>Minneapolis<\\/td><td>USD 4296.49 million<\\/td><\\/tr><tr><th>152<\\/th><td>Region B<\\/td><td>2021<\\/td><td>2<\\/td><td>ASSETS<\\/td><td>BUSINESS<\\/td><td>Richmond<\\/td><td>USD 3916.94 million<\\/td><\\/tr><tr><th>153<\\/th><td>Region B<\\/td><td>2021<\\/td><td>2<\\/td><td>NET_WORTH<\\/td><td>HR<\\/td><td>Kansas City<\\/td><td>USD 4378.44 million<\\/td><\\/tr><tr><th>154<\\/th><td>Region B<\\/td><td>2021<\\/td><td>2<\\/td><td>ASSETS<\\/td><td>HR<\\/td><td>New York<\\/td><td>USD 4182.17 million<\\/td><\\/tr><tr><th>155<\\/th><td>Region B<\\/td><td>2021<\\/td><td>2<\\/td><td>NET_WORTH<\\/td><td>SALES<\\/td><td>Philadelphia<\\/td><td>USD 4345.23 million<\\/td><\\/tr><tr><th>156<\\/th><td>Region B<\\/td><td>2021<\\/td><td>2<\\/td><td>NET_WORTH<\\/td><td>IT<\\/td><td>Cleveland<\\/td><td>USD 3787.16 million<\\/td><\\/tr><tr><th>157<\\/th><td>Region B<\\/td><td>2021<\\/td><td>2<\\/td><td>ASSETS<\\/td><td>OTHERS<\\/td><td>Richmond<\\/td><td>USD 3765.26 million<\\/td><\\/tr><tr><th>158<\\/th><td>Region B<\\/td><td>2021<\\/td><td>2<\\/td><td>ASSETS<\\/td><td>HR<\\/td><td>St. Louis<\\/td><td>USD 4655.51 million<\\/td><\\/tr><tr><th>159<\\/th><td>Region B<\\/td><td>2021<\\/td><td>2<\\/td><td>ASSETS<\\/td><td>IT<\\/td><td>Cleveland<\\/td><td>USD 5150.0 million<\\/td><\\/tr><tr><th>160<\\/th><td>Region B<\\/td><td>2021<\\/td><td>2<\\/td><td>LIABILITIES<\\/td><td>IT<\\/td><td>New York<\\/td><td>USD 3921.97 million<\\/td><\\/tr><tr><th>161<\\/th><td>Region B<\\/td><td>2021<\\/td><td>2<\\/td><td>LIABILITIES<\\/td><td>HR<\\/td><td>Minneapolis<\\/td><td>USD 4332.34 million<\\/td><\\/tr><tr><th>162<\\/th><td>Region B<\\/td><td>2021<\\/td><td>2<\\/td><td>REVENUE<\\/td><td>OTHERS<\\/td><td>Boston<\\/td><td>USD 4221.1 million<\\/td><\\/tr><tr><th>163<\\/th><td>Region B<\\/td><td>2021<\\/td><td>2<\\/td><td>REVENUE<\\/td><td>SALES<\\/td><td>Philadelphia<\\/td><td>USD 4518.49 million<\\/td><\\/tr><tr><th>164<\\/th><td>Region B<\\/td><td>2021<\\/td><td>2<\\/td><td>ASSETS<\\/td><td>IT<\\/td><td>San Francisco<\\/td><td>USD 3803.69 million<\\/td><\\/tr><tr><th>165<\\/th><td>Region B<\\/td><td>2021<\\/td><td>2<\\/td><td>ASSETS<\\/td><td>IT<\\/td><td>Atlanta<\\/td><td>USD 3630.48 million<\\/td><\\/tr><tr><th>166<\\/th><td>Region B<\\/td><td>2021<\\/td><td>2<\\/td><td>REVENUE<\\/td><td>IT<\\/td><td>New York<\\/td><td>USD 4389.13 million<\\/td><\\/tr><tr><th>167<\\/th><td>Region B<\\/td><td>2021<\\/td><td>2<\\/td><td>NET_WORTH<\\/td><td>HR<\\/td><td>Richmond<\\/td><td>USD 4715.37 million<\\/td><\\/tr><tr><th>168<\\/th><td>Region B<\\/td><td>2021<\\/td><td>2<\\/td><td>REVENUE<\\/td><td>IT<\\/td><td>Richmond<\\/td><td>USD 3878.62 million<\\/td><\\/tr><tr><th>169<\\/th><td>Region B<\\/td><td>2021<\\/td><td>2<\\/td><td>REVENUE<\\/td><td>SALES<\\/td><td>Minneapolis<\\/td><td>USD 3874.8 million<\\/td><\\/tr><tr><th>170<\\/th><td>Region B<\\/td><td>2021<\\/td><td>2<\\/td><td>REVENUE<\\/td><td>BUSINESS<\\/td><td>Boston<\\/td><td>USD 4498.18 million<\\/td><\\/tr><tr><th>171<\\/th><td>Region B<\\/td><td>2021<\\/td><td>2<\\/td><td>LIABILITIES<\\/td><td>SALES<\\/td><td>Cleveland<\\/td><td>USD 3943.81 million<\\/td><\\/tr><tr><th>172<\\/th><td>Region B<\\/td><td>2021<\\/td><td>2<\\/td><td>NET_WORTH<\\/td><td>OTHERS<\\/td><td>Dallas<\\/td><td>USD 4998.53 million<\\/td><\\/tr><tr><th>173<\\/th><td>Region B<\\/td><td>2021<\\/td><td>2<\\/td><td>ASSETS<\\/td><td>SALES<\\/td><td>St. Louis<\\/td><td>USD 4250.38 million<\\/td><\\/tr><tr><th>174<\\/th><td>Region B<\\/td><td>2021<\\/td><td>2<\\/td><td>LIABILITIES<\\/td><td>OTHERS<\\/td><td>Cleveland<\\/td><td>USD 4440.21 million<\\/td><\\/tr><tr><th>175<\\/th><td>Region B<\\/td><td>2021<\\/td><td>2<\\/td><td>LIABILITIES<\\/td><td>OTHERS<\\/td><td>St. Louis<\\/td><td>USD 4461.69 million<\\/td><\\/tr><tr><th>176<\\/th><td>Region B<\\/td><td>2021<\\/td><td>2<\\/td><td>NET_WORTH<\\/td><td>IT<\\/td><td>Boston<\\/td><td>USD 4448.35 million<\\/td><\\/tr><tr><th>177<\\/th><td>Region B<\\/td><td>2021<\\/td><td>2<\\/td><td>NET_WORTH<\\/td><td>BUSINESS<\\/td><td>Minneapolis<\\/td><td>USD 4480.38 million<\\/td><\\/tr><tr><th>178<\\/th><td>Region B<\\/td><td>2021<\\/td><td>2<\\/td><td>ASSETS<\\/td><td>BUSINESS<\\/td><td>St. Louis<\\/td><td>USD 3544.04 million<\\/td><\\/tr><tr><th>179<\\/th><td>Region B<\\/td><td>2021<\\/td><td>2<\\/td><td>LIABILITIES<\\/td><td>HR<\\/td><td>New York<\\/td><td>USD 3549.84 million<\\/td><\\/tr><tr><th>180<\\/th><td>Region B<\\/td><td>2021<\\/td><td>2<\\/td><td>LIABILITIES<\\/td><td>SALES<\\/td><td>New York<\\/td><td>USD 4387.0 million<\\/td><\\/tr><tr><th>181<\\/th><td>Region B<\\/td><td>2021<\\/td><td>2<\\/td><td>REVENUE<\\/td><td>OTHERS<\\/td><td>Dallas<\\/td><td>USD 3616.4 million<\\/td><\\/tr><tr><th>182<\\/th><td>Region B<\\/td><td>2021<\\/td><td>2<\\/td><td>REVENUE<\\/td><td>IT<\\/td><td>Chicago<\\/td><td>USD 3961.33 million<\\/td><\\/tr><tr><th>183<\\/th><td>Region B<\\/td><td>2021<\\/td><td>2<\\/td><td>REVENUE<\\/td><td>BUSINESS<\\/td><td>New York<\\/td><td>USD 3625.01 million<\\/td><\\/tr><tr><th>184<\\/th><td>Region B<\\/td><td>2021<\\/td><td>2<\\/td><td>LIABILITIES<\\/td><td>BUSINESS<\\/td><td>Boston<\\/td><td>USD 4627.67 million<\\/td><\\/tr><tr><th>185<\\/th><td>Region B<\\/td><td>2021<\\/td><td>2<\\/td><td>LIABILITIES<\\/td><td>HR<\\/td><td>San Francisco<\\/td><td>USD 4498.27 million<\\/td><\\/tr><tr><th>186<\\/th><td>Region B<\\/td><td>2021<\\/td><td>2<\\/td><td>ASSETS<\\/td><td>HR<\\/td><td>Kansas City<\\/td><td>USD 3924.74 million<\\/td><\\/tr><tr><th>187<\\/th><td>Region B<\\/td><td>2021<\\/td><td>2<\\/td><td>REVENUE<\\/td><td>SALES<\\/td><td>San Francisco<\\/td><td>USD 3641.69 million<\\/td><\\/tr><tr><th>188<\\/th><td>Region B<\\/td><td>2021<\\/td><td>2<\\/td><td>REVENUE<\\/td><td>OTHERS<\\/td><td>Chicago<\\/td><td>USD 3815.97 million<\\/td><\\/tr><tr><th>189<\\/th><td>Region B<\\/td><td>2021<\\/td><td>2<\\/td><td>NET_WORTH<\\/td><td>OTHERS<\\/td><td>St. Louis<\\/td><td>USD 4463.89 million<\\/td><\\/tr><tr><th>190<\\/th><td>Region B<\\/td><td>2021<\\/td><td>2<\\/td><td>ASSETS<\\/td><td>BUSINESS<\\/td><td>Philadelphia<\\/td><td>USD 3579.11 million<\\/td><\\/tr><tr><th>191<\\/th><td>Region B<\\/td><td>2021<\\/td><td>2<\\/td><td>REVENUE<\\/td><td>BUSINESS<\\/td><td>San Francisco<\\/td><td>USD 3290.47 million<\\/td><\\/tr><tr><th>192<\\/th><td>Region B<\\/td><td>2021<\\/td><td>2<\\/td><td>LIABILITIES<\\/td><td>OTHERS<\\/td><td>Minneapolis<\\/td><td>USD 3416.22 million<\\/td><\\/tr><tr><th>193<\\/th><td>Region B<\\/td><td>2021<\\/td><td>2<\\/td><td>ASSETS<\\/td><td>IT<\\/td><td>Dallas<\\/td><td>USD 3506.32 million<\\/td><\\/tr><tr><th>194<\\/th><td>Region B<\\/td><td>2021<\\/td><td>2<\\/td><td>NET_WORTH<\\/td><td>BUSINESS<\\/td><td>St. Louis<\\/td><td>USD 4947.56 million<\\/td><\\/tr><tr><th>195<\\/th><td>Region B<\\/td><td>2021<\\/td><td>2<\\/td><td>NET_WORTH<\\/td><td>BUSINESS<\\/td><td>San Francisco<\\/td><td>USD 4297.84 million<\\/td><\\/tr><tr><th>196<\\/th><td>Region B<\\/td><td>2021<\\/td><td>2<\\/td><td>REVENUE<\\/td><td>HR<\\/td><td>Richmond<\\/td><td>USD 3994.18 million<\\/td><\\/tr><tr><th>197<\\/th><td>Region B<\\/td><td>2021<\\/td><td>2<\\/td><td>REVENUE<\\/td><td>SALES<\\/td><td>Kansas City<\\/td><td>USD 3945.2 million<\\/td><\\/tr><tr><th>198<\\/th><td>Region B<\\/td><td>2021<\\/td><td>2<\\/td><td>ASSETS<\\/td><td>OTHERS<\\/td><td>New York<\\/td><td>USD 4133.53 million<\\/td><\\/tr><tr><th>199<\\/th><td>Region B<\\/td><td>2021<\\/td><td>2<\\/td><td>REVENUE<\\/td><td>OTHERS<\\/td><td>Cleveland<\\/td><td>USD 3156.42 million<\\/td><\\/tr><tr><th>200<\\/th><td>Region B<\\/td><td>2021<\\/td><td>2<\\/td><td>REVENUE<\\/td><td>BUSINESS<\\/td><td>Chicago<\\/td><td>USD 3495.35 million<\\/td><\\/tr><tr><th>201<\\/th><td>Region B<\\/td><td>2021<\\/td><td>2<\\/td><td>NET_WORTH<\\/td><td>IT<\\/td><td>Richmond<\\/td><td>USD 4037.96 million<\\/td><\\/tr><tr><th>202<\\/th><td>Region B<\\/td><td>2021<\\/td><td>2<\\/td><td>NET_WORTH<\\/td><td>OTHERS<\\/td><td>Cleveland<\\/td><td>USD 3950.75 million<\\/td><\\/tr><tr><th>203<\\/th><td>Region B<\\/td><td>2021<\\/td><td>2<\\/td><td>LIABILITIES<\\/td><td>BUSINESS<\\/td><td>Atlanta<\\/td><td>USD 3909.57 million<\\/td><\\/tr><tr><th>204<\\/th><td>Region B<\\/td><td>2021<\\/td><td>2<\\/td><td>ASSETS<\\/td><td>SALES<\\/td><td>Philadelphia<\\/td><td>USD 3477.24 million<\\/td><\\/tr><tr><th>205<\\/th><td>Region B<\\/td><td>2021<\\/td><td>2<\\/td><td>NET_WORTH<\\/td><td>HR<\\/td><td>Atlanta<\\/td><td>USD 3750.61 million<\\/td><\\/tr><tr><th>206<\\/th><td>Region B<\\/td><td>2021<\\/td><td>2<\\/td><td>REVENUE<\\/td><td>BUSINESS<\\/td><td>Atlanta<\\/td><td>USD 3524.35 million<\\/td><\\/tr><tr><th>207<\\/th><td>Region B<\\/td><td>2021<\\/td><td>2<\\/td><td>ASSETS<\\/td><td>HR<\\/td><td>Atlanta<\\/td><td>USD 3877.97 million<\\/td><\\/tr><tr><th>208<\\/th><td>Region B<\\/td><td>2021<\\/td><td>2<\\/td><td>REVENUE<\\/td><td>IT<\\/td><td>Boston<\\/td><td>USD 3771.93 million<\\/td><\\/tr><tr><th>209<\\/th><td>Region B<\\/td><td>2021<\\/td><td>2<\\/td><td>REVENUE<\\/td><td>OTHERS<\\/td><td>Philadelphia<\\/td><td>USD 3863.22 million<\\/td><\\/tr><tr><th>210<\\/th><td>Region B<\\/td><td>2021<\\/td><td>2<\\/td><td>NET_WORTH<\\/td><td>OTHERS<\\/td><td>New York<\\/td><td>USD 3363.16 million<\\/td><\\/tr><tr><th>211<\\/th><td>Region B<\\/td><td>2021<\\/td><td>2<\\/td><td>NET_WORTH<\\/td><td>SALES<\\/td><td>Richmond<\\/td><td>USD 3768.73 million<\\/td><\\/tr><tr><th>212<\\/th><td>Region B<\\/td><td>2021<\\/td><td>2<\\/td><td>REVENUE<\\/td><td>HR<\\/td><td>Philadelphia<\\/td><td>USD 3751.32 million<\\/td><\\/tr><tr><th>213<\\/th><td>Region B<\\/td><td>2021<\\/td><td>2<\\/td><td>NET_WORTH<\\/td><td>BUSINESS<\\/td><td>New York<\\/td><td>USD 3786.22 million<\\/td><\\/tr><tr><th>214<\\/th><td>Region B<\\/td><td>2021<\\/td><td>2<\\/td><td>NET_WORTH<\\/td><td>BUSINESS<\\/td><td>Kansas City<\\/td><td>USD 3168.14 million<\\/td><\\/tr><tr><th>215<\\/th><td>Region B<\\/td><td>2021<\\/td><td>2<\\/td><td>NET_WORTH<\\/td><td>OTHERS<\\/td><td>Kansas City<\\/td><td>USD 3765.9 million<\\/td><\\/tr><tr><th>216<\\/th><td>Region B<\\/td><td>2021<\\/td><td>2<\\/td><td>ASSETS<\\/td><td>HR<\\/td><td>Dallas<\\/td><td>USD 3211.58 million<\\/td><\\/tr><tr><th>217<\\/th><td>Region B<\\/td><td>2021<\\/td><td>2<\\/td><td>NET_WORTH<\\/td><td>HR<\\/td><td>Dallas<\\/td><td>USD 5013.63 million<\\/td><\\/tr><tr><th>218<\\/th><td>Region B<\\/td><td>2021<\\/td><td>2<\\/td><td>LIABILITIES<\\/td><td>IT<\\/td><td>Boston<\\/td><td>USD 3499.94 million<\\/td><\\/tr><tr><th>219<\\/th><td>Region B<\\/td><td>2021<\\/td><td>2<\\/td><td>NET_WORTH<\\/td><td>OTHERS<\\/td><td>Atlanta<\\/td><td>USD 4442.08 million<\\/td><\\/tr><tr><th>220<\\/th><td>Region B<\\/td><td>2021<\\/td><td>2<\\/td><td>ASSETS<\\/td><td>OTHERS<\\/td><td>San Francisco<\\/td><td>USD 3914.48 million<\\/td><\\/tr><tr><th>221<\\/th><td>Region B<\\/td><td>2021<\\/td><td>2<\\/td><td>LIABILITIES<\\/td><td>SALES<\\/td><td>Richmond<\\/td><td>USD 3139.59 million<\\/td><\\/tr><tr><th>222<\\/th><td>Region B<\\/td><td>2021<\\/td><td>2<\\/td><td>ASSETS<\\/td><td>SALES<\\/td><td>New York<\\/td><td>USD 3224.55 million<\\/td><\\/tr><tr><th>223<\\/th><td>Region B<\\/td><td>2021<\\/td><td>2<\\/td><td>LIABILITIES<\\/td><td>SALES<\\/td><td>Atlanta<\\/td><td>USD 4241.26 million<\\/td><\\/tr><tr><th>224<\\/th><td>Region B<\\/td><td>2021<\\/td><td>2<\\/td><td>LIABILITIES<\\/td><td>OTHERS<\\/td><td>Dallas<\\/td><td>USD 3695.96 million<\\/td><\\/tr><tr><th>225<\\/th><td>Region B<\\/td><td>2021<\\/td><td>2<\\/td><td>ASSETS<\\/td><td>BUSINESS<\\/td><td>Kansas City<\\/td><td>USD 3119.45 million<\\/td><\\/tr><tr><th>226<\\/th><td>Region B<\\/td><td>2021<\\/td><td>2<\\/td><td>REVENUE<\\/td><td>SALES<\\/td><td>St. Louis<\\/td><td>USD 4053.0 million<\\/td><\\/tr><tr><th>227<\\/th><td>Region B<\\/td><td>2021<\\/td><td>2<\\/td><td>REVENUE<\\/td><td>OTHERS<\\/td><td>Atlanta<\\/td><td>USD 3683.48 million<\\/td><\\/tr><tr><th>228<\\/th><td>Region B<\\/td><td>2021<\\/td><td>2<\\/td><td>ASSETS<\\/td><td>SALES<\\/td><td>San Francisco<\\/td><td>USD 3291.86 million<\\/td><\\/tr><tr><th>229<\\/th><td>Region B<\\/td><td>2021<\\/td><td>2<\\/td><td>NET_WORTH<\\/td><td>HR<\\/td><td>Chicago<\\/td><td>USD 3804.4 million<\\/td><\\/tr><tr><th>230<\\/th><td>Region B<\\/td><td>2021<\\/td><td>2<\\/td><td>ASSETS<\\/td><td>SALES<\\/td><td>Atlanta<\\/td><td>USD 3943.89 million<\\/td><\\/tr><tr><th>231<\\/th><td>Region B<\\/td><td>2021<\\/td><td>2<\\/td><td>ASSETS<\\/td><td>BUSINESS<\\/td><td>Boston<\\/td><td>USD 3909.51 million<\\/td><\\/tr><tr><th>232<\\/th><td>Region B<\\/td><td>2021<\\/td><td>2<\\/td><td>ASSETS<\\/td><td>HR<\\/td><td>Richmond<\\/td><td>USD 3539.07 million<\\/td><\\/tr><tr><th>233<\\/th><td>Region B<\\/td><td>2021<\\/td><td>2<\\/td><td>REVENUE<\\/td><td>IT<\\/td><td>Cleveland<\\/td><td>USD 3763.62 million<\\/td><\\/tr><tr><th>234<\\/th><td>Region B<\\/td><td>2021<\\/td><td>2<\\/td><td>LIABILITIES<\\/td><td>IT<\\/td><td>Cleveland<\\/td><td>USD 5007.31 million<\\/td><\\/tr><tr><th>235<\\/th><td>Region B<\\/td><td>2021<\\/td><td>2<\\/td><td>LIABILITIES<\\/td><td>OTHERS<\\/td><td>Kansas City<\\/td><td>USD 4477.97 million<\\/td><\\/tr><tr><th>236<\\/th><td>Region B<\\/td><td>2021<\\/td><td>2<\\/td><td>NET_WORTH<\\/td><td>SALES<\\/td><td>Cleveland<\\/td><td>USD 3637.36 million<\\/td><\\/tr><tr><th>237<\\/th><td>Region B<\\/td><td>2021<\\/td><td>2<\\/td><td>ASSETS<\\/td><td>BUSINESS<\\/td><td>Atlanta<\\/td><td>USD 3405.35 million<\\/td><\\/tr><tr><th>238<\\/th><td>Region B<\\/td><td>2021<\\/td><td>2<\\/td><td>LIABILITIES<\\/td><td>OTHERS<\\/td><td>San Francisco<\\/td><td>USD 3571.54 million<\\/td><\\/tr><tr><th>239<\\/th><td>Region B<\\/td><td>2021<\\/td><td>2<\\/td><td>REVENUE<\\/td><td>BUSINESS<\\/td><td>Richmond<\\/td><td>USD 3325.6 million<\\/td><\\/tr><tr><th>240<\\/th><td>Region B<\\/td><td>2021<\\/td><td>2<\\/td><td>NET_WORTH<\\/td><td>SALES<\\/td><td>Boston<\\/td><td>USD 2699.08 million<\\/td><\\/tr><\\/tbody><\\/table><\\/div>\"},\"nodeType\":\"DOM\",\"type\":\"node\",\"instanceArgs\":{\"namespace\":\"html\",\"tag\":\"div\"},\"children\":[]}]}}}},\"children\":[{\"props\":{},\"nodeType\":\"ObservableNode\",\"type\":\"node\",\"instanceArgs\":{\"id\":\"17376963721366874954\",\"name\":\"obs-node\"},\"children\":[]}]}]},\n",
       "        window,\n",
       "    );\n",
       "    })()\n",
       "    </script>\n",
       "</div>\n"
      ],
      "text/plain": [
       "Node{WebIO.DOM}(WebIO.DOM(:html, :div), Any[Node{WebIO.DOM}(WebIO.DOM(:html, :div), Any[Scope(Node{WebIO.DOM}(WebIO.DOM(:html, :div), Any[Node{WebIO.DOM}(WebIO.DOM(:html, :div), Any[Node{WebIO.DOM}(WebIO.DOM(:html, :label), Any[\"ld\"], Dict{Symbol, Any}(:className => \"interact \", :style => Dict{Any, Any}(:padding => \"5px 10px 0px 10px\")))], Dict{Symbol, Any}(:className => \"interact-flex-row-left\")), Node{WebIO.DOM}(WebIO.DOM(:html, :div), Any[Node{WebIO.DOM}(WebIO.DOM(:html, :div), Any[Node{WebIO.DOM}(WebIO.DOM(:html, :span), Any[Node{WebIO.DOM}(WebIO.DOM(:html, :label), Any[], Dict{Symbol, Any}(:attributes => Dict(\"data-bind\" => \"text : key\")))], Dict{Symbol, Any}(:attributes => Dict(\"data-bind\" => \"click: function (){\\$root.update(val)}, css: {'is-primary is-selected' : \\$root.index() == val, 'interact-widget is-medium button ' : true}\")))], Dict{Symbol, Any}(:attributes => (\"data-bind\" => \"foreach : options_js\"), :className => \"buttons has-addons is-centered\"))], Dict{Symbol, Any}(:className => \"interact-flex-row-center\")), Node{WebIO.DOM}(WebIO.DOM(:html, :div), Any[Node{WebIO.DOM}(WebIO.DOM(:html, :div), Any[], Dict{Symbol, Any}())], Dict{Symbol, Any}(:className => \"interact-flex-row-right\"))], Dict{Symbol, Any}(:className => \"interact-flex-row interact-widget\")), Dict{String, Tuple{Observables.AbstractObservable, Union{Nothing, Bool}}}(\"options_js\" => (Observable{Vector{OrderedDict}} with 1 listeners. Value:\n",
       "OrderedDict[OrderedDict{String, Any}(\"key\" => \"Actuals\", \"val\" => 1, \"id\" => \"id7S4U0Wvl\"), OrderedDict{String, Any}(\"key\" => \"Budget\", \"val\" => 2, \"id\" => \"idPCG4XiaU\")], nothing), \"index\" => (Observable{Any} with 2 listeners. Value:\n",
       "1, nothing)), Set{String}(), nothing, Asset[Asset(\"js\", \"knockout\", \"/home/ubuntu/.julia/packages/Knockout/3gjS1/src/../assets/knockout.js\"), Asset(\"js\", \"knockout_punches\", \"/home/ubuntu/.julia/packages/Knockout/3gjS1/src/../assets/knockout_punches.js\"), Asset(\"js\", nothing, \"/home/ubuntu/.julia/packages/InteractBase/h8Fwe/src/../assets/all.js\"), Asset(\"css\", nothing, \"/home/ubuntu/.julia/packages/InteractBase/h8Fwe/src/../assets/style.css\"), Asset(\"css\", nothing, \"/home/ubuntu/.julia/packages/Interact/pVyN2/src/../assets/bulma_confined.min.css\")], Dict{Any, Any}(\"options_js\" => Any[WebIO.JSString(\"(function (val){return (val!=this.model[\\\"options_js\\\"]()) ? (this.valueFromJulia[\\\"options_js\\\"]=true, this.model[\\\"options_js\\\"](val)) : undefined})\")], \"index\" => Any[WebIO.JSString(\"(function (val){return (val!=this.model[\\\"index\\\"]()) ? (this.valueFromJulia[\\\"index\\\"]=true, this.model[\\\"index\\\"](val)) : undefined})\")]), WebIO.ConnectionPool(Channel{Any}(32), Set{AbstractConnection}(), Condition(Base.InvasiveLinkedList{Task}(Task (runnable) @0x00007f6d4efbcfe0, Task (runnable) @0x00007f6d4efbcfe0), Base.AlwaysLockedST(1))), WebIO.JSString[WebIO.JSString(\"function () {\\n    var handler = (function (ko, koPunches) {\\n    ko.punches.enableAll();\\n    ko.bindingHandlers.numericValue = {\\n        init: function(element, valueAccessor, allBindings, data, context) {\\n            var stringified = ko.observable(ko.unwrap(valueAccessor()));\\n            stringified.subscribe(function(value) {\\n                var val = parseFloat(value);\\n                if (!isNaN(val)) {\\n                    valueAccessor()(val);\\n                }\\n            });\\n            valueAccessor().subscribe(function(value) {\\n                var str = JSON.stringify(value);\\n                if ((str == \\\"0\\\") && ([\\\"-0\\\", \\\"-0.\\\"].indexOf(stringified()) >= 0))\\n                     return;\\n                 if ([\\\"null\\\", \\\"\\\"].indexOf(str) >= 0)\\n                     return;\\n                stringified(str);\\n            });\\n            ko.applyBindingsToNode(\\n                element,\\n                {\\n                    value: stringified,\\n                    valueUpdate: allBindings.get('valueUpdate'),\\n                },\\n                context,\\n            );\\n        }\\n    };\\n    var json_data = {\\\"options_js\\\":WebIO.getval({\\\"name\\\":\\\"options_js\\\",\\\"scope\\\":\\\"3761771998763380936\\\",\\\"id\\\":\\\"15109083274705896194\\\",\\\"type\\\":\\\"observable\\\"}),\\\"index\\\":WebIO.getval({\\\"name\\\":\\\"index\\\",\\\"scope\\\":\\\"3761771998763380936\\\",\\\"id\\\":\\\"5371304709671703266\\\",\\\"type\\\":\\\"observable\\\"})};\\n    var self = this;\\n    function AppViewModel() {\\n        for (var key in json_data) {\\n            var el = json_data[key];\\n            this[key] = Array.isArray(el) ? ko.observableArray(el) : ko.observable(el);\\n        }\\n        [this[\\\"update\\\"]=function (val) {this.index(val)}]\\n        \\n        [this[\\\"options_js\\\"].subscribe((function (val){!(this.valueFromJulia[\\\"options_js\\\"]) ? (WebIO.setval({\\\"name\\\":\\\"options_js\\\",\\\"scope\\\":\\\"3761771998763380936\\\",\\\"id\\\":\\\"15109083274705896194\\\",\\\"type\\\":\\\"observable\\\"},val)) : undefined; return this.valueFromJulia[\\\"options_js\\\"]=false}),self),this[\\\"index\\\"].subscribe((function (val){!(this.valueFromJulia[\\\"index\\\"]) ? (WebIO.setval({\\\"name\\\":\\\"index\\\",\\\"scope\\\":\\\"3761771998763380936\\\",\\\"id\\\":\\\"5371304709671703266\\\",\\\"type\\\":\\\"observable\\\"},val)) : undefined; return this.valueFromJulia[\\\"index\\\"]=false}),self)]\\n        \\n    }\\n    self.model = new AppViewModel();\\n    self.valueFromJulia = {};\\n    for (var key in json_data) {\\n        self.valueFromJulia[key] = false;\\n    }\\n    ko.applyBindings(self.model, self.dom);\\n}\\n);\\n    (WebIO.importBlock({\\\"data\\\":[{\\\"name\\\":\\\"knockout\\\",\\\"type\\\":\\\"js\\\",\\\"url\\\":\\\"/assetserver/7adbe83fac1553325d6e718d595ab555e1cabbe4-knockout.js\\\"},{\\\"name\\\":\\\"knockout_punches\\\",\\\"type\\\":\\\"js\\\",\\\"url\\\":\\\"/assetserver/cec8c4de011abc05b545afbaaea4bb4465a1f168-knockout_punches.js\\\"}],\\\"type\\\":\\\"async_block\\\"})).then((imports) => handler.apply(this, imports));\\n}\\n\")])], Dict{Symbol, Any}(:className => \"interact-widget\")), Node{WebIO.DOM}(WebIO.DOM(:html, :div), Any[Scope(Node{WebIO.DOM}(WebIO.DOM(:html, :div), Any[Node{WebIO.DOM}(WebIO.DOM(:html, :div), Any[Node{WebIO.DOM}(WebIO.DOM(:html, :label), Any[\"rg\"], Dict{Symbol, Any}(:className => \"interact \", :style => Dict{Any, Any}(:padding => \"5px 10px 0px 10px\")))], Dict{Symbol, Any}(:className => \"interact-flex-row-left\")), Node{WebIO.DOM}(WebIO.DOM(:html, :div), Any[Node{WebIO.DOM}(WebIO.DOM(:html, :div), Any[Node{WebIO.DOM}(WebIO.DOM(:html, :span), Any[Node{WebIO.DOM}(WebIO.DOM(:html, :label), Any[], Dict{Symbol, Any}(:attributes => Dict(\"data-bind\" => \"text : key\")))], Dict{Symbol, Any}(:attributes => Dict(\"data-bind\" => \"click: function (){\\$root.update(val)}, css: {'is-primary is-selected' : \\$root.index() == val, 'interact-widget is-medium button ' : true}\")))], Dict{Symbol, Any}(:attributes => (\"data-bind\" => \"foreach : options_js\"), :className => \"buttons has-addons is-centered\"))], Dict{Symbol, Any}(:className => \"interact-flex-row-center\")), Node{WebIO.DOM}(WebIO.DOM(:html, :div), Any[Node{WebIO.DOM}(WebIO.DOM(:html, :div), Any[], Dict{Symbol, Any}())], Dict{Symbol, Any}(:className => \"interact-flex-row-right\"))], Dict{Symbol, Any}(:className => \"interact-flex-row interact-widget\")), Dict{String, Tuple{Observables.AbstractObservable, Union{Nothing, Bool}}}(\"options_js\" => (Observable{Vector{OrderedDict}} with 1 listeners. Value:\n",
       "OrderedDict[OrderedDict{String, Any}(\"key\" => \"Region B\", \"val\" => 1, \"id\" => \"idGoqQj3Rd\"), OrderedDict{String, Any}(\"key\" => \"Region C\", \"val\" => 2, \"id\" => \"idUNiW9Xlc\"), OrderedDict{String, Any}(\"key\" => \"Region A\", \"val\" => 3, \"id\" => \"idgDHJAkg8\")], nothing), \"index\" => (Observable{Any} with 2 listeners. Value:\n",
       "1, nothing)), Set{String}(), nothing, Asset[Asset(\"js\", \"knockout\", \"/home/ubuntu/.julia/packages/Knockout/3gjS1/src/../assets/knockout.js\"), Asset(\"js\", \"knockout_punches\", \"/home/ubuntu/.julia/packages/Knockout/3gjS1/src/../assets/knockout_punches.js\"), Asset(\"js\", nothing, \"/home/ubuntu/.julia/packages/InteractBase/h8Fwe/src/../assets/all.js\"), Asset(\"css\", nothing, \"/home/ubuntu/.julia/packages/InteractBase/h8Fwe/src/../assets/style.css\"), Asset(\"css\", nothing, \"/home/ubuntu/.julia/packages/Interact/pVyN2/src/../assets/bulma_confined.min.css\")], Dict{Any, Any}(\"options_js\" => Any[WebIO.JSString(\"(function (val){return (val!=this.model[\\\"options_js\\\"]()) ? (this.valueFromJulia[\\\"options_js\\\"]=true, this.model[\\\"options_js\\\"](val)) : undefined})\")], \"index\" => Any[WebIO.JSString(\"(function (val){return (val!=this.model[\\\"index\\\"]()) ? (this.valueFromJulia[\\\"index\\\"]=true, this.model[\\\"index\\\"](val)) : undefined})\")]), WebIO.ConnectionPool(Channel{Any}(32), Set{AbstractConnection}(), Condition(Base.InvasiveLinkedList{Task}(Task (runnable) @0x00007f6d4efbd2c0, Task (runnable) @0x00007f6d4efbd2c0), Base.AlwaysLockedST(1))), WebIO.JSString[WebIO.JSString(\"function () {\\n    var handler = (function (ko, koPunches) {\\n    ko.punches.enableAll();\\n    ko.bindingHandlers.numericValue = {\\n        init: function(element, valueAccessor, allBindings, data, context) {\\n            var stringified = ko.observable(ko.unwrap(valueAccessor()));\\n            stringified.subscribe(function(value) {\\n                var val = parseFloat(value);\\n                if (!isNaN(val)) {\\n                    valueAccessor()(val);\\n                }\\n            });\\n            valueAccessor().subscribe(function(value) {\\n                var str = JSON.stringify(value);\\n                if ((str == \\\"0\\\") && ([\\\"-0\\\", \\\"-0.\\\"].indexOf(stringified()) >= 0))\\n                     return;\\n                 if ([\\\"null\\\", \\\"\\\"].indexOf(str) >= 0)\\n                     return;\\n                stringified(str);\\n            });\\n            ko.applyBindingsToNode(\\n                element,\\n                {\\n                    value: stringified,\\n                    valueUpdate: allBindings.get('valueUpdate'),\\n                },\\n                context,\\n            );\\n        }\\n    };\\n    var json_data = {\\\"options_js\\\":WebIO.getval({\\\"name\\\":\\\"options_js\\\",\\\"scope\\\":\\\"4336181307449966138\\\",\\\"id\\\":\\\"17402697954747100342\\\",\\\"type\\\":\\\"observable\\\"}),\\\"index\\\":WebIO.getval({\\\"name\\\":\\\"index\\\",\\\"scope\\\":\\\"4336181307449966138\\\",\\\"id\\\":\\\"8989126355364358398\\\",\\\"type\\\":\\\"observable\\\"})};\\n    var self = this;\\n    function AppViewModel() {\\n        for (var key in json_data) {\\n            var el = json_data[key];\\n            this[key] = Array.isArray(el) ? ko.observableArray(el) : ko.observable(el);\\n        }\\n        [this[\\\"update\\\"]=function (val) {this.index(val)}]\\n        \\n        [this[\\\"options_js\\\"].subscribe((function (val){!(this.valueFromJulia[\\\"options_js\\\"]) ? (WebIO.setval({\\\"name\\\":\\\"options_js\\\",\\\"scope\\\":\\\"4336181307449966138\\\",\\\"id\\\":\\\"17402697954747100342\\\",\\\"type\\\":\\\"observable\\\"},val)) : undefined; return this.valueFromJulia[\\\"options_js\\\"]=false}),self),this[\\\"index\\\"].subscribe((function (val){!(this.valueFromJulia[\\\"index\\\"]) ? (WebIO.setval({\\\"name\\\":\\\"index\\\",\\\"scope\\\":\\\"4336181307449966138\\\",\\\"id\\\":\\\"8989126355364358398\\\",\\\"type\\\":\\\"observable\\\"},val)) : undefined; return this.valueFromJulia[\\\"index\\\"]=false}),self)]\\n        \\n    }\\n    self.model = new AppViewModel();\\n    self.valueFromJulia = {};\\n    for (var key in json_data) {\\n        self.valueFromJulia[key] = false;\\n    }\\n    ko.applyBindings(self.model, self.dom);\\n}\\n);\\n    (WebIO.importBlock({\\\"data\\\":[{\\\"name\\\":\\\"knockout\\\",\\\"type\\\":\\\"js\\\",\\\"url\\\":\\\"/assetserver/7adbe83fac1553325d6e718d595ab555e1cabbe4-knockout.js\\\"},{\\\"name\\\":\\\"knockout_punches\\\",\\\"type\\\":\\\"js\\\",\\\"url\\\":\\\"/assetserver/cec8c4de011abc05b545afbaaea4bb4465a1f168-knockout_punches.js\\\"}],\\\"type\\\":\\\"async_block\\\"})).then((imports) => handler.apply(this, imports));\\n}\\n\")])], Dict{Symbol, Any}(:className => \"interact-widget\")), Node{WebIO.DOM}(WebIO.DOM(:html, :div), Any[Scope(Node{WebIO.DOM}(WebIO.DOM(:html, :div), Any[Node{WebIO.DOM}(WebIO.DOM(:html, :div), Any[Node{WebIO.DOM}(WebIO.DOM(:html, :label), Any[nothing], Dict{Symbol, Any}(:className => \"interact \", :style => Dict{Any, Any}(:padding => \"5px 10px 0px 10px\")))], Dict{Symbol, Any}(:className => \"interact-flex-row-left\")), Node{WebIO.DOM}(WebIO.DOM(:html, :div), Any[Node{WebIO.DOM}(WebIO.DOM(:html, :input), Any[], Dict{Symbol, Any}(:max => 3, :min => 1, :attributes => Dict{Any, Any}(:type => \"range\", Symbol(\"data-bind\") => \"numericValue: index, valueUpdate: 'input', event: {change: function (){this.changes(this.changes()+1)}}\", \"orient\" => \"horizontal\"), :step => 1, :className => \"slider slider is-fullwidth\", :style => Dict{Any, Any}()))], Dict{Symbol, Any}(:className => \"interact-flex-row-center\")), Node{WebIO.DOM}(WebIO.DOM(:html, :div), Any[Node{WebIO.DOM}(WebIO.DOM(:html, :p), Any[], Dict{Symbol, Any}(:attributes => Dict(\"data-bind\" => \"text: formatted_val\")))], Dict{Symbol, Any}(:className => \"interact-flex-row-right\"))], Dict{Symbol, Any}(:className => \"interact-flex-row interact-widget\")), Dict{String, Tuple{Observables.AbstractObservable, Union{Nothing, Bool}}}(\"changes\" => (Observable{Int64} with 1 listeners. Value:\n",
       "0, nothing), \"index\" => (Observable{Any} with 2 listeners. Value:\n",
       "2, nothing)), Set{String}(), nothing, Asset[Asset(\"js\", \"knockout\", \"/home/ubuntu/.julia/packages/Knockout/3gjS1/src/../assets/knockout.js\"), Asset(\"js\", \"knockout_punches\", \"/home/ubuntu/.julia/packages/Knockout/3gjS1/src/../assets/knockout_punches.js\"), Asset(\"js\", nothing, \"/home/ubuntu/.julia/packages/InteractBase/h8Fwe/src/../assets/all.js\"), Asset(\"css\", nothing, \"/home/ubuntu/.julia/packages/InteractBase/h8Fwe/src/../assets/style.css\"), Asset(\"css\", nothing, \"/home/ubuntu/.julia/packages/Interact/pVyN2/src/../assets/bulma_confined.min.css\")], Dict{Any, Any}(\"changes\" => Any[WebIO.JSString(\"(function (val){return (val!=this.model[\\\"changes\\\"]()) ? (this.valueFromJulia[\\\"changes\\\"]=true, this.model[\\\"changes\\\"](val)) : undefined})\")], \"index\" => Any[WebIO.JSString(\"(function (val){return (val!=this.model[\\\"index\\\"]()) ? (this.valueFromJulia[\\\"index\\\"]=true, this.model[\\\"index\\\"](val)) : undefined})\")]), WebIO.ConnectionPool(Channel{Any}(32), Set{AbstractConnection}(), Condition(Base.InvasiveLinkedList{Task}(Task (runnable) @0x00007f6d4efbd710, Task (runnable) @0x00007f6d4efbd710), Base.AlwaysLockedST(1))), WebIO.JSString[WebIO.JSString(\"function () {\\n    var handler = (function (ko, koPunches) {\\n    ko.punches.enableAll();\\n    ko.bindingHandlers.numericValue = {\\n        init: function(element, valueAccessor, allBindings, data, context) {\\n            var stringified = ko.observable(ko.unwrap(valueAccessor()));\\n            stringified.subscribe(function(value) {\\n                var val = parseFloat(value);\\n                if (!isNaN(val)) {\\n                    valueAccessor()(val);\\n                }\\n            });\\n            valueAccessor().subscribe(function(value) {\\n                var str = JSON.stringify(value);\\n                if ((str == \\\"0\\\") && ([\\\"-0\\\", \\\"-0.\\\"].indexOf(stringified()) >= 0))\\n                     return;\\n                 if ([\\\"null\\\", \\\"\\\"].indexOf(str) >= 0)\\n                     return;\\n                stringified(str);\\n            });\\n            ko.applyBindingsToNode(\\n                element,\\n                {\\n                    value: stringified,\\n                    valueUpdate: allBindings.get('valueUpdate'),\\n                },\\n                context,\\n            );\\n        }\\n    };\\n    var json_data = {\\\"formatted_vals\\\":[\\\"2020\\\",\\\"2021\\\",\\\"2022\\\"],\\\"changes\\\":WebIO.getval({\\\"name\\\":\\\"changes\\\",\\\"scope\\\":\\\"14953592395855329131\\\",\\\"id\\\":\\\"17655851537122789273\\\",\\\"type\\\":\\\"observable\\\"}),\\\"index\\\":WebIO.getval({\\\"name\\\":\\\"index\\\",\\\"scope\\\":\\\"14953592395855329131\\\",\\\"id\\\":\\\"4124786012300562105\\\",\\\"type\\\":\\\"observable\\\"})};\\n    var self = this;\\n    function AppViewModel() {\\n        for (var key in json_data) {\\n            var el = json_data[key];\\n            this[key] = Array.isArray(el) ? ko.observableArray(el) : ko.observable(el);\\n        }\\n        \\n        [this[\\\"formatted_val\\\"]=ko.computed(    function(){\\n        return this.formatted_vals()[parseInt(this.index())-(1)];\\n    }\\n,this)]\\n        [this[\\\"changes\\\"].subscribe((function (val){!(this.valueFromJulia[\\\"changes\\\"]) ? (WebIO.setval({\\\"name\\\":\\\"changes\\\",\\\"scope\\\":\\\"14953592395855329131\\\",\\\"id\\\":\\\"17655851537122789273\\\",\\\"type\\\":\\\"observable\\\"},val)) : undefined; return this.valueFromJulia[\\\"changes\\\"]=false}),self),this[\\\"index\\\"].subscribe((function (val){!(this.valueFromJulia[\\\"index\\\"]) ? (WebIO.setval({\\\"name\\\":\\\"index\\\",\\\"scope\\\":\\\"14953592395855329131\\\",\\\"id\\\":\\\"4124786012300562105\\\",\\\"type\\\":\\\"observable\\\"},val)) : undefined; return this.valueFromJulia[\\\"index\\\"]=false}),self)]\\n        \\n    }\\n    self.model = new AppViewModel();\\n    self.valueFromJulia = {};\\n    for (var key in json_data) {\\n        self.valueFromJulia[key] = false;\\n    }\\n    ko.applyBindings(self.model, self.dom);\\n}\\n);\\n    (WebIO.importBlock({\\\"data\\\":[{\\\"name\\\":\\\"knockout\\\",\\\"type\\\":\\\"js\\\",\\\"url\\\":\\\"/assetserver/7adbe83fac1553325d6e718d595ab555e1cabbe4-knockout.js\\\"},{\\\"name\\\":\\\"knockout_punches\\\",\\\"type\\\":\\\"js\\\",\\\"url\\\":\\\"/assetserver/cec8c4de011abc05b545afbaaea4bb4465a1f168-knockout_punches.js\\\"}],\\\"type\\\":\\\"async_block\\\"})).then((imports) => handler.apply(this, imports));\\n}\\n\")])], Dict{Symbol, Any}(:className => \"field interact-widget\")), Node{WebIO.DOM}(WebIO.DOM(:html, :div), Any[Scope(Node{WebIO.DOM}(WebIO.DOM(:html, :div), Any[Node{WebIO.DOM}(WebIO.DOM(:html, :div), Any[Node{WebIO.DOM}(WebIO.DOM(:html, :label), Any[\"qtr\"], Dict{Symbol, Any}(:className => \"interact \", :style => Dict{Any, Any}(:padding => \"5px 10px 0px 10px\")))], Dict{Symbol, Any}(:className => \"interact-flex-row-left\")), Node{WebIO.DOM}(WebIO.DOM(:html, :div), Any[Node{WebIO.DOM}(WebIO.DOM(:html, :input), Any[], Dict{Symbol, Any}(:max => 4, :min => 1, :attributes => Dict{Any, Any}(:type => \"range\", Symbol(\"data-bind\") => \"numericValue: index, valueUpdate: 'input', event: {change: function (){this.changes(this.changes()+1)}}\", \"orient\" => \"horizontal\"), :step => 1, :className => \"slider slider is-fullwidth\", :style => Dict{Any, Any}()))], Dict{Symbol, Any}(:className => \"interact-flex-row-center\")), Node{WebIO.DOM}(WebIO.DOM(:html, :div), Any[Node{WebIO.DOM}(WebIO.DOM(:html, :p), Any[], Dict{Symbol, Any}(:attributes => Dict(\"data-bind\" => \"text: formatted_val\")))], Dict{Symbol, Any}(:className => \"interact-flex-row-right\"))], Dict{Symbol, Any}(:className => \"interact-flex-row interact-widget\")), Dict{String, Tuple{Observables.AbstractObservable, Union{Nothing, Bool}}}(\"changes\" => (Observable{Int64} with 1 listeners. Value:\n",
       "0, nothing), \"index\" => (Observable{Any} with 2 listeners. Value:\n",
       "2, nothing)), Set{String}(), nothing, Asset[Asset(\"js\", \"knockout\", \"/home/ubuntu/.julia/packages/Knockout/3gjS1/src/../assets/knockout.js\"), Asset(\"js\", \"knockout_punches\", \"/home/ubuntu/.julia/packages/Knockout/3gjS1/src/../assets/knockout_punches.js\"), Asset(\"js\", nothing, \"/home/ubuntu/.julia/packages/InteractBase/h8Fwe/src/../assets/all.js\"), Asset(\"css\", nothing, \"/home/ubuntu/.julia/packages/InteractBase/h8Fwe/src/../assets/style.css\"), Asset(\"css\", nothing, \"/home/ubuntu/.julia/packages/Interact/pVyN2/src/../assets/bulma_confined.min.css\")], Dict{Any, Any}(\"changes\" => Any[WebIO.JSString(\"(function (val){return (val!=this.model[\\\"changes\\\"]()) ? (this.valueFromJulia[\\\"changes\\\"]=true, this.model[\\\"changes\\\"](val)) : undefined})\")], \"index\" => Any[WebIO.JSString(\"(function (val){return (val!=this.model[\\\"index\\\"]()) ? (this.valueFromJulia[\\\"index\\\"]=true, this.model[\\\"index\\\"](val)) : undefined})\")]), WebIO.ConnectionPool(Channel{Any}(32), Set{AbstractConnection}(), Condition(Base.InvasiveLinkedList{Task}(Task (runnable) @0x00007f6d4efbdb60, Task (runnable) @0x00007f6d4efbdb60), Base.AlwaysLockedST(1))), WebIO.JSString[WebIO.JSString(\"function () {\\n    var handler = (function (ko, koPunches) {\\n    ko.punches.enableAll();\\n    ko.bindingHandlers.numericValue = {\\n        init: function(element, valueAccessor, allBindings, data, context) {\\n            var stringified = ko.observable(ko.unwrap(valueAccessor()));\\n            stringified.subscribe(function(value) {\\n                var val = parseFloat(value);\\n                if (!isNaN(val)) {\\n                    valueAccessor()(val);\\n                }\\n            });\\n            valueAccessor().subscribe(function(value) {\\n                var str = JSON.stringify(value);\\n                if ((str == \\\"0\\\") && ([\\\"-0\\\", \\\"-0.\\\"].indexOf(stringified()) >= 0))\\n                     return;\\n                 if ([\\\"null\\\", \\\"\\\"].indexOf(str) >= 0)\\n                     return;\\n                stringified(str);\\n            });\\n            ko.applyBindingsToNode(\\n                element,\\n                {\\n                    value: stringified,\\n                    valueUpdate: allBindings.get('valueUpdate'),\\n                },\\n                context,\\n            );\\n        }\\n    };\\n    var json_data = {\\\"formatted_vals\\\":[\\\"1\\\",\\\"2\\\",\\\"3\\\",\\\"4\\\"],\\\"changes\\\":WebIO.getval({\\\"name\\\":\\\"changes\\\",\\\"scope\\\":\\\"14818083701553036238\\\",\\\"id\\\":\\\"6173039353171651400\\\",\\\"type\\\":\\\"observable\\\"}),\\\"index\\\":WebIO.getval({\\\"name\\\":\\\"index\\\",\\\"scope\\\":\\\"14818083701553036238\\\",\\\"id\\\":\\\"16913260558254817926\\\",\\\"type\\\":\\\"observable\\\"})};\\n    var self = this;\\n    function AppViewModel() {\\n        for (var key in json_data) {\\n            var el = json_data[key];\\n            this[key] = Array.isArray(el) ? ko.observableArray(el) : ko.observable(el);\\n        }\\n        \\n        [this[\\\"formatted_val\\\"]=ko.computed(    function(){\\n        return this.formatted_vals()[parseInt(this.index())-(1)];\\n    }\\n,this)]\\n        [this[\\\"changes\\\"].subscribe((function (val){!(this.valueFromJulia[\\\"changes\\\"]) ? (WebIO.setval({\\\"name\\\":\\\"changes\\\",\\\"scope\\\":\\\"14818083701553036238\\\",\\\"id\\\":\\\"6173039353171651400\\\",\\\"type\\\":\\\"observable\\\"},val)) : undefined; return this.valueFromJulia[\\\"changes\\\"]=false}),self),this[\\\"index\\\"].subscribe((function (val){!(this.valueFromJulia[\\\"index\\\"]) ? (WebIO.setval({\\\"name\\\":\\\"index\\\",\\\"scope\\\":\\\"14818083701553036238\\\",\\\"id\\\":\\\"16913260558254817926\\\",\\\"type\\\":\\\"observable\\\"},val)) : undefined; return this.valueFromJulia[\\\"index\\\"]=false}),self)]\\n        \\n    }\\n    self.model = new AppViewModel();\\n    self.valueFromJulia = {};\\n    for (var key in json_data) {\\n        self.valueFromJulia[key] = false;\\n    }\\n    ko.applyBindings(self.model, self.dom);\\n}\\n);\\n    (WebIO.importBlock({\\\"data\\\":[{\\\"name\\\":\\\"knockout\\\",\\\"type\\\":\\\"js\\\",\\\"url\\\":\\\"/assetserver/7adbe83fac1553325d6e718d595ab555e1cabbe4-knockout.js\\\"},{\\\"name\\\":\\\"knockout_punches\\\",\\\"type\\\":\\\"js\\\",\\\"url\\\":\\\"/assetserver/cec8c4de011abc05b545afbaaea4bb4465a1f168-knockout_punches.js\\\"}],\\\"type\\\":\\\"async_block\\\"})).then((imports) => handler.apply(this, imports));\\n}\\n\")])], Dict{Symbol, Any}(:className => \"field interact-widget\")), Observable{Node{WebIO.DOM}} with 0 listeners. Value:\n",
       "Node{WebIO.DOM}(WebIO.DOM(:html, :div), Any[\u001b[1m240×7 DataFrame\u001b[0m\n",
       "\u001b[1m Row \u001b[0m│\u001b[1m Org      \u001b[0m\u001b[1m FY    \u001b[0m\u001b[1m Qtr   \u001b[0m\u001b[1m Accounts    \u001b[0m\u001b[1m Dept     \u001b[0m\u001b[1m Loc           \u001b[0m\u001b[1m TOTAL    \u001b[0m ⋯\n",
       "\u001b[1m     \u001b[0m│\u001b[90m String   \u001b[0m\u001b[90m Int64 \u001b[0m\u001b[90m Int64 \u001b[0m\u001b[90m String      \u001b[0m\u001b[90m String   \u001b[0m\u001b[90m String        \u001b[0m\u001b[90m String   \u001b[0m ⋯\n",
       "─────┼──────────────────────────────────────────────────────────────────────────\n",
       "   1 │ Region B   2021      2  ASSETS       BUSINESS  Chicago        USD 2927. ⋯\n",
       "   2 │ Region B   2021      2  ASSETS       IT        Kansas City    USD 3679.\n",
       "   3 │ Region B   2021      2  LIABILITIES  HR        Boston         USD 3366.\n",
       "   4 │ Region B   2021      2  LIABILITIES  HR        Kansas City    USD 4426.\n",
       "   5 │ Region B   2021      2  ASSETS       IT        Boston         USD 3718. ⋯\n",
       "   6 │ Region B   2021      2  NET_WORTH    BUSINESS  Richmond       USD 4920.\n",
       "   7 │ Region B   2021      2  NET_WORTH    BUSINESS  Dallas         USD 4340.\n",
       "   8 │ Region B   2021      2  ASSETS       HR        Minneapolis    USD 4236.\n",
       "   9 │ Region B   2021      2  LIABILITIES  OTHERS    Atlanta        USD 4722. ⋯\n",
       "  10 │ Region B   2021      2  ASSETS       IT        New York       USD 2814.\n",
       "  11 │ Region B   2021      2  REVENUE      IT        Kansas City    USD 4229.\n",
       "  ⋮  │    ⋮        ⋮      ⋮         ⋮          ⋮            ⋮                  ⋱\n",
       " 231 │ Region B   2021      2  ASSETS       BUSINESS  Boston         USD 3909.\n",
       " 232 │ Region B   2021      2  ASSETS       HR        Richmond       USD 3539. ⋯\n",
       " 233 │ Region B   2021      2  REVENUE      IT        Cleveland      USD 3763.\n",
       " 234 │ Region B   2021      2  LIABILITIES  IT        Cleveland      USD 5007.\n",
       " 235 │ Region B   2021      2  LIABILITIES  OTHERS    Kansas City    USD 4477.\n",
       " 236 │ Region B   2021      2  NET_WORTH    SALES     Cleveland      USD 3637. ⋯\n",
       " 237 │ Region B   2021      2  ASSETS       BUSINESS  Atlanta        USD 3405.\n",
       " 238 │ Region B   2021      2  LIABILITIES  OTHERS    San Francisco  USD 3571.\n",
       " 239 │ Region B   2021      2  REVENUE      BUSINESS  Richmond       USD 3325.\n",
       " 240 │ Region B   2021      2  NET_WORTH    SALES     Boston         USD 2699. ⋯\n",
       "\u001b[36m                                                   1 column and 219 rows omitted\u001b[0m], Dict{Symbol, Any}(:className => \"interact-flex-row interact-widget\"))], Dict{Symbol, Any}())"
      ]
     },
     "execution_count": 74,
     "metadata": {
      "application/vnd.webio.node+json": {
       "kernelId": "e2edb929-a595-4295-908e-4c215e475d45"
      }
     },
     "output_type": "execute_result"
    }
   ],
   "source": [
    "@manipulate for ld = Dict(\"Actuals\"=> \"Actuals\", \"Budget\" => \"Budget\"), \n",
    "                rg = Dict(\"Region A\"=> \"Region A\", \"Region B\" => \"Region B\", \"Region C\" => \"Region C\"),\n",
    "                yr = slider(2020:1:2022; value=2021),\n",
    "                qtr = 1:1:4\n",
    "    \n",
    "    @show ld, rg, yr, qtr\n",
    "    \n",
    "select(gdf_plot[(\n",
    "    (gdf_plot.FISCAL_YEAR .== yr)\n",
    "    .&\n",
    "    (gdf_plot.QTR .== qtr)\n",
    "    .&\n",
    "    (gdf_plot.LEDGER .== ld)\n",
    "    .&\n",
    "    (gdf_plot.OPER_UNIT .== rg)\n",
    "    .&\n",
    "    (in.(gdf_plot.ACCOUNTS_CLASSIFICATION, Ref([\"ASSETS\", \"LIABILITIES\", \"REVENUE\",\"NET_WORTH\"])))\n",
    "    ),:],\n",
    "        :OPER_UNIT => :Org,\n",
    "        :FISCAL_YEAR => :FY,\n",
    "        :QTR => :Qtr,\n",
    "        :ACCOUNTS_CLASSIFICATION => :Accounts,\n",
    "        :DEPT_CLASSIFICATION => :Dept,\n",
    "        # :LOCATION_CLASSIFICATION => :Region,\n",
    "        :LOCATION_DESCR => :Loc,\n",
    "        :TOTAL => :TOTAL)\n",
    "end"
   ]
  },
  {
   "cell_type": "markdown",
   "metadata": {},
   "source": [
    "### Cash Flow Statement (Interactive)"
   ]
  },
  {
   "cell_type": "code",
   "execution_count": 75,
   "metadata": {},
   "outputs": [
    {
     "name": "stdout",
     "output_type": "stream",
     "text": [
      "(ld, rg, yr, qtr) = (\"Actuals\", \"Region B\", 2021, 2)\n"
     ]
    },
    {
     "data": {
      "application/vnd.webio.node+json": {
       "children": [
        {
         "children": [
          {
           "children": [
            {
             "children": [
              {
               "children": [
                {
                 "children": [
                  "ld"
                 ],
                 "instanceArgs": {
                  "namespace": "html",
                  "tag": "label"
                 },
                 "nodeType": "DOM",
                 "props": {
                  "className": "interact ",
                  "style": {
                   "padding": "5px 10px 0px 10px"
                  }
                 },
                 "type": "node"
                }
               ],
               "instanceArgs": {
                "namespace": "html",
                "tag": "div"
               },
               "nodeType": "DOM",
               "props": {
                "className": "interact-flex-row-left"
               },
               "type": "node"
              },
              {
               "children": [
                {
                 "children": [
                  {
                   "children": [
                    {
                     "children": [],
                     "instanceArgs": {
                      "namespace": "html",
                      "tag": "label"
                     },
                     "nodeType": "DOM",
                     "props": {
                      "attributes": {
                       "data-bind": "text : key"
                      }
                     },
                     "type": "node"
                    }
                   ],
                   "instanceArgs": {
                    "namespace": "html",
                    "tag": "span"
                   },
                   "nodeType": "DOM",
                   "props": {
                    "attributes": {
                     "data-bind": "click: function (){$root.update(val)}, css: {'is-primary is-selected' : $root.index() == val, 'interact-widget is-medium button ' : true}"
                    }
                   },
                   "type": "node"
                  }
                 ],
                 "instanceArgs": {
                  "namespace": "html",
                  "tag": "div"
                 },
                 "nodeType": "DOM",
                 "props": {
                  "attributes": {
                   "data-bind": "foreach : options_js"
                  },
                  "className": "buttons has-addons is-centered"
                 },
                 "type": "node"
                }
               ],
               "instanceArgs": {
                "namespace": "html",
                "tag": "div"
               },
               "nodeType": "DOM",
               "props": {
                "className": "interact-flex-row-center"
               },
               "type": "node"
              },
              {
               "children": [
                {
                 "children": [],
                 "instanceArgs": {
                  "namespace": "html",
                  "tag": "div"
                 },
                 "nodeType": "DOM",
                 "props": {},
                 "type": "node"
                }
               ],
               "instanceArgs": {
                "namespace": "html",
                "tag": "div"
               },
               "nodeType": "DOM",
               "props": {
                "className": "interact-flex-row-right"
               },
               "type": "node"
              }
             ],
             "instanceArgs": {
              "namespace": "html",
              "tag": "div"
             },
             "nodeType": "DOM",
             "props": {
              "className": "interact-flex-row interact-widget"
             },
             "type": "node"
            }
           ],
           "instanceArgs": {
            "handlers": {
             "index": [
              "(function (val){return (val!=this.model[\"index\"]()) ? (this.valueFromJulia[\"index\"]=true, this.model[\"index\"](val)) : undefined})"
             ],
             "options_js": [
              "(function (val){return (val!=this.model[\"options_js\"]()) ? (this.valueFromJulia[\"options_js\"]=true, this.model[\"options_js\"](val)) : undefined})"
             ]
            },
            "id": "2261378954612424764",
            "imports": {
             "data": [
              {
               "name": "knockout",
               "type": "js",
               "url": "/assetserver/7adbe83fac1553325d6e718d595ab555e1cabbe4-knockout.js"
              },
              {
               "name": "knockout_punches",
               "type": "js",
               "url": "/assetserver/cec8c4de011abc05b545afbaaea4bb4465a1f168-knockout_punches.js"
              },
              {
               "name": null,
               "type": "js",
               "url": "/assetserver/5ddeec2b33e792dac4326b9b8929eb841863a558-all.js"
              },
              {
               "name": null,
               "type": "css",
               "url": "/assetserver/a04b7b754438af5b294cd7f1d762c01dae6fade5-style.css"
              },
              {
               "name": null,
               "type": "css",
               "url": "/assetserver/50b13cf07303023836f4115fe93a8fe3eca4721a-bulma_confined.min.css"
              }
             ],
             "type": "async_block"
            },
            "mount_callbacks": [
             "function () {\n    var handler = (function (ko, koPunches) {\n    ko.punches.enableAll();\n    ko.bindingHandlers.numericValue = {\n        init: function(element, valueAccessor, allBindings, data, context) {\n            var stringified = ko.observable(ko.unwrap(valueAccessor()));\n            stringified.subscribe(function(value) {\n                var val = parseFloat(value);\n                if (!isNaN(val)) {\n                    valueAccessor()(val);\n                }\n            });\n            valueAccessor().subscribe(function(value) {\n                var str = JSON.stringify(value);\n                if ((str == \"0\") && ([\"-0\", \"-0.\"].indexOf(stringified()) >= 0))\n                     return;\n                 if ([\"null\", \"\"].indexOf(str) >= 0)\n                     return;\n                stringified(str);\n            });\n            ko.applyBindingsToNode(\n                element,\n                {\n                    value: stringified,\n                    valueUpdate: allBindings.get('valueUpdate'),\n                },\n                context,\n            );\n        }\n    };\n    var json_data = {\"options_js\":WebIO.getval({\"name\":\"options_js\",\"scope\":\"2261378954612424764\",\"id\":\"2544271647740361144\",\"type\":\"observable\"}),\"index\":WebIO.getval({\"name\":\"index\",\"scope\":\"2261378954612424764\",\"id\":\"12385331690821543038\",\"type\":\"observable\"})};\n    var self = this;\n    function AppViewModel() {\n        for (var key in json_data) {\n            var el = json_data[key];\n            this[key] = Array.isArray(el) ? ko.observableArray(el) : ko.observable(el);\n        }\n        [this[\"update\"]=function (val) {this.index(val)}]\n        \n        [this[\"options_js\"].subscribe((function (val){!(this.valueFromJulia[\"options_js\"]) ? (WebIO.setval({\"name\":\"options_js\",\"scope\":\"2261378954612424764\",\"id\":\"2544271647740361144\",\"type\":\"observable\"},val)) : undefined; return this.valueFromJulia[\"options_js\"]=false}),self),this[\"index\"].subscribe((function (val){!(this.valueFromJulia[\"index\"]) ? (WebIO.setval({\"name\":\"index\",\"scope\":\"2261378954612424764\",\"id\":\"12385331690821543038\",\"type\":\"observable\"},val)) : undefined; return this.valueFromJulia[\"index\"]=false}),self)]\n        \n    }\n    self.model = new AppViewModel();\n    self.valueFromJulia = {};\n    for (var key in json_data) {\n        self.valueFromJulia[key] = false;\n    }\n    ko.applyBindings(self.model, self.dom);\n}\n);\n    (WebIO.importBlock({\"data\":[{\"name\":\"knockout\",\"type\":\"js\",\"url\":\"/assetserver/7adbe83fac1553325d6e718d595ab555e1cabbe4-knockout.js\"},{\"name\":\"knockout_punches\",\"type\":\"js\",\"url\":\"/assetserver/cec8c4de011abc05b545afbaaea4bb4465a1f168-knockout_punches.js\"}],\"type\":\"async_block\"})).then((imports) => handler.apply(this, imports));\n}\n"
            ],
            "observables": {
             "index": {
              "id": "12385331690821543038",
              "sync": true,
              "value": 1
             },
             "options_js": {
              "id": "2544271647740361144",
              "sync": false,
              "value": [
               {
                "id": "idJjPv91r9",
                "key": "Actuals",
                "val": 1
               },
               {
                "id": "iddxFNAGDn",
                "key": "Budget",
                "val": 2
               }
              ]
             }
            },
            "systemjs_options": null
           },
           "nodeType": "Scope",
           "props": {},
           "type": "node"
          }
         ],
         "instanceArgs": {
          "namespace": "html",
          "tag": "div"
         },
         "nodeType": "DOM",
         "props": {
          "className": "interact-widget"
         },
         "type": "node"
        },
        {
         "children": [
          {
           "children": [
            {
             "children": [
              {
               "children": [
                {
                 "children": [
                  "rg"
                 ],
                 "instanceArgs": {
                  "namespace": "html",
                  "tag": "label"
                 },
                 "nodeType": "DOM",
                 "props": {
                  "className": "interact ",
                  "style": {
                   "padding": "5px 10px 0px 10px"
                  }
                 },
                 "type": "node"
                }
               ],
               "instanceArgs": {
                "namespace": "html",
                "tag": "div"
               },
               "nodeType": "DOM",
               "props": {
                "className": "interact-flex-row-left"
               },
               "type": "node"
              },
              {
               "children": [
                {
                 "children": [
                  {
                   "children": [
                    {
                     "children": [],
                     "instanceArgs": {
                      "namespace": "html",
                      "tag": "label"
                     },
                     "nodeType": "DOM",
                     "props": {
                      "attributes": {
                       "data-bind": "text : key"
                      }
                     },
                     "type": "node"
                    }
                   ],
                   "instanceArgs": {
                    "namespace": "html",
                    "tag": "span"
                   },
                   "nodeType": "DOM",
                   "props": {
                    "attributes": {
                     "data-bind": "click: function (){$root.update(val)}, css: {'is-primary is-selected' : $root.index() == val, 'interact-widget is-medium button ' : true}"
                    }
                   },
                   "type": "node"
                  }
                 ],
                 "instanceArgs": {
                  "namespace": "html",
                  "tag": "div"
                 },
                 "nodeType": "DOM",
                 "props": {
                  "attributes": {
                   "data-bind": "foreach : options_js"
                  },
                  "className": "buttons has-addons is-centered"
                 },
                 "type": "node"
                }
               ],
               "instanceArgs": {
                "namespace": "html",
                "tag": "div"
               },
               "nodeType": "DOM",
               "props": {
                "className": "interact-flex-row-center"
               },
               "type": "node"
              },
              {
               "children": [
                {
                 "children": [],
                 "instanceArgs": {
                  "namespace": "html",
                  "tag": "div"
                 },
                 "nodeType": "DOM",
                 "props": {},
                 "type": "node"
                }
               ],
               "instanceArgs": {
                "namespace": "html",
                "tag": "div"
               },
               "nodeType": "DOM",
               "props": {
                "className": "interact-flex-row-right"
               },
               "type": "node"
              }
             ],
             "instanceArgs": {
              "namespace": "html",
              "tag": "div"
             },
             "nodeType": "DOM",
             "props": {
              "className": "interact-flex-row interact-widget"
             },
             "type": "node"
            }
           ],
           "instanceArgs": {
            "handlers": {
             "index": [
              "(function (val){return (val!=this.model[\"index\"]()) ? (this.valueFromJulia[\"index\"]=true, this.model[\"index\"](val)) : undefined})"
             ],
             "options_js": [
              "(function (val){return (val!=this.model[\"options_js\"]()) ? (this.valueFromJulia[\"options_js\"]=true, this.model[\"options_js\"](val)) : undefined})"
             ]
            },
            "id": "4919382983103673781",
            "imports": {
             "data": [
              {
               "name": "knockout",
               "type": "js",
               "url": "/assetserver/7adbe83fac1553325d6e718d595ab555e1cabbe4-knockout.js"
              },
              {
               "name": "knockout_punches",
               "type": "js",
               "url": "/assetserver/cec8c4de011abc05b545afbaaea4bb4465a1f168-knockout_punches.js"
              },
              {
               "name": null,
               "type": "js",
               "url": "/assetserver/5ddeec2b33e792dac4326b9b8929eb841863a558-all.js"
              },
              {
               "name": null,
               "type": "css",
               "url": "/assetserver/a04b7b754438af5b294cd7f1d762c01dae6fade5-style.css"
              },
              {
               "name": null,
               "type": "css",
               "url": "/assetserver/50b13cf07303023836f4115fe93a8fe3eca4721a-bulma_confined.min.css"
              }
             ],
             "type": "async_block"
            },
            "mount_callbacks": [
             "function () {\n    var handler = (function (ko, koPunches) {\n    ko.punches.enableAll();\n    ko.bindingHandlers.numericValue = {\n        init: function(element, valueAccessor, allBindings, data, context) {\n            var stringified = ko.observable(ko.unwrap(valueAccessor()));\n            stringified.subscribe(function(value) {\n                var val = parseFloat(value);\n                if (!isNaN(val)) {\n                    valueAccessor()(val);\n                }\n            });\n            valueAccessor().subscribe(function(value) {\n                var str = JSON.stringify(value);\n                if ((str == \"0\") && ([\"-0\", \"-0.\"].indexOf(stringified()) >= 0))\n                     return;\n                 if ([\"null\", \"\"].indexOf(str) >= 0)\n                     return;\n                stringified(str);\n            });\n            ko.applyBindingsToNode(\n                element,\n                {\n                    value: stringified,\n                    valueUpdate: allBindings.get('valueUpdate'),\n                },\n                context,\n            );\n        }\n    };\n    var json_data = {\"options_js\":WebIO.getval({\"name\":\"options_js\",\"scope\":\"4919382983103673781\",\"id\":\"6136292950278674771\",\"type\":\"observable\"}),\"index\":WebIO.getval({\"name\":\"index\",\"scope\":\"4919382983103673781\",\"id\":\"5807017233678098585\",\"type\":\"observable\"})};\n    var self = this;\n    function AppViewModel() {\n        for (var key in json_data) {\n            var el = json_data[key];\n            this[key] = Array.isArray(el) ? ko.observableArray(el) : ko.observable(el);\n        }\n        [this[\"update\"]=function (val) {this.index(val)}]\n        \n        [this[\"options_js\"].subscribe((function (val){!(this.valueFromJulia[\"options_js\"]) ? (WebIO.setval({\"name\":\"options_js\",\"scope\":\"4919382983103673781\",\"id\":\"6136292950278674771\",\"type\":\"observable\"},val)) : undefined; return this.valueFromJulia[\"options_js\"]=false}),self),this[\"index\"].subscribe((function (val){!(this.valueFromJulia[\"index\"]) ? (WebIO.setval({\"name\":\"index\",\"scope\":\"4919382983103673781\",\"id\":\"5807017233678098585\",\"type\":\"observable\"},val)) : undefined; return this.valueFromJulia[\"index\"]=false}),self)]\n        \n    }\n    self.model = new AppViewModel();\n    self.valueFromJulia = {};\n    for (var key in json_data) {\n        self.valueFromJulia[key] = false;\n    }\n    ko.applyBindings(self.model, self.dom);\n}\n);\n    (WebIO.importBlock({\"data\":[{\"name\":\"knockout\",\"type\":\"js\",\"url\":\"/assetserver/7adbe83fac1553325d6e718d595ab555e1cabbe4-knockout.js\"},{\"name\":\"knockout_punches\",\"type\":\"js\",\"url\":\"/assetserver/cec8c4de011abc05b545afbaaea4bb4465a1f168-knockout_punches.js\"}],\"type\":\"async_block\"})).then((imports) => handler.apply(this, imports));\n}\n"
            ],
            "observables": {
             "index": {
              "id": "5807017233678098585",
              "sync": true,
              "value": 1
             },
             "options_js": {
              "id": "6136292950278674771",
              "sync": false,
              "value": [
               {
                "id": "idR4fSXhN8",
                "key": "Region B",
                "val": 1
               },
               {
                "id": "idVryIOYba",
                "key": "Region C",
                "val": 2
               },
               {
                "id": "idp2k6oJKx",
                "key": "Region A",
                "val": 3
               }
              ]
             }
            },
            "systemjs_options": null
           },
           "nodeType": "Scope",
           "props": {},
           "type": "node"
          }
         ],
         "instanceArgs": {
          "namespace": "html",
          "tag": "div"
         },
         "nodeType": "DOM",
         "props": {
          "className": "interact-widget"
         },
         "type": "node"
        },
        {
         "children": [
          {
           "children": [
            {
             "children": [
              {
               "children": [
                {
                 "children": [
                  ""
                 ],
                 "instanceArgs": {
                  "namespace": "html",
                  "tag": "label"
                 },
                 "nodeType": "DOM",
                 "props": {
                  "className": "interact ",
                  "style": {
                   "padding": "5px 10px 0px 10px"
                  }
                 },
                 "type": "node"
                }
               ],
               "instanceArgs": {
                "namespace": "html",
                "tag": "div"
               },
               "nodeType": "DOM",
               "props": {
                "className": "interact-flex-row-left"
               },
               "type": "node"
              },
              {
               "children": [
                {
                 "children": [],
                 "instanceArgs": {
                  "namespace": "html",
                  "tag": "input"
                 },
                 "nodeType": "DOM",
                 "props": {
                  "attributes": {
                   "data-bind": "numericValue: index, valueUpdate: 'input', event: {change: function (){this.changes(this.changes()+1)}}",
                   "orient": "horizontal",
                   "type": "range"
                  },
                  "className": "slider slider is-fullwidth",
                  "max": 3,
                  "min": 1,
                  "step": 1,
                  "style": {}
                 },
                 "type": "node"
                }
               ],
               "instanceArgs": {
                "namespace": "html",
                "tag": "div"
               },
               "nodeType": "DOM",
               "props": {
                "className": "interact-flex-row-center"
               },
               "type": "node"
              },
              {
               "children": [
                {
                 "children": [],
                 "instanceArgs": {
                  "namespace": "html",
                  "tag": "p"
                 },
                 "nodeType": "DOM",
                 "props": {
                  "attributes": {
                   "data-bind": "text: formatted_val"
                  }
                 },
                 "type": "node"
                }
               ],
               "instanceArgs": {
                "namespace": "html",
                "tag": "div"
               },
               "nodeType": "DOM",
               "props": {
                "className": "interact-flex-row-right"
               },
               "type": "node"
              }
             ],
             "instanceArgs": {
              "namespace": "html",
              "tag": "div"
             },
             "nodeType": "DOM",
             "props": {
              "className": "interact-flex-row interact-widget"
             },
             "type": "node"
            }
           ],
           "instanceArgs": {
            "handlers": {
             "changes": [
              "(function (val){return (val!=this.model[\"changes\"]()) ? (this.valueFromJulia[\"changes\"]=true, this.model[\"changes\"](val)) : undefined})"
             ],
             "index": [
              "(function (val){return (val!=this.model[\"index\"]()) ? (this.valueFromJulia[\"index\"]=true, this.model[\"index\"](val)) : undefined})"
             ]
            },
            "id": "16792730420982269183",
            "imports": {
             "data": [
              {
               "name": "knockout",
               "type": "js",
               "url": "/assetserver/7adbe83fac1553325d6e718d595ab555e1cabbe4-knockout.js"
              },
              {
               "name": "knockout_punches",
               "type": "js",
               "url": "/assetserver/cec8c4de011abc05b545afbaaea4bb4465a1f168-knockout_punches.js"
              },
              {
               "name": null,
               "type": "js",
               "url": "/assetserver/5ddeec2b33e792dac4326b9b8929eb841863a558-all.js"
              },
              {
               "name": null,
               "type": "css",
               "url": "/assetserver/a04b7b754438af5b294cd7f1d762c01dae6fade5-style.css"
              },
              {
               "name": null,
               "type": "css",
               "url": "/assetserver/50b13cf07303023836f4115fe93a8fe3eca4721a-bulma_confined.min.css"
              }
             ],
             "type": "async_block"
            },
            "mount_callbacks": [
             "function () {\n    var handler = (function (ko, koPunches) {\n    ko.punches.enableAll();\n    ko.bindingHandlers.numericValue = {\n        init: function(element, valueAccessor, allBindings, data, context) {\n            var stringified = ko.observable(ko.unwrap(valueAccessor()));\n            stringified.subscribe(function(value) {\n                var val = parseFloat(value);\n                if (!isNaN(val)) {\n                    valueAccessor()(val);\n                }\n            });\n            valueAccessor().subscribe(function(value) {\n                var str = JSON.stringify(value);\n                if ((str == \"0\") && ([\"-0\", \"-0.\"].indexOf(stringified()) >= 0))\n                     return;\n                 if ([\"null\", \"\"].indexOf(str) >= 0)\n                     return;\n                stringified(str);\n            });\n            ko.applyBindingsToNode(\n                element,\n                {\n                    value: stringified,\n                    valueUpdate: allBindings.get('valueUpdate'),\n                },\n                context,\n            );\n        }\n    };\n    var json_data = {\"formatted_vals\":[\"2020\",\"2021\",\"2022\"],\"changes\":WebIO.getval({\"name\":\"changes\",\"scope\":\"16792730420982269183\",\"id\":\"12427234278684348703\",\"type\":\"observable\"}),\"index\":WebIO.getval({\"name\":\"index\",\"scope\":\"16792730420982269183\",\"id\":\"8490942467846750800\",\"type\":\"observable\"})};\n    var self = this;\n    function AppViewModel() {\n        for (var key in json_data) {\n            var el = json_data[key];\n            this[key] = Array.isArray(el) ? ko.observableArray(el) : ko.observable(el);\n        }\n        \n        [this[\"formatted_val\"]=ko.computed(    function(){\n        return this.formatted_vals()[parseInt(this.index())-(1)];\n    }\n,this)]\n        [this[\"changes\"].subscribe((function (val){!(this.valueFromJulia[\"changes\"]) ? (WebIO.setval({\"name\":\"changes\",\"scope\":\"16792730420982269183\",\"id\":\"12427234278684348703\",\"type\":\"observable\"},val)) : undefined; return this.valueFromJulia[\"changes\"]=false}),self),this[\"index\"].subscribe((function (val){!(this.valueFromJulia[\"index\"]) ? (WebIO.setval({\"name\":\"index\",\"scope\":\"16792730420982269183\",\"id\":\"8490942467846750800\",\"type\":\"observable\"},val)) : undefined; return this.valueFromJulia[\"index\"]=false}),self)]\n        \n    }\n    self.model = new AppViewModel();\n    self.valueFromJulia = {};\n    for (var key in json_data) {\n        self.valueFromJulia[key] = false;\n    }\n    ko.applyBindings(self.model, self.dom);\n}\n);\n    (WebIO.importBlock({\"data\":[{\"name\":\"knockout\",\"type\":\"js\",\"url\":\"/assetserver/7adbe83fac1553325d6e718d595ab555e1cabbe4-knockout.js\"},{\"name\":\"knockout_punches\",\"type\":\"js\",\"url\":\"/assetserver/cec8c4de011abc05b545afbaaea4bb4465a1f168-knockout_punches.js\"}],\"type\":\"async_block\"})).then((imports) => handler.apply(this, imports));\n}\n"
            ],
            "observables": {
             "changes": {
              "id": "12427234278684348703",
              "sync": false,
              "value": 0
             },
             "index": {
              "id": "8490942467846750800",
              "sync": true,
              "value": 2
             }
            },
            "systemjs_options": null
           },
           "nodeType": "Scope",
           "props": {},
           "type": "node"
          }
         ],
         "instanceArgs": {
          "namespace": "html",
          "tag": "div"
         },
         "nodeType": "DOM",
         "props": {
          "className": "field interact-widget"
         },
         "type": "node"
        },
        {
         "children": [
          {
           "children": [
            {
             "children": [
              {
               "children": [
                {
                 "children": [
                  "qtr"
                 ],
                 "instanceArgs": {
                  "namespace": "html",
                  "tag": "label"
                 },
                 "nodeType": "DOM",
                 "props": {
                  "className": "interact ",
                  "style": {
                   "padding": "5px 10px 0px 10px"
                  }
                 },
                 "type": "node"
                }
               ],
               "instanceArgs": {
                "namespace": "html",
                "tag": "div"
               },
               "nodeType": "DOM",
               "props": {
                "className": "interact-flex-row-left"
               },
               "type": "node"
              },
              {
               "children": [
                {
                 "children": [],
                 "instanceArgs": {
                  "namespace": "html",
                  "tag": "input"
                 },
                 "nodeType": "DOM",
                 "props": {
                  "attributes": {
                   "data-bind": "numericValue: index, valueUpdate: 'input', event: {change: function (){this.changes(this.changes()+1)}}",
                   "orient": "horizontal",
                   "type": "range"
                  },
                  "className": "slider slider is-fullwidth",
                  "max": 4,
                  "min": 1,
                  "step": 1,
                  "style": {}
                 },
                 "type": "node"
                }
               ],
               "instanceArgs": {
                "namespace": "html",
                "tag": "div"
               },
               "nodeType": "DOM",
               "props": {
                "className": "interact-flex-row-center"
               },
               "type": "node"
              },
              {
               "children": [
                {
                 "children": [],
                 "instanceArgs": {
                  "namespace": "html",
                  "tag": "p"
                 },
                 "nodeType": "DOM",
                 "props": {
                  "attributes": {
                   "data-bind": "text: formatted_val"
                  }
                 },
                 "type": "node"
                }
               ],
               "instanceArgs": {
                "namespace": "html",
                "tag": "div"
               },
               "nodeType": "DOM",
               "props": {
                "className": "interact-flex-row-right"
               },
               "type": "node"
              }
             ],
             "instanceArgs": {
              "namespace": "html",
              "tag": "div"
             },
             "nodeType": "DOM",
             "props": {
              "className": "interact-flex-row interact-widget"
             },
             "type": "node"
            }
           ],
           "instanceArgs": {
            "handlers": {
             "changes": [
              "(function (val){return (val!=this.model[\"changes\"]()) ? (this.valueFromJulia[\"changes\"]=true, this.model[\"changes\"](val)) : undefined})"
             ],
             "index": [
              "(function (val){return (val!=this.model[\"index\"]()) ? (this.valueFromJulia[\"index\"]=true, this.model[\"index\"](val)) : undefined})"
             ]
            },
            "id": "12598521052191129842",
            "imports": {
             "data": [
              {
               "name": "knockout",
               "type": "js",
               "url": "/assetserver/7adbe83fac1553325d6e718d595ab555e1cabbe4-knockout.js"
              },
              {
               "name": "knockout_punches",
               "type": "js",
               "url": "/assetserver/cec8c4de011abc05b545afbaaea4bb4465a1f168-knockout_punches.js"
              },
              {
               "name": null,
               "type": "js",
               "url": "/assetserver/5ddeec2b33e792dac4326b9b8929eb841863a558-all.js"
              },
              {
               "name": null,
               "type": "css",
               "url": "/assetserver/a04b7b754438af5b294cd7f1d762c01dae6fade5-style.css"
              },
              {
               "name": null,
               "type": "css",
               "url": "/assetserver/50b13cf07303023836f4115fe93a8fe3eca4721a-bulma_confined.min.css"
              }
             ],
             "type": "async_block"
            },
            "mount_callbacks": [
             "function () {\n    var handler = (function (ko, koPunches) {\n    ko.punches.enableAll();\n    ko.bindingHandlers.numericValue = {\n        init: function(element, valueAccessor, allBindings, data, context) {\n            var stringified = ko.observable(ko.unwrap(valueAccessor()));\n            stringified.subscribe(function(value) {\n                var val = parseFloat(value);\n                if (!isNaN(val)) {\n                    valueAccessor()(val);\n                }\n            });\n            valueAccessor().subscribe(function(value) {\n                var str = JSON.stringify(value);\n                if ((str == \"0\") && ([\"-0\", \"-0.\"].indexOf(stringified()) >= 0))\n                     return;\n                 if ([\"null\", \"\"].indexOf(str) >= 0)\n                     return;\n                stringified(str);\n            });\n            ko.applyBindingsToNode(\n                element,\n                {\n                    value: stringified,\n                    valueUpdate: allBindings.get('valueUpdate'),\n                },\n                context,\n            );\n        }\n    };\n    var json_data = {\"formatted_vals\":[\"1\",\"2\",\"3\",\"4\"],\"changes\":WebIO.getval({\"name\":\"changes\",\"scope\":\"12598521052191129842\",\"id\":\"13247058572826997135\",\"type\":\"observable\"}),\"index\":WebIO.getval({\"name\":\"index\",\"scope\":\"12598521052191129842\",\"id\":\"16408192323489538202\",\"type\":\"observable\"})};\n    var self = this;\n    function AppViewModel() {\n        for (var key in json_data) {\n            var el = json_data[key];\n            this[key] = Array.isArray(el) ? ko.observableArray(el) : ko.observable(el);\n        }\n        \n        [this[\"formatted_val\"]=ko.computed(    function(){\n        return this.formatted_vals()[parseInt(this.index())-(1)];\n    }\n,this)]\n        [this[\"changes\"].subscribe((function (val){!(this.valueFromJulia[\"changes\"]) ? (WebIO.setval({\"name\":\"changes\",\"scope\":\"12598521052191129842\",\"id\":\"13247058572826997135\",\"type\":\"observable\"},val)) : undefined; return this.valueFromJulia[\"changes\"]=false}),self),this[\"index\"].subscribe((function (val){!(this.valueFromJulia[\"index\"]) ? (WebIO.setval({\"name\":\"index\",\"scope\":\"12598521052191129842\",\"id\":\"16408192323489538202\",\"type\":\"observable\"},val)) : undefined; return this.valueFromJulia[\"index\"]=false}),self)]\n        \n    }\n    self.model = new AppViewModel();\n    self.valueFromJulia = {};\n    for (var key in json_data) {\n        self.valueFromJulia[key] = false;\n    }\n    ko.applyBindings(self.model, self.dom);\n}\n);\n    (WebIO.importBlock({\"data\":[{\"name\":\"knockout\",\"type\":\"js\",\"url\":\"/assetserver/7adbe83fac1553325d6e718d595ab555e1cabbe4-knockout.js\"},{\"name\":\"knockout_punches\",\"type\":\"js\",\"url\":\"/assetserver/cec8c4de011abc05b545afbaaea4bb4465a1f168-knockout_punches.js\"}],\"type\":\"async_block\"})).then((imports) => handler.apply(this, imports));\n}\n"
            ],
            "observables": {
             "changes": {
              "id": "13247058572826997135",
              "sync": false,
              "value": 0
             },
             "index": {
              "id": "16408192323489538202",
              "sync": true,
              "value": 2
             }
            },
            "systemjs_options": null
           },
           "nodeType": "Scope",
           "props": {},
           "type": "node"
          }
         ],
         "instanceArgs": {
          "namespace": "html",
          "tag": "div"
         },
         "nodeType": "DOM",
         "props": {
          "className": "field interact-widget"
         },
         "type": "node"
        },
        {
         "children": [
          {
           "children": [],
           "instanceArgs": {
            "id": "4727638921677912882",
            "name": "obs-node"
           },
           "nodeType": "ObservableNode",
           "props": {},
           "type": "node"
          }
         ],
         "instanceArgs": {
          "handlers": {},
          "id": "4031365672032055321",
          "imports": {
           "data": [],
           "type": "async_block"
          },
          "mount_callbacks": [],
          "observables": {
           "obs-node": {
            "id": "4727638921677912882",
            "sync": false,
            "value": {
             "children": [
              {
               "children": [],
               "instanceArgs": {
                "namespace": "html",
                "tag": "div"
               },
               "nodeType": "DOM",
               "props": {
                "setInnerHtml": "<div class=\"data-frame\"><p>120 rows × 7 columns</p><table class=\"data-frame\"><thead><tr><th></th><th>Org</th><th>FY</th><th>Qtr</th><th>Accounts</th><th>Dept</th><th>Loc</th><th>TOTAL</th></tr><tr><th></th><th title=\"String\">String</th><th title=\"Int64\">Int64</th><th title=\"Int64\">Int64</th><th title=\"String\">String</th><th title=\"String\">String</th><th title=\"String\">String</th><th title=\"String\">String</th></tr></thead><tbody><tr><th>1</th><td>Region B</td><td>2021</td><td>2</td><td>NON-OPERATING_EXPENSES</td><td>IT</td><td>San Francisco</td><td>USD 4098.45 million</td></tr><tr><th>2</th><td>Region B</td><td>2021</td><td>2</td><td>OPERATING_EXPENSES</td><td>OTHERS</td><td>Philadelphia</td><td>USD 3240.95 million</td></tr><tr><th>3</th><td>Region B</td><td>2021</td><td>2</td><td>OPERATING_EXPENSES</td><td>SALES</td><td>Boston</td><td>USD 3734.55 million</td></tr><tr><th>4</th><td>Region B</td><td>2021</td><td>2</td><td>NON-OPERATING_EXPENSES</td><td>IT</td><td>Atlanta</td><td>USD 4193.49 million</td></tr><tr><th>5</th><td>Region B</td><td>2021</td><td>2</td><td>NON-OPERATING_EXPENSES</td><td>SALES</td><td>Philadelphia</td><td>USD 3618.04 million</td></tr><tr><th>6</th><td>Region B</td><td>2021</td><td>2</td><td>NON-OPERATING_EXPENSES</td><td>BUSINESS</td><td>Richmond</td><td>USD 3192.46 million</td></tr><tr><th>7</th><td>Region B</td><td>2021</td><td>2</td><td>OPERATING_EXPENSES</td><td>BUSINESS</td><td>Atlanta</td><td>USD 4143.11 million</td></tr><tr><th>8</th><td>Region B</td><td>2021</td><td>2</td><td>NON-OPERATING_EXPENSES</td><td>BUSINESS</td><td>Chicago</td><td>USD 3963.0 million</td></tr><tr><th>9</th><td>Region B</td><td>2021</td><td>2</td><td>NON-OPERATING_EXPENSES</td><td>SALES</td><td>Dallas</td><td>USD 4416.59 million</td></tr><tr><th>10</th><td>Region B</td><td>2021</td><td>2</td><td>OPERATING_EXPENSES</td><td>BUSINESS</td><td>Cleveland</td><td>USD 3474.11 million</td></tr><tr><th>11</th><td>Region B</td><td>2021</td><td>2</td><td>NON-OPERATING_EXPENSES</td><td>OTHERS</td><td>Kansas City</td><td>USD 3356.74 million</td></tr><tr><th>12</th><td>Region B</td><td>2021</td><td>2</td><td>NON-OPERATING_EXPENSES</td><td>SALES</td><td>Richmond</td><td>USD 3591.01 million</td></tr><tr><th>13</th><td>Region B</td><td>2021</td><td>2</td><td>OPERATING_EXPENSES</td><td>IT</td><td>San Francisco</td><td>USD 3240.61 million</td></tr><tr><th>14</th><td>Region B</td><td>2021</td><td>2</td><td>OPERATING_EXPENSES</td><td>HR</td><td>Atlanta</td><td>USD 3766.31 million</td></tr><tr><th>15</th><td>Region B</td><td>2021</td><td>2</td><td>NON-OPERATING_EXPENSES</td><td>OTHERS</td><td>Boston</td><td>USD 4688.84 million</td></tr><tr><th>16</th><td>Region B</td><td>2021</td><td>2</td><td>NON-OPERATING_EXPENSES</td><td>SALES</td><td>Chicago</td><td>USD 4404.04 million</td></tr><tr><th>17</th><td>Region B</td><td>2021</td><td>2</td><td>OPERATING_EXPENSES</td><td>BUSINESS</td><td>Kansas City</td><td>USD 3840.14 million</td></tr><tr><th>18</th><td>Region B</td><td>2021</td><td>2</td><td>OPERATING_EXPENSES</td><td>IT</td><td>Kansas City</td><td>USD 3355.3 million</td></tr><tr><th>19</th><td>Region B</td><td>2021</td><td>2</td><td>OPERATING_EXPENSES</td><td>OTHERS</td><td>St. Louis</td><td>USD 5139.69 million</td></tr><tr><th>20</th><td>Region B</td><td>2021</td><td>2</td><td>OPERATING_EXPENSES</td><td>SALES</td><td>Philadelphia</td><td>USD 3656.95 million</td></tr><tr><th>21</th><td>Region B</td><td>2021</td><td>2</td><td>NON-OPERATING_EXPENSES</td><td>HR</td><td>Chicago</td><td>USD 3165.89 million</td></tr><tr><th>22</th><td>Region B</td><td>2021</td><td>2</td><td>OPERATING_EXPENSES</td><td>OTHERS</td><td>Chicago</td><td>USD 4933.75 million</td></tr><tr><th>23</th><td>Region B</td><td>2021</td><td>2</td><td>NON-OPERATING_EXPENSES</td><td>HR</td><td>Minneapolis</td><td>USD 3559.91 million</td></tr><tr><th>24</th><td>Region B</td><td>2021</td><td>2</td><td>NON-OPERATING_EXPENSES</td><td>OTHERS</td><td>Dallas</td><td>USD 4380.7 million</td></tr><tr><th>25</th><td>Region B</td><td>2021</td><td>2</td><td>NON-OPERATING_EXPENSES</td><td>OTHERS</td><td>Atlanta</td><td>USD 3031.31 million</td></tr><tr><th>26</th><td>Region B</td><td>2021</td><td>2</td><td>OPERATING_EXPENSES</td><td>SALES</td><td>Kansas City</td><td>USD 3904.91 million</td></tr><tr><th>27</th><td>Region B</td><td>2021</td><td>2</td><td>NON-OPERATING_EXPENSES</td><td>SALES</td><td>St. Louis</td><td>USD 4446.03 million</td></tr><tr><th>28</th><td>Region B</td><td>2021</td><td>2</td><td>OPERATING_EXPENSES</td><td>OTHERS</td><td>Minneapolis</td><td>USD 3189.43 million</td></tr><tr><th>29</th><td>Region B</td><td>2021</td><td>2</td><td>NON-OPERATING_EXPENSES</td><td>HR</td><td>San Francisco</td><td>USD 4562.48 million</td></tr><tr><th>30</th><td>Region B</td><td>2021</td><td>2</td><td>NON-OPERATING_EXPENSES</td><td>IT</td><td>Cleveland</td><td>USD 3821.77 million</td></tr><tr><th>31</th><td>Region B</td><td>2021</td><td>2</td><td>OPERATING_EXPENSES</td><td>BUSINESS</td><td>St. Louis</td><td>USD 3782.8 million</td></tr><tr><th>32</th><td>Region B</td><td>2021</td><td>2</td><td>OPERATING_EXPENSES</td><td>OTHERS</td><td>New York</td><td>USD 3924.49 million</td></tr><tr><th>33</th><td>Region B</td><td>2021</td><td>2</td><td>NON-OPERATING_EXPENSES</td><td>BUSINESS</td><td>Cleveland</td><td>USD 5229.43 million</td></tr><tr><th>34</th><td>Region B</td><td>2021</td><td>2</td><td>NON-OPERATING_EXPENSES</td><td>OTHERS</td><td>Cleveland</td><td>USD 4697.11 million</td></tr><tr><th>35</th><td>Region B</td><td>2021</td><td>2</td><td>OPERATING_EXPENSES</td><td>BUSINESS</td><td>Chicago</td><td>USD 3353.08 million</td></tr><tr><th>36</th><td>Region B</td><td>2021</td><td>2</td><td>OPERATING_EXPENSES</td><td>OTHERS</td><td>Dallas</td><td>USD 4196.53 million</td></tr><tr><th>37</th><td>Region B</td><td>2021</td><td>2</td><td>OPERATING_EXPENSES</td><td>HR</td><td>Kansas City</td><td>USD 3371.96 million</td></tr><tr><th>38</th><td>Region B</td><td>2021</td><td>2</td><td>NON-OPERATING_EXPENSES</td><td>IT</td><td>St. Louis</td><td>USD 4229.76 million</td></tr><tr><th>39</th><td>Region B</td><td>2021</td><td>2</td><td>NON-OPERATING_EXPENSES</td><td>HR</td><td>Boston</td><td>USD 4194.8 million</td></tr><tr><th>40</th><td>Region B</td><td>2021</td><td>2</td><td>NON-OPERATING_EXPENSES</td><td>OTHERS</td><td>New York</td><td>USD 4134.68 million</td></tr><tr><th>41</th><td>Region B</td><td>2021</td><td>2</td><td>NON-OPERATING_EXPENSES</td><td>OTHERS</td><td>San Francisco</td><td>USD 3652.64 million</td></tr><tr><th>42</th><td>Region B</td><td>2021</td><td>2</td><td>NON-OPERATING_EXPENSES</td><td>BUSINESS</td><td>Dallas</td><td>USD 4433.52 million</td></tr><tr><th>43</th><td>Region B</td><td>2021</td><td>2</td><td>OPERATING_EXPENSES</td><td>HR</td><td>St. Louis</td><td>USD 2940.35 million</td></tr><tr><th>44</th><td>Region B</td><td>2021</td><td>2</td><td>OPERATING_EXPENSES</td><td>BUSINESS</td><td>Richmond</td><td>USD 3208.9 million</td></tr><tr><th>45</th><td>Region B</td><td>2021</td><td>2</td><td>OPERATING_EXPENSES</td><td>HR</td><td>Minneapolis</td><td>USD 4088.17 million</td></tr><tr><th>46</th><td>Region B</td><td>2021</td><td>2</td><td>OPERATING_EXPENSES</td><td>BUSINESS</td><td>Minneapolis</td><td>USD 3509.06 million</td></tr><tr><th>47</th><td>Region B</td><td>2021</td><td>2</td><td>NON-OPERATING_EXPENSES</td><td>OTHERS</td><td>Chicago</td><td>USD 3174.83 million</td></tr><tr><th>48</th><td>Region B</td><td>2021</td><td>2</td><td>OPERATING_EXPENSES</td><td>IT</td><td>St. Louis</td><td>USD 3753.62 million</td></tr><tr><th>49</th><td>Region B</td><td>2021</td><td>2</td><td>NON-OPERATING_EXPENSES</td><td>HR</td><td>Cleveland</td><td>USD 4906.33 million</td></tr><tr><th>50</th><td>Region B</td><td>2021</td><td>2</td><td>OPERATING_EXPENSES</td><td>HR</td><td>Chicago</td><td>USD 3402.68 million</td></tr><tr><th>51</th><td>Region B</td><td>2021</td><td>2</td><td>OPERATING_EXPENSES</td><td>OTHERS</td><td>Kansas City</td><td>USD 5084.04 million</td></tr><tr><th>52</th><td>Region B</td><td>2021</td><td>2</td><td>NON-OPERATING_EXPENSES</td><td>SALES</td><td>Boston</td><td>USD 3873.67 million</td></tr><tr><th>53</th><td>Region B</td><td>2021</td><td>2</td><td>OPERATING_EXPENSES</td><td>HR</td><td>Philadelphia</td><td>USD 4052.49 million</td></tr><tr><th>54</th><td>Region B</td><td>2021</td><td>2</td><td>NON-OPERATING_EXPENSES</td><td>BUSINESS</td><td>St. Louis</td><td>USD 4156.68 million</td></tr><tr><th>55</th><td>Region B</td><td>2021</td><td>2</td><td>NON-OPERATING_EXPENSES</td><td>BUSINESS</td><td>Boston</td><td>USD 2852.89 million</td></tr><tr><th>56</th><td>Region B</td><td>2021</td><td>2</td><td>OPERATING_EXPENSES</td><td>IT</td><td>Boston</td><td>USD 4182.93 million</td></tr><tr><th>57</th><td>Region B</td><td>2021</td><td>2</td><td>NON-OPERATING_EXPENSES</td><td>IT</td><td>Dallas</td><td>USD 3785.25 million</td></tr><tr><th>58</th><td>Region B</td><td>2021</td><td>2</td><td>NON-OPERATING_EXPENSES</td><td>BUSINESS</td><td>Philadelphia</td><td>USD 3786.29 million</td></tr><tr><th>59</th><td>Region B</td><td>2021</td><td>2</td><td>NON-OPERATING_EXPENSES</td><td>SALES</td><td>Kansas City</td><td>USD 4299.75 million</td></tr><tr><th>60</th><td>Region B</td><td>2021</td><td>2</td><td>NON-OPERATING_EXPENSES</td><td>IT</td><td>Richmond</td><td>USD 3872.1 million</td></tr><tr><th>61</th><td>Region B</td><td>2021</td><td>2</td><td>NON-OPERATING_EXPENSES</td><td>SALES</td><td>Atlanta</td><td>USD 4327.87 million</td></tr><tr><th>62</th><td>Region B</td><td>2021</td><td>2</td><td>NON-OPERATING_EXPENSES</td><td>IT</td><td>Boston</td><td>USD 4085.18 million</td></tr><tr><th>63</th><td>Region B</td><td>2021</td><td>2</td><td>NON-OPERATING_EXPENSES</td><td>OTHERS</td><td>Philadelphia</td><td>USD 3549.56 million</td></tr><tr><th>64</th><td>Region B</td><td>2021</td><td>2</td><td>OPERATING_EXPENSES</td><td>OTHERS</td><td>Richmond</td><td>USD 4196.52 million</td></tr><tr><th>65</th><td>Region B</td><td>2021</td><td>2</td><td>OPERATING_EXPENSES</td><td>SALES</td><td>San Francisco</td><td>USD 3952.66 million</td></tr><tr><th>66</th><td>Region B</td><td>2021</td><td>2</td><td>NON-OPERATING_EXPENSES</td><td>IT</td><td>Minneapolis</td><td>USD 4103.66 million</td></tr><tr><th>67</th><td>Region B</td><td>2021</td><td>2</td><td>OPERATING_EXPENSES</td><td>BUSINESS</td><td>Philadelphia</td><td>USD 3931.35 million</td></tr><tr><th>68</th><td>Region B</td><td>2021</td><td>2</td><td>NON-OPERATING_EXPENSES</td><td>HR</td><td>Dallas</td><td>USD 3940.19 million</td></tr><tr><th>69</th><td>Region B</td><td>2021</td><td>2</td><td>NON-OPERATING_EXPENSES</td><td>BUSINESS</td><td>San Francisco</td><td>USD 3968.44 million</td></tr><tr><th>70</th><td>Region B</td><td>2021</td><td>2</td><td>NON-OPERATING_EXPENSES</td><td>SALES</td><td>New York</td><td>USD 3646.47 million</td></tr><tr><th>71</th><td>Region B</td><td>2021</td><td>2</td><td>NON-OPERATING_EXPENSES</td><td>HR</td><td>Philadelphia</td><td>USD 4291.44 million</td></tr><tr><th>72</th><td>Region B</td><td>2021</td><td>2</td><td>OPERATING_EXPENSES</td><td>BUSINESS</td><td>Boston</td><td>USD 3640.12 million</td></tr><tr><th>73</th><td>Region B</td><td>2021</td><td>2</td><td>NON-OPERATING_EXPENSES</td><td>OTHERS</td><td>Richmond</td><td>USD 4087.34 million</td></tr><tr><th>74</th><td>Region B</td><td>2021</td><td>2</td><td>NON-OPERATING_EXPENSES</td><td>BUSINESS</td><td>New York</td><td>USD 3435.19 million</td></tr><tr><th>75</th><td>Region B</td><td>2021</td><td>2</td><td>OPERATING_EXPENSES</td><td>OTHERS</td><td>Cleveland</td><td>USD 3904.54 million</td></tr><tr><th>76</th><td>Region B</td><td>2021</td><td>2</td><td>NON-OPERATING_EXPENSES</td><td>OTHERS</td><td>Minneapolis</td><td>USD 3202.41 million</td></tr><tr><th>77</th><td>Region B</td><td>2021</td><td>2</td><td>NON-OPERATING_EXPENSES</td><td>IT</td><td>Philadelphia</td><td>USD 4750.94 million</td></tr><tr><th>78</th><td>Region B</td><td>2021</td><td>2</td><td>OPERATING_EXPENSES</td><td>SALES</td><td>Cleveland</td><td>USD 3913.3 million</td></tr><tr><th>79</th><td>Region B</td><td>2021</td><td>2</td><td>OPERATING_EXPENSES</td><td>BUSINESS</td><td>New York</td><td>USD 3859.61 million</td></tr><tr><th>80</th><td>Region B</td><td>2021</td><td>2</td><td>NON-OPERATING_EXPENSES</td><td>SALES</td><td>San Francisco</td><td>USD 3354.34 million</td></tr><tr><th>81</th><td>Region B</td><td>2021</td><td>2</td><td>OPERATING_EXPENSES</td><td>IT</td><td>Richmond</td><td>USD 3910.95 million</td></tr><tr><th>82</th><td>Region B</td><td>2021</td><td>2</td><td>OPERATING_EXPENSES</td><td>IT</td><td>Dallas</td><td>USD 3638.51 million</td></tr><tr><th>83</th><td>Region B</td><td>2021</td><td>2</td><td>NON-OPERATING_EXPENSES</td><td>IT</td><td>New York</td><td>USD 3756.12 million</td></tr><tr><th>84</th><td>Region B</td><td>2021</td><td>2</td><td>OPERATING_EXPENSES</td><td>IT</td><td>New York</td><td>USD 3754.5 million</td></tr><tr><th>85</th><td>Region B</td><td>2021</td><td>2</td><td>OPERATING_EXPENSES</td><td>SALES</td><td>Chicago</td><td>USD 3874.19 million</td></tr><tr><th>86</th><td>Region B</td><td>2021</td><td>2</td><td>OPERATING_EXPENSES</td><td>HR</td><td>Boston</td><td>USD 3864.05 million</td></tr><tr><th>87</th><td>Region B</td><td>2021</td><td>2</td><td>OPERATING_EXPENSES</td><td>HR</td><td>Dallas</td><td>USD 3840.72 million</td></tr><tr><th>88</th><td>Region B</td><td>2021</td><td>2</td><td>NON-OPERATING_EXPENSES</td><td>IT</td><td>Kansas City</td><td>USD 4006.44 million</td></tr><tr><th>89</th><td>Region B</td><td>2021</td><td>2</td><td>OPERATING_EXPENSES</td><td>BUSINESS</td><td>Dallas</td><td>USD 3458.77 million</td></tr><tr><th>90</th><td>Region B</td><td>2021</td><td>2</td><td>OPERATING_EXPENSES</td><td>IT</td><td>Minneapolis</td><td>USD 4582.68 million</td></tr><tr><th>91</th><td>Region B</td><td>2021</td><td>2</td><td>OPERATING_EXPENSES</td><td>HR</td><td>Cleveland</td><td>USD 3614.93 million</td></tr><tr><th>92</th><td>Region B</td><td>2021</td><td>2</td><td>OPERATING_EXPENSES</td><td>OTHERS</td><td>Atlanta</td><td>USD 3828.67 million</td></tr><tr><th>93</th><td>Region B</td><td>2021</td><td>2</td><td>OPERATING_EXPENSES</td><td>BUSINESS</td><td>San Francisco</td><td>USD 3644.08 million</td></tr><tr><th>94</th><td>Region B</td><td>2021</td><td>2</td><td>NON-OPERATING_EXPENSES</td><td>OTHERS</td><td>St. Louis</td><td>USD 3616.26 million</td></tr><tr><th>95</th><td>Region B</td><td>2021</td><td>2</td><td>OPERATING_EXPENSES</td><td>HR</td><td>New York</td><td>USD 4176.41 million</td></tr><tr><th>96</th><td>Region B</td><td>2021</td><td>2</td><td>OPERATING_EXPENSES</td><td>SALES</td><td>St. Louis</td><td>USD 3355.44 million</td></tr><tr><th>97</th><td>Region B</td><td>2021</td><td>2</td><td>OPERATING_EXPENSES</td><td>SALES</td><td>New York</td><td>USD 3358.87 million</td></tr><tr><th>98</th><td>Region B</td><td>2021</td><td>2</td><td>NON-OPERATING_EXPENSES</td><td>HR</td><td>St. Louis</td><td>USD 4208.25 million</td></tr><tr><th>99</th><td>Region B</td><td>2021</td><td>2</td><td>OPERATING_EXPENSES</td><td>IT</td><td>Atlanta</td><td>USD 4744.26 million</td></tr><tr><th>100</th><td>Region B</td><td>2021</td><td>2</td><td>OPERATING_EXPENSES</td><td>SALES</td><td>Richmond</td><td>USD 3400.41 million</td></tr><tr><th>101</th><td>Region B</td><td>2021</td><td>2</td><td>OPERATING_EXPENSES</td><td>IT</td><td>Cleveland</td><td>USD 3533.37 million</td></tr><tr><th>102</th><td>Region B</td><td>2021</td><td>2</td><td>NON-OPERATING_EXPENSES</td><td>SALES</td><td>Minneapolis</td><td>USD 3847.42 million</td></tr><tr><th>103</th><td>Region B</td><td>2021</td><td>2</td><td>NON-OPERATING_EXPENSES</td><td>IT</td><td>Chicago</td><td>USD 3302.56 million</td></tr><tr><th>104</th><td>Region B</td><td>2021</td><td>2</td><td>OPERATING_EXPENSES</td><td>OTHERS</td><td>Boston</td><td>USD 3400.47 million</td></tr><tr><th>105</th><td>Region B</td><td>2021</td><td>2</td><td>NON-OPERATING_EXPENSES</td><td>HR</td><td>New York</td><td>USD 3341.5 million</td></tr><tr><th>106</th><td>Region B</td><td>2021</td><td>2</td><td>NON-OPERATING_EXPENSES</td><td>HR</td><td>Richmond</td><td>USD 3762.4 million</td></tr><tr><th>107</th><td>Region B</td><td>2021</td><td>2</td><td>NON-OPERATING_EXPENSES</td><td>BUSINESS</td><td>Minneapolis</td><td>USD 3918.28 million</td></tr><tr><th>108</th><td>Region B</td><td>2021</td><td>2</td><td>NON-OPERATING_EXPENSES</td><td>HR</td><td>Kansas City</td><td>USD 3928.57 million</td></tr><tr><th>109</th><td>Region B</td><td>2021</td><td>2</td><td>NON-OPERATING_EXPENSES</td><td>BUSINESS</td><td>Kansas City</td><td>USD 4498.11 million</td></tr><tr><th>110</th><td>Region B</td><td>2021</td><td>2</td><td>OPERATING_EXPENSES</td><td>IT</td><td>Chicago</td><td>USD 4065.66 million</td></tr><tr><th>111</th><td>Region B</td><td>2021</td><td>2</td><td>OPERATING_EXPENSES</td><td>IT</td><td>Philadelphia</td><td>USD 3674.19 million</td></tr><tr><th>112</th><td>Region B</td><td>2021</td><td>2</td><td>OPERATING_EXPENSES</td><td>HR</td><td>San Francisco</td><td>USD 3337.98 million</td></tr><tr><th>113</th><td>Region B</td><td>2021</td><td>2</td><td>OPERATING_EXPENSES</td><td>HR</td><td>Richmond</td><td>USD 3776.64 million</td></tr><tr><th>114</th><td>Region B</td><td>2021</td><td>2</td><td>NON-OPERATING_EXPENSES</td><td>BUSINESS</td><td>Atlanta</td><td>USD 4508.29 million</td></tr><tr><th>115</th><td>Region B</td><td>2021</td><td>2</td><td>OPERATING_EXPENSES</td><td>SALES</td><td>Atlanta</td><td>USD 3592.17 million</td></tr><tr><th>116</th><td>Region B</td><td>2021</td><td>2</td><td>OPERATING_EXPENSES</td><td>OTHERS</td><td>San Francisco</td><td>USD 3089.01 million</td></tr><tr><th>117</th><td>Region B</td><td>2021</td><td>2</td><td>NON-OPERATING_EXPENSES</td><td>HR</td><td>Atlanta</td><td>USD 3858.73 million</td></tr><tr><th>118</th><td>Region B</td><td>2021</td><td>2</td><td>OPERATING_EXPENSES</td><td>SALES</td><td>Minneapolis</td><td>USD 4179.07 million</td></tr><tr><th>119</th><td>Region B</td><td>2021</td><td>2</td><td>OPERATING_EXPENSES</td><td>SALES</td><td>Dallas</td><td>USD 3356.67 million</td></tr><tr><th>120</th><td>Region B</td><td>2021</td><td>2</td><td>NON-OPERATING_EXPENSES</td><td>SALES</td><td>Cleveland</td><td>USD 4432.2 million</td></tr></tbody></table></div>"
               },
               "type": "node"
              }
             ],
             "instanceArgs": {
              "namespace": "html",
              "tag": "div"
             },
             "nodeType": "DOM",
             "props": {
              "className": "interact-flex-row interact-widget"
             },
             "type": "node"
            }
           }
          },
          "systemjs_options": null
         },
         "nodeType": "Scope",
         "props": {},
         "type": "node"
        }
       ],
       "instanceArgs": {
        "namespace": "html",
        "tag": "div"
       },
       "nodeType": "DOM",
       "props": {},
       "type": "node"
      },
      "text/html": [
       "<div\n",
       "    class=\"webio-mountpoint\"\n",
       "    data-webio-mountpoint=\"9481792383185514500\"\n",
       ">\n",
       "    <script>\n",
       "    (function(){\n",
       "    // Some integrations (namely, IJulia/Jupyter) use an alternate render pathway than\n",
       "    // just putting the html on the page. If WebIO isn't defined, then it's pretty likely\n",
       "    // that we're in one of those situations and the integration just isn't installed\n",
       "    // correctly.\n",
       "    if (typeof window.WebIO === \"undefined\") {\n",
       "        document\n",
       "            .querySelector('[data-webio-mountpoint=\"9481792383185514500\"]')\n",
       "            .innerHTML = (\n",
       "                '<div style=\"padding: 1em; background-color: #f8d6da; border: 1px solid #f5c6cb; font-weight: bold;\">' +\n",
       "                '<p><strong>WebIO not detected.</strong></p>' +\n",
       "                '<p>Please read ' +\n",
       "                '<a href=\"https://juliagizmos.github.io/WebIO.jl/latest/troubleshooting/not-detected/\" target=\"_blank\">the troubleshooting guide</a> ' +\n",
       "                'for more information on how to resolve this issue.</p>' +\n",
       "                '<p><a href=\"https://juliagizmos.github.io/WebIO.jl/latest/troubleshooting/not-detected/\" target=\"_blank\">https://juliagizmos.github.io/WebIO.jl/latest/troubleshooting/not-detected/</a></p>' +\n",
       "                '</div>'\n",
       "            );\n",
       "        return;\n",
       "    }\n",
       "    WebIO.mount(\n",
       "        document.querySelector('[data-webio-mountpoint=\"9481792383185514500\"]'),\n",
       "        {\"props\":{},\"nodeType\":\"DOM\",\"type\":\"node\",\"instanceArgs\":{\"namespace\":\"html\",\"tag\":\"div\"},\"children\":[{\"props\":{\"className\":\"interact-widget\"},\"nodeType\":\"DOM\",\"type\":\"node\",\"instanceArgs\":{\"namespace\":\"html\",\"tag\":\"div\"},\"children\":[{\"props\":{},\"nodeType\":\"Scope\",\"type\":\"node\",\"instanceArgs\":{\"imports\":{\"data\":[{\"name\":\"knockout\",\"type\":\"js\",\"url\":\"\\/assetserver\\/7adbe83fac1553325d6e718d595ab555e1cabbe4-knockout.js\"},{\"name\":\"knockout_punches\",\"type\":\"js\",\"url\":\"\\/assetserver\\/cec8c4de011abc05b545afbaaea4bb4465a1f168-knockout_punches.js\"},{\"name\":null,\"type\":\"js\",\"url\":\"\\/assetserver\\/5ddeec2b33e792dac4326b9b8929eb841863a558-all.js\"},{\"name\":null,\"type\":\"css\",\"url\":\"\\/assetserver\\/a04b7b754438af5b294cd7f1d762c01dae6fade5-style.css\"},{\"name\":null,\"type\":\"css\",\"url\":\"\\/assetserver\\/50b13cf07303023836f4115fe93a8fe3eca4721a-bulma_confined.min.css\"}],\"type\":\"async_block\"},\"id\":\"2261378954612424764\",\"handlers\":{\"options_js\":[\"(function (val){return (val!=this.model[\\\"options_js\\\"]()) ? (this.valueFromJulia[\\\"options_js\\\"]=true, this.model[\\\"options_js\\\"](val)) : undefined})\"],\"index\":[\"(function (val){return (val!=this.model[\\\"index\\\"]()) ? (this.valueFromJulia[\\\"index\\\"]=true, this.model[\\\"index\\\"](val)) : undefined})\"]},\"systemjs_options\":null,\"mount_callbacks\":[\"function () {\\n    var handler = (function (ko, koPunches) {\\n    ko.punches.enableAll();\\n    ko.bindingHandlers.numericValue = {\\n        init: function(element, valueAccessor, allBindings, data, context) {\\n            var stringified = ko.observable(ko.unwrap(valueAccessor()));\\n            stringified.subscribe(function(value) {\\n                var val = parseFloat(value);\\n                if (!isNaN(val)) {\\n                    valueAccessor()(val);\\n                }\\n            });\\n            valueAccessor().subscribe(function(value) {\\n                var str = JSON.stringify(value);\\n                if ((str == \\\"0\\\") && ([\\\"-0\\\", \\\"-0.\\\"].indexOf(stringified()) >= 0))\\n                     return;\\n                 if ([\\\"null\\\", \\\"\\\"].indexOf(str) >= 0)\\n                     return;\\n                stringified(str);\\n            });\\n            ko.applyBindingsToNode(\\n                element,\\n                {\\n                    value: stringified,\\n                    valueUpdate: allBindings.get('valueUpdate'),\\n                },\\n                context,\\n            );\\n        }\\n    };\\n    var json_data = {\\\"options_js\\\":WebIO.getval({\\\"name\\\":\\\"options_js\\\",\\\"scope\\\":\\\"2261378954612424764\\\",\\\"id\\\":\\\"2544271647740361144\\\",\\\"type\\\":\\\"observable\\\"}),\\\"index\\\":WebIO.getval({\\\"name\\\":\\\"index\\\",\\\"scope\\\":\\\"2261378954612424764\\\",\\\"id\\\":\\\"12385331690821543038\\\",\\\"type\\\":\\\"observable\\\"})};\\n    var self = this;\\n    function AppViewModel() {\\n        for (var key in json_data) {\\n            var el = json_data[key];\\n            this[key] = Array.isArray(el) ? ko.observableArray(el) : ko.observable(el);\\n        }\\n        [this[\\\"update\\\"]=function (val) {this.index(val)}]\\n        \\n        [this[\\\"options_js\\\"].subscribe((function (val){!(this.valueFromJulia[\\\"options_js\\\"]) ? (WebIO.setval({\\\"name\\\":\\\"options_js\\\",\\\"scope\\\":\\\"2261378954612424764\\\",\\\"id\\\":\\\"2544271647740361144\\\",\\\"type\\\":\\\"observable\\\"},val)) : undefined; return this.valueFromJulia[\\\"options_js\\\"]=false}),self),this[\\\"index\\\"].subscribe((function (val){!(this.valueFromJulia[\\\"index\\\"]) ? (WebIO.setval({\\\"name\\\":\\\"index\\\",\\\"scope\\\":\\\"2261378954612424764\\\",\\\"id\\\":\\\"12385331690821543038\\\",\\\"type\\\":\\\"observable\\\"},val)) : undefined; return this.valueFromJulia[\\\"index\\\"]=false}),self)]\\n        \\n    }\\n    self.model = new AppViewModel();\\n    self.valueFromJulia = {};\\n    for (var key in json_data) {\\n        self.valueFromJulia[key] = false;\\n    }\\n    ko.applyBindings(self.model, self.dom);\\n}\\n);\\n    (WebIO.importBlock({\\\"data\\\":[{\\\"name\\\":\\\"knockout\\\",\\\"type\\\":\\\"js\\\",\\\"url\\\":\\\"\\/assetserver\\/7adbe83fac1553325d6e718d595ab555e1cabbe4-knockout.js\\\"},{\\\"name\\\":\\\"knockout_punches\\\",\\\"type\\\":\\\"js\\\",\\\"url\\\":\\\"\\/assetserver\\/cec8c4de011abc05b545afbaaea4bb4465a1f168-knockout_punches.js\\\"}],\\\"type\\\":\\\"async_block\\\"})).then((imports) => handler.apply(this, imports));\\n}\\n\"],\"observables\":{\"options_js\":{\"sync\":false,\"id\":\"2544271647740361144\",\"value\":[{\"key\":\"Actuals\",\"val\":1,\"id\":\"idJjPv91r9\"},{\"key\":\"Budget\",\"val\":2,\"id\":\"iddxFNAGDn\"}]},\"index\":{\"sync\":true,\"id\":\"12385331690821543038\",\"value\":1}}},\"children\":[{\"props\":{\"className\":\"interact-flex-row interact-widget\"},\"nodeType\":\"DOM\",\"type\":\"node\",\"instanceArgs\":{\"namespace\":\"html\",\"tag\":\"div\"},\"children\":[{\"props\":{\"className\":\"interact-flex-row-left\"},\"nodeType\":\"DOM\",\"type\":\"node\",\"instanceArgs\":{\"namespace\":\"html\",\"tag\":\"div\"},\"children\":[{\"props\":{\"className\":\"interact \",\"style\":{\"padding\":\"5px 10px 0px 10px\"}},\"nodeType\":\"DOM\",\"type\":\"node\",\"instanceArgs\":{\"namespace\":\"html\",\"tag\":\"label\"},\"children\":[\"ld\"]}]},{\"props\":{\"className\":\"interact-flex-row-center\"},\"nodeType\":\"DOM\",\"type\":\"node\",\"instanceArgs\":{\"namespace\":\"html\",\"tag\":\"div\"},\"children\":[{\"props\":{\"attributes\":{\"data-bind\":\"foreach : options_js\"},\"className\":\"buttons has-addons is-centered\"},\"nodeType\":\"DOM\",\"type\":\"node\",\"instanceArgs\":{\"namespace\":\"html\",\"tag\":\"div\"},\"children\":[{\"props\":{\"attributes\":{\"data-bind\":\"click: function (){$root.update(val)}, css: {'is-primary is-selected' : $root.index() == val, 'interact-widget is-medium button ' : true}\"}},\"nodeType\":\"DOM\",\"type\":\"node\",\"instanceArgs\":{\"namespace\":\"html\",\"tag\":\"span\"},\"children\":[{\"props\":{\"attributes\":{\"data-bind\":\"text : key\"}},\"nodeType\":\"DOM\",\"type\":\"node\",\"instanceArgs\":{\"namespace\":\"html\",\"tag\":\"label\"},\"children\":[]}]}]}]},{\"props\":{\"className\":\"interact-flex-row-right\"},\"nodeType\":\"DOM\",\"type\":\"node\",\"instanceArgs\":{\"namespace\":\"html\",\"tag\":\"div\"},\"children\":[{\"props\":{},\"nodeType\":\"DOM\",\"type\":\"node\",\"instanceArgs\":{\"namespace\":\"html\",\"tag\":\"div\"},\"children\":[]}]}]}]}]},{\"props\":{\"className\":\"interact-widget\"},\"nodeType\":\"DOM\",\"type\":\"node\",\"instanceArgs\":{\"namespace\":\"html\",\"tag\":\"div\"},\"children\":[{\"props\":{},\"nodeType\":\"Scope\",\"type\":\"node\",\"instanceArgs\":{\"imports\":{\"data\":[{\"name\":\"knockout\",\"type\":\"js\",\"url\":\"\\/assetserver\\/7adbe83fac1553325d6e718d595ab555e1cabbe4-knockout.js\"},{\"name\":\"knockout_punches\",\"type\":\"js\",\"url\":\"\\/assetserver\\/cec8c4de011abc05b545afbaaea4bb4465a1f168-knockout_punches.js\"},{\"name\":null,\"type\":\"js\",\"url\":\"\\/assetserver\\/5ddeec2b33e792dac4326b9b8929eb841863a558-all.js\"},{\"name\":null,\"type\":\"css\",\"url\":\"\\/assetserver\\/a04b7b754438af5b294cd7f1d762c01dae6fade5-style.css\"},{\"name\":null,\"type\":\"css\",\"url\":\"\\/assetserver\\/50b13cf07303023836f4115fe93a8fe3eca4721a-bulma_confined.min.css\"}],\"type\":\"async_block\"},\"id\":\"4919382983103673781\",\"handlers\":{\"options_js\":[\"(function (val){return (val!=this.model[\\\"options_js\\\"]()) ? (this.valueFromJulia[\\\"options_js\\\"]=true, this.model[\\\"options_js\\\"](val)) : undefined})\"],\"index\":[\"(function (val){return (val!=this.model[\\\"index\\\"]()) ? (this.valueFromJulia[\\\"index\\\"]=true, this.model[\\\"index\\\"](val)) : undefined})\"]},\"systemjs_options\":null,\"mount_callbacks\":[\"function () {\\n    var handler = (function (ko, koPunches) {\\n    ko.punches.enableAll();\\n    ko.bindingHandlers.numericValue = {\\n        init: function(element, valueAccessor, allBindings, data, context) {\\n            var stringified = ko.observable(ko.unwrap(valueAccessor()));\\n            stringified.subscribe(function(value) {\\n                var val = parseFloat(value);\\n                if (!isNaN(val)) {\\n                    valueAccessor()(val);\\n                }\\n            });\\n            valueAccessor().subscribe(function(value) {\\n                var str = JSON.stringify(value);\\n                if ((str == \\\"0\\\") && ([\\\"-0\\\", \\\"-0.\\\"].indexOf(stringified()) >= 0))\\n                     return;\\n                 if ([\\\"null\\\", \\\"\\\"].indexOf(str) >= 0)\\n                     return;\\n                stringified(str);\\n            });\\n            ko.applyBindingsToNode(\\n                element,\\n                {\\n                    value: stringified,\\n                    valueUpdate: allBindings.get('valueUpdate'),\\n                },\\n                context,\\n            );\\n        }\\n    };\\n    var json_data = {\\\"options_js\\\":WebIO.getval({\\\"name\\\":\\\"options_js\\\",\\\"scope\\\":\\\"4919382983103673781\\\",\\\"id\\\":\\\"6136292950278674771\\\",\\\"type\\\":\\\"observable\\\"}),\\\"index\\\":WebIO.getval({\\\"name\\\":\\\"index\\\",\\\"scope\\\":\\\"4919382983103673781\\\",\\\"id\\\":\\\"5807017233678098585\\\",\\\"type\\\":\\\"observable\\\"})};\\n    var self = this;\\n    function AppViewModel() {\\n        for (var key in json_data) {\\n            var el = json_data[key];\\n            this[key] = Array.isArray(el) ? ko.observableArray(el) : ko.observable(el);\\n        }\\n        [this[\\\"update\\\"]=function (val) {this.index(val)}]\\n        \\n        [this[\\\"options_js\\\"].subscribe((function (val){!(this.valueFromJulia[\\\"options_js\\\"]) ? (WebIO.setval({\\\"name\\\":\\\"options_js\\\",\\\"scope\\\":\\\"4919382983103673781\\\",\\\"id\\\":\\\"6136292950278674771\\\",\\\"type\\\":\\\"observable\\\"},val)) : undefined; return this.valueFromJulia[\\\"options_js\\\"]=false}),self),this[\\\"index\\\"].subscribe((function (val){!(this.valueFromJulia[\\\"index\\\"]) ? (WebIO.setval({\\\"name\\\":\\\"index\\\",\\\"scope\\\":\\\"4919382983103673781\\\",\\\"id\\\":\\\"5807017233678098585\\\",\\\"type\\\":\\\"observable\\\"},val)) : undefined; return this.valueFromJulia[\\\"index\\\"]=false}),self)]\\n        \\n    }\\n    self.model = new AppViewModel();\\n    self.valueFromJulia = {};\\n    for (var key in json_data) {\\n        self.valueFromJulia[key] = false;\\n    }\\n    ko.applyBindings(self.model, self.dom);\\n}\\n);\\n    (WebIO.importBlock({\\\"data\\\":[{\\\"name\\\":\\\"knockout\\\",\\\"type\\\":\\\"js\\\",\\\"url\\\":\\\"\\/assetserver\\/7adbe83fac1553325d6e718d595ab555e1cabbe4-knockout.js\\\"},{\\\"name\\\":\\\"knockout_punches\\\",\\\"type\\\":\\\"js\\\",\\\"url\\\":\\\"\\/assetserver\\/cec8c4de011abc05b545afbaaea4bb4465a1f168-knockout_punches.js\\\"}],\\\"type\\\":\\\"async_block\\\"})).then((imports) => handler.apply(this, imports));\\n}\\n\"],\"observables\":{\"options_js\":{\"sync\":false,\"id\":\"6136292950278674771\",\"value\":[{\"key\":\"Region B\",\"val\":1,\"id\":\"idR4fSXhN8\"},{\"key\":\"Region C\",\"val\":2,\"id\":\"idVryIOYba\"},{\"key\":\"Region A\",\"val\":3,\"id\":\"idp2k6oJKx\"}]},\"index\":{\"sync\":true,\"id\":\"5807017233678098585\",\"value\":1}}},\"children\":[{\"props\":{\"className\":\"interact-flex-row interact-widget\"},\"nodeType\":\"DOM\",\"type\":\"node\",\"instanceArgs\":{\"namespace\":\"html\",\"tag\":\"div\"},\"children\":[{\"props\":{\"className\":\"interact-flex-row-left\"},\"nodeType\":\"DOM\",\"type\":\"node\",\"instanceArgs\":{\"namespace\":\"html\",\"tag\":\"div\"},\"children\":[{\"props\":{\"className\":\"interact \",\"style\":{\"padding\":\"5px 10px 0px 10px\"}},\"nodeType\":\"DOM\",\"type\":\"node\",\"instanceArgs\":{\"namespace\":\"html\",\"tag\":\"label\"},\"children\":[\"rg\"]}]},{\"props\":{\"className\":\"interact-flex-row-center\"},\"nodeType\":\"DOM\",\"type\":\"node\",\"instanceArgs\":{\"namespace\":\"html\",\"tag\":\"div\"},\"children\":[{\"props\":{\"attributes\":{\"data-bind\":\"foreach : options_js\"},\"className\":\"buttons has-addons is-centered\"},\"nodeType\":\"DOM\",\"type\":\"node\",\"instanceArgs\":{\"namespace\":\"html\",\"tag\":\"div\"},\"children\":[{\"props\":{\"attributes\":{\"data-bind\":\"click: function (){$root.update(val)}, css: {'is-primary is-selected' : $root.index() == val, 'interact-widget is-medium button ' : true}\"}},\"nodeType\":\"DOM\",\"type\":\"node\",\"instanceArgs\":{\"namespace\":\"html\",\"tag\":\"span\"},\"children\":[{\"props\":{\"attributes\":{\"data-bind\":\"text : key\"}},\"nodeType\":\"DOM\",\"type\":\"node\",\"instanceArgs\":{\"namespace\":\"html\",\"tag\":\"label\"},\"children\":[]}]}]}]},{\"props\":{\"className\":\"interact-flex-row-right\"},\"nodeType\":\"DOM\",\"type\":\"node\",\"instanceArgs\":{\"namespace\":\"html\",\"tag\":\"div\"},\"children\":[{\"props\":{},\"nodeType\":\"DOM\",\"type\":\"node\",\"instanceArgs\":{\"namespace\":\"html\",\"tag\":\"div\"},\"children\":[]}]}]}]}]},{\"props\":{\"className\":\"field interact-widget\"},\"nodeType\":\"DOM\",\"type\":\"node\",\"instanceArgs\":{\"namespace\":\"html\",\"tag\":\"div\"},\"children\":[{\"props\":{},\"nodeType\":\"Scope\",\"type\":\"node\",\"instanceArgs\":{\"imports\":{\"data\":[{\"name\":\"knockout\",\"type\":\"js\",\"url\":\"\\/assetserver\\/7adbe83fac1553325d6e718d595ab555e1cabbe4-knockout.js\"},{\"name\":\"knockout_punches\",\"type\":\"js\",\"url\":\"\\/assetserver\\/cec8c4de011abc05b545afbaaea4bb4465a1f168-knockout_punches.js\"},{\"name\":null,\"type\":\"js\",\"url\":\"\\/assetserver\\/5ddeec2b33e792dac4326b9b8929eb841863a558-all.js\"},{\"name\":null,\"type\":\"css\",\"url\":\"\\/assetserver\\/a04b7b754438af5b294cd7f1d762c01dae6fade5-style.css\"},{\"name\":null,\"type\":\"css\",\"url\":\"\\/assetserver\\/50b13cf07303023836f4115fe93a8fe3eca4721a-bulma_confined.min.css\"}],\"type\":\"async_block\"},\"id\":\"16792730420982269183\",\"handlers\":{\"changes\":[\"(function (val){return (val!=this.model[\\\"changes\\\"]()) ? (this.valueFromJulia[\\\"changes\\\"]=true, this.model[\\\"changes\\\"](val)) : undefined})\"],\"index\":[\"(function (val){return (val!=this.model[\\\"index\\\"]()) ? (this.valueFromJulia[\\\"index\\\"]=true, this.model[\\\"index\\\"](val)) : undefined})\"]},\"systemjs_options\":null,\"mount_callbacks\":[\"function () {\\n    var handler = (function (ko, koPunches) {\\n    ko.punches.enableAll();\\n    ko.bindingHandlers.numericValue = {\\n        init: function(element, valueAccessor, allBindings, data, context) {\\n            var stringified = ko.observable(ko.unwrap(valueAccessor()));\\n            stringified.subscribe(function(value) {\\n                var val = parseFloat(value);\\n                if (!isNaN(val)) {\\n                    valueAccessor()(val);\\n                }\\n            });\\n            valueAccessor().subscribe(function(value) {\\n                var str = JSON.stringify(value);\\n                if ((str == \\\"0\\\") && ([\\\"-0\\\", \\\"-0.\\\"].indexOf(stringified()) >= 0))\\n                     return;\\n                 if ([\\\"null\\\", \\\"\\\"].indexOf(str) >= 0)\\n                     return;\\n                stringified(str);\\n            });\\n            ko.applyBindingsToNode(\\n                element,\\n                {\\n                    value: stringified,\\n                    valueUpdate: allBindings.get('valueUpdate'),\\n                },\\n                context,\\n            );\\n        }\\n    };\\n    var json_data = {\\\"formatted_vals\\\":[\\\"2020\\\",\\\"2021\\\",\\\"2022\\\"],\\\"changes\\\":WebIO.getval({\\\"name\\\":\\\"changes\\\",\\\"scope\\\":\\\"16792730420982269183\\\",\\\"id\\\":\\\"12427234278684348703\\\",\\\"type\\\":\\\"observable\\\"}),\\\"index\\\":WebIO.getval({\\\"name\\\":\\\"index\\\",\\\"scope\\\":\\\"16792730420982269183\\\",\\\"id\\\":\\\"8490942467846750800\\\",\\\"type\\\":\\\"observable\\\"})};\\n    var self = this;\\n    function AppViewModel() {\\n        for (var key in json_data) {\\n            var el = json_data[key];\\n            this[key] = Array.isArray(el) ? ko.observableArray(el) : ko.observable(el);\\n        }\\n        \\n        [this[\\\"formatted_val\\\"]=ko.computed(    function(){\\n        return this.formatted_vals()[parseInt(this.index())-(1)];\\n    }\\n,this)]\\n        [this[\\\"changes\\\"].subscribe((function (val){!(this.valueFromJulia[\\\"changes\\\"]) ? (WebIO.setval({\\\"name\\\":\\\"changes\\\",\\\"scope\\\":\\\"16792730420982269183\\\",\\\"id\\\":\\\"12427234278684348703\\\",\\\"type\\\":\\\"observable\\\"},val)) : undefined; return this.valueFromJulia[\\\"changes\\\"]=false}),self),this[\\\"index\\\"].subscribe((function (val){!(this.valueFromJulia[\\\"index\\\"]) ? (WebIO.setval({\\\"name\\\":\\\"index\\\",\\\"scope\\\":\\\"16792730420982269183\\\",\\\"id\\\":\\\"8490942467846750800\\\",\\\"type\\\":\\\"observable\\\"},val)) : undefined; return this.valueFromJulia[\\\"index\\\"]=false}),self)]\\n        \\n    }\\n    self.model = new AppViewModel();\\n    self.valueFromJulia = {};\\n    for (var key in json_data) {\\n        self.valueFromJulia[key] = false;\\n    }\\n    ko.applyBindings(self.model, self.dom);\\n}\\n);\\n    (WebIO.importBlock({\\\"data\\\":[{\\\"name\\\":\\\"knockout\\\",\\\"type\\\":\\\"js\\\",\\\"url\\\":\\\"\\/assetserver\\/7adbe83fac1553325d6e718d595ab555e1cabbe4-knockout.js\\\"},{\\\"name\\\":\\\"knockout_punches\\\",\\\"type\\\":\\\"js\\\",\\\"url\\\":\\\"\\/assetserver\\/cec8c4de011abc05b545afbaaea4bb4465a1f168-knockout_punches.js\\\"}],\\\"type\\\":\\\"async_block\\\"})).then((imports) => handler.apply(this, imports));\\n}\\n\"],\"observables\":{\"changes\":{\"sync\":false,\"id\":\"12427234278684348703\",\"value\":0},\"index\":{\"sync\":true,\"id\":\"8490942467846750800\",\"value\":2}}},\"children\":[{\"props\":{\"className\":\"interact-flex-row interact-widget\"},\"nodeType\":\"DOM\",\"type\":\"node\",\"instanceArgs\":{\"namespace\":\"html\",\"tag\":\"div\"},\"children\":[{\"props\":{\"className\":\"interact-flex-row-left\"},\"nodeType\":\"DOM\",\"type\":\"node\",\"instanceArgs\":{\"namespace\":\"html\",\"tag\":\"div\"},\"children\":[{\"props\":{\"className\":\"interact \",\"style\":{\"padding\":\"5px 10px 0px 10px\"}},\"nodeType\":\"DOM\",\"type\":\"node\",\"instanceArgs\":{\"namespace\":\"html\",\"tag\":\"label\"},\"children\":[\"\"]}]},{\"props\":{\"className\":\"interact-flex-row-center\"},\"nodeType\":\"DOM\",\"type\":\"node\",\"instanceArgs\":{\"namespace\":\"html\",\"tag\":\"div\"},\"children\":[{\"props\":{\"max\":3,\"min\":1,\"attributes\":{\"type\":\"range\",\"data-bind\":\"numericValue: index, valueUpdate: 'input', event: {change: function (){this.changes(this.changes()+1)}}\",\"orient\":\"horizontal\"},\"step\":1,\"className\":\"slider slider is-fullwidth\",\"style\":{}},\"nodeType\":\"DOM\",\"type\":\"node\",\"instanceArgs\":{\"namespace\":\"html\",\"tag\":\"input\"},\"children\":[]}]},{\"props\":{\"className\":\"interact-flex-row-right\"},\"nodeType\":\"DOM\",\"type\":\"node\",\"instanceArgs\":{\"namespace\":\"html\",\"tag\":\"div\"},\"children\":[{\"props\":{\"attributes\":{\"data-bind\":\"text: formatted_val\"}},\"nodeType\":\"DOM\",\"type\":\"node\",\"instanceArgs\":{\"namespace\":\"html\",\"tag\":\"p\"},\"children\":[]}]}]}]}]},{\"props\":{\"className\":\"field interact-widget\"},\"nodeType\":\"DOM\",\"type\":\"node\",\"instanceArgs\":{\"namespace\":\"html\",\"tag\":\"div\"},\"children\":[{\"props\":{},\"nodeType\":\"Scope\",\"type\":\"node\",\"instanceArgs\":{\"imports\":{\"data\":[{\"name\":\"knockout\",\"type\":\"js\",\"url\":\"\\/assetserver\\/7adbe83fac1553325d6e718d595ab555e1cabbe4-knockout.js\"},{\"name\":\"knockout_punches\",\"type\":\"js\",\"url\":\"\\/assetserver\\/cec8c4de011abc05b545afbaaea4bb4465a1f168-knockout_punches.js\"},{\"name\":null,\"type\":\"js\",\"url\":\"\\/assetserver\\/5ddeec2b33e792dac4326b9b8929eb841863a558-all.js\"},{\"name\":null,\"type\":\"css\",\"url\":\"\\/assetserver\\/a04b7b754438af5b294cd7f1d762c01dae6fade5-style.css\"},{\"name\":null,\"type\":\"css\",\"url\":\"\\/assetserver\\/50b13cf07303023836f4115fe93a8fe3eca4721a-bulma_confined.min.css\"}],\"type\":\"async_block\"},\"id\":\"12598521052191129842\",\"handlers\":{\"changes\":[\"(function (val){return (val!=this.model[\\\"changes\\\"]()) ? (this.valueFromJulia[\\\"changes\\\"]=true, this.model[\\\"changes\\\"](val)) : undefined})\"],\"index\":[\"(function (val){return (val!=this.model[\\\"index\\\"]()) ? (this.valueFromJulia[\\\"index\\\"]=true, this.model[\\\"index\\\"](val)) : undefined})\"]},\"systemjs_options\":null,\"mount_callbacks\":[\"function () {\\n    var handler = (function (ko, koPunches) {\\n    ko.punches.enableAll();\\n    ko.bindingHandlers.numericValue = {\\n        init: function(element, valueAccessor, allBindings, data, context) {\\n            var stringified = ko.observable(ko.unwrap(valueAccessor()));\\n            stringified.subscribe(function(value) {\\n                var val = parseFloat(value);\\n                if (!isNaN(val)) {\\n                    valueAccessor()(val);\\n                }\\n            });\\n            valueAccessor().subscribe(function(value) {\\n                var str = JSON.stringify(value);\\n                if ((str == \\\"0\\\") && ([\\\"-0\\\", \\\"-0.\\\"].indexOf(stringified()) >= 0))\\n                     return;\\n                 if ([\\\"null\\\", \\\"\\\"].indexOf(str) >= 0)\\n                     return;\\n                stringified(str);\\n            });\\n            ko.applyBindingsToNode(\\n                element,\\n                {\\n                    value: stringified,\\n                    valueUpdate: allBindings.get('valueUpdate'),\\n                },\\n                context,\\n            );\\n        }\\n    };\\n    var json_data = {\\\"formatted_vals\\\":[\\\"1\\\",\\\"2\\\",\\\"3\\\",\\\"4\\\"],\\\"changes\\\":WebIO.getval({\\\"name\\\":\\\"changes\\\",\\\"scope\\\":\\\"12598521052191129842\\\",\\\"id\\\":\\\"13247058572826997135\\\",\\\"type\\\":\\\"observable\\\"}),\\\"index\\\":WebIO.getval({\\\"name\\\":\\\"index\\\",\\\"scope\\\":\\\"12598521052191129842\\\",\\\"id\\\":\\\"16408192323489538202\\\",\\\"type\\\":\\\"observable\\\"})};\\n    var self = this;\\n    function AppViewModel() {\\n        for (var key in json_data) {\\n            var el = json_data[key];\\n            this[key] = Array.isArray(el) ? ko.observableArray(el) : ko.observable(el);\\n        }\\n        \\n        [this[\\\"formatted_val\\\"]=ko.computed(    function(){\\n        return this.formatted_vals()[parseInt(this.index())-(1)];\\n    }\\n,this)]\\n        [this[\\\"changes\\\"].subscribe((function (val){!(this.valueFromJulia[\\\"changes\\\"]) ? (WebIO.setval({\\\"name\\\":\\\"changes\\\",\\\"scope\\\":\\\"12598521052191129842\\\",\\\"id\\\":\\\"13247058572826997135\\\",\\\"type\\\":\\\"observable\\\"},val)) : undefined; return this.valueFromJulia[\\\"changes\\\"]=false}),self),this[\\\"index\\\"].subscribe((function (val){!(this.valueFromJulia[\\\"index\\\"]) ? (WebIO.setval({\\\"name\\\":\\\"index\\\",\\\"scope\\\":\\\"12598521052191129842\\\",\\\"id\\\":\\\"16408192323489538202\\\",\\\"type\\\":\\\"observable\\\"},val)) : undefined; return this.valueFromJulia[\\\"index\\\"]=false}),self)]\\n        \\n    }\\n    self.model = new AppViewModel();\\n    self.valueFromJulia = {};\\n    for (var key in json_data) {\\n        self.valueFromJulia[key] = false;\\n    }\\n    ko.applyBindings(self.model, self.dom);\\n}\\n);\\n    (WebIO.importBlock({\\\"data\\\":[{\\\"name\\\":\\\"knockout\\\",\\\"type\\\":\\\"js\\\",\\\"url\\\":\\\"\\/assetserver\\/7adbe83fac1553325d6e718d595ab555e1cabbe4-knockout.js\\\"},{\\\"name\\\":\\\"knockout_punches\\\",\\\"type\\\":\\\"js\\\",\\\"url\\\":\\\"\\/assetserver\\/cec8c4de011abc05b545afbaaea4bb4465a1f168-knockout_punches.js\\\"}],\\\"type\\\":\\\"async_block\\\"})).then((imports) => handler.apply(this, imports));\\n}\\n\"],\"observables\":{\"changes\":{\"sync\":false,\"id\":\"13247058572826997135\",\"value\":0},\"index\":{\"sync\":true,\"id\":\"16408192323489538202\",\"value\":2}}},\"children\":[{\"props\":{\"className\":\"interact-flex-row interact-widget\"},\"nodeType\":\"DOM\",\"type\":\"node\",\"instanceArgs\":{\"namespace\":\"html\",\"tag\":\"div\"},\"children\":[{\"props\":{\"className\":\"interact-flex-row-left\"},\"nodeType\":\"DOM\",\"type\":\"node\",\"instanceArgs\":{\"namespace\":\"html\",\"tag\":\"div\"},\"children\":[{\"props\":{\"className\":\"interact \",\"style\":{\"padding\":\"5px 10px 0px 10px\"}},\"nodeType\":\"DOM\",\"type\":\"node\",\"instanceArgs\":{\"namespace\":\"html\",\"tag\":\"label\"},\"children\":[\"qtr\"]}]},{\"props\":{\"className\":\"interact-flex-row-center\"},\"nodeType\":\"DOM\",\"type\":\"node\",\"instanceArgs\":{\"namespace\":\"html\",\"tag\":\"div\"},\"children\":[{\"props\":{\"max\":4,\"min\":1,\"attributes\":{\"type\":\"range\",\"data-bind\":\"numericValue: index, valueUpdate: 'input', event: {change: function (){this.changes(this.changes()+1)}}\",\"orient\":\"horizontal\"},\"step\":1,\"className\":\"slider slider is-fullwidth\",\"style\":{}},\"nodeType\":\"DOM\",\"type\":\"node\",\"instanceArgs\":{\"namespace\":\"html\",\"tag\":\"input\"},\"children\":[]}]},{\"props\":{\"className\":\"interact-flex-row-right\"},\"nodeType\":\"DOM\",\"type\":\"node\",\"instanceArgs\":{\"namespace\":\"html\",\"tag\":\"div\"},\"children\":[{\"props\":{\"attributes\":{\"data-bind\":\"text: formatted_val\"}},\"nodeType\":\"DOM\",\"type\":\"node\",\"instanceArgs\":{\"namespace\":\"html\",\"tag\":\"p\"},\"children\":[]}]}]}]}]},{\"props\":{},\"nodeType\":\"Scope\",\"type\":\"node\",\"instanceArgs\":{\"imports\":{\"data\":[],\"type\":\"async_block\"},\"id\":\"15468039509089990972\",\"handlers\":{},\"systemjs_options\":null,\"mount_callbacks\":[],\"observables\":{\"obs-node\":{\"sync\":false,\"id\":\"16249139874664220326\",\"value\":{\"props\":{\"className\":\"interact-flex-row interact-widget\"},\"nodeType\":\"DOM\",\"type\":\"node\",\"instanceArgs\":{\"namespace\":\"html\",\"tag\":\"div\"},\"children\":[{\"props\":{\"setInnerHtml\":\"<div class=\\\"data-frame\\\"><p>120 rows × 7 columns<\\/p><table class=\\\"data-frame\\\"><thead><tr><th><\\/th><th>Org<\\/th><th>FY<\\/th><th>Qtr<\\/th><th>Accounts<\\/th><th>Dept<\\/th><th>Loc<\\/th><th>TOTAL<\\/th><\\/tr><tr><th><\\/th><th title=\\\"String\\\">String<\\/th><th title=\\\"Int64\\\">Int64<\\/th><th title=\\\"Int64\\\">Int64<\\/th><th title=\\\"String\\\">String<\\/th><th title=\\\"String\\\">String<\\/th><th title=\\\"String\\\">String<\\/th><th title=\\\"String\\\">String<\\/th><\\/tr><\\/thead><tbody><tr><th>1<\\/th><td>Region B<\\/td><td>2021<\\/td><td>2<\\/td><td>NON-OPERATING_EXPENSES<\\/td><td>IT<\\/td><td>San Francisco<\\/td><td>USD 4098.45 million<\\/td><\\/tr><tr><th>2<\\/th><td>Region B<\\/td><td>2021<\\/td><td>2<\\/td><td>OPERATING_EXPENSES<\\/td><td>OTHERS<\\/td><td>Philadelphia<\\/td><td>USD 3240.95 million<\\/td><\\/tr><tr><th>3<\\/th><td>Region B<\\/td><td>2021<\\/td><td>2<\\/td><td>OPERATING_EXPENSES<\\/td><td>SALES<\\/td><td>Boston<\\/td><td>USD 3734.55 million<\\/td><\\/tr><tr><th>4<\\/th><td>Region B<\\/td><td>2021<\\/td><td>2<\\/td><td>NON-OPERATING_EXPENSES<\\/td><td>IT<\\/td><td>Atlanta<\\/td><td>USD 4193.49 million<\\/td><\\/tr><tr><th>5<\\/th><td>Region B<\\/td><td>2021<\\/td><td>2<\\/td><td>NON-OPERATING_EXPENSES<\\/td><td>SALES<\\/td><td>Philadelphia<\\/td><td>USD 3618.04 million<\\/td><\\/tr><tr><th>6<\\/th><td>Region B<\\/td><td>2021<\\/td><td>2<\\/td><td>NON-OPERATING_EXPENSES<\\/td><td>BUSINESS<\\/td><td>Richmond<\\/td><td>USD 3192.46 million<\\/td><\\/tr><tr><th>7<\\/th><td>Region B<\\/td><td>2021<\\/td><td>2<\\/td><td>OPERATING_EXPENSES<\\/td><td>BUSINESS<\\/td><td>Atlanta<\\/td><td>USD 4143.11 million<\\/td><\\/tr><tr><th>8<\\/th><td>Region B<\\/td><td>2021<\\/td><td>2<\\/td><td>NON-OPERATING_EXPENSES<\\/td><td>BUSINESS<\\/td><td>Chicago<\\/td><td>USD 3963.0 million<\\/td><\\/tr><tr><th>9<\\/th><td>Region B<\\/td><td>2021<\\/td><td>2<\\/td><td>NON-OPERATING_EXPENSES<\\/td><td>SALES<\\/td><td>Dallas<\\/td><td>USD 4416.59 million<\\/td><\\/tr><tr><th>10<\\/th><td>Region B<\\/td><td>2021<\\/td><td>2<\\/td><td>OPERATING_EXPENSES<\\/td><td>BUSINESS<\\/td><td>Cleveland<\\/td><td>USD 3474.11 million<\\/td><\\/tr><tr><th>11<\\/th><td>Region B<\\/td><td>2021<\\/td><td>2<\\/td><td>NON-OPERATING_EXPENSES<\\/td><td>OTHERS<\\/td><td>Kansas City<\\/td><td>USD 3356.74 million<\\/td><\\/tr><tr><th>12<\\/th><td>Region B<\\/td><td>2021<\\/td><td>2<\\/td><td>NON-OPERATING_EXPENSES<\\/td><td>SALES<\\/td><td>Richmond<\\/td><td>USD 3591.01 million<\\/td><\\/tr><tr><th>13<\\/th><td>Region B<\\/td><td>2021<\\/td><td>2<\\/td><td>OPERATING_EXPENSES<\\/td><td>IT<\\/td><td>San Francisco<\\/td><td>USD 3240.61 million<\\/td><\\/tr><tr><th>14<\\/th><td>Region B<\\/td><td>2021<\\/td><td>2<\\/td><td>OPERATING_EXPENSES<\\/td><td>HR<\\/td><td>Atlanta<\\/td><td>USD 3766.31 million<\\/td><\\/tr><tr><th>15<\\/th><td>Region B<\\/td><td>2021<\\/td><td>2<\\/td><td>NON-OPERATING_EXPENSES<\\/td><td>OTHERS<\\/td><td>Boston<\\/td><td>USD 4688.84 million<\\/td><\\/tr><tr><th>16<\\/th><td>Region B<\\/td><td>2021<\\/td><td>2<\\/td><td>NON-OPERATING_EXPENSES<\\/td><td>SALES<\\/td><td>Chicago<\\/td><td>USD 4404.04 million<\\/td><\\/tr><tr><th>17<\\/th><td>Region B<\\/td><td>2021<\\/td><td>2<\\/td><td>OPERATING_EXPENSES<\\/td><td>BUSINESS<\\/td><td>Kansas City<\\/td><td>USD 3840.14 million<\\/td><\\/tr><tr><th>18<\\/th><td>Region B<\\/td><td>2021<\\/td><td>2<\\/td><td>OPERATING_EXPENSES<\\/td><td>IT<\\/td><td>Kansas City<\\/td><td>USD 3355.3 million<\\/td><\\/tr><tr><th>19<\\/th><td>Region B<\\/td><td>2021<\\/td><td>2<\\/td><td>OPERATING_EXPENSES<\\/td><td>OTHERS<\\/td><td>St. Louis<\\/td><td>USD 5139.69 million<\\/td><\\/tr><tr><th>20<\\/th><td>Region B<\\/td><td>2021<\\/td><td>2<\\/td><td>OPERATING_EXPENSES<\\/td><td>SALES<\\/td><td>Philadelphia<\\/td><td>USD 3656.95 million<\\/td><\\/tr><tr><th>21<\\/th><td>Region B<\\/td><td>2021<\\/td><td>2<\\/td><td>NON-OPERATING_EXPENSES<\\/td><td>HR<\\/td><td>Chicago<\\/td><td>USD 3165.89 million<\\/td><\\/tr><tr><th>22<\\/th><td>Region B<\\/td><td>2021<\\/td><td>2<\\/td><td>OPERATING_EXPENSES<\\/td><td>OTHERS<\\/td><td>Chicago<\\/td><td>USD 4933.75 million<\\/td><\\/tr><tr><th>23<\\/th><td>Region B<\\/td><td>2021<\\/td><td>2<\\/td><td>NON-OPERATING_EXPENSES<\\/td><td>HR<\\/td><td>Minneapolis<\\/td><td>USD 3559.91 million<\\/td><\\/tr><tr><th>24<\\/th><td>Region B<\\/td><td>2021<\\/td><td>2<\\/td><td>NON-OPERATING_EXPENSES<\\/td><td>OTHERS<\\/td><td>Dallas<\\/td><td>USD 4380.7 million<\\/td><\\/tr><tr><th>25<\\/th><td>Region B<\\/td><td>2021<\\/td><td>2<\\/td><td>NON-OPERATING_EXPENSES<\\/td><td>OTHERS<\\/td><td>Atlanta<\\/td><td>USD 3031.31 million<\\/td><\\/tr><tr><th>26<\\/th><td>Region B<\\/td><td>2021<\\/td><td>2<\\/td><td>OPERATING_EXPENSES<\\/td><td>SALES<\\/td><td>Kansas City<\\/td><td>USD 3904.91 million<\\/td><\\/tr><tr><th>27<\\/th><td>Region B<\\/td><td>2021<\\/td><td>2<\\/td><td>NON-OPERATING_EXPENSES<\\/td><td>SALES<\\/td><td>St. Louis<\\/td><td>USD 4446.03 million<\\/td><\\/tr><tr><th>28<\\/th><td>Region B<\\/td><td>2021<\\/td><td>2<\\/td><td>OPERATING_EXPENSES<\\/td><td>OTHERS<\\/td><td>Minneapolis<\\/td><td>USD 3189.43 million<\\/td><\\/tr><tr><th>29<\\/th><td>Region B<\\/td><td>2021<\\/td><td>2<\\/td><td>NON-OPERATING_EXPENSES<\\/td><td>HR<\\/td><td>San Francisco<\\/td><td>USD 4562.48 million<\\/td><\\/tr><tr><th>30<\\/th><td>Region B<\\/td><td>2021<\\/td><td>2<\\/td><td>NON-OPERATING_EXPENSES<\\/td><td>IT<\\/td><td>Cleveland<\\/td><td>USD 3821.77 million<\\/td><\\/tr><tr><th>31<\\/th><td>Region B<\\/td><td>2021<\\/td><td>2<\\/td><td>OPERATING_EXPENSES<\\/td><td>BUSINESS<\\/td><td>St. Louis<\\/td><td>USD 3782.8 million<\\/td><\\/tr><tr><th>32<\\/th><td>Region B<\\/td><td>2021<\\/td><td>2<\\/td><td>OPERATING_EXPENSES<\\/td><td>OTHERS<\\/td><td>New York<\\/td><td>USD 3924.49 million<\\/td><\\/tr><tr><th>33<\\/th><td>Region B<\\/td><td>2021<\\/td><td>2<\\/td><td>NON-OPERATING_EXPENSES<\\/td><td>BUSINESS<\\/td><td>Cleveland<\\/td><td>USD 5229.43 million<\\/td><\\/tr><tr><th>34<\\/th><td>Region B<\\/td><td>2021<\\/td><td>2<\\/td><td>NON-OPERATING_EXPENSES<\\/td><td>OTHERS<\\/td><td>Cleveland<\\/td><td>USD 4697.11 million<\\/td><\\/tr><tr><th>35<\\/th><td>Region B<\\/td><td>2021<\\/td><td>2<\\/td><td>OPERATING_EXPENSES<\\/td><td>BUSINESS<\\/td><td>Chicago<\\/td><td>USD 3353.08 million<\\/td><\\/tr><tr><th>36<\\/th><td>Region B<\\/td><td>2021<\\/td><td>2<\\/td><td>OPERATING_EXPENSES<\\/td><td>OTHERS<\\/td><td>Dallas<\\/td><td>USD 4196.53 million<\\/td><\\/tr><tr><th>37<\\/th><td>Region B<\\/td><td>2021<\\/td><td>2<\\/td><td>OPERATING_EXPENSES<\\/td><td>HR<\\/td><td>Kansas City<\\/td><td>USD 3371.96 million<\\/td><\\/tr><tr><th>38<\\/th><td>Region B<\\/td><td>2021<\\/td><td>2<\\/td><td>NON-OPERATING_EXPENSES<\\/td><td>IT<\\/td><td>St. Louis<\\/td><td>USD 4229.76 million<\\/td><\\/tr><tr><th>39<\\/th><td>Region B<\\/td><td>2021<\\/td><td>2<\\/td><td>NON-OPERATING_EXPENSES<\\/td><td>HR<\\/td><td>Boston<\\/td><td>USD 4194.8 million<\\/td><\\/tr><tr><th>40<\\/th><td>Region B<\\/td><td>2021<\\/td><td>2<\\/td><td>NON-OPERATING_EXPENSES<\\/td><td>OTHERS<\\/td><td>New York<\\/td><td>USD 4134.68 million<\\/td><\\/tr><tr><th>41<\\/th><td>Region B<\\/td><td>2021<\\/td><td>2<\\/td><td>NON-OPERATING_EXPENSES<\\/td><td>OTHERS<\\/td><td>San Francisco<\\/td><td>USD 3652.64 million<\\/td><\\/tr><tr><th>42<\\/th><td>Region B<\\/td><td>2021<\\/td><td>2<\\/td><td>NON-OPERATING_EXPENSES<\\/td><td>BUSINESS<\\/td><td>Dallas<\\/td><td>USD 4433.52 million<\\/td><\\/tr><tr><th>43<\\/th><td>Region B<\\/td><td>2021<\\/td><td>2<\\/td><td>OPERATING_EXPENSES<\\/td><td>HR<\\/td><td>St. Louis<\\/td><td>USD 2940.35 million<\\/td><\\/tr><tr><th>44<\\/th><td>Region B<\\/td><td>2021<\\/td><td>2<\\/td><td>OPERATING_EXPENSES<\\/td><td>BUSINESS<\\/td><td>Richmond<\\/td><td>USD 3208.9 million<\\/td><\\/tr><tr><th>45<\\/th><td>Region B<\\/td><td>2021<\\/td><td>2<\\/td><td>OPERATING_EXPENSES<\\/td><td>HR<\\/td><td>Minneapolis<\\/td><td>USD 4088.17 million<\\/td><\\/tr><tr><th>46<\\/th><td>Region B<\\/td><td>2021<\\/td><td>2<\\/td><td>OPERATING_EXPENSES<\\/td><td>BUSINESS<\\/td><td>Minneapolis<\\/td><td>USD 3509.06 million<\\/td><\\/tr><tr><th>47<\\/th><td>Region B<\\/td><td>2021<\\/td><td>2<\\/td><td>NON-OPERATING_EXPENSES<\\/td><td>OTHERS<\\/td><td>Chicago<\\/td><td>USD 3174.83 million<\\/td><\\/tr><tr><th>48<\\/th><td>Region B<\\/td><td>2021<\\/td><td>2<\\/td><td>OPERATING_EXPENSES<\\/td><td>IT<\\/td><td>St. Louis<\\/td><td>USD 3753.62 million<\\/td><\\/tr><tr><th>49<\\/th><td>Region B<\\/td><td>2021<\\/td><td>2<\\/td><td>NON-OPERATING_EXPENSES<\\/td><td>HR<\\/td><td>Cleveland<\\/td><td>USD 4906.33 million<\\/td><\\/tr><tr><th>50<\\/th><td>Region B<\\/td><td>2021<\\/td><td>2<\\/td><td>OPERATING_EXPENSES<\\/td><td>HR<\\/td><td>Chicago<\\/td><td>USD 3402.68 million<\\/td><\\/tr><tr><th>51<\\/th><td>Region B<\\/td><td>2021<\\/td><td>2<\\/td><td>OPERATING_EXPENSES<\\/td><td>OTHERS<\\/td><td>Kansas City<\\/td><td>USD 5084.04 million<\\/td><\\/tr><tr><th>52<\\/th><td>Region B<\\/td><td>2021<\\/td><td>2<\\/td><td>NON-OPERATING_EXPENSES<\\/td><td>SALES<\\/td><td>Boston<\\/td><td>USD 3873.67 million<\\/td><\\/tr><tr><th>53<\\/th><td>Region B<\\/td><td>2021<\\/td><td>2<\\/td><td>OPERATING_EXPENSES<\\/td><td>HR<\\/td><td>Philadelphia<\\/td><td>USD 4052.49 million<\\/td><\\/tr><tr><th>54<\\/th><td>Region B<\\/td><td>2021<\\/td><td>2<\\/td><td>NON-OPERATING_EXPENSES<\\/td><td>BUSINESS<\\/td><td>St. Louis<\\/td><td>USD 4156.68 million<\\/td><\\/tr><tr><th>55<\\/th><td>Region B<\\/td><td>2021<\\/td><td>2<\\/td><td>NON-OPERATING_EXPENSES<\\/td><td>BUSINESS<\\/td><td>Boston<\\/td><td>USD 2852.89 million<\\/td><\\/tr><tr><th>56<\\/th><td>Region B<\\/td><td>2021<\\/td><td>2<\\/td><td>OPERATING_EXPENSES<\\/td><td>IT<\\/td><td>Boston<\\/td><td>USD 4182.93 million<\\/td><\\/tr><tr><th>57<\\/th><td>Region B<\\/td><td>2021<\\/td><td>2<\\/td><td>NON-OPERATING_EXPENSES<\\/td><td>IT<\\/td><td>Dallas<\\/td><td>USD 3785.25 million<\\/td><\\/tr><tr><th>58<\\/th><td>Region B<\\/td><td>2021<\\/td><td>2<\\/td><td>NON-OPERATING_EXPENSES<\\/td><td>BUSINESS<\\/td><td>Philadelphia<\\/td><td>USD 3786.29 million<\\/td><\\/tr><tr><th>59<\\/th><td>Region B<\\/td><td>2021<\\/td><td>2<\\/td><td>NON-OPERATING_EXPENSES<\\/td><td>SALES<\\/td><td>Kansas City<\\/td><td>USD 4299.75 million<\\/td><\\/tr><tr><th>60<\\/th><td>Region B<\\/td><td>2021<\\/td><td>2<\\/td><td>NON-OPERATING_EXPENSES<\\/td><td>IT<\\/td><td>Richmond<\\/td><td>USD 3872.1 million<\\/td><\\/tr><tr><th>61<\\/th><td>Region B<\\/td><td>2021<\\/td><td>2<\\/td><td>NON-OPERATING_EXPENSES<\\/td><td>SALES<\\/td><td>Atlanta<\\/td><td>USD 4327.87 million<\\/td><\\/tr><tr><th>62<\\/th><td>Region B<\\/td><td>2021<\\/td><td>2<\\/td><td>NON-OPERATING_EXPENSES<\\/td><td>IT<\\/td><td>Boston<\\/td><td>USD 4085.18 million<\\/td><\\/tr><tr><th>63<\\/th><td>Region B<\\/td><td>2021<\\/td><td>2<\\/td><td>NON-OPERATING_EXPENSES<\\/td><td>OTHERS<\\/td><td>Philadelphia<\\/td><td>USD 3549.56 million<\\/td><\\/tr><tr><th>64<\\/th><td>Region B<\\/td><td>2021<\\/td><td>2<\\/td><td>OPERATING_EXPENSES<\\/td><td>OTHERS<\\/td><td>Richmond<\\/td><td>USD 4196.52 million<\\/td><\\/tr><tr><th>65<\\/th><td>Region B<\\/td><td>2021<\\/td><td>2<\\/td><td>OPERATING_EXPENSES<\\/td><td>SALES<\\/td><td>San Francisco<\\/td><td>USD 3952.66 million<\\/td><\\/tr><tr><th>66<\\/th><td>Region B<\\/td><td>2021<\\/td><td>2<\\/td><td>NON-OPERATING_EXPENSES<\\/td><td>IT<\\/td><td>Minneapolis<\\/td><td>USD 4103.66 million<\\/td><\\/tr><tr><th>67<\\/th><td>Region B<\\/td><td>2021<\\/td><td>2<\\/td><td>OPERATING_EXPENSES<\\/td><td>BUSINESS<\\/td><td>Philadelphia<\\/td><td>USD 3931.35 million<\\/td><\\/tr><tr><th>68<\\/th><td>Region B<\\/td><td>2021<\\/td><td>2<\\/td><td>NON-OPERATING_EXPENSES<\\/td><td>HR<\\/td><td>Dallas<\\/td><td>USD 3940.19 million<\\/td><\\/tr><tr><th>69<\\/th><td>Region B<\\/td><td>2021<\\/td><td>2<\\/td><td>NON-OPERATING_EXPENSES<\\/td><td>BUSINESS<\\/td><td>San Francisco<\\/td><td>USD 3968.44 million<\\/td><\\/tr><tr><th>70<\\/th><td>Region B<\\/td><td>2021<\\/td><td>2<\\/td><td>NON-OPERATING_EXPENSES<\\/td><td>SALES<\\/td><td>New York<\\/td><td>USD 3646.47 million<\\/td><\\/tr><tr><th>71<\\/th><td>Region B<\\/td><td>2021<\\/td><td>2<\\/td><td>NON-OPERATING_EXPENSES<\\/td><td>HR<\\/td><td>Philadelphia<\\/td><td>USD 4291.44 million<\\/td><\\/tr><tr><th>72<\\/th><td>Region B<\\/td><td>2021<\\/td><td>2<\\/td><td>OPERATING_EXPENSES<\\/td><td>BUSINESS<\\/td><td>Boston<\\/td><td>USD 3640.12 million<\\/td><\\/tr><tr><th>73<\\/th><td>Region B<\\/td><td>2021<\\/td><td>2<\\/td><td>NON-OPERATING_EXPENSES<\\/td><td>OTHERS<\\/td><td>Richmond<\\/td><td>USD 4087.34 million<\\/td><\\/tr><tr><th>74<\\/th><td>Region B<\\/td><td>2021<\\/td><td>2<\\/td><td>NON-OPERATING_EXPENSES<\\/td><td>BUSINESS<\\/td><td>New York<\\/td><td>USD 3435.19 million<\\/td><\\/tr><tr><th>75<\\/th><td>Region B<\\/td><td>2021<\\/td><td>2<\\/td><td>OPERATING_EXPENSES<\\/td><td>OTHERS<\\/td><td>Cleveland<\\/td><td>USD 3904.54 million<\\/td><\\/tr><tr><th>76<\\/th><td>Region B<\\/td><td>2021<\\/td><td>2<\\/td><td>NON-OPERATING_EXPENSES<\\/td><td>OTHERS<\\/td><td>Minneapolis<\\/td><td>USD 3202.41 million<\\/td><\\/tr><tr><th>77<\\/th><td>Region B<\\/td><td>2021<\\/td><td>2<\\/td><td>NON-OPERATING_EXPENSES<\\/td><td>IT<\\/td><td>Philadelphia<\\/td><td>USD 4750.94 million<\\/td><\\/tr><tr><th>78<\\/th><td>Region B<\\/td><td>2021<\\/td><td>2<\\/td><td>OPERATING_EXPENSES<\\/td><td>SALES<\\/td><td>Cleveland<\\/td><td>USD 3913.3 million<\\/td><\\/tr><tr><th>79<\\/th><td>Region B<\\/td><td>2021<\\/td><td>2<\\/td><td>OPERATING_EXPENSES<\\/td><td>BUSINESS<\\/td><td>New York<\\/td><td>USD 3859.61 million<\\/td><\\/tr><tr><th>80<\\/th><td>Region B<\\/td><td>2021<\\/td><td>2<\\/td><td>NON-OPERATING_EXPENSES<\\/td><td>SALES<\\/td><td>San Francisco<\\/td><td>USD 3354.34 million<\\/td><\\/tr><tr><th>81<\\/th><td>Region B<\\/td><td>2021<\\/td><td>2<\\/td><td>OPERATING_EXPENSES<\\/td><td>IT<\\/td><td>Richmond<\\/td><td>USD 3910.95 million<\\/td><\\/tr><tr><th>82<\\/th><td>Region B<\\/td><td>2021<\\/td><td>2<\\/td><td>OPERATING_EXPENSES<\\/td><td>IT<\\/td><td>Dallas<\\/td><td>USD 3638.51 million<\\/td><\\/tr><tr><th>83<\\/th><td>Region B<\\/td><td>2021<\\/td><td>2<\\/td><td>NON-OPERATING_EXPENSES<\\/td><td>IT<\\/td><td>New York<\\/td><td>USD 3756.12 million<\\/td><\\/tr><tr><th>84<\\/th><td>Region B<\\/td><td>2021<\\/td><td>2<\\/td><td>OPERATING_EXPENSES<\\/td><td>IT<\\/td><td>New York<\\/td><td>USD 3754.5 million<\\/td><\\/tr><tr><th>85<\\/th><td>Region B<\\/td><td>2021<\\/td><td>2<\\/td><td>OPERATING_EXPENSES<\\/td><td>SALES<\\/td><td>Chicago<\\/td><td>USD 3874.19 million<\\/td><\\/tr><tr><th>86<\\/th><td>Region B<\\/td><td>2021<\\/td><td>2<\\/td><td>OPERATING_EXPENSES<\\/td><td>HR<\\/td><td>Boston<\\/td><td>USD 3864.05 million<\\/td><\\/tr><tr><th>87<\\/th><td>Region B<\\/td><td>2021<\\/td><td>2<\\/td><td>OPERATING_EXPENSES<\\/td><td>HR<\\/td><td>Dallas<\\/td><td>USD 3840.72 million<\\/td><\\/tr><tr><th>88<\\/th><td>Region B<\\/td><td>2021<\\/td><td>2<\\/td><td>NON-OPERATING_EXPENSES<\\/td><td>IT<\\/td><td>Kansas City<\\/td><td>USD 4006.44 million<\\/td><\\/tr><tr><th>89<\\/th><td>Region B<\\/td><td>2021<\\/td><td>2<\\/td><td>OPERATING_EXPENSES<\\/td><td>BUSINESS<\\/td><td>Dallas<\\/td><td>USD 3458.77 million<\\/td><\\/tr><tr><th>90<\\/th><td>Region B<\\/td><td>2021<\\/td><td>2<\\/td><td>OPERATING_EXPENSES<\\/td><td>IT<\\/td><td>Minneapolis<\\/td><td>USD 4582.68 million<\\/td><\\/tr><tr><th>91<\\/th><td>Region B<\\/td><td>2021<\\/td><td>2<\\/td><td>OPERATING_EXPENSES<\\/td><td>HR<\\/td><td>Cleveland<\\/td><td>USD 3614.93 million<\\/td><\\/tr><tr><th>92<\\/th><td>Region B<\\/td><td>2021<\\/td><td>2<\\/td><td>OPERATING_EXPENSES<\\/td><td>OTHERS<\\/td><td>Atlanta<\\/td><td>USD 3828.67 million<\\/td><\\/tr><tr><th>93<\\/th><td>Region B<\\/td><td>2021<\\/td><td>2<\\/td><td>OPERATING_EXPENSES<\\/td><td>BUSINESS<\\/td><td>San Francisco<\\/td><td>USD 3644.08 million<\\/td><\\/tr><tr><th>94<\\/th><td>Region B<\\/td><td>2021<\\/td><td>2<\\/td><td>NON-OPERATING_EXPENSES<\\/td><td>OTHERS<\\/td><td>St. Louis<\\/td><td>USD 3616.26 million<\\/td><\\/tr><tr><th>95<\\/th><td>Region B<\\/td><td>2021<\\/td><td>2<\\/td><td>OPERATING_EXPENSES<\\/td><td>HR<\\/td><td>New York<\\/td><td>USD 4176.41 million<\\/td><\\/tr><tr><th>96<\\/th><td>Region B<\\/td><td>2021<\\/td><td>2<\\/td><td>OPERATING_EXPENSES<\\/td><td>SALES<\\/td><td>St. Louis<\\/td><td>USD 3355.44 million<\\/td><\\/tr><tr><th>97<\\/th><td>Region B<\\/td><td>2021<\\/td><td>2<\\/td><td>OPERATING_EXPENSES<\\/td><td>SALES<\\/td><td>New York<\\/td><td>USD 3358.87 million<\\/td><\\/tr><tr><th>98<\\/th><td>Region B<\\/td><td>2021<\\/td><td>2<\\/td><td>NON-OPERATING_EXPENSES<\\/td><td>HR<\\/td><td>St. Louis<\\/td><td>USD 4208.25 million<\\/td><\\/tr><tr><th>99<\\/th><td>Region B<\\/td><td>2021<\\/td><td>2<\\/td><td>OPERATING_EXPENSES<\\/td><td>IT<\\/td><td>Atlanta<\\/td><td>USD 4744.26 million<\\/td><\\/tr><tr><th>100<\\/th><td>Region B<\\/td><td>2021<\\/td><td>2<\\/td><td>OPERATING_EXPENSES<\\/td><td>SALES<\\/td><td>Richmond<\\/td><td>USD 3400.41 million<\\/td><\\/tr><tr><th>101<\\/th><td>Region B<\\/td><td>2021<\\/td><td>2<\\/td><td>OPERATING_EXPENSES<\\/td><td>IT<\\/td><td>Cleveland<\\/td><td>USD 3533.37 million<\\/td><\\/tr><tr><th>102<\\/th><td>Region B<\\/td><td>2021<\\/td><td>2<\\/td><td>NON-OPERATING_EXPENSES<\\/td><td>SALES<\\/td><td>Minneapolis<\\/td><td>USD 3847.42 million<\\/td><\\/tr><tr><th>103<\\/th><td>Region B<\\/td><td>2021<\\/td><td>2<\\/td><td>NON-OPERATING_EXPENSES<\\/td><td>IT<\\/td><td>Chicago<\\/td><td>USD 3302.56 million<\\/td><\\/tr><tr><th>104<\\/th><td>Region B<\\/td><td>2021<\\/td><td>2<\\/td><td>OPERATING_EXPENSES<\\/td><td>OTHERS<\\/td><td>Boston<\\/td><td>USD 3400.47 million<\\/td><\\/tr><tr><th>105<\\/th><td>Region B<\\/td><td>2021<\\/td><td>2<\\/td><td>NON-OPERATING_EXPENSES<\\/td><td>HR<\\/td><td>New York<\\/td><td>USD 3341.5 million<\\/td><\\/tr><tr><th>106<\\/th><td>Region B<\\/td><td>2021<\\/td><td>2<\\/td><td>NON-OPERATING_EXPENSES<\\/td><td>HR<\\/td><td>Richmond<\\/td><td>USD 3762.4 million<\\/td><\\/tr><tr><th>107<\\/th><td>Region B<\\/td><td>2021<\\/td><td>2<\\/td><td>NON-OPERATING_EXPENSES<\\/td><td>BUSINESS<\\/td><td>Minneapolis<\\/td><td>USD 3918.28 million<\\/td><\\/tr><tr><th>108<\\/th><td>Region B<\\/td><td>2021<\\/td><td>2<\\/td><td>NON-OPERATING_EXPENSES<\\/td><td>HR<\\/td><td>Kansas City<\\/td><td>USD 3928.57 million<\\/td><\\/tr><tr><th>109<\\/th><td>Region B<\\/td><td>2021<\\/td><td>2<\\/td><td>NON-OPERATING_EXPENSES<\\/td><td>BUSINESS<\\/td><td>Kansas City<\\/td><td>USD 4498.11 million<\\/td><\\/tr><tr><th>110<\\/th><td>Region B<\\/td><td>2021<\\/td><td>2<\\/td><td>OPERATING_EXPENSES<\\/td><td>IT<\\/td><td>Chicago<\\/td><td>USD 4065.66 million<\\/td><\\/tr><tr><th>111<\\/th><td>Region B<\\/td><td>2021<\\/td><td>2<\\/td><td>OPERATING_EXPENSES<\\/td><td>IT<\\/td><td>Philadelphia<\\/td><td>USD 3674.19 million<\\/td><\\/tr><tr><th>112<\\/th><td>Region B<\\/td><td>2021<\\/td><td>2<\\/td><td>OPERATING_EXPENSES<\\/td><td>HR<\\/td><td>San Francisco<\\/td><td>USD 3337.98 million<\\/td><\\/tr><tr><th>113<\\/th><td>Region B<\\/td><td>2021<\\/td><td>2<\\/td><td>OPERATING_EXPENSES<\\/td><td>HR<\\/td><td>Richmond<\\/td><td>USD 3776.64 million<\\/td><\\/tr><tr><th>114<\\/th><td>Region B<\\/td><td>2021<\\/td><td>2<\\/td><td>NON-OPERATING_EXPENSES<\\/td><td>BUSINESS<\\/td><td>Atlanta<\\/td><td>USD 4508.29 million<\\/td><\\/tr><tr><th>115<\\/th><td>Region B<\\/td><td>2021<\\/td><td>2<\\/td><td>OPERATING_EXPENSES<\\/td><td>SALES<\\/td><td>Atlanta<\\/td><td>USD 3592.17 million<\\/td><\\/tr><tr><th>116<\\/th><td>Region B<\\/td><td>2021<\\/td><td>2<\\/td><td>OPERATING_EXPENSES<\\/td><td>OTHERS<\\/td><td>San Francisco<\\/td><td>USD 3089.01 million<\\/td><\\/tr><tr><th>117<\\/th><td>Region B<\\/td><td>2021<\\/td><td>2<\\/td><td>NON-OPERATING_EXPENSES<\\/td><td>HR<\\/td><td>Atlanta<\\/td><td>USD 3858.73 million<\\/td><\\/tr><tr><th>118<\\/th><td>Region B<\\/td><td>2021<\\/td><td>2<\\/td><td>OPERATING_EXPENSES<\\/td><td>SALES<\\/td><td>Minneapolis<\\/td><td>USD 4179.07 million<\\/td><\\/tr><tr><th>119<\\/th><td>Region B<\\/td><td>2021<\\/td><td>2<\\/td><td>OPERATING_EXPENSES<\\/td><td>SALES<\\/td><td>Dallas<\\/td><td>USD 3356.67 million<\\/td><\\/tr><tr><th>120<\\/th><td>Region B<\\/td><td>2021<\\/td><td>2<\\/td><td>NON-OPERATING_EXPENSES<\\/td><td>SALES<\\/td><td>Cleveland<\\/td><td>USD 4432.2 million<\\/td><\\/tr><\\/tbody><\\/table><\\/div>\"},\"nodeType\":\"DOM\",\"type\":\"node\",\"instanceArgs\":{\"namespace\":\"html\",\"tag\":\"div\"},\"children\":[]}]}}}},\"children\":[{\"props\":{},\"nodeType\":\"ObservableNode\",\"type\":\"node\",\"instanceArgs\":{\"id\":\"16249139874664220326\",\"name\":\"obs-node\"},\"children\":[]}]}]},\n",
       "        window,\n",
       "    );\n",
       "    })()\n",
       "    </script>\n",
       "</div>\n"
      ],
      "text/plain": [
       "Node{WebIO.DOM}(WebIO.DOM(:html, :div), Any[Node{WebIO.DOM}(WebIO.DOM(:html, :div), Any[Scope(Node{WebIO.DOM}(WebIO.DOM(:html, :div), Any[Node{WebIO.DOM}(WebIO.DOM(:html, :div), Any[Node{WebIO.DOM}(WebIO.DOM(:html, :label), Any[\"ld\"], Dict{Symbol, Any}(:className => \"interact \", :style => Dict{Any, Any}(:padding => \"5px 10px 0px 10px\")))], Dict{Symbol, Any}(:className => \"interact-flex-row-left\")), Node{WebIO.DOM}(WebIO.DOM(:html, :div), Any[Node{WebIO.DOM}(WebIO.DOM(:html, :div), Any[Node{WebIO.DOM}(WebIO.DOM(:html, :span), Any[Node{WebIO.DOM}(WebIO.DOM(:html, :label), Any[], Dict{Symbol, Any}(:attributes => Dict(\"data-bind\" => \"text : key\")))], Dict{Symbol, Any}(:attributes => Dict(\"data-bind\" => \"click: function (){\\$root.update(val)}, css: {'is-primary is-selected' : \\$root.index() == val, 'interact-widget is-medium button ' : true}\")))], Dict{Symbol, Any}(:attributes => (\"data-bind\" => \"foreach : options_js\"), :className => \"buttons has-addons is-centered\"))], Dict{Symbol, Any}(:className => \"interact-flex-row-center\")), Node{WebIO.DOM}(WebIO.DOM(:html, :div), Any[Node{WebIO.DOM}(WebIO.DOM(:html, :div), Any[], Dict{Symbol, Any}())], Dict{Symbol, Any}(:className => \"interact-flex-row-right\"))], Dict{Symbol, Any}(:className => \"interact-flex-row interact-widget\")), Dict{String, Tuple{Observables.AbstractObservable, Union{Nothing, Bool}}}(\"options_js\" => (Observable{Vector{OrderedDict}} with 1 listeners. Value:\n",
       "OrderedDict[OrderedDict{String, Any}(\"key\" => \"Actuals\", \"val\" => 1, \"id\" => \"idJjPv91r9\"), OrderedDict{String, Any}(\"key\" => \"Budget\", \"val\" => 2, \"id\" => \"iddxFNAGDn\")], nothing), \"index\" => (Observable{Any} with 2 listeners. Value:\n",
       "1, nothing)), Set{String}(), nothing, Asset[Asset(\"js\", \"knockout\", \"/home/ubuntu/.julia/packages/Knockout/3gjS1/src/../assets/knockout.js\"), Asset(\"js\", \"knockout_punches\", \"/home/ubuntu/.julia/packages/Knockout/3gjS1/src/../assets/knockout_punches.js\"), Asset(\"js\", nothing, \"/home/ubuntu/.julia/packages/InteractBase/h8Fwe/src/../assets/all.js\"), Asset(\"css\", nothing, \"/home/ubuntu/.julia/packages/InteractBase/h8Fwe/src/../assets/style.css\"), Asset(\"css\", nothing, \"/home/ubuntu/.julia/packages/Interact/pVyN2/src/../assets/bulma_confined.min.css\")], Dict{Any, Any}(\"options_js\" => Any[WebIO.JSString(\"(function (val){return (val!=this.model[\\\"options_js\\\"]()) ? (this.valueFromJulia[\\\"options_js\\\"]=true, this.model[\\\"options_js\\\"](val)) : undefined})\")], \"index\" => Any[WebIO.JSString(\"(function (val){return (val!=this.model[\\\"index\\\"]()) ? (this.valueFromJulia[\\\"index\\\"]=true, this.model[\\\"index\\\"](val)) : undefined})\")]), WebIO.ConnectionPool(Channel{Any}(32), Set{AbstractConnection}(), Condition(Base.InvasiveLinkedList{Task}(Task (runnable) @0x00007f6d57acc180, Task (runnable) @0x00007f6d57acc180), Base.AlwaysLockedST(1))), WebIO.JSString[WebIO.JSString(\"function () {\\n    var handler = (function (ko, koPunches) {\\n    ko.punches.enableAll();\\n    ko.bindingHandlers.numericValue = {\\n        init: function(element, valueAccessor, allBindings, data, context) {\\n            var stringified = ko.observable(ko.unwrap(valueAccessor()));\\n            stringified.subscribe(function(value) {\\n                var val = parseFloat(value);\\n                if (!isNaN(val)) {\\n                    valueAccessor()(val);\\n                }\\n            });\\n            valueAccessor().subscribe(function(value) {\\n                var str = JSON.stringify(value);\\n                if ((str == \\\"0\\\") && ([\\\"-0\\\", \\\"-0.\\\"].indexOf(stringified()) >= 0))\\n                     return;\\n                 if ([\\\"null\\\", \\\"\\\"].indexOf(str) >= 0)\\n                     return;\\n                stringified(str);\\n            });\\n            ko.applyBindingsToNode(\\n                element,\\n                {\\n                    value: stringified,\\n                    valueUpdate: allBindings.get('valueUpdate'),\\n                },\\n                context,\\n            );\\n        }\\n    };\\n    var json_data = {\\\"options_js\\\":WebIO.getval({\\\"name\\\":\\\"options_js\\\",\\\"scope\\\":\\\"2261378954612424764\\\",\\\"id\\\":\\\"2544271647740361144\\\",\\\"type\\\":\\\"observable\\\"}),\\\"index\\\":WebIO.getval({\\\"name\\\":\\\"index\\\",\\\"scope\\\":\\\"2261378954612424764\\\",\\\"id\\\":\\\"12385331690821543038\\\",\\\"type\\\":\\\"observable\\\"})};\\n    var self = this;\\n    function AppViewModel() {\\n        for (var key in json_data) {\\n            var el = json_data[key];\\n            this[key] = Array.isArray(el) ? ko.observableArray(el) : ko.observable(el);\\n        }\\n        [this[\\\"update\\\"]=function (val) {this.index(val)}]\\n        \\n        [this[\\\"options_js\\\"].subscribe((function (val){!(this.valueFromJulia[\\\"options_js\\\"]) ? (WebIO.setval({\\\"name\\\":\\\"options_js\\\",\\\"scope\\\":\\\"2261378954612424764\\\",\\\"id\\\":\\\"2544271647740361144\\\",\\\"type\\\":\\\"observable\\\"},val)) : undefined; return this.valueFromJulia[\\\"options_js\\\"]=false}),self),this[\\\"index\\\"].subscribe((function (val){!(this.valueFromJulia[\\\"index\\\"]) ? (WebIO.setval({\\\"name\\\":\\\"index\\\",\\\"scope\\\":\\\"2261378954612424764\\\",\\\"id\\\":\\\"12385331690821543038\\\",\\\"type\\\":\\\"observable\\\"},val)) : undefined; return this.valueFromJulia[\\\"index\\\"]=false}),self)]\\n        \\n    }\\n    self.model = new AppViewModel();\\n    self.valueFromJulia = {};\\n    for (var key in json_data) {\\n        self.valueFromJulia[key] = false;\\n    }\\n    ko.applyBindings(self.model, self.dom);\\n}\\n);\\n    (WebIO.importBlock({\\\"data\\\":[{\\\"name\\\":\\\"knockout\\\",\\\"type\\\":\\\"js\\\",\\\"url\\\":\\\"/assetserver/7adbe83fac1553325d6e718d595ab555e1cabbe4-knockout.js\\\"},{\\\"name\\\":\\\"knockout_punches\\\",\\\"type\\\":\\\"js\\\",\\\"url\\\":\\\"/assetserver/cec8c4de011abc05b545afbaaea4bb4465a1f168-knockout_punches.js\\\"}],\\\"type\\\":\\\"async_block\\\"})).then((imports) => handler.apply(this, imports));\\n}\\n\")])], Dict{Symbol, Any}(:className => \"interact-widget\")), Node{WebIO.DOM}(WebIO.DOM(:html, :div), Any[Scope(Node{WebIO.DOM}(WebIO.DOM(:html, :div), Any[Node{WebIO.DOM}(WebIO.DOM(:html, :div), Any[Node{WebIO.DOM}(WebIO.DOM(:html, :label), Any[\"rg\"], Dict{Symbol, Any}(:className => \"interact \", :style => Dict{Any, Any}(:padding => \"5px 10px 0px 10px\")))], Dict{Symbol, Any}(:className => \"interact-flex-row-left\")), Node{WebIO.DOM}(WebIO.DOM(:html, :div), Any[Node{WebIO.DOM}(WebIO.DOM(:html, :div), Any[Node{WebIO.DOM}(WebIO.DOM(:html, :span), Any[Node{WebIO.DOM}(WebIO.DOM(:html, :label), Any[], Dict{Symbol, Any}(:attributes => Dict(\"data-bind\" => \"text : key\")))], Dict{Symbol, Any}(:attributes => Dict(\"data-bind\" => \"click: function (){\\$root.update(val)}, css: {'is-primary is-selected' : \\$root.index() == val, 'interact-widget is-medium button ' : true}\")))], Dict{Symbol, Any}(:attributes => (\"data-bind\" => \"foreach : options_js\"), :className => \"buttons has-addons is-centered\"))], Dict{Symbol, Any}(:className => \"interact-flex-row-center\")), Node{WebIO.DOM}(WebIO.DOM(:html, :div), Any[Node{WebIO.DOM}(WebIO.DOM(:html, :div), Any[], Dict{Symbol, Any}())], Dict{Symbol, Any}(:className => \"interact-flex-row-right\"))], Dict{Symbol, Any}(:className => \"interact-flex-row interact-widget\")), Dict{String, Tuple{Observables.AbstractObservable, Union{Nothing, Bool}}}(\"options_js\" => (Observable{Vector{OrderedDict}} with 1 listeners. Value:\n",
       "OrderedDict[OrderedDict{String, Any}(\"key\" => \"Region B\", \"val\" => 1, \"id\" => \"idR4fSXhN8\"), OrderedDict{String, Any}(\"key\" => \"Region C\", \"val\" => 2, \"id\" => \"idVryIOYba\"), OrderedDict{String, Any}(\"key\" => \"Region A\", \"val\" => 3, \"id\" => \"idp2k6oJKx\")], nothing), \"index\" => (Observable{Any} with 2 listeners. Value:\n",
       "1, nothing)), Set{String}(), nothing, Asset[Asset(\"js\", \"knockout\", \"/home/ubuntu/.julia/packages/Knockout/3gjS1/src/../assets/knockout.js\"), Asset(\"js\", \"knockout_punches\", \"/home/ubuntu/.julia/packages/Knockout/3gjS1/src/../assets/knockout_punches.js\"), Asset(\"js\", nothing, \"/home/ubuntu/.julia/packages/InteractBase/h8Fwe/src/../assets/all.js\"), Asset(\"css\", nothing, \"/home/ubuntu/.julia/packages/InteractBase/h8Fwe/src/../assets/style.css\"), Asset(\"css\", nothing, \"/home/ubuntu/.julia/packages/Interact/pVyN2/src/../assets/bulma_confined.min.css\")], Dict{Any, Any}(\"options_js\" => Any[WebIO.JSString(\"(function (val){return (val!=this.model[\\\"options_js\\\"]()) ? (this.valueFromJulia[\\\"options_js\\\"]=true, this.model[\\\"options_js\\\"](val)) : undefined})\")], \"index\" => Any[WebIO.JSString(\"(function (val){return (val!=this.model[\\\"index\\\"]()) ? (this.valueFromJulia[\\\"index\\\"]=true, this.model[\\\"index\\\"](val)) : undefined})\")]), WebIO.ConnectionPool(Channel{Any}(32), Set{AbstractConnection}(), Condition(Base.InvasiveLinkedList{Task}(Task (runnable) @0x00007f6d57acc460, Task (runnable) @0x00007f6d57acc460), Base.AlwaysLockedST(1))), WebIO.JSString[WebIO.JSString(\"function () {\\n    var handler = (function (ko, koPunches) {\\n    ko.punches.enableAll();\\n    ko.bindingHandlers.numericValue = {\\n        init: function(element, valueAccessor, allBindings, data, context) {\\n            var stringified = ko.observable(ko.unwrap(valueAccessor()));\\n            stringified.subscribe(function(value) {\\n                var val = parseFloat(value);\\n                if (!isNaN(val)) {\\n                    valueAccessor()(val);\\n                }\\n            });\\n            valueAccessor().subscribe(function(value) {\\n                var str = JSON.stringify(value);\\n                if ((str == \\\"0\\\") && ([\\\"-0\\\", \\\"-0.\\\"].indexOf(stringified()) >= 0))\\n                     return;\\n                 if ([\\\"null\\\", \\\"\\\"].indexOf(str) >= 0)\\n                     return;\\n                stringified(str);\\n            });\\n            ko.applyBindingsToNode(\\n                element,\\n                {\\n                    value: stringified,\\n                    valueUpdate: allBindings.get('valueUpdate'),\\n                },\\n                context,\\n            );\\n        }\\n    };\\n    var json_data = {\\\"options_js\\\":WebIO.getval({\\\"name\\\":\\\"options_js\\\",\\\"scope\\\":\\\"4919382983103673781\\\",\\\"id\\\":\\\"6136292950278674771\\\",\\\"type\\\":\\\"observable\\\"}),\\\"index\\\":WebIO.getval({\\\"name\\\":\\\"index\\\",\\\"scope\\\":\\\"4919382983103673781\\\",\\\"id\\\":\\\"5807017233678098585\\\",\\\"type\\\":\\\"observable\\\"})};\\n    var self = this;\\n    function AppViewModel() {\\n        for (var key in json_data) {\\n            var el = json_data[key];\\n            this[key] = Array.isArray(el) ? ko.observableArray(el) : ko.observable(el);\\n        }\\n        [this[\\\"update\\\"]=function (val) {this.index(val)}]\\n        \\n        [this[\\\"options_js\\\"].subscribe((function (val){!(this.valueFromJulia[\\\"options_js\\\"]) ? (WebIO.setval({\\\"name\\\":\\\"options_js\\\",\\\"scope\\\":\\\"4919382983103673781\\\",\\\"id\\\":\\\"6136292950278674771\\\",\\\"type\\\":\\\"observable\\\"},val)) : undefined; return this.valueFromJulia[\\\"options_js\\\"]=false}),self),this[\\\"index\\\"].subscribe((function (val){!(this.valueFromJulia[\\\"index\\\"]) ? (WebIO.setval({\\\"name\\\":\\\"index\\\",\\\"scope\\\":\\\"4919382983103673781\\\",\\\"id\\\":\\\"5807017233678098585\\\",\\\"type\\\":\\\"observable\\\"},val)) : undefined; return this.valueFromJulia[\\\"index\\\"]=false}),self)]\\n        \\n    }\\n    self.model = new AppViewModel();\\n    self.valueFromJulia = {};\\n    for (var key in json_data) {\\n        self.valueFromJulia[key] = false;\\n    }\\n    ko.applyBindings(self.model, self.dom);\\n}\\n);\\n    (WebIO.importBlock({\\\"data\\\":[{\\\"name\\\":\\\"knockout\\\",\\\"type\\\":\\\"js\\\",\\\"url\\\":\\\"/assetserver/7adbe83fac1553325d6e718d595ab555e1cabbe4-knockout.js\\\"},{\\\"name\\\":\\\"knockout_punches\\\",\\\"type\\\":\\\"js\\\",\\\"url\\\":\\\"/assetserver/cec8c4de011abc05b545afbaaea4bb4465a1f168-knockout_punches.js\\\"}],\\\"type\\\":\\\"async_block\\\"})).then((imports) => handler.apply(this, imports));\\n}\\n\")])], Dict{Symbol, Any}(:className => \"interact-widget\")), Node{WebIO.DOM}(WebIO.DOM(:html, :div), Any[Scope(Node{WebIO.DOM}(WebIO.DOM(:html, :div), Any[Node{WebIO.DOM}(WebIO.DOM(:html, :div), Any[Node{WebIO.DOM}(WebIO.DOM(:html, :label), Any[nothing], Dict{Symbol, Any}(:className => \"interact \", :style => Dict{Any, Any}(:padding => \"5px 10px 0px 10px\")))], Dict{Symbol, Any}(:className => \"interact-flex-row-left\")), Node{WebIO.DOM}(WebIO.DOM(:html, :div), Any[Node{WebIO.DOM}(WebIO.DOM(:html, :input), Any[], Dict{Symbol, Any}(:max => 3, :min => 1, :attributes => Dict{Any, Any}(:type => \"range\", Symbol(\"data-bind\") => \"numericValue: index, valueUpdate: 'input', event: {change: function (){this.changes(this.changes()+1)}}\", \"orient\" => \"horizontal\"), :step => 1, :className => \"slider slider is-fullwidth\", :style => Dict{Any, Any}()))], Dict{Symbol, Any}(:className => \"interact-flex-row-center\")), Node{WebIO.DOM}(WebIO.DOM(:html, :div), Any[Node{WebIO.DOM}(WebIO.DOM(:html, :p), Any[], Dict{Symbol, Any}(:attributes => Dict(\"data-bind\" => \"text: formatted_val\")))], Dict{Symbol, Any}(:className => \"interact-flex-row-right\"))], Dict{Symbol, Any}(:className => \"interact-flex-row interact-widget\")), Dict{String, Tuple{Observables.AbstractObservable, Union{Nothing, Bool}}}(\"changes\" => (Observable{Int64} with 1 listeners. Value:\n",
       "0, nothing), \"index\" => (Observable{Any} with 2 listeners. Value:\n",
       "2, nothing)), Set{String}(), nothing, Asset[Asset(\"js\", \"knockout\", \"/home/ubuntu/.julia/packages/Knockout/3gjS1/src/../assets/knockout.js\"), Asset(\"js\", \"knockout_punches\", \"/home/ubuntu/.julia/packages/Knockout/3gjS1/src/../assets/knockout_punches.js\"), Asset(\"js\", nothing, \"/home/ubuntu/.julia/packages/InteractBase/h8Fwe/src/../assets/all.js\"), Asset(\"css\", nothing, \"/home/ubuntu/.julia/packages/InteractBase/h8Fwe/src/../assets/style.css\"), Asset(\"css\", nothing, \"/home/ubuntu/.julia/packages/Interact/pVyN2/src/../assets/bulma_confined.min.css\")], Dict{Any, Any}(\"changes\" => Any[WebIO.JSString(\"(function (val){return (val!=this.model[\\\"changes\\\"]()) ? (this.valueFromJulia[\\\"changes\\\"]=true, this.model[\\\"changes\\\"](val)) : undefined})\")], \"index\" => Any[WebIO.JSString(\"(function (val){return (val!=this.model[\\\"index\\\"]()) ? (this.valueFromJulia[\\\"index\\\"]=true, this.model[\\\"index\\\"](val)) : undefined})\")]), WebIO.ConnectionPool(Channel{Any}(32), Set{AbstractConnection}(), Condition(Base.InvasiveLinkedList{Task}(Task (runnable) @0x00007f6d57acc8b0, Task (runnable) @0x00007f6d57acc8b0), Base.AlwaysLockedST(1))), WebIO.JSString[WebIO.JSString(\"function () {\\n    var handler = (function (ko, koPunches) {\\n    ko.punches.enableAll();\\n    ko.bindingHandlers.numericValue = {\\n        init: function(element, valueAccessor, allBindings, data, context) {\\n            var stringified = ko.observable(ko.unwrap(valueAccessor()));\\n            stringified.subscribe(function(value) {\\n                var val = parseFloat(value);\\n                if (!isNaN(val)) {\\n                    valueAccessor()(val);\\n                }\\n            });\\n            valueAccessor().subscribe(function(value) {\\n                var str = JSON.stringify(value);\\n                if ((str == \\\"0\\\") && ([\\\"-0\\\", \\\"-0.\\\"].indexOf(stringified()) >= 0))\\n                     return;\\n                 if ([\\\"null\\\", \\\"\\\"].indexOf(str) >= 0)\\n                     return;\\n                stringified(str);\\n            });\\n            ko.applyBindingsToNode(\\n                element,\\n                {\\n                    value: stringified,\\n                    valueUpdate: allBindings.get('valueUpdate'),\\n                },\\n                context,\\n            );\\n        }\\n    };\\n    var json_data = {\\\"formatted_vals\\\":[\\\"2020\\\",\\\"2021\\\",\\\"2022\\\"],\\\"changes\\\":WebIO.getval({\\\"name\\\":\\\"changes\\\",\\\"scope\\\":\\\"16792730420982269183\\\",\\\"id\\\":\\\"12427234278684348703\\\",\\\"type\\\":\\\"observable\\\"}),\\\"index\\\":WebIO.getval({\\\"name\\\":\\\"index\\\",\\\"scope\\\":\\\"16792730420982269183\\\",\\\"id\\\":\\\"8490942467846750800\\\",\\\"type\\\":\\\"observable\\\"})};\\n    var self = this;\\n    function AppViewModel() {\\n        for (var key in json_data) {\\n            var el = json_data[key];\\n            this[key] = Array.isArray(el) ? ko.observableArray(el) : ko.observable(el);\\n        }\\n        \\n        [this[\\\"formatted_val\\\"]=ko.computed(    function(){\\n        return this.formatted_vals()[parseInt(this.index())-(1)];\\n    }\\n,this)]\\n        [this[\\\"changes\\\"].subscribe((function (val){!(this.valueFromJulia[\\\"changes\\\"]) ? (WebIO.setval({\\\"name\\\":\\\"changes\\\",\\\"scope\\\":\\\"16792730420982269183\\\",\\\"id\\\":\\\"12427234278684348703\\\",\\\"type\\\":\\\"observable\\\"},val)) : undefined; return this.valueFromJulia[\\\"changes\\\"]=false}),self),this[\\\"index\\\"].subscribe((function (val){!(this.valueFromJulia[\\\"index\\\"]) ? (WebIO.setval({\\\"name\\\":\\\"index\\\",\\\"scope\\\":\\\"16792730420982269183\\\",\\\"id\\\":\\\"8490942467846750800\\\",\\\"type\\\":\\\"observable\\\"},val)) : undefined; return this.valueFromJulia[\\\"index\\\"]=false}),self)]\\n        \\n    }\\n    self.model = new AppViewModel();\\n    self.valueFromJulia = {};\\n    for (var key in json_data) {\\n        self.valueFromJulia[key] = false;\\n    }\\n    ko.applyBindings(self.model, self.dom);\\n}\\n);\\n    (WebIO.importBlock({\\\"data\\\":[{\\\"name\\\":\\\"knockout\\\",\\\"type\\\":\\\"js\\\",\\\"url\\\":\\\"/assetserver/7adbe83fac1553325d6e718d595ab555e1cabbe4-knockout.js\\\"},{\\\"name\\\":\\\"knockout_punches\\\",\\\"type\\\":\\\"js\\\",\\\"url\\\":\\\"/assetserver/cec8c4de011abc05b545afbaaea4bb4465a1f168-knockout_punches.js\\\"}],\\\"type\\\":\\\"async_block\\\"})).then((imports) => handler.apply(this, imports));\\n}\\n\")])], Dict{Symbol, Any}(:className => \"field interact-widget\")), Node{WebIO.DOM}(WebIO.DOM(:html, :div), Any[Scope(Node{WebIO.DOM}(WebIO.DOM(:html, :div), Any[Node{WebIO.DOM}(WebIO.DOM(:html, :div), Any[Node{WebIO.DOM}(WebIO.DOM(:html, :label), Any[\"qtr\"], Dict{Symbol, Any}(:className => \"interact \", :style => Dict{Any, Any}(:padding => \"5px 10px 0px 10px\")))], Dict{Symbol, Any}(:className => \"interact-flex-row-left\")), Node{WebIO.DOM}(WebIO.DOM(:html, :div), Any[Node{WebIO.DOM}(WebIO.DOM(:html, :input), Any[], Dict{Symbol, Any}(:max => 4, :min => 1, :attributes => Dict{Any, Any}(:type => \"range\", Symbol(\"data-bind\") => \"numericValue: index, valueUpdate: 'input', event: {change: function (){this.changes(this.changes()+1)}}\", \"orient\" => \"horizontal\"), :step => 1, :className => \"slider slider is-fullwidth\", :style => Dict{Any, Any}()))], Dict{Symbol, Any}(:className => \"interact-flex-row-center\")), Node{WebIO.DOM}(WebIO.DOM(:html, :div), Any[Node{WebIO.DOM}(WebIO.DOM(:html, :p), Any[], Dict{Symbol, Any}(:attributes => Dict(\"data-bind\" => \"text: formatted_val\")))], Dict{Symbol, Any}(:className => \"interact-flex-row-right\"))], Dict{Symbol, Any}(:className => \"interact-flex-row interact-widget\")), Dict{String, Tuple{Observables.AbstractObservable, Union{Nothing, Bool}}}(\"changes\" => (Observable{Int64} with 1 listeners. Value:\n",
       "0, nothing), \"index\" => (Observable{Any} with 2 listeners. Value:\n",
       "2, nothing)), Set{String}(), nothing, Asset[Asset(\"js\", \"knockout\", \"/home/ubuntu/.julia/packages/Knockout/3gjS1/src/../assets/knockout.js\"), Asset(\"js\", \"knockout_punches\", \"/home/ubuntu/.julia/packages/Knockout/3gjS1/src/../assets/knockout_punches.js\"), Asset(\"js\", nothing, \"/home/ubuntu/.julia/packages/InteractBase/h8Fwe/src/../assets/all.js\"), Asset(\"css\", nothing, \"/home/ubuntu/.julia/packages/InteractBase/h8Fwe/src/../assets/style.css\"), Asset(\"css\", nothing, \"/home/ubuntu/.julia/packages/Interact/pVyN2/src/../assets/bulma_confined.min.css\")], Dict{Any, Any}(\"changes\" => Any[WebIO.JSString(\"(function (val){return (val!=this.model[\\\"changes\\\"]()) ? (this.valueFromJulia[\\\"changes\\\"]=true, this.model[\\\"changes\\\"](val)) : undefined})\")], \"index\" => Any[WebIO.JSString(\"(function (val){return (val!=this.model[\\\"index\\\"]()) ? (this.valueFromJulia[\\\"index\\\"]=true, this.model[\\\"index\\\"](val)) : undefined})\")]), WebIO.ConnectionPool(Channel{Any}(32), Set{AbstractConnection}(), Condition(Base.InvasiveLinkedList{Task}(Task (runnable) @0x00007f6d57accd00, Task (runnable) @0x00007f6d57accd00), Base.AlwaysLockedST(1))), WebIO.JSString[WebIO.JSString(\"function () {\\n    var handler = (function (ko, koPunches) {\\n    ko.punches.enableAll();\\n    ko.bindingHandlers.numericValue = {\\n        init: function(element, valueAccessor, allBindings, data, context) {\\n            var stringified = ko.observable(ko.unwrap(valueAccessor()));\\n            stringified.subscribe(function(value) {\\n                var val = parseFloat(value);\\n                if (!isNaN(val)) {\\n                    valueAccessor()(val);\\n                }\\n            });\\n            valueAccessor().subscribe(function(value) {\\n                var str = JSON.stringify(value);\\n                if ((str == \\\"0\\\") && ([\\\"-0\\\", \\\"-0.\\\"].indexOf(stringified()) >= 0))\\n                     return;\\n                 if ([\\\"null\\\", \\\"\\\"].indexOf(str) >= 0)\\n                     return;\\n                stringified(str);\\n            });\\n            ko.applyBindingsToNode(\\n                element,\\n                {\\n                    value: stringified,\\n                    valueUpdate: allBindings.get('valueUpdate'),\\n                },\\n                context,\\n            );\\n        }\\n    };\\n    var json_data = {\\\"formatted_vals\\\":[\\\"1\\\",\\\"2\\\",\\\"3\\\",\\\"4\\\"],\\\"changes\\\":WebIO.getval({\\\"name\\\":\\\"changes\\\",\\\"scope\\\":\\\"12598521052191129842\\\",\\\"id\\\":\\\"13247058572826997135\\\",\\\"type\\\":\\\"observable\\\"}),\\\"index\\\":WebIO.getval({\\\"name\\\":\\\"index\\\",\\\"scope\\\":\\\"12598521052191129842\\\",\\\"id\\\":\\\"16408192323489538202\\\",\\\"type\\\":\\\"observable\\\"})};\\n    var self = this;\\n    function AppViewModel() {\\n        for (var key in json_data) {\\n            var el = json_data[key];\\n            this[key] = Array.isArray(el) ? ko.observableArray(el) : ko.observable(el);\\n        }\\n        \\n        [this[\\\"formatted_val\\\"]=ko.computed(    function(){\\n        return this.formatted_vals()[parseInt(this.index())-(1)];\\n    }\\n,this)]\\n        [this[\\\"changes\\\"].subscribe((function (val){!(this.valueFromJulia[\\\"changes\\\"]) ? (WebIO.setval({\\\"name\\\":\\\"changes\\\",\\\"scope\\\":\\\"12598521052191129842\\\",\\\"id\\\":\\\"13247058572826997135\\\",\\\"type\\\":\\\"observable\\\"},val)) : undefined; return this.valueFromJulia[\\\"changes\\\"]=false}),self),this[\\\"index\\\"].subscribe((function (val){!(this.valueFromJulia[\\\"index\\\"]) ? (WebIO.setval({\\\"name\\\":\\\"index\\\",\\\"scope\\\":\\\"12598521052191129842\\\",\\\"id\\\":\\\"16408192323489538202\\\",\\\"type\\\":\\\"observable\\\"},val)) : undefined; return this.valueFromJulia[\\\"index\\\"]=false}),self)]\\n        \\n    }\\n    self.model = new AppViewModel();\\n    self.valueFromJulia = {};\\n    for (var key in json_data) {\\n        self.valueFromJulia[key] = false;\\n    }\\n    ko.applyBindings(self.model, self.dom);\\n}\\n);\\n    (WebIO.importBlock({\\\"data\\\":[{\\\"name\\\":\\\"knockout\\\",\\\"type\\\":\\\"js\\\",\\\"url\\\":\\\"/assetserver/7adbe83fac1553325d6e718d595ab555e1cabbe4-knockout.js\\\"},{\\\"name\\\":\\\"knockout_punches\\\",\\\"type\\\":\\\"js\\\",\\\"url\\\":\\\"/assetserver/cec8c4de011abc05b545afbaaea4bb4465a1f168-knockout_punches.js\\\"}],\\\"type\\\":\\\"async_block\\\"})).then((imports) => handler.apply(this, imports));\\n}\\n\")])], Dict{Symbol, Any}(:className => \"field interact-widget\")), Observable{Node{WebIO.DOM}} with 0 listeners. Value:\n",
       "Node{WebIO.DOM}(WebIO.DOM(:html, :div), Any[\u001b[1m120×7 DataFrame\u001b[0m\n",
       "\u001b[1m Row \u001b[0m│\u001b[1m Org      \u001b[0m\u001b[1m FY    \u001b[0m\u001b[1m Qtr   \u001b[0m\u001b[1m Accounts               \u001b[0m\u001b[1m Dept     \u001b[0m\u001b[1m Loc          \u001b[0m ⋯\n",
       "\u001b[1m     \u001b[0m│\u001b[90m String   \u001b[0m\u001b[90m Int64 \u001b[0m\u001b[90m Int64 \u001b[0m\u001b[90m String                 \u001b[0m\u001b[90m String   \u001b[0m\u001b[90m String       \u001b[0m ⋯\n",
       "─────┼──────────────────────────────────────────────────────────────────────────\n",
       "   1 │ Region B   2021      2  NON-OPERATING_EXPENSES  IT        San Francisco ⋯\n",
       "   2 │ Region B   2021      2  OPERATING_EXPENSES      OTHERS    Philadelphia\n",
       "   3 │ Region B   2021      2  OPERATING_EXPENSES      SALES     Boston\n",
       "   4 │ Region B   2021      2  NON-OPERATING_EXPENSES  IT        Atlanta\n",
       "   5 │ Region B   2021      2  NON-OPERATING_EXPENSES  SALES     Philadelphia  ⋯\n",
       "   6 │ Region B   2021      2  NON-OPERATING_EXPENSES  BUSINESS  Richmond\n",
       "   7 │ Region B   2021      2  OPERATING_EXPENSES      BUSINESS  Atlanta\n",
       "   8 │ Region B   2021      2  NON-OPERATING_EXPENSES  BUSINESS  Chicago\n",
       "   9 │ Region B   2021      2  NON-OPERATING_EXPENSES  SALES     Dallas        ⋯\n",
       "  10 │ Region B   2021      2  OPERATING_EXPENSES      BUSINESS  Cleveland\n",
       "  11 │ Region B   2021      2  NON-OPERATING_EXPENSES  OTHERS    Kansas City\n",
       "  ⋮  │    ⋮        ⋮      ⋮              ⋮                ⋮            ⋮       ⋱\n",
       " 111 │ Region B   2021      2  OPERATING_EXPENSES      IT        Philadelphia\n",
       " 112 │ Region B   2021      2  OPERATING_EXPENSES      HR        San Francisco ⋯\n",
       " 113 │ Region B   2021      2  OPERATING_EXPENSES      HR        Richmond\n",
       " 114 │ Region B   2021      2  NON-OPERATING_EXPENSES  BUSINESS  Atlanta\n",
       " 115 │ Region B   2021      2  OPERATING_EXPENSES      SALES     Atlanta\n",
       " 116 │ Region B   2021      2  OPERATING_EXPENSES      OTHERS    San Francisco ⋯\n",
       " 117 │ Region B   2021      2  NON-OPERATING_EXPENSES  HR        Atlanta\n",
       " 118 │ Region B   2021      2  OPERATING_EXPENSES      SALES     Minneapolis\n",
       " 119 │ Region B   2021      2  OPERATING_EXPENSES      SALES     Dallas\n",
       " 120 │ Region B   2021      2  NON-OPERATING_EXPENSES  SALES     Cleveland     ⋯\n",
       "\u001b[36m                                                    1 column and 99 rows omitted\u001b[0m], Dict{Symbol, Any}(:className => \"interact-flex-row interact-widget\"))], Dict{Symbol, Any}())"
      ]
     },
     "execution_count": 75,
     "metadata": {
      "application/vnd.webio.node+json": {
       "kernelId": "e2edb929-a595-4295-908e-4c215e475d45"
      }
     },
     "output_type": "execute_result"
    }
   ],
   "source": [
    "@manipulate for ld = Dict(\"Actuals\"=> \"Actuals\", \"Budget\" => \"Budget\"), \n",
    "                rg = Dict(\"Region A\"=> \"Region A\", \"Region B\" => \"Region B\", \"Region C\" => \"Region C\"),\n",
    "                yr = slider(2020:1:2022; value=2021),\n",
    "                qtr = 1:1:4\n",
    "    \n",
    "    @show ld, rg, yr, qtr\n",
    "    \n",
    "select(gdf_plot[(\n",
    "    (gdf_plot.FISCAL_YEAR .== yr)\n",
    "    .&\n",
    "    (gdf_plot.QTR .== qtr)\n",
    "    .&\n",
    "    (gdf_plot.LEDGER .== ld)\n",
    "    .&\n",
    "    (gdf_plot.OPER_UNIT .== rg)\n",
    "    .&\n",
    "    (in.(gdf_plot.ACCOUNTS_CLASSIFICATION, Ref([\"NON-OPERATING_EXPENSES\",\"OPERATING_EXPENSES\"])))\n",
    "    ),:],\n",
    "        :OPER_UNIT => :Org,\n",
    "        :FISCAL_YEAR => :FY,\n",
    "        :QTR => :Qtr,\n",
    "        :ACCOUNTS_CLASSIFICATION => :Accounts,\n",
    "        :DEPT_CLASSIFICATION => :Dept,\n",
    "        # :LOCATION_CLASSIFICATION => :Region,\n",
    "        :LOCATION_DESCR => :Loc,\n",
    "        :TOTAL => :TOTAL)\n",
    "end"
   ]
  },
  {
   "cell_type": "code",
   "execution_count": 18,
   "metadata": {},
   "outputs": [
    {
     "ename": "LoadError",
     "evalue": "LoadError: UndefVarError: @bind not defined\nin expression starting at In[18]:7",
     "output_type": "error",
     "traceback": [
      "LoadError: UndefVarError: @bind not defined\nin expression starting at In[18]:7",
      "",
      "Stacktrace:",
      " [1] top-level scope",
      "   @ :0",
      " [2] eval",
      "   @ ./boot.jl:373 [inlined]",
      " [3] include_string(mapexpr::typeof(REPL.softscope), mod::Module, code::String, filename::String)",
      "   @ Base ./loading.jl:1196"
     ]
    }
   ],
   "source": [
    "\n",
    "md\"\"\"\n",
    "## Ledger Visual\n",
    "\"\"\"\n",
    "\n",
    "# ╔═╡ 4e16f723-6c84-49c9-ad64-8f7b81bcc568\n",
    "@bind ld_p Select([\"Actuals\", \"Budget\"])\n",
    "\n",
    "# ╔═╡ c57d4b85-f157-43e7-85b6-d10af1c9cc9c\n",
    "@bind yr_p Slider(2020:1:2021, default=2021, show_value=true)\n",
    "\n",
    "# ╔═╡ 97d23b1b-927a-471c-9e0c-9eafead92167\n",
    "@bind rg_p Select([\"Region A\", \"Region B\", \"Region C\"])\n",
    "\n",
    "# ╔═╡ a431b45c-209d-4b31-ab03-e762958b095d\n",
    "@bind ldescr Select(unique(location.DESCR))\n",
    "\n",
    "# ╔═╡ 95302cab-0f88-4b93-88b8-47ce4af894fb\n",
    "@bind adescr Select(unique(accounts.CLASSIFICATION))\n",
    "\n",
    "# ╔═╡ 7d9b6029-e502-4065-9fa2-ef8f4da39021\n",
    "@bind ddescr Select(unique(dept.CLASSIFICATION))\n",
    "\n",
    "# ╔═╡ 90408ebd-ce89-48eb-ba66-5e56db44b8a2\n",
    "begin\n",
    "\tplot_data = gdf_plot[(\n",
    "\t\t(gdf_plot.FISCAL_YEAR .== yr_p)\n",
    "\t\t.&\n",
    "\t\t(gdf_plot.LEDGER .== ld_p)\n",
    "\t\t.&\n",
    "\t\t(gdf_plot.OPER_UNIT .== rg_p)\n",
    "\t\t.&\n",
    "\t\t(gdf_plot.LOCATION_DESCR .== ldescr)\n",
    "\t\t.&\n",
    "\t\t(gdf_plot.DEPT_CLASSIFICATION .== ddescr)\n",
    "\t\t.&\n",
    "\t\t(gdf_plot.ACCOUNTS_CLASSIFICATION .== adescr))\n",
    "\t\t, :];\n",
    "\t# @df plot_data scatter(:QTR, :TOTAL/10^8, title = \"Finance Ledger Data\", xlabel=\"Quarter\", ylabel=\"Total (in USD million)\", label=\"$ld_p Total by $yr_p for $rg_p\")\n",
    "\t@df plot_data plot(:QTR, :TOTAL/10^8, title = \"Finance Ledger Data\", xlabel=\"Quarter\", ylabel=\"Total (in USD million)\", \n",
    "\t\tlabel=[\n",
    "\t\t\t\"$ld_p by $yr_p for $rg_p $ldescr $adescr $ddescr\"\n",
    "\t\t\t],\n",
    "\t\tlw=3)\n",
    "end\n",
    "\n",
    "# ╔═╡ 90049f35-f30b-4101-a8cf-1bd17f217998\n",
    "md\"\"\"\n",
    "## Actuals vs Budget comparison\n",
    "\"\"\"\n",
    "\n",
    "# ╔═╡ 9c220649-67e7-4adc-b1b6-be2feabe2313\n",
    "begin\n",
    "\tplot_data_a = gdf_plot[(\n",
    "\t\t(gdf_plot.FISCAL_YEAR .== yr_p)\n",
    "\t\t.&\n",
    "\t\t(gdf_plot.LEDGER .== \"Actuals\")\n",
    "\t\t.&\n",
    "\t\t(gdf_plot.OPER_UNIT .== rg_p)\n",
    "\t\t.&\n",
    "\t\t(gdf_plot.LOCATION_DESCR .== ldescr)\n",
    "\t\t.&\n",
    "\t\t(gdf_plot.DEPT_CLASSIFICATION .== ddescr)\n",
    "\t\t.&\n",
    "\t\t(gdf_plot.ACCOUNTS_CLASSIFICATION .== adescr))\n",
    "\t\t, :];\n",
    "\t# @df plot_data scatter(:QTR, :TOTAL/10^8, title = \"Finance Ledger Data\", xlabel=\"Quarter\", ylabel=\"Total (in USD million)\", label=\"$ld_p Total by $yr_p for $rg_p\")\n",
    "\tplot_data_b = gdf_plot[(\n",
    "\t\t(gdf_plot.FISCAL_YEAR .== yr_p)\n",
    "\t\t.&\n",
    "\t\t(gdf_plot.LEDGER .== \"Budget\")\n",
    "\t\t.&\n",
    "\t\t(gdf_plot.OPER_UNIT .== rg_p)\n",
    "\t\t.&\n",
    "\t\t(gdf_plot.LOCATION_DESCR .== ldescr)\n",
    "\t\t.&\n",
    "\t\t(gdf_plot.DEPT_CLASSIFICATION .== ddescr)\n",
    "\t\t.&\n",
    "\t\t(gdf_plot.ACCOUNTS_CLASSIFICATION .== adescr))\n",
    "\t\t, :];\n",
    "\t# @df plot_data scatter(:QTR, :TOTAL/10^8, title = \"Finance Ledger Data\", xlabel=\"Quarter\", ylabel=\"Total (in USD million)\", label=\"$ld_p Total by $yr_p for $rg_p\")\n",
    "\t@df plot_data_a plot(:QTR, :TOTAL/10^8, title = \"Finance Ledger Data\", xlabel=\"Quarter\", ylabel=\"Total (in USD million)\", \n",
    "\t\tlabel=[\n",
    "\t\t\t\"Actuals by $yr_p for $rg_p $ldescr $adescr $ddescr\"\n",
    "\t\t\t],\n",
    "\t\tlw=3)\n",
    "\t@df plot_data_b plot!(:QTR, :TOTAL/10^8, title = \"Finance Ledger Data\", xlabel=\"Quarter\", ylabel=\"Total (in USD million)\", \n",
    "\t\tlabel=[\n",
    "\t\t\t\"Budget by $yr_p for $rg_p $ldescr $adescr $ddescr\"\n",
    "\t\t\t],\n",
    "\t\tlw=3)\n",
    "end\n",
    "\n",
    "# ╔═╡ bea7c89e-78ca-4a68-8487-f10f91ee6449\n",
    "md\"\"\"\n",
    "raw data in table format\n",
    "\"\"\"\n",
    "\n",
    "# ╔═╡ 3f6f4feb-3425-4f89-814d-4ebb7334d6c6\n",
    "plot_data\n",
    "\n",
    "# ╔═╡ b370f5c2-c6cc-4f2c-9d68-98a0dab6db3b\n",
    "begin\n",
    "\t# plot_data = gdf_plot[(\n",
    "\t# \t(gdf_plot.FISCAL_YEAR .== yr_p)\n",
    "\t# \t.&\n",
    "\t# \t(gdf_plot.LEDGER .== ld_p)\n",
    "\t# \t.&\n",
    "\t# \t(gdf_plot.OPER_UNIT .== rg_p)\n",
    "\t# \t.&\n",
    "\t# \t(gdf_plot.LOCATION_DESCR .== ldescr)\n",
    "\t# \t.&\n",
    "\t# \t(gdf_plot.DEPT_CLASSIFICATION .== ddescr)\n",
    "\t# \t.&\n",
    "\t# \t(gdf_plot.ACCOUNTS_CLASSIFICATION .== adescr))\n",
    "\t# \t, :];\n",
    "\t# @df plot_data scatter(:QTR, :TOTAL/10^8, title = \"Finance Ledger Data\", xlabel=\"Quarter\", ylabel=\"Total (in USD million)\", label=\"$ld_p Total by $yr_p for $rg_p\")\n",
    "\t# @df gdf_plot plot(:QTR, :ACCOUNTS_CLASSIFICATION, :TOTAL/10^8, title = \"Finance Ledger Data\", xlabel=\"Quarter\", ylabel=\"Total (in USD million)\", \n",
    "\t# \tlabel=[\n",
    "\t# \t\t\"$ld_p by $yr_p for $rg_p $ldescr $adescr $ddescr\"\n",
    "\t# \t\t],\n",
    "\t# \tlw=3)\n",
    "\t@df gdf_plot scatter(:QTR, :ACCOUNTS_CLASSIFICATION, :TOTAL/10^8, title = \"Finance Ledger Data\", xlabel=\"Quarter\", ylabel=\"Total (in USD million)\", \n",
    "\t\tlabel=[\n",
    "\t\t\t\"$ld_p by $yr_p for $rg_p $ldescr for $ddescr\"\n",
    "\t\t\t],\n",
    "\t\tlw=3)\n",
    "end\n",
    "\n",
    "# ╔═╡ 9313e997-cead-48e0-aac9-784708c4221c\n",
    "begin\n",
    "\t# plot_data = gdf_plot[(\n",
    "\t# \t(gdf_plot.FISCAL_YEAR .== yr_p)\n",
    "\t# \t.&\n",
    "\t# \t(gdf_plot.LEDGER .== ld_p)\n",
    "\t# \t.&\n",
    "\t# \t(gdf_plot.OPER_UNIT .== rg_p)\n",
    "\t# \t.&\n",
    "\t# \t(gdf_plot.LOCATION_DESCR .== ldescr)\n",
    "\t# \t.&\n",
    "\t# \t(gdf_plot.DEPT_CLASSIFICATION .== ddescr)\n",
    "\t# \t.&\n",
    "\t# \t(gdf_plot.ACCOUNTS_CLASSIFICATION .== adescr))\n",
    "\t# \t, :];\n",
    "\t# @df plot_data scatter(:QTR, :TOTAL/10^8, title = \"Finance Ledger Data\", xlabel=\"Quarter\", ylabel=\"Total (in USD million)\", label=\"$ld_p Total by $yr_p for $rg_p\")\n",
    "\t# @df gdf_plot plot(:QTR, :ACCOUNTS_CLASSIFICATION, :TOTAL/10^8, title = \"Finance Ledger Data\", xlabel=\"Quarter\", ylabel=\"Total (in USD million)\", \n",
    "\t# \tlabel=[\n",
    "\t# \t\t\"$ld_p by $yr_p for $rg_p $ldescr $adescr $ddescr\"\n",
    "\t# \t\t],\n",
    "\t# \tlw=3)\n",
    "\t@df gdf_plot scatter(:QTR, :DEPT_CLASSIFICATION, :TOTAL/10^8, title = \"Finance Ledger Data\", xlabel=\"Quarter\", ylabel=\"Total (in USD million)\", \n",
    "\t\tlabel=[\n",
    "\t\t\t\"$ld_p by $yr_p for $rg_p $ldescr for $adescr\"\n",
    "\t\t\t],\n",
    "\t\tlw=3)\n",
    "end\n",
    "\n",
    "# ╔═╡ 5bd9fabf-52c6-4d5b-a871-74791237f5f4\n",
    "md\"\"\"\n",
    "## what-if, would, could, should\n",
    "\tRegion A is merged with Region B\n",
    "\tEmployee resume work from office, how much Travel amounts % will increase.\n",
    "\t% of Office supply expenses given to Employee as home office setup\n",
    "\twould Region A, Cash Flow Investment have returned 7% ROI\n",
    "\twould Region B received Government/investor funding\n",
    "\tcould have increased IT operating expenses by 5%\n",
    "\tcould have reduced HR temp staff\n",
    "\t\n",
    "\tshould have paid vendor invoiced on time to recive rebate\n",
    "\tshould have applied loan to increase production\n",
    "\tshould have retired a particular Asset\n",
    "\"\"\"\n",
    "\n",
    "# ╔═╡ 60ce8d4c-433d-4ce0-918b-7b8512749fb3\n",
    "md\"\"\"\n",
    "## Real-time TimeSeries, StatsModel predictions\n",
    "\tPredict Operating and non-operating expense for year\n",
    "\tPredict Actuals to Budget variance and FORECAST\n",
    "\tusing SARIMA model to predict \"Region A\" NET-WORTH\n",
    "\"\"\"\n",
    "\n",
    "# ╔═╡ c93c46dc-1b18-43fc-babe-d8bc81c38d5c\n",
    "md\"\"\"\n",
    "# Supply chain Dashboard - live inventory\n",
    "\tbelow is an example dashboard (image) built in Pluto\n",
    "\tThis dashboard uses OnlineStats.jl for \"real-time\" udpates\n",
    "![Supply Chain Dashboard](https://github.com/AmitXShukla/AmitXShukla.github.io/raw/master/blogs/PlutoCon/scm.png)\n",
    "\"\"\"\n",
    "\n",
    "# Feature Requests\n",
    "Pluto as an Enterprise Reproting tool.\n",
    "Pluto provides a cohesive real-time, reactive data wrangling, tranformation, reporting & analytics framework for big data /ERP data sets.\n",
    "\tCloud/on-Premise Server deployment\n",
    "\tPIN - live KPI Reports like TOC (Floating fluid content)\n",
    "\tIntegarete pluto with BI tools like Microsoft Power BI, Tableau etc.\n",
    "\tDrill-through, Drill-down functionalities\n",
    "\tlinking variables for easy navigation\n"
   ]
  },
  {
   "cell_type": "code",
   "execution_count": null,
   "metadata": {},
   "outputs": [],
   "source": []
  },
  {
   "cell_type": "markdown",
   "metadata": {},
   "source": [
    "## using interactive visualization"
   ]
  },
  {
   "cell_type": "code",
   "execution_count": 19,
   "metadata": {},
   "outputs": [
    {
     "data": {
      "text/plain": [
       "([5], [5])"
      ]
     },
     "execution_count": 19,
     "metadata": {},
     "output_type": "execute_result"
    }
   ],
   "source": [
    "a = [5] # this is a simple assignment\n",
    "b = copy(a) # b is a copy of a\n",
    "a === b\n",
    "a, b\n",
    "# b = [6]\n",
    "# a\n",
    "# A1[1] === A2[1]                 # true\n",
    "# A3 = deepcopy(A1)\n",
    "# A1[1] === A3[1]  "
   ]
  },
  {
   "cell_type": "markdown",
   "metadata": {},
   "source": [
    "## data analysis - would, could, should"
   ]
  },
  {
   "cell_type": "code",
   "execution_count": 20,
   "metadata": {},
   "outputs": [
    {
     "ename": "LoadError",
     "evalue": "UndefVarError: scatter not defined",
     "output_type": "error",
     "traceback": [
      "UndefVarError: scatter not defined",
      "",
      "Stacktrace:",
      " [1] top-level scope",
      "   @ In[20]:2",
      " [2] eval",
      "   @ ./boot.jl:373 [inlined]",
      " [3] include_string(mapexpr::typeof(REPL.softscope), mod::Module, code::String, filename::String)",
      "   @ Base ./loading.jl:1196"
     ]
    },
    {
     "name": "stdout",
     "output_type": "stream",
     "text": [
      "ld = \"Actuals\"\n",
      "ld = \"Actuals\"\n",
      "ld = \"Actuals\"\n",
      "ld = \"Actuals\"\n",
      "ld = \"Actuals\"\n",
      "ld = \"Actuals\"\n"
     ]
    }
   ],
   "source": [
    "# plot 3 chartfields\n",
    "p1 = plot((combine(groupby(accountsDF, :CLASSIFICATION), nrow)).nrow,(combine(groupby(accountsDF, :CLASSIFICATION), nrow)).CLASSIFICATION, seriestype=scatter, label = \"# of accounts by classification\", xlabel = \"# of accounts\", ylabel=\"Class\", xlims = (0, 5.5))\n",
    "p2 = plot((combine(groupby(deptDF, :CLASSIFICATION), nrow)).nrow,(combine(groupby(deptDF, :CLASSIFICATION), nrow)).CLASSIFICATION, seriestype=scatter, label = \"# of dept by classification\", xlabel = \"# of depts\", ylabel=\"Class\", xlims = (0, 2))\n",
    "p3 = plot((combine(groupby(accountsDF, :CLASSIFICATION), nrow)).nrow,(combine(groupby(locationDF, :CLASSIFICATION), nrow)).CLASSIFICATION, seriestype=scatter, label = \"# of locations by classification\", xlabel = \"# of locations\", ylabel=\"Class\", xlims = (1, 6.5))\n",
    "plot(p1, p2, p3, layout = (3, 1), legend = false)"
   ]
  },
  {
   "cell_type": "markdown",
   "metadata": {},
   "source": [
    "--- \n",
    "## creating complete Supply Chain Data Model DataFrames\n",
    "now since we got a handle of dataframe basics, let's create other chartfields/dimensions and create a complete Supply Chain DataFrame"
   ]
  },
  {
   "cell_type": "markdown",
   "metadata": {},
   "source": [
    "view, @view, copy and deepcopy\n",
    "\n",
    "normal/guassian distribution\n",
    "\n",
    "## type systems\n",
    "- ledger\n",
    "- subledger\n",
    "- accounting\n",
    "- chartfields\n",
    "\n",
    "- category\n",
    "- typeof\n",
    "- subtypes\n",
    "- supertype\n",
    "- eltypes // eltype.(eachcol(accountsDF)) # displays type of each column\n",
    "\n",
    "\n",
    "#### reading dataframe\n",
    "show\n",
    "eachcol\n",
    "describe\n",
    "eltype\n",
    "\n",
    "## transformation\n",
    "- select\n",
    "- transform\n",
    "- combine\n",
    "- unique rows\n",
    "- group by\n",
    "- order by\n",
    "- sort\n",
    "\n",
    "\n",
    "mapscols\n",
    "broadcasting\n",
    "regesx\n",
    "match\n",
    "\n",
    "\n",
    "#group by"
   ]
  },
  {
   "cell_type": "markdown",
   "metadata": {},
   "source": []
  },
  {
   "cell_type": "markdown",
   "metadata": {},
   "source": [
    "Hello Friends,\n",
    "In this video, we will discuss everything one need to know about Julia Data Frames to perform a detail ERP Data analyis.\n",
    "\n",
    "In case if you are not familiar with Julia Language, it's one of newer langauge for Data Science, you can compare this with R and Python. However, it's a newer language, which runs like C and walks like Python.\n",
    "\n",
    "I'm not going to discuss, R vs Python vs Julia, I think, each language has Pros and Cons. Please don't waste your time on pointless powerpoint comparisons, specially when it's easier to just pick these languages and start coding, and you will sooner or later, once you get a hang of programming language, there comes a time, you will know, which language meets your need.\n",
    "\n",
    "In this blog, we will discuss following topics.\n",
    "\n",
    "1. about ERP data analysiswhat are \n",
    "2. why Julia Language\n",
    "3. Julia & package Installation\n",
    "4. using Julia Data Frames for data analysis\n",
    "5. Data Visualization\n",
    "6. other packages like online stats, ODBC, JuliaDB\n",
    "7. Data Cleansing, Wrangling, Masking & Analysis\n"
   ]
  }
 ],
 "metadata": {
  "@webio": {
   "lastCommId": "6ecf94af1e8b47da8986ab40823a3d04",
   "lastKernelId": "ce83913e-fb85-4229-805a-974f9729f80c"
  },
  "kernelspec": {
   "display_name": "Julia (4 threads) 1.7.0",
   "language": "julia",
   "name": "julia-(4-threads)-1.7"
  },
  "language_info": {
   "file_extension": ".jl",
   "mimetype": "application/julia",
   "name": "julia",
   "version": "1.7.0"
  },
  "toc": {
   "base_numbering": 1,
   "nav_menu": {},
   "number_sections": true,
   "sideBar": true,
   "skip_h1_title": false,
   "title_cell": "Table of Contents",
   "title_sidebar": "Contents",
   "toc_cell": false,
   "toc_position": {},
   "toc_section_display": true,
   "toc_window_display": false
  }
 },
 "nbformat": 4,
 "nbformat_minor": 2
}
