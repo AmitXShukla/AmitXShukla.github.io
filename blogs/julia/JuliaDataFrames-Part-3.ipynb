{
 "cells": [
  {
   "cell_type": "markdown",
   "metadata": {},
   "source": [
    "# P2P (Procure to Pay) Data Analysis & Visualization, Machine Learning Predictive Analytics using Julia Language"
   ]
  },
  {
   "cell_type": "markdown",
   "metadata": {},
   "source": [
    "This is **Part - 3** of 3 ERP Data analysis notebooks.\n",
    "- Part 1 - General Ledger, Data Science Basics\n",
    "- Part 2 - General Ledger Data Analysis & Visualization\n",
    "- Part 3 - P2P (Procure to Pay) Data Analysis & Visualization\n",
    "\n",
    "**Related blogs:**\n",
    "    \n",
    "- [Web-scrapping, Web automation using Julia Language](https://amit-shukla.medium.com/web-scrapping-web-automation-using-julia-language-2c473db84fbc)\n",
    "- Working with ODBC, ORM, XML, JSON, PDF, TXT, CSV, XLS\n",
    "- Working with PDF documents, Image Scanner, OCR Reader\n",
    "\n",
    "**Target Audience:** This notebook, is meant for ERP consultants, IT Developers, Finance, Supply chain, HR & CRM managers, executive leaders or anyone curious to implement data science concepts in ERP space.\n",
    "\n",
    "+ **Author:** Amit Shukla\n",
    "+ **Contact:** info@elishconsulting.com\n",
    "\n",
    "In part 1, 2 of 3 series notebooks, we covered basics & details of ERP Data Finance model and learned basics of DataFrames.jl package and looked into perform detail ERP Data Analysis with visualizations.\n",
    "\n",
    "\n",
    "In this part 3 notebook, we will continue to analyze Supply Chain data in aspects of Procure to Pay P2P, often referred as Buy to Pay B2P.\n",
    "\n",
    "## adding Packages"
   ]
  },
  {
   "cell_type": "code",
   "execution_count": 40,
   "metadata": {},
   "outputs": [
    {
     "name": "stdout",
     "output_type": "stream",
     "text": [
      "\u001b[32m\u001b[1m      Status\u001b[22m\u001b[39m `~/.julia/environments/v1.7/Project.toml`\n",
      " \u001b[90m [336ed68f] \u001b[39mCSV v0.10.3\n",
      " \u001b[90m [54eefc05] \u001b[39mCascadia v1.0.1\n",
      " \u001b[90m [324d7699] \u001b[39mCategoricalArrays v0.10.5\n",
      " \u001b[90m [8f4d0f93] \u001b[39mConda v1.7.0\n",
      " \u001b[90m [a93c6f00] \u001b[39mDataFrames v1.3.2\n",
      " \u001b[90m [31c24e10] \u001b[39mDistributions v0.25.53\n",
      " \u001b[90m [e30172f5] \u001b[39mDocumenter v0.27.15\n",
      " \u001b[90m [8f5d6c58] \u001b[39mEzXML v1.1.0\n",
      " \u001b[90m [708ec375] \u001b[39mGumbo v0.8.0\n",
      " \u001b[90m [cd3eb016] \u001b[39mHTTP v0.9.17\n",
      " \u001b[90m [7073ff75] \u001b[39mIJulia v1.23.2\n",
      " \u001b[90m [c601a237] \u001b[39mInteract v0.10.4\n",
      " \u001b[90m [0f8b85d8] \u001b[39mJSON3 v1.9.4\n",
      " \u001b[90m [b9914132] \u001b[39mJSONTables v1.0.3\n",
      " \u001b[90m [4d0d745f] \u001b[39mPDFIO v0.1.13\n",
      " \u001b[90m [c3e4b0f8] \u001b[39mPluto v0.18.4\n",
      " \u001b[90m [2dfb63ee] \u001b[39mPooledArrays v1.4.0\n",
      " \u001b[90m [438e738f] \u001b[39mPyCall v1.93.1\n",
      " \u001b[90m [88034a9c] \u001b[39mStringDistances v0.11.2\n",
      " \u001b[90m [a2db99b7] \u001b[39mTextAnalysis v0.7.3\n",
      " \u001b[90m [05625dda] \u001b[39mWebDriver v0.1.2\n",
      " \u001b[90m [0f1e0344] \u001b[39mWebIO v0.8.17\n",
      " \u001b[90m [fdbf4ff8] \u001b[39mXLSX v0.7.9\n",
      " \u001b[90m [ade2ca70] \u001b[39mDates\n",
      " \u001b[90m [8bb1440f] \u001b[39mDelimitedFiles\n"
     ]
    },
    {
     "name": "stderr",
     "output_type": "stream",
     "text": [
      "\u001b[32m\u001b[1m   Resolving\u001b[22m\u001b[39m package versions...\n",
      "\u001b[32m\u001b[1m  No Changes\u001b[22m\u001b[39m to `~/.julia/environments/v1.7/Project.toml`\n",
      "\u001b[32m\u001b[1m  No Changes\u001b[22m\u001b[39m to `~/.julia/environments/v1.7/Manifest.toml`\n",
      "\u001b[32m\u001b[1m   Resolving\u001b[22m\u001b[39m package versions...\n",
      "\u001b[32m\u001b[1m  No Changes\u001b[22m\u001b[39m to `~/.julia/environments/v1.7/Project.toml`\n",
      "\u001b[32m\u001b[1m  No Changes\u001b[22m\u001b[39m to `~/.julia/environments/v1.7/Manifest.toml`\n",
      "\u001b[32m\u001b[1m   Resolving\u001b[22m\u001b[39m package versions...\n",
      "\u001b[32m\u001b[1m  No Changes\u001b[22m\u001b[39m to `~/.julia/environments/v1.7/Project.toml`\n",
      "\u001b[32m\u001b[1m  No Changes\u001b[22m\u001b[39m to `~/.julia/environments/v1.7/Manifest.toml`\n",
      "\u001b[32m\u001b[1m   Resolving\u001b[22m\u001b[39m package versions...\n",
      "\u001b[32m\u001b[1m  No Changes\u001b[22m\u001b[39m to `~/.julia/environments/v1.7/Project.toml`\n",
      "\u001b[32m\u001b[1m  No Changes\u001b[22m\u001b[39m to `~/.julia/environments/v1.7/Manifest.toml`\n",
      "\u001b[32m\u001b[1m   Resolving\u001b[22m\u001b[39m package versions...\n",
      "\u001b[32m\u001b[1m  No Changes\u001b[22m\u001b[39m to `~/.julia/environments/v1.7/Project.toml`\n",
      "\u001b[32m\u001b[1m  No Changes\u001b[22m\u001b[39m to `~/.julia/environments/v1.7/Manifest.toml`\n",
      "\u001b[32m\u001b[1m   Resolving\u001b[22m\u001b[39m package versions...\n",
      "\u001b[32m\u001b[1m  No Changes\u001b[22m\u001b[39m to `~/.julia/environments/v1.7/Project.toml`\n",
      "\u001b[32m\u001b[1m  No Changes\u001b[22m\u001b[39m to `~/.julia/environments/v1.7/Manifest.toml`\n",
      "\u001b[32m\u001b[1m   Resolving\u001b[22m\u001b[39m package versions...\n",
      "\u001b[32m\u001b[1m  No Changes\u001b[22m\u001b[39m to `~/.julia/environments/v1.7/Project.toml`\n",
      "\u001b[32m\u001b[1m  No Changes\u001b[22m\u001b[39m to `~/.julia/environments/v1.7/Manifest.toml`\n",
      "\u001b[32m\u001b[1m   Resolving\u001b[22m\u001b[39m package versions...\n",
      "\u001b[32m\u001b[1m  No Changes\u001b[22m\u001b[39m to `~/.julia/environments/v1.7/Project.toml`\n",
      "\u001b[32m\u001b[1m  No Changes\u001b[22m\u001b[39m to `~/.julia/environments/v1.7/Manifest.toml`\n",
      "\u001b[32m\u001b[1m   Resolving\u001b[22m\u001b[39m package versions...\n",
      "\u001b[32m\u001b[1m   Installed\u001b[22m\u001b[39m FillArrays ──── v0.13.2\n",
      "\u001b[32m\u001b[1m   Installed\u001b[22m\u001b[39m StatsFuns ───── v0.9.18\n",
      "\u001b[32m\u001b[1m   Installed\u001b[22m\u001b[39m Distributions ─ v0.25.53\n",
      "\u001b[32m\u001b[1m    Updating\u001b[22m\u001b[39m `~/.julia/environments/v1.7/Project.toml`\n",
      " \u001b[90m [31c24e10] \u001b[39m\u001b[92m+ Distributions v0.25.53\u001b[39m\n",
      "\u001b[32m\u001b[1m    Updating\u001b[22m\u001b[39m `~/.julia/environments/v1.7/Manifest.toml`\n",
      " \u001b[90m [b429d917] \u001b[39m\u001b[92m+ DensityInterface v0.4.0\u001b[39m\n",
      " \u001b[90m [31c24e10] \u001b[39m\u001b[92m+ Distributions v0.25.53\u001b[39m\n",
      " \u001b[90m [1a297f60] \u001b[39m\u001b[92m+ FillArrays v0.13.2\u001b[39m\n",
      " \u001b[90m [90014a1f] \u001b[39m\u001b[92m+ PDMats v0.11.7\u001b[39m\n",
      " \u001b[90m [1fd47b50] \u001b[39m\u001b[92m+ QuadGK v2.4.2\u001b[39m\n",
      " \u001b[90m [79098fc4] \u001b[39m\u001b[92m+ Rmath v0.7.0\u001b[39m\n",
      " \u001b[90m [276daf66] \u001b[39m\u001b[92m+ SpecialFunctions v2.1.4\u001b[39m\n",
      " \u001b[90m [4c63d2b9] \u001b[39m\u001b[92m+ StatsFuns v0.9.18\u001b[39m\n",
      " \u001b[90m [efe28fd5] \u001b[39m\u001b[92m+ OpenSpecFun_jll v0.5.5+0\u001b[39m\n",
      " \u001b[90m [f50d1b31] \u001b[39m\u001b[92m+ Rmath_jll v0.3.0+0\u001b[39m\n",
      " \u001b[90m [4607b0f0] \u001b[39m\u001b[92m+ SuiteSparse\u001b[39m\n",
      " \u001b[90m [05823500] \u001b[39m\u001b[92m+ OpenLibm_jll\u001b[39m\n",
      "\u001b[32m\u001b[1mPrecompiling\u001b[22m\u001b[39m project...\n",
      "\u001b[32m  ✓ \u001b[39m\u001b[90mFillArrays\u001b[39m\n",
      "\u001b[32m  ✓ \u001b[39m\u001b[90mStatsFuns\u001b[39m\n",
      "\u001b[32m  ✓ \u001b[39mDistributions\n",
      "  3 dependencies successfully precompiled in 12 seconds (127 already precompiled)\n",
      "\u001b[32m\u001b[1m    Building\u001b[22m\u001b[39m WebIO → `~/.julia/scratchspaces/44cfe95a-1eb2-52ea-b672-e2afdf69b78f/c9529be473e97fa0b3b2642cdafcd0896b4c9494/build.log`\n"
     ]
    }
   ],
   "source": [
    "using Pkg\n",
    "Pkg.add(\"DataFrames\")\n",
    "Pkg.add(\"Dates\")\n",
    "Pkg.add(\"CategoricalArrays\")\n",
    "Pkg.add(\"Interact\")\n",
    "Pkg.add(\"WebIO\")\n",
    "Pkg.add(\"CSV\")\n",
    "Pkg.add(\"XLSX\")\n",
    "Pkg.add(\"DelimitedFiles\")\n",
    "Pkg.add(\"Distributions\")\n",
    "Pkg.build(\"WebIO\")\n",
    "Pkg.status();"
   ]
  },
  {
   "cell_type": "code",
   "execution_count": 41,
   "metadata": {},
   "outputs": [],
   "source": [
    "using DataFrames, Dates, Interact, CategoricalArrays, WebIO, CSV, XLSX, DelimitedFiles, Distributions"
   ]
  },
  {
   "cell_type": "markdown",
   "metadata": {},
   "source": [
    "*rest of this blog, I will assume, you have added all packages and imported in current namespace/notebook scope.*"
   ]
  },
  {
   "cell_type": "markdown",
   "metadata": {},
   "source": [
    "--- \n",
    "## Supply Chain Data Model\n",
    "We already covered DataFrames and ERP Finance data model in Part 1 & Part 2 notebooks, in below section, let's recreate all Supply Chain DataFrames to continue advance analytics and visualization.\n",
    "\n",
    "#### Dimensions\n",
    "\n",
    "- Item master, Item Attribs, Item Costing\n",
    "\n",
    "    **UNSPSC:**  The United Nations Standard Products and Services Code® (UNSPSC®) is a global classification system of products and services.\n",
    "                These codes are used to classify products and services.\n",
    "    \n",
    "    **GUDID:** The Global Unique Device Identification Database (GUDID) is a database administered by the FDA that will serve as a reference catalog for every device with a unique device identifier (UDI).\n",
    "\n",
    "    **GTIN:** Global Trade Item Number (GTIN) can be used by a company to uniquely identify all of its trade items. GS1 defines trade items as products or services that are priced, ordered or invoiced at any point in the supply chain.\n",
    "\n",
    "    **GMDN:** The Global Medical Device Nomenclature (GMDN) is a comprehensive set of terms, within a structured category hierarchy, which name and group ALL medical device products including implantables, medical equipment, consumables, and diagnostic devices.\n",
    "    \n",
    "    \n",
    "- Vendor master, Vendor Attribs, Vendor Costing\n",
    "    Customer/Buyer/Procurement Officer Attribs\n",
    "    shipto, warehouse, storage & inventory locations\n",
    "\n",
    "#### Transactions\n",
    "\n",
    "-   PurchaseOrder\n",
    "-   MSR - Material Service\n",
    "-   Voucher\n",
    "-   Invoice\n",
    "-   Receipt\n",
    "-   Shipment\n",
    "-   Sales, Revenue\n",
    "-   Travel, Expense, TimeCard\n",
    "-   Accounting Lines"
   ]
  },
  {
   "cell_type": "markdown",
   "metadata": {},
   "source": [
    "## Item master"
   ]
  },
  {
   "cell_type": "code",
   "execution_count": 2,
   "metadata": {},
   "outputs": [
    {
     "data": {
      "text/plain": [
       "14-element Vector{String}:\n",
       " \".ipynb_checkpoints\"\n",
       " \"1-installation.ipynb\"\n",
       " \"FuzzyWuzzy_NLP.ipynb\"\n",
       " \"Image_Scanner_Reader_OCR.ipynb\"\n",
       " \"JuliaDataFrames-Part-1.ipynb\"\n",
       " \"JuliaDataFrames-Part-2.ipynb\"\n",
       " \"JuliaDataFrames-Part-3.ipynb\"\n",
       " \"SampleData\"\n",
       " \"UNSPSC.csv\"\n",
       " \"WebScrapper.ipynb\"\n",
       " \"Working_with_ORM-XML_JSON_Parser.ipynb\"\n",
       " \"images\"\n",
       " \"setup local machine, iPad, Andr\" ⋯ 23 bytes ⋯ \"ang Data Science computing.html\"\n",
       " \"setup local machine, iPad, Andr\" ⋯ 22 bytes ⋯ \"Lang Data Science computing.pdf\""
      ]
     },
     "metadata": {},
     "output_type": "display_data"
    }
   ],
   "source": [
    "###############################\n",
    "## create SUPPLY CHAIN DATA ###\n",
    "###############################\n",
    "# Item master, Item Attribs, Item Costing ##\n",
    "#       UNSPSC, GUDID, GTIN, GMDN\n",
    "############################################\n",
    "\n",
    "##########\n",
    "# UNSPSC #\n",
    "##########\n",
    "# UNSPSC file can be downloaded from this link https://www.ungm.org/Public/UNSPSC\n",
    "xf = XLSX.readxlsx(\"sampleData/UNGM_UNSPSC_12-Apr-2022.xlsx\")\n",
    "# xf will display names of sheets and rows with data\n",
    "# let's read this data in to a DataFrame\n",
    "\n",
    "# using below command will read xlsx data into DataFrame but will not render column labels\n",
    "# df = DataFrame(XLSX.readdata(\"UNGM_UNSPSC_09-Apr-2022..xlsx\", \"UNSPSC\", \"A1:D12988\"), :auto)\n",
    "dfUNSPSC = DataFrame(XLSX.readtable(\"sampleData/UNGM_UNSPSC_09-Apr-2022..xlsx\", \"UNSPSC\")...)\n",
    "# ... operator will splat the tuple (data, column_labels) into the constructor of DataFrame\n",
    "\n",
    "# replace missing values with an integer 99999\n",
    "replace!(dfUNSPSC.\"Parent key\", missing => 99999)\n",
    "size(dfUNSPSC)\n",
    "\n",
    "# let's export this clean csv, we'll load this into database\n",
    "CSV.write(\"UNSPSC.csv\", dfUNSPSC)\n",
    "\n",
    "# # remember to empty dataFrame after usage\n",
    "# # Julia will flush it out automatically after session,\n",
    "# # but often ERP data gets bulky during session\n",
    "# Base.summarysize(dfUNSPSC)\n",
    "# empty!(dfUNSPSC)\n",
    "# Base.summarysize(dfUNSPSC)"
   ]
  },
  {
   "cell_type": "code",
   "execution_count": 2,
   "metadata": {},
   "outputs": [
    {
     "data": {
      "text/html": [
       "<div class=\"data-frame\"><p>3,308,327 rows × 34 columns (omitted printing of 30 columns)</p><table class=\"data-frame\"><thead><tr><th></th><th>PrimaryDI</th><th>publicDeviceRecordKey</th><th>publicVersionStatus</th><th>deviceRecordStatus</th></tr><tr><th></th><th title=\"Any\">Any</th><th title=\"Any\">Any</th><th title=\"Any\">Any</th><th title=\"Any\">Any</th></tr></thead><tbody><tr><th>1</th><td>846468020071</td><td>3b9dc245-4402-48b5-aff0-8ae4187f46e5</td><td>Update</td><td>Published</td></tr><tr><th>2</th><td>846468020064</td><td>ad12b359-bfe3-4c0d-88da-4ee898f60009</td><td>Update</td><td>Published</td></tr><tr><th>3</th><td>846468020057</td><td>56f01051-273c-43a2-9451-12d6468f1e11</td><td>Update</td><td>Published</td></tr><tr><th>4</th><td>846468020040</td><td>d11bb977-56c4-413b-adad-f1183708e484</td><td>Update</td><td>Published</td></tr><tr><th>5</th><td>846468020033</td><td>f65b67b6-c828-4923-b759-313875487489</td><td>Update</td><td>Published</td></tr><tr><th>6</th><td>846468020026</td><td>e1a03cd1-dae1-4de3-a680-cb2f9bb1aaec</td><td>Update</td><td>Published</td></tr><tr><th>7</th><td>846468020019</td><td>46d86100-7844-4626-92dc-9cf400c81f25</td><td>Update</td><td>Published</td></tr><tr><th>8</th><td>846468020002</td><td>40dbe60d-0f3f-422f-b7cd-4699c8d187e0</td><td>Update</td><td>Published</td></tr><tr><th>9</th><td>846468019990</td><td>ca90fcf1-40d2-40f3-855f-e630a79ab4a0</td><td>Update</td><td>Published</td></tr><tr><th>10</th><td>846468019983</td><td>a1ec6893-0254-43cf-a389-aabf664d46ee</td><td>Update</td><td>Published</td></tr><tr><th>11</th><td>846468019976</td><td>9a284266-e8cc-40a5-a992-4deb3606a22e</td><td>Update</td><td>Published</td></tr><tr><th>12</th><td>846468019969</td><td>20f019d5-2bd1-4d68-b652-5895455724f7</td><td>Update</td><td>Published</td></tr><tr><th>13</th><td>846468019952</td><td>4b4c17ac-6906-4e76-9912-6818b40343e6</td><td>Update</td><td>Published</td></tr><tr><th>14</th><td>846468019938</td><td>267c56d9-0ec3-4687-99c2-65909af06481</td><td>Update</td><td>Published</td></tr><tr><th>15</th><td>846468019921</td><td>be75bb8c-b218-419c-9cb4-060d69a90bec</td><td>Update</td><td>Published</td></tr><tr><th>16</th><td>846468019914</td><td>67ae01a2-6b5d-4b23-840c-46f594d82713</td><td>Update</td><td>Published</td></tr><tr><th>17</th><td>846468019907</td><td>21ecf724-7c85-44c5-ae9f-8d1098757b9b</td><td>Update</td><td>Published</td></tr><tr><th>18</th><td>846468019884</td><td>56a681a6-9391-4816-b290-35d7766c92f4</td><td>Update</td><td>Published</td></tr><tr><th>19</th><td>846468019877</td><td>2d5020e1-4e03-4b2e-9432-f082a67ee073</td><td>Update</td><td>Published</td></tr><tr><th>20</th><td>846468019860</td><td>c174bbdb-aaab-4b42-a9e3-c71a530f753b</td><td>Update</td><td>Published</td></tr><tr><th>21</th><td>846468019853</td><td>98cbb525-db1c-4c54-9597-30bb6dd9859d</td><td>Update</td><td>Published</td></tr><tr><th>22</th><td>846468019846</td><td>0dfb0d5c-1b0d-4b67-9a38-5ac9dd0dc607</td><td>Update</td><td>Published</td></tr><tr><th>23</th><td>846468019839</td><td>20e49d66-42d8-4908-8250-f6ddccaa404d</td><td>Update</td><td>Published</td></tr><tr><th>24</th><td>846468019822</td><td>dbb106c7-8c3f-4fc6-a49e-90286dfb2bff</td><td>Update</td><td>Published</td></tr><tr><th>25</th><td>846468019815</td><td>9e8aac13-89ab-4c08-b95b-050dfcdc05f7</td><td>Update</td><td>Published</td></tr><tr><th>26</th><td>846468019808</td><td>fe35673d-d9df-41a7-a15b-65e8d1aeaed9</td><td>Update</td><td>Published</td></tr><tr><th>27</th><td>846468019792</td><td>c104041a-34c5-473a-a22a-b7af493de3c2</td><td>Update</td><td>Published</td></tr><tr><th>28</th><td>846468019785</td><td>5957ac89-f415-4287-bfca-b17c9596e576</td><td>Update</td><td>Published</td></tr><tr><th>29</th><td>846468019778</td><td>7baf280b-882f-489c-a77a-62620fbab429</td><td>Update</td><td>Published</td></tr><tr><th>30</th><td>846468019761</td><td>0f5fcd18-cd51-4e9e-9a35-20eff436d599</td><td>Update</td><td>Published</td></tr><tr><th>&vellip;</th><td>&vellip;</td><td>&vellip;</td><td>&vellip;</td><td>&vellip;</td></tr></tbody></table></div>"
      ],
      "text/latex": [
       "\\begin{tabular}{r|ccccc}\n",
       "\t& PrimaryDI & publicDeviceRecordKey & publicVersionStatus & deviceRecordStatus & \\\\\n",
       "\t\\hline\n",
       "\t& Any & Any & Any & Any & \\\\\n",
       "\t\\hline\n",
       "\t1 & 846468020071 & 3b9dc245-4402-48b5-aff0-8ae4187f46e5 & Update & Published & $\\dots$ \\\\\n",
       "\t2 & 846468020064 & ad12b359-bfe3-4c0d-88da-4ee898f60009 & Update & Published & $\\dots$ \\\\\n",
       "\t3 & 846468020057 & 56f01051-273c-43a2-9451-12d6468f1e11 & Update & Published & $\\dots$ \\\\\n",
       "\t4 & 846468020040 & d11bb977-56c4-413b-adad-f1183708e484 & Update & Published & $\\dots$ \\\\\n",
       "\t5 & 846468020033 & f65b67b6-c828-4923-b759-313875487489 & Update & Published & $\\dots$ \\\\\n",
       "\t6 & 846468020026 & e1a03cd1-dae1-4de3-a680-cb2f9bb1aaec & Update & Published & $\\dots$ \\\\\n",
       "\t7 & 846468020019 & 46d86100-7844-4626-92dc-9cf400c81f25 & Update & Published & $\\dots$ \\\\\n",
       "\t8 & 846468020002 & 40dbe60d-0f3f-422f-b7cd-4699c8d187e0 & Update & Published & $\\dots$ \\\\\n",
       "\t9 & 846468019990 & ca90fcf1-40d2-40f3-855f-e630a79ab4a0 & Update & Published & $\\dots$ \\\\\n",
       "\t10 & 846468019983 & a1ec6893-0254-43cf-a389-aabf664d46ee & Update & Published & $\\dots$ \\\\\n",
       "\t11 & 846468019976 & 9a284266-e8cc-40a5-a992-4deb3606a22e & Update & Published & $\\dots$ \\\\\n",
       "\t12 & 846468019969 & 20f019d5-2bd1-4d68-b652-5895455724f7 & Update & Published & $\\dots$ \\\\\n",
       "\t13 & 846468019952 & 4b4c17ac-6906-4e76-9912-6818b40343e6 & Update & Published & $\\dots$ \\\\\n",
       "\t14 & 846468019938 & 267c56d9-0ec3-4687-99c2-65909af06481 & Update & Published & $\\dots$ \\\\\n",
       "\t15 & 846468019921 & be75bb8c-b218-419c-9cb4-060d69a90bec & Update & Published & $\\dots$ \\\\\n",
       "\t16 & 846468019914 & 67ae01a2-6b5d-4b23-840c-46f594d82713 & Update & Published & $\\dots$ \\\\\n",
       "\t17 & 846468019907 & 21ecf724-7c85-44c5-ae9f-8d1098757b9b & Update & Published & $\\dots$ \\\\\n",
       "\t18 & 846468019884 & 56a681a6-9391-4816-b290-35d7766c92f4 & Update & Published & $\\dots$ \\\\\n",
       "\t19 & 846468019877 & 2d5020e1-4e03-4b2e-9432-f082a67ee073 & Update & Published & $\\dots$ \\\\\n",
       "\t20 & 846468019860 & c174bbdb-aaab-4b42-a9e3-c71a530f753b & Update & Published & $\\dots$ \\\\\n",
       "\t21 & 846468019853 & 98cbb525-db1c-4c54-9597-30bb6dd9859d & Update & Published & $\\dots$ \\\\\n",
       "\t22 & 846468019846 & 0dfb0d5c-1b0d-4b67-9a38-5ac9dd0dc607 & Update & Published & $\\dots$ \\\\\n",
       "\t23 & 846468019839 & 20e49d66-42d8-4908-8250-f6ddccaa404d & Update & Published & $\\dots$ \\\\\n",
       "\t24 & 846468019822 & dbb106c7-8c3f-4fc6-a49e-90286dfb2bff & Update & Published & $\\dots$ \\\\\n",
       "\t25 & 846468019815 & 9e8aac13-89ab-4c08-b95b-050dfcdc05f7 & Update & Published & $\\dots$ \\\\\n",
       "\t26 & 846468019808 & fe35673d-d9df-41a7-a15b-65e8d1aeaed9 & Update & Published & $\\dots$ \\\\\n",
       "\t27 & 846468019792 & c104041a-34c5-473a-a22a-b7af493de3c2 & Update & Published & $\\dots$ \\\\\n",
       "\t28 & 846468019785 & 5957ac89-f415-4287-bfca-b17c9596e576 & Update & Published & $\\dots$ \\\\\n",
       "\t29 & 846468019778 & 7baf280b-882f-489c-a77a-62620fbab429 & Update & Published & $\\dots$ \\\\\n",
       "\t30 & 846468019761 & 0f5fcd18-cd51-4e9e-9a35-20eff436d599 & Update & Published & $\\dots$ \\\\\n",
       "\t$\\dots$ & $\\dots$ & $\\dots$ & $\\dots$ & $\\dots$ &  \\\\\n",
       "\\end{tabular}\n"
      ],
      "text/plain": [
       "\u001b[1m3308327×34 DataFrame\u001b[0m\n",
       "\u001b[1m     Row \u001b[0m│\u001b[1m PrimaryDI     \u001b[0m\u001b[1m publicDeviceRecordKey             \u001b[0m\u001b[1m publicVersionStat\u001b[0m ⋯\n",
       "\u001b[1m         \u001b[0m│\u001b[90m Any           \u001b[0m\u001b[90m Any                               \u001b[0m\u001b[90m Any              \u001b[0m ⋯\n",
       "─────────┼──────────────────────────────────────────────────────────────────────\n",
       "       1 │ 846468020071   3b9dc245-4402-48b5-aff0-8ae4187f…  Update            ⋯\n",
       "       2 │ 846468020064   ad12b359-bfe3-4c0d-88da-4ee898f6…  Update\n",
       "       3 │ 846468020057   56f01051-273c-43a2-9451-12d6468f…  Update\n",
       "       4 │ 846468020040   d11bb977-56c4-413b-adad-f1183708…  Update\n",
       "       5 │ 846468020033   f65b67b6-c828-4923-b759-31387548…  Update            ⋯\n",
       "       6 │ 846468020026   e1a03cd1-dae1-4de3-a680-cb2f9bb1…  Update\n",
       "       7 │ 846468020019   46d86100-7844-4626-92dc-9cf400c8…  Update\n",
       "       8 │ 846468020002   40dbe60d-0f3f-422f-b7cd-4699c8d1…  Update\n",
       "       9 │ 846468019990   ca90fcf1-40d2-40f3-855f-e630a79a…  Update            ⋯\n",
       "      10 │ 846468019983   a1ec6893-0254-43cf-a389-aabf664d…  Update\n",
       "      11 │ 846468019976   9a284266-e8cc-40a5-a992-4deb3606…  Update\n",
       "    ⋮    │       ⋮                        ⋮                           ⋮        ⋱\n",
       " 3308318 │ DVIV645952WW1  781810db-4a4e-49fe-bdeb-5c1b9412…  Update\n",
       " 3308319 │ DVIV6459511    c17c65af-d921-4a25-810d-a1196a0b…  Update            ⋯\n",
       " 3308320 │ DVIV643328EN1  0016c26d-9201-4641-b220-2b785199…  Update\n",
       " 3308321 │ DVIV641361WW1  d7b9a687-415e-477c-a876-21fb4a64…  Update\n",
       " 3308322 │ DVIV641360WW1  cfb4f131-f249-404d-b138-5c60cc54…  Update\n",
       " 3308323 │ DVIV641358WW1  4cf8bff6-814e-4ed3-9d3c-5333664e…  Update            ⋯\n",
       " 3308324 │ DVIV641350WW1  4cdd3af2-8465-4d0b-a40f-477848f6…  Update\n",
       " 3308325 │ DVIV641349WW1  9402aff4-1df6-423d-8a13-a502e8a8…  Update\n",
       " 3308326 │ DVIV641348WW1  4554a0cf-7bd3-47b9-a595-ef8861a4…  Update\n",
       " 3308327 │ DVIV641201WW1  7fb58113-30f9-4cd1-a2dc-1576cb72…  Update            ⋯\n",
       "\u001b[36m                                             32 columns and 3308306 rows omitted\u001b[0m"
      ]
     },
     "execution_count": 2,
     "metadata": {},
     "output_type": "execute_result"
    }
   ],
   "source": [
    "##########\n",
    "# GUDID ##\n",
    "##########\n",
    "# The complete list of GUDID Data Elements and descriptions can be found at this link.\n",
    "# https://www.fda.gov/media/120974/download\n",
    "# The complete GUDID Database (delimited version) download (250+MB)\n",
    "# https://accessgudid.nlm.nih.gov/release_files/download/AccessGUDID_Delimited_Full_Release_20220401.zip\n",
    "# let's extract all GUDID files in a folder\n",
    "# readdir(pwd())\n",
    "# readdir(\"sampleData/GUDID\")\n",
    "# since these files are in txt (delimited) format, we'll use delimited pkg\n",
    "\n",
    "########################\n",
    "## large txt files #####\n",
    "## read one at a time ##\n",
    "########################\n",
    "\n",
    "# data, header = readdlm(\"sampleData/GUDID/contacts.txt\", '|', header=true)\n",
    "# dfGUDIDcontacts = DataFrame(data, vec(header))\n",
    "\n",
    "# data, header = readdlm(\"sampleData/GUDID/identifiers.txt\", '|', header=true)\n",
    "# dfGUDIDidentifiers = DataFrame(data, vec(header))\n",
    "\n",
    "data, header = readdlm(\"sampleData/GUDID/device.txt\", '|', header=true)\n",
    "dfGUDIDdevice = DataFrame(data, vec(header))\n",
    "\n",
    "# # remember to empty dataFrame after usage\n",
    "# # Julia will flush it out automatically after session,\n",
    "# # but often ERP data gets bulky during session\n",
    "# Base.summarysize(dfGUDIDcontacts),Base.summarysize(dfGUDIDidentifiers),Base.summarysize(dfGUDIDdevice)\n",
    "# empty!(dfGUDIDcontacts)\n",
    "# empty!(dfGUDIDidentifiers)\n",
    "# empty!(dfGUDIDdevice)\n",
    "# Base.summarysize(dfGUDIDcontacts),Base.summarysize(dfGUDIDidentifiers),Base.summarysize(dfGUDIDdevice)"
   ]
  },
  {
   "cell_type": "code",
   "execution_count": 12,
   "metadata": {},
   "outputs": [
    {
     "data": {
      "text/plain": [
       "(3308327, 34)"
      ]
     },
     "execution_count": 12,
     "metadata": {},
     "output_type": "execute_result"
    }
   ],
   "source": [
    "# dfGUDIDdevice has more than 3308327 rows,\n",
    "# let's split this in 6 mini files, \n",
    "# so that, it can be loaded into RDBMS easily\n",
    "size(dfGUDIDdevice)\n",
    "# CSV.write(\"dfGUDIDdevice_1.csv\", dfGUDIDdevice[1:500000,:])\n",
    "# CSV.write(\"dfGUDIDdevice_2.csv\", dfGUDIDdevice[500001:1000000,:])\n",
    "# CSV.write(\"dfGUDIDdevice_3.csv\", dfGUDIDdevice[1000001:1500000,:])\n",
    "# CSV.write(\"dfGUDIDdevice_4.csv\", dfGUDIDdevice[1500001:2000000,:])\n",
    "# CSV.write(\"dfGUDIDdevice_5.csv\", dfGUDIDdevice[2000001:2500000,:])\n",
    "# CSV.write(\"dfGUDIDdevice_6.csv\", dfGUDIDdevice[2500001:3308327,:])"
   ]
  },
  {
   "cell_type": "code",
   "execution_count": 24,
   "metadata": {},
   "outputs": [
    {
     "data": {
      "text/html": [
       "<div class=\"data-frame\"><p>143,376 rows × 5 columns</p><table class=\"data-frame\"><thead><tr><th></th><th>150621010 </th><th>10603295507444</th><th>ATTUNE FB TIB BASE SZ 10 POR</th><th>Orthopaedics</th><th>EA</th></tr><tr><th></th><th title=\"Any\">Any</th><th title=\"Any\">Any</th><th title=\"Any\">Any</th><th title=\"Any\">Any</th><th title=\"Any\">Any</th></tr></thead><tbody><tr><th>1</th><td>254505412-12</td><td>10603295480709</td><td>ATTUNE RP PS TRL SZ 9 7MM</td><td>Orthopaedics</td><td>EA</td></tr><tr><th>2</th><td>L20409-13</td><td>10603295258117</td><td>BROACH CORAIL AMT 9</td><td>Orthopaedics</td><td>EA</td></tr><tr><th>3</th><td>257004050-12</td><td>10603295490449</td><td>C-STEM AMT SZ0-1 HI NECK</td><td>Orthopaedics</td><td>EA</td></tr><tr><th>4</th><td>254505411-12</td><td>10603295480693</td><td>ATTUNE RP PS TRL SZ 9 6MM</td><td>Orthopaedics</td><td>EA</td></tr><tr><th>5</th><td>L20416-13</td><td>10603295258186</td><td>BROACH CORAIL AMT 16</td><td>Orthopaedics</td><td>EA</td></tr><tr><th>6</th><td>257004000-12</td><td>10603295490432</td><td>C-STEM AMT SZ0-1 STD NECK</td><td>Orthopaedics</td><td>EA</td></tr><tr><th>7</th><td>254505410-12</td><td>10603295480648</td><td>ATTUNE RP PS TRL SZ 9 5MM</td><td>Orthopaedics</td><td>EA</td></tr><tr><th>8</th><td>L20414-13</td><td>10603295258162</td><td>BROACH CORAIL AMT 14</td><td>Orthopaedics</td><td>EA</td></tr><tr><th>9</th><td>257004300-12</td><td>10603295490494</td><td>C-STEM AMT 6-7 STD NECK</td><td>Orthopaedics</td><td>EA</td></tr><tr><th>10</th><td>254505413-12</td><td>10603295480716</td><td>ATTUNE RP PS TRL SZ 9 8MM</td><td>Orthopaedics</td><td>EA</td></tr><tr><th>11</th><td>L20411-13</td><td>10603295258131</td><td>BROACH CORAIL AMT 11</td><td>Orthopaedics</td><td>EA</td></tr><tr><th>12</th><td>257004250-12</td><td>10603295490487</td><td>C-STEM AMT SZ 4-5 HI NECK</td><td>Orthopaedics</td><td>EA</td></tr><tr><th>13</th><td>254505417-12</td><td>10603295480570</td><td>ATTUNE RP PS TRL SZ 10 5MM</td><td>Orthopaedics</td><td>EA</td></tr><tr><th>14</th><td>L20412-13</td><td>10603295258148</td><td>BROACH CORAIL AMT 12</td><td>Orthopaedics</td><td>EA</td></tr><tr><th>15</th><td>258000112-12</td><td>10603295490548</td><td>C-STEM AMT BROACH MARKED SZ1A</td><td>Orthopaedics</td><td>EA</td></tr><tr><th>16</th><td>254505418-12</td><td>10603295480587</td><td>ATTUNE RP PS TRL SZ 10 6MM</td><td>Orthopaedics</td><td>EA</td></tr><tr><th>17</th><td>L94004-13</td><td>10603295325154</td><td>CORAIL AMT NECK SEG 125D KLA</td><td>Orthopaedics</td><td>EA</td></tr><tr><th>18</th><td>257004150-12</td><td>10603295490463</td><td>C-STEM AMT SZ2-3 HI NECK</td><td>Orthopaedics</td><td>EA</td></tr><tr><th>19</th><td>254505419-12</td><td>10603295480594</td><td>ATTUNE RP PS TRL SZ 10 7MM</td><td>Orthopaedics</td><td>EA</td></tr><tr><th>20</th><td>L94006-13</td><td>10603295325178</td><td>CORAIL AMT NECK SEG 135D KHO</td><td>Orthopaedics</td><td>EA</td></tr><tr><th>21</th><td>258000111-12</td><td>10603295490531</td><td>C-STEM AMT BROACH MARKED CDH</td><td>Orthopaedics</td><td>EA</td></tr><tr><th>22</th><td>254505416-12</td><td>10603295480631</td><td>ATTUNE RP PS TRL SZ 9 12MM</td><td>Orthopaedics</td><td>EA</td></tr><tr><th>23</th><td>L94003-13</td><td>10603295325147</td><td>CORAIL AMT NECK SEG 125D STD</td><td>Orthopaedics</td><td>EA</td></tr><tr><th>24</th><td>257004400-12</td><td>10603295490517</td><td>C-STEM AMT 8-9 STD NECK</td><td>Orthopaedics</td><td>EA</td></tr><tr><th>25</th><td>254505422-12</td><td>10603295480556</td><td>ATTUNE RP PS TRL SZ 10 10MM</td><td>Orthopaedics</td><td>EA</td></tr><tr><th>26</th><td>254505314-12</td><td>10603295479765</td><td>ATTUNE RP CR TRL SZ 3 7MM</td><td>Orthopaedics</td><td>EA</td></tr><tr><th>27</th><td>258000117-12</td><td>10603295490593</td><td>C-STEM AMT BROACH MARKED SZ 3</td><td>Orthopaedics</td><td>EA</td></tr><tr><th>28</th><td>254505423-12</td><td>10603295480563</td><td>ATTUNE RP PS TRL SZ 10 12MM</td><td>Orthopaedics</td><td>EA</td></tr><tr><th>29</th><td>698344176 </td><td>10705034561738</td><td>MOD 3.5MM LEFT BENDER</td><td>Spine</td><td>EA</td></tr><tr><th>30</th><td>258000116-12</td><td>10603295490586</td><td>C-STEM AMT BROACH MARKED SZ 2</td><td>Orthopaedics</td><td>EA</td></tr><tr><th>&vellip;</th><td>&vellip;</td><td>&vellip;</td><td>&vellip;</td><td>&vellip;</td><td>&vellip;</td></tr></tbody></table></div>"
      ],
      "text/latex": [
       "\\begin{tabular}{r|ccccc}\n",
       "\t& 150621010  & 10603295507444 & ATTUNE FB TIB BASE SZ 10 POR & Orthopaedics & EA\\\\\n",
       "\t\\hline\n",
       "\t& Any & Any & Any & Any & Any\\\\\n",
       "\t\\hline\n",
       "\t1 & 254505412-12 & 10603295480709 & ATTUNE RP PS TRL SZ 9 7MM & Orthopaedics & EA \\\\\n",
       "\t2 & L20409-13 & 10603295258117 & BROACH CORAIL AMT 9 & Orthopaedics & EA \\\\\n",
       "\t3 & 257004050-12 & 10603295490449 & C-STEM AMT SZ0-1 HI NECK & Orthopaedics & EA \\\\\n",
       "\t4 & 254505411-12 & 10603295480693 & ATTUNE RP PS TRL SZ 9 6MM & Orthopaedics & EA \\\\\n",
       "\t5 & L20416-13 & 10603295258186 & BROACH CORAIL AMT 16 & Orthopaedics & EA \\\\\n",
       "\t6 & 257004000-12 & 10603295490432 & C-STEM AMT SZ0-1 STD NECK & Orthopaedics & EA \\\\\n",
       "\t7 & 254505410-12 & 10603295480648 & ATTUNE RP PS TRL SZ 9 5MM & Orthopaedics & EA \\\\\n",
       "\t8 & L20414-13 & 10603295258162 & BROACH CORAIL AMT 14 & Orthopaedics & EA \\\\\n",
       "\t9 & 257004300-12 & 10603295490494 & C-STEM AMT 6-7 STD NECK & Orthopaedics & EA \\\\\n",
       "\t10 & 254505413-12 & 10603295480716 & ATTUNE RP PS TRL SZ 9 8MM & Orthopaedics & EA \\\\\n",
       "\t11 & L20411-13 & 10603295258131 & BROACH CORAIL AMT 11 & Orthopaedics & EA \\\\\n",
       "\t12 & 257004250-12 & 10603295490487 & C-STEM AMT SZ 4-5 HI NECK & Orthopaedics & EA \\\\\n",
       "\t13 & 254505417-12 & 10603295480570 & ATTUNE RP PS TRL SZ 10 5MM & Orthopaedics & EA \\\\\n",
       "\t14 & L20412-13 & 10603295258148 & BROACH CORAIL AMT 12 & Orthopaedics & EA \\\\\n",
       "\t15 & 258000112-12 & 10603295490548 & C-STEM AMT BROACH MARKED SZ1A & Orthopaedics & EA \\\\\n",
       "\t16 & 254505418-12 & 10603295480587 & ATTUNE RP PS TRL SZ 10 6MM & Orthopaedics & EA \\\\\n",
       "\t17 & L94004-13 & 10603295325154 & CORAIL AMT NECK SEG 125D KLA & Orthopaedics & EA \\\\\n",
       "\t18 & 257004150-12 & 10603295490463 & C-STEM AMT SZ2-3 HI NECK & Orthopaedics & EA \\\\\n",
       "\t19 & 254505419-12 & 10603295480594 & ATTUNE RP PS TRL SZ 10 7MM & Orthopaedics & EA \\\\\n",
       "\t20 & L94006-13 & 10603295325178 & CORAIL AMT NECK SEG 135D KHO & Orthopaedics & EA \\\\\n",
       "\t21 & 258000111-12 & 10603295490531 & C-STEM AMT BROACH MARKED CDH & Orthopaedics & EA \\\\\n",
       "\t22 & 254505416-12 & 10603295480631 & ATTUNE RP PS TRL SZ 9 12MM & Orthopaedics & EA \\\\\n",
       "\t23 & L94003-13 & 10603295325147 & CORAIL AMT NECK SEG 125D STD & Orthopaedics & EA \\\\\n",
       "\t24 & 257004400-12 & 10603295490517 & C-STEM AMT 8-9 STD NECK & Orthopaedics & EA \\\\\n",
       "\t25 & 254505422-12 & 10603295480556 & ATTUNE RP PS TRL SZ 10 10MM & Orthopaedics & EA \\\\\n",
       "\t26 & 254505314-12 & 10603295479765 & ATTUNE RP CR TRL SZ 3 7MM & Orthopaedics & EA \\\\\n",
       "\t27 & 258000117-12 & 10603295490593 & C-STEM AMT BROACH MARKED SZ 3 & Orthopaedics & EA \\\\\n",
       "\t28 & 254505423-12 & 10603295480563 & ATTUNE RP PS TRL SZ 10 12MM & Orthopaedics & EA \\\\\n",
       "\t29 & 698344176  & 10705034561738 & MOD 3.5MM LEFT BENDER & Spine & EA \\\\\n",
       "\t30 & 258000116-12 & 10603295490586 & C-STEM AMT BROACH MARKED SZ 2 & Orthopaedics & EA \\\\\n",
       "\t$\\dots$ & $\\dots$ & $\\dots$ & $\\dots$ & $\\dots$ & $\\dots$ \\\\\n",
       "\\end{tabular}\n"
      ],
      "text/plain": [
       "\u001b[1m143376×5 DataFrame\u001b[0m\n",
       "\u001b[1m    Row \u001b[0m│\u001b[1m 150621010    \u001b[0m\u001b[1m 10603295507444 \u001b[0m\u001b[1m ATTUNE FB TIB BASE SZ 10 POR   \u001b[0m\u001b[1m Orthop\u001b[0m ⋯\n",
       "\u001b[1m        \u001b[0m│\u001b[90m Any          \u001b[0m\u001b[90m Any            \u001b[0m\u001b[90m Any                            \u001b[0m\u001b[90m Any   \u001b[0m ⋯\n",
       "────────┼───────────────────────────────────────────────────────────────────────\n",
       "      1 │ 254505412-12  10603295480709  ATTUNE RP PS TRL SZ 9 7MM       Orthop ⋯\n",
       "      2 │ L20409-13     10603295258117  BROACH CORAIL AMT 9             Orthop\n",
       "      3 │ 257004050-12  10603295490449  C-STEM AMT SZ0-1 HI NECK        Orthop\n",
       "      4 │ 254505411-12  10603295480693  ATTUNE RP PS TRL SZ 9 6MM       Orthop\n",
       "      5 │ L20416-13     10603295258186  BROACH CORAIL AMT 16            Orthop ⋯\n",
       "      6 │ 257004000-12  10603295490432  C-STEM AMT SZ0-1 STD NECK       Orthop\n",
       "      7 │ 254505410-12  10603295480648  ATTUNE RP PS TRL SZ 9 5MM       Orthop\n",
       "      8 │ L20414-13     10603295258162  BROACH CORAIL AMT 14            Orthop\n",
       "      9 │ 257004300-12  10603295490494  C-STEM AMT 6-7 STD NECK         Orthop ⋯\n",
       "     10 │ 254505413-12  10603295480716  ATTUNE RP PS TRL SZ 9 8MM       Orthop\n",
       "     11 │ L20411-13     10603295258131  BROACH CORAIL AMT 11            Orthop\n",
       "   ⋮    │      ⋮              ⋮                       ⋮                      ⋮ ⋱\n",
       " 143367 │ 113796025     10603295007425  GLOBAL SHD END FIN GLEN 48      Orthop\n",
       " 143368 │ 113797025     10603295007456  GLOBAL SHD END FIN GLEN 52      Orthop ⋯\n",
       " 143369 │ 113798025     10603295007487  GLOBAL SHD END FIN GLEN 56      Orthop\n",
       " 143370 │ 113645025     10603295007043  GLO ANCHOR PEG GLENOID 56MM XL  Orthop\n",
       " 143371 │ 113640025     10603295006947  GLOBAL ANCHOR PEG GLENOID 40MM  Orthop\n",
       " 143372 │ 113641025     10603295006961  GLOBAL ANCHOR PEG GLENOID 44MM  Orthop ⋯\n",
       " 143373 │ 113642025     10603295006985  GLOBAL ANCHOR PEG GLENOID 48MM  Orthop\n",
       " 143374 │ 113643025     10603295007005  GLOBAL ANCHOR PEG GLENOID 52MM  Orthop\n",
       " 143375 │ 113644025     10603295007029  GLOBAL ANCHOR PEG GLENOID 56MM  Orthop\n",
       " 143376 │ 05            10705034245928  CUSTOM PRODUCT                  Spine  ⋯\n",
       "\u001b[36m                                               2 columns and 143355 rows omitted\u001b[0m"
      ]
     },
     "execution_count": 24,
     "metadata": {},
     "output_type": "execute_result"
    }
   ],
   "source": [
    "##########\n",
    "# GTIN ###\n",
    "##########\n",
    "\n",
    "# xf = XLSX.readxlsx(\"SampleData/DS_GTIN_ALL.xlsx\")\n",
    "# xf will display names of sheets and rows with data\n",
    "# let's read this data in to a DataFrame\n",
    "\n",
    "# using below command will read xlsx data into DataFrame but will not render column labels\n",
    "# df = DataFrame(XLSX.readdata(\"SampleData/DS_GTIN_ALL.xlsx\", \"Worksheet\", \"A14:E143403   \"), :auto)\n",
    "dfGTIN = DataFrame(XLSX.readtable(\"sampleData/DS_GTIN_ALL.xlsx\", \"Worksheet\";first_row=14)...)\n",
    "# ... operator will splat the tuple (data, column_labels) into the constructor of DataFrame\n",
    "\n",
    "# replace missing values with an integer 99999\n",
    "# replace!(dfUNSPSC.\"Parent key\", missing => 99999)\n",
    "# size(dfUNSPSC)\n",
    "\n",
    "# let's export this clean csv, we'll load this into database\n",
    "# CSV.write(\"UNSPSC.csv\", dfUNSPSC)\n",
    "# readdir(pwd())\n",
    "\n",
    "# # remember to empty dataFrame after usage\n",
    "# # Julia will flush it out automatically after session,\n",
    "# # but often ERP data gets bulky during session\n",
    "# Base.summarysize(dfGTIN)\n",
    "# empty!(dfGTIN)\n",
    "# Base.summarysize(dfGTIN)"
   ]
  },
  {
   "cell_type": "code",
   "execution_count": 25,
   "metadata": {},
   "outputs": [],
   "source": [
    "##########\n",
    "# GMDN ###\n",
    "##########\n",
    "\n",
    "## GMDN data is not available\n",
    "\n",
    "# # remember to empty dataFrame after usage\n",
    "# # Julia will flush it out automatically after session,\n",
    "# # but often ERP data gets bulky during session\n",
    "# Base.summarysize(dfGMDN)\n",
    "# empty!(dfGMDN)\n",
    "# Base.summarysize(dfGMDN)"
   ]
  },
  {
   "cell_type": "markdown",
   "metadata": {},
   "source": [
    "## Vendor Master"
   ]
  },
  {
   "cell_type": "code",
   "execution_count": 54,
   "metadata": {},
   "outputs": [
    {
     "data": {
      "text/html": [
       "<div class=\"data-frame\"><p>216,686 rows × 5 columns (omitted printing of 2 columns)</p><table class=\"data-frame\"><thead><tr><th></th><th>brandName</th><th>dunsNumber</th><th>companyName</th></tr><tr><th></th><th title=\"Any\">Any</th><th title=\"Any\">Any</th><th title=\"Any\">Any</th></tr></thead><tbody><tr><th>1</th><td>QUANTUM™* SPINAL FIXATION SYSTEM</td><td>793384496</td><td>Pioneer Surgical Technology, Inc.</td></tr><tr><th>2</th><td>BULLET-TIP PEEK IBF SYSTEM</td><td>793384496</td><td>Pioneer Surgical Technology, Inc.</td></tr><tr><th>3</th><td>Streamline® TL Spinal Fixation System</td><td>793384496</td><td>Pioneer Surgical Technology, Inc.</td></tr><tr><th>4</th><td>Cequence Anterior Cervical Plate</td><td>793384496</td><td>Pioneer Surgical Technology, Inc.</td></tr><tr><th>5</th><td>CEQUENCE</td><td>793384496</td><td>Pioneer Surgical Technology, Inc.</td></tr><tr><th>6</th><td>Cequence</td><td>793384496</td><td>Pioneer Surgical Technology, Inc.</td></tr><tr><th>7</th><td>STREAMLINE®* TL SPINAL FIXATION SYSTEM</td><td>793384496</td><td>Pioneer Surgical Technology, Inc.</td></tr><tr><th>8</th><td>Streamline TL Spinal Fixation System</td><td>793384496</td><td>Pioneer Surgical Technology, Inc.</td></tr><tr><th>9</th><td>Songer® Spinal Cable System</td><td>793384496</td><td>Pioneer Surgical Technology, Inc.</td></tr><tr><th>10</th><td>Streamline® MIS Spinal Fixation System</td><td>793384496</td><td>Pioneer Surgical Technology, Inc.</td></tr><tr><th>11</th><td>Streamline MIS Spinal Fixation System</td><td>793384496</td><td>Pioneer Surgical Technology, Inc.</td></tr><tr><th>12</th><td>Streamline™* MIS Spinal Fixation System</td><td>793384496</td><td>Pioneer Surgical Technology, Inc.</td></tr><tr><th>13</th><td>Lat-Fuse™ Lateral Plate System</td><td>793384496</td><td>Pioneer Surgical Technology, Inc.</td></tr><tr><th>14</th><td>LAT-FUSE™* LATERAL PLATE SYSTEM</td><td>793384496</td><td>Pioneer Surgical Technology, Inc.</td></tr><tr><th>15</th><td>CLARITY® LATERAL RETRACTOR SYSTEM</td><td>793384496</td><td>Pioneer Surgical Technology, Inc.</td></tr><tr><th>16</th><td>Cross-Fuse® II PEEK VBR/IBF System</td><td>793384496</td><td>Pioneer Surgical Technology, Inc.</td></tr><tr><th>17</th><td>T-Plus PEEK IBF System</td><td>793384496</td><td>Pioneer Surgical Technology, Inc.</td></tr><tr><th>18</th><td>CROSS-FUSE™* II PEEK VBR/IBF SYSTEM</td><td>793384496</td><td>Pioneer Surgical Technology, Inc.</td></tr><tr><th>19</th><td>C-Plus PEEK IBF System</td><td>793384496</td><td>Pioneer Surgical Technology, Inc.</td></tr><tr><th>20</th><td>STREAMLINE TL SPINAL FIXATION SYSTEM</td><td>793384496</td><td>Pioneer Surgical Technology, Inc.</td></tr><tr><th>21</th><td>STREAMLINE™* TL SPINAL FIXATION SYSTEM</td><td>793384496</td><td>Pioneer Surgical Technology, Inc.</td></tr><tr><th>22</th><td>Instrument</td><td>793384496</td><td>Pioneer Surgical Technology, Inc.</td></tr><tr><th>23</th><td>PAC Plate Anterior Cervical Plate System</td><td>793384496</td><td>Pioneer Surgical Technology, Inc.</td></tr><tr><th>24</th><td>CervAlign Anterior Cervical Plate System</td><td>793384496</td><td>Pioneer Surgical Technology, Inc.</td></tr><tr><th>25</th><td>CLARITY RETRACTOR SYSTEM</td><td>793384496</td><td>Pioneer Surgical Technology, Inc.</td></tr><tr><th>26</th><td>RELEASE LAMINOPLASTY FIXATION SYSTEM</td><td>793384496</td><td>Pioneer Surgical Technology, Inc.</td></tr><tr><th>27</th><td>PACK Precision Allograft Cartilage Kit</td><td>793384496</td><td>Pioneer Surgical Technology, Inc.</td></tr><tr><th>28</th><td>CONTACT ALP Anterior Lumbar Plate System</td><td>793384496</td><td>Pioneer Surgical Technology, Inc.</td></tr><tr><th>29</th><td>SLIMFUSE ANTERIOR CERVICAL PLATE SYSTEM</td><td>793384496</td><td>Pioneer Surgical Technology, Inc.</td></tr><tr><th>30</th><td>Quantum BacFuse Spinous Process Fusion Plate</td><td>793384496</td><td>Pioneer Surgical Technology, Inc.</td></tr><tr><th>&vellip;</th><td>&vellip;</td><td>&vellip;</td><td>&vellip;</td></tr></tbody></table></div>"
      ],
      "text/latex": [
       "\\begin{tabular}{r|cccc}\n",
       "\t& brandName & dunsNumber & companyName & \\\\\n",
       "\t\\hline\n",
       "\t& Any & Any & Any & \\\\\n",
       "\t\\hline\n",
       "\t1 & QUANTUM™* SPINAL FIXATION SYSTEM & 793384496 & Pioneer Surgical Technology, Inc. & $\\dots$ \\\\\n",
       "\t2 & BULLET-TIP PEEK IBF SYSTEM & 793384496 & Pioneer Surgical Technology, Inc. & $\\dots$ \\\\\n",
       "\t3 & Streamline® TL Spinal Fixation System & 793384496 & Pioneer Surgical Technology, Inc. & $\\dots$ \\\\\n",
       "\t4 & Cequence Anterior Cervical Plate & 793384496 & Pioneer Surgical Technology, Inc. & $\\dots$ \\\\\n",
       "\t5 & CEQUENCE & 793384496 & Pioneer Surgical Technology, Inc. & $\\dots$ \\\\\n",
       "\t6 & Cequence & 793384496 & Pioneer Surgical Technology, Inc. & $\\dots$ \\\\\n",
       "\t7 & STREAMLINE®* TL SPINAL FIXATION SYSTEM & 793384496 & Pioneer Surgical Technology, Inc. & $\\dots$ \\\\\n",
       "\t8 & Streamline TL Spinal Fixation System & 793384496 & Pioneer Surgical Technology, Inc. & $\\dots$ \\\\\n",
       "\t9 & Songer® Spinal Cable System & 793384496 & Pioneer Surgical Technology, Inc. & $\\dots$ \\\\\n",
       "\t10 & Streamline® MIS Spinal Fixation System & 793384496 & Pioneer Surgical Technology, Inc. & $\\dots$ \\\\\n",
       "\t11 & Streamline MIS Spinal Fixation System & 793384496 & Pioneer Surgical Technology, Inc. & $\\dots$ \\\\\n",
       "\t12 & Streamline™* MIS Spinal Fixation System & 793384496 & Pioneer Surgical Technology, Inc. & $\\dots$ \\\\\n",
       "\t13 & Lat-Fuse™ Lateral Plate System & 793384496 & Pioneer Surgical Technology, Inc. & $\\dots$ \\\\\n",
       "\t14 & LAT-FUSE™* LATERAL PLATE SYSTEM & 793384496 & Pioneer Surgical Technology, Inc. & $\\dots$ \\\\\n",
       "\t15 & CLARITY® LATERAL RETRACTOR SYSTEM & 793384496 & Pioneer Surgical Technology, Inc. & $\\dots$ \\\\\n",
       "\t16 & Cross-Fuse® II PEEK VBR/IBF System & 793384496 & Pioneer Surgical Technology, Inc. & $\\dots$ \\\\\n",
       "\t17 & T-Plus PEEK IBF System & 793384496 & Pioneer Surgical Technology, Inc. & $\\dots$ \\\\\n",
       "\t18 & CROSS-FUSE™* II PEEK VBR/IBF SYSTEM & 793384496 & Pioneer Surgical Technology, Inc. & $\\dots$ \\\\\n",
       "\t19 & C-Plus PEEK IBF System & 793384496 & Pioneer Surgical Technology, Inc. & $\\dots$ \\\\\n",
       "\t20 & STREAMLINE TL SPINAL FIXATION SYSTEM & 793384496 & Pioneer Surgical Technology, Inc. & $\\dots$ \\\\\n",
       "\t21 & STREAMLINE™* TL SPINAL FIXATION SYSTEM & 793384496 & Pioneer Surgical Technology, Inc. & $\\dots$ \\\\\n",
       "\t22 & Instrument & 793384496 & Pioneer Surgical Technology, Inc. & $\\dots$ \\\\\n",
       "\t23 & PAC Plate Anterior Cervical Plate System & 793384496 & Pioneer Surgical Technology, Inc. & $\\dots$ \\\\\n",
       "\t24 & CervAlign Anterior Cervical Plate System & 793384496 & Pioneer Surgical Technology, Inc. & $\\dots$ \\\\\n",
       "\t25 & CLARITY RETRACTOR SYSTEM & 793384496 & Pioneer Surgical Technology, Inc. & $\\dots$ \\\\\n",
       "\t26 & RELEASE LAMINOPLASTY FIXATION SYSTEM & 793384496 & Pioneer Surgical Technology, Inc. & $\\dots$ \\\\\n",
       "\t27 & PACK Precision Allograft Cartilage Kit & 793384496 & Pioneer Surgical Technology, Inc. & $\\dots$ \\\\\n",
       "\t28 & CONTACT ALP Anterior Lumbar Plate System & 793384496 & Pioneer Surgical Technology, Inc. & $\\dots$ \\\\\n",
       "\t29 & SLIMFUSE ANTERIOR CERVICAL PLATE SYSTEM & 793384496 & Pioneer Surgical Technology, Inc. & $\\dots$ \\\\\n",
       "\t30 & Quantum BacFuse Spinous Process Fusion Plate & 793384496 & Pioneer Surgical Technology, Inc. & $\\dots$ \\\\\n",
       "\t$\\dots$ & $\\dots$ & $\\dots$ & $\\dots$ &  \\\\\n",
       "\\end{tabular}\n"
      ],
      "text/plain": [
       "\u001b[1m216686×5 DataFrame\u001b[0m\n",
       "\u001b[1m    Row \u001b[0m│\u001b[1m brandName                         \u001b[0m\u001b[1m dunsNumber \u001b[0m\u001b[1m companyName          \u001b[0m ⋯\n",
       "\u001b[1m        \u001b[0m│\u001b[90m Any                               \u001b[0m\u001b[90m Any        \u001b[0m\u001b[90m Any                  \u001b[0m ⋯\n",
       "────────┼───────────────────────────────────────────────────────────────────────\n",
       "      1 │ QUANTUM™* SPINAL FIXATION SYSTEM   793384496   Pioneer Surgical Tech ⋯\n",
       "      2 │ BULLET-TIP PEEK IBF SYSTEM         793384496   Pioneer Surgical Tech\n",
       "      3 │ Streamline® TL Spinal Fixation S…  793384496   Pioneer Surgical Tech\n",
       "      4 │ Cequence Anterior Cervical Plate   793384496   Pioneer Surgical Tech\n",
       "      5 │ CEQUENCE                           793384496   Pioneer Surgical Tech ⋯\n",
       "      6 │ Cequence                           793384496   Pioneer Surgical Tech\n",
       "      7 │ STREAMLINE®* TL SPINAL FIXATION …  793384496   Pioneer Surgical Tech\n",
       "      8 │ Streamline TL Spinal Fixation Sy…  793384496   Pioneer Surgical Tech\n",
       "      9 │ Songer® Spinal Cable System        793384496   Pioneer Surgical Tech ⋯\n",
       "     10 │ Streamline® MIS Spinal Fixation …  793384496   Pioneer Surgical Tech\n",
       "     11 │ Streamline MIS Spinal Fixation S…  793384496   Pioneer Surgical Tech\n",
       "   ⋮    │                 ⋮                      ⋮                       ⋮     ⋱\n",
       " 216677 │ OptraGate Junior Assort. blue pi…  448015938   IVOCLAR VIVADENT AKTI\n",
       " 216678 │ OptraGate Small Assort.blue pink   448015938   IVOCLAR VIVADENT AKTI ⋯\n",
       " 216679 │ Tetric EvoFlow Bulk Fill           448015938   IVOCLAR VIVADENT AKTI\n",
       " 216680 │ Variolink Esthetic Try In          448015938   IVOCLAR VIVADENT AKTI\n",
       " 216681 │ Cervitec F                         448015938   IVOCLAR VIVADENT AKTI\n",
       " 216682 │ BLUEPHASE STYLE                    448015938   IVOCLAR VIVADENT AKTI ⋯\n",
       " 216683 │ MULTILINK HYBRID ABUTMENT          448015938   IVOCLAR VIVADENT AKTI\n",
       " 216684 │ Multilink Automix Try In           448015938   IVOCLAR VIVADENT AKTI\n",
       " 216685 │ Root Canal Tips Refill             448015938   IVOCLAR VIVADENT AKTI\n",
       " 216686 │ Mixing Tips short tapered Refill   448015938   IVOCLAR VIVADENT AKTI ⋯\n",
       "\u001b[36m                                               3 columns and 216665 rows omitted\u001b[0m"
      ]
     },
     "execution_count": 54,
     "metadata": {},
     "output_type": "execute_result"
    }
   ],
   "source": [
    "#################\n",
    "# Vendor master #\n",
    "#################\n",
    "# create Vendor Master from GUDID dataset\n",
    "# show(first(dfGUDIDdevice,5), allcols=true)\n",
    "# show(first(dfGUDIDdevice[:,[:brandName, :catalogNumber, :dunsNumber, :companyName, :rx, :otc]],5), allcols=true)\n",
    "# names(dfGUDIDdevice)\n",
    "# dfVendor = unique(dfGUDIDdevice[:,[:brandName, :catalogNumber, :dunsNumber, :companyName, :rx, :otc]])\n",
    "# dfVendor = unique(dfGUDIDdevice[:,[:companyName]]) # 7574 unique vendors\n",
    "dfVendor = unique(dfGUDIDdevice[:,[:brandName, :dunsNumber, :companyName, :rx, :otc]])\n",
    "# dfVendor is a good dataset, have 216k rows for 7574 unique vendors\n",
    "\n",
    "# # remember to empty dataFrame after usage\n",
    "# # Julia will flush it out automatically after session,\n",
    "# # but often ERP data gets bulky during session\n",
    "# Base.summarysize(dfVendor)\n",
    "# empty!(dfVendor)\n",
    "# Base.summarysize(dfVendor)"
   ]
  },
  {
   "cell_type": "markdown",
   "metadata": {},
   "source": [
    "## Location Master"
   ]
  },
  {
   "cell_type": "code",
   "execution_count": 4,
   "metadata": {},
   "outputs": [
    {
     "data": {
      "text/html": [
       "<div class=\"data-frame\"><p>28,338 rows × 17 columns (omitted printing of 11 columns)</p><table class=\"data-frame\"><thead><tr><th></th><th>city</th><th>city_ascii</th><th>state_id</th><th>state_name</th><th>county_fips</th><th>county_name</th></tr><tr><th></th><th title=\"Any\">Any</th><th title=\"Any\">Any</th><th title=\"Any\">Any</th><th title=\"Any\">Any</th><th title=\"Any\">Any</th><th title=\"Any\">Any</th></tr></thead><tbody><tr><th>1</th><td>New York</td><td>New York</td><td>NY</td><td>New York</td><td>36061</td><td>New York</td></tr><tr><th>2</th><td>Los Angeles</td><td>Los Angeles</td><td>CA</td><td>California</td><td>6037</td><td>Los Angeles</td></tr><tr><th>3</th><td>Chicago</td><td>Chicago</td><td>IL</td><td>Illinois</td><td>17031</td><td>Cook</td></tr><tr><th>4</th><td>Miami</td><td>Miami</td><td>FL</td><td>Florida</td><td>12086</td><td>Miami-Dade</td></tr><tr><th>5</th><td>Dallas</td><td>Dallas</td><td>TX</td><td>Texas</td><td>48113</td><td>Dallas</td></tr><tr><th>6</th><td>Philadelphia</td><td>Philadelphia</td><td>PA</td><td>Pennsylvania</td><td>42101</td><td>Philadelphia</td></tr><tr><th>7</th><td>Houston</td><td>Houston</td><td>TX</td><td>Texas</td><td>48201</td><td>Harris</td></tr><tr><th>8</th><td>Atlanta</td><td>Atlanta</td><td>GA</td><td>Georgia</td><td>13121</td><td>Fulton</td></tr><tr><th>9</th><td>Washington</td><td>Washington</td><td>DC</td><td>District of Columbia</td><td>11001</td><td>District of Columbia</td></tr><tr><th>10</th><td>Boston</td><td>Boston</td><td>MA</td><td>Massachusetts</td><td>25025</td><td>Suffolk</td></tr><tr><th>11</th><td>Phoenix</td><td>Phoenix</td><td>AZ</td><td>Arizona</td><td>4013</td><td>Maricopa</td></tr><tr><th>12</th><td>Seattle</td><td>Seattle</td><td>WA</td><td>Washington</td><td>53033</td><td>King</td></tr><tr><th>13</th><td>San Francisco</td><td>San Francisco</td><td>CA</td><td>California</td><td>6075</td><td>San Francisco</td></tr><tr><th>14</th><td>Detroit</td><td>Detroit</td><td>MI</td><td>Michigan</td><td>26163</td><td>Wayne</td></tr><tr><th>15</th><td>San Diego</td><td>San Diego</td><td>CA</td><td>California</td><td>6073</td><td>San Diego</td></tr><tr><th>16</th><td>Minneapolis</td><td>Minneapolis</td><td>MN</td><td>Minnesota</td><td>27053</td><td>Hennepin</td></tr><tr><th>17</th><td>Tampa</td><td>Tampa</td><td>FL</td><td>Florida</td><td>12057</td><td>Hillsborough</td></tr><tr><th>18</th><td>Denver</td><td>Denver</td><td>CO</td><td>Colorado</td><td>8031</td><td>Denver</td></tr><tr><th>19</th><td>Brooklyn</td><td>Brooklyn</td><td>NY</td><td>New York</td><td>36047</td><td>Kings</td></tr><tr><th>20</th><td>Queens</td><td>Queens</td><td>NY</td><td>New York</td><td>36081</td><td>Queens</td></tr><tr><th>21</th><td>Riverside</td><td>Riverside</td><td>CA</td><td>California</td><td>6065</td><td>Riverside</td></tr><tr><th>22</th><td>Baltimore</td><td>Baltimore</td><td>MD</td><td>Maryland</td><td>24510</td><td>Baltimore</td></tr><tr><th>23</th><td>Las Vegas</td><td>Las Vegas</td><td>NV</td><td>Nevada</td><td>32003</td><td>Clark</td></tr><tr><th>24</th><td>Portland</td><td>Portland</td><td>OR</td><td>Oregon</td><td>41051</td><td>Multnomah</td></tr><tr><th>25</th><td>San Antonio</td><td>San Antonio</td><td>TX</td><td>Texas</td><td>48029</td><td>Bexar</td></tr><tr><th>26</th><td>St. Louis</td><td>St. Louis</td><td>MO</td><td>Missouri</td><td>29510</td><td>St. Louis</td></tr><tr><th>27</th><td>Sacramento</td><td>Sacramento</td><td>CA</td><td>California</td><td>6067</td><td>Sacramento</td></tr><tr><th>28</th><td>Orlando</td><td>Orlando</td><td>FL</td><td>Florida</td><td>12095</td><td>Orange</td></tr><tr><th>29</th><td>San Jose</td><td>San Jose</td><td>CA</td><td>California</td><td>6085</td><td>Santa Clara</td></tr><tr><th>30</th><td>Cleveland</td><td>Cleveland</td><td>OH</td><td>Ohio</td><td>39035</td><td>Cuyahoga</td></tr><tr><th>&vellip;</th><td>&vellip;</td><td>&vellip;</td><td>&vellip;</td><td>&vellip;</td><td>&vellip;</td><td>&vellip;</td></tr></tbody></table></div>"
      ],
      "text/latex": [
       "\\begin{tabular}{r|ccccccc}\n",
       "\t& city & city\\_ascii & state\\_id & state\\_name & county\\_fips & county\\_name & \\\\\n",
       "\t\\hline\n",
       "\t& Any & Any & Any & Any & Any & Any & \\\\\n",
       "\t\\hline\n",
       "\t1 & New York & New York & NY & New York & 36061 & New York & $\\dots$ \\\\\n",
       "\t2 & Los Angeles & Los Angeles & CA & California & 6037 & Los Angeles & $\\dots$ \\\\\n",
       "\t3 & Chicago & Chicago & IL & Illinois & 17031 & Cook & $\\dots$ \\\\\n",
       "\t4 & Miami & Miami & FL & Florida & 12086 & Miami-Dade & $\\dots$ \\\\\n",
       "\t5 & Dallas & Dallas & TX & Texas & 48113 & Dallas & $\\dots$ \\\\\n",
       "\t6 & Philadelphia & Philadelphia & PA & Pennsylvania & 42101 & Philadelphia & $\\dots$ \\\\\n",
       "\t7 & Houston & Houston & TX & Texas & 48201 & Harris & $\\dots$ \\\\\n",
       "\t8 & Atlanta & Atlanta & GA & Georgia & 13121 & Fulton & $\\dots$ \\\\\n",
       "\t9 & Washington & Washington & DC & District of Columbia & 11001 & District of Columbia & $\\dots$ \\\\\n",
       "\t10 & Boston & Boston & MA & Massachusetts & 25025 & Suffolk & $\\dots$ \\\\\n",
       "\t11 & Phoenix & Phoenix & AZ & Arizona & 4013 & Maricopa & $\\dots$ \\\\\n",
       "\t12 & Seattle & Seattle & WA & Washington & 53033 & King & $\\dots$ \\\\\n",
       "\t13 & San Francisco & San Francisco & CA & California & 6075 & San Francisco & $\\dots$ \\\\\n",
       "\t14 & Detroit & Detroit & MI & Michigan & 26163 & Wayne & $\\dots$ \\\\\n",
       "\t15 & San Diego & San Diego & CA & California & 6073 & San Diego & $\\dots$ \\\\\n",
       "\t16 & Minneapolis & Minneapolis & MN & Minnesota & 27053 & Hennepin & $\\dots$ \\\\\n",
       "\t17 & Tampa & Tampa & FL & Florida & 12057 & Hillsborough & $\\dots$ \\\\\n",
       "\t18 & Denver & Denver & CO & Colorado & 8031 & Denver & $\\dots$ \\\\\n",
       "\t19 & Brooklyn & Brooklyn & NY & New York & 36047 & Kings & $\\dots$ \\\\\n",
       "\t20 & Queens & Queens & NY & New York & 36081 & Queens & $\\dots$ \\\\\n",
       "\t21 & Riverside & Riverside & CA & California & 6065 & Riverside & $\\dots$ \\\\\n",
       "\t22 & Baltimore & Baltimore & MD & Maryland & 24510 & Baltimore & $\\dots$ \\\\\n",
       "\t23 & Las Vegas & Las Vegas & NV & Nevada & 32003 & Clark & $\\dots$ \\\\\n",
       "\t24 & Portland & Portland & OR & Oregon & 41051 & Multnomah & $\\dots$ \\\\\n",
       "\t25 & San Antonio & San Antonio & TX & Texas & 48029 & Bexar & $\\dots$ \\\\\n",
       "\t26 & St. Louis & St. Louis & MO & Missouri & 29510 & St. Louis & $\\dots$ \\\\\n",
       "\t27 & Sacramento & Sacramento & CA & California & 6067 & Sacramento & $\\dots$ \\\\\n",
       "\t28 & Orlando & Orlando & FL & Florida & 12095 & Orange & $\\dots$ \\\\\n",
       "\t29 & San Jose & San Jose & CA & California & 6085 & Santa Clara & $\\dots$ \\\\\n",
       "\t30 & Cleveland & Cleveland & OH & Ohio & 39035 & Cuyahoga & $\\dots$ \\\\\n",
       "\t$\\dots$ & $\\dots$ & $\\dots$ & $\\dots$ & $\\dots$ & $\\dots$ & $\\dots$ &  \\\\\n",
       "\\end{tabular}\n"
      ],
      "text/plain": [
       "\u001b[1m28338×17 DataFrame\u001b[0m\n",
       "\u001b[1m   Row \u001b[0m│\u001b[1m city                 \u001b[0m\u001b[1m city_ascii           \u001b[0m\u001b[1m state_id \u001b[0m\u001b[1m state_name     \u001b[0m ⋯\n",
       "\u001b[1m       \u001b[0m│\u001b[90m Any                  \u001b[0m\u001b[90m Any                  \u001b[0m\u001b[90m Any      \u001b[0m\u001b[90m Any            \u001b[0m ⋯\n",
       "───────┼────────────────────────────────────────────────────────────────────────\n",
       "     1 │ New York              New York              NY        New York        ⋯\n",
       "     2 │ Los Angeles           Los Angeles           CA        California\n",
       "     3 │ Chicago               Chicago               IL        Illinois\n",
       "     4 │ Miami                 Miami                 FL        Florida\n",
       "     5 │ Dallas                Dallas                TX        Texas           ⋯\n",
       "     6 │ Philadelphia          Philadelphia          PA        Pennsylvania\n",
       "     7 │ Houston               Houston               TX        Texas\n",
       "     8 │ Atlanta               Atlanta               GA        Georgia\n",
       "     9 │ Washington            Washington            DC        District of Col ⋯\n",
       "    10 │ Boston                Boston                MA        Massachusetts\n",
       "    11 │ Phoenix               Phoenix               AZ        Arizona\n",
       "   ⋮   │          ⋮                     ⋮               ⋮               ⋮      ⋱\n",
       " 28329 │ Poso Park             Poso Park             CA        California\n",
       " 28330 │ White Rock            White Rock            SD        South Dakota    ⋯\n",
       " 28331 │ Warm River            Warm River            ID        Idaho\n",
       " 28332 │ Four Mile Road        Four Mile Road        AK        Alaska\n",
       " 28333 │ Portage Creek         Portage Creek         AK        Alaska\n",
       " 28334 │ Gross                 Gross                 NE        Nebraska        ⋯\n",
       " 28335 │ Lotsee                Lotsee                OK        Oklahoma\n",
       " 28336 │ The Ranch             The Ranch             MN        Minnesota\n",
       " 28337 │ Shamrock              Shamrock              OK        Oklahoma\n",
       " 28338 │ Monowi                Monowi                NE        Nebraska        ⋯\n",
       "\u001b[36m                                               14 columns and 28317 rows omitted\u001b[0m"
      ]
     },
     "execution_count": 4,
     "metadata": {},
     "output_type": "execute_result"
    }
   ],
   "source": [
    "data, header = readdlm(\"sampleData/uscities.csv\", ',', header=true)\n",
    "dfLocation = DataFrame(data, vec(header))\n",
    "\n",
    "# # remember to empty dataFrame after usage\n",
    "# # Julia will flush it out automatically after session,\n",
    "# # but often ERP data gets bulky during session\n",
    "# Base.summarysize(dfLocation)\n",
    "# empty!(dfLocation)\n",
    "# Base.summarysize(dfLocation)"
   ]
  },
  {
   "cell_type": "code",
   "execution_count": 36,
   "metadata": {},
   "outputs": [
    {
     "data": {
      "text/plain": [
       "9-element Vector{String}:\n",
       " \"contacts.txt\"\n",
       " \"device.txt\"\n",
       " \"deviceSizes.txt\"\n",
       " \"environmentalConditions.txt\"\n",
       " \"gmdnTerms.txt\"\n",
       " \"identifiers.txt\"\n",
       " \"premarketSubmissions.txt\"\n",
       " \"productCodes.txt\"\n",
       " \"sterilizationMethodTypes.txt\""
      ]
     },
     "execution_count": 36,
     "metadata": {},
     "output_type": "execute_result"
    }
   ],
   "source": [
    "readdir(\"sampleData/GUDID\")"
   ]
  },
  {
   "cell_type": "markdown",
   "metadata": {},
   "source": [
    "## Organization Master"
   ]
  },
  {
   "cell_type": "code",
   "execution_count": 5,
   "metadata": {},
   "outputs": [
    {
     "data": {
      "text/html": [
       "<div class=\"data-frame\"><p>8 rows × 4 columns</p><table class=\"data-frame\"><thead><tr><th></th><th>ENTITY</th><th>GROUP</th><th>DEPARTMENT</th><th>UNIT</th></tr><tr><th></th><th title=\"String\">String</th><th title=\"String\">String</th><th title=\"String\">String</th><th title=\"String\">String</th></tr></thead><tbody><tr><th>1</th><td>HeadOffice</td><td>Operations</td><td>Procurement</td><td>Sourcing</td></tr><tr><th>2</th><td>HeadOffice</td><td>Operations</td><td>Procurement</td><td>Sourcing</td></tr><tr><th>3</th><td>HeadOffice</td><td>Operations</td><td>Procurement</td><td>Maintenance</td></tr><tr><th>4</th><td>HeadOffice</td><td>Operations</td><td>Procurement</td><td>Support</td></tr><tr><th>5</th><td>HeadOffice</td><td>Operations</td><td>Procurement</td><td>Services</td></tr><tr><th>6</th><td>HeadOffice</td><td>Operations</td><td>HR</td><td>Helpdesk</td></tr><tr><th>7</th><td>HeadOffice</td><td>Operations</td><td>HR</td><td>ServiceCall</td></tr><tr><th>8</th><td>HeadOffice</td><td>Operations</td><td>MFG</td><td>IT</td></tr></tbody></table></div>"
      ],
      "text/latex": [
       "\\begin{tabular}{r|cccc}\n",
       "\t& ENTITY & GROUP & DEPARTMENT & UNIT\\\\\n",
       "\t\\hline\n",
       "\t& String & String & String & String\\\\\n",
       "\t\\hline\n",
       "\t1 & HeadOffice & Operations & Procurement & Sourcing \\\\\n",
       "\t2 & HeadOffice & Operations & Procurement & Sourcing \\\\\n",
       "\t3 & HeadOffice & Operations & Procurement & Maintenance \\\\\n",
       "\t4 & HeadOffice & Operations & Procurement & Support \\\\\n",
       "\t5 & HeadOffice & Operations & Procurement & Services \\\\\n",
       "\t6 & HeadOffice & Operations & HR & Helpdesk \\\\\n",
       "\t7 & HeadOffice & Operations & HR & ServiceCall \\\\\n",
       "\t8 & HeadOffice & Operations & MFG & IT \\\\\n",
       "\\end{tabular}\n"
      ],
      "text/plain": [
       "\u001b[1m8×4 DataFrame\u001b[0m\n",
       "\u001b[1m Row \u001b[0m│\u001b[1m ENTITY     \u001b[0m\u001b[1m GROUP      \u001b[0m\u001b[1m DEPARTMENT  \u001b[0m\u001b[1m UNIT        \u001b[0m\n",
       "\u001b[1m     \u001b[0m│\u001b[90m String     \u001b[0m\u001b[90m String     \u001b[0m\u001b[90m String      \u001b[0m\u001b[90m String      \u001b[0m\n",
       "─────┼──────────────────────────────────────────────────\n",
       "   1 │ HeadOffice  Operations  Procurement  Sourcing\n",
       "   2 │ HeadOffice  Operations  Procurement  Sourcing\n",
       "   3 │ HeadOffice  Operations  Procurement  Maintenance\n",
       "   4 │ HeadOffice  Operations  Procurement  Support\n",
       "   5 │ HeadOffice  Operations  Procurement  Services\n",
       "   6 │ HeadOffice  Operations  HR           Helpdesk\n",
       "   7 │ HeadOffice  Operations  HR           ServiceCall\n",
       "   8 │ HeadOffice  Operations  MFG          IT"
      ]
     },
     "execution_count": 5,
     "metadata": {},
     "output_type": "execute_result"
    }
   ],
   "source": [
    "dfOrgMaster = DataFrame(\n",
    "    ENTITY=repeat([\"HeadOffice\"], inner=8),\n",
    "    GROUP=repeat([\"Operations\"], inner=8),\n",
    "    DEPARTMENT=[\"Procurement\",\"Procurement\",\"Procurement\",\"Procurement\",\"Procurement\",\"HR\",\"HR\",\"MFG\"],\n",
    "    UNIT=[\"Sourcing\",\"Sourcing\",\"Maintenance\",\"Support\",\"Services\",\"Helpdesk\",\"ServiceCall\",\"IT\"])"
   ]
  },
  {
   "cell_type": "markdown",
   "metadata": {},
   "source": [
    "--- \n",
    "\n",
    "## creating complete Supply Chain Data Model DataFrames\n",
    "now since we created Supply chain attribute / chartfields/dimensions\n",
    "\n",
    "- item master\n",
    "- vendor master\n",
    "- location master\n",
    "- org Hierarchy\n",
    "\n",
    "using above chartfields, let's create following Supply Chain Transactions\n",
    "\n",
    "-   MSR - Material Service request\n",
    "-   PurchaseOrder\n",
    "-   Voucher\n",
    "-   Invoice\n",
    "-   Receipt\n",
    "-   Shipment\n",
    "-   Sales, Revenue\n",
    "-   Travel, Expense, TimeCard\n",
    "-   Accounting Lines"
   ]
  },
  {
   "cell_type": "markdown",
   "metadata": {},
   "source": [
    "## MSR - Material Service request"
   ]
  },
  {
   "cell_type": "code",
   "execution_count": 38,
   "metadata": {},
   "outputs": [
    {
     "data": {
      "text/html": [
       "<div class=\"data-frame\"><p>5 rows × 6 columns</p><table class=\"data-frame\"><thead><tr><th></th><th>UNIT</th><th>MSR_DATE</th><th>FROM_UNIT</th><th>TO_UNIT</th><th>GUDID</th><th>QTY</th></tr><tr><th></th><th title=\"String\">String</th><th title=\"Date\">Date</th><th title=\"String\">String</th><th title=\"String\">String</th><th title=\"Any\">Any</th><th title=\"String\">String</th></tr></thead><tbody><tr><th>1</th><td>Sourcing</td><td>2020-08-12</td><td>Helpdesk</td><td>Sourcing</td><td>8806189833680</td><td>Support</td></tr><tr><th>2</th><td>Sourcing</td><td>2022-03-09</td><td>Helpdesk</td><td>IT</td><td>24026704518511</td><td>IT</td></tr><tr><th>3</th><td>Services</td><td>2020-09-28</td><td>Sourcing</td><td>Maintenance</td><td>15019517261912</td><td>ServiceCall</td></tr><tr><th>4</th><td>IT</td><td>2020-05-11</td><td>Support</td><td>Sourcing</td><td>190746044397</td><td>Services</td></tr><tr><th>5</th><td>Services</td><td>2021-03-02</td><td>Sourcing</td><td>Sourcing</td><td>650551143666</td><td>ServiceCall</td></tr></tbody></table></div>"
      ],
      "text/latex": [
       "\\begin{tabular}{r|cccccc}\n",
       "\t& UNIT & MSR\\_DATE & FROM\\_UNIT & TO\\_UNIT & GUDID & QTY\\\\\n",
       "\t\\hline\n",
       "\t& String & Date & String & String & Any & String\\\\\n",
       "\t\\hline\n",
       "\t1 & Sourcing & 2020-08-12 & Helpdesk & Sourcing & 8806189833680 & Support \\\\\n",
       "\t2 & Sourcing & 2022-03-09 & Helpdesk & IT & 24026704518511 & IT \\\\\n",
       "\t3 & Services & 2020-09-28 & Sourcing & Maintenance & 15019517261912 & ServiceCall \\\\\n",
       "\t4 & IT & 2020-05-11 & Support & Sourcing & 190746044397 & Services \\\\\n",
       "\t5 & Services & 2021-03-02 & Sourcing & Sourcing & 650551143666 & ServiceCall \\\\\n",
       "\\end{tabular}\n"
      ],
      "text/plain": [
       "\u001b[1m5×6 DataFrame\u001b[0m\n",
       "\u001b[1m Row \u001b[0m│\u001b[1m UNIT     \u001b[0m\u001b[1m MSR_DATE   \u001b[0m\u001b[1m FROM_UNIT \u001b[0m\u001b[1m TO_UNIT     \u001b[0m\u001b[1m GUDID          \u001b[0m\u001b[1m QTY      \u001b[0m ⋯\n",
       "\u001b[1m     \u001b[0m│\u001b[90m String   \u001b[0m\u001b[90m Date       \u001b[0m\u001b[90m String    \u001b[0m\u001b[90m String      \u001b[0m\u001b[90m Any            \u001b[0m\u001b[90m String   \u001b[0m ⋯\n",
       "─────┼──────────────────────────────────────────────────────────────────────────\n",
       "   1 │ Sourcing  2020-08-12  Helpdesk   Sourcing     8806189833680   Support   ⋯\n",
       "   2 │ Sourcing  2022-03-09  Helpdesk   IT           24026704518511  IT\n",
       "   3 │ Services  2020-09-28  Sourcing   Maintenance  15019517261912  ServiceCa\n",
       "   4 │ IT        2020-05-11  Support    Sourcing     190746044397    Services\n",
       "   5 │ Services  2021-03-02  Sourcing   Sourcing     650551143666    ServiceCa ⋯\n",
       "\u001b[36m                                                                1 column omitted\u001b[0m"
      ]
     },
     "execution_count": 38,
     "metadata": {},
     "output_type": "execute_result"
    }
   ],
   "source": [
    "sampleSize = 1000 # number of rows, scale as needed\n",
    "\n",
    "dfMSR = DataFrame(\n",
    "    UNIT = rand(dfOrgMaster.UNIT, sampleSize),\n",
    "    MSR_DATE=rand(collect(Date(2020,1,1):Day(1):Date(2022,5,1)), sampleSize),\n",
    "    FROM_UNIT = rand(dfOrgMaster.UNIT, sampleSize),\n",
    "    TO_UNIT = rand(dfOrgMaster.UNIT, sampleSize),\n",
    "    GUDID = rand(dfGUDIDdevice.PrimaryDI, sampleSize),\n",
    "    QTY = rand(dfOrgMaster.UNIT, sampleSize));\n",
    "first(dfMSR, 5)"
   ]
  },
  {
   "cell_type": "markdown",
   "metadata": {},
   "source": [
    "## Purchase Order"
   ]
  },
  {
   "cell_type": "code",
   "execution_count": 72,
   "metadata": {},
   "outputs": [
    {
     "name": "stdout",
     "output_type": "stream",
     "text": [
      "\u001b[1m5×6 DataFrame\u001b[0m\n",
      "\u001b[1m Row \u001b[0m│\u001b[1m UNIT        \u001b[0m\u001b[1m PO_DATE    \u001b[0m\u001b[1m VENDOR                   \u001b[0m\u001b[1m GUDID          \u001b[0m\u001b[1m QTY   \u001b[0m\u001b[1m UNIT_PRICE \u001b[0m\n",
      "\u001b[1m     \u001b[0m│\u001b[90m String      \u001b[0m\u001b[90m Date       \u001b[0m\u001b[90m Any                      \u001b[0m\u001b[90m Any            \u001b[0m\u001b[90m Int64 \u001b[0m\u001b[90m Float64    \u001b[0m\n",
      "─────┼──────────────────────────────────────────────────────────────────────────────────────\n",
      "   1 │ ServiceCall  2020-12-08  Nisco Co.,Ltd             4019702889710      39    101.154\n",
      "   2 │ Sourcing     2021-11-22  ALYK, INC.                613994826619       33     96.4384\n",
      "   3 │ Helpdesk     2020-12-15  Tribofilm Research, Inc.  699753511200       35     98.1189\n",
      "   4 │ ServiceCall  2022-01-19  FIRST CALL, INC.          4035324027330     112     99.62\n",
      "   5 │ Sourcing     2020-05-04  APIRA SCIENCE, INC.       10885862269799    110     97.3548"
     ]
    }
   ],
   "source": [
    "sampleSize = 1000 # number of rows, scale as needed\n",
    "\n",
    "dfPO = DataFrame(\n",
    "    UNIT = rand(dfOrgMaster.UNIT, sampleSize),\n",
    "    PO_DATE=rand(collect(Date(2020,1,1):Day(1):Date(2022,5,1)), sampleSize),\n",
    "    VENDOR=rand(unique(dfVendor.companyName), sampleSize),\n",
    "    GUDID = rand(dfGUDIDdevice.PrimaryDI, sampleSize),\n",
    "    QTY = rand(1:150, sampleSize),\n",
    "    UNIT_PRICE = rand(Normal(100, 2), sampleSize)\n",
    "    );\n",
    "show(first(dfPO, 5),allcols=true)"
   ]
  },
  {
   "cell_type": "markdown",
   "metadata": {},
   "source": [
    "## Voucher Invoice"
   ]
  },
  {
   "cell_type": "code",
   "execution_count": 78,
   "metadata": {},
   "outputs": [
    {
     "name": "stdout",
     "output_type": "stream",
     "text": [
      "\u001b[1m5×8 DataFrame\u001b[0m\n",
      "\u001b[1m Row \u001b[0m│\u001b[1m UNIT        \u001b[0m\u001b[1m VCHR_DATE  \u001b[0m\u001b[1m STATUS    \u001b[0m\u001b[1m VENDOR_INVOICE_NUM \u001b[0m\u001b[1m VENDOR                           \u001b[0m\u001b[1m GUDID          \u001b[0m\u001b[1m QTY   \u001b[0m\u001b[1m UNIT_PRICE \u001b[0m\n",
      "\u001b[1m     \u001b[0m│\u001b[90m String      \u001b[0m\u001b[90m Date       \u001b[0m\u001b[90m String    \u001b[0m\u001b[90m Int64              \u001b[0m\u001b[90m Any                              \u001b[0m\u001b[90m Any            \u001b[0m\u001b[90m Int64 \u001b[0m\u001b[90m Float64    \u001b[0m\n",
      "─────┼─────────────────────────────────────────────────────────────────────────────────────────────────────────────────────────────\n",
      "   1 │ Maintenance  2020-08-17  Paid                  8914668  HEALTHDENT'L, LLC                 M684EIC7S17R1     108    101.018\n",
      "   2 │ Services     2021-08-07  Open                  2740714  CERECOR INC.                      3596010562425     116     98.2086\n",
      "   3 │ Maintenance  2021-10-12  Paid                  9911763  PRODUITS DENTAIRES PIERRE ROLLAN  15019517251111     21     99.5375\n",
      "   4 │ Sourcing     2020-01-12  Paid                  2673941  Incipio Devices SA                715317075725      136    100.902\n",
      "   5 │ Sourcing     2021-12-05  Exception             8926616  C.T.M. HOMECARE PRODUCT, INC.     20705032020562     13    102.624"
     ]
    }
   ],
   "source": [
    "sampleSize = 1000 # number of rows, scale as needed\n",
    "\n",
    "dfVCHR = DataFrame(\n",
    "    UNIT = rand(dfOrgMaster.UNIT, sampleSize),\n",
    "    VCHR_DATE=rand(collect(Date(2020,1,1):Day(1):Date(2022,5,1)), sampleSize),\n",
    "    STATUS=rand([\"Closed\",\"Paid\",\"Open\",\"Cancelled\",\"Exception\"], sampleSize),\n",
    "    VENDOR_INVOICE_NUM = rand(10001:9999999, sampleSize),\n",
    "    VENDOR=rand(unique(dfVendor.companyName), sampleSize),\n",
    "    GUDID = rand(dfGUDIDdevice.PrimaryDI, sampleSize),\n",
    "    QTY = rand(1:150, sampleSize),\n",
    "    UNIT_PRICE = rand(Normal(100, 2), sampleSize)\n",
    "    );\n",
    "show(first(dfVCHR, 5),allcols=true)"
   ]
  },
  {
   "cell_type": "markdown",
   "metadata": {},
   "source": [
    "## SALES"
   ]
  },
  {
   "cell_type": "code",
   "execution_count": 80,
   "metadata": {},
   "outputs": [
    {
     "name": "stdout",
     "output_type": "stream",
     "text": [
      "\u001b[1m5×8 DataFrame\u001b[0m\n",
      "\u001b[1m Row \u001b[0m│\u001b[1m UNIT        \u001b[0m\u001b[1m SALES_DATE \u001b[0m\u001b[1m STATUS    \u001b[0m\u001b[1m SALES_RECEIPT_NUM \u001b[0m\u001b[1m CUSTOMER                          \u001b[0m\u001b[1m GUDID            \u001b[0m\u001b[1m QTY   \u001b[0m\u001b[1m UNIT_PRICE \u001b[0m\n",
      "\u001b[1m     \u001b[0m│\u001b[90m String      \u001b[0m\u001b[90m Date       \u001b[0m\u001b[90m String    \u001b[0m\u001b[90m Int64             \u001b[0m\u001b[90m Any                               \u001b[0m\u001b[90m Any              \u001b[0m\u001b[90m Int64 \u001b[0m\u001b[90m Float64    \u001b[0m\n",
      "─────┼───────────────────────────────────────────────────────────────────────────────────────────────────────────────────────────────\n",
      "   1 │ Support      2021-04-03  Pending              4775538  CUSTOM ORTHOPAEDIC SOLUTIONS, IN…  380652274807         80    100.989\n",
      "   2 │ IT           2021-06-15  Cancelled            8054668  PaloDEx Group Oy                   10653160319528       83     98.3144\n",
      "   3 │ ServiceCall  2021-09-16  Exception            5556389  AUS SYSTEMS PTY. LIMITED.          652221017635         46    100.07\n",
      "   4 │ IT           2021-10-12  Pending              3650090  ASSURE TECH. (HANGZHOU) CO., LTD.  817065021488        123     97.922\n",
      "   5 │ Support      2022-02-07  Exception            1485062  Pelvicbinder, Inc                  D00116716LD032E0     35    101.697"
     ]
    }
   ],
   "source": [
    "sampleSize = 1000 # number of rows, scale as needed\n",
    "\n",
    "dfREVENUE = DataFrame(\n",
    "    UNIT = rand(dfOrgMaster.UNIT, sampleSize),\n",
    "    SALES_DATE=rand(collect(Date(2020,1,1):Day(1):Date(2022,5,1)), sampleSize),\n",
    "    STATUS=rand([\"Sold\",\"Pending\",\"Hold\",\"Cancelled\",\"Exception\"], sampleSize),\n",
    "    SALES_RECEIPT_NUM = rand(10001:9999999, sampleSize),\n",
    "    CUSTOMER=rand(unique(dfVendor.companyName), sampleSize),\n",
    "    GUDID = rand(dfGUDIDdevice.PrimaryDI, sampleSize),\n",
    "    QTY = rand(1:150, sampleSize),\n",
    "    UNIT_PRICE = rand(Normal(100, 2), sampleSize)\n",
    "    );\n",
    "show(first(dfREVENUE, 5),allcols=true)"
   ]
  },
  {
   "cell_type": "markdown",
   "metadata": {},
   "source": [
    "## SHIPMENT, RECEIPT"
   ]
  },
  {
   "cell_type": "code",
   "execution_count": 82,
   "metadata": {},
   "outputs": [
    {
     "name": "stdout",
     "output_type": "stream",
     "text": [
      "\u001b[1m5×8 DataFrame\u001b[0m\n",
      "\u001b[1m Row \u001b[0m│\u001b[1m UNIT        \u001b[0m\u001b[1m SHIP_DATE  \u001b[0m\u001b[1m STATUS    \u001b[0m\u001b[1m SHIPMENT_NUM \u001b[0m\u001b[1m CUSTOMER                 \u001b[0m\u001b[1m GUDID             \u001b[0m\u001b[1m QTY   \u001b[0m\u001b[1m UNIT_PRICE \u001b[0m\n",
      "\u001b[1m     \u001b[0m│\u001b[90m String      \u001b[0m\u001b[90m Date       \u001b[0m\u001b[90m String    \u001b[0m\u001b[90m Int64        \u001b[0m\u001b[90m Any                      \u001b[0m\u001b[90m Any               \u001b[0m\u001b[90m Int64 \u001b[0m\u001b[90m Float64    \u001b[0m\n",
      "─────┼──────────────────────────────────────────────────────────────────────────────────────────────────────────────────\n",
      "   1 │ ServiceCall  2022-04-26  Shippped        3617596  ARUM DENTISTRY Co., Ltd.  M572TPS020143N011     14    101.686\n",
      "   2 │ ServiceCall  2022-02-28  Returned        9763965  EnviteC-Wismar GmbH       8806344370869         53     98.116\n",
      "   3 │ Support      2020-06-18  Exception       6876443  Xvivo Perfusion AB        8800057255178         10     96.342\n",
      "   4 │ Sourcing     2021-08-28  Returned        2856203  Airway Company, The       840159910191          63     99.6785\n",
      "   5 │ Sourcing     2020-01-20  Cancelled       8307309  SURGISTAR, INC.           10705034765433        42    100.203"
     ]
    }
   ],
   "source": [
    "sampleSize = 1000 # number of rows, scale as needed\n",
    "\n",
    "dfSHIPRECEIPT = DataFrame(\n",
    "    UNIT = rand(dfOrgMaster.UNIT, sampleSize),\n",
    "    SHIP_DATE=rand(collect(Date(2020,1,1):Day(1):Date(2022,5,1)), sampleSize),\n",
    "    STATUS=rand([\"Shippped\",\"Returned\",\"In process\",\"Cancelled\",\"Exception\"], sampleSize),\n",
    "    SHIPMENT_NUM = rand(10001:9999999, sampleSize),\n",
    "    CUSTOMER=rand(unique(dfVendor.companyName), sampleSize),\n",
    "    GUDID = rand(dfGUDIDdevice.PrimaryDI, sampleSize),\n",
    "    QTY = rand(1:150, sampleSize),\n",
    "    UNIT_PRICE = rand(Normal(100, 2), sampleSize)\n",
    "    );\n",
    "show(first(dfSHIPRECEIPT, 5),allcols=true)"
   ]
  },
  {
   "cell_type": "code",
   "execution_count": null,
   "metadata": {},
   "outputs": [],
   "source": []
  }
 ],
 "metadata": {
  "@webio": {
   "lastCommId": "cc4906c3096a4cdf8008983365b2ebab",
   "lastKernelId": "222a4d4f-0ee5-4cda-9ee5-db54f3ec3e98"
  },
  "kernelspec": {
   "display_name": "Julia (4 threads) 1.7.0",
   "language": "julia",
   "name": "julia-(4-threads)-1.7"
  },
  "language_info": {
   "file_extension": ".jl",
   "mimetype": "application/julia",
   "name": "julia",
   "version": "1.7.0"
  },
  "toc": {
   "base_numbering": 1,
   "nav_menu": {},
   "number_sections": true,
   "sideBar": true,
   "skip_h1_title": false,
   "title_cell": "Table of Contents",
   "title_sidebar": "Contents",
   "toc_cell": false,
   "toc_position": {},
   "toc_section_display": true,
   "toc_window_display": false
  }
 },
 "nbformat": 4,
 "nbformat_minor": 2
}
