{
 "cells": [
  {
   "cell_type": "markdown",
   "id": "2f463b6e",
   "metadata": {},
   "source": [
    "# WebScrapping, Web automation using Julia Langauge\n",
    "\n",
    "## AI Bot - automating document download using Chrome, Selenium webdriver\n",
    "\n",
    "**Objective** This AI bot, take print screens, download documents from web browser.\n",
    "AI Script, uses **headless chrome webdriver** for proxy browsing.\n",
    "\n",
    "Further, GUMBO and Cascadia packages are used to crawl and read web contents.\n",
    "\n",
    "- Related Article: how to parse XML/JSON files and convert into ORM\n",
    "- Related Article: how to Read Scanned Images and parse PDF files\n",
    "\n",
    "---\n",
    "\n",
    "+ First step is to [download chrome webdriver](https://chromedriver.chromium.org/downloads). Please make sure, webdriver version matches with your chrome version (Open Chrome -> Help -> About chrome -> check version).\n",
    "+ make sure to download appropriate version depending on machine OS and unzip/extract to a local folder.\n",
    "+ Open a terminal window, browse to directory where webdriver is downloaded and start webdriver as ./webdriver --url-base=/wd/hub\n",
    "\n",
    "following message should appear on your terminal window."
   ]
  },
  {
   "cell_type": "raw",
   "id": "fcb0ca8a",
   "metadata": {},
   "source": [
    "./chromedriver --url-base=/wd/hub\n",
    "Starting ChromeDriver 99.0.4844.51 (d537ec02474b5afe23684e7963d538896c63ac77-refs/branch-heads/4844@{#875}) on port 9515\n",
    "Only local connections are allowed.\n",
    "Please see https://chromedriver.chromium.org/security-considerations for suggestions on keeping ChromeDriver safe.\n",
    "ChromeDriver was started successfully.\n"
   ]
  },
  {
   "cell_type": "code",
   "execution_count": 1,
   "id": "04eca55f",
   "metadata": {},
   "outputs": [
    {
     "name": "stderr",
     "output_type": "stream",
     "text": [
      "\u001b[32m\u001b[1m    Updating\u001b[22m\u001b[39m registry at `~/.julia/registries/General`\n",
      "\u001b[32m\u001b[1m    Updating\u001b[22m\u001b[39m git-repo `https://github.com/JuliaRegistries/General.git`\n",
      "\u001b[32m\u001b[1m   Resolving\u001b[22m\u001b[39m package versions...\n",
      "\u001b[32m\u001b[1m  No Changes\u001b[22m\u001b[39m to `~/.julia/environments/v1.7/Project.toml`\n",
      "\u001b[32m\u001b[1m  No Changes\u001b[22m\u001b[39m to `~/.julia/environments/v1.7/Manifest.toml`\n"
     ]
    }
   ],
   "source": [
    "import Pkg\n",
    "Pkg.add(\"WebDriver\")"
   ]
  },
  {
   "cell_type": "code",
   "execution_count": 2,
   "id": "da2cc202",
   "metadata": {},
   "outputs": [
    {
     "data": {
      "text/plain": [
       "\"9515\""
      ]
     },
     "execution_count": 2,
     "metadata": {},
     "output_type": "execute_result"
    }
   ],
   "source": [
    "using WebDriver\n",
    "capabilities = Capabilities(\"chrome\")\n",
    "ENV[\"WEBDRIVER_HOST\"] = \"127.0.0.1\"\n",
    "ENV[\"WEBDRIVER_PORT\"] = \"9515\""
   ]
  },
  {
   "cell_type": "code",
   "execution_count": 3,
   "id": "9f1c1380",
   "metadata": {},
   "outputs": [
    {
     "data": {
      "text/plain": [
       "Remote WebDriver\n"
      ]
     },
     "execution_count": 3,
     "metadata": {},
     "output_type": "execute_result"
    }
   ],
   "source": [
    "wd = RemoteWebDriver(capabilities, host=ENV[\"WEBDRIVER_HOST\"], port=parse(Int, ENV[\"WEBDRIVER_PORT\"]))"
   ]
  },
  {
   "cell_type": "code",
   "execution_count": 18,
   "id": "440644ae",
   "metadata": {},
   "outputs": [
    {
     "data": {
      "text/plain": [
       "Session\n"
      ]
     },
     "execution_count": 18,
     "metadata": {},
     "output_type": "execute_result"
    }
   ],
   "source": [
    "session = Session(wd)"
   ]
  },
  {
   "cell_type": "code",
   "execution_count": 6,
   "id": "5c8fd4e7",
   "metadata": {},
   "outputs": [
    {
     "data": {
      "text/plain": [
       "1-element Vector{String}:\n",
       " \"f00406b9c4696534906c90d93e9bf492\""
      ]
     },
     "execution_count": 6,
     "metadata": {},
     "output_type": "execute_result"
    }
   ],
   "source": [
    "sessions(wd)"
   ]
  },
  {
   "cell_type": "code",
   "execution_count": 5,
   "id": "da2d3318",
   "metadata": {},
   "outputs": [
    {
     "data": {
      "text/plain": [
       "\"data:,\""
      ]
     },
     "execution_count": 5,
     "metadata": {},
     "output_type": "execute_result"
    }
   ],
   "source": [
    "current_url(session)"
   ]
  },
  {
   "cell_type": "code",
   "execution_count": 7,
   "id": "4a130392",
   "metadata": {},
   "outputs": [],
   "source": [
    "navigate!(session, \"https://clinicaltrials.gov\")"
   ]
  },
  {
   "cell_type": "markdown",
   "id": "6fda0543",
   "metadata": {},
   "source": [
    "once, website is open, in your chrome browser window, right click on Input or Button you want to search or click on.\n",
    "make sure, element is selected then click on copy -> copy xpath\n",
    "\n",
    "this is the xpath you want to pass in your Element method.\n",
    "\n",
    "    //*[@id=\"home-search-other-query\"]"
   ]
  },
  {
   "cell_type": "code",
   "execution_count": 8,
   "id": "8013d80c",
   "metadata": {},
   "outputs": [],
   "source": [
    "element = Element(session, \"xpath\", \"\"\"//*[@id=\"home-search-other-query\"]\"\"\")\n",
    "element_keys!(element, \"Cardiac Arrest\")"
   ]
  },
  {
   "cell_type": "code",
   "execution_count": 10,
   "id": "6158ef6b",
   "metadata": {},
   "outputs": [],
   "source": [
    "downloadbtn = Element(session, \"xpath\", \"\"\"//*[@id=\"save-list-link\"]\"\"\")\n",
    "click!(downloadbtn)"
   ]
  },
  {
   "cell_type": "code",
   "execution_count": 11,
   "id": "f98b0e6e",
   "metadata": {},
   "outputs": [],
   "source": [
    "savebtn = Element(session, \"xpath\", \"\"\"//*[@id=\"submit-download-list\"]\"\"\")\n",
    "click!(savebtn)"
   ]
  },
  {
   "cell_type": "markdown",
   "id": "0d4621c2",
   "metadata": {},
   "source": [
    "## Taking screen-shot and saving as png file"
   ]
  },
  {
   "cell_type": "code",
   "execution_count": 12,
   "id": "bde9e551",
   "metadata": {},
   "outputs": [
    {
     "data": {
      "text/plain": [
       "108173"
      ]
     },
     "execution_count": 12,
     "metadata": {},
     "output_type": "execute_result"
    }
   ],
   "source": [
    "using Base64\n",
    "ss = write(joinpath(@__DIR__, \"my_screenshot.png\"), base64decode(screenshot(session)))"
   ]
  },
  {
   "cell_type": "markdown",
   "id": "675284cc",
   "metadata": {},
   "source": [
    "## Webscrapping\n",
    "\n",
    "\n",
    "Gumbo.jl is a Julia wrapper around Google's gumbo library for parsing HTML \n",
    "\n",
    "and Cascadia.jl package is used for automatic extraction of information from html pages."
   ]
  },
  {
   "cell_type": "code",
   "execution_count": 13,
   "id": "85a6eca6",
   "metadata": {},
   "outputs": [
    {
     "name": "stderr",
     "output_type": "stream",
     "text": [
      "\u001b[32m\u001b[1m   Resolving\u001b[22m\u001b[39m package versions...\n",
      "\u001b[32m\u001b[1m  No Changes\u001b[22m\u001b[39m to `~/.julia/environments/v1.7/Project.toml`\n",
      "\u001b[32m\u001b[1m  No Changes\u001b[22m\u001b[39m to `~/.julia/environments/v1.7/Manifest.toml`\n",
      "\u001b[32m\u001b[1m   Resolving\u001b[22m\u001b[39m package versions...\n",
      "\u001b[32m\u001b[1m  No Changes\u001b[22m\u001b[39m to `~/.julia/environments/v1.7/Project.toml`\n",
      "\u001b[32m\u001b[1m  No Changes\u001b[22m\u001b[39m to `~/.julia/environments/v1.7/Manifest.toml`\n",
      "\u001b[32m\u001b[1m   Resolving\u001b[22m\u001b[39m package versions...\n",
      "\u001b[32m\u001b[1m   Installed\u001b[22m\u001b[39m Cascadia ─ v1.0.1\n",
      "\u001b[32m\u001b[1m    Updating\u001b[22m\u001b[39m `~/.julia/environments/v1.7/Project.toml`\n",
      " \u001b[90m [54eefc05] \u001b[39m\u001b[92m+ Cascadia v1.0.1\u001b[39m\n",
      "\u001b[32m\u001b[1m    Updating\u001b[22m\u001b[39m `~/.julia/environments/v1.7/Manifest.toml`\n",
      " \u001b[90m [54eefc05] \u001b[39m\u001b[92m+ Cascadia v1.0.1\u001b[39m\n",
      "\u001b[32m\u001b[1mPrecompiling\u001b[22m\u001b[39m project...\n",
      "\u001b[32m  ✓ \u001b[39mCascadia\n",
      "  1 dependency successfully precompiled in 0 seconds (76 already precompiled)\n"
     ]
    }
   ],
   "source": [
    "Pkg.add(\"HTTP\")\n",
    "Pkg.add(\"Gumbo\")\n",
    "Pkg.add(\"Cascadia\")"
   ]
  },
  {
   "cell_type": "markdown",
   "id": "ef1e8f41",
   "metadata": {},
   "source": [
    "## Download data from web page"
   ]
  },
  {
   "cell_type": "code",
   "execution_count": 35,
   "id": "c7d12ddd",
   "metadata": {},
   "outputs": [
    {
     "data": {
      "text/plain": [
       "1-element Vector{HTMLNode}:\n",
       " HTMLElement{:main}:<main data-pjax-container=\"\" id=\"js-pjax-container\">\n",
       "  <div class=\"mt-4 position-sticky top-0 d-none d-md-block color-bg-default width-full border-bottom\n",
       "    color-border-muted\" style=\"z-index:3;\">\n",
       "    <div class=\"container-xl px-3 px-md-4 px-lg-5\">\n",
       "      <div class=\"Layout Layout--flowRow-until-md Layout--sidebarPosition-start Layout--sidebarPosition-flowRow-start\" data-view-component=\"true\">\n",
       "        <div class=\"Layout-sidebar\" data-view-component=\"true\">\n",
       "          <div class=\"user-profile-sticky-bar\">\n",
       "            <div class=\"user-profile-mini-vcard d-table\">\n",
       "              <span class=\"user-profile-mini-avatar d-table-cell v-align-middle lh-condensed-ultra pr-2\">\n",
       "                <img alt=\"@AmitXShukla\" class=\"rounded-2 avatar-user\" height=\"32\" src=\"https://avatars.githubusercontent.com/u/20031132?s=64&amp;v=4\" width=\"32\"/>\n",
       "              </span>\n",
       "              <span class=\"d-table-cell v-align-middle lh-condensed\">\n",
       "                <strong>\n",
       "                  AmitXShukla\n",
       "                </strong>\n",
       "                <span class=\"user-following-container\">\n",
       "                  <span class=\"follow d-block\">\n",
       "                    <a class=\"btn btn-sm mini-follow-button\" data-hydro-click=\"{&quot;event_type&quot;:&quot;authentication.click&quot;,&quot;payload&quot;:{&quot;location_in_page&quot;:&quot;follow button&quot;,&quot;repository_id&quot;:null,&quot;auth_type&quot;:&quot;LOG_IN&quot;,&quot;originating_url&quot;:&quot;https://github.com/AmitXShukla&quot;,&quot;user_id&quot;:null}}\" data-hydro-click-hmac=\"8d03b63dbcad7c036d67a75a4e189d2cc66bf77bf9a603c39e4f02ffe8649a92\" href=\"/login?return_to=https%3A%2F%2Fgithub.com%2FAmitXShukla\">\n",
       "                      Follow\n",
       "                    </a>\n",
       "...\n"
      ]
     },
     "execution_count": 35,
     "metadata": {},
     "output_type": "execute_result"
    }
   ],
   "source": [
    "# download contact details from my GitHub page\n",
    "navigate!(session, \"https://github.com/AmitXShukla\")\n",
    "html = parsehtml(source(session))\n",
    "eachmatch(Selector(\"#js-pjax-container\"), html.root)"
   ]
  },
  {
   "cell_type": "code",
   "execution_count": 16,
   "id": "093b048a",
   "metadata": {},
   "outputs": [
    {
     "name": "stdout",
     "output_type": "stream",
     "text": [
      "StackOverflow Julia Questions (votes  answered?  url)\n"
     ]
    }
   ],
   "source": [
    "using Cascadia, Gumbo, HTTP\n",
    "\n",
    "r = HTTP.get(\"http://stackoverflow.com/questions/tagged/julia-lang\")\n",
    "h = parsehtml(String(r.body))\n",
    "\n",
    "qs = eachmatch(Selector(\".question-summary\"),h.root)\n",
    "\n",
    "println(\"StackOverflow Julia Questions (votes  answered?  url)\")\n",
    "\n",
    "for q in qs\n",
    "    votes = nodeText(eachmatch(Selector(\".votes .vote-count-post \"), q)[1])\n",
    "    answered = length(eachmatch(Selector(\".status.answered\"), q)) > 0 || length(eachmatch(Selector(\".status.answered-accepted\"), q)) > 0\n",
    "    href = eachmatch(Selector(\".question-hyperlink\"), q)[1].attributes[\"href\"]\n",
    "    votes, answered, \"http://stackoverflow.com\",href\n",
    "end"
   ]
  }
 ],
 "metadata": {
  "kernelspec": {
   "display_name": "Julia (4 threads) 1.7.0",
   "language": "julia",
   "name": "julia-(4-threads)-1.7"
  },
  "language_info": {
   "file_extension": ".jl",
   "mimetype": "application/julia",
   "name": "julia",
   "version": "1.7.0"
  },
  "toc": {
   "base_numbering": 1,
   "nav_menu": {},
   "number_sections": true,
   "sideBar": true,
   "skip_h1_title": false,
   "title_cell": "Table of Contents",
   "title_sidebar": "Contents",
   "toc_cell": false,
   "toc_position": {},
   "toc_section_display": true,
   "toc_window_display": false
  }
 },
 "nbformat": 4,
 "nbformat_minor": 5
}
